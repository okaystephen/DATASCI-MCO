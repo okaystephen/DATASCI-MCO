{
  "nbformat": 4,
  "nbformat_minor": 0,
  "metadata": {
    "colab": {
      "name": "DATASCI MCO.ipynb",
      "provenance": [],
      "collapsed_sections": [],
      "include_colab_link": true
    },
    "kernelspec": {
      "name": "python3",
      "display_name": "Python 3"
    },
    "language_info": {
      "name": "python"
    }
  },
  "cells": [
    {
      "cell_type": "markdown",
      "metadata": {
        "id": "view-in-github",
        "colab_type": "text"
      },
      "source": [
        "<a href=\"https://colab.research.google.com/github/okaystephen/DATASCI-MCO/blob/main/DATASCI_MCO.ipynb\" target=\"_parent\"><img src=\"https://colab.research.google.com/assets/colab-badge.svg\" alt=\"Open In Colab\"/></a>"
      ]
    },
    {
      "cell_type": "markdown",
      "metadata": {
        "id": "V6IPcmp9oYsk"
      },
      "source": [
        "###Cleaning"
      ]
    },
    {
      "cell_type": "markdown",
      "metadata": {
        "id": "NlqEPXlAocW1"
      },
      "source": [
        "* clean column names (ira)\n",
        "* clean kuwait (bly)\n",
        "* clean mum to Mother (ira)\n",
        "* clean lebanon (stephen)\n",
        "* clean outlier in grade 7 (Anj)\n",
        "* KW --> Kuwait (stephen)"
      ]
    },
    {
      "cell_type": "markdown",
      "metadata": {
        "id": "qbeyNAv0NQ8m"
      },
      "source": [
        "# **Student's Academic Performance** \n",
        "#### *Members: Beaverly Cuasi, Allexandra Domingo, Angeline Gubat, Stephen Salamante, Ira Villanueva  (S12 - Couch Data Scientists)*\n",
        "This notebook focuses on the Student's Academic Performance Dataset which can be found [here](https://www.kaggle.com/aljarah/xAPI-Edu-Datal). The first section shows the dataset information and dataset cleaning process, followed by data visualization using Exploratory Data Analysis (EDA). Lastly, this notebook aims to answer which factors affect a student’s academic grades. Specifically we wanted to know the following: <br><br>\n",
        "  * Do students who participate more have higher grades than those who participate less?\n",
        "  * Does parent participation and satisfaction affect a student’s performance?\n",
        "  * Do the number of class absences greatly affect the student’s grades?\n",
        "  * Does visiting class resources result in higher class grades?\n"
      ]
    },
    {
      "cell_type": "markdown",
      "metadata": {
        "id": "5BaWZMz2U8xI"
      },
      "source": [
        "### **Dataset Information**  \n",
        "The Student's Performance Dataset is collected from Kalboard 360, a learning management, using a learner activity tracker tool called experience API (xAPI). The dataset contains **480** observations (rows) across 16 features (columns). Below is a brief description of each features:  \n",
        "* **`gender`**: Student's gender <br>\n",
        "* **`NationallTy`**: Student's nationality <br>\n",
        "* **`PlaceofBirth`**: Student's place of birth <br>\n",
        "* **`StageID`**: Educational level that student belongs to <br>\n",
        "* **`GradeID`**: Grade level that student belongs to <br>\n",
        "* **`SectionID`**: Classroom that student belongs to<br>\n",
        "* **`Topic`**: Course topic <br>\n",
        "* **`Semester`**: Current semester in a school year <br>\n",
        "* **`Relation`**: Parent who is responsible for a student<br>\n",
        "* **`raisedhands`**: Total number of times a student raises his/her hand  <br>\n",
        "* **`VisITedResources`**: Total number of times a student visited a course content <br>\n",
        "* **`AnnouncementsView`**: Total number of times a student checks the announcements <br>\n",
        "* **`Discussion`**: Total number of times a student participates on discussion groups <br>\n",
        "* **`ParentAnsweringSurvey`**: If a parent answered surveys provided by the school <br>\n",
        "* **`ParentSchoolSatisfaction`**: If a parent is satisfied or not <br>\n",
        "* **`StudentAbsenceDays`**: Total number of days that a student is absent <br>\n",
        "* **`Class`**: Represents the interval of a student total grade <br>\n",
        "  * _Low_: interval includes values from 0 to 69\n",
        "  * _Middle_: interval includes values from 70 to 89\n",
        "  * _High_: interval includes values from 90-100"
      ]
    },
    {
      "cell_type": "markdown",
      "metadata": {
        "id": "T3cRkz2LkPms"
      },
      "source": [
        "Let's view the observations and features of the dataset. But first, let's import the needed libraries for this notebook."
      ]
    },
    {
      "cell_type": "code",
      "metadata": {
        "id": "S-8FIgu3lomu"
      },
      "source": [
        "import pandas as pd\n",
        "import numpy as np\n",
        "import matplotlib.pyplot as plt\n",
        "import seaborn as sns"
      ],
      "execution_count": 2,
      "outputs": []
    },
    {
      "cell_type": "markdown",
      "metadata": {
        "id": "STzZAlygl_Gz"
      },
      "source": [
        "Using `read_csv`, we will loading the dataset (xAPI-Edu-Data.csv) into a DataFrame."
      ]
    },
    {
      "cell_type": "code",
      "metadata": {
        "colab": {
          "base_uri": "https://localhost:8080/",
          "height": 224
        },
        "id": "wMpXFpxjndrL",
        "outputId": "d4fa7069-f7ef-4237-f3e2-30272940f02b"
      },
      "source": [
        "url = 'https://raw.githubusercontent.com/okaystephen/DATASCI-MCO/main/xAPI-Edu-Data.csv'\n",
        "spd_df = pd.read_csv(url)  \n",
        "\n",
        "# First 5 rows in the dataset:\n",
        "spd_df.head()"
      ],
      "execution_count": 3,
      "outputs": [
        {
          "output_type": "execute_result",
          "data": {
            "text/html": [
              "<div>\n",
              "<style scoped>\n",
              "    .dataframe tbody tr th:only-of-type {\n",
              "        vertical-align: middle;\n",
              "    }\n",
              "\n",
              "    .dataframe tbody tr th {\n",
              "        vertical-align: top;\n",
              "    }\n",
              "\n",
              "    .dataframe thead th {\n",
              "        text-align: right;\n",
              "    }\n",
              "</style>\n",
              "<table border=\"1\" class=\"dataframe\">\n",
              "  <thead>\n",
              "    <tr style=\"text-align: right;\">\n",
              "      <th></th>\n",
              "      <th>gender</th>\n",
              "      <th>NationalITy</th>\n",
              "      <th>PlaceofBirth</th>\n",
              "      <th>StageID</th>\n",
              "      <th>GradeID</th>\n",
              "      <th>SectionID</th>\n",
              "      <th>Topic</th>\n",
              "      <th>Semester</th>\n",
              "      <th>Relation</th>\n",
              "      <th>raisedhands</th>\n",
              "      <th>VisITedResources</th>\n",
              "      <th>AnnouncementsView</th>\n",
              "      <th>Discussion</th>\n",
              "      <th>ParentAnsweringSurvey</th>\n",
              "      <th>ParentschoolSatisfaction</th>\n",
              "      <th>StudentAbsenceDays</th>\n",
              "      <th>Class</th>\n",
              "    </tr>\n",
              "  </thead>\n",
              "  <tbody>\n",
              "    <tr>\n",
              "      <th>0</th>\n",
              "      <td>M</td>\n",
              "      <td>KW</td>\n",
              "      <td>KuwaIT</td>\n",
              "      <td>lowerlevel</td>\n",
              "      <td>G-04</td>\n",
              "      <td>A</td>\n",
              "      <td>IT</td>\n",
              "      <td>F</td>\n",
              "      <td>Father</td>\n",
              "      <td>15</td>\n",
              "      <td>16</td>\n",
              "      <td>2</td>\n",
              "      <td>20</td>\n",
              "      <td>Yes</td>\n",
              "      <td>Good</td>\n",
              "      <td>Under-7</td>\n",
              "      <td>M</td>\n",
              "    </tr>\n",
              "    <tr>\n",
              "      <th>1</th>\n",
              "      <td>M</td>\n",
              "      <td>KW</td>\n",
              "      <td>KuwaIT</td>\n",
              "      <td>lowerlevel</td>\n",
              "      <td>G-04</td>\n",
              "      <td>A</td>\n",
              "      <td>IT</td>\n",
              "      <td>F</td>\n",
              "      <td>Father</td>\n",
              "      <td>20</td>\n",
              "      <td>20</td>\n",
              "      <td>3</td>\n",
              "      <td>25</td>\n",
              "      <td>Yes</td>\n",
              "      <td>Good</td>\n",
              "      <td>Under-7</td>\n",
              "      <td>M</td>\n",
              "    </tr>\n",
              "    <tr>\n",
              "      <th>2</th>\n",
              "      <td>M</td>\n",
              "      <td>KW</td>\n",
              "      <td>KuwaIT</td>\n",
              "      <td>lowerlevel</td>\n",
              "      <td>G-04</td>\n",
              "      <td>A</td>\n",
              "      <td>IT</td>\n",
              "      <td>F</td>\n",
              "      <td>Father</td>\n",
              "      <td>10</td>\n",
              "      <td>7</td>\n",
              "      <td>0</td>\n",
              "      <td>30</td>\n",
              "      <td>No</td>\n",
              "      <td>Bad</td>\n",
              "      <td>Above-7</td>\n",
              "      <td>L</td>\n",
              "    </tr>\n",
              "    <tr>\n",
              "      <th>3</th>\n",
              "      <td>M</td>\n",
              "      <td>KW</td>\n",
              "      <td>KuwaIT</td>\n",
              "      <td>lowerlevel</td>\n",
              "      <td>G-04</td>\n",
              "      <td>A</td>\n",
              "      <td>IT</td>\n",
              "      <td>F</td>\n",
              "      <td>Father</td>\n",
              "      <td>30</td>\n",
              "      <td>25</td>\n",
              "      <td>5</td>\n",
              "      <td>35</td>\n",
              "      <td>No</td>\n",
              "      <td>Bad</td>\n",
              "      <td>Above-7</td>\n",
              "      <td>L</td>\n",
              "    </tr>\n",
              "    <tr>\n",
              "      <th>4</th>\n",
              "      <td>M</td>\n",
              "      <td>KW</td>\n",
              "      <td>KuwaIT</td>\n",
              "      <td>lowerlevel</td>\n",
              "      <td>G-04</td>\n",
              "      <td>A</td>\n",
              "      <td>IT</td>\n",
              "      <td>F</td>\n",
              "      <td>Father</td>\n",
              "      <td>40</td>\n",
              "      <td>50</td>\n",
              "      <td>12</td>\n",
              "      <td>50</td>\n",
              "      <td>No</td>\n",
              "      <td>Bad</td>\n",
              "      <td>Above-7</td>\n",
              "      <td>M</td>\n",
              "    </tr>\n",
              "  </tbody>\n",
              "</table>\n",
              "</div>"
            ],
            "text/plain": [
              "  gender NationalITy  ... StudentAbsenceDays Class\n",
              "0      M          KW  ...            Under-7     M\n",
              "1      M          KW  ...            Under-7     M\n",
              "2      M          KW  ...            Above-7     L\n",
              "3      M          KW  ...            Above-7     L\n",
              "4      M          KW  ...            Above-7     M\n",
              "\n",
              "[5 rows x 17 columns]"
            ]
          },
          "metadata": {
            "tags": []
          },
          "execution_count": 3
        }
      ]
    },
    {
      "cell_type": "markdown",
      "metadata": {
        "id": "U0xIyjOvogV0"
      },
      "source": [
        "Let's see now its general information using info() function."
      ]
    },
    {
      "cell_type": "code",
      "metadata": {
        "colab": {
          "base_uri": "https://localhost:8080/"
        },
        "id": "tFWQHA6couuq",
        "outputId": "b43def7f-28ea-4991-93e2-7951bc808a05"
      },
      "source": [
        "# Dataset's variables type:\n",
        "spd_df.info()"
      ],
      "execution_count": 4,
      "outputs": [
        {
          "output_type": "stream",
          "text": [
            "<class 'pandas.core.frame.DataFrame'>\n",
            "RangeIndex: 480 entries, 0 to 479\n",
            "Data columns (total 17 columns):\n",
            " #   Column                    Non-Null Count  Dtype \n",
            "---  ------                    --------------  ----- \n",
            " 0   gender                    480 non-null    object\n",
            " 1   NationalITy               480 non-null    object\n",
            " 2   PlaceofBirth              480 non-null    object\n",
            " 3   StageID                   480 non-null    object\n",
            " 4   GradeID                   480 non-null    object\n",
            " 5   SectionID                 480 non-null    object\n",
            " 6   Topic                     480 non-null    object\n",
            " 7   Semester                  480 non-null    object\n",
            " 8   Relation                  480 non-null    object\n",
            " 9   raisedhands               480 non-null    int64 \n",
            " 10  VisITedResources          480 non-null    int64 \n",
            " 11  AnnouncementsView         480 non-null    int64 \n",
            " 12  Discussion                480 non-null    int64 \n",
            " 13  ParentAnsweringSurvey     480 non-null    object\n",
            " 14  ParentschoolSatisfaction  480 non-null    object\n",
            " 15  StudentAbsenceDays        480 non-null    object\n",
            " 16  Class                     480 non-null    object\n",
            "dtypes: int64(4), object(13)\n",
            "memory usage: 63.9+ KB\n"
          ],
          "name": "stdout"
        }
      ]
    },
    {
      "cell_type": "code",
      "metadata": {
        "colab": {
          "base_uri": "https://localhost:8080/"
        },
        "id": "EPDbCiXjqmsV",
        "outputId": "43adeae1-32cb-4157-873c-6c882111ded6"
      },
      "source": [
        "spd_df.isnull().sum()"
      ],
      "execution_count": null,
      "outputs": [
        {
          "output_type": "execute_result",
          "data": {
            "text/plain": [
              "gender                      0\n",
              "NationalITy                 0\n",
              "PlaceofBirth                0\n",
              "StageID                     0\n",
              "GradeID                     0\n",
              "SectionID                   0\n",
              "Topic                       0\n",
              "Semester                    0\n",
              "Relation                    0\n",
              "raisedhands                 0\n",
              "VisITedResources            0\n",
              "AnnouncementsView           0\n",
              "Discussion                  0\n",
              "ParentAnsweringSurvey       0\n",
              "ParentschoolSatisfaction    0\n",
              "StudentAbsenceDays          0\n",
              "Class                       0\n",
              "dtype: int64"
            ]
          },
          "metadata": {
            "tags": []
          },
          "execution_count": 22
        }
      ]
    },
    {
      "cell_type": "markdown",
      "metadata": {
        "id": "jC8D9CA-o9mZ"
      },
      "source": [
        "We can see that there are no null values or missing values in any columns so there will be no problem in the dataset in handling null or NaN values. Before analyzing our data, let's further explore the dataset for data cleaning.  \n",
        "### **Data Cleaning**  <br>\n",
        "#### **Renaming feature names**  \n",
        "When we viewed the information of the dataset, we saw that some column names doesn't have the same format. Some columns are all in lowercase while some letters are capitalized like `NationalITy` and `VisITedResources`. It is a good approach to rename columns to ones that can be easily recalled later on. Here are the columns that we will be renaming:  \n",
        "* NationalITy --> Nationality\n",
        "* PlaceofBirth --> BirthPlace\n",
        "* VisITedResources --> VistedResources\n",
        "* ParentschoolSatisfaction --> ParentSchoolSatisfaction\n",
        "* raisedhands --> RaisedHands"
      ]
    },
    {
      "cell_type": "code",
      "metadata": {
        "id": "Nb7pnOnUxk23"
      },
      "source": [
        "spd_df.rename(columns={'NationalITy':'Nationality',\n",
        "'PlaceofBirth': 'BirthPlace',\n",
        "'gender': 'Gender',\n",
        "'VisITedResources':'VisitedResources',\n",
        "'ParentschoolSatisfaction':'ParentSchoolSatisfaction',\n",
        "'raisedhands':'RaisedHands'}, inplace=True) "
      ],
      "execution_count": 5,
      "outputs": []
    },
    {
      "cell_type": "markdown",
      "metadata": {
        "id": "JqUWGuu6zN4X"
      },
      "source": [
        "Let's view the dataset with the renamed columns."
      ]
    },
    {
      "cell_type": "code",
      "metadata": {
        "colab": {
          "base_uri": "https://localhost:8080/",
          "height": 224
        },
        "id": "8RASwgzAzSPl",
        "outputId": "569915db-9cde-4c77-e426-f63f7442ad8e"
      },
      "source": [
        "spd_df.head()"
      ],
      "execution_count": 6,
      "outputs": [
        {
          "output_type": "execute_result",
          "data": {
            "text/html": [
              "<div>\n",
              "<style scoped>\n",
              "    .dataframe tbody tr th:only-of-type {\n",
              "        vertical-align: middle;\n",
              "    }\n",
              "\n",
              "    .dataframe tbody tr th {\n",
              "        vertical-align: top;\n",
              "    }\n",
              "\n",
              "    .dataframe thead th {\n",
              "        text-align: right;\n",
              "    }\n",
              "</style>\n",
              "<table border=\"1\" class=\"dataframe\">\n",
              "  <thead>\n",
              "    <tr style=\"text-align: right;\">\n",
              "      <th></th>\n",
              "      <th>Gender</th>\n",
              "      <th>Nationality</th>\n",
              "      <th>BirthPlace</th>\n",
              "      <th>StageID</th>\n",
              "      <th>GradeID</th>\n",
              "      <th>SectionID</th>\n",
              "      <th>Topic</th>\n",
              "      <th>Semester</th>\n",
              "      <th>Relation</th>\n",
              "      <th>RaisedHands</th>\n",
              "      <th>VisitedResources</th>\n",
              "      <th>AnnouncementsView</th>\n",
              "      <th>Discussion</th>\n",
              "      <th>ParentAnsweringSurvey</th>\n",
              "      <th>ParentSchoolSatisfaction</th>\n",
              "      <th>StudentAbsenceDays</th>\n",
              "      <th>Class</th>\n",
              "    </tr>\n",
              "  </thead>\n",
              "  <tbody>\n",
              "    <tr>\n",
              "      <th>0</th>\n",
              "      <td>M</td>\n",
              "      <td>KW</td>\n",
              "      <td>KuwaIT</td>\n",
              "      <td>lowerlevel</td>\n",
              "      <td>G-04</td>\n",
              "      <td>A</td>\n",
              "      <td>IT</td>\n",
              "      <td>F</td>\n",
              "      <td>Father</td>\n",
              "      <td>15</td>\n",
              "      <td>16</td>\n",
              "      <td>2</td>\n",
              "      <td>20</td>\n",
              "      <td>Yes</td>\n",
              "      <td>Good</td>\n",
              "      <td>Under-7</td>\n",
              "      <td>M</td>\n",
              "    </tr>\n",
              "    <tr>\n",
              "      <th>1</th>\n",
              "      <td>M</td>\n",
              "      <td>KW</td>\n",
              "      <td>KuwaIT</td>\n",
              "      <td>lowerlevel</td>\n",
              "      <td>G-04</td>\n",
              "      <td>A</td>\n",
              "      <td>IT</td>\n",
              "      <td>F</td>\n",
              "      <td>Father</td>\n",
              "      <td>20</td>\n",
              "      <td>20</td>\n",
              "      <td>3</td>\n",
              "      <td>25</td>\n",
              "      <td>Yes</td>\n",
              "      <td>Good</td>\n",
              "      <td>Under-7</td>\n",
              "      <td>M</td>\n",
              "    </tr>\n",
              "    <tr>\n",
              "      <th>2</th>\n",
              "      <td>M</td>\n",
              "      <td>KW</td>\n",
              "      <td>KuwaIT</td>\n",
              "      <td>lowerlevel</td>\n",
              "      <td>G-04</td>\n",
              "      <td>A</td>\n",
              "      <td>IT</td>\n",
              "      <td>F</td>\n",
              "      <td>Father</td>\n",
              "      <td>10</td>\n",
              "      <td>7</td>\n",
              "      <td>0</td>\n",
              "      <td>30</td>\n",
              "      <td>No</td>\n",
              "      <td>Bad</td>\n",
              "      <td>Above-7</td>\n",
              "      <td>L</td>\n",
              "    </tr>\n",
              "    <tr>\n",
              "      <th>3</th>\n",
              "      <td>M</td>\n",
              "      <td>KW</td>\n",
              "      <td>KuwaIT</td>\n",
              "      <td>lowerlevel</td>\n",
              "      <td>G-04</td>\n",
              "      <td>A</td>\n",
              "      <td>IT</td>\n",
              "      <td>F</td>\n",
              "      <td>Father</td>\n",
              "      <td>30</td>\n",
              "      <td>25</td>\n",
              "      <td>5</td>\n",
              "      <td>35</td>\n",
              "      <td>No</td>\n",
              "      <td>Bad</td>\n",
              "      <td>Above-7</td>\n",
              "      <td>L</td>\n",
              "    </tr>\n",
              "    <tr>\n",
              "      <th>4</th>\n",
              "      <td>M</td>\n",
              "      <td>KW</td>\n",
              "      <td>KuwaIT</td>\n",
              "      <td>lowerlevel</td>\n",
              "      <td>G-04</td>\n",
              "      <td>A</td>\n",
              "      <td>IT</td>\n",
              "      <td>F</td>\n",
              "      <td>Father</td>\n",
              "      <td>40</td>\n",
              "      <td>50</td>\n",
              "      <td>12</td>\n",
              "      <td>50</td>\n",
              "      <td>No</td>\n",
              "      <td>Bad</td>\n",
              "      <td>Above-7</td>\n",
              "      <td>M</td>\n",
              "    </tr>\n",
              "  </tbody>\n",
              "</table>\n",
              "</div>"
            ],
            "text/plain": [
              "  Gender Nationality  ... StudentAbsenceDays Class\n",
              "0      M          KW  ...            Under-7     M\n",
              "1      M          KW  ...            Under-7     M\n",
              "2      M          KW  ...            Above-7     L\n",
              "3      M          KW  ...            Above-7     L\n",
              "4      M          KW  ...            Above-7     M\n",
              "\n",
              "[5 rows x 17 columns]"
            ]
          },
          "metadata": {
            "tags": []
          },
          "execution_count": 6
        }
      ]
    },
    {
      "cell_type": "markdown",
      "metadata": {
        "id": "S8ZYf_i501gc"
      },
      "source": [
        "#### **Renaming Mum to Mother in Relation Column**  \n",
        "It's also important to ensure that the data values is consistent and uniformed within the dataset especially inside a feature column. Let's check the `Relation` column in the dataset and view its unique values.  "
      ]
    },
    {
      "cell_type": "code",
      "metadata": {
        "id": "ewFVnaiaptGT",
        "colab": {
          "base_uri": "https://localhost:8080/"
        },
        "outputId": "f1baaf17-d4b8-4247-e945-2e04f2cd39ec"
      },
      "source": [
        "spd_df['Relation'].unique()"
      ],
      "execution_count": 7,
      "outputs": [
        {
          "output_type": "execute_result",
          "data": {
            "text/plain": [
              "array(['Father', 'Mum'], dtype=object)"
            ]
          },
          "metadata": {
            "tags": []
          },
          "execution_count": 7
        }
      ]
    },
    {
      "cell_type": "markdown",
      "metadata": {
        "id": "20sZlbaMqoQS"
      },
      "source": [
        "For uniformity, we will be renaming Mum to Mother."
      ]
    },
    {
      "cell_type": "code",
      "metadata": {
        "colab": {
          "base_uri": "https://localhost:8080/"
        },
        "id": "L0IolrCNrF25",
        "outputId": "2edcf4a2-ceb9-45c2-f400-60657514efda"
      },
      "source": [
        "spd_df['Relation'].replace({'Mum':'Mother'}, inplace=True)\n",
        "spd_df['Relation'].unique()"
      ],
      "execution_count": 8,
      "outputs": [
        {
          "output_type": "execute_result",
          "data": {
            "text/plain": [
              "array(['Father', 'Mother'], dtype=object)"
            ]
          },
          "metadata": {
            "tags": []
          },
          "execution_count": 8
        }
      ]
    },
    {
      "cell_type": "markdown",
      "metadata": {
        "id": "LV-uLQkql9rE"
      },
      "source": [
        "#### **Renaming countries from the `BirthPlace` column**  "
      ]
    },
    {
      "cell_type": "markdown",
      "metadata": {
        "id": "lzMIQzPYmYfI"
      },
      "source": [
        "Let's turn `lebanon` into `Lebanon`."
      ]
    },
    {
      "cell_type": "code",
      "metadata": {
        "id": "6uPLx2bDnD-T"
      },
      "source": [
        "spd_df.replace({'BirthPlace': {'lebanon': 'Lebanon'}}, inplace=True)"
      ],
      "execution_count": 9,
      "outputs": []
    },
    {
      "cell_type": "code",
      "metadata": {
        "colab": {
          "base_uri": "https://localhost:8080/"
        },
        "id": "b0bRfInOmkqB",
        "outputId": "406a6a4b-e45d-4bc9-bbc0-aca6b78d2ef6"
      },
      "source": [
        "spd_df['BirthPlace'].unique()"
      ],
      "execution_count": 10,
      "outputs": [
        {
          "output_type": "execute_result",
          "data": {
            "text/plain": [
              "array(['KuwaIT', 'Lebanon', 'Egypt', 'SaudiArabia', 'USA', 'Jordan',\n",
              "       'venzuela', 'Iran', 'Tunis', 'Morocco', 'Syria', 'Iraq',\n",
              "       'Palestine', 'Lybia'], dtype=object)"
            ]
          },
          "metadata": {
            "tags": []
          },
          "execution_count": 10
        }
      ]
    },
    {
      "cell_type": "markdown",
      "metadata": {
        "id": "HuX6a-Cxn1mO"
      },
      "source": [
        "#### **Renaming countries from the `Nationality` column**  "
      ]
    },
    {
      "cell_type": "markdown",
      "metadata": {
        "id": "4DaTuJWroA58"
      },
      "source": [
        "Let's turn `KW` into `Kuwait`."
      ]
    },
    {
      "cell_type": "code",
      "metadata": {
        "id": "YLwyv7qVoGH8"
      },
      "source": [
        "spd_df[spd_df['Nationality'] == 'KW'] = 'Kuwait' "
      ],
      "execution_count": 26,
      "outputs": []
    },
    {
      "cell_type": "code",
      "metadata": {
        "colab": {
          "base_uri": "https://localhost:8080/"
        },
        "id": "ArJFox0onwXN",
        "outputId": "3b46bd79-ca2a-4b66-b009-98adb4e922ee"
      },
      "source": [
        "spd_df['Nationality'].unique()"
      ],
      "execution_count": 27,
      "outputs": [
        {
          "output_type": "execute_result",
          "data": {
            "text/plain": [
              "array(['Kuwait', 'lebanon', 'Egypt', 'SaudiArabia', 'USA', 'Jordan',\n",
              "       'venzuela', 'Iran', 'Tunis', 'Morocco', 'Syria', 'Palestine',\n",
              "       'Iraq', 'Lybia'], dtype=object)"
            ]
          },
          "metadata": {
            "tags": []
          },
          "execution_count": 27
        }
      ]
    },
    {
      "cell_type": "code",
      "metadata": {
        "colab": {
          "base_uri": "https://localhost:8080/",
          "height": 439
        },
        "id": "eIxLuYwUoLFl",
        "outputId": "c14d8f5e-0d38-4169-9e14-cfcfe36356fc"
      },
      "source": [
        "spd_df"
      ],
      "execution_count": null,
      "outputs": [
        {
          "output_type": "execute_result",
          "data": {
            "text/html": [
              "<div>\n",
              "<style scoped>\n",
              "    .dataframe tbody tr th:only-of-type {\n",
              "        vertical-align: middle;\n",
              "    }\n",
              "\n",
              "    .dataframe tbody tr th {\n",
              "        vertical-align: top;\n",
              "    }\n",
              "\n",
              "    .dataframe thead th {\n",
              "        text-align: right;\n",
              "    }\n",
              "</style>\n",
              "<table border=\"1\" class=\"dataframe\">\n",
              "  <thead>\n",
              "    <tr style=\"text-align: right;\">\n",
              "      <th></th>\n",
              "      <th>Gender</th>\n",
              "      <th>Nationality</th>\n",
              "      <th>BirthPlace</th>\n",
              "      <th>StageID</th>\n",
              "      <th>GradeID</th>\n",
              "      <th>SectionID</th>\n",
              "      <th>Topic</th>\n",
              "      <th>Semester</th>\n",
              "      <th>Relation</th>\n",
              "      <th>RaisedHands</th>\n",
              "      <th>VisitedResources</th>\n",
              "      <th>AnnouncementsView</th>\n",
              "      <th>Discussion</th>\n",
              "      <th>ParentAnsweringSurvey</th>\n",
              "      <th>ParentSchoolSatisfaction</th>\n",
              "      <th>StudentAbsenceDays</th>\n",
              "      <th>Class</th>\n",
              "    </tr>\n",
              "  </thead>\n",
              "  <tbody>\n",
              "    <tr>\n",
              "      <th>0</th>\n",
              "      <td>Kuwait</td>\n",
              "      <td>Kuwait</td>\n",
              "      <td>Kuwait</td>\n",
              "      <td>Kuwait</td>\n",
              "      <td>Kuwait</td>\n",
              "      <td>Kuwait</td>\n",
              "      <td>Kuwait</td>\n",
              "      <td>Kuwait</td>\n",
              "      <td>Kuwait</td>\n",
              "      <td>Kuwait</td>\n",
              "      <td>Kuwait</td>\n",
              "      <td>Kuwait</td>\n",
              "      <td>Kuwait</td>\n",
              "      <td>Kuwait</td>\n",
              "      <td>Kuwait</td>\n",
              "      <td>Kuwait</td>\n",
              "      <td>Kuwait</td>\n",
              "    </tr>\n",
              "    <tr>\n",
              "      <th>1</th>\n",
              "      <td>Kuwait</td>\n",
              "      <td>Kuwait</td>\n",
              "      <td>Kuwait</td>\n",
              "      <td>Kuwait</td>\n",
              "      <td>Kuwait</td>\n",
              "      <td>Kuwait</td>\n",
              "      <td>Kuwait</td>\n",
              "      <td>Kuwait</td>\n",
              "      <td>Kuwait</td>\n",
              "      <td>Kuwait</td>\n",
              "      <td>Kuwait</td>\n",
              "      <td>Kuwait</td>\n",
              "      <td>Kuwait</td>\n",
              "      <td>Kuwait</td>\n",
              "      <td>Kuwait</td>\n",
              "      <td>Kuwait</td>\n",
              "      <td>Kuwait</td>\n",
              "    </tr>\n",
              "    <tr>\n",
              "      <th>2</th>\n",
              "      <td>Kuwait</td>\n",
              "      <td>Kuwait</td>\n",
              "      <td>Kuwait</td>\n",
              "      <td>Kuwait</td>\n",
              "      <td>Kuwait</td>\n",
              "      <td>Kuwait</td>\n",
              "      <td>Kuwait</td>\n",
              "      <td>Kuwait</td>\n",
              "      <td>Kuwait</td>\n",
              "      <td>Kuwait</td>\n",
              "      <td>Kuwait</td>\n",
              "      <td>Kuwait</td>\n",
              "      <td>Kuwait</td>\n",
              "      <td>Kuwait</td>\n",
              "      <td>Kuwait</td>\n",
              "      <td>Kuwait</td>\n",
              "      <td>Kuwait</td>\n",
              "    </tr>\n",
              "    <tr>\n",
              "      <th>3</th>\n",
              "      <td>Kuwait</td>\n",
              "      <td>Kuwait</td>\n",
              "      <td>Kuwait</td>\n",
              "      <td>Kuwait</td>\n",
              "      <td>Kuwait</td>\n",
              "      <td>Kuwait</td>\n",
              "      <td>Kuwait</td>\n",
              "      <td>Kuwait</td>\n",
              "      <td>Kuwait</td>\n",
              "      <td>Kuwait</td>\n",
              "      <td>Kuwait</td>\n",
              "      <td>Kuwait</td>\n",
              "      <td>Kuwait</td>\n",
              "      <td>Kuwait</td>\n",
              "      <td>Kuwait</td>\n",
              "      <td>Kuwait</td>\n",
              "      <td>Kuwait</td>\n",
              "    </tr>\n",
              "    <tr>\n",
              "      <th>4</th>\n",
              "      <td>Kuwait</td>\n",
              "      <td>Kuwait</td>\n",
              "      <td>Kuwait</td>\n",
              "      <td>Kuwait</td>\n",
              "      <td>Kuwait</td>\n",
              "      <td>Kuwait</td>\n",
              "      <td>Kuwait</td>\n",
              "      <td>Kuwait</td>\n",
              "      <td>Kuwait</td>\n",
              "      <td>Kuwait</td>\n",
              "      <td>Kuwait</td>\n",
              "      <td>Kuwait</td>\n",
              "      <td>Kuwait</td>\n",
              "      <td>Kuwait</td>\n",
              "      <td>Kuwait</td>\n",
              "      <td>Kuwait</td>\n",
              "      <td>Kuwait</td>\n",
              "    </tr>\n",
              "    <tr>\n",
              "      <th>...</th>\n",
              "      <td>...</td>\n",
              "      <td>...</td>\n",
              "      <td>...</td>\n",
              "      <td>...</td>\n",
              "      <td>...</td>\n",
              "      <td>...</td>\n",
              "      <td>...</td>\n",
              "      <td>...</td>\n",
              "      <td>...</td>\n",
              "      <td>...</td>\n",
              "      <td>...</td>\n",
              "      <td>...</td>\n",
              "      <td>...</td>\n",
              "      <td>...</td>\n",
              "      <td>...</td>\n",
              "      <td>...</td>\n",
              "      <td>...</td>\n",
              "    </tr>\n",
              "    <tr>\n",
              "      <th>475</th>\n",
              "      <td>F</td>\n",
              "      <td>Jordan</td>\n",
              "      <td>Jordan</td>\n",
              "      <td>MiddleSchool</td>\n",
              "      <td>G-08</td>\n",
              "      <td>A</td>\n",
              "      <td>Chemistry</td>\n",
              "      <td>S</td>\n",
              "      <td>Father</td>\n",
              "      <td>5</td>\n",
              "      <td>4</td>\n",
              "      <td>5</td>\n",
              "      <td>8</td>\n",
              "      <td>No</td>\n",
              "      <td>Bad</td>\n",
              "      <td>Above-7</td>\n",
              "      <td>L</td>\n",
              "    </tr>\n",
              "    <tr>\n",
              "      <th>476</th>\n",
              "      <td>F</td>\n",
              "      <td>Jordan</td>\n",
              "      <td>Jordan</td>\n",
              "      <td>MiddleSchool</td>\n",
              "      <td>G-08</td>\n",
              "      <td>A</td>\n",
              "      <td>Geology</td>\n",
              "      <td>F</td>\n",
              "      <td>Father</td>\n",
              "      <td>50</td>\n",
              "      <td>77</td>\n",
              "      <td>14</td>\n",
              "      <td>28</td>\n",
              "      <td>No</td>\n",
              "      <td>Bad</td>\n",
              "      <td>Under-7</td>\n",
              "      <td>M</td>\n",
              "    </tr>\n",
              "    <tr>\n",
              "      <th>477</th>\n",
              "      <td>F</td>\n",
              "      <td>Jordan</td>\n",
              "      <td>Jordan</td>\n",
              "      <td>MiddleSchool</td>\n",
              "      <td>G-08</td>\n",
              "      <td>A</td>\n",
              "      <td>Geology</td>\n",
              "      <td>S</td>\n",
              "      <td>Father</td>\n",
              "      <td>55</td>\n",
              "      <td>74</td>\n",
              "      <td>25</td>\n",
              "      <td>29</td>\n",
              "      <td>No</td>\n",
              "      <td>Bad</td>\n",
              "      <td>Under-7</td>\n",
              "      <td>M</td>\n",
              "    </tr>\n",
              "    <tr>\n",
              "      <th>478</th>\n",
              "      <td>F</td>\n",
              "      <td>Jordan</td>\n",
              "      <td>Jordan</td>\n",
              "      <td>MiddleSchool</td>\n",
              "      <td>G-08</td>\n",
              "      <td>A</td>\n",
              "      <td>History</td>\n",
              "      <td>F</td>\n",
              "      <td>Father</td>\n",
              "      <td>30</td>\n",
              "      <td>17</td>\n",
              "      <td>14</td>\n",
              "      <td>57</td>\n",
              "      <td>No</td>\n",
              "      <td>Bad</td>\n",
              "      <td>Above-7</td>\n",
              "      <td>L</td>\n",
              "    </tr>\n",
              "    <tr>\n",
              "      <th>479</th>\n",
              "      <td>F</td>\n",
              "      <td>Jordan</td>\n",
              "      <td>Jordan</td>\n",
              "      <td>MiddleSchool</td>\n",
              "      <td>G-08</td>\n",
              "      <td>A</td>\n",
              "      <td>History</td>\n",
              "      <td>S</td>\n",
              "      <td>Father</td>\n",
              "      <td>35</td>\n",
              "      <td>14</td>\n",
              "      <td>23</td>\n",
              "      <td>62</td>\n",
              "      <td>No</td>\n",
              "      <td>Bad</td>\n",
              "      <td>Above-7</td>\n",
              "      <td>L</td>\n",
              "    </tr>\n",
              "  </tbody>\n",
              "</table>\n",
              "<p>480 rows × 17 columns</p>\n",
              "</div>"
            ],
            "text/plain": [
              "     Gender Nationality  ... StudentAbsenceDays   Class\n",
              "0    Kuwait      Kuwait  ...             Kuwait  Kuwait\n",
              "1    Kuwait      Kuwait  ...             Kuwait  Kuwait\n",
              "2    Kuwait      Kuwait  ...             Kuwait  Kuwait\n",
              "3    Kuwait      Kuwait  ...             Kuwait  Kuwait\n",
              "4    Kuwait      Kuwait  ...             Kuwait  Kuwait\n",
              "..      ...         ...  ...                ...     ...\n",
              "475       F      Jordan  ...            Above-7       L\n",
              "476       F      Jordan  ...            Under-7       M\n",
              "477       F      Jordan  ...            Under-7       M\n",
              "478       F      Jordan  ...            Above-7       L\n",
              "479       F      Jordan  ...            Above-7       L\n",
              "\n",
              "[480 rows x 17 columns]"
            ]
          },
          "metadata": {
            "tags": []
          },
          "execution_count": 29
        }
      ]
    },
    {
      "cell_type": "markdown",
      "metadata": {
        "id": "zTzcZkil4g7e"
      },
      "source": [
        "### **Exploratory Analysis**  \n",
        "Now that we have cleaned our dataset, we can now proceed in analyzing our data and conduct exploratory analysis to understand the dataset further. As mentioned, we aim to know which factors affect student's academic grades specifically we want to address the following questions:  \n",
        "* Do students who participate more have higher grades than those who participate less?\n",
        "* Does parent participation and satisfaction affect a student’s performance?\n",
        "* Do the number of class absences greatly affect the student’s grades?\n",
        "* Does visiting class resources result in higher class grades?"
      ]
    },
    {
      "cell_type": "markdown",
      "metadata": {
        "id": "k2EK_qiW5Rpo"
      },
      "source": [
        "#### ***Q1: Do students who participate more have higher grades than those who participate less?***  \n",
        "Student engagement has been defined as “students’ willingness, need, desire, and compulsion to participate in, and be successful in, the learning process”. \n",
        "For the first question, we wanted to know if there is a correlation on the student's participation and academic performance. With this, we will be using the following features:  \n",
        "* `AnnouncementsView`: Total number of times a student checks the announcements<br>\n",
        "* `Discussion`: Total number of times a student participates on discussion groups<br>\n",
        "* `RaisedHands`: Total number of times a student raises his/her hand  <br>\n",
        "* `Class`: Represents the interval of a student total grade <br>\n",
        "  * _Low_: interval includes values from 0 to 69\n",
        "  * _Middle_: interval includes values from 70 to 89\n",
        "  * _High_: interval includes values from 90-100\n",
        "  \n",
        "To start, let us assign to a DataFrame variable the needed features for this research question. "
      ]
    },
    {
      "cell_type": "code",
      "metadata": {
        "colab": {
          "base_uri": "https://localhost:8080/",
          "height": 419
        },
        "id": "1EDiHR7QPiEP",
        "outputId": "f9b6d05f-ebda-4e55-f677-89c27ca5a514"
      },
      "source": [
        "q1_df = spd_df[[\"Gender\", \"AnnouncementsView\", \"Discussion\", \"RaisedHands\", \"Class\"]].copy()\n",
        "q1_df"
      ],
      "execution_count": 25,
      "outputs": [
        {
          "output_type": "execute_result",
          "data": {
            "text/html": [
              "<div>\n",
              "<style scoped>\n",
              "    .dataframe tbody tr th:only-of-type {\n",
              "        vertical-align: middle;\n",
              "    }\n",
              "\n",
              "    .dataframe tbody tr th {\n",
              "        vertical-align: top;\n",
              "    }\n",
              "\n",
              "    .dataframe thead th {\n",
              "        text-align: right;\n",
              "    }\n",
              "</style>\n",
              "<table border=\"1\" class=\"dataframe\">\n",
              "  <thead>\n",
              "    <tr style=\"text-align: right;\">\n",
              "      <th></th>\n",
              "      <th>Gender</th>\n",
              "      <th>AnnouncementsView</th>\n",
              "      <th>Discussion</th>\n",
              "      <th>RaisedHands</th>\n",
              "      <th>Class</th>\n",
              "    </tr>\n",
              "  </thead>\n",
              "  <tbody>\n",
              "    <tr>\n",
              "      <th>0</th>\n",
              "      <td>M</td>\n",
              "      <td>2</td>\n",
              "      <td>20</td>\n",
              "      <td>15</td>\n",
              "      <td>M</td>\n",
              "    </tr>\n",
              "    <tr>\n",
              "      <th>1</th>\n",
              "      <td>M</td>\n",
              "      <td>3</td>\n",
              "      <td>25</td>\n",
              "      <td>20</td>\n",
              "      <td>M</td>\n",
              "    </tr>\n",
              "    <tr>\n",
              "      <th>2</th>\n",
              "      <td>M</td>\n",
              "      <td>0</td>\n",
              "      <td>30</td>\n",
              "      <td>10</td>\n",
              "      <td>L</td>\n",
              "    </tr>\n",
              "    <tr>\n",
              "      <th>3</th>\n",
              "      <td>M</td>\n",
              "      <td>5</td>\n",
              "      <td>35</td>\n",
              "      <td>30</td>\n",
              "      <td>L</td>\n",
              "    </tr>\n",
              "    <tr>\n",
              "      <th>4</th>\n",
              "      <td>M</td>\n",
              "      <td>12</td>\n",
              "      <td>50</td>\n",
              "      <td>40</td>\n",
              "      <td>M</td>\n",
              "    </tr>\n",
              "    <tr>\n",
              "      <th>...</th>\n",
              "      <td>...</td>\n",
              "      <td>...</td>\n",
              "      <td>...</td>\n",
              "      <td>...</td>\n",
              "      <td>...</td>\n",
              "    </tr>\n",
              "    <tr>\n",
              "      <th>475</th>\n",
              "      <td>F</td>\n",
              "      <td>5</td>\n",
              "      <td>8</td>\n",
              "      <td>5</td>\n",
              "      <td>L</td>\n",
              "    </tr>\n",
              "    <tr>\n",
              "      <th>476</th>\n",
              "      <td>F</td>\n",
              "      <td>14</td>\n",
              "      <td>28</td>\n",
              "      <td>50</td>\n",
              "      <td>M</td>\n",
              "    </tr>\n",
              "    <tr>\n",
              "      <th>477</th>\n",
              "      <td>F</td>\n",
              "      <td>25</td>\n",
              "      <td>29</td>\n",
              "      <td>55</td>\n",
              "      <td>M</td>\n",
              "    </tr>\n",
              "    <tr>\n",
              "      <th>478</th>\n",
              "      <td>F</td>\n",
              "      <td>14</td>\n",
              "      <td>57</td>\n",
              "      <td>30</td>\n",
              "      <td>L</td>\n",
              "    </tr>\n",
              "    <tr>\n",
              "      <th>479</th>\n",
              "      <td>F</td>\n",
              "      <td>23</td>\n",
              "      <td>62</td>\n",
              "      <td>35</td>\n",
              "      <td>L</td>\n",
              "    </tr>\n",
              "  </tbody>\n",
              "</table>\n",
              "<p>480 rows × 5 columns</p>\n",
              "</div>"
            ],
            "text/plain": [
              "    Gender  AnnouncementsView  Discussion  RaisedHands Class\n",
              "0        M                  2          20           15     M\n",
              "1        M                  3          25           20     M\n",
              "2        M                  0          30           10     L\n",
              "3        M                  5          35           30     L\n",
              "4        M                 12          50           40     M\n",
              "..     ...                ...         ...          ...   ...\n",
              "475      F                  5           8            5     L\n",
              "476      F                 14          28           50     M\n",
              "477      F                 25          29           55     M\n",
              "478      F                 14          57           30     L\n",
              "479      F                 23          62           35     L\n",
              "\n",
              "[480 rows x 5 columns]"
            ]
          },
          "metadata": {
            "tags": []
          },
          "execution_count": 25
        }
      ]
    },
    {
      "cell_type": "markdown",
      "metadata": {
        "id": "Qnknit02WJ_2"
      },
      "source": [
        "Now, let's try visualizing the relationship between the variables `RaisedHands` and `Class` using a bar plot."
      ]
    },
    {
      "cell_type": "code",
      "metadata": {
        "colab": {
          "base_uri": "https://localhost:8080/",
          "height": 296
        },
        "id": "5PKMaok6Wgd1",
        "outputId": "388f4bb0-fa42-4a76-af6b-f52f84d4b3c2"
      },
      "source": [
        "sns.barplot(x=\"Class\", y=\"RaisedHands\", order=[\"L\", \"M\", \"H\"], data=q1_df)"
      ],
      "execution_count": 26,
      "outputs": [
        {
          "output_type": "execute_result",
          "data": {
            "text/plain": [
              "<matplotlib.axes._subplots.AxesSubplot at 0x7f2967470710>"
            ]
          },
          "metadata": {
            "tags": []
          },
          "execution_count": 26
        },
        {
          "output_type": "display_data",
          "data": {
            "image/png": "[encoded data removed]",
            "text/plain": [
              "<Figure size 432x288 with 1 Axes>"
            ]
          },
          "metadata": {
            "tags": [],
            "needs_background": "light"
          }
        }
      ]
    },
    {
      "cell_type": "markdown",
      "metadata": {
        "id": "oCzbOB_patg1"
      },
      "source": [
        "We can see from the figure above that students with higher grades tends to raised their hands in class than those who have lower grades. Let's try to visualize if this will also be the case when it comes to participation in discussion and viewing of announcements."
      ]
    },
    {
      "cell_type": "code",
      "metadata": {
        "colab": {
          "base_uri": "https://localhost:8080/",
          "height": 354
        },
        "id": "ZsVsWjI9d_Kh",
        "outputId": "e5ec6de7-01cb-4bd1-ee65-4272da6c6e62"
      },
      "source": [
        "fig, axarr  = plt.subplots(1,2,figsize=(10,5))\n",
        "sns.barplot(x='Class', y='Discussion', order=['L','M','H'], data=q1_df,  ax=axarr[0])\n",
        "sns.barplot(x='Class', y='AnnouncementsView', order=['L','M','H'], data=q1_df, ax=axarr[1])"
      ],
      "execution_count": 28,
      "outputs": [
        {
          "output_type": "execute_result",
          "data": {
            "text/plain": [
              "<matplotlib.axes._subplots.AxesSubplot at 0x7f296769b590>"
            ]
          },
          "metadata": {
            "tags": []
          },
          "execution_count": 28
        },
        {
          "output_type": "display_data",
          "data": {
            "image/png": "[encoded data removed]",
            "text/plain": [
              "<Figure size 720x360 with 2 Axes>"
            ]
          },
          "metadata": {
            "tags": [],
            "needs_background": "light"
          }
        }
      ]
    },
    {
      "cell_type": "markdown",
      "metadata": {
        "id": "5cSFVkCoiPpj"
      },
      "source": [
        "Students who also participates in discussions more often as well as check announcements tend to have a better academic performance. "
      ]
    },
    {
      "cell_type": "code",
      "metadata": {
        "colab": {
          "base_uri": "https://localhost:8080/",
          "height": 351
        },
        "id": "oXrgrg5EjVja",
        "outputId": "6e1be5a0-b5a5-4e06-efa9-516b5f5f93cf"
      },
      "source": [
        "fig, axarr  = plt.subplots(1,3,figsize=(15,5))\n",
        "sns.barplot(x='Class', y='Discussion', hue=\"Gender\", order=['L','M','H'], data=q1_df,  ax=axarr[0])\n",
        "sns.barplot(x='Class', y='AnnouncementsView', hue=\"Gender\", order=['L','M','H'], data=q1_df, ax=axarr[1])\n",
        "sns.barplot(x=\"Class\", y=\"RaisedHands\", hue=\"Gender\", order=[\"L\", \"M\", \"H\"], data=q1_df, ax=axarr[2])"
      ],
      "execution_count": 30,
      "outputs": [
        {
          "output_type": "execute_result",
          "data": {
            "text/plain": [
              "<matplotlib.axes._subplots.AxesSubplot at 0x7f29634af3d0>"
            ]
          },
          "metadata": {
            "tags": []
          },
          "execution_count": 30
        },
        {
          "output_type": "display_data",
          "data": {
            "image/png": "[encoded data removed]",
            "text/plain": [
              "<Figure size 1080x360 with 3 Axes>"
            ]
          },
          "metadata": {
            "tags": [],
            "needs_background": "light"
          }
        }
      ]
    },
    {
      "cell_type": "markdown",
      "metadata": {
        "id": "1lknMbzt52JO"
      },
      "source": [
        "#### ***Q2: Does parent participation and satisfaction affect a student’s performance?***"
      ]
    },
    {
      "cell_type": "markdown",
      "metadata": {
        "id": "-HT7yLU153-L"
      },
      "source": [
        "#### ***Q3: Do the number of class absences greatly affect the student’s grades??***"
      ]
    },
    {
      "cell_type": "markdown",
      "metadata": {
        "id": "ITtMyZZf55JH"
      },
      "source": [
        "#### ***Q4: Does visiting class resources result in higher class grades??***"
      ]
    }
  ]
}