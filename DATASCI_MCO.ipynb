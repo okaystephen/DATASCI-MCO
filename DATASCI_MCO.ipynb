{
  "nbformat": 4,
  "nbformat_minor": 0,
  "metadata": {
    "colab": {
      "name": "DATASCI MCO.ipynb",
      "provenance": [],
      "collapsed_sections": [],
      "include_colab_link": true
    },
    "kernelspec": {
      "name": "python3",
      "display_name": "Python 3"
    },
    "language_info": {
      "name": "python"
    }
  },
  "cells": [
    {
      "cell_type": "markdown",
      "metadata": {
        "id": "view-in-github",
        "colab_type": "text"
      },
      "source": [
        "<a href=\"https://colab.research.google.com/github/okaystephen/DATASCI-MCO/blob/main/DATASCI_MCO.ipynb\" target=\"_parent\"><img src=\"https://colab.research.google.com/assets/colab-badge.svg\" alt=\"Open In Colab\"/></a>"
      ]
    },
    {
      "cell_type": "markdown",
      "metadata": {
        "id": "AusDhCYwgu3l"
      },
      "source": [
        "# Students' Academic Performance Dataset "
      ]
    },
    {
      "cell_type": "markdown",
      "metadata": {
        "id": "yJ1JxA6Jg0X0"
      },
      "source": [
        "### S12 — Couch Data Scientists"
      ]
    },
    {
      "cell_type": "code",
      "metadata": {
        "colab": {
          "base_uri": "https://localhost:8080/"
        },
        "id": "VFL96axCiKvs",
        "outputId": "8191dc58-3b3c-4868-b398-34ab7adc7e11"
      },
      "source": [
        "print(\"hello\")"
      ],
      "execution_count": null,
      "outputs": [
        {
          "output_type": "stream",
          "text": [
            "hello\n"
          ],
          "name": "stdout"
        }
      ]
    },
    {
      "cell_type": "markdown",
      "metadata": {
        "id": "4DefdLu2jIUs"
      },
      "source": [
        "hi"
      ]
    },
    {
      "cell_type": "markdown",
      "metadata": {
        "id": "V6IPcmp9oYsk"
      },
      "source": [
        "###Cleaning"
      ]
    },
    {
      "cell_type": "markdown",
      "metadata": {
        "id": "NlqEPXlAocW1"
      },
      "source": [
        "* clean column names (ira)\n",
        "* clean kuwait (bly)\n",
        "* clean mum to Mother (ira)\n",
        "* clean lebanon (stephen)\n",
        "* clean outlier in grade 7 (Anj)\n",
        "* KW --> Kuwait (stephen)"
      ]
    },
    {
      "cell_type": "markdown",
      "metadata": {
        "id": "HEIx3ByentWV"
      },
      "source": [
        "Which factors affect a student’s academic grades?\n",
        "*   Do students who participate more have higher grades than those who participate less?\n",
        "*   Does parent participation and satisfaction affect a student’s performance?\n",
        "* Do the number of class absences greatly affect the student’s grades?\n",
        "* Does visiting class resources result in higher class grades?\n",
        "\n"
      ]
    },
    {
      "cell_type": "markdown",
      "metadata": {
        "id": "yF2nVoABn4tv"
      },
      "source": [
        "[Bivariate: Gender and GradeID]"
      ]
    },
    {
      "cell_type": "markdown",
      "metadata": {
        "id": "2eOWWL4BmrQl"
      },
      "source": [
        "[Bivariate: Raise Hands and GradeID]\n",
        "\n",
        "\n",
        "\n"
      ]
    },
    {
      "cell_type": "markdown",
      "metadata": {
        "id": "FrAov7b2oQN1"
      },
      "source": [
        "[Bivariate: ParentSchoolSatisfaction and Class]parents satisfaction sa high grades\n"
      ]
    },
    {
      "cell_type": "markdown",
      "metadata": {
        "id": "qgbZzQ_yhtwG"
      },
      "source": [
        "[Bivariate: Average class activities of each class grade]"
      ]
    },
    {
      "cell_type": "markdown",
      "metadata": {
        "id": "qbeyNAv0NQ8m"
      },
      "source": [
        "# **Student's Academic Performance** \n",
        "#### *Members: Beaverly Cuasi, Allexandra Domingo, Angeline Gubat, Stephen Salamante, Ira Villanueva*  \n",
        "This notebook focuses on the Student's Academic Performance Dataset which can be found [here](https://www.kaggle.com/aljarah/xAPI-Edu-Datal). The first section shows the data cleaning process, followed by data visualization using Exploratory Data Analysis (EDA). Lastly, this notebook aims to answer the following questions: <br><br> \n",
        "  \n",
        "* **Main Research Question**\n",
        "  * Which factors affect a student’s academic grades?<br>\n",
        "* **Sub-questions**\n",
        "  * Do students who participate more have higher grades than those who participate less?\n",
        "  * Does parent participation and satisfaction affect a student’s performance?\n",
        "  * Do the number of class absences greatly affect the student’s grades?\n",
        "  * Does visiting class resources result in higher class grades?\n"
      ]
    },
    {
      "cell_type": "markdown",
      "metadata": {
        "id": "5BaWZMz2U8xI"
      },
      "source": [
        "### **Dataset Information**  \n",
        "The Student's Performance Dataset is collected from Kalboard 360, a learning management, using a learner activity tracker tool called experience API (xAPI). The dataset contains **480** observations (rows) across 16 features (columns). Below is a brief description of each features:  \n",
        "* **`gender`**: Student's gender <br>\n",
        "* **`NationallTy`**: Student's nationality <br>\n",
        "* **`PlaceofBirth`**: Student's place of birth <br>\n",
        "* **`StageID`**: Educational level that student belongs to <br>\n",
        "* **`GradeID`**: Grade level that student belongs to <br>\n",
        "* **`SectionID`**: Classroom that student belongs to<br>\n",
        "* **`Topic`**: Course topic <br>\n",
        "* **`Semester`**: Current semester in a school year <br>\n",
        "* **`Relation`**: Parent who is responsible for a student<br>\n",
        "* **`raisedhands`**: Total number of times a student raises his/her hand  <br>\n",
        "* **`VisITedResources`**: Total number of times a student visited a course content <br>\n",
        "* **`AnnouncementsView`**: Total number of times a student checks the announcements <br>\n",
        "* **`Discussion`**: Total number of times a student participates on discussion groups <br>\n",
        "* **`ParentAnsweringSurvey`**: If a parent answered surveys provided by the school <br>\n",
        "* **`ParentSchoolSatisfaction`**: If a parent is satisfied or not <br>\n",
        "* **`StudentAbsenceDays`**: Total number of days that a student is absent <br>\n",
        "* **`Class`**: Represents the interval of a student total grade <br>\n",
        "  * _Low_: interval includes values from 0 to 69\n",
        "  * _Middle_: interval includes values from 70 to 89\n",
        "  * _High_: interval includes values from 90-100"
      ]
    }
  ]
}