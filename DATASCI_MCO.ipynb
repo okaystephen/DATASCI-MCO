{
 "cells": [
  {
   "cell_type": "markdown",
   "source": "# **Student's Academic Performance** \n#### *Members: Beaverly Cuasi, Allexandra Domingo, Angeline Gubat, Stephen Salamante, Ira Villanueva  (S12 - Couch Data Scientists)*\nThis notebook focuses on the Student's Academic Performance Dataset which can be found [here](https://www.kaggle.com/aljarah/xAPI-Edu-Datal). The first section shows the dataset information and dataset cleaning process, followed by data visualization using Exploratory Data Analysis (EDA). Lastly, this notebook aims to answer which factors affect a student’s academic grades. Specifically we wanted to know the following: <br><br>\n  * Do students who participate more have higher grades than those who participate less?\n  * Does parent participation and satisfaction affect a student’s performance?\n  * Do the number of class absences greatly affect the student’s grades?\n  * Does visiting class resources result in higher class grades?\n",
   "metadata": {
    "id": "qbeyNAv0NQ8m",
    "cell_id": "00000-a8cb2282-93bb-49f0-96d0-359065ed1912",
    "deepnote_cell_type": "markdown"
   }
  },
  {
   "cell_type": "markdown",
   "source": "### **Dataset Information**  \nThe Student's Performance Dataset is collected from Kalboard 360, a learning management, using a learner activity tracker tool called experience API (xAPI). The dataset contains **480** observations (rows) across **16** features (columns). Below is a brief description of each features:  \n* **`gender`**: Student's gender <br>\n* **`NationallTy`**: Student's nationality <br>\n* **`PlaceofBirth`**: Student's place of birth <br>\n* **`StageID`**: Educational level that student belongs to <br>\n* **`GradeID`**: Grade level that student belongs to <br>\n* **`SectionID`**: Classroom that student belongs to<br>\n* **`Topic`**: Course topic <br>\n* **`Semester`**: Current semester in a school year <br>\n* **`Relation`**: Parent who is responsible for a student<br>\n* **`raisedhands`**: Total number of times a student raises his/her hand  <br>\n* **`VisITedResources`**: Total number of times a student visited a course content <br>\n* **`AnnouncementsView`**: Total number of times a student checks the announcements <br>\n* **`Discussion`**: Total number of times a student participates on discussion groups <br>\n* **`ParentAnsweringSurvey`**: If a parent answered surveys provided by the school <br>\n* **`ParentSchoolSatisfaction`**: If a parent is satisfied or not <br>\n* **`StudentAbsenceDays`**: Total number of days that a student is absent <br>\n* **`Class`**: Represents the interval of a student total grade <br>\n  * _Low_: interval includes values from 0 to 69\n  * _Middle_: interval includes values from 70 to 89\n  * _High_: interval includes values from 90-100",
   "metadata": {
    "id": "5BaWZMz2U8xI",
    "cell_id": "00001-833e53b3-998f-48bc-89d1-4e5f7e2f1b25",
    "deepnote_cell_type": "markdown"
   }
  },
  {
   "cell_type": "markdown",
   "source": "Let's view the observations and features of the dataset. But first, let's import the needed libraries for this notebook.",
   "metadata": {
    "id": "T3cRkz2LkPms",
    "cell_id": "00002-1e78de4a-0186-4b4a-bba8-50d019e74456",
    "deepnote_cell_type": "markdown"
   }
  },
  {
   "cell_type": "code",
   "metadata": {
    "id": "S-8FIgu3lomu",
    "cell_id": "00003-1887509b-2c20-4b64-a87b-8fa106b50963",
    "deepnote_to_be_reexecuted": false,
    "source_hash": "a87cf2a7",
    "execution_start": 1622445244420,
    "execution_millis": 2607,
    "deepnote_cell_type": "code"
   },
   "source": "import pandas as pd\nimport numpy as np\nimport matplotlib.pyplot as plt\nimport seaborn as sns\nfrom scipy.stats import chi2_contingency",
   "execution_count": 1,
   "outputs": []
  },
  {
   "cell_type": "markdown",
   "source": "Using `read_csv`, we will be loading the dataset (xAPI-Edu-Data.csv) into a DataFrame.",
   "metadata": {
    "id": "STzZAlygl_Gz",
    "cell_id": "00004-d60ad066-6652-439d-9b64-e422849b186e",
    "deepnote_cell_type": "markdown"
   }
  },
  {
   "cell_type": "code",
   "metadata": {
    "colab": {
     "base_uri": "https://localhost:8080/",
     "height": 224
    },
    "id": "wMpXFpxjndrL",
    "executionInfo": {
     "status": "ok",
     "timestamp": 1620279319403,
     "user_tz": -480,
     "elapsed": 2967,
     "user": {
      "displayName": "Angeline Maris Gubat",
      "photoUrl": "https://lh3.googleusercontent.com/a-/AOh14Gijg6xgX0R_IA4o8GkF1xnv3D8-8kHv8i-V48U6=s64",
      "userId": "00875153666701401808"
     }
    },
    "outputId": "7c16bf61-6e85-440b-c80b-f4004081afa1",
    "cell_id": "00005-69f55423-2f6d-4a87-9340-44c54a863455",
    "deepnote_to_be_reexecuted": false,
    "source_hash": "a91d374c",
    "execution_start": 1622445247032,
    "execution_millis": 292,
    "deepnote_cell_type": "code"
   },
   "source": "url = 'https://raw.githubusercontent.com/okaystephen/DATASCI-MCO/main/xAPI-Edu-Data.csv'\nspd_df = pd.read_csv(url)  \n\n# First 5 rows in the dataset:\nspd_df.head()",
   "execution_count": 2,
   "outputs": [
    {
     "output_type": "execute_result",
     "execution_count": 2,
     "data": {
      "application/vnd.deepnote.dataframe.v2+json": {
       "row_count": 5,
       "column_count": 17,
       "columns": [
        {
         "name": "gender",
         "dtype": "object",
         "stats": {
          "unique_count": 1,
          "nan_count": 0,
          "categories": [
           {
            "name": "M",
            "count": 5
           }
          ]
         }
        },
        {
         "name": "NationalITy",
         "dtype": "object",
         "stats": {
          "unique_count": 1,
          "nan_count": 0,
          "categories": [
           {
            "name": "KW",
            "count": 5
           }
          ]
         }
        },
        {
         "name": "PlaceofBirth",
         "dtype": "object",
         "stats": {
          "unique_count": 1,
          "nan_count": 0,
          "categories": [
           {
            "name": "KuwaIT",
            "count": 5
           }
          ]
         }
        },
        {
         "name": "StageID",
         "dtype": "object",
         "stats": {
          "unique_count": 1,
          "nan_count": 0,
          "categories": [
           {
            "name": "lowerlevel",
            "count": 5
           }
          ]
         }
        },
        {
         "name": "GradeID",
         "dtype": "object",
         "stats": {
          "unique_count": 1,
          "nan_count": 0,
          "categories": [
           {
            "name": "G-04",
            "count": 5
           }
          ]
         }
        },
        {
         "name": "SectionID",
         "dtype": "object",
         "stats": {
          "unique_count": 1,
          "nan_count": 0,
          "categories": [
           {
            "name": "A",
            "count": 5
           }
          ]
         }
        },
        {
         "name": "Topic",
         "dtype": "object",
         "stats": {
          "unique_count": 1,
          "nan_count": 0,
          "categories": [
           {
            "name": "IT",
            "count": 5
           }
          ]
         }
        },
        {
         "name": "Semester",
         "dtype": "object",
         "stats": {
          "unique_count": 1,
          "nan_count": 0,
          "categories": [
           {
            "name": "F",
            "count": 5
           }
          ]
         }
        },
        {
         "name": "Relation",
         "dtype": "object",
         "stats": {
          "unique_count": 1,
          "nan_count": 0,
          "categories": [
           {
            "name": "Father",
            "count": 5
           }
          ]
         }
        },
        {
         "name": "raisedhands",
         "dtype": "int64",
         "stats": {
          "unique_count": 5,
          "nan_count": 0,
          "min": "10",
          "max": "40",
          "histogram": [
           {
            "bin_start": 10,
            "bin_end": 13,
            "count": 1
           },
           {
            "bin_start": 13,
            "bin_end": 16,
            "count": 1
           },
           {
            "bin_start": 16,
            "bin_end": 19,
            "count": 0
           },
           {
            "bin_start": 19,
            "bin_end": 22,
            "count": 1
           },
           {
            "bin_start": 22,
            "bin_end": 25,
            "count": 0
           },
           {
            "bin_start": 25,
            "bin_end": 28,
            "count": 0
           },
           {
            "bin_start": 28,
            "bin_end": 31,
            "count": 1
           },
           {
            "bin_start": 31,
            "bin_end": 34,
            "count": 0
           },
           {
            "bin_start": 34,
            "bin_end": 37,
            "count": 0
           },
           {
            "bin_start": 37,
            "bin_end": 40,
            "count": 1
           }
          ]
         }
        },
        {
         "name": "VisITedResources",
         "dtype": "int64",
         "stats": {
          "unique_count": 5,
          "nan_count": 0,
          "min": "7",
          "max": "50",
          "histogram": [
           {
            "bin_start": 7,
            "bin_end": 11.3,
            "count": 1
           },
           {
            "bin_start": 11.3,
            "bin_end": 15.6,
            "count": 0
           },
           {
            "bin_start": 15.6,
            "bin_end": 19.9,
            "count": 1
           },
           {
            "bin_start": 19.9,
            "bin_end": 24.2,
            "count": 1
           },
           {
            "bin_start": 24.2,
            "bin_end": 28.5,
            "count": 1
           },
           {
            "bin_start": 28.5,
            "bin_end": 32.8,
            "count": 0
           },
           {
            "bin_start": 32.8,
            "bin_end": 37.099999999999994,
            "count": 0
           },
           {
            "bin_start": 37.099999999999994,
            "bin_end": 41.4,
            "count": 0
           },
           {
            "bin_start": 41.4,
            "bin_end": 45.699999999999996,
            "count": 0
           },
           {
            "bin_start": 45.699999999999996,
            "bin_end": 50,
            "count": 1
           }
          ]
         }
        },
        {
         "name": "AnnouncementsView",
         "dtype": "int64",
         "stats": {
          "unique_count": 5,
          "nan_count": 0,
          "min": "0",
          "max": "12",
          "histogram": [
           {
            "bin_start": 0,
            "bin_end": 1.2,
            "count": 1
           },
           {
            "bin_start": 1.2,
            "bin_end": 2.4,
            "count": 1
           },
           {
            "bin_start": 2.4,
            "bin_end": 3.5999999999999996,
            "count": 1
           },
           {
            "bin_start": 3.5999999999999996,
            "bin_end": 4.8,
            "count": 0
           },
           {
            "bin_start": 4.8,
            "bin_end": 6,
            "count": 1
           },
           {
            "bin_start": 6,
            "bin_end": 7.199999999999999,
            "count": 0
           },
           {
            "bin_start": 7.199999999999999,
            "bin_end": 8.4,
            "count": 0
           },
           {
            "bin_start": 8.4,
            "bin_end": 9.6,
            "count": 0
           },
           {
            "bin_start": 9.6,
            "bin_end": 10.799999999999999,
            "count": 0
           },
           {
            "bin_start": 10.799999999999999,
            "bin_end": 12,
            "count": 1
           }
          ]
         }
        },
        {
         "name": "Discussion",
         "dtype": "int64",
         "stats": {
          "unique_count": 5,
          "nan_count": 0,
          "min": "20",
          "max": "50",
          "histogram": [
           {
            "bin_start": 20,
            "bin_end": 23,
            "count": 1
           },
           {
            "bin_start": 23,
            "bin_end": 26,
            "count": 1
           },
           {
            "bin_start": 26,
            "bin_end": 29,
            "count": 0
           },
           {
            "bin_start": 29,
            "bin_end": 32,
            "count": 1
           },
           {
            "bin_start": 32,
            "bin_end": 35,
            "count": 0
           },
           {
            "bin_start": 35,
            "bin_end": 38,
            "count": 1
           },
           {
            "bin_start": 38,
            "bin_end": 41,
            "count": 0
           },
           {
            "bin_start": 41,
            "bin_end": 44,
            "count": 0
           },
           {
            "bin_start": 44,
            "bin_end": 47,
            "count": 0
           },
           {
            "bin_start": 47,
            "bin_end": 50,
            "count": 1
           }
          ]
         }
        },
        {
         "name": "ParentAnsweringSurvey",
         "dtype": "object",
         "stats": {
          "unique_count": 2,
          "nan_count": 0,
          "categories": [
           {
            "name": "No",
            "count": 3
           },
           {
            "name": "Yes",
            "count": 2
           }
          ]
         }
        },
        {
         "name": "ParentschoolSatisfaction",
         "dtype": "object",
         "stats": {
          "unique_count": 2,
          "nan_count": 0,
          "categories": [
           {
            "name": "Bad",
            "count": 3
           },
           {
            "name": "Good",
            "count": 2
           }
          ]
         }
        },
        {
         "name": "StudentAbsenceDays",
         "dtype": "object",
         "stats": {
          "unique_count": 2,
          "nan_count": 0,
          "categories": [
           {
            "name": "Above-7",
            "count": 3
           },
           {
            "name": "Under-7",
            "count": 2
           }
          ]
         }
        },
        {
         "name": "Class",
         "dtype": "object",
         "stats": {
          "unique_count": 2,
          "nan_count": 0,
          "categories": [
           {
            "name": "M",
            "count": 3
           },
           {
            "name": "L",
            "count": 2
           }
          ]
         }
        },
        {
         "name": "_deepnote_index_column",
         "dtype": "int64"
        }
       ],
       "rows_top": [
        {
         "gender": "M",
         "NationalITy": "KW",
         "PlaceofBirth": "KuwaIT",
         "StageID": "lowerlevel",
         "GradeID": "G-04",
         "SectionID": "A",
         "Topic": "IT",
         "Semester": "F",
         "Relation": "Father",
         "raisedhands": 15,
         "VisITedResources": 16,
         "AnnouncementsView": 2,
         "Discussion": 20,
         "ParentAnsweringSurvey": "Yes",
         "ParentschoolSatisfaction": "Good",
         "StudentAbsenceDays": "Under-7",
         "Class": "M",
         "_deepnote_index_column": 0
        },
        {
         "gender": "M",
         "NationalITy": "KW",
         "PlaceofBirth": "KuwaIT",
         "StageID": "lowerlevel",
         "GradeID": "G-04",
         "SectionID": "A",
         "Topic": "IT",
         "Semester": "F",
         "Relation": "Father",
         "raisedhands": 20,
         "VisITedResources": 20,
         "AnnouncementsView": 3,
         "Discussion": 25,
         "ParentAnsweringSurvey": "Yes",
         "ParentschoolSatisfaction": "Good",
         "StudentAbsenceDays": "Under-7",
         "Class": "M",
         "_deepnote_index_column": 1
        },
        {
         "gender": "M",
         "NationalITy": "KW",
         "PlaceofBirth": "KuwaIT",
         "StageID": "lowerlevel",
         "GradeID": "G-04",
         "SectionID": "A",
         "Topic": "IT",
         "Semester": "F",
         "Relation": "Father",
         "raisedhands": 10,
         "VisITedResources": 7,
         "AnnouncementsView": 0,
         "Discussion": 30,
         "ParentAnsweringSurvey": "No",
         "ParentschoolSatisfaction": "Bad",
         "StudentAbsenceDays": "Above-7",
         "Class": "L",
         "_deepnote_index_column": 2
        },
        {
         "gender": "M",
         "NationalITy": "KW",
         "PlaceofBirth": "KuwaIT",
         "StageID": "lowerlevel",
         "GradeID": "G-04",
         "SectionID": "A",
         "Topic": "IT",
         "Semester": "F",
         "Relation": "Father",
         "raisedhands": 30,
         "VisITedResources": 25,
         "AnnouncementsView": 5,
         "Discussion": 35,
         "ParentAnsweringSurvey": "No",
         "ParentschoolSatisfaction": "Bad",
         "StudentAbsenceDays": "Above-7",
         "Class": "L",
         "_deepnote_index_column": 3
        },
        {
         "gender": "M",
         "NationalITy": "KW",
         "PlaceofBirth": "KuwaIT",
         "StageID": "lowerlevel",
         "GradeID": "G-04",
         "SectionID": "A",
         "Topic": "IT",
         "Semester": "F",
         "Relation": "Father",
         "raisedhands": 40,
         "VisITedResources": 50,
         "AnnouncementsView": 12,
         "Discussion": 50,
         "ParentAnsweringSurvey": "No",
         "ParentschoolSatisfaction": "Bad",
         "StudentAbsenceDays": "Above-7",
         "Class": "M",
         "_deepnote_index_column": 4
        }
       ],
       "rows_bottom": null
      },
      "text/plain": "  gender NationalITy PlaceofBirth     StageID GradeID SectionID Topic  \\\n0      M          KW       KuwaIT  lowerlevel    G-04         A    IT   \n1      M          KW       KuwaIT  lowerlevel    G-04         A    IT   \n2      M          KW       KuwaIT  lowerlevel    G-04         A    IT   \n3      M          KW       KuwaIT  lowerlevel    G-04         A    IT   \n4      M          KW       KuwaIT  lowerlevel    G-04         A    IT   \n\n  Semester Relation  raisedhands  VisITedResources  AnnouncementsView  \\\n0        F   Father           15                16                  2   \n1        F   Father           20                20                  3   \n2        F   Father           10                 7                  0   \n3        F   Father           30                25                  5   \n4        F   Father           40                50                 12   \n\n   Discussion ParentAnsweringSurvey ParentschoolSatisfaction  \\\n0          20                   Yes                     Good   \n1          25                   Yes                     Good   \n2          30                    No                      Bad   \n3          35                    No                      Bad   \n4          50                    No                      Bad   \n\n  StudentAbsenceDays Class  \n0            Under-7     M  \n1            Under-7     M  \n2            Above-7     L  \n3            Above-7     L  \n4            Above-7     M  ",
      "text/html": "<div>\n<style scoped>\n    .dataframe tbody tr th:only-of-type {\n        vertical-align: middle;\n    }\n\n    .dataframe tbody tr th {\n        vertical-align: top;\n    }\n\n    .dataframe thead th {\n        text-align: right;\n    }\n</style>\n<table border=\"1\" class=\"dataframe\">\n  <thead>\n    <tr style=\"text-align: right;\">\n      <th></th>\n      <th>gender</th>\n      <th>NationalITy</th>\n      <th>PlaceofBirth</th>\n      <th>StageID</th>\n      <th>GradeID</th>\n      <th>SectionID</th>\n      <th>Topic</th>\n      <th>Semester</th>\n      <th>Relation</th>\n      <th>raisedhands</th>\n      <th>VisITedResources</th>\n      <th>AnnouncementsView</th>\n      <th>Discussion</th>\n      <th>ParentAnsweringSurvey</th>\n      <th>ParentschoolSatisfaction</th>\n      <th>StudentAbsenceDays</th>\n      <th>Class</th>\n    </tr>\n  </thead>\n  <tbody>\n    <tr>\n      <th>0</th>\n      <td>M</td>\n      <td>KW</td>\n      <td>KuwaIT</td>\n      <td>lowerlevel</td>\n      <td>G-04</td>\n      <td>A</td>\n      <td>IT</td>\n      <td>F</td>\n      <td>Father</td>\n      <td>15</td>\n      <td>16</td>\n      <td>2</td>\n      <td>20</td>\n      <td>Yes</td>\n      <td>Good</td>\n      <td>Under-7</td>\n      <td>M</td>\n    </tr>\n    <tr>\n      <th>1</th>\n      <td>M</td>\n      <td>KW</td>\n      <td>KuwaIT</td>\n      <td>lowerlevel</td>\n      <td>G-04</td>\n      <td>A</td>\n      <td>IT</td>\n      <td>F</td>\n      <td>Father</td>\n      <td>20</td>\n      <td>20</td>\n      <td>3</td>\n      <td>25</td>\n      <td>Yes</td>\n      <td>Good</td>\n      <td>Under-7</td>\n      <td>M</td>\n    </tr>\n    <tr>\n      <th>2</th>\n      <td>M</td>\n      <td>KW</td>\n      <td>KuwaIT</td>\n      <td>lowerlevel</td>\n      <td>G-04</td>\n      <td>A</td>\n      <td>IT</td>\n      <td>F</td>\n      <td>Father</td>\n      <td>10</td>\n      <td>7</td>\n      <td>0</td>\n      <td>30</td>\n      <td>No</td>\n      <td>Bad</td>\n      <td>Above-7</td>\n      <td>L</td>\n    </tr>\n    <tr>\n      <th>3</th>\n      <td>M</td>\n      <td>KW</td>\n      <td>KuwaIT</td>\n      <td>lowerlevel</td>\n      <td>G-04</td>\n      <td>A</td>\n      <td>IT</td>\n      <td>F</td>\n      <td>Father</td>\n      <td>30</td>\n      <td>25</td>\n      <td>5</td>\n      <td>35</td>\n      <td>No</td>\n      <td>Bad</td>\n      <td>Above-7</td>\n      <td>L</td>\n    </tr>\n    <tr>\n      <th>4</th>\n      <td>M</td>\n      <td>KW</td>\n      <td>KuwaIT</td>\n      <td>lowerlevel</td>\n      <td>G-04</td>\n      <td>A</td>\n      <td>IT</td>\n      <td>F</td>\n      <td>Father</td>\n      <td>40</td>\n      <td>50</td>\n      <td>12</td>\n      <td>50</td>\n      <td>No</td>\n      <td>Bad</td>\n      <td>Above-7</td>\n      <td>M</td>\n    </tr>\n  </tbody>\n</table>\n</div>"
     },
     "metadata": {}
    }
   ]
  },
  {
   "cell_type": "markdown",
   "source": "Let's see now its general information using info() function.",
   "metadata": {
    "id": "U0xIyjOvogV0",
    "cell_id": "00006-8a00d9f2-6c27-4178-a49f-d92f97dda175",
    "deepnote_cell_type": "markdown"
   }
  },
  {
   "cell_type": "code",
   "metadata": {
    "colab": {
     "base_uri": "https://localhost:8080/"
    },
    "id": "tFWQHA6couuq",
    "executionInfo": {
     "status": "ok",
     "timestamp": 1620279322192,
     "user_tz": -480,
     "elapsed": 1227,
     "user": {
      "displayName": "Angeline Maris Gubat",
      "photoUrl": "https://lh3.googleusercontent.com/a-/AOh14Gijg6xgX0R_IA4o8GkF1xnv3D8-8kHv8i-V48U6=s64",
      "userId": "00875153666701401808"
     }
    },
    "outputId": "aacc1e6c-2058-4d67-bb0d-529af783f73e",
    "cell_id": "00007-eb58fcdc-b2e6-4166-a27b-9bd6de212743",
    "deepnote_to_be_reexecuted": false,
    "source_hash": "befba77c",
    "execution_start": 1622445247333,
    "execution_millis": 41,
    "deepnote_cell_type": "code"
   },
   "source": "# Dataset's variables type:\nspd_df.info()",
   "execution_count": 3,
   "outputs": [
    {
     "name": "stdout",
     "text": "<class 'pandas.core.frame.DataFrame'>\nRangeIndex: 480 entries, 0 to 479\nData columns (total 17 columns):\n #   Column                    Non-Null Count  Dtype \n---  ------                    --------------  ----- \n 0   gender                    480 non-null    object\n 1   NationalITy               480 non-null    object\n 2   PlaceofBirth              480 non-null    object\n 3   StageID                   480 non-null    object\n 4   GradeID                   480 non-null    object\n 5   SectionID                 480 non-null    object\n 6   Topic                     480 non-null    object\n 7   Semester                  480 non-null    object\n 8   Relation                  480 non-null    object\n 9   raisedhands               480 non-null    int64 \n 10  VisITedResources          480 non-null    int64 \n 11  AnnouncementsView         480 non-null    int64 \n 12  Discussion                480 non-null    int64 \n 13  ParentAnsweringSurvey     480 non-null    object\n 14  ParentschoolSatisfaction  480 non-null    object\n 15  StudentAbsenceDays        480 non-null    object\n 16  Class                     480 non-null    object\ndtypes: int64(4), object(13)\nmemory usage: 63.9+ KB\n",
     "output_type": "stream"
    }
   ]
  },
  {
   "cell_type": "code",
   "metadata": {
    "colab": {
     "base_uri": "https://localhost:8080/"
    },
    "id": "EPDbCiXjqmsV",
    "executionInfo": {
     "status": "ok",
     "timestamp": 1620279325359,
     "user_tz": -480,
     "elapsed": 860,
     "user": {
      "displayName": "Angeline Maris Gubat",
      "photoUrl": "https://lh3.googleusercontent.com/a-/AOh14Gijg6xgX0R_IA4o8GkF1xnv3D8-8kHv8i-V48U6=s64",
      "userId": "00875153666701401808"
     }
    },
    "outputId": "b22dff31-2bee-4a2a-b512-a818fec3f525",
    "cell_id": "00008-dc7505c9-831c-4181-8f39-4808c488198c",
    "deepnote_to_be_reexecuted": false,
    "source_hash": "1a9d023d",
    "execution_start": 1622445247375,
    "execution_millis": 24,
    "deepnote_cell_type": "code"
   },
   "source": "spd_df.isnull().sum()",
   "execution_count": 4,
   "outputs": [
    {
     "output_type": "execute_result",
     "execution_count": 4,
     "data": {
      "text/plain": "gender                      0\nNationalITy                 0\nPlaceofBirth                0\nStageID                     0\nGradeID                     0\nSectionID                   0\nTopic                       0\nSemester                    0\nRelation                    0\nraisedhands                 0\nVisITedResources            0\nAnnouncementsView           0\nDiscussion                  0\nParentAnsweringSurvey       0\nParentschoolSatisfaction    0\nStudentAbsenceDays          0\nClass                       0\ndtype: int64"
     },
     "metadata": {}
    }
   ]
  },
  {
   "cell_type": "markdown",
   "source": "We can see that there are no null values or missing values in any columns so there will be no problem in the dataset in handling null or NaN values. Before analyzing our data, let's further explore the dataset for data cleaning.  \n### **Data Cleaning**  <br>\n#### **Renaming feature names**  \nWhen we viewed the information of the dataset, we saw that some column names doesn't have the same format. Some columns are all in lowercase while some letters are capitalized like `NationalITy` and `VisITedResources`. It is a good approach to rename columns to ones that can be easily recalled later on. Here are the columns that we will be renaming:  \n* NationalITy --> Nationality\n* PlaceofBirth --> BirthPlace\n* VisITedResources --> VistedResources\n* ParentschoolSatisfaction --> ParentSchoolSatisfaction\n* raisedhands --> RaisedHands",
   "metadata": {
    "id": "jC8D9CA-o9mZ",
    "cell_id": "00009-32263025-5503-42af-8007-467790007b1e",
    "deepnote_cell_type": "markdown"
   }
  },
  {
   "cell_type": "code",
   "metadata": {
    "id": "Nb7pnOnUxk23",
    "cell_id": "00010-1dccb324-da75-4805-b5be-2815f086a8db",
    "deepnote_to_be_reexecuted": false,
    "source_hash": "a8be05ef",
    "execution_start": 1622445247395,
    "execution_millis": 41,
    "deepnote_cell_type": "code"
   },
   "source": "spd_df.rename(columns={'NationalITy':'Nationality',\n'PlaceofBirth': 'BirthPlace',\n'gender': 'Gender',\n'VisITedResources':'VisitedResources',\n'ParentschoolSatisfaction':'ParentSchoolSatisfaction',\n'raisedhands':'RaisedHands'}, inplace=True) ",
   "execution_count": 5,
   "outputs": []
  },
  {
   "cell_type": "markdown",
   "source": "Let's view the dataset with the renamed columns.",
   "metadata": {
    "id": "JqUWGuu6zN4X",
    "cell_id": "00011-fa4ae265-d2e2-4cfe-9afa-67a5e2d3843e",
    "deepnote_cell_type": "markdown"
   }
  },
  {
   "cell_type": "code",
   "metadata": {
    "colab": {
     "base_uri": "https://localhost:8080/",
     "height": 224
    },
    "id": "8RASwgzAzSPl",
    "executionInfo": {
     "status": "ok",
     "timestamp": 1620279332315,
     "user_tz": -480,
     "elapsed": 806,
     "user": {
      "displayName": "Angeline Maris Gubat",
      "photoUrl": "https://lh3.googleusercontent.com/a-/AOh14Gijg6xgX0R_IA4o8GkF1xnv3D8-8kHv8i-V48U6=s64",
      "userId": "00875153666701401808"
     }
    },
    "outputId": "939ee989-b868-480d-afa6-d217fefc72e1",
    "cell_id": "00012-d6ba9672-e5d8-4358-9abf-2563adafd814",
    "deepnote_to_be_reexecuted": false,
    "source_hash": "e22e2d41",
    "execution_start": 1622445247485,
    "execution_millis": 121,
    "deepnote_cell_type": "code"
   },
   "source": "spd_df.head()",
   "execution_count": 6,
   "outputs": [
    {
     "output_type": "execute_result",
     "execution_count": 6,
     "data": {
      "application/vnd.deepnote.dataframe.v2+json": {
       "row_count": 5,
       "column_count": 17,
       "columns": [
        {
         "name": "Gender",
         "dtype": "object",
         "stats": {
          "unique_count": 1,
          "nan_count": 0,
          "categories": [
           {
            "name": "M",
            "count": 5
           }
          ]
         }
        },
        {
         "name": "Nationality",
         "dtype": "object",
         "stats": {
          "unique_count": 1,
          "nan_count": 0,
          "categories": [
           {
            "name": "KW",
            "count": 5
           }
          ]
         }
        },
        {
         "name": "BirthPlace",
         "dtype": "object",
         "stats": {
          "unique_count": 1,
          "nan_count": 0,
          "categories": [
           {
            "name": "KuwaIT",
            "count": 5
           }
          ]
         }
        },
        {
         "name": "StageID",
         "dtype": "object",
         "stats": {
          "unique_count": 1,
          "nan_count": 0,
          "categories": [
           {
            "name": "lowerlevel",
            "count": 5
           }
          ]
         }
        },
        {
         "name": "GradeID",
         "dtype": "object",
         "stats": {
          "unique_count": 1,
          "nan_count": 0,
          "categories": [
           {
            "name": "G-04",
            "count": 5
           }
          ]
         }
        },
        {
         "name": "SectionID",
         "dtype": "object",
         "stats": {
          "unique_count": 1,
          "nan_count": 0,
          "categories": [
           {
            "name": "A",
            "count": 5
           }
          ]
         }
        },
        {
         "name": "Topic",
         "dtype": "object",
         "stats": {
          "unique_count": 1,
          "nan_count": 0,
          "categories": [
           {
            "name": "IT",
            "count": 5
           }
          ]
         }
        },
        {
         "name": "Semester",
         "dtype": "object",
         "stats": {
          "unique_count": 1,
          "nan_count": 0,
          "categories": [
           {
            "name": "F",
            "count": 5
           }
          ]
         }
        },
        {
         "name": "Relation",
         "dtype": "object",
         "stats": {
          "unique_count": 1,
          "nan_count": 0,
          "categories": [
           {
            "name": "Father",
            "count": 5
           }
          ]
         }
        },
        {
         "name": "RaisedHands",
         "dtype": "int64",
         "stats": {
          "unique_count": 5,
          "nan_count": 0,
          "min": "10",
          "max": "40",
          "histogram": [
           {
            "bin_start": 10,
            "bin_end": 13,
            "count": 1
           },
           {
            "bin_start": 13,
            "bin_end": 16,
            "count": 1
           },
           {
            "bin_start": 16,
            "bin_end": 19,
            "count": 0
           },
           {
            "bin_start": 19,
            "bin_end": 22,
            "count": 1
           },
           {
            "bin_start": 22,
            "bin_end": 25,
            "count": 0
           },
           {
            "bin_start": 25,
            "bin_end": 28,
            "count": 0
           },
           {
            "bin_start": 28,
            "bin_end": 31,
            "count": 1
           },
           {
            "bin_start": 31,
            "bin_end": 34,
            "count": 0
           },
           {
            "bin_start": 34,
            "bin_end": 37,
            "count": 0
           },
           {
            "bin_start": 37,
            "bin_end": 40,
            "count": 1
           }
          ]
         }
        },
        {
         "name": "VisitedResources",
         "dtype": "int64",
         "stats": {
          "unique_count": 5,
          "nan_count": 0,
          "min": "7",
          "max": "50",
          "histogram": [
           {
            "bin_start": 7,
            "bin_end": 11.3,
            "count": 1
           },
           {
            "bin_start": 11.3,
            "bin_end": 15.6,
            "count": 0
           },
           {
            "bin_start": 15.6,
            "bin_end": 19.9,
            "count": 1
           },
           {
            "bin_start": 19.9,
            "bin_end": 24.2,
            "count": 1
           },
           {
            "bin_start": 24.2,
            "bin_end": 28.5,
            "count": 1
           },
           {
            "bin_start": 28.5,
            "bin_end": 32.8,
            "count": 0
           },
           {
            "bin_start": 32.8,
            "bin_end": 37.099999999999994,
            "count": 0
           },
           {
            "bin_start": 37.099999999999994,
            "bin_end": 41.4,
            "count": 0
           },
           {
            "bin_start": 41.4,
            "bin_end": 45.699999999999996,
            "count": 0
           },
           {
            "bin_start": 45.699999999999996,
            "bin_end": 50,
            "count": 1
           }
          ]
         }
        },
        {
         "name": "AnnouncementsView",
         "dtype": "int64",
         "stats": {
          "unique_count": 5,
          "nan_count": 0,
          "min": "0",
          "max": "12",
          "histogram": [
           {
            "bin_start": 0,
            "bin_end": 1.2,
            "count": 1
           },
           {
            "bin_start": 1.2,
            "bin_end": 2.4,
            "count": 1
           },
           {
            "bin_start": 2.4,
            "bin_end": 3.5999999999999996,
            "count": 1
           },
           {
            "bin_start": 3.5999999999999996,
            "bin_end": 4.8,
            "count": 0
           },
           {
            "bin_start": 4.8,
            "bin_end": 6,
            "count": 1
           },
           {
            "bin_start": 6,
            "bin_end": 7.199999999999999,
            "count": 0
           },
           {
            "bin_start": 7.199999999999999,
            "bin_end": 8.4,
            "count": 0
           },
           {
            "bin_start": 8.4,
            "bin_end": 9.6,
            "count": 0
           },
           {
            "bin_start": 9.6,
            "bin_end": 10.799999999999999,
            "count": 0
           },
           {
            "bin_start": 10.799999999999999,
            "bin_end": 12,
            "count": 1
           }
          ]
         }
        },
        {
         "name": "Discussion",
         "dtype": "int64",
         "stats": {
          "unique_count": 5,
          "nan_count": 0,
          "min": "20",
          "max": "50",
          "histogram": [
           {
            "bin_start": 20,
            "bin_end": 23,
            "count": 1
           },
           {
            "bin_start": 23,
            "bin_end": 26,
            "count": 1
           },
           {
            "bin_start": 26,
            "bin_end": 29,
            "count": 0
           },
           {
            "bin_start": 29,
            "bin_end": 32,
            "count": 1
           },
           {
            "bin_start": 32,
            "bin_end": 35,
            "count": 0
           },
           {
            "bin_start": 35,
            "bin_end": 38,
            "count": 1
           },
           {
            "bin_start": 38,
            "bin_end": 41,
            "count": 0
           },
           {
            "bin_start": 41,
            "bin_end": 44,
            "count": 0
           },
           {
            "bin_start": 44,
            "bin_end": 47,
            "count": 0
           },
           {
            "bin_start": 47,
            "bin_end": 50,
            "count": 1
           }
          ]
         }
        },
        {
         "name": "ParentAnsweringSurvey",
         "dtype": "object",
         "stats": {
          "unique_count": 2,
          "nan_count": 0,
          "categories": [
           {
            "name": "No",
            "count": 3
           },
           {
            "name": "Yes",
            "count": 2
           }
          ]
         }
        },
        {
         "name": "ParentSchoolSatisfaction",
         "dtype": "object",
         "stats": {
          "unique_count": 2,
          "nan_count": 0,
          "categories": [
           {
            "name": "Bad",
            "count": 3
           },
           {
            "name": "Good",
            "count": 2
           }
          ]
         }
        },
        {
         "name": "StudentAbsenceDays",
         "dtype": "object",
         "stats": {
          "unique_count": 2,
          "nan_count": 0,
          "categories": [
           {
            "name": "Above-7",
            "count": 3
           },
           {
            "name": "Under-7",
            "count": 2
           }
          ]
         }
        },
        {
         "name": "Class",
         "dtype": "object",
         "stats": {
          "unique_count": 2,
          "nan_count": 0,
          "categories": [
           {
            "name": "M",
            "count": 3
           },
           {
            "name": "L",
            "count": 2
           }
          ]
         }
        },
        {
         "name": "_deepnote_index_column",
         "dtype": "int64"
        }
       ],
       "rows_top": [
        {
         "Gender": "M",
         "Nationality": "KW",
         "BirthPlace": "KuwaIT",
         "StageID": "lowerlevel",
         "GradeID": "G-04",
         "SectionID": "A",
         "Topic": "IT",
         "Semester": "F",
         "Relation": "Father",
         "RaisedHands": 15,
         "VisitedResources": 16,
         "AnnouncementsView": 2,
         "Discussion": 20,
         "ParentAnsweringSurvey": "Yes",
         "ParentSchoolSatisfaction": "Good",
         "StudentAbsenceDays": "Under-7",
         "Class": "M",
         "_deepnote_index_column": 0
        },
        {
         "Gender": "M",
         "Nationality": "KW",
         "BirthPlace": "KuwaIT",
         "StageID": "lowerlevel",
         "GradeID": "G-04",
         "SectionID": "A",
         "Topic": "IT",
         "Semester": "F",
         "Relation": "Father",
         "RaisedHands": 20,
         "VisitedResources": 20,
         "AnnouncementsView": 3,
         "Discussion": 25,
         "ParentAnsweringSurvey": "Yes",
         "ParentSchoolSatisfaction": "Good",
         "StudentAbsenceDays": "Under-7",
         "Class": "M",
         "_deepnote_index_column": 1
        },
        {
         "Gender": "M",
         "Nationality": "KW",
         "BirthPlace": "KuwaIT",
         "StageID": "lowerlevel",
         "GradeID": "G-04",
         "SectionID": "A",
         "Topic": "IT",
         "Semester": "F",
         "Relation": "Father",
         "RaisedHands": 10,
         "VisitedResources": 7,
         "AnnouncementsView": 0,
         "Discussion": 30,
         "ParentAnsweringSurvey": "No",
         "ParentSchoolSatisfaction": "Bad",
         "StudentAbsenceDays": "Above-7",
         "Class": "L",
         "_deepnote_index_column": 2
        },
        {
         "Gender": "M",
         "Nationality": "KW",
         "BirthPlace": "KuwaIT",
         "StageID": "lowerlevel",
         "GradeID": "G-04",
         "SectionID": "A",
         "Topic": "IT",
         "Semester": "F",
         "Relation": "Father",
         "RaisedHands": 30,
         "VisitedResources": 25,
         "AnnouncementsView": 5,
         "Discussion": 35,
         "ParentAnsweringSurvey": "No",
         "ParentSchoolSatisfaction": "Bad",
         "StudentAbsenceDays": "Above-7",
         "Class": "L",
         "_deepnote_index_column": 3
        },
        {
         "Gender": "M",
         "Nationality": "KW",
         "BirthPlace": "KuwaIT",
         "StageID": "lowerlevel",
         "GradeID": "G-04",
         "SectionID": "A",
         "Topic": "IT",
         "Semester": "F",
         "Relation": "Father",
         "RaisedHands": 40,
         "VisitedResources": 50,
         "AnnouncementsView": 12,
         "Discussion": 50,
         "ParentAnsweringSurvey": "No",
         "ParentSchoolSatisfaction": "Bad",
         "StudentAbsenceDays": "Above-7",
         "Class": "M",
         "_deepnote_index_column": 4
        }
       ],
       "rows_bottom": null
      },
      "text/plain": "  Gender Nationality BirthPlace     StageID GradeID SectionID Topic Semester  \\\n0      M          KW     KuwaIT  lowerlevel    G-04         A    IT        F   \n1      M          KW     KuwaIT  lowerlevel    G-04         A    IT        F   \n2      M          KW     KuwaIT  lowerlevel    G-04         A    IT        F   \n3      M          KW     KuwaIT  lowerlevel    G-04         A    IT        F   \n4      M          KW     KuwaIT  lowerlevel    G-04         A    IT        F   \n\n  Relation  RaisedHands  VisitedResources  AnnouncementsView  Discussion  \\\n0   Father           15                16                  2          20   \n1   Father           20                20                  3          25   \n2   Father           10                 7                  0          30   \n3   Father           30                25                  5          35   \n4   Father           40                50                 12          50   \n\n  ParentAnsweringSurvey ParentSchoolSatisfaction StudentAbsenceDays Class  \n0                   Yes                     Good            Under-7     M  \n1                   Yes                     Good            Under-7     M  \n2                    No                      Bad            Above-7     L  \n3                    No                      Bad            Above-7     L  \n4                    No                      Bad            Above-7     M  ",
      "text/html": "<div>\n<style scoped>\n    .dataframe tbody tr th:only-of-type {\n        vertical-align: middle;\n    }\n\n    .dataframe tbody tr th {\n        vertical-align: top;\n    }\n\n    .dataframe thead th {\n        text-align: right;\n    }\n</style>\n<table border=\"1\" class=\"dataframe\">\n  <thead>\n    <tr style=\"text-align: right;\">\n      <th></th>\n      <th>Gender</th>\n      <th>Nationality</th>\n      <th>BirthPlace</th>\n      <th>StageID</th>\n      <th>GradeID</th>\n      <th>SectionID</th>\n      <th>Topic</th>\n      <th>Semester</th>\n      <th>Relation</th>\n      <th>RaisedHands</th>\n      <th>VisitedResources</th>\n      <th>AnnouncementsView</th>\n      <th>Discussion</th>\n      <th>ParentAnsweringSurvey</th>\n      <th>ParentSchoolSatisfaction</th>\n      <th>StudentAbsenceDays</th>\n      <th>Class</th>\n    </tr>\n  </thead>\n  <tbody>\n    <tr>\n      <th>0</th>\n      <td>M</td>\n      <td>KW</td>\n      <td>KuwaIT</td>\n      <td>lowerlevel</td>\n      <td>G-04</td>\n      <td>A</td>\n      <td>IT</td>\n      <td>F</td>\n      <td>Father</td>\n      <td>15</td>\n      <td>16</td>\n      <td>2</td>\n      <td>20</td>\n      <td>Yes</td>\n      <td>Good</td>\n      <td>Under-7</td>\n      <td>M</td>\n    </tr>\n    <tr>\n      <th>1</th>\n      <td>M</td>\n      <td>KW</td>\n      <td>KuwaIT</td>\n      <td>lowerlevel</td>\n      <td>G-04</td>\n      <td>A</td>\n      <td>IT</td>\n      <td>F</td>\n      <td>Father</td>\n      <td>20</td>\n      <td>20</td>\n      <td>3</td>\n      <td>25</td>\n      <td>Yes</td>\n      <td>Good</td>\n      <td>Under-7</td>\n      <td>M</td>\n    </tr>\n    <tr>\n      <th>2</th>\n      <td>M</td>\n      <td>KW</td>\n      <td>KuwaIT</td>\n      <td>lowerlevel</td>\n      <td>G-04</td>\n      <td>A</td>\n      <td>IT</td>\n      <td>F</td>\n      <td>Father</td>\n      <td>10</td>\n      <td>7</td>\n      <td>0</td>\n      <td>30</td>\n      <td>No</td>\n      <td>Bad</td>\n      <td>Above-7</td>\n      <td>L</td>\n    </tr>\n    <tr>\n      <th>3</th>\n      <td>M</td>\n      <td>KW</td>\n      <td>KuwaIT</td>\n      <td>lowerlevel</td>\n      <td>G-04</td>\n      <td>A</td>\n      <td>IT</td>\n      <td>F</td>\n      <td>Father</td>\n      <td>30</td>\n      <td>25</td>\n      <td>5</td>\n      <td>35</td>\n      <td>No</td>\n      <td>Bad</td>\n      <td>Above-7</td>\n      <td>L</td>\n    </tr>\n    <tr>\n      <th>4</th>\n      <td>M</td>\n      <td>KW</td>\n      <td>KuwaIT</td>\n      <td>lowerlevel</td>\n      <td>G-04</td>\n      <td>A</td>\n      <td>IT</td>\n      <td>F</td>\n      <td>Father</td>\n      <td>40</td>\n      <td>50</td>\n      <td>12</td>\n      <td>50</td>\n      <td>No</td>\n      <td>Bad</td>\n      <td>Above-7</td>\n      <td>M</td>\n    </tr>\n  </tbody>\n</table>\n</div>"
     },
     "metadata": {}
    }
   ]
  },
  {
   "cell_type": "markdown",
   "source": "#### **Renaming Mum to Mother in Relation Column**  \nIt's also important to ensure that the data values is consistent and uniformed within the dataset especially inside a feature column. Let's check the `Relation` column in the dataset and view its unique values.  ",
   "metadata": {
    "id": "S8ZYf_i501gc",
    "cell_id": "00013-bc680081-fb97-4af1-8082-50dda56d38f5",
    "deepnote_cell_type": "markdown"
   }
  },
  {
   "cell_type": "code",
   "metadata": {
    "id": "ewFVnaiaptGT",
    "colab": {
     "base_uri": "https://localhost:8080/"
    },
    "executionInfo": {
     "status": "ok",
     "timestamp": 1620279339425,
     "user_tz": -480,
     "elapsed": 774,
     "user": {
      "displayName": "Angeline Maris Gubat",
      "photoUrl": "https://lh3.googleusercontent.com/a-/AOh14Gijg6xgX0R_IA4o8GkF1xnv3D8-8kHv8i-V48U6=s64",
      "userId": "00875153666701401808"
     }
    },
    "outputId": "5f583abc-8347-4427-9cac-07125845a101",
    "cell_id": "00014-eef4a4e4-6fc0-4b0d-9258-c593d83ad836",
    "deepnote_to_be_reexecuted": false,
    "source_hash": "4511d889",
    "execution_start": 1622445247610,
    "execution_millis": 0,
    "deepnote_cell_type": "code"
   },
   "source": "spd_df['Relation'].unique()",
   "execution_count": 7,
   "outputs": [
    {
     "output_type": "execute_result",
     "execution_count": 7,
     "data": {
      "text/plain": "array(['Father', 'Mum'], dtype=object)"
     },
     "metadata": {}
    }
   ]
  },
  {
   "cell_type": "markdown",
   "source": "For uniformity, we will be renaming Mum to Mother.",
   "metadata": {
    "id": "20sZlbaMqoQS",
    "cell_id": "00015-71da6f74-c902-4773-8959-f7f72a332ecd",
    "deepnote_cell_type": "markdown"
   }
  },
  {
   "cell_type": "code",
   "metadata": {
    "colab": {
     "base_uri": "https://localhost:8080/"
    },
    "id": "L0IolrCNrF25",
    "executionInfo": {
     "status": "ok",
     "timestamp": 1620279341524,
     "user_tz": -480,
     "elapsed": 980,
     "user": {
      "displayName": "Angeline Maris Gubat",
      "photoUrl": "https://lh3.googleusercontent.com/a-/AOh14Gijg6xgX0R_IA4o8GkF1xnv3D8-8kHv8i-V48U6=s64",
      "userId": "00875153666701401808"
     }
    },
    "outputId": "f68cbcf0-3492-405e-d41d-9517b43c1d07",
    "cell_id": "00016-efe5e277-532c-4705-9447-40d2f7ab47b9",
    "deepnote_to_be_reexecuted": false,
    "source_hash": "1abd6e04",
    "execution_start": 1622445247662,
    "execution_millis": 9,
    "deepnote_cell_type": "code"
   },
   "source": "spd_df['Relation'].replace({'Mum':'Mother'}, inplace=True)\nspd_df['Relation'].unique()",
   "execution_count": 8,
   "outputs": [
    {
     "output_type": "execute_result",
     "execution_count": 8,
     "data": {
      "text/plain": "array(['Father', 'Mother'], dtype=object)"
     },
     "metadata": {}
    }
   ]
  },
  {
   "cell_type": "markdown",
   "source": "#### **Renaming countries from the `BirthPlace` column**  ",
   "metadata": {
    "id": "LV-uLQkql9rE",
    "cell_id": "00017-f1c9cb82-72a9-4576-a1e9-218634d14b02",
    "deepnote_cell_type": "markdown"
   }
  },
  {
   "cell_type": "markdown",
   "source": "Let's check the unique values in the `BirthPlace` feature",
   "metadata": {
    "id": "B1TMW3M7IufA",
    "cell_id": "00018-01b44e27-3374-4232-b6c4-e048896c80db",
    "deepnote_cell_type": "markdown"
   }
  },
  {
   "cell_type": "code",
   "metadata": {
    "colab": {
     "base_uri": "https://localhost:8080/"
    },
    "id": "XEnYntVXI7re",
    "executionInfo": {
     "status": "ok",
     "timestamp": 1620279343365,
     "user_tz": -480,
     "elapsed": 540,
     "user": {
      "displayName": "Angeline Maris Gubat",
      "photoUrl": "https://lh3.googleusercontent.com/a-/AOh14Gijg6xgX0R_IA4o8GkF1xnv3D8-8kHv8i-V48U6=s64",
      "userId": "00875153666701401808"
     }
    },
    "outputId": "3791f6be-7277-442c-da59-9eeb2f7a6cd0",
    "cell_id": "00019-e2545010-32b9-4d38-9e7e-0d2be2cb8366",
    "deepnote_to_be_reexecuted": false,
    "source_hash": "258b4711",
    "execution_start": 1622445247663,
    "execution_millis": 51,
    "deepnote_cell_type": "code"
   },
   "source": "spd_df['BirthPlace'].unique()",
   "execution_count": 9,
   "outputs": [
    {
     "output_type": "execute_result",
     "execution_count": 9,
     "data": {
      "text/plain": "array(['KuwaIT', 'lebanon', 'Egypt', 'SaudiArabia', 'USA', 'Jordan',\n       'venzuela', 'Iran', 'Tunis', 'Morocco', 'Syria', 'Iraq',\n       'Palestine', 'Lybia'], dtype=object)"
     },
     "metadata": {}
    }
   ]
  },
  {
   "cell_type": "markdown",
   "source": "We can see there are inconsistencies with how the locations are written, and there is a misspelled location. Let's turn `lebanon` into `Lebanon`, `venzuela` to `Venezuela`, `KuwaIT` to `Kuwait`, and `Lybia` to `Libya`.",
   "metadata": {
    "id": "lzMIQzPYmYfI",
    "cell_id": "00020-ec03466e-a387-4b32-8771-695c68556eb6",
    "deepnote_cell_type": "markdown"
   }
  },
  {
   "cell_type": "code",
   "metadata": {
    "id": "6uPLx2bDnD-T",
    "cell_id": "00021-4191ac99-0741-42ae-83fa-2af6133bc91b",
    "deepnote_to_be_reexecuted": false,
    "source_hash": "6dee0e25",
    "execution_start": 1622445247706,
    "execution_millis": 8,
    "deepnote_cell_type": "code"
   },
   "source": "spd_df.replace({'BirthPlace': {'lebanon': 'Lebanon'}}, inplace=True)",
   "execution_count": 10,
   "outputs": []
  },
  {
   "cell_type": "code",
   "metadata": {
    "id": "JiEWjRSgNooO",
    "cell_id": "00022-8a3645eb-ddc1-4385-a75e-c419099ce64d",
    "deepnote_to_be_reexecuted": false,
    "source_hash": "9fa867b2",
    "execution_start": 1622445247766,
    "execution_millis": 0,
    "deepnote_cell_type": "code"
   },
   "source": "spd_df.replace({'BirthPlace': {'venzuela': 'Venezuela'}}, inplace=True)",
   "execution_count": 11,
   "outputs": []
  },
  {
   "cell_type": "code",
   "metadata": {
    "id": "NOxqn1IsJrQI",
    "cell_id": "00023-082da4ad-01aa-4a30-943d-25d8d59a8796",
    "deepnote_to_be_reexecuted": false,
    "source_hash": "8f320663",
    "execution_start": 1622445247767,
    "execution_millis": 0,
    "deepnote_cell_type": "code"
   },
   "source": "spd_df.replace({'BirthPlace': {'KuwaIT': 'Kuwait'}}, inplace=True)",
   "execution_count": 12,
   "outputs": []
  },
  {
   "cell_type": "code",
   "metadata": {
    "tags": [],
    "cell_id": "00024-741c2160-4874-4206-b7d2-cf09ed1b5bad",
    "deepnote_to_be_reexecuted": false,
    "source_hash": "47007e17",
    "execution_start": 1622445247767,
    "execution_millis": 44,
    "deepnote_cell_type": "code"
   },
   "source": "spd_df.replace({'BirthPlace': {'Lybia': 'Libya'}}, inplace=True)",
   "execution_count": 13,
   "outputs": []
  },
  {
   "cell_type": "code",
   "metadata": {
    "colab": {
     "base_uri": "https://localhost:8080/"
    },
    "id": "b0bRfInOmkqB",
    "executionInfo": {
     "status": "ok",
     "timestamp": 1620279352555,
     "user_tz": -480,
     "elapsed": 495,
     "user": {
      "displayName": "Angeline Maris Gubat",
      "photoUrl": "https://lh3.googleusercontent.com/a-/AOh14Gijg6xgX0R_IA4o8GkF1xnv3D8-8kHv8i-V48U6=s64",
      "userId": "00875153666701401808"
     }
    },
    "outputId": "ec744a8e-c542-4585-ee82-e3d34068cb2a",
    "cell_id": "00024-4ef08c9a-7231-44c5-9b46-cff6dc4a8317",
    "deepnote_to_be_reexecuted": false,
    "source_hash": "258b4711",
    "execution_start": 1622445247811,
    "execution_millis": 8,
    "deepnote_cell_type": "code"
   },
   "source": "spd_df['BirthPlace'].unique()",
   "execution_count": 14,
   "outputs": [
    {
     "output_type": "execute_result",
     "execution_count": 14,
     "data": {
      "text/plain": "array(['Kuwait', 'Lebanon', 'Egypt', 'SaudiArabia', 'USA', 'Jordan',\n       'Venezuela', 'Iran', 'Tunis', 'Morocco', 'Syria', 'Iraq',\n       'Palestine', 'Libya'], dtype=object)"
     },
     "metadata": {}
    }
   ]
  },
  {
   "cell_type": "code",
   "metadata": {
    "colab": {
     "base_uri": "https://localhost:8080/",
     "height": 439
    },
    "id": "KHx3V3VLJ3Z3",
    "executionInfo": {
     "status": "ok",
     "timestamp": 1620279358617,
     "user_tz": -480,
     "elapsed": 762,
     "user": {
      "displayName": "Angeline Maris Gubat",
      "photoUrl": "https://lh3.googleusercontent.com/a-/AOh14Gijg6xgX0R_IA4o8GkF1xnv3D8-8kHv8i-V48U6=s64",
      "userId": "00875153666701401808"
     }
    },
    "outputId": "0213d278-5fb1-431a-c24d-140f26829eac",
    "cell_id": "00025-d0a31dfa-e192-442e-9f2a-6bb2064c436e",
    "deepnote_to_be_reexecuted": false,
    "source_hash": "511618e5",
    "execution_start": 1622445247812,
    "execution_millis": 174,
    "deepnote_cell_type": "code"
   },
   "source": "spd_df",
   "execution_count": 15,
   "outputs": [
    {
     "output_type": "execute_result",
     "execution_count": 15,
     "data": {
      "application/vnd.deepnote.dataframe.v2+json": {
       "row_count": 480,
       "column_count": 17,
       "columns": [
        {
         "name": "Gender",
         "dtype": "object",
         "stats": {
          "unique_count": 2,
          "nan_count": 0,
          "categories": [
           {
            "name": "M",
            "count": 305
           },
           {
            "name": "F",
            "count": 175
           }
          ]
         }
        },
        {
         "name": "Nationality",
         "dtype": "object",
         "stats": {
          "unique_count": 14,
          "nan_count": 0,
          "categories": [
           {
            "name": "KW",
            "count": 179
           },
           {
            "name": "Jordan",
            "count": 172
           },
           {
            "name": "12 others",
            "count": 129
           }
          ]
         }
        },
        {
         "name": "BirthPlace",
         "dtype": "object",
         "stats": {
          "unique_count": 14,
          "nan_count": 0,
          "categories": [
           {
            "name": "Kuwait",
            "count": 180
           },
           {
            "name": "Jordan",
            "count": 176
           },
           {
            "name": "12 others",
            "count": 124
           }
          ]
         }
        },
        {
         "name": "StageID",
         "dtype": "object",
         "stats": {
          "unique_count": 3,
          "nan_count": 0,
          "categories": [
           {
            "name": "MiddleSchool",
            "count": 248
           },
           {
            "name": "lowerlevel",
            "count": 199
           },
           {
            "name": "HighSchool",
            "count": 33
           }
          ]
         }
        },
        {
         "name": "GradeID",
         "dtype": "object",
         "stats": {
          "unique_count": 10,
          "nan_count": 0,
          "categories": [
           {
            "name": "G-02",
            "count": 147
           },
           {
            "name": "G-08",
            "count": 116
           },
           {
            "name": "8 others",
            "count": 217
           }
          ]
         }
        },
        {
         "name": "SectionID",
         "dtype": "object",
         "stats": {
          "unique_count": 3,
          "nan_count": 0,
          "categories": [
           {
            "name": "A",
            "count": 283
           },
           {
            "name": "B",
            "count": 167
           },
           {
            "name": "C",
            "count": 30
           }
          ]
         }
        },
        {
         "name": "Topic",
         "dtype": "object",
         "stats": {
          "unique_count": 12,
          "nan_count": 0,
          "categories": [
           {
            "name": "IT",
            "count": 95
           },
           {
            "name": "French",
            "count": 65
           },
           {
            "name": "10 others",
            "count": 320
           }
          ]
         }
        },
        {
         "name": "Semester",
         "dtype": "object",
         "stats": {
          "unique_count": 2,
          "nan_count": 0,
          "categories": [
           {
            "name": "F",
            "count": 245
           },
           {
            "name": "S",
            "count": 235
           }
          ]
         }
        },
        {
         "name": "Relation",
         "dtype": "object",
         "stats": {
          "unique_count": 2,
          "nan_count": 0,
          "categories": [
           {
            "name": "Father",
            "count": 283
           },
           {
            "name": "Mother",
            "count": 197
           }
          ]
         }
        },
        {
         "name": "RaisedHands",
         "dtype": "int64",
         "stats": {
          "unique_count": 82,
          "nan_count": 0,
          "min": "0",
          "max": "100",
          "histogram": [
           {
            "bin_start": 0,
            "bin_end": 10,
            "count": 50
           },
           {
            "bin_start": 10,
            "bin_end": 20,
            "count": 90
           },
           {
            "bin_start": 20,
            "bin_end": 30,
            "count": 48
           },
           {
            "bin_start": 30,
            "bin_end": 40,
            "count": 31
           },
           {
            "bin_start": 40,
            "bin_end": 50,
            "count": 18
           },
           {
            "bin_start": 50,
            "bin_end": 60,
            "count": 33
           },
           {
            "bin_start": 60,
            "bin_end": 70,
            "count": 31
           },
           {
            "bin_start": 70,
            "bin_end": 80,
            "count": 80
           },
           {
            "bin_start": 80,
            "bin_end": 90,
            "count": 66
           },
           {
            "bin_start": 90,
            "bin_end": 100,
            "count": 33
           }
          ]
         }
        },
        {
         "name": "VisitedResources",
         "dtype": "int64",
         "stats": {
          "unique_count": 89,
          "nan_count": 0,
          "min": "0",
          "max": "99",
          "histogram": [
           {
            "bin_start": 0,
            "bin_end": 9.9,
            "count": 63
           },
           {
            "bin_start": 9.9,
            "bin_end": 19.8,
            "count": 55
           },
           {
            "bin_start": 19.8,
            "bin_end": 29.700000000000003,
            "count": 33
           },
           {
            "bin_start": 29.700000000000003,
            "bin_end": 39.6,
            "count": 22
           },
           {
            "bin_start": 39.6,
            "bin_end": 49.5,
            "count": 15
           },
           {
            "bin_start": 49.5,
            "bin_end": 59.400000000000006,
            "count": 27
           },
           {
            "bin_start": 59.400000000000006,
            "bin_end": 69.3,
            "count": 32
           },
           {
            "bin_start": 69.3,
            "bin_end": 79.2,
            "count": 50
           },
           {
            "bin_start": 79.2,
            "bin_end": 89.10000000000001,
            "count": 107
           },
           {
            "bin_start": 89.10000000000001,
            "bin_end": 99,
            "count": 76
           }
          ]
         }
        },
        {
         "name": "AnnouncementsView",
         "dtype": "int64",
         "stats": {
          "unique_count": 88,
          "nan_count": 0,
          "min": "0",
          "max": "98",
          "histogram": [
           {
            "bin_start": 0,
            "bin_end": 9.8,
            "count": 72
           },
           {
            "bin_start": 9.8,
            "bin_end": 19.6,
            "count": 78
           },
           {
            "bin_start": 19.6,
            "bin_end": 29.400000000000002,
            "count": 63
           },
           {
            "bin_start": 29.400000000000002,
            "bin_end": 39.2,
            "count": 45
           },
           {
            "bin_start": 39.2,
            "bin_end": 49,
            "count": 47
           },
           {
            "bin_start": 49,
            "bin_end": 58.800000000000004,
            "count": 59
           },
           {
            "bin_start": 58.800000000000004,
            "bin_end": 68.60000000000001,
            "count": 27
           },
           {
            "bin_start": 68.60000000000001,
            "bin_end": 78.4,
            "count": 36
           },
           {
            "bin_start": 78.4,
            "bin_end": 88.2,
            "count": 42
           },
           {
            "bin_start": 88.2,
            "bin_end": 98,
            "count": 11
           }
          ]
         }
        },
        {
         "name": "Discussion",
         "dtype": "int64",
         "stats": {
          "unique_count": 90,
          "nan_count": 0,
          "min": "1",
          "max": "99",
          "histogram": [
           {
            "bin_start": 1,
            "bin_end": 10.8,
            "count": 52
           },
           {
            "bin_start": 10.8,
            "bin_end": 20.6,
            "count": 77
           },
           {
            "bin_start": 20.6,
            "bin_end": 30.400000000000002,
            "count": 66
           },
           {
            "bin_start": 30.400000000000002,
            "bin_end": 40.2,
            "count": 69
           },
           {
            "bin_start": 40.2,
            "bin_end": 50,
            "count": 26
           },
           {
            "bin_start": 50,
            "bin_end": 59.800000000000004,
            "count": 38
           },
           {
            "bin_start": 59.800000000000004,
            "bin_end": 69.60000000000001,
            "count": 28
           },
           {
            "bin_start": 69.60000000000001,
            "bin_end": 79.4,
            "count": 42
           },
           {
            "bin_start": 79.4,
            "bin_end": 89.2,
            "count": 53
           },
           {
            "bin_start": 89.2,
            "bin_end": 99,
            "count": 29
           }
          ]
         }
        },
        {
         "name": "ParentAnsweringSurvey",
         "dtype": "object",
         "stats": {
          "unique_count": 2,
          "nan_count": 0,
          "categories": [
           {
            "name": "Yes",
            "count": 270
           },
           {
            "name": "No",
            "count": 210
           }
          ]
         }
        },
        {
         "name": "ParentSchoolSatisfaction",
         "dtype": "object",
         "stats": {
          "unique_count": 2,
          "nan_count": 0,
          "categories": [
           {
            "name": "Good",
            "count": 292
           },
           {
            "name": "Bad",
            "count": 188
           }
          ]
         }
        },
        {
         "name": "StudentAbsenceDays",
         "dtype": "object",
         "stats": {
          "unique_count": 2,
          "nan_count": 0,
          "categories": [
           {
            "name": "Under-7",
            "count": 289
           },
           {
            "name": "Above-7",
            "count": 191
           }
          ]
         }
        },
        {
         "name": "Class",
         "dtype": "object",
         "stats": {
          "unique_count": 3,
          "nan_count": 0,
          "categories": [
           {
            "name": "M",
            "count": 211
           },
           {
            "name": "H",
            "count": 142
           },
           {
            "name": "L",
            "count": 127
           }
          ]
         }
        },
        {
         "name": "_deepnote_index_column",
         "dtype": "int64"
        }
       ],
       "rows_top": [
        {
         "Gender": "M",
         "Nationality": "KW",
         "BirthPlace": "Kuwait",
         "StageID": "lowerlevel",
         "GradeID": "G-04",
         "SectionID": "A",
         "Topic": "IT",
         "Semester": "F",
         "Relation": "Father",
         "RaisedHands": 15,
         "VisitedResources": 16,
         "AnnouncementsView": 2,
         "Discussion": 20,
         "ParentAnsweringSurvey": "Yes",
         "ParentSchoolSatisfaction": "Good",
         "StudentAbsenceDays": "Under-7",
         "Class": "M",
         "_deepnote_index_column": 0
        },
        {
         "Gender": "M",
         "Nationality": "KW",
         "BirthPlace": "Kuwait",
         "StageID": "lowerlevel",
         "GradeID": "G-04",
         "SectionID": "A",
         "Topic": "IT",
         "Semester": "F",
         "Relation": "Father",
         "RaisedHands": 20,
         "VisitedResources": 20,
         "AnnouncementsView": 3,
         "Discussion": 25,
         "ParentAnsweringSurvey": "Yes",
         "ParentSchoolSatisfaction": "Good",
         "StudentAbsenceDays": "Under-7",
         "Class": "M",
         "_deepnote_index_column": 1
        },
        {
         "Gender": "M",
         "Nationality": "KW",
         "BirthPlace": "Kuwait",
         "StageID": "lowerlevel",
         "GradeID": "G-04",
         "SectionID": "A",
         "Topic": "IT",
         "Semester": "F",
         "Relation": "Father",
         "RaisedHands": 10,
         "VisitedResources": 7,
         "AnnouncementsView": 0,
         "Discussion": 30,
         "ParentAnsweringSurvey": "No",
         "ParentSchoolSatisfaction": "Bad",
         "StudentAbsenceDays": "Above-7",
         "Class": "L",
         "_deepnote_index_column": 2
        },
        {
         "Gender": "M",
         "Nationality": "KW",
         "BirthPlace": "Kuwait",
         "StageID": "lowerlevel",
         "GradeID": "G-04",
         "SectionID": "A",
         "Topic": "IT",
         "Semester": "F",
         "Relation": "Father",
         "RaisedHands": 30,
         "VisitedResources": 25,
         "AnnouncementsView": 5,
         "Discussion": 35,
         "ParentAnsweringSurvey": "No",
         "ParentSchoolSatisfaction": "Bad",
         "StudentAbsenceDays": "Above-7",
         "Class": "L",
         "_deepnote_index_column": 3
        },
        {
         "Gender": "M",
         "Nationality": "KW",
         "BirthPlace": "Kuwait",
         "StageID": "lowerlevel",
         "GradeID": "G-04",
         "SectionID": "A",
         "Topic": "IT",
         "Semester": "F",
         "Relation": "Father",
         "RaisedHands": 40,
         "VisitedResources": 50,
         "AnnouncementsView": 12,
         "Discussion": 50,
         "ParentAnsweringSurvey": "No",
         "ParentSchoolSatisfaction": "Bad",
         "StudentAbsenceDays": "Above-7",
         "Class": "M",
         "_deepnote_index_column": 4
        },
        {
         "Gender": "F",
         "Nationality": "KW",
         "BirthPlace": "Kuwait",
         "StageID": "lowerlevel",
         "GradeID": "G-04",
         "SectionID": "A",
         "Topic": "IT",
         "Semester": "F",
         "Relation": "Father",
         "RaisedHands": 42,
         "VisitedResources": 30,
         "AnnouncementsView": 13,
         "Discussion": 70,
         "ParentAnsweringSurvey": "Yes",
         "ParentSchoolSatisfaction": "Bad",
         "StudentAbsenceDays": "Above-7",
         "Class": "M",
         "_deepnote_index_column": 5
        },
        {
         "Gender": "M",
         "Nationality": "KW",
         "BirthPlace": "Kuwait",
         "StageID": "MiddleSchool",
         "GradeID": "G-07",
         "SectionID": "A",
         "Topic": "Math",
         "Semester": "F",
         "Relation": "Father",
         "RaisedHands": 35,
         "VisitedResources": 12,
         "AnnouncementsView": 0,
         "Discussion": 17,
         "ParentAnsweringSurvey": "No",
         "ParentSchoolSatisfaction": "Bad",
         "StudentAbsenceDays": "Above-7",
         "Class": "L",
         "_deepnote_index_column": 6
        },
        {
         "Gender": "M",
         "Nationality": "KW",
         "BirthPlace": "Kuwait",
         "StageID": "MiddleSchool",
         "GradeID": "G-07",
         "SectionID": "A",
         "Topic": "Math",
         "Semester": "F",
         "Relation": "Father",
         "RaisedHands": 50,
         "VisitedResources": 10,
         "AnnouncementsView": 15,
         "Discussion": 22,
         "ParentAnsweringSurvey": "Yes",
         "ParentSchoolSatisfaction": "Good",
         "StudentAbsenceDays": "Under-7",
         "Class": "M",
         "_deepnote_index_column": 7
        },
        {
         "Gender": "F",
         "Nationality": "KW",
         "BirthPlace": "Kuwait",
         "StageID": "MiddleSchool",
         "GradeID": "G-07",
         "SectionID": "A",
         "Topic": "Math",
         "Semester": "F",
         "Relation": "Father",
         "RaisedHands": 12,
         "VisitedResources": 21,
         "AnnouncementsView": 16,
         "Discussion": 50,
         "ParentAnsweringSurvey": "Yes",
         "ParentSchoolSatisfaction": "Good",
         "StudentAbsenceDays": "Under-7",
         "Class": "M",
         "_deepnote_index_column": 8
        },
        {
         "Gender": "F",
         "Nationality": "KW",
         "BirthPlace": "Kuwait",
         "StageID": "MiddleSchool",
         "GradeID": "G-07",
         "SectionID": "B",
         "Topic": "IT",
         "Semester": "F",
         "Relation": "Father",
         "RaisedHands": 70,
         "VisitedResources": 80,
         "AnnouncementsView": 25,
         "Discussion": 70,
         "ParentAnsweringSurvey": "Yes",
         "ParentSchoolSatisfaction": "Good",
         "StudentAbsenceDays": "Under-7",
         "Class": "M",
         "_deepnote_index_column": 9
        },
        {
         "Gender": "M",
         "Nationality": "KW",
         "BirthPlace": "Kuwait",
         "StageID": "MiddleSchool",
         "GradeID": "G-07",
         "SectionID": "A",
         "Topic": "Math",
         "Semester": "F",
         "Relation": "Father",
         "RaisedHands": 50,
         "VisitedResources": 88,
         "AnnouncementsView": 30,
         "Discussion": 80,
         "ParentAnsweringSurvey": "Yes",
         "ParentSchoolSatisfaction": "Good",
         "StudentAbsenceDays": "Under-7",
         "Class": "H",
         "_deepnote_index_column": 10
        },
        {
         "Gender": "M",
         "Nationality": "KW",
         "BirthPlace": "Kuwait",
         "StageID": "MiddleSchool",
         "GradeID": "G-07",
         "SectionID": "B",
         "Topic": "Math",
         "Semester": "F",
         "Relation": "Father",
         "RaisedHands": 19,
         "VisitedResources": 6,
         "AnnouncementsView": 19,
         "Discussion": 12,
         "ParentAnsweringSurvey": "Yes",
         "ParentSchoolSatisfaction": "Good",
         "StudentAbsenceDays": "Under-7",
         "Class": "M",
         "_deepnote_index_column": 11
        },
        {
         "Gender": "M",
         "Nationality": "KW",
         "BirthPlace": "Kuwait",
         "StageID": "lowerlevel",
         "GradeID": "G-04",
         "SectionID": "A",
         "Topic": "IT",
         "Semester": "F",
         "Relation": "Father",
         "RaisedHands": 5,
         "VisitedResources": 1,
         "AnnouncementsView": 0,
         "Discussion": 11,
         "ParentAnsweringSurvey": "No",
         "ParentSchoolSatisfaction": "Bad",
         "StudentAbsenceDays": "Above-7",
         "Class": "L",
         "_deepnote_index_column": 12
        },
        {
         "Gender": "M",
         "Nationality": "lebanon",
         "BirthPlace": "Lebanon",
         "StageID": "MiddleSchool",
         "GradeID": "G-08",
         "SectionID": "A",
         "Topic": "Math",
         "Semester": "F",
         "Relation": "Father",
         "RaisedHands": 20,
         "VisitedResources": 14,
         "AnnouncementsView": 12,
         "Discussion": 19,
         "ParentAnsweringSurvey": "No",
         "ParentSchoolSatisfaction": "Bad",
         "StudentAbsenceDays": "Above-7",
         "Class": "L",
         "_deepnote_index_column": 13
        },
        {
         "Gender": "F",
         "Nationality": "KW",
         "BirthPlace": "Kuwait",
         "StageID": "MiddleSchool",
         "GradeID": "G-08",
         "SectionID": "A",
         "Topic": "Math",
         "Semester": "F",
         "Relation": "Mother",
         "RaisedHands": 62,
         "VisitedResources": 70,
         "AnnouncementsView": 44,
         "Discussion": 60,
         "ParentAnsweringSurvey": "No",
         "ParentSchoolSatisfaction": "Bad",
         "StudentAbsenceDays": "Above-7",
         "Class": "H",
         "_deepnote_index_column": 14
        },
        {
         "Gender": "F",
         "Nationality": "KW",
         "BirthPlace": "Kuwait",
         "StageID": "MiddleSchool",
         "GradeID": "G-06",
         "SectionID": "A",
         "Topic": "IT",
         "Semester": "F",
         "Relation": "Father",
         "RaisedHands": 30,
         "VisitedResources": 40,
         "AnnouncementsView": 22,
         "Discussion": 66,
         "ParentAnsweringSurvey": "Yes",
         "ParentSchoolSatisfaction": "Good",
         "StudentAbsenceDays": "Under-7",
         "Class": "M",
         "_deepnote_index_column": 15
        },
        {
         "Gender": "M",
         "Nationality": "KW",
         "BirthPlace": "Kuwait",
         "StageID": "MiddleSchool",
         "GradeID": "G-07",
         "SectionID": "B",
         "Topic": "IT",
         "Semester": "F",
         "Relation": "Father",
         "RaisedHands": 36,
         "VisitedResources": 30,
         "AnnouncementsView": 20,
         "Discussion": 80,
         "ParentAnsweringSurvey": "No",
         "ParentSchoolSatisfaction": "Bad",
         "StudentAbsenceDays": "Above-7",
         "Class": "M",
         "_deepnote_index_column": 16
        },
        {
         "Gender": "M",
         "Nationality": "KW",
         "BirthPlace": "Kuwait",
         "StageID": "MiddleSchool",
         "GradeID": "G-07",
         "SectionID": "A",
         "Topic": "Math",
         "Semester": "F",
         "Relation": "Father",
         "RaisedHands": 55,
         "VisitedResources": 13,
         "AnnouncementsView": 35,
         "Discussion": 90,
         "ParentAnsweringSurvey": "No",
         "ParentSchoolSatisfaction": "Bad",
         "StudentAbsenceDays": "Above-7",
         "Class": "M",
         "_deepnote_index_column": 17
        },
        {
         "Gender": "F",
         "Nationality": "KW",
         "BirthPlace": "Kuwait",
         "StageID": "MiddleSchool",
         "GradeID": "G-07",
         "SectionID": "A",
         "Topic": "IT",
         "Semester": "F",
         "Relation": "Mother",
         "RaisedHands": 69,
         "VisitedResources": 15,
         "AnnouncementsView": 36,
         "Discussion": 96,
         "ParentAnsweringSurvey": "Yes",
         "ParentSchoolSatisfaction": "Good",
         "StudentAbsenceDays": "Under-7",
         "Class": "M",
         "_deepnote_index_column": 18
        },
        {
         "Gender": "M",
         "Nationality": "KW",
         "BirthPlace": "Kuwait",
         "StageID": "MiddleSchool",
         "GradeID": "G-07",
         "SectionID": "B",
         "Topic": "IT",
         "Semester": "F",
         "Relation": "Mother",
         "RaisedHands": 70,
         "VisitedResources": 50,
         "AnnouncementsView": 40,
         "Discussion": 99,
         "ParentAnsweringSurvey": "Yes",
         "ParentSchoolSatisfaction": "Good",
         "StudentAbsenceDays": "Under-7",
         "Class": "H",
         "_deepnote_index_column": 19
        },
        {
         "Gender": "F",
         "Nationality": "KW",
         "BirthPlace": "Kuwait",
         "StageID": "MiddleSchool",
         "GradeID": "G-07",
         "SectionID": "A",
         "Topic": "IT",
         "Semester": "F",
         "Relation": "Father",
         "RaisedHands": 60,
         "VisitedResources": 60,
         "AnnouncementsView": 33,
         "Discussion": 90,
         "ParentAnsweringSurvey": "No",
         "ParentSchoolSatisfaction": "Bad",
         "StudentAbsenceDays": "Above-7",
         "Class": "M",
         "_deepnote_index_column": 20
        },
        {
         "Gender": "F",
         "Nationality": "KW",
         "BirthPlace": "Kuwait",
         "StageID": "MiddleSchool",
         "GradeID": "G-07",
         "SectionID": "B",
         "Topic": "IT",
         "Semester": "F",
         "Relation": "Father",
         "RaisedHands": 10,
         "VisitedResources": 12,
         "AnnouncementsView": 4,
         "Discussion": 80,
         "ParentAnsweringSurvey": "No",
         "ParentSchoolSatisfaction": "Bad",
         "StudentAbsenceDays": "Under-7",
         "Class": "M",
         "_deepnote_index_column": 21
        },
        {
         "Gender": "M",
         "Nationality": "KW",
         "BirthPlace": "Kuwait",
         "StageID": "MiddleSchool",
         "GradeID": "G-07",
         "SectionID": "A",
         "Topic": "IT",
         "Semester": "F",
         "Relation": "Father",
         "RaisedHands": 15,
         "VisitedResources": 21,
         "AnnouncementsView": 2,
         "Discussion": 90,
         "ParentAnsweringSurvey": "No",
         "ParentSchoolSatisfaction": "Bad",
         "StudentAbsenceDays": "Under-7",
         "Class": "M",
         "_deepnote_index_column": 22
        },
        {
         "Gender": "M",
         "Nationality": "KW",
         "BirthPlace": "Kuwait",
         "StageID": "MiddleSchool",
         "GradeID": "G-07",
         "SectionID": "A",
         "Topic": "IT",
         "Semester": "F",
         "Relation": "Father",
         "RaisedHands": 2,
         "VisitedResources": 0,
         "AnnouncementsView": 2,
         "Discussion": 50,
         "ParentAnsweringSurvey": "No",
         "ParentSchoolSatisfaction": "Bad",
         "StudentAbsenceDays": "Above-7",
         "Class": "L",
         "_deepnote_index_column": 23
        },
        {
         "Gender": "M",
         "Nationality": "KW",
         "BirthPlace": "Kuwait",
         "StageID": "MiddleSchool",
         "GradeID": "G-07",
         "SectionID": "B",
         "Topic": "IT",
         "Semester": "F",
         "Relation": "Father",
         "RaisedHands": 0,
         "VisitedResources": 2,
         "AnnouncementsView": 3,
         "Discussion": 70,
         "ParentAnsweringSurvey": "Yes",
         "ParentSchoolSatisfaction": "Good",
         "StudentAbsenceDays": "Above-7",
         "Class": "L",
         "_deepnote_index_column": 24
        },
        {
         "Gender": "M",
         "Nationality": "KW",
         "BirthPlace": "Kuwait",
         "StageID": "MiddleSchool",
         "GradeID": "G-07",
         "SectionID": "A",
         "Topic": "IT",
         "Semester": "F",
         "Relation": "Father",
         "RaisedHands": 8,
         "VisitedResources": 7,
         "AnnouncementsView": 30,
         "Discussion": 40,
         "ParentAnsweringSurvey": "Yes",
         "ParentSchoolSatisfaction": "Good",
         "StudentAbsenceDays": "Above-7",
         "Class": "L",
         "_deepnote_index_column": 25
        },
        {
         "Gender": "M",
         "Nationality": "KW",
         "BirthPlace": "Kuwait",
         "StageID": "MiddleSchool",
         "GradeID": "G-07",
         "SectionID": "B",
         "Topic": "IT",
         "Semester": "F",
         "Relation": "Father",
         "RaisedHands": 19,
         "VisitedResources": 19,
         "AnnouncementsView": 25,
         "Discussion": 40,
         "ParentAnsweringSurvey": "Yes",
         "ParentSchoolSatisfaction": "Bad",
         "StudentAbsenceDays": "Under-7",
         "Class": "M",
         "_deepnote_index_column": 26
        },
        {
         "Gender": "M",
         "Nationality": "KW",
         "BirthPlace": "Kuwait",
         "StageID": "MiddleSchool",
         "GradeID": "G-08",
         "SectionID": "A",
         "Topic": "Arabic",
         "Semester": "F",
         "Relation": "Father",
         "RaisedHands": 25,
         "VisitedResources": 15,
         "AnnouncementsView": 12,
         "Discussion": 33,
         "ParentAnsweringSurvey": "No",
         "ParentSchoolSatisfaction": "Bad",
         "StudentAbsenceDays": "Above-7",
         "Class": "L",
         "_deepnote_index_column": 27
        },
        {
         "Gender": "M",
         "Nationality": "KW",
         "BirthPlace": "Kuwait",
         "StageID": "MiddleSchool",
         "GradeID": "G-08",
         "SectionID": "A",
         "Topic": "Science",
         "Semester": "F",
         "Relation": "Father",
         "RaisedHands": 75,
         "VisitedResources": 85,
         "AnnouncementsView": 52,
         "Discussion": 43,
         "ParentAnsweringSurvey": "Yes",
         "ParentSchoolSatisfaction": "Good",
         "StudentAbsenceDays": "Under-7",
         "Class": "M",
         "_deepnote_index_column": 28
        }
       ],
       "rows_bottom": [
        {
         "Gender": "F",
         "Nationality": "Jordan",
         "BirthPlace": "Jordan",
         "StageID": "MiddleSchool",
         "GradeID": "G-08",
         "SectionID": "A",
         "Topic": "Chemistry",
         "Semester": "S",
         "Relation": "Father",
         "RaisedHands": 19,
         "VisitedResources": 98,
         "AnnouncementsView": 20,
         "Discussion": 2,
         "ParentAnsweringSurvey": "Yes",
         "ParentSchoolSatisfaction": "Good",
         "StudentAbsenceDays": "Under-7",
         "Class": "H",
         "_deepnote_index_column": 451
        },
        {
         "Gender": "F",
         "Nationality": "Jordan",
         "BirthPlace": "Jordan",
         "StageID": "MiddleSchool",
         "GradeID": "G-08",
         "SectionID": "A",
         "Topic": "Geology",
         "Semester": "F",
         "Relation": "Father",
         "RaisedHands": 25,
         "VisitedResources": 82,
         "AnnouncementsView": 52,
         "Discussion": 20,
         "ParentAnsweringSurvey": "Yes",
         "ParentSchoolSatisfaction": "Good",
         "StudentAbsenceDays": "Above-7",
         "Class": "M",
         "_deepnote_index_column": 452
        },
        {
         "Gender": "F",
         "Nationality": "Jordan",
         "BirthPlace": "Jordan",
         "StageID": "MiddleSchool",
         "GradeID": "G-08",
         "SectionID": "A",
         "Topic": "Geology",
         "Semester": "S",
         "Relation": "Father",
         "RaisedHands": 29,
         "VisitedResources": 78,
         "AnnouncementsView": 40,
         "Discussion": 12,
         "ParentAnsweringSurvey": "Yes",
         "ParentSchoolSatisfaction": "Good",
         "StudentAbsenceDays": "Above-7",
         "Class": "M",
         "_deepnote_index_column": 453
        },
        {
         "Gender": "F",
         "Nationality": "Jordan",
         "BirthPlace": "Jordan",
         "StageID": "MiddleSchool",
         "GradeID": "G-08",
         "SectionID": "A",
         "Topic": "History",
         "Semester": "F",
         "Relation": "Father",
         "RaisedHands": 45,
         "VisitedResources": 87,
         "AnnouncementsView": 57,
         "Discussion": 80,
         "ParentAnsweringSurvey": "Yes",
         "ParentSchoolSatisfaction": "Good",
         "StudentAbsenceDays": "Under-7",
         "Class": "M",
         "_deepnote_index_column": 454
        },
        {
         "Gender": "F",
         "Nationality": "Jordan",
         "BirthPlace": "Jordan",
         "StageID": "MiddleSchool",
         "GradeID": "G-08",
         "SectionID": "A",
         "Topic": "History",
         "Semester": "S",
         "Relation": "Father",
         "RaisedHands": 39,
         "VisitedResources": 88,
         "AnnouncementsView": 43,
         "Discussion": 72,
         "ParentAnsweringSurvey": "Yes",
         "ParentSchoolSatisfaction": "Good",
         "StudentAbsenceDays": "Under-7",
         "Class": "M",
         "_deepnote_index_column": 455
        },
        {
         "Gender": "F",
         "Nationality": "Jordan",
         "BirthPlace": "Jordan",
         "StageID": "MiddleSchool",
         "GradeID": "G-08",
         "SectionID": "A",
         "Topic": "Chemistry",
         "Semester": "F",
         "Relation": "Father",
         "RaisedHands": 85,
         "VisitedResources": 90,
         "AnnouncementsView": 52,
         "Discussion": 30,
         "ParentAnsweringSurvey": "Yes",
         "ParentSchoolSatisfaction": "Good",
         "StudentAbsenceDays": "Under-7",
         "Class": "H",
         "_deepnote_index_column": 456
        },
        {
         "Gender": "F",
         "Nationality": "Jordan",
         "BirthPlace": "Jordan",
         "StageID": "MiddleSchool",
         "GradeID": "G-08",
         "SectionID": "A",
         "Topic": "Chemistry",
         "Semester": "S",
         "Relation": "Father",
         "RaisedHands": 79,
         "VisitedResources": 91,
         "AnnouncementsView": 49,
         "Discussion": 22,
         "ParentAnsweringSurvey": "Yes",
         "ParentSchoolSatisfaction": "Good",
         "StudentAbsenceDays": "Under-7",
         "Class": "H",
         "_deepnote_index_column": 457
        },
        {
         "Gender": "M",
         "Nationality": "Iraq",
         "BirthPlace": "Iraq",
         "StageID": "MiddleSchool",
         "GradeID": "G-08",
         "SectionID": "A",
         "Topic": "Chemistry",
         "Semester": "F",
         "Relation": "Father",
         "RaisedHands": 90,
         "VisitedResources": 91,
         "AnnouncementsView": 80,
         "Discussion": 81,
         "ParentAnsweringSurvey": "Yes",
         "ParentSchoolSatisfaction": "Good",
         "StudentAbsenceDays": "Under-7",
         "Class": "H",
         "_deepnote_index_column": 458
        },
        {
         "Gender": "M",
         "Nationality": "Iraq",
         "BirthPlace": "Iraq",
         "StageID": "MiddleSchool",
         "GradeID": "G-08",
         "SectionID": "A",
         "Topic": "Chemistry",
         "Semester": "S",
         "Relation": "Father",
         "RaisedHands": 80,
         "VisitedResources": 90,
         "AnnouncementsView": 80,
         "Discussion": 83,
         "ParentAnsweringSurvey": "Yes",
         "ParentSchoolSatisfaction": "Good",
         "StudentAbsenceDays": "Under-7",
         "Class": "H",
         "_deepnote_index_column": 459
        },
        {
         "Gender": "M",
         "Nationality": "Iraq",
         "BirthPlace": "Iraq",
         "StageID": "MiddleSchool",
         "GradeID": "G-08",
         "SectionID": "A",
         "Topic": "Geology",
         "Semester": "F",
         "Relation": "Father",
         "RaisedHands": 80,
         "VisitedResources": 83,
         "AnnouncementsView": 82,
         "Discussion": 71,
         "ParentAnsweringSurvey": "Yes",
         "ParentSchoolSatisfaction": "Good",
         "StudentAbsenceDays": "Above-7",
         "Class": "M",
         "_deepnote_index_column": 460
        },
        {
         "Gender": "M",
         "Nationality": "Iraq",
         "BirthPlace": "Iraq",
         "StageID": "MiddleSchool",
         "GradeID": "G-08",
         "SectionID": "A",
         "Topic": "Geology",
         "Semester": "S",
         "Relation": "Father",
         "RaisedHands": 71,
         "VisitedResources": 81,
         "AnnouncementsView": 83,
         "Discussion": 72,
         "ParentAnsweringSurvey": "Yes",
         "ParentSchoolSatisfaction": "Good",
         "StudentAbsenceDays": "Above-7",
         "Class": "M",
         "_deepnote_index_column": 461
        },
        {
         "Gender": "M",
         "Nationality": "Iraq",
         "BirthPlace": "Iraq",
         "StageID": "MiddleSchool",
         "GradeID": "G-08",
         "SectionID": "A",
         "Topic": "History",
         "Semester": "F",
         "Relation": "Father",
         "RaisedHands": 72,
         "VisitedResources": 87,
         "AnnouncementsView": 72,
         "Discussion": 89,
         "ParentAnsweringSurvey": "Yes",
         "ParentSchoolSatisfaction": "Good",
         "StudentAbsenceDays": "Above-7",
         "Class": "M",
         "_deepnote_index_column": 462
        },
        {
         "Gender": "M",
         "Nationality": "Iraq",
         "BirthPlace": "Iraq",
         "StageID": "MiddleSchool",
         "GradeID": "G-08",
         "SectionID": "A",
         "Topic": "History",
         "Semester": "S",
         "Relation": "Father",
         "RaisedHands": 69,
         "VisitedResources": 77,
         "AnnouncementsView": 83,
         "Discussion": 92,
         "ParentAnsweringSurvey": "Yes",
         "ParentSchoolSatisfaction": "Good",
         "StudentAbsenceDays": "Above-7",
         "Class": "M",
         "_deepnote_index_column": 463
        },
        {
         "Gender": "F",
         "Nationality": "Jordan",
         "BirthPlace": "Jordan",
         "StageID": "MiddleSchool",
         "GradeID": "G-08",
         "SectionID": "A",
         "Topic": "Chemistry",
         "Semester": "F",
         "Relation": "Mother",
         "RaisedHands": 85,
         "VisitedResources": 99,
         "AnnouncementsView": 42,
         "Discussion": 90,
         "ParentAnsweringSurvey": "Yes",
         "ParentSchoolSatisfaction": "Good",
         "StudentAbsenceDays": "Under-7",
         "Class": "H",
         "_deepnote_index_column": 464
        },
        {
         "Gender": "F",
         "Nationality": "Jordan",
         "BirthPlace": "Jordan",
         "StageID": "MiddleSchool",
         "GradeID": "G-08",
         "SectionID": "A",
         "Topic": "Chemistry",
         "Semester": "S",
         "Relation": "Mother",
         "RaisedHands": 89,
         "VisitedResources": 96,
         "AnnouncementsView": 45,
         "Discussion": 92,
         "ParentAnsweringSurvey": "Yes",
         "ParentSchoolSatisfaction": "Good",
         "StudentAbsenceDays": "Under-7",
         "Class": "H",
         "_deepnote_index_column": 465
        },
        {
         "Gender": "F",
         "Nationality": "Jordan",
         "BirthPlace": "Jordan",
         "StageID": "MiddleSchool",
         "GradeID": "G-08",
         "SectionID": "A",
         "Topic": "Geology",
         "Semester": "F",
         "Relation": "Mother",
         "RaisedHands": 80,
         "VisitedResources": 82,
         "AnnouncementsView": 64,
         "Discussion": 58,
         "ParentAnsweringSurvey": "Yes",
         "ParentSchoolSatisfaction": "Good",
         "StudentAbsenceDays": "Under-7",
         "Class": "H",
         "_deepnote_index_column": 466
        },
        {
         "Gender": "F",
         "Nationality": "Jordan",
         "BirthPlace": "Jordan",
         "StageID": "MiddleSchool",
         "GradeID": "G-08",
         "SectionID": "A",
         "Topic": "Geology",
         "Semester": "S",
         "Relation": "Mother",
         "RaisedHands": 87,
         "VisitedResources": 93,
         "AnnouncementsView": 63,
         "Discussion": 60,
         "ParentAnsweringSurvey": "Yes",
         "ParentSchoolSatisfaction": "Good",
         "StudentAbsenceDays": "Under-7",
         "Class": "H",
         "_deepnote_index_column": 467
        },
        {
         "Gender": "F",
         "Nationality": "Jordan",
         "BirthPlace": "Jordan",
         "StageID": "MiddleSchool",
         "GradeID": "G-08",
         "SectionID": "A",
         "Topic": "Chemistry",
         "Semester": "F",
         "Relation": "Father",
         "RaisedHands": 15,
         "VisitedResources": 9,
         "AnnouncementsView": 14,
         "Discussion": 80,
         "ParentAnsweringSurvey": "No",
         "ParentSchoolSatisfaction": "Bad",
         "StudentAbsenceDays": "Above-7",
         "Class": "L",
         "_deepnote_index_column": 468
        },
        {
         "Gender": "F",
         "Nationality": "Jordan",
         "BirthPlace": "Jordan",
         "StageID": "MiddleSchool",
         "GradeID": "G-08",
         "SectionID": "A",
         "Topic": "Chemistry",
         "Semester": "S",
         "Relation": "Father",
         "RaisedHands": 9,
         "VisitedResources": 6,
         "AnnouncementsView": 15,
         "Discussion": 85,
         "ParentAnsweringSurvey": "No",
         "ParentSchoolSatisfaction": "Bad",
         "StudentAbsenceDays": "Above-7",
         "Class": "L",
         "_deepnote_index_column": 469
        },
        {
         "Gender": "M",
         "Nationality": "Palestine",
         "BirthPlace": "Jordan",
         "StageID": "MiddleSchool",
         "GradeID": "G-08",
         "SectionID": "A",
         "Topic": "History",
         "Semester": "F",
         "Relation": "Father",
         "RaisedHands": 81,
         "VisitedResources": 86,
         "AnnouncementsView": 86,
         "Discussion": 41,
         "ParentAnsweringSurvey": "Yes",
         "ParentSchoolSatisfaction": "Good",
         "StudentAbsenceDays": "Under-7",
         "Class": "M",
         "_deepnote_index_column": 470
        },
        {
         "Gender": "M",
         "Nationality": "Palestine",
         "BirthPlace": "Jordan",
         "StageID": "MiddleSchool",
         "GradeID": "G-08",
         "SectionID": "A",
         "Topic": "History",
         "Semester": "S",
         "Relation": "Father",
         "RaisedHands": 78,
         "VisitedResources": 82,
         "AnnouncementsView": 78,
         "Discussion": 53,
         "ParentAnsweringSurvey": "Yes",
         "ParentSchoolSatisfaction": "Good",
         "StudentAbsenceDays": "Under-7",
         "Class": "M",
         "_deepnote_index_column": 471
        },
        {
         "Gender": "M",
         "Nationality": "Palestine",
         "BirthPlace": "Palestine",
         "StageID": "MiddleSchool",
         "GradeID": "G-08",
         "SectionID": "A",
         "Topic": "Geology",
         "Semester": "F",
         "Relation": "Father",
         "RaisedHands": 80,
         "VisitedResources": 87,
         "AnnouncementsView": 74,
         "Discussion": 68,
         "ParentAnsweringSurvey": "Yes",
         "ParentSchoolSatisfaction": "Good",
         "StudentAbsenceDays": "Under-7",
         "Class": "M",
         "_deepnote_index_column": 472
        },
        {
         "Gender": "M",
         "Nationality": "Palestine",
         "BirthPlace": "Palestine",
         "StageID": "MiddleSchool",
         "GradeID": "G-08",
         "SectionID": "A",
         "Topic": "Geology",
         "Semester": "S",
         "Relation": "Father",
         "RaisedHands": 85,
         "VisitedResources": 88,
         "AnnouncementsView": 79,
         "Discussion": 70,
         "ParentAnsweringSurvey": "Yes",
         "ParentSchoolSatisfaction": "Good",
         "StudentAbsenceDays": "Under-7",
         "Class": "M",
         "_deepnote_index_column": 473
        },
        {
         "Gender": "F",
         "Nationality": "Jordan",
         "BirthPlace": "Jordan",
         "StageID": "MiddleSchool",
         "GradeID": "G-08",
         "SectionID": "A",
         "Topic": "Chemistry",
         "Semester": "F",
         "Relation": "Father",
         "RaisedHands": 2,
         "VisitedResources": 7,
         "AnnouncementsView": 4,
         "Discussion": 8,
         "ParentAnsweringSurvey": "No",
         "ParentSchoolSatisfaction": "Bad",
         "StudentAbsenceDays": "Above-7",
         "Class": "L",
         "_deepnote_index_column": 474
        },
        {
         "Gender": "F",
         "Nationality": "Jordan",
         "BirthPlace": "Jordan",
         "StageID": "MiddleSchool",
         "GradeID": "G-08",
         "SectionID": "A",
         "Topic": "Chemistry",
         "Semester": "S",
         "Relation": "Father",
         "RaisedHands": 5,
         "VisitedResources": 4,
         "AnnouncementsView": 5,
         "Discussion": 8,
         "ParentAnsweringSurvey": "No",
         "ParentSchoolSatisfaction": "Bad",
         "StudentAbsenceDays": "Above-7",
         "Class": "L",
         "_deepnote_index_column": 475
        },
        {
         "Gender": "F",
         "Nationality": "Jordan",
         "BirthPlace": "Jordan",
         "StageID": "MiddleSchool",
         "GradeID": "G-08",
         "SectionID": "A",
         "Topic": "Geology",
         "Semester": "F",
         "Relation": "Father",
         "RaisedHands": 50,
         "VisitedResources": 77,
         "AnnouncementsView": 14,
         "Discussion": 28,
         "ParentAnsweringSurvey": "No",
         "ParentSchoolSatisfaction": "Bad",
         "StudentAbsenceDays": "Under-7",
         "Class": "M",
         "_deepnote_index_column": 476
        },
        {
         "Gender": "F",
         "Nationality": "Jordan",
         "BirthPlace": "Jordan",
         "StageID": "MiddleSchool",
         "GradeID": "G-08",
         "SectionID": "A",
         "Topic": "Geology",
         "Semester": "S",
         "Relation": "Father",
         "RaisedHands": 55,
         "VisitedResources": 74,
         "AnnouncementsView": 25,
         "Discussion": 29,
         "ParentAnsweringSurvey": "No",
         "ParentSchoolSatisfaction": "Bad",
         "StudentAbsenceDays": "Under-7",
         "Class": "M",
         "_deepnote_index_column": 477
        },
        {
         "Gender": "F",
         "Nationality": "Jordan",
         "BirthPlace": "Jordan",
         "StageID": "MiddleSchool",
         "GradeID": "G-08",
         "SectionID": "A",
         "Topic": "History",
         "Semester": "F",
         "Relation": "Father",
         "RaisedHands": 30,
         "VisitedResources": 17,
         "AnnouncementsView": 14,
         "Discussion": 57,
         "ParentAnsweringSurvey": "No",
         "ParentSchoolSatisfaction": "Bad",
         "StudentAbsenceDays": "Above-7",
         "Class": "L",
         "_deepnote_index_column": 478
        },
        {
         "Gender": "F",
         "Nationality": "Jordan",
         "BirthPlace": "Jordan",
         "StageID": "MiddleSchool",
         "GradeID": "G-08",
         "SectionID": "A",
         "Topic": "History",
         "Semester": "S",
         "Relation": "Father",
         "RaisedHands": 35,
         "VisitedResources": 14,
         "AnnouncementsView": 23,
         "Discussion": 62,
         "ParentAnsweringSurvey": "No",
         "ParentSchoolSatisfaction": "Bad",
         "StudentAbsenceDays": "Above-7",
         "Class": "L",
         "_deepnote_index_column": 479
        }
       ]
      },
      "text/plain": "    Gender Nationality BirthPlace       StageID GradeID SectionID      Topic  \\\n0        M          KW     Kuwait    lowerlevel    G-04         A         IT   \n1        M          KW     Kuwait    lowerlevel    G-04         A         IT   \n2        M          KW     Kuwait    lowerlevel    G-04         A         IT   \n3        M          KW     Kuwait    lowerlevel    G-04         A         IT   \n4        M          KW     Kuwait    lowerlevel    G-04         A         IT   \n..     ...         ...        ...           ...     ...       ...        ...   \n475      F      Jordan     Jordan  MiddleSchool    G-08         A  Chemistry   \n476      F      Jordan     Jordan  MiddleSchool    G-08         A    Geology   \n477      F      Jordan     Jordan  MiddleSchool    G-08         A    Geology   \n478      F      Jordan     Jordan  MiddleSchool    G-08         A    History   \n479      F      Jordan     Jordan  MiddleSchool    G-08         A    History   \n\n    Semester Relation  RaisedHands  VisitedResources  AnnouncementsView  \\\n0          F   Father           15                16                  2   \n1          F   Father           20                20                  3   \n2          F   Father           10                 7                  0   \n3          F   Father           30                25                  5   \n4          F   Father           40                50                 12   \n..       ...      ...          ...               ...                ...   \n475        S   Father            5                 4                  5   \n476        F   Father           50                77                 14   \n477        S   Father           55                74                 25   \n478        F   Father           30                17                 14   \n479        S   Father           35                14                 23   \n\n     Discussion ParentAnsweringSurvey ParentSchoolSatisfaction  \\\n0            20                   Yes                     Good   \n1            25                   Yes                     Good   \n2            30                    No                      Bad   \n3            35                    No                      Bad   \n4            50                    No                      Bad   \n..          ...                   ...                      ...   \n475           8                    No                      Bad   \n476          28                    No                      Bad   \n477          29                    No                      Bad   \n478          57                    No                      Bad   \n479          62                    No                      Bad   \n\n    StudentAbsenceDays Class  \n0              Under-7     M  \n1              Under-7     M  \n2              Above-7     L  \n3              Above-7     L  \n4              Above-7     M  \n..                 ...   ...  \n475            Above-7     L  \n476            Under-7     M  \n477            Under-7     M  \n478            Above-7     L  \n479            Above-7     L  \n\n[480 rows x 17 columns]",
      "text/html": "<div>\n<style scoped>\n    .dataframe tbody tr th:only-of-type {\n        vertical-align: middle;\n    }\n\n    .dataframe tbody tr th {\n        vertical-align: top;\n    }\n\n    .dataframe thead th {\n        text-align: right;\n    }\n</style>\n<table border=\"1\" class=\"dataframe\">\n  <thead>\n    <tr style=\"text-align: right;\">\n      <th></th>\n      <th>Gender</th>\n      <th>Nationality</th>\n      <th>BirthPlace</th>\n      <th>StageID</th>\n      <th>GradeID</th>\n      <th>SectionID</th>\n      <th>Topic</th>\n      <th>Semester</th>\n      <th>Relation</th>\n      <th>RaisedHands</th>\n      <th>VisitedResources</th>\n      <th>AnnouncementsView</th>\n      <th>Discussion</th>\n      <th>ParentAnsweringSurvey</th>\n      <th>ParentSchoolSatisfaction</th>\n      <th>StudentAbsenceDays</th>\n      <th>Class</th>\n    </tr>\n  </thead>\n  <tbody>\n    <tr>\n      <th>0</th>\n      <td>M</td>\n      <td>KW</td>\n      <td>Kuwait</td>\n      <td>lowerlevel</td>\n      <td>G-04</td>\n      <td>A</td>\n      <td>IT</td>\n      <td>F</td>\n      <td>Father</td>\n      <td>15</td>\n      <td>16</td>\n      <td>2</td>\n      <td>20</td>\n      <td>Yes</td>\n      <td>Good</td>\n      <td>Under-7</td>\n      <td>M</td>\n    </tr>\n    <tr>\n      <th>1</th>\n      <td>M</td>\n      <td>KW</td>\n      <td>Kuwait</td>\n      <td>lowerlevel</td>\n      <td>G-04</td>\n      <td>A</td>\n      <td>IT</td>\n      <td>F</td>\n      <td>Father</td>\n      <td>20</td>\n      <td>20</td>\n      <td>3</td>\n      <td>25</td>\n      <td>Yes</td>\n      <td>Good</td>\n      <td>Under-7</td>\n      <td>M</td>\n    </tr>\n    <tr>\n      <th>2</th>\n      <td>M</td>\n      <td>KW</td>\n      <td>Kuwait</td>\n      <td>lowerlevel</td>\n      <td>G-04</td>\n      <td>A</td>\n      <td>IT</td>\n      <td>F</td>\n      <td>Father</td>\n      <td>10</td>\n      <td>7</td>\n      <td>0</td>\n      <td>30</td>\n      <td>No</td>\n      <td>Bad</td>\n      <td>Above-7</td>\n      <td>L</td>\n    </tr>\n    <tr>\n      <th>3</th>\n      <td>M</td>\n      <td>KW</td>\n      <td>Kuwait</td>\n      <td>lowerlevel</td>\n      <td>G-04</td>\n      <td>A</td>\n      <td>IT</td>\n      <td>F</td>\n      <td>Father</td>\n      <td>30</td>\n      <td>25</td>\n      <td>5</td>\n      <td>35</td>\n      <td>No</td>\n      <td>Bad</td>\n      <td>Above-7</td>\n      <td>L</td>\n    </tr>\n    <tr>\n      <th>4</th>\n      <td>M</td>\n      <td>KW</td>\n      <td>Kuwait</td>\n      <td>lowerlevel</td>\n      <td>G-04</td>\n      <td>A</td>\n      <td>IT</td>\n      <td>F</td>\n      <td>Father</td>\n      <td>40</td>\n      <td>50</td>\n      <td>12</td>\n      <td>50</td>\n      <td>No</td>\n      <td>Bad</td>\n      <td>Above-7</td>\n      <td>M</td>\n    </tr>\n    <tr>\n      <th>...</th>\n      <td>...</td>\n      <td>...</td>\n      <td>...</td>\n      <td>...</td>\n      <td>...</td>\n      <td>...</td>\n      <td>...</td>\n      <td>...</td>\n      <td>...</td>\n      <td>...</td>\n      <td>...</td>\n      <td>...</td>\n      <td>...</td>\n      <td>...</td>\n      <td>...</td>\n      <td>...</td>\n      <td>...</td>\n    </tr>\n    <tr>\n      <th>475</th>\n      <td>F</td>\n      <td>Jordan</td>\n      <td>Jordan</td>\n      <td>MiddleSchool</td>\n      <td>G-08</td>\n      <td>A</td>\n      <td>Chemistry</td>\n      <td>S</td>\n      <td>Father</td>\n      <td>5</td>\n      <td>4</td>\n      <td>5</td>\n      <td>8</td>\n      <td>No</td>\n      <td>Bad</td>\n      <td>Above-7</td>\n      <td>L</td>\n    </tr>\n    <tr>\n      <th>476</th>\n      <td>F</td>\n      <td>Jordan</td>\n      <td>Jordan</td>\n      <td>MiddleSchool</td>\n      <td>G-08</td>\n      <td>A</td>\n      <td>Geology</td>\n      <td>F</td>\n      <td>Father</td>\n      <td>50</td>\n      <td>77</td>\n      <td>14</td>\n      <td>28</td>\n      <td>No</td>\n      <td>Bad</td>\n      <td>Under-7</td>\n      <td>M</td>\n    </tr>\n    <tr>\n      <th>477</th>\n      <td>F</td>\n      <td>Jordan</td>\n      <td>Jordan</td>\n      <td>MiddleSchool</td>\n      <td>G-08</td>\n      <td>A</td>\n      <td>Geology</td>\n      <td>S</td>\n      <td>Father</td>\n      <td>55</td>\n      <td>74</td>\n      <td>25</td>\n      <td>29</td>\n      <td>No</td>\n      <td>Bad</td>\n      <td>Under-7</td>\n      <td>M</td>\n    </tr>\n    <tr>\n      <th>478</th>\n      <td>F</td>\n      <td>Jordan</td>\n      <td>Jordan</td>\n      <td>MiddleSchool</td>\n      <td>G-08</td>\n      <td>A</td>\n      <td>History</td>\n      <td>F</td>\n      <td>Father</td>\n      <td>30</td>\n      <td>17</td>\n      <td>14</td>\n      <td>57</td>\n      <td>No</td>\n      <td>Bad</td>\n      <td>Above-7</td>\n      <td>L</td>\n    </tr>\n    <tr>\n      <th>479</th>\n      <td>F</td>\n      <td>Jordan</td>\n      <td>Jordan</td>\n      <td>MiddleSchool</td>\n      <td>G-08</td>\n      <td>A</td>\n      <td>History</td>\n      <td>S</td>\n      <td>Father</td>\n      <td>35</td>\n      <td>14</td>\n      <td>23</td>\n      <td>62</td>\n      <td>No</td>\n      <td>Bad</td>\n      <td>Above-7</td>\n      <td>L</td>\n    </tr>\n  </tbody>\n</table>\n<p>480 rows × 17 columns</p>\n</div>"
     },
     "metadata": {}
    }
   ]
  },
  {
   "cell_type": "markdown",
   "source": "#### **Renaming countries from the `Nationality` column**  ",
   "metadata": {
    "id": "HuX6a-Cxn1mO",
    "cell_id": "00026-7b0529ab-0751-49d4-852f-1ae206772ac0",
    "deepnote_cell_type": "markdown"
   }
  },
  {
   "cell_type": "code",
   "metadata": {
    "colab": {
     "base_uri": "https://localhost:8080/"
    },
    "id": "fEpJZ-OTKuQ1",
    "executionInfo": {
     "status": "ok",
     "timestamp": 1620279364601,
     "user_tz": -480,
     "elapsed": 765,
     "user": {
      "displayName": "Angeline Maris Gubat",
      "photoUrl": "https://lh3.googleusercontent.com/a-/AOh14Gijg6xgX0R_IA4o8GkF1xnv3D8-8kHv8i-V48U6=s64",
      "userId": "00875153666701401808"
     }
    },
    "outputId": "5a5733e5-42ef-45af-a24e-4e13cc7e756f",
    "cell_id": "00027-964e53b6-5563-441e-aea3-dc098e66e74a",
    "deepnote_to_be_reexecuted": false,
    "source_hash": "fc0821c6",
    "execution_start": 1622445247986,
    "execution_millis": 235080260,
    "deepnote_cell_type": "code"
   },
   "source": "spd_df['Nationality'].unique()",
   "execution_count": 16,
   "outputs": [
    {
     "output_type": "execute_result",
     "execution_count": 16,
     "data": {
      "text/plain": "array(['KW', 'lebanon', 'Egypt', 'SaudiArabia', 'USA', 'Jordan',\n       'venzuela', 'Iran', 'Tunis', 'Morocco', 'Syria', 'Palestine',\n       'Iraq', 'Lybia'], dtype=object)"
     },
     "metadata": {}
    }
   ]
  },
  {
   "cell_type": "markdown",
   "source": "Just like in the `BirthPlace` column, there are some inconsistencies and misspelled locations. Let's turn `KW` into `Kuwait`, `lebanon` to `Lebanon`, `venzuela` to `Venezuela`, and `Lybia` to `Libya`.",
   "metadata": {
    "id": "4DaTuJWroA58",
    "cell_id": "00028-ceb46483-185a-4b81-89be-8cd2ecf19397",
    "deepnote_cell_type": "markdown"
   }
  },
  {
   "cell_type": "code",
   "metadata": {
    "id": "YLwyv7qVoGH8",
    "cell_id": "00029-6bf361d8-98f5-49ea-95ec-63336662dada",
    "deepnote_to_be_reexecuted": false,
    "source_hash": "a04bdd8",
    "execution_start": 1622445248037,
    "execution_millis": 235080252,
    "deepnote_cell_type": "code"
   },
   "source": "spd_df.loc[spd_df['Nationality'] == 'KW', 'Nationality'] = 'Kuwait' ",
   "execution_count": 17,
   "outputs": []
  },
  {
   "cell_type": "code",
   "metadata": {
    "id": "bnCF_p1CKw5s",
    "cell_id": "00030-77f110a7-6c00-4ef9-a3a0-0be908c1955a",
    "deepnote_to_be_reexecuted": false,
    "source_hash": "28e0b9cc",
    "execution_start": 1622445248038,
    "execution_millis": 235080250,
    "deepnote_cell_type": "code"
   },
   "source": "spd_df.loc[spd_df['Nationality'] == 'lebanon', 'Nationality'] = 'Lebanon' ",
   "execution_count": 18,
   "outputs": []
  },
  {
   "cell_type": "code",
   "metadata": {
    "id": "4HGTXXSMK2uv",
    "cell_id": "00031-bec95cb3-9824-4308-ad74-f860ffd99ff2",
    "deepnote_to_be_reexecuted": false,
    "source_hash": "f984b6f1",
    "execution_start": 1622445248039,
    "execution_millis": 2,
    "deepnote_cell_type": "code"
   },
   "source": "spd_df.loc[spd_df['Nationality'] == 'venzuela', 'Nationality'] = 'Venezuela' ",
   "execution_count": 19,
   "outputs": []
  },
  {
   "cell_type": "code",
   "metadata": {
    "tags": [],
    "cell_id": "00033-e83b75e3-9847-450b-8f77-c72a19df7f81",
    "deepnote_to_be_reexecuted": false,
    "source_hash": "73b6e39",
    "execution_start": 1622445248039,
    "execution_millis": 235080269,
    "deepnote_cell_type": "code"
   },
   "source": "spd_df.loc[spd_df['Nationality'] == 'Lybia', 'Nationality'] = 'Libya' ",
   "execution_count": 20,
   "outputs": []
  },
  {
   "cell_type": "code",
   "metadata": {
    "colab": {
     "base_uri": "https://localhost:8080/"
    },
    "id": "ArJFox0onwXN",
    "executionInfo": {
     "status": "ok",
     "timestamp": 1620279371322,
     "user_tz": -480,
     "elapsed": 500,
     "user": {
      "displayName": "Angeline Maris Gubat",
      "photoUrl": "https://lh3.googleusercontent.com/a-/AOh14Gijg6xgX0R_IA4o8GkF1xnv3D8-8kHv8i-V48U6=s64",
      "userId": "00875153666701401808"
     }
    },
    "outputId": "d31f1a79-383c-4fb7-ace8-622f563bdc44",
    "cell_id": "00032-2219e282-cb8e-4b2c-892c-6de507043d4c",
    "deepnote_to_be_reexecuted": false,
    "source_hash": "fc0821c6",
    "execution_start": 1622445248046,
    "execution_millis": 235080269,
    "deepnote_cell_type": "code"
   },
   "source": "spd_df['Nationality'].unique()",
   "execution_count": 21,
   "outputs": [
    {
     "output_type": "execute_result",
     "execution_count": 21,
     "data": {
      "text/plain": "array(['Kuwait', 'Lebanon', 'Egypt', 'SaudiArabia', 'USA', 'Jordan',\n       'Venezuela', 'Iran', 'Tunis', 'Morocco', 'Syria', 'Palestine',\n       'Iraq', 'Libya'], dtype=object)"
     },
     "metadata": {}
    }
   ]
  },
  {
   "cell_type": "code",
   "metadata": {
    "colab": {
     "base_uri": "https://localhost:8080/",
     "height": 439
    },
    "id": "eIxLuYwUoLFl",
    "executionInfo": {
     "status": "ok",
     "timestamp": 1620279375611,
     "user_tz": -480,
     "elapsed": 870,
     "user": {
      "displayName": "Angeline Maris Gubat",
      "photoUrl": "https://lh3.googleusercontent.com/a-/AOh14Gijg6xgX0R_IA4o8GkF1xnv3D8-8kHv8i-V48U6=s64",
      "userId": "00875153666701401808"
     }
    },
    "outputId": "09d674e3-bfbf-4251-d3ca-023038b4437c",
    "cell_id": "00033-fccbbb17-ee83-40f8-b754-5132db6cf963",
    "deepnote_to_be_reexecuted": false,
    "source_hash": "511618e5",
    "execution_start": 1622445248093,
    "execution_millis": 113,
    "deepnote_cell_type": "code"
   },
   "source": "spd_df",
   "execution_count": 22,
   "outputs": [
    {
     "output_type": "execute_result",
     "execution_count": 22,
     "data": {
      "application/vnd.deepnote.dataframe.v2+json": {
       "row_count": 480,
       "column_count": 17,
       "columns": [
        {
         "name": "Gender",
         "dtype": "object",
         "stats": {
          "unique_count": 2,
          "nan_count": 0,
          "categories": [
           {
            "name": "M",
            "count": 305
           },
           {
            "name": "F",
            "count": 175
           }
          ]
         }
        },
        {
         "name": "Nationality",
         "dtype": "object",
         "stats": {
          "unique_count": 14,
          "nan_count": 0,
          "categories": [
           {
            "name": "Kuwait",
            "count": 179
           },
           {
            "name": "Jordan",
            "count": 172
           },
           {
            "name": "12 others",
            "count": 129
           }
          ]
         }
        },
        {
         "name": "BirthPlace",
         "dtype": "object",
         "stats": {
          "unique_count": 14,
          "nan_count": 0,
          "categories": [
           {
            "name": "Kuwait",
            "count": 180
           },
           {
            "name": "Jordan",
            "count": 176
           },
           {
            "name": "12 others",
            "count": 124
           }
          ]
         }
        },
        {
         "name": "StageID",
         "dtype": "object",
         "stats": {
          "unique_count": 3,
          "nan_count": 0,
          "categories": [
           {
            "name": "MiddleSchool",
            "count": 248
           },
           {
            "name": "lowerlevel",
            "count": 199
           },
           {
            "name": "HighSchool",
            "count": 33
           }
          ]
         }
        },
        {
         "name": "GradeID",
         "dtype": "object",
         "stats": {
          "unique_count": 10,
          "nan_count": 0,
          "categories": [
           {
            "name": "G-02",
            "count": 147
           },
           {
            "name": "G-08",
            "count": 116
           },
           {
            "name": "8 others",
            "count": 217
           }
          ]
         }
        },
        {
         "name": "SectionID",
         "dtype": "object",
         "stats": {
          "unique_count": 3,
          "nan_count": 0,
          "categories": [
           {
            "name": "A",
            "count": 283
           },
           {
            "name": "B",
            "count": 167
           },
           {
            "name": "C",
            "count": 30
           }
          ]
         }
        },
        {
         "name": "Topic",
         "dtype": "object",
         "stats": {
          "unique_count": 12,
          "nan_count": 0,
          "categories": [
           {
            "name": "IT",
            "count": 95
           },
           {
            "name": "French",
            "count": 65
           },
           {
            "name": "10 others",
            "count": 320
           }
          ]
         }
        },
        {
         "name": "Semester",
         "dtype": "object",
         "stats": {
          "unique_count": 2,
          "nan_count": 0,
          "categories": [
           {
            "name": "F",
            "count": 245
           },
           {
            "name": "S",
            "count": 235
           }
          ]
         }
        },
        {
         "name": "Relation",
         "dtype": "object",
         "stats": {
          "unique_count": 2,
          "nan_count": 0,
          "categories": [
           {
            "name": "Father",
            "count": 283
           },
           {
            "name": "Mother",
            "count": 197
           }
          ]
         }
        },
        {
         "name": "RaisedHands",
         "dtype": "int64",
         "stats": {
          "unique_count": 82,
          "nan_count": 0,
          "min": "0",
          "max": "100",
          "histogram": [
           {
            "bin_start": 0,
            "bin_end": 10,
            "count": 50
           },
           {
            "bin_start": 10,
            "bin_end": 20,
            "count": 90
           },
           {
            "bin_start": 20,
            "bin_end": 30,
            "count": 48
           },
           {
            "bin_start": 30,
            "bin_end": 40,
            "count": 31
           },
           {
            "bin_start": 40,
            "bin_end": 50,
            "count": 18
           },
           {
            "bin_start": 50,
            "bin_end": 60,
            "count": 33
           },
           {
            "bin_start": 60,
            "bin_end": 70,
            "count": 31
           },
           {
            "bin_start": 70,
            "bin_end": 80,
            "count": 80
           },
           {
            "bin_start": 80,
            "bin_end": 90,
            "count": 66
           },
           {
            "bin_start": 90,
            "bin_end": 100,
            "count": 33
           }
          ]
         }
        },
        {
         "name": "VisitedResources",
         "dtype": "int64",
         "stats": {
          "unique_count": 89,
          "nan_count": 0,
          "min": "0",
          "max": "99",
          "histogram": [
           {
            "bin_start": 0,
            "bin_end": 9.9,
            "count": 63
           },
           {
            "bin_start": 9.9,
            "bin_end": 19.8,
            "count": 55
           },
           {
            "bin_start": 19.8,
            "bin_end": 29.700000000000003,
            "count": 33
           },
           {
            "bin_start": 29.700000000000003,
            "bin_end": 39.6,
            "count": 22
           },
           {
            "bin_start": 39.6,
            "bin_end": 49.5,
            "count": 15
           },
           {
            "bin_start": 49.5,
            "bin_end": 59.400000000000006,
            "count": 27
           },
           {
            "bin_start": 59.400000000000006,
            "bin_end": 69.3,
            "count": 32
           },
           {
            "bin_start": 69.3,
            "bin_end": 79.2,
            "count": 50
           },
           {
            "bin_start": 79.2,
            "bin_end": 89.10000000000001,
            "count": 107
           },
           {
            "bin_start": 89.10000000000001,
            "bin_end": 99,
            "count": 76
           }
          ]
         }
        },
        {
         "name": "AnnouncementsView",
         "dtype": "int64",
         "stats": {
          "unique_count": 88,
          "nan_count": 0,
          "min": "0",
          "max": "98",
          "histogram": [
           {
            "bin_start": 0,
            "bin_end": 9.8,
            "count": 72
           },
           {
            "bin_start": 9.8,
            "bin_end": 19.6,
            "count": 78
           },
           {
            "bin_start": 19.6,
            "bin_end": 29.400000000000002,
            "count": 63
           },
           {
            "bin_start": 29.400000000000002,
            "bin_end": 39.2,
            "count": 45
           },
           {
            "bin_start": 39.2,
            "bin_end": 49,
            "count": 47
           },
           {
            "bin_start": 49,
            "bin_end": 58.800000000000004,
            "count": 59
           },
           {
            "bin_start": 58.800000000000004,
            "bin_end": 68.60000000000001,
            "count": 27
           },
           {
            "bin_start": 68.60000000000001,
            "bin_end": 78.4,
            "count": 36
           },
           {
            "bin_start": 78.4,
            "bin_end": 88.2,
            "count": 42
           },
           {
            "bin_start": 88.2,
            "bin_end": 98,
            "count": 11
           }
          ]
         }
        },
        {
         "name": "Discussion",
         "dtype": "int64",
         "stats": {
          "unique_count": 90,
          "nan_count": 0,
          "min": "1",
          "max": "99",
          "histogram": [
           {
            "bin_start": 1,
            "bin_end": 10.8,
            "count": 52
           },
           {
            "bin_start": 10.8,
            "bin_end": 20.6,
            "count": 77
           },
           {
            "bin_start": 20.6,
            "bin_end": 30.400000000000002,
            "count": 66
           },
           {
            "bin_start": 30.400000000000002,
            "bin_end": 40.2,
            "count": 69
           },
           {
            "bin_start": 40.2,
            "bin_end": 50,
            "count": 26
           },
           {
            "bin_start": 50,
            "bin_end": 59.800000000000004,
            "count": 38
           },
           {
            "bin_start": 59.800000000000004,
            "bin_end": 69.60000000000001,
            "count": 28
           },
           {
            "bin_start": 69.60000000000001,
            "bin_end": 79.4,
            "count": 42
           },
           {
            "bin_start": 79.4,
            "bin_end": 89.2,
            "count": 53
           },
           {
            "bin_start": 89.2,
            "bin_end": 99,
            "count": 29
           }
          ]
         }
        },
        {
         "name": "ParentAnsweringSurvey",
         "dtype": "object",
         "stats": {
          "unique_count": 2,
          "nan_count": 0,
          "categories": [
           {
            "name": "Yes",
            "count": 270
           },
           {
            "name": "No",
            "count": 210
           }
          ]
         }
        },
        {
         "name": "ParentSchoolSatisfaction",
         "dtype": "object",
         "stats": {
          "unique_count": 2,
          "nan_count": 0,
          "categories": [
           {
            "name": "Good",
            "count": 292
           },
           {
            "name": "Bad",
            "count": 188
           }
          ]
         }
        },
        {
         "name": "StudentAbsenceDays",
         "dtype": "object",
         "stats": {
          "unique_count": 2,
          "nan_count": 0,
          "categories": [
           {
            "name": "Under-7",
            "count": 289
           },
           {
            "name": "Above-7",
            "count": 191
           }
          ]
         }
        },
        {
         "name": "Class",
         "dtype": "object",
         "stats": {
          "unique_count": 3,
          "nan_count": 0,
          "categories": [
           {
            "name": "M",
            "count": 211
           },
           {
            "name": "H",
            "count": 142
           },
           {
            "name": "L",
            "count": 127
           }
          ]
         }
        },
        {
         "name": "_deepnote_index_column",
         "dtype": "int64"
        }
       ],
       "rows_top": [
        {
         "Gender": "M",
         "Nationality": "Kuwait",
         "BirthPlace": "Kuwait",
         "StageID": "lowerlevel",
         "GradeID": "G-04",
         "SectionID": "A",
         "Topic": "IT",
         "Semester": "F",
         "Relation": "Father",
         "RaisedHands": 15,
         "VisitedResources": 16,
         "AnnouncementsView": 2,
         "Discussion": 20,
         "ParentAnsweringSurvey": "Yes",
         "ParentSchoolSatisfaction": "Good",
         "StudentAbsenceDays": "Under-7",
         "Class": "M",
         "_deepnote_index_column": 0
        },
        {
         "Gender": "M",
         "Nationality": "Kuwait",
         "BirthPlace": "Kuwait",
         "StageID": "lowerlevel",
         "GradeID": "G-04",
         "SectionID": "A",
         "Topic": "IT",
         "Semester": "F",
         "Relation": "Father",
         "RaisedHands": 20,
         "VisitedResources": 20,
         "AnnouncementsView": 3,
         "Discussion": 25,
         "ParentAnsweringSurvey": "Yes",
         "ParentSchoolSatisfaction": "Good",
         "StudentAbsenceDays": "Under-7",
         "Class": "M",
         "_deepnote_index_column": 1
        },
        {
         "Gender": "M",
         "Nationality": "Kuwait",
         "BirthPlace": "Kuwait",
         "StageID": "lowerlevel",
         "GradeID": "G-04",
         "SectionID": "A",
         "Topic": "IT",
         "Semester": "F",
         "Relation": "Father",
         "RaisedHands": 10,
         "VisitedResources": 7,
         "AnnouncementsView": 0,
         "Discussion": 30,
         "ParentAnsweringSurvey": "No",
         "ParentSchoolSatisfaction": "Bad",
         "StudentAbsenceDays": "Above-7",
         "Class": "L",
         "_deepnote_index_column": 2
        },
        {
         "Gender": "M",
         "Nationality": "Kuwait",
         "BirthPlace": "Kuwait",
         "StageID": "lowerlevel",
         "GradeID": "G-04",
         "SectionID": "A",
         "Topic": "IT",
         "Semester": "F",
         "Relation": "Father",
         "RaisedHands": 30,
         "VisitedResources": 25,
         "AnnouncementsView": 5,
         "Discussion": 35,
         "ParentAnsweringSurvey": "No",
         "ParentSchoolSatisfaction": "Bad",
         "StudentAbsenceDays": "Above-7",
         "Class": "L",
         "_deepnote_index_column": 3
        },
        {
         "Gender": "M",
         "Nationality": "Kuwait",
         "BirthPlace": "Kuwait",
         "StageID": "lowerlevel",
         "GradeID": "G-04",
         "SectionID": "A",
         "Topic": "IT",
         "Semester": "F",
         "Relation": "Father",
         "RaisedHands": 40,
         "VisitedResources": 50,
         "AnnouncementsView": 12,
         "Discussion": 50,
         "ParentAnsweringSurvey": "No",
         "ParentSchoolSatisfaction": "Bad",
         "StudentAbsenceDays": "Above-7",
         "Class": "M",
         "_deepnote_index_column": 4
        },
        {
         "Gender": "F",
         "Nationality": "Kuwait",
         "BirthPlace": "Kuwait",
         "StageID": "lowerlevel",
         "GradeID": "G-04",
         "SectionID": "A",
         "Topic": "IT",
         "Semester": "F",
         "Relation": "Father",
         "RaisedHands": 42,
         "VisitedResources": 30,
         "AnnouncementsView": 13,
         "Discussion": 70,
         "ParentAnsweringSurvey": "Yes",
         "ParentSchoolSatisfaction": "Bad",
         "StudentAbsenceDays": "Above-7",
         "Class": "M",
         "_deepnote_index_column": 5
        },
        {
         "Gender": "M",
         "Nationality": "Kuwait",
         "BirthPlace": "Kuwait",
         "StageID": "MiddleSchool",
         "GradeID": "G-07",
         "SectionID": "A",
         "Topic": "Math",
         "Semester": "F",
         "Relation": "Father",
         "RaisedHands": 35,
         "VisitedResources": 12,
         "AnnouncementsView": 0,
         "Discussion": 17,
         "ParentAnsweringSurvey": "No",
         "ParentSchoolSatisfaction": "Bad",
         "StudentAbsenceDays": "Above-7",
         "Class": "L",
         "_deepnote_index_column": 6
        },
        {
         "Gender": "M",
         "Nationality": "Kuwait",
         "BirthPlace": "Kuwait",
         "StageID": "MiddleSchool",
         "GradeID": "G-07",
         "SectionID": "A",
         "Topic": "Math",
         "Semester": "F",
         "Relation": "Father",
         "RaisedHands": 50,
         "VisitedResources": 10,
         "AnnouncementsView": 15,
         "Discussion": 22,
         "ParentAnsweringSurvey": "Yes",
         "ParentSchoolSatisfaction": "Good",
         "StudentAbsenceDays": "Under-7",
         "Class": "M",
         "_deepnote_index_column": 7
        },
        {
         "Gender": "F",
         "Nationality": "Kuwait",
         "BirthPlace": "Kuwait",
         "StageID": "MiddleSchool",
         "GradeID": "G-07",
         "SectionID": "A",
         "Topic": "Math",
         "Semester": "F",
         "Relation": "Father",
         "RaisedHands": 12,
         "VisitedResources": 21,
         "AnnouncementsView": 16,
         "Discussion": 50,
         "ParentAnsweringSurvey": "Yes",
         "ParentSchoolSatisfaction": "Good",
         "StudentAbsenceDays": "Under-7",
         "Class": "M",
         "_deepnote_index_column": 8
        },
        {
         "Gender": "F",
         "Nationality": "Kuwait",
         "BirthPlace": "Kuwait",
         "StageID": "MiddleSchool",
         "GradeID": "G-07",
         "SectionID": "B",
         "Topic": "IT",
         "Semester": "F",
         "Relation": "Father",
         "RaisedHands": 70,
         "VisitedResources": 80,
         "AnnouncementsView": 25,
         "Discussion": 70,
         "ParentAnsweringSurvey": "Yes",
         "ParentSchoolSatisfaction": "Good",
         "StudentAbsenceDays": "Under-7",
         "Class": "M",
         "_deepnote_index_column": 9
        },
        {
         "Gender": "M",
         "Nationality": "Kuwait",
         "BirthPlace": "Kuwait",
         "StageID": "MiddleSchool",
         "GradeID": "G-07",
         "SectionID": "A",
         "Topic": "Math",
         "Semester": "F",
         "Relation": "Father",
         "RaisedHands": 50,
         "VisitedResources": 88,
         "AnnouncementsView": 30,
         "Discussion": 80,
         "ParentAnsweringSurvey": "Yes",
         "ParentSchoolSatisfaction": "Good",
         "StudentAbsenceDays": "Under-7",
         "Class": "H",
         "_deepnote_index_column": 10
        },
        {
         "Gender": "M",
         "Nationality": "Kuwait",
         "BirthPlace": "Kuwait",
         "StageID": "MiddleSchool",
         "GradeID": "G-07",
         "SectionID": "B",
         "Topic": "Math",
         "Semester": "F",
         "Relation": "Father",
         "RaisedHands": 19,
         "VisitedResources": 6,
         "AnnouncementsView": 19,
         "Discussion": 12,
         "ParentAnsweringSurvey": "Yes",
         "ParentSchoolSatisfaction": "Good",
         "StudentAbsenceDays": "Under-7",
         "Class": "M",
         "_deepnote_index_column": 11
        },
        {
         "Gender": "M",
         "Nationality": "Kuwait",
         "BirthPlace": "Kuwait",
         "StageID": "lowerlevel",
         "GradeID": "G-04",
         "SectionID": "A",
         "Topic": "IT",
         "Semester": "F",
         "Relation": "Father",
         "RaisedHands": 5,
         "VisitedResources": 1,
         "AnnouncementsView": 0,
         "Discussion": 11,
         "ParentAnsweringSurvey": "No",
         "ParentSchoolSatisfaction": "Bad",
         "StudentAbsenceDays": "Above-7",
         "Class": "L",
         "_deepnote_index_column": 12
        },
        {
         "Gender": "M",
         "Nationality": "Lebanon",
         "BirthPlace": "Lebanon",
         "StageID": "MiddleSchool",
         "GradeID": "G-08",
         "SectionID": "A",
         "Topic": "Math",
         "Semester": "F",
         "Relation": "Father",
         "RaisedHands": 20,
         "VisitedResources": 14,
         "AnnouncementsView": 12,
         "Discussion": 19,
         "ParentAnsweringSurvey": "No",
         "ParentSchoolSatisfaction": "Bad",
         "StudentAbsenceDays": "Above-7",
         "Class": "L",
         "_deepnote_index_column": 13
        },
        {
         "Gender": "F",
         "Nationality": "Kuwait",
         "BirthPlace": "Kuwait",
         "StageID": "MiddleSchool",
         "GradeID": "G-08",
         "SectionID": "A",
         "Topic": "Math",
         "Semester": "F",
         "Relation": "Mother",
         "RaisedHands": 62,
         "VisitedResources": 70,
         "AnnouncementsView": 44,
         "Discussion": 60,
         "ParentAnsweringSurvey": "No",
         "ParentSchoolSatisfaction": "Bad",
         "StudentAbsenceDays": "Above-7",
         "Class": "H",
         "_deepnote_index_column": 14
        },
        {
         "Gender": "F",
         "Nationality": "Kuwait",
         "BirthPlace": "Kuwait",
         "StageID": "MiddleSchool",
         "GradeID": "G-06",
         "SectionID": "A",
         "Topic": "IT",
         "Semester": "F",
         "Relation": "Father",
         "RaisedHands": 30,
         "VisitedResources": 40,
         "AnnouncementsView": 22,
         "Discussion": 66,
         "ParentAnsweringSurvey": "Yes",
         "ParentSchoolSatisfaction": "Good",
         "StudentAbsenceDays": "Under-7",
         "Class": "M",
         "_deepnote_index_column": 15
        },
        {
         "Gender": "M",
         "Nationality": "Kuwait",
         "BirthPlace": "Kuwait",
         "StageID": "MiddleSchool",
         "GradeID": "G-07",
         "SectionID": "B",
         "Topic": "IT",
         "Semester": "F",
         "Relation": "Father",
         "RaisedHands": 36,
         "VisitedResources": 30,
         "AnnouncementsView": 20,
         "Discussion": 80,
         "ParentAnsweringSurvey": "No",
         "ParentSchoolSatisfaction": "Bad",
         "StudentAbsenceDays": "Above-7",
         "Class": "M",
         "_deepnote_index_column": 16
        },
        {
         "Gender": "M",
         "Nationality": "Kuwait",
         "BirthPlace": "Kuwait",
         "StageID": "MiddleSchool",
         "GradeID": "G-07",
         "SectionID": "A",
         "Topic": "Math",
         "Semester": "F",
         "Relation": "Father",
         "RaisedHands": 55,
         "VisitedResources": 13,
         "AnnouncementsView": 35,
         "Discussion": 90,
         "ParentAnsweringSurvey": "No",
         "ParentSchoolSatisfaction": "Bad",
         "StudentAbsenceDays": "Above-7",
         "Class": "M",
         "_deepnote_index_column": 17
        },
        {
         "Gender": "F",
         "Nationality": "Kuwait",
         "BirthPlace": "Kuwait",
         "StageID": "MiddleSchool",
         "GradeID": "G-07",
         "SectionID": "A",
         "Topic": "IT",
         "Semester": "F",
         "Relation": "Mother",
         "RaisedHands": 69,
         "VisitedResources": 15,
         "AnnouncementsView": 36,
         "Discussion": 96,
         "ParentAnsweringSurvey": "Yes",
         "ParentSchoolSatisfaction": "Good",
         "StudentAbsenceDays": "Under-7",
         "Class": "M",
         "_deepnote_index_column": 18
        },
        {
         "Gender": "M",
         "Nationality": "Kuwait",
         "BirthPlace": "Kuwait",
         "StageID": "MiddleSchool",
         "GradeID": "G-07",
         "SectionID": "B",
         "Topic": "IT",
         "Semester": "F",
         "Relation": "Mother",
         "RaisedHands": 70,
         "VisitedResources": 50,
         "AnnouncementsView": 40,
         "Discussion": 99,
         "ParentAnsweringSurvey": "Yes",
         "ParentSchoolSatisfaction": "Good",
         "StudentAbsenceDays": "Under-7",
         "Class": "H",
         "_deepnote_index_column": 19
        },
        {
         "Gender": "F",
         "Nationality": "Kuwait",
         "BirthPlace": "Kuwait",
         "StageID": "MiddleSchool",
         "GradeID": "G-07",
         "SectionID": "A",
         "Topic": "IT",
         "Semester": "F",
         "Relation": "Father",
         "RaisedHands": 60,
         "VisitedResources": 60,
         "AnnouncementsView": 33,
         "Discussion": 90,
         "ParentAnsweringSurvey": "No",
         "ParentSchoolSatisfaction": "Bad",
         "StudentAbsenceDays": "Above-7",
         "Class": "M",
         "_deepnote_index_column": 20
        },
        {
         "Gender": "F",
         "Nationality": "Kuwait",
         "BirthPlace": "Kuwait",
         "StageID": "MiddleSchool",
         "GradeID": "G-07",
         "SectionID": "B",
         "Topic": "IT",
         "Semester": "F",
         "Relation": "Father",
         "RaisedHands": 10,
         "VisitedResources": 12,
         "AnnouncementsView": 4,
         "Discussion": 80,
         "ParentAnsweringSurvey": "No",
         "ParentSchoolSatisfaction": "Bad",
         "StudentAbsenceDays": "Under-7",
         "Class": "M",
         "_deepnote_index_column": 21
        },
        {
         "Gender": "M",
         "Nationality": "Kuwait",
         "BirthPlace": "Kuwait",
         "StageID": "MiddleSchool",
         "GradeID": "G-07",
         "SectionID": "A",
         "Topic": "IT",
         "Semester": "F",
         "Relation": "Father",
         "RaisedHands": 15,
         "VisitedResources": 21,
         "AnnouncementsView": 2,
         "Discussion": 90,
         "ParentAnsweringSurvey": "No",
         "ParentSchoolSatisfaction": "Bad",
         "StudentAbsenceDays": "Under-7",
         "Class": "M",
         "_deepnote_index_column": 22
        },
        {
         "Gender": "M",
         "Nationality": "Kuwait",
         "BirthPlace": "Kuwait",
         "StageID": "MiddleSchool",
         "GradeID": "G-07",
         "SectionID": "A",
         "Topic": "IT",
         "Semester": "F",
         "Relation": "Father",
         "RaisedHands": 2,
         "VisitedResources": 0,
         "AnnouncementsView": 2,
         "Discussion": 50,
         "ParentAnsweringSurvey": "No",
         "ParentSchoolSatisfaction": "Bad",
         "StudentAbsenceDays": "Above-7",
         "Class": "L",
         "_deepnote_index_column": 23
        },
        {
         "Gender": "M",
         "Nationality": "Kuwait",
         "BirthPlace": "Kuwait",
         "StageID": "MiddleSchool",
         "GradeID": "G-07",
         "SectionID": "B",
         "Topic": "IT",
         "Semester": "F",
         "Relation": "Father",
         "RaisedHands": 0,
         "VisitedResources": 2,
         "AnnouncementsView": 3,
         "Discussion": 70,
         "ParentAnsweringSurvey": "Yes",
         "ParentSchoolSatisfaction": "Good",
         "StudentAbsenceDays": "Above-7",
         "Class": "L",
         "_deepnote_index_column": 24
        },
        {
         "Gender": "M",
         "Nationality": "Kuwait",
         "BirthPlace": "Kuwait",
         "StageID": "MiddleSchool",
         "GradeID": "G-07",
         "SectionID": "A",
         "Topic": "IT",
         "Semester": "F",
         "Relation": "Father",
         "RaisedHands": 8,
         "VisitedResources": 7,
         "AnnouncementsView": 30,
         "Discussion": 40,
         "ParentAnsweringSurvey": "Yes",
         "ParentSchoolSatisfaction": "Good",
         "StudentAbsenceDays": "Above-7",
         "Class": "L",
         "_deepnote_index_column": 25
        },
        {
         "Gender": "M",
         "Nationality": "Kuwait",
         "BirthPlace": "Kuwait",
         "StageID": "MiddleSchool",
         "GradeID": "G-07",
         "SectionID": "B",
         "Topic": "IT",
         "Semester": "F",
         "Relation": "Father",
         "RaisedHands": 19,
         "VisitedResources": 19,
         "AnnouncementsView": 25,
         "Discussion": 40,
         "ParentAnsweringSurvey": "Yes",
         "ParentSchoolSatisfaction": "Bad",
         "StudentAbsenceDays": "Under-7",
         "Class": "M",
         "_deepnote_index_column": 26
        },
        {
         "Gender": "M",
         "Nationality": "Kuwait",
         "BirthPlace": "Kuwait",
         "StageID": "MiddleSchool",
         "GradeID": "G-08",
         "SectionID": "A",
         "Topic": "Arabic",
         "Semester": "F",
         "Relation": "Father",
         "RaisedHands": 25,
         "VisitedResources": 15,
         "AnnouncementsView": 12,
         "Discussion": 33,
         "ParentAnsweringSurvey": "No",
         "ParentSchoolSatisfaction": "Bad",
         "StudentAbsenceDays": "Above-7",
         "Class": "L",
         "_deepnote_index_column": 27
        },
        {
         "Gender": "M",
         "Nationality": "Kuwait",
         "BirthPlace": "Kuwait",
         "StageID": "MiddleSchool",
         "GradeID": "G-08",
         "SectionID": "A",
         "Topic": "Science",
         "Semester": "F",
         "Relation": "Father",
         "RaisedHands": 75,
         "VisitedResources": 85,
         "AnnouncementsView": 52,
         "Discussion": 43,
         "ParentAnsweringSurvey": "Yes",
         "ParentSchoolSatisfaction": "Good",
         "StudentAbsenceDays": "Under-7",
         "Class": "M",
         "_deepnote_index_column": 28
        }
       ],
       "rows_bottom": [
        {
         "Gender": "F",
         "Nationality": "Jordan",
         "BirthPlace": "Jordan",
         "StageID": "MiddleSchool",
         "GradeID": "G-08",
         "SectionID": "A",
         "Topic": "Chemistry",
         "Semester": "S",
         "Relation": "Father",
         "RaisedHands": 19,
         "VisitedResources": 98,
         "AnnouncementsView": 20,
         "Discussion": 2,
         "ParentAnsweringSurvey": "Yes",
         "ParentSchoolSatisfaction": "Good",
         "StudentAbsenceDays": "Under-7",
         "Class": "H",
         "_deepnote_index_column": 451
        },
        {
         "Gender": "F",
         "Nationality": "Jordan",
         "BirthPlace": "Jordan",
         "StageID": "MiddleSchool",
         "GradeID": "G-08",
         "SectionID": "A",
         "Topic": "Geology",
         "Semester": "F",
         "Relation": "Father",
         "RaisedHands": 25,
         "VisitedResources": 82,
         "AnnouncementsView": 52,
         "Discussion": 20,
         "ParentAnsweringSurvey": "Yes",
         "ParentSchoolSatisfaction": "Good",
         "StudentAbsenceDays": "Above-7",
         "Class": "M",
         "_deepnote_index_column": 452
        },
        {
         "Gender": "F",
         "Nationality": "Jordan",
         "BirthPlace": "Jordan",
         "StageID": "MiddleSchool",
         "GradeID": "G-08",
         "SectionID": "A",
         "Topic": "Geology",
         "Semester": "S",
         "Relation": "Father",
         "RaisedHands": 29,
         "VisitedResources": 78,
         "AnnouncementsView": 40,
         "Discussion": 12,
         "ParentAnsweringSurvey": "Yes",
         "ParentSchoolSatisfaction": "Good",
         "StudentAbsenceDays": "Above-7",
         "Class": "M",
         "_deepnote_index_column": 453
        },
        {
         "Gender": "F",
         "Nationality": "Jordan",
         "BirthPlace": "Jordan",
         "StageID": "MiddleSchool",
         "GradeID": "G-08",
         "SectionID": "A",
         "Topic": "History",
         "Semester": "F",
         "Relation": "Father",
         "RaisedHands": 45,
         "VisitedResources": 87,
         "AnnouncementsView": 57,
         "Discussion": 80,
         "ParentAnsweringSurvey": "Yes",
         "ParentSchoolSatisfaction": "Good",
         "StudentAbsenceDays": "Under-7",
         "Class": "M",
         "_deepnote_index_column": 454
        },
        {
         "Gender": "F",
         "Nationality": "Jordan",
         "BirthPlace": "Jordan",
         "StageID": "MiddleSchool",
         "GradeID": "G-08",
         "SectionID": "A",
         "Topic": "History",
         "Semester": "S",
         "Relation": "Father",
         "RaisedHands": 39,
         "VisitedResources": 88,
         "AnnouncementsView": 43,
         "Discussion": 72,
         "ParentAnsweringSurvey": "Yes",
         "ParentSchoolSatisfaction": "Good",
         "StudentAbsenceDays": "Under-7",
         "Class": "M",
         "_deepnote_index_column": 455
        },
        {
         "Gender": "F",
         "Nationality": "Jordan",
         "BirthPlace": "Jordan",
         "StageID": "MiddleSchool",
         "GradeID": "G-08",
         "SectionID": "A",
         "Topic": "Chemistry",
         "Semester": "F",
         "Relation": "Father",
         "RaisedHands": 85,
         "VisitedResources": 90,
         "AnnouncementsView": 52,
         "Discussion": 30,
         "ParentAnsweringSurvey": "Yes",
         "ParentSchoolSatisfaction": "Good",
         "StudentAbsenceDays": "Under-7",
         "Class": "H",
         "_deepnote_index_column": 456
        },
        {
         "Gender": "F",
         "Nationality": "Jordan",
         "BirthPlace": "Jordan",
         "StageID": "MiddleSchool",
         "GradeID": "G-08",
         "SectionID": "A",
         "Topic": "Chemistry",
         "Semester": "S",
         "Relation": "Father",
         "RaisedHands": 79,
         "VisitedResources": 91,
         "AnnouncementsView": 49,
         "Discussion": 22,
         "ParentAnsweringSurvey": "Yes",
         "ParentSchoolSatisfaction": "Good",
         "StudentAbsenceDays": "Under-7",
         "Class": "H",
         "_deepnote_index_column": 457
        },
        {
         "Gender": "M",
         "Nationality": "Iraq",
         "BirthPlace": "Iraq",
         "StageID": "MiddleSchool",
         "GradeID": "G-08",
         "SectionID": "A",
         "Topic": "Chemistry",
         "Semester": "F",
         "Relation": "Father",
         "RaisedHands": 90,
         "VisitedResources": 91,
         "AnnouncementsView": 80,
         "Discussion": 81,
         "ParentAnsweringSurvey": "Yes",
         "ParentSchoolSatisfaction": "Good",
         "StudentAbsenceDays": "Under-7",
         "Class": "H",
         "_deepnote_index_column": 458
        },
        {
         "Gender": "M",
         "Nationality": "Iraq",
         "BirthPlace": "Iraq",
         "StageID": "MiddleSchool",
         "GradeID": "G-08",
         "SectionID": "A",
         "Topic": "Chemistry",
         "Semester": "S",
         "Relation": "Father",
         "RaisedHands": 80,
         "VisitedResources": 90,
         "AnnouncementsView": 80,
         "Discussion": 83,
         "ParentAnsweringSurvey": "Yes",
         "ParentSchoolSatisfaction": "Good",
         "StudentAbsenceDays": "Under-7",
         "Class": "H",
         "_deepnote_index_column": 459
        },
        {
         "Gender": "M",
         "Nationality": "Iraq",
         "BirthPlace": "Iraq",
         "StageID": "MiddleSchool",
         "GradeID": "G-08",
         "SectionID": "A",
         "Topic": "Geology",
         "Semester": "F",
         "Relation": "Father",
         "RaisedHands": 80,
         "VisitedResources": 83,
         "AnnouncementsView": 82,
         "Discussion": 71,
         "ParentAnsweringSurvey": "Yes",
         "ParentSchoolSatisfaction": "Good",
         "StudentAbsenceDays": "Above-7",
         "Class": "M",
         "_deepnote_index_column": 460
        },
        {
         "Gender": "M",
         "Nationality": "Iraq",
         "BirthPlace": "Iraq",
         "StageID": "MiddleSchool",
         "GradeID": "G-08",
         "SectionID": "A",
         "Topic": "Geology",
         "Semester": "S",
         "Relation": "Father",
         "RaisedHands": 71,
         "VisitedResources": 81,
         "AnnouncementsView": 83,
         "Discussion": 72,
         "ParentAnsweringSurvey": "Yes",
         "ParentSchoolSatisfaction": "Good",
         "StudentAbsenceDays": "Above-7",
         "Class": "M",
         "_deepnote_index_column": 461
        },
        {
         "Gender": "M",
         "Nationality": "Iraq",
         "BirthPlace": "Iraq",
         "StageID": "MiddleSchool",
         "GradeID": "G-08",
         "SectionID": "A",
         "Topic": "History",
         "Semester": "F",
         "Relation": "Father",
         "RaisedHands": 72,
         "VisitedResources": 87,
         "AnnouncementsView": 72,
         "Discussion": 89,
         "ParentAnsweringSurvey": "Yes",
         "ParentSchoolSatisfaction": "Good",
         "StudentAbsenceDays": "Above-7",
         "Class": "M",
         "_deepnote_index_column": 462
        },
        {
         "Gender": "M",
         "Nationality": "Iraq",
         "BirthPlace": "Iraq",
         "StageID": "MiddleSchool",
         "GradeID": "G-08",
         "SectionID": "A",
         "Topic": "History",
         "Semester": "S",
         "Relation": "Father",
         "RaisedHands": 69,
         "VisitedResources": 77,
         "AnnouncementsView": 83,
         "Discussion": 92,
         "ParentAnsweringSurvey": "Yes",
         "ParentSchoolSatisfaction": "Good",
         "StudentAbsenceDays": "Above-7",
         "Class": "M",
         "_deepnote_index_column": 463
        },
        {
         "Gender": "F",
         "Nationality": "Jordan",
         "BirthPlace": "Jordan",
         "StageID": "MiddleSchool",
         "GradeID": "G-08",
         "SectionID": "A",
         "Topic": "Chemistry",
         "Semester": "F",
         "Relation": "Mother",
         "RaisedHands": 85,
         "VisitedResources": 99,
         "AnnouncementsView": 42,
         "Discussion": 90,
         "ParentAnsweringSurvey": "Yes",
         "ParentSchoolSatisfaction": "Good",
         "StudentAbsenceDays": "Under-7",
         "Class": "H",
         "_deepnote_index_column": 464
        },
        {
         "Gender": "F",
         "Nationality": "Jordan",
         "BirthPlace": "Jordan",
         "StageID": "MiddleSchool",
         "GradeID": "G-08",
         "SectionID": "A",
         "Topic": "Chemistry",
         "Semester": "S",
         "Relation": "Mother",
         "RaisedHands": 89,
         "VisitedResources": 96,
         "AnnouncementsView": 45,
         "Discussion": 92,
         "ParentAnsweringSurvey": "Yes",
         "ParentSchoolSatisfaction": "Good",
         "StudentAbsenceDays": "Under-7",
         "Class": "H",
         "_deepnote_index_column": 465
        },
        {
         "Gender": "F",
         "Nationality": "Jordan",
         "BirthPlace": "Jordan",
         "StageID": "MiddleSchool",
         "GradeID": "G-08",
         "SectionID": "A",
         "Topic": "Geology",
         "Semester": "F",
         "Relation": "Mother",
         "RaisedHands": 80,
         "VisitedResources": 82,
         "AnnouncementsView": 64,
         "Discussion": 58,
         "ParentAnsweringSurvey": "Yes",
         "ParentSchoolSatisfaction": "Good",
         "StudentAbsenceDays": "Under-7",
         "Class": "H",
         "_deepnote_index_column": 466
        },
        {
         "Gender": "F",
         "Nationality": "Jordan",
         "BirthPlace": "Jordan",
         "StageID": "MiddleSchool",
         "GradeID": "G-08",
         "SectionID": "A",
         "Topic": "Geology",
         "Semester": "S",
         "Relation": "Mother",
         "RaisedHands": 87,
         "VisitedResources": 93,
         "AnnouncementsView": 63,
         "Discussion": 60,
         "ParentAnsweringSurvey": "Yes",
         "ParentSchoolSatisfaction": "Good",
         "StudentAbsenceDays": "Under-7",
         "Class": "H",
         "_deepnote_index_column": 467
        },
        {
         "Gender": "F",
         "Nationality": "Jordan",
         "BirthPlace": "Jordan",
         "StageID": "MiddleSchool",
         "GradeID": "G-08",
         "SectionID": "A",
         "Topic": "Chemistry",
         "Semester": "F",
         "Relation": "Father",
         "RaisedHands": 15,
         "VisitedResources": 9,
         "AnnouncementsView": 14,
         "Discussion": 80,
         "ParentAnsweringSurvey": "No",
         "ParentSchoolSatisfaction": "Bad",
         "StudentAbsenceDays": "Above-7",
         "Class": "L",
         "_deepnote_index_column": 468
        },
        {
         "Gender": "F",
         "Nationality": "Jordan",
         "BirthPlace": "Jordan",
         "StageID": "MiddleSchool",
         "GradeID": "G-08",
         "SectionID": "A",
         "Topic": "Chemistry",
         "Semester": "S",
         "Relation": "Father",
         "RaisedHands": 9,
         "VisitedResources": 6,
         "AnnouncementsView": 15,
         "Discussion": 85,
         "ParentAnsweringSurvey": "No",
         "ParentSchoolSatisfaction": "Bad",
         "StudentAbsenceDays": "Above-7",
         "Class": "L",
         "_deepnote_index_column": 469
        },
        {
         "Gender": "M",
         "Nationality": "Palestine",
         "BirthPlace": "Jordan",
         "StageID": "MiddleSchool",
         "GradeID": "G-08",
         "SectionID": "A",
         "Topic": "History",
         "Semester": "F",
         "Relation": "Father",
         "RaisedHands": 81,
         "VisitedResources": 86,
         "AnnouncementsView": 86,
         "Discussion": 41,
         "ParentAnsweringSurvey": "Yes",
         "ParentSchoolSatisfaction": "Good",
         "StudentAbsenceDays": "Under-7",
         "Class": "M",
         "_deepnote_index_column": 470
        },
        {
         "Gender": "M",
         "Nationality": "Palestine",
         "BirthPlace": "Jordan",
         "StageID": "MiddleSchool",
         "GradeID": "G-08",
         "SectionID": "A",
         "Topic": "History",
         "Semester": "S",
         "Relation": "Father",
         "RaisedHands": 78,
         "VisitedResources": 82,
         "AnnouncementsView": 78,
         "Discussion": 53,
         "ParentAnsweringSurvey": "Yes",
         "ParentSchoolSatisfaction": "Good",
         "StudentAbsenceDays": "Under-7",
         "Class": "M",
         "_deepnote_index_column": 471
        },
        {
         "Gender": "M",
         "Nationality": "Palestine",
         "BirthPlace": "Palestine",
         "StageID": "MiddleSchool",
         "GradeID": "G-08",
         "SectionID": "A",
         "Topic": "Geology",
         "Semester": "F",
         "Relation": "Father",
         "RaisedHands": 80,
         "VisitedResources": 87,
         "AnnouncementsView": 74,
         "Discussion": 68,
         "ParentAnsweringSurvey": "Yes",
         "ParentSchoolSatisfaction": "Good",
         "StudentAbsenceDays": "Under-7",
         "Class": "M",
         "_deepnote_index_column": 472
        },
        {
         "Gender": "M",
         "Nationality": "Palestine",
         "BirthPlace": "Palestine",
         "StageID": "MiddleSchool",
         "GradeID": "G-08",
         "SectionID": "A",
         "Topic": "Geology",
         "Semester": "S",
         "Relation": "Father",
         "RaisedHands": 85,
         "VisitedResources": 88,
         "AnnouncementsView": 79,
         "Discussion": 70,
         "ParentAnsweringSurvey": "Yes",
         "ParentSchoolSatisfaction": "Good",
         "StudentAbsenceDays": "Under-7",
         "Class": "M",
         "_deepnote_index_column": 473
        },
        {
         "Gender": "F",
         "Nationality": "Jordan",
         "BirthPlace": "Jordan",
         "StageID": "MiddleSchool",
         "GradeID": "G-08",
         "SectionID": "A",
         "Topic": "Chemistry",
         "Semester": "F",
         "Relation": "Father",
         "RaisedHands": 2,
         "VisitedResources": 7,
         "AnnouncementsView": 4,
         "Discussion": 8,
         "ParentAnsweringSurvey": "No",
         "ParentSchoolSatisfaction": "Bad",
         "StudentAbsenceDays": "Above-7",
         "Class": "L",
         "_deepnote_index_column": 474
        },
        {
         "Gender": "F",
         "Nationality": "Jordan",
         "BirthPlace": "Jordan",
         "StageID": "MiddleSchool",
         "GradeID": "G-08",
         "SectionID": "A",
         "Topic": "Chemistry",
         "Semester": "S",
         "Relation": "Father",
         "RaisedHands": 5,
         "VisitedResources": 4,
         "AnnouncementsView": 5,
         "Discussion": 8,
         "ParentAnsweringSurvey": "No",
         "ParentSchoolSatisfaction": "Bad",
         "StudentAbsenceDays": "Above-7",
         "Class": "L",
         "_deepnote_index_column": 475
        },
        {
         "Gender": "F",
         "Nationality": "Jordan",
         "BirthPlace": "Jordan",
         "StageID": "MiddleSchool",
         "GradeID": "G-08",
         "SectionID": "A",
         "Topic": "Geology",
         "Semester": "F",
         "Relation": "Father",
         "RaisedHands": 50,
         "VisitedResources": 77,
         "AnnouncementsView": 14,
         "Discussion": 28,
         "ParentAnsweringSurvey": "No",
         "ParentSchoolSatisfaction": "Bad",
         "StudentAbsenceDays": "Under-7",
         "Class": "M",
         "_deepnote_index_column": 476
        },
        {
         "Gender": "F",
         "Nationality": "Jordan",
         "BirthPlace": "Jordan",
         "StageID": "MiddleSchool",
         "GradeID": "G-08",
         "SectionID": "A",
         "Topic": "Geology",
         "Semester": "S",
         "Relation": "Father",
         "RaisedHands": 55,
         "VisitedResources": 74,
         "AnnouncementsView": 25,
         "Discussion": 29,
         "ParentAnsweringSurvey": "No",
         "ParentSchoolSatisfaction": "Bad",
         "StudentAbsenceDays": "Under-7",
         "Class": "M",
         "_deepnote_index_column": 477
        },
        {
         "Gender": "F",
         "Nationality": "Jordan",
         "BirthPlace": "Jordan",
         "StageID": "MiddleSchool",
         "GradeID": "G-08",
         "SectionID": "A",
         "Topic": "History",
         "Semester": "F",
         "Relation": "Father",
         "RaisedHands": 30,
         "VisitedResources": 17,
         "AnnouncementsView": 14,
         "Discussion": 57,
         "ParentAnsweringSurvey": "No",
         "ParentSchoolSatisfaction": "Bad",
         "StudentAbsenceDays": "Above-7",
         "Class": "L",
         "_deepnote_index_column": 478
        },
        {
         "Gender": "F",
         "Nationality": "Jordan",
         "BirthPlace": "Jordan",
         "StageID": "MiddleSchool",
         "GradeID": "G-08",
         "SectionID": "A",
         "Topic": "History",
         "Semester": "S",
         "Relation": "Father",
         "RaisedHands": 35,
         "VisitedResources": 14,
         "AnnouncementsView": 23,
         "Discussion": 62,
         "ParentAnsweringSurvey": "No",
         "ParentSchoolSatisfaction": "Bad",
         "StudentAbsenceDays": "Above-7",
         "Class": "L",
         "_deepnote_index_column": 479
        }
       ]
      },
      "text/plain": "    Gender Nationality BirthPlace       StageID GradeID SectionID      Topic  \\\n0        M      Kuwait     Kuwait    lowerlevel    G-04         A         IT   \n1        M      Kuwait     Kuwait    lowerlevel    G-04         A         IT   \n2        M      Kuwait     Kuwait    lowerlevel    G-04         A         IT   \n3        M      Kuwait     Kuwait    lowerlevel    G-04         A         IT   \n4        M      Kuwait     Kuwait    lowerlevel    G-04         A         IT   \n..     ...         ...        ...           ...     ...       ...        ...   \n475      F      Jordan     Jordan  MiddleSchool    G-08         A  Chemistry   \n476      F      Jordan     Jordan  MiddleSchool    G-08         A    Geology   \n477      F      Jordan     Jordan  MiddleSchool    G-08         A    Geology   \n478      F      Jordan     Jordan  MiddleSchool    G-08         A    History   \n479      F      Jordan     Jordan  MiddleSchool    G-08         A    History   \n\n    Semester Relation  RaisedHands  VisitedResources  AnnouncementsView  \\\n0          F   Father           15                16                  2   \n1          F   Father           20                20                  3   \n2          F   Father           10                 7                  0   \n3          F   Father           30                25                  5   \n4          F   Father           40                50                 12   \n..       ...      ...          ...               ...                ...   \n475        S   Father            5                 4                  5   \n476        F   Father           50                77                 14   \n477        S   Father           55                74                 25   \n478        F   Father           30                17                 14   \n479        S   Father           35                14                 23   \n\n     Discussion ParentAnsweringSurvey ParentSchoolSatisfaction  \\\n0            20                   Yes                     Good   \n1            25                   Yes                     Good   \n2            30                    No                      Bad   \n3            35                    No                      Bad   \n4            50                    No                      Bad   \n..          ...                   ...                      ...   \n475           8                    No                      Bad   \n476          28                    No                      Bad   \n477          29                    No                      Bad   \n478          57                    No                      Bad   \n479          62                    No                      Bad   \n\n    StudentAbsenceDays Class  \n0              Under-7     M  \n1              Under-7     M  \n2              Above-7     L  \n3              Above-7     L  \n4              Above-7     M  \n..                 ...   ...  \n475            Above-7     L  \n476            Under-7     M  \n477            Under-7     M  \n478            Above-7     L  \n479            Above-7     L  \n\n[480 rows x 17 columns]",
      "text/html": "<div>\n<style scoped>\n    .dataframe tbody tr th:only-of-type {\n        vertical-align: middle;\n    }\n\n    .dataframe tbody tr th {\n        vertical-align: top;\n    }\n\n    .dataframe thead th {\n        text-align: right;\n    }\n</style>\n<table border=\"1\" class=\"dataframe\">\n  <thead>\n    <tr style=\"text-align: right;\">\n      <th></th>\n      <th>Gender</th>\n      <th>Nationality</th>\n      <th>BirthPlace</th>\n      <th>StageID</th>\n      <th>GradeID</th>\n      <th>SectionID</th>\n      <th>Topic</th>\n      <th>Semester</th>\n      <th>Relation</th>\n      <th>RaisedHands</th>\n      <th>VisitedResources</th>\n      <th>AnnouncementsView</th>\n      <th>Discussion</th>\n      <th>ParentAnsweringSurvey</th>\n      <th>ParentSchoolSatisfaction</th>\n      <th>StudentAbsenceDays</th>\n      <th>Class</th>\n    </tr>\n  </thead>\n  <tbody>\n    <tr>\n      <th>0</th>\n      <td>M</td>\n      <td>Kuwait</td>\n      <td>Kuwait</td>\n      <td>lowerlevel</td>\n      <td>G-04</td>\n      <td>A</td>\n      <td>IT</td>\n      <td>F</td>\n      <td>Father</td>\n      <td>15</td>\n      <td>16</td>\n      <td>2</td>\n      <td>20</td>\n      <td>Yes</td>\n      <td>Good</td>\n      <td>Under-7</td>\n      <td>M</td>\n    </tr>\n    <tr>\n      <th>1</th>\n      <td>M</td>\n      <td>Kuwait</td>\n      <td>Kuwait</td>\n      <td>lowerlevel</td>\n      <td>G-04</td>\n      <td>A</td>\n      <td>IT</td>\n      <td>F</td>\n      <td>Father</td>\n      <td>20</td>\n      <td>20</td>\n      <td>3</td>\n      <td>25</td>\n      <td>Yes</td>\n      <td>Good</td>\n      <td>Under-7</td>\n      <td>M</td>\n    </tr>\n    <tr>\n      <th>2</th>\n      <td>M</td>\n      <td>Kuwait</td>\n      <td>Kuwait</td>\n      <td>lowerlevel</td>\n      <td>G-04</td>\n      <td>A</td>\n      <td>IT</td>\n      <td>F</td>\n      <td>Father</td>\n      <td>10</td>\n      <td>7</td>\n      <td>0</td>\n      <td>30</td>\n      <td>No</td>\n      <td>Bad</td>\n      <td>Above-7</td>\n      <td>L</td>\n    </tr>\n    <tr>\n      <th>3</th>\n      <td>M</td>\n      <td>Kuwait</td>\n      <td>Kuwait</td>\n      <td>lowerlevel</td>\n      <td>G-04</td>\n      <td>A</td>\n      <td>IT</td>\n      <td>F</td>\n      <td>Father</td>\n      <td>30</td>\n      <td>25</td>\n      <td>5</td>\n      <td>35</td>\n      <td>No</td>\n      <td>Bad</td>\n      <td>Above-7</td>\n      <td>L</td>\n    </tr>\n    <tr>\n      <th>4</th>\n      <td>M</td>\n      <td>Kuwait</td>\n      <td>Kuwait</td>\n      <td>lowerlevel</td>\n      <td>G-04</td>\n      <td>A</td>\n      <td>IT</td>\n      <td>F</td>\n      <td>Father</td>\n      <td>40</td>\n      <td>50</td>\n      <td>12</td>\n      <td>50</td>\n      <td>No</td>\n      <td>Bad</td>\n      <td>Above-7</td>\n      <td>M</td>\n    </tr>\n    <tr>\n      <th>...</th>\n      <td>...</td>\n      <td>...</td>\n      <td>...</td>\n      <td>...</td>\n      <td>...</td>\n      <td>...</td>\n      <td>...</td>\n      <td>...</td>\n      <td>...</td>\n      <td>...</td>\n      <td>...</td>\n      <td>...</td>\n      <td>...</td>\n      <td>...</td>\n      <td>...</td>\n      <td>...</td>\n      <td>...</td>\n    </tr>\n    <tr>\n      <th>475</th>\n      <td>F</td>\n      <td>Jordan</td>\n      <td>Jordan</td>\n      <td>MiddleSchool</td>\n      <td>G-08</td>\n      <td>A</td>\n      <td>Chemistry</td>\n      <td>S</td>\n      <td>Father</td>\n      <td>5</td>\n      <td>4</td>\n      <td>5</td>\n      <td>8</td>\n      <td>No</td>\n      <td>Bad</td>\n      <td>Above-7</td>\n      <td>L</td>\n    </tr>\n    <tr>\n      <th>476</th>\n      <td>F</td>\n      <td>Jordan</td>\n      <td>Jordan</td>\n      <td>MiddleSchool</td>\n      <td>G-08</td>\n      <td>A</td>\n      <td>Geology</td>\n      <td>F</td>\n      <td>Father</td>\n      <td>50</td>\n      <td>77</td>\n      <td>14</td>\n      <td>28</td>\n      <td>No</td>\n      <td>Bad</td>\n      <td>Under-7</td>\n      <td>M</td>\n    </tr>\n    <tr>\n      <th>477</th>\n      <td>F</td>\n      <td>Jordan</td>\n      <td>Jordan</td>\n      <td>MiddleSchool</td>\n      <td>G-08</td>\n      <td>A</td>\n      <td>Geology</td>\n      <td>S</td>\n      <td>Father</td>\n      <td>55</td>\n      <td>74</td>\n      <td>25</td>\n      <td>29</td>\n      <td>No</td>\n      <td>Bad</td>\n      <td>Under-7</td>\n      <td>M</td>\n    </tr>\n    <tr>\n      <th>478</th>\n      <td>F</td>\n      <td>Jordan</td>\n      <td>Jordan</td>\n      <td>MiddleSchool</td>\n      <td>G-08</td>\n      <td>A</td>\n      <td>History</td>\n      <td>F</td>\n      <td>Father</td>\n      <td>30</td>\n      <td>17</td>\n      <td>14</td>\n      <td>57</td>\n      <td>No</td>\n      <td>Bad</td>\n      <td>Above-7</td>\n      <td>L</td>\n    </tr>\n    <tr>\n      <th>479</th>\n      <td>F</td>\n      <td>Jordan</td>\n      <td>Jordan</td>\n      <td>MiddleSchool</td>\n      <td>G-08</td>\n      <td>A</td>\n      <td>History</td>\n      <td>S</td>\n      <td>Father</td>\n      <td>35</td>\n      <td>14</td>\n      <td>23</td>\n      <td>62</td>\n      <td>No</td>\n      <td>Bad</td>\n      <td>Above-7</td>\n      <td>L</td>\n    </tr>\n  </tbody>\n</table>\n<p>480 rows × 17 columns</p>\n</div>"
     },
     "metadata": {}
    }
   ]
  },
  {
   "cell_type": "markdown",
   "source": "### **Cleaning Inconsistent Data from StageID**",
   "metadata": {
    "id": "QzVsrhNT5OSP",
    "cell_id": "00034-b32f642b-e794-4d38-9448-28e933906618",
    "deepnote_cell_type": "markdown"
   }
  },
  {
   "cell_type": "markdown",
   "source": "Let's locate the inconsistent data",
   "metadata": {
    "id": "omCiB-LQ5h6l",
    "cell_id": "00035-ad784729-2ce3-42f3-878e-df7b1d7e745d",
    "deepnote_cell_type": "markdown"
   }
  },
  {
   "cell_type": "code",
   "metadata": {
    "colab": {
     "base_uri": "https://localhost:8080/",
     "height": 421
    },
    "id": "mB6s_cpm6BSa",
    "executionInfo": {
     "status": "ok",
     "timestamp": 1620279386522,
     "user_tz": -480,
     "elapsed": 757,
     "user": {
      "displayName": "Angeline Maris Gubat",
      "photoUrl": "https://lh3.googleusercontent.com/a-/AOh14Gijg6xgX0R_IA4o8GkF1xnv3D8-8kHv8i-V48U6=s64",
      "userId": "00875153666701401808"
     }
    },
    "outputId": "80e17b2f-2af6-44b2-9434-cb6b87ccebb4",
    "cell_id": "00036-16b99db8-7c0a-4ea3-9e01-b7664c36fc29",
    "deepnote_to_be_reexecuted": false,
    "source_hash": "a5c62b9c",
    "execution_start": 1622445248200,
    "execution_millis": 23,
    "deepnote_cell_type": "code"
   },
   "source": "cleaning = spd_df[['GradeID', 'StageID', 'Class']].groupby(['GradeID', 'StageID'])\ncleaning.count()",
   "execution_count": 23,
   "outputs": [
    {
     "output_type": "execute_result",
     "execution_count": 23,
     "data": {
      "application/vnd.deepnote.dataframe.v2+json": {
       "row_count": 11,
       "column_count": 1,
       "columns": [
        {
         "name": "Class",
         "dtype": "int64",
         "stats": {
          "unique_count": 11,
          "nan_count": 0,
          "min": "1",
          "max": "147",
          "histogram": [
           {
            "bin_start": 1,
            "bin_end": 15.6,
            "count": 6
           },
           {
            "bin_start": 15.6,
            "bin_end": 30.2,
            "count": 0
           },
           {
            "bin_start": 30.2,
            "bin_end": 44.8,
            "count": 1
           },
           {
            "bin_start": 44.8,
            "bin_end": 59.4,
            "count": 1
           },
           {
            "bin_start": 59.4,
            "bin_end": 74,
            "count": 0
           },
           {
            "bin_start": 74,
            "bin_end": 88.6,
            "count": 0
           },
           {
            "bin_start": 88.6,
            "bin_end": 103.2,
            "count": 1
           },
           {
            "bin_start": 103.2,
            "bin_end": 117.8,
            "count": 1
           },
           {
            "bin_start": 117.8,
            "bin_end": 132.4,
            "count": 0
           },
           {
            "bin_start": 132.4,
            "bin_end": 147,
            "count": 1
           }
          ]
         }
        },
        {
         "name": "_deepnote_index_column",
         "dtype": "object"
        }
       ],
       "rows_top": [
        {
         "Class": 147,
         "_deepnote_index_column": "('G-02', 'lowerlevel')"
        },
        {
         "Class": 48,
         "_deepnote_index_column": "('G-04', 'lowerlevel')"
        },
        {
         "Class": 3,
         "_deepnote_index_column": "('G-05', 'lowerlevel')"
        },
        {
         "Class": 32,
         "_deepnote_index_column": "('G-06', 'MiddleSchool')"
        },
        {
         "Class": 100,
         "_deepnote_index_column": "('G-07', 'MiddleSchool')"
        },
        {
         "Class": 1,
         "_deepnote_index_column": "('G-07', 'lowerlevel')"
        },
        {
         "Class": 116,
         "_deepnote_index_column": "('G-08', 'MiddleSchool')"
        },
        {
         "Class": 5,
         "_deepnote_index_column": "('G-09', 'HighSchool')"
        },
        {
         "Class": 4,
         "_deepnote_index_column": "('G-10', 'HighSchool')"
        },
        {
         "Class": 13,
         "_deepnote_index_column": "('G-11', 'HighSchool')"
        },
        {
         "Class": 11,
         "_deepnote_index_column": "('G-12', 'HighSchool')"
        }
       ],
       "rows_bottom": null
      },
      "text/plain": "                      Class\nGradeID StageID            \nG-02    lowerlevel      147\nG-04    lowerlevel       48\nG-05    lowerlevel        3\nG-06    MiddleSchool     32\nG-07    MiddleSchool    100\n        lowerlevel        1\nG-08    MiddleSchool    116\nG-09    HighSchool        5\nG-10    HighSchool        4\nG-11    HighSchool       13\nG-12    HighSchool       11",
      "text/html": "<div>\n<style scoped>\n    .dataframe tbody tr th:only-of-type {\n        vertical-align: middle;\n    }\n\n    .dataframe tbody tr th {\n        vertical-align: top;\n    }\n\n    .dataframe thead th {\n        text-align: right;\n    }\n</style>\n<table border=\"1\" class=\"dataframe\">\n  <thead>\n    <tr style=\"text-align: right;\">\n      <th></th>\n      <th></th>\n      <th>Class</th>\n    </tr>\n    <tr>\n      <th>GradeID</th>\n      <th>StageID</th>\n      <th></th>\n    </tr>\n  </thead>\n  <tbody>\n    <tr>\n      <th>G-02</th>\n      <th>lowerlevel</th>\n      <td>147</td>\n    </tr>\n    <tr>\n      <th>G-04</th>\n      <th>lowerlevel</th>\n      <td>48</td>\n    </tr>\n    <tr>\n      <th>G-05</th>\n      <th>lowerlevel</th>\n      <td>3</td>\n    </tr>\n    <tr>\n      <th>G-06</th>\n      <th>MiddleSchool</th>\n      <td>32</td>\n    </tr>\n    <tr>\n      <th rowspan=\"2\" valign=\"top\">G-07</th>\n      <th>MiddleSchool</th>\n      <td>100</td>\n    </tr>\n    <tr>\n      <th>lowerlevel</th>\n      <td>1</td>\n    </tr>\n    <tr>\n      <th>G-08</th>\n      <th>MiddleSchool</th>\n      <td>116</td>\n    </tr>\n    <tr>\n      <th>G-09</th>\n      <th>HighSchool</th>\n      <td>5</td>\n    </tr>\n    <tr>\n      <th>G-10</th>\n      <th>HighSchool</th>\n      <td>4</td>\n    </tr>\n    <tr>\n      <th>G-11</th>\n      <th>HighSchool</th>\n      <td>13</td>\n    </tr>\n    <tr>\n      <th>G-12</th>\n      <th>HighSchool</th>\n      <td>11</td>\n    </tr>\n  </tbody>\n</table>\n</div>"
     },
     "metadata": {}
    }
   ]
  },
  {
   "cell_type": "markdown",
   "source": "We see that there is an outlier G-07 data labeled as a lowerlevel instead of MiddleSchool. Let's fix that by changing the value of that cell.",
   "metadata": {
    "id": "Gphrntmz6lva",
    "cell_id": "00037-04f0ab21-0a97-4203-9dbb-8e539d8f6bb9",
    "deepnote_cell_type": "markdown"
   }
  },
  {
   "cell_type": "code",
   "metadata": {
    "id": "B0hCboto6jp2",
    "colab": {
     "base_uri": "https://localhost:8080/",
     "height": 100
    },
    "executionInfo": {
     "status": "ok",
     "timestamp": 1620279390206,
     "user_tz": -480,
     "elapsed": 949,
     "user": {
      "displayName": "Angeline Maris Gubat",
      "photoUrl": "https://lh3.googleusercontent.com/a-/AOh14Gijg6xgX0R_IA4o8GkF1xnv3D8-8kHv8i-V48U6=s64",
      "userId": "00875153666701401808"
     }
    },
    "outputId": "2c7be870-2249-44ac-f82a-ca8186d7441c",
    "cell_id": "00038-ed36f862-097f-45af-a632-eb027d07d9da",
    "deepnote_to_be_reexecuted": false,
    "source_hash": "7db577eb",
    "execution_start": 1622445248226,
    "execution_millis": 214,
    "deepnote_cell_type": "code"
   },
   "source": "index = spd_df[(spd_df['StageID'] == \"lowerlevel\") & (spd_df['GradeID'] == \"G-07\")].index\nspd_df.loc[index]",
   "execution_count": 24,
   "outputs": [
    {
     "output_type": "execute_result",
     "execution_count": 24,
     "data": {
      "application/vnd.deepnote.dataframe.v2+json": {
       "row_count": 1,
       "column_count": 17,
       "columns": [
        {
         "name": "Gender",
         "dtype": "object",
         "stats": {
          "unique_count": 1,
          "nan_count": 0,
          "categories": [
           {
            "name": "F",
            "count": 1
           }
          ]
         }
        },
        {
         "name": "Nationality",
         "dtype": "object",
         "stats": {
          "unique_count": 1,
          "nan_count": 0,
          "categories": [
           {
            "name": "Kuwait",
            "count": 1
           }
          ]
         }
        },
        {
         "name": "BirthPlace",
         "dtype": "object",
         "stats": {
          "unique_count": 1,
          "nan_count": 0,
          "categories": [
           {
            "name": "Kuwait",
            "count": 1
           }
          ]
         }
        },
        {
         "name": "StageID",
         "dtype": "object",
         "stats": {
          "unique_count": 1,
          "nan_count": 0,
          "categories": [
           {
            "name": "lowerlevel",
            "count": 1
           }
          ]
         }
        },
        {
         "name": "GradeID",
         "dtype": "object",
         "stats": {
          "unique_count": 1,
          "nan_count": 0,
          "categories": [
           {
            "name": "G-07",
            "count": 1
           }
          ]
         }
        },
        {
         "name": "SectionID",
         "dtype": "object",
         "stats": {
          "unique_count": 1,
          "nan_count": 0,
          "categories": [
           {
            "name": "A",
            "count": 1
           }
          ]
         }
        },
        {
         "name": "Topic",
         "dtype": "object",
         "stats": {
          "unique_count": 1,
          "nan_count": 0,
          "categories": [
           {
            "name": "IT",
            "count": 1
           }
          ]
         }
        },
        {
         "name": "Semester",
         "dtype": "object",
         "stats": {
          "unique_count": 1,
          "nan_count": 0,
          "categories": [
           {
            "name": "F",
            "count": 1
           }
          ]
         }
        },
        {
         "name": "Relation",
         "dtype": "object",
         "stats": {
          "unique_count": 1,
          "nan_count": 0,
          "categories": [
           {
            "name": "Father",
            "count": 1
           }
          ]
         }
        },
        {
         "name": "RaisedHands",
         "dtype": "int64",
         "stats": {
          "unique_count": 1,
          "nan_count": 0,
          "min": "2",
          "max": "2",
          "histogram": [
           {
            "bin_start": 1.5,
            "bin_end": 1.6,
            "count": 0
           },
           {
            "bin_start": 1.6,
            "bin_end": 1.7,
            "count": 0
           },
           {
            "bin_start": 1.7,
            "bin_end": 1.8,
            "count": 0
           },
           {
            "bin_start": 1.8,
            "bin_end": 1.9,
            "count": 0
           },
           {
            "bin_start": 1.9,
            "bin_end": 2,
            "count": 0
           },
           {
            "bin_start": 2,
            "bin_end": 2.1,
            "count": 1
           },
           {
            "bin_start": 2.1,
            "bin_end": 2.2,
            "count": 0
           },
           {
            "bin_start": 2.2,
            "bin_end": 2.3,
            "count": 0
           },
           {
            "bin_start": 2.3,
            "bin_end": 2.4,
            "count": 0
           },
           {
            "bin_start": 2.4,
            "bin_end": 2.5,
            "count": 0
           }
          ]
         }
        },
        {
         "name": "VisitedResources",
         "dtype": "int64",
         "stats": {
          "unique_count": 1,
          "nan_count": 0,
          "min": "19",
          "max": "19",
          "histogram": [
           {
            "bin_start": 18.5,
            "bin_end": 18.6,
            "count": 0
           },
           {
            "bin_start": 18.6,
            "bin_end": 18.7,
            "count": 0
           },
           {
            "bin_start": 18.7,
            "bin_end": 18.8,
            "count": 0
           },
           {
            "bin_start": 18.8,
            "bin_end": 18.9,
            "count": 0
           },
           {
            "bin_start": 18.9,
            "bin_end": 19,
            "count": 0
           },
           {
            "bin_start": 19,
            "bin_end": 19.1,
            "count": 1
           },
           {
            "bin_start": 19.1,
            "bin_end": 19.2,
            "count": 0
           },
           {
            "bin_start": 19.2,
            "bin_end": 19.3,
            "count": 0
           },
           {
            "bin_start": 19.3,
            "bin_end": 19.4,
            "count": 0
           },
           {
            "bin_start": 19.4,
            "bin_end": 19.5,
            "count": 0
           }
          ]
         }
        },
        {
         "name": "AnnouncementsView",
         "dtype": "int64",
         "stats": {
          "unique_count": 1,
          "nan_count": 0,
          "min": "10",
          "max": "10",
          "histogram": [
           {
            "bin_start": 9.5,
            "bin_end": 9.6,
            "count": 0
           },
           {
            "bin_start": 9.6,
            "bin_end": 9.7,
            "count": 0
           },
           {
            "bin_start": 9.7,
            "bin_end": 9.8,
            "count": 0
           },
           {
            "bin_start": 9.8,
            "bin_end": 9.9,
            "count": 0
           },
           {
            "bin_start": 9.9,
            "bin_end": 10,
            "count": 0
           },
           {
            "bin_start": 10,
            "bin_end": 10.1,
            "count": 1
           },
           {
            "bin_start": 10.1,
            "bin_end": 10.2,
            "count": 0
           },
           {
            "bin_start": 10.2,
            "bin_end": 10.3,
            "count": 0
           },
           {
            "bin_start": 10.3,
            "bin_end": 10.4,
            "count": 0
           },
           {
            "bin_start": 10.4,
            "bin_end": 10.5,
            "count": 0
           }
          ]
         }
        },
        {
         "name": "Discussion",
         "dtype": "int64",
         "stats": {
          "unique_count": 1,
          "nan_count": 0,
          "min": "50",
          "max": "50",
          "histogram": [
           {
            "bin_start": 49.5,
            "bin_end": 49.6,
            "count": 0
           },
           {
            "bin_start": 49.6,
            "bin_end": 49.7,
            "count": 0
           },
           {
            "bin_start": 49.7,
            "bin_end": 49.8,
            "count": 0
           },
           {
            "bin_start": 49.8,
            "bin_end": 49.9,
            "count": 0
           },
           {
            "bin_start": 49.9,
            "bin_end": 50,
            "count": 0
           },
           {
            "bin_start": 50,
            "bin_end": 50.1,
            "count": 1
           },
           {
            "bin_start": 50.1,
            "bin_end": 50.2,
            "count": 0
           },
           {
            "bin_start": 50.2,
            "bin_end": 50.3,
            "count": 0
           },
           {
            "bin_start": 50.3,
            "bin_end": 50.4,
            "count": 0
           },
           {
            "bin_start": 50.4,
            "bin_end": 50.5,
            "count": 0
           }
          ]
         }
        },
        {
         "name": "ParentAnsweringSurvey",
         "dtype": "object",
         "stats": {
          "unique_count": 1,
          "nan_count": 0,
          "categories": [
           {
            "name": "Yes",
            "count": 1
           }
          ]
         }
        },
        {
         "name": "ParentSchoolSatisfaction",
         "dtype": "object",
         "stats": {
          "unique_count": 1,
          "nan_count": 0,
          "categories": [
           {
            "name": "Good",
            "count": 1
           }
          ]
         }
        },
        {
         "name": "StudentAbsenceDays",
         "dtype": "object",
         "stats": {
          "unique_count": 1,
          "nan_count": 0,
          "categories": [
           {
            "name": "Above-7",
            "count": 1
           }
          ]
         }
        },
        {
         "name": "Class",
         "dtype": "object",
         "stats": {
          "unique_count": 1,
          "nan_count": 0,
          "categories": [
           {
            "name": "L",
            "count": 1
           }
          ]
         }
        },
        {
         "name": "_deepnote_index_column",
         "dtype": "int64"
        }
       ],
       "rows_top": [
        {
         "Gender": "F",
         "Nationality": "Kuwait",
         "BirthPlace": "Kuwait",
         "StageID": "lowerlevel",
         "GradeID": "G-07",
         "SectionID": "A",
         "Topic": "IT",
         "Semester": "F",
         "Relation": "Father",
         "RaisedHands": 2,
         "VisitedResources": 19,
         "AnnouncementsView": 10,
         "Discussion": 50,
         "ParentAnsweringSurvey": "Yes",
         "ParentSchoolSatisfaction": "Good",
         "StudentAbsenceDays": "Above-7",
         "Class": "L",
         "_deepnote_index_column": 32
        }
       ],
       "rows_bottom": null
      },
      "text/plain": "   Gender Nationality BirthPlace     StageID GradeID SectionID Topic Semester  \\\n32      F      Kuwait     Kuwait  lowerlevel    G-07         A    IT        F   \n\n   Relation  RaisedHands  VisitedResources  AnnouncementsView  Discussion  \\\n32   Father            2                19                 10          50   \n\n   ParentAnsweringSurvey ParentSchoolSatisfaction StudentAbsenceDays Class  \n32                   Yes                     Good            Above-7     L  ",
      "text/html": "<div>\n<style scoped>\n    .dataframe tbody tr th:only-of-type {\n        vertical-align: middle;\n    }\n\n    .dataframe tbody tr th {\n        vertical-align: top;\n    }\n\n    .dataframe thead th {\n        text-align: right;\n    }\n</style>\n<table border=\"1\" class=\"dataframe\">\n  <thead>\n    <tr style=\"text-align: right;\">\n      <th></th>\n      <th>Gender</th>\n      <th>Nationality</th>\n      <th>BirthPlace</th>\n      <th>StageID</th>\n      <th>GradeID</th>\n      <th>SectionID</th>\n      <th>Topic</th>\n      <th>Semester</th>\n      <th>Relation</th>\n      <th>RaisedHands</th>\n      <th>VisitedResources</th>\n      <th>AnnouncementsView</th>\n      <th>Discussion</th>\n      <th>ParentAnsweringSurvey</th>\n      <th>ParentSchoolSatisfaction</th>\n      <th>StudentAbsenceDays</th>\n      <th>Class</th>\n    </tr>\n  </thead>\n  <tbody>\n    <tr>\n      <th>32</th>\n      <td>F</td>\n      <td>Kuwait</td>\n      <td>Kuwait</td>\n      <td>lowerlevel</td>\n      <td>G-07</td>\n      <td>A</td>\n      <td>IT</td>\n      <td>F</td>\n      <td>Father</td>\n      <td>2</td>\n      <td>19</td>\n      <td>10</td>\n      <td>50</td>\n      <td>Yes</td>\n      <td>Good</td>\n      <td>Above-7</td>\n      <td>L</td>\n    </tr>\n  </tbody>\n</table>\n</div>"
     },
     "metadata": {}
    }
   ]
  },
  {
   "cell_type": "code",
   "metadata": {
    "id": "XfXORKq77kyi",
    "colab": {
     "base_uri": "https://localhost:8080/",
     "height": 100
    },
    "executionInfo": {
     "status": "ok",
     "timestamp": 1620279392959,
     "user_tz": -480,
     "elapsed": 637,
     "user": {
      "displayName": "Angeline Maris Gubat",
      "photoUrl": "https://lh3.googleusercontent.com/a-/AOh14Gijg6xgX0R_IA4o8GkF1xnv3D8-8kHv8i-V48U6=s64",
      "userId": "00875153666701401808"
     }
    },
    "outputId": "69c35b72-29b5-48c2-b6d4-da17e295594e",
    "cell_id": "00039-cb64389d-89f7-4118-a571-6c11f9904e01",
    "deepnote_to_be_reexecuted": false,
    "source_hash": "4c5a6a5d",
    "execution_start": 1622445248431,
    "execution_millis": 235080363,
    "deepnote_cell_type": "code"
   },
   "source": "spd_df.loc[index, 'StageID'] = \"MiddleSchool\"\nspd_df.loc[index]",
   "execution_count": 25,
   "outputs": [
    {
     "output_type": "execute_result",
     "execution_count": 25,
     "data": {
      "application/vnd.deepnote.dataframe.v2+json": {
       "row_count": 1,
       "column_count": 17,
       "columns": [
        {
         "name": "Gender",
         "dtype": "object",
         "stats": {
          "unique_count": 1,
          "nan_count": 0,
          "categories": [
           {
            "name": "F",
            "count": 1
           }
          ]
         }
        },
        {
         "name": "Nationality",
         "dtype": "object",
         "stats": {
          "unique_count": 1,
          "nan_count": 0,
          "categories": [
           {
            "name": "Kuwait",
            "count": 1
           }
          ]
         }
        },
        {
         "name": "BirthPlace",
         "dtype": "object",
         "stats": {
          "unique_count": 1,
          "nan_count": 0,
          "categories": [
           {
            "name": "Kuwait",
            "count": 1
           }
          ]
         }
        },
        {
         "name": "StageID",
         "dtype": "object",
         "stats": {
          "unique_count": 1,
          "nan_count": 0,
          "categories": [
           {
            "name": "MiddleSchool",
            "count": 1
           }
          ]
         }
        },
        {
         "name": "GradeID",
         "dtype": "object",
         "stats": {
          "unique_count": 1,
          "nan_count": 0,
          "categories": [
           {
            "name": "G-07",
            "count": 1
           }
          ]
         }
        },
        {
         "name": "SectionID",
         "dtype": "object",
         "stats": {
          "unique_count": 1,
          "nan_count": 0,
          "categories": [
           {
            "name": "A",
            "count": 1
           }
          ]
         }
        },
        {
         "name": "Topic",
         "dtype": "object",
         "stats": {
          "unique_count": 1,
          "nan_count": 0,
          "categories": [
           {
            "name": "IT",
            "count": 1
           }
          ]
         }
        },
        {
         "name": "Semester",
         "dtype": "object",
         "stats": {
          "unique_count": 1,
          "nan_count": 0,
          "categories": [
           {
            "name": "F",
            "count": 1
           }
          ]
         }
        },
        {
         "name": "Relation",
         "dtype": "object",
         "stats": {
          "unique_count": 1,
          "nan_count": 0,
          "categories": [
           {
            "name": "Father",
            "count": 1
           }
          ]
         }
        },
        {
         "name": "RaisedHands",
         "dtype": "int64",
         "stats": {
          "unique_count": 1,
          "nan_count": 0,
          "min": "2",
          "max": "2",
          "histogram": [
           {
            "bin_start": 1.5,
            "bin_end": 1.6,
            "count": 0
           },
           {
            "bin_start": 1.6,
            "bin_end": 1.7,
            "count": 0
           },
           {
            "bin_start": 1.7,
            "bin_end": 1.8,
            "count": 0
           },
           {
            "bin_start": 1.8,
            "bin_end": 1.9,
            "count": 0
           },
           {
            "bin_start": 1.9,
            "bin_end": 2,
            "count": 0
           },
           {
            "bin_start": 2,
            "bin_end": 2.1,
            "count": 1
           },
           {
            "bin_start": 2.1,
            "bin_end": 2.2,
            "count": 0
           },
           {
            "bin_start": 2.2,
            "bin_end": 2.3,
            "count": 0
           },
           {
            "bin_start": 2.3,
            "bin_end": 2.4,
            "count": 0
           },
           {
            "bin_start": 2.4,
            "bin_end": 2.5,
            "count": 0
           }
          ]
         }
        },
        {
         "name": "VisitedResources",
         "dtype": "int64",
         "stats": {
          "unique_count": 1,
          "nan_count": 0,
          "min": "19",
          "max": "19",
          "histogram": [
           {
            "bin_start": 18.5,
            "bin_end": 18.6,
            "count": 0
           },
           {
            "bin_start": 18.6,
            "bin_end": 18.7,
            "count": 0
           },
           {
            "bin_start": 18.7,
            "bin_end": 18.8,
            "count": 0
           },
           {
            "bin_start": 18.8,
            "bin_end": 18.9,
            "count": 0
           },
           {
            "bin_start": 18.9,
            "bin_end": 19,
            "count": 0
           },
           {
            "bin_start": 19,
            "bin_end": 19.1,
            "count": 1
           },
           {
            "bin_start": 19.1,
            "bin_end": 19.2,
            "count": 0
           },
           {
            "bin_start": 19.2,
            "bin_end": 19.3,
            "count": 0
           },
           {
            "bin_start": 19.3,
            "bin_end": 19.4,
            "count": 0
           },
           {
            "bin_start": 19.4,
            "bin_end": 19.5,
            "count": 0
           }
          ]
         }
        },
        {
         "name": "AnnouncementsView",
         "dtype": "int64",
         "stats": {
          "unique_count": 1,
          "nan_count": 0,
          "min": "10",
          "max": "10",
          "histogram": [
           {
            "bin_start": 9.5,
            "bin_end": 9.6,
            "count": 0
           },
           {
            "bin_start": 9.6,
            "bin_end": 9.7,
            "count": 0
           },
           {
            "bin_start": 9.7,
            "bin_end": 9.8,
            "count": 0
           },
           {
            "bin_start": 9.8,
            "bin_end": 9.9,
            "count": 0
           },
           {
            "bin_start": 9.9,
            "bin_end": 10,
            "count": 0
           },
           {
            "bin_start": 10,
            "bin_end": 10.1,
            "count": 1
           },
           {
            "bin_start": 10.1,
            "bin_end": 10.2,
            "count": 0
           },
           {
            "bin_start": 10.2,
            "bin_end": 10.3,
            "count": 0
           },
           {
            "bin_start": 10.3,
            "bin_end": 10.4,
            "count": 0
           },
           {
            "bin_start": 10.4,
            "bin_end": 10.5,
            "count": 0
           }
          ]
         }
        },
        {
         "name": "Discussion",
         "dtype": "int64",
         "stats": {
          "unique_count": 1,
          "nan_count": 0,
          "min": "50",
          "max": "50",
          "histogram": [
           {
            "bin_start": 49.5,
            "bin_end": 49.6,
            "count": 0
           },
           {
            "bin_start": 49.6,
            "bin_end": 49.7,
            "count": 0
           },
           {
            "bin_start": 49.7,
            "bin_end": 49.8,
            "count": 0
           },
           {
            "bin_start": 49.8,
            "bin_end": 49.9,
            "count": 0
           },
           {
            "bin_start": 49.9,
            "bin_end": 50,
            "count": 0
           },
           {
            "bin_start": 50,
            "bin_end": 50.1,
            "count": 1
           },
           {
            "bin_start": 50.1,
            "bin_end": 50.2,
            "count": 0
           },
           {
            "bin_start": 50.2,
            "bin_end": 50.3,
            "count": 0
           },
           {
            "bin_start": 50.3,
            "bin_end": 50.4,
            "count": 0
           },
           {
            "bin_start": 50.4,
            "bin_end": 50.5,
            "count": 0
           }
          ]
         }
        },
        {
         "name": "ParentAnsweringSurvey",
         "dtype": "object",
         "stats": {
          "unique_count": 1,
          "nan_count": 0,
          "categories": [
           {
            "name": "Yes",
            "count": 1
           }
          ]
         }
        },
        {
         "name": "ParentSchoolSatisfaction",
         "dtype": "object",
         "stats": {
          "unique_count": 1,
          "nan_count": 0,
          "categories": [
           {
            "name": "Good",
            "count": 1
           }
          ]
         }
        },
        {
         "name": "StudentAbsenceDays",
         "dtype": "object",
         "stats": {
          "unique_count": 1,
          "nan_count": 0,
          "categories": [
           {
            "name": "Above-7",
            "count": 1
           }
          ]
         }
        },
        {
         "name": "Class",
         "dtype": "object",
         "stats": {
          "unique_count": 1,
          "nan_count": 0,
          "categories": [
           {
            "name": "L",
            "count": 1
           }
          ]
         }
        },
        {
         "name": "_deepnote_index_column",
         "dtype": "int64"
        }
       ],
       "rows_top": [
        {
         "Gender": "F",
         "Nationality": "Kuwait",
         "BirthPlace": "Kuwait",
         "StageID": "MiddleSchool",
         "GradeID": "G-07",
         "SectionID": "A",
         "Topic": "IT",
         "Semester": "F",
         "Relation": "Father",
         "RaisedHands": 2,
         "VisitedResources": 19,
         "AnnouncementsView": 10,
         "Discussion": 50,
         "ParentAnsweringSurvey": "Yes",
         "ParentSchoolSatisfaction": "Good",
         "StudentAbsenceDays": "Above-7",
         "Class": "L",
         "_deepnote_index_column": 32
        }
       ],
       "rows_bottom": null
      },
      "text/plain": "   Gender Nationality BirthPlace       StageID GradeID SectionID Topic  \\\n32      F      Kuwait     Kuwait  MiddleSchool    G-07         A    IT   \n\n   Semester Relation  RaisedHands  VisitedResources  AnnouncementsView  \\\n32        F   Father            2                19                 10   \n\n    Discussion ParentAnsweringSurvey ParentSchoolSatisfaction  \\\n32          50                   Yes                     Good   \n\n   StudentAbsenceDays Class  \n32            Above-7     L  ",
      "text/html": "<div>\n<style scoped>\n    .dataframe tbody tr th:only-of-type {\n        vertical-align: middle;\n    }\n\n    .dataframe tbody tr th {\n        vertical-align: top;\n    }\n\n    .dataframe thead th {\n        text-align: right;\n    }\n</style>\n<table border=\"1\" class=\"dataframe\">\n  <thead>\n    <tr style=\"text-align: right;\">\n      <th></th>\n      <th>Gender</th>\n      <th>Nationality</th>\n      <th>BirthPlace</th>\n      <th>StageID</th>\n      <th>GradeID</th>\n      <th>SectionID</th>\n      <th>Topic</th>\n      <th>Semester</th>\n      <th>Relation</th>\n      <th>RaisedHands</th>\n      <th>VisitedResources</th>\n      <th>AnnouncementsView</th>\n      <th>Discussion</th>\n      <th>ParentAnsweringSurvey</th>\n      <th>ParentSchoolSatisfaction</th>\n      <th>StudentAbsenceDays</th>\n      <th>Class</th>\n    </tr>\n  </thead>\n  <tbody>\n    <tr>\n      <th>32</th>\n      <td>F</td>\n      <td>Kuwait</td>\n      <td>Kuwait</td>\n      <td>MiddleSchool</td>\n      <td>G-07</td>\n      <td>A</td>\n      <td>IT</td>\n      <td>F</td>\n      <td>Father</td>\n      <td>2</td>\n      <td>19</td>\n      <td>10</td>\n      <td>50</td>\n      <td>Yes</td>\n      <td>Good</td>\n      <td>Above-7</td>\n      <td>L</td>\n    </tr>\n  </tbody>\n</table>\n</div>"
     },
     "metadata": {}
    }
   ]
  },
  {
   "cell_type": "code",
   "metadata": {
    "colab": {
     "base_uri": "https://localhost:8080/",
     "height": 390
    },
    "id": "fJWG8fA3LZzX",
    "executionInfo": {
     "status": "ok",
     "timestamp": 1620279430994,
     "user_tz": -480,
     "elapsed": 909,
     "user": {
      "displayName": "Angeline Maris Gubat",
      "photoUrl": "https://lh3.googleusercontent.com/a-/AOh14Gijg6xgX0R_IA4o8GkF1xnv3D8-8kHv8i-V48U6=s64",
      "userId": "00875153666701401808"
     }
    },
    "outputId": "16830109-1006-43f3-e3fc-b8fe4d3f23f1",
    "cell_id": "00040-eac9e2d3-6920-4bfc-bcb4-8527e80d1da0",
    "deepnote_to_be_reexecuted": false,
    "source_hash": "4d15b54",
    "execution_start": 1622445248494,
    "execution_millis": 7,
    "deepnote_cell_type": "code"
   },
   "source": "cleaning2 = spd_df[['GradeID', 'StageID', 'Class']].groupby(['GradeID', 'StageID'])\ncleaning2.count()",
   "execution_count": 26,
   "outputs": [
    {
     "output_type": "execute_result",
     "execution_count": 26,
     "data": {
      "application/vnd.deepnote.dataframe.v2+json": {
       "row_count": 10,
       "column_count": 1,
       "columns": [
        {
         "name": "Class",
         "dtype": "int64",
         "stats": {
          "unique_count": 10,
          "nan_count": 0,
          "min": "3",
          "max": "147",
          "histogram": [
           {
            "bin_start": 3,
            "bin_end": 17.4,
            "count": 5
           },
           {
            "bin_start": 17.4,
            "bin_end": 31.8,
            "count": 0
           },
           {
            "bin_start": 31.8,
            "bin_end": 46.2,
            "count": 1
           },
           {
            "bin_start": 46.2,
            "bin_end": 60.6,
            "count": 1
           },
           {
            "bin_start": 60.6,
            "bin_end": 75,
            "count": 0
           },
           {
            "bin_start": 75,
            "bin_end": 89.4,
            "count": 0
           },
           {
            "bin_start": 89.4,
            "bin_end": 103.8,
            "count": 1
           },
           {
            "bin_start": 103.8,
            "bin_end": 118.2,
            "count": 1
           },
           {
            "bin_start": 118.2,
            "bin_end": 132.6,
            "count": 0
           },
           {
            "bin_start": 132.6,
            "bin_end": 147,
            "count": 1
           }
          ]
         }
        },
        {
         "name": "_deepnote_index_column",
         "dtype": "object"
        }
       ],
       "rows_top": [
        {
         "Class": 147,
         "_deepnote_index_column": "('G-02', 'lowerlevel')"
        },
        {
         "Class": 48,
         "_deepnote_index_column": "('G-04', 'lowerlevel')"
        },
        {
         "Class": 3,
         "_deepnote_index_column": "('G-05', 'lowerlevel')"
        },
        {
         "Class": 32,
         "_deepnote_index_column": "('G-06', 'MiddleSchool')"
        },
        {
         "Class": 101,
         "_deepnote_index_column": "('G-07', 'MiddleSchool')"
        },
        {
         "Class": 116,
         "_deepnote_index_column": "('G-08', 'MiddleSchool')"
        },
        {
         "Class": 5,
         "_deepnote_index_column": "('G-09', 'HighSchool')"
        },
        {
         "Class": 4,
         "_deepnote_index_column": "('G-10', 'HighSchool')"
        },
        {
         "Class": 13,
         "_deepnote_index_column": "('G-11', 'HighSchool')"
        },
        {
         "Class": 11,
         "_deepnote_index_column": "('G-12', 'HighSchool')"
        }
       ],
       "rows_bottom": null
      },
      "text/plain": "                      Class\nGradeID StageID            \nG-02    lowerlevel      147\nG-04    lowerlevel       48\nG-05    lowerlevel        3\nG-06    MiddleSchool     32\nG-07    MiddleSchool    101\nG-08    MiddleSchool    116\nG-09    HighSchool        5\nG-10    HighSchool        4\nG-11    HighSchool       13\nG-12    HighSchool       11",
      "text/html": "<div>\n<style scoped>\n    .dataframe tbody tr th:only-of-type {\n        vertical-align: middle;\n    }\n\n    .dataframe tbody tr th {\n        vertical-align: top;\n    }\n\n    .dataframe thead th {\n        text-align: right;\n    }\n</style>\n<table border=\"1\" class=\"dataframe\">\n  <thead>\n    <tr style=\"text-align: right;\">\n      <th></th>\n      <th></th>\n      <th>Class</th>\n    </tr>\n    <tr>\n      <th>GradeID</th>\n      <th>StageID</th>\n      <th></th>\n    </tr>\n  </thead>\n  <tbody>\n    <tr>\n      <th>G-02</th>\n      <th>lowerlevel</th>\n      <td>147</td>\n    </tr>\n    <tr>\n      <th>G-04</th>\n      <th>lowerlevel</th>\n      <td>48</td>\n    </tr>\n    <tr>\n      <th>G-05</th>\n      <th>lowerlevel</th>\n      <td>3</td>\n    </tr>\n    <tr>\n      <th>G-06</th>\n      <th>MiddleSchool</th>\n      <td>32</td>\n    </tr>\n    <tr>\n      <th>G-07</th>\n      <th>MiddleSchool</th>\n      <td>101</td>\n    </tr>\n    <tr>\n      <th>G-08</th>\n      <th>MiddleSchool</th>\n      <td>116</td>\n    </tr>\n    <tr>\n      <th>G-09</th>\n      <th>HighSchool</th>\n      <td>5</td>\n    </tr>\n    <tr>\n      <th>G-10</th>\n      <th>HighSchool</th>\n      <td>4</td>\n    </tr>\n    <tr>\n      <th>G-11</th>\n      <th>HighSchool</th>\n      <td>13</td>\n    </tr>\n    <tr>\n      <th>G-12</th>\n      <th>HighSchool</th>\n      <td>11</td>\n    </tr>\n  </tbody>\n</table>\n</div>"
     },
     "metadata": {}
    }
   ]
  },
  {
   "cell_type": "markdown",
   "source": "### **Exploratory Analysis**  \nNow that we have cleaned our dataset, we can now proceed in analyzing our data and conduct exploratory analysis to understand the dataset further. As mentioned, we aim to know which factors affect student's academic grades specifically we want to address the following questions:  \n* Do students who participate more have higher grades than those who participate less?\n* Does parent participation and satisfaction affect a student’s performance?\n* Do the number of class absences greatly affect the student’s grades?\n* Does visiting class resources result in higher class grades?",
   "metadata": {
    "id": "zTzcZkil4g7e",
    "cell_id": "00041-68dd33b1-33c2-4a6e-8c81-b198100c15e5",
    "deepnote_cell_type": "markdown"
   }
  },
  {
   "cell_type": "markdown",
   "source": "#### ***Q1: Do students who participate more have higher grades than those who participate less?***  \nStudent engagement has been defined as “students’ willingness, need, desire, and compulsion to participate in, and be successful in, the learning process”. \nFor the first question, we wanted to know if there is a correlation on the student's participation and academic performance. With this, we will be using the following features:  \n* `AnnouncementsView`: Total number of times a student checks the announcements<br>\n* `Discussion`: Total number of times a student participates on discussion groups<br>\n* `RaisedHands`: Total number of times a student raises his/her hand  <br>\n* `Class`: Represents the interval of a student total grade <br>\n  * _Low_: interval includes values from 0 to 69\n  * _Middle_: interval includes values from 70 to 89\n  * _High_: interval includes values from 90-100\n  \nTo start, let us assign to a DataFrame variable the needed features for this research question. ",
   "metadata": {
    "id": "k2EK_qiW5Rpo",
    "cell_id": "00042-53cafaea-8745-46ce-9478-aa31425587fb",
    "deepnote_cell_type": "markdown"
   }
  },
  {
   "cell_type": "code",
   "metadata": {
    "colab": {
     "base_uri": "https://localhost:8080/",
     "height": 419
    },
    "id": "1EDiHR7QPiEP",
    "executionInfo": {
     "status": "ok",
     "timestamp": 1620279440102,
     "user_tz": -480,
     "elapsed": 784,
     "user": {
      "displayName": "Angeline Maris Gubat",
      "photoUrl": "https://lh3.googleusercontent.com/a-/AOh14Gijg6xgX0R_IA4o8GkF1xnv3D8-8kHv8i-V48U6=s64",
      "userId": "00875153666701401808"
     }
    },
    "outputId": "81ffbd92-cc7c-4c4d-e02f-c82aead0e757",
    "cell_id": "00043-c0b7f74c-49f0-4407-ae4c-ad1c7dab84f0",
    "deepnote_to_be_reexecuted": false,
    "source_hash": "248c1fe0",
    "execution_start": 1622445248551,
    "execution_millis": 3,
    "deepnote_cell_type": "code"
   },
   "source": "q1_df = spd_df[[\"AnnouncementsView\", \"Discussion\", \"RaisedHands\", \"Class\"]].copy()\nq1_df",
   "execution_count": 27,
   "outputs": [
    {
     "output_type": "execute_result",
     "execution_count": 27,
     "data": {
      "application/vnd.deepnote.dataframe.v2+json": {
       "row_count": 480,
       "column_count": 4,
       "columns": [
        {
         "name": "AnnouncementsView",
         "dtype": "int64",
         "stats": {
          "unique_count": 88,
          "nan_count": 0,
          "min": "0",
          "max": "98",
          "histogram": [
           {
            "bin_start": 0,
            "bin_end": 9.8,
            "count": 72
           },
           {
            "bin_start": 9.8,
            "bin_end": 19.6,
            "count": 78
           },
           {
            "bin_start": 19.6,
            "bin_end": 29.400000000000002,
            "count": 63
           },
           {
            "bin_start": 29.400000000000002,
            "bin_end": 39.2,
            "count": 45
           },
           {
            "bin_start": 39.2,
            "bin_end": 49,
            "count": 47
           },
           {
            "bin_start": 49,
            "bin_end": 58.800000000000004,
            "count": 59
           },
           {
            "bin_start": 58.800000000000004,
            "bin_end": 68.60000000000001,
            "count": 27
           },
           {
            "bin_start": 68.60000000000001,
            "bin_end": 78.4,
            "count": 36
           },
           {
            "bin_start": 78.4,
            "bin_end": 88.2,
            "count": 42
           },
           {
            "bin_start": 88.2,
            "bin_end": 98,
            "count": 11
           }
          ]
         }
        },
        {
         "name": "Discussion",
         "dtype": "int64",
         "stats": {
          "unique_count": 90,
          "nan_count": 0,
          "min": "1",
          "max": "99",
          "histogram": [
           {
            "bin_start": 1,
            "bin_end": 10.8,
            "count": 52
           },
           {
            "bin_start": 10.8,
            "bin_end": 20.6,
            "count": 77
           },
           {
            "bin_start": 20.6,
            "bin_end": 30.400000000000002,
            "count": 66
           },
           {
            "bin_start": 30.400000000000002,
            "bin_end": 40.2,
            "count": 69
           },
           {
            "bin_start": 40.2,
            "bin_end": 50,
            "count": 26
           },
           {
            "bin_start": 50,
            "bin_end": 59.800000000000004,
            "count": 38
           },
           {
            "bin_start": 59.800000000000004,
            "bin_end": 69.60000000000001,
            "count": 28
           },
           {
            "bin_start": 69.60000000000001,
            "bin_end": 79.4,
            "count": 42
           },
           {
            "bin_start": 79.4,
            "bin_end": 89.2,
            "count": 53
           },
           {
            "bin_start": 89.2,
            "bin_end": 99,
            "count": 29
           }
          ]
         }
        },
        {
         "name": "RaisedHands",
         "dtype": "int64",
         "stats": {
          "unique_count": 82,
          "nan_count": 0,
          "min": "0",
          "max": "100",
          "histogram": [
           {
            "bin_start": 0,
            "bin_end": 10,
            "count": 50
           },
           {
            "bin_start": 10,
            "bin_end": 20,
            "count": 90
           },
           {
            "bin_start": 20,
            "bin_end": 30,
            "count": 48
           },
           {
            "bin_start": 30,
            "bin_end": 40,
            "count": 31
           },
           {
            "bin_start": 40,
            "bin_end": 50,
            "count": 18
           },
           {
            "bin_start": 50,
            "bin_end": 60,
            "count": 33
           },
           {
            "bin_start": 60,
            "bin_end": 70,
            "count": 31
           },
           {
            "bin_start": 70,
            "bin_end": 80,
            "count": 80
           },
           {
            "bin_start": 80,
            "bin_end": 90,
            "count": 66
           },
           {
            "bin_start": 90,
            "bin_end": 100,
            "count": 33
           }
          ]
         }
        },
        {
         "name": "Class",
         "dtype": "object",
         "stats": {
          "unique_count": 3,
          "nan_count": 0,
          "categories": [
           {
            "name": "M",
            "count": 211
           },
           {
            "name": "H",
            "count": 142
           },
           {
            "name": "L",
            "count": 127
           }
          ]
         }
        },
        {
         "name": "_deepnote_index_column",
         "dtype": "int64"
        }
       ],
       "rows_top": [
        {
         "AnnouncementsView": 2,
         "Discussion": 20,
         "RaisedHands": 15,
         "Class": "M",
         "_deepnote_index_column": 0
        },
        {
         "AnnouncementsView": 3,
         "Discussion": 25,
         "RaisedHands": 20,
         "Class": "M",
         "_deepnote_index_column": 1
        },
        {
         "AnnouncementsView": 0,
         "Discussion": 30,
         "RaisedHands": 10,
         "Class": "L",
         "_deepnote_index_column": 2
        },
        {
         "AnnouncementsView": 5,
         "Discussion": 35,
         "RaisedHands": 30,
         "Class": "L",
         "_deepnote_index_column": 3
        },
        {
         "AnnouncementsView": 12,
         "Discussion": 50,
         "RaisedHands": 40,
         "Class": "M",
         "_deepnote_index_column": 4
        },
        {
         "AnnouncementsView": 13,
         "Discussion": 70,
         "RaisedHands": 42,
         "Class": "M",
         "_deepnote_index_column": 5
        },
        {
         "AnnouncementsView": 0,
         "Discussion": 17,
         "RaisedHands": 35,
         "Class": "L",
         "_deepnote_index_column": 6
        },
        {
         "AnnouncementsView": 15,
         "Discussion": 22,
         "RaisedHands": 50,
         "Class": "M",
         "_deepnote_index_column": 7
        },
        {
         "AnnouncementsView": 16,
         "Discussion": 50,
         "RaisedHands": 12,
         "Class": "M",
         "_deepnote_index_column": 8
        },
        {
         "AnnouncementsView": 25,
         "Discussion": 70,
         "RaisedHands": 70,
         "Class": "M",
         "_deepnote_index_column": 9
        },
        {
         "AnnouncementsView": 30,
         "Discussion": 80,
         "RaisedHands": 50,
         "Class": "H",
         "_deepnote_index_column": 10
        },
        {
         "AnnouncementsView": 19,
         "Discussion": 12,
         "RaisedHands": 19,
         "Class": "M",
         "_deepnote_index_column": 11
        },
        {
         "AnnouncementsView": 0,
         "Discussion": 11,
         "RaisedHands": 5,
         "Class": "L",
         "_deepnote_index_column": 12
        },
        {
         "AnnouncementsView": 12,
         "Discussion": 19,
         "RaisedHands": 20,
         "Class": "L",
         "_deepnote_index_column": 13
        },
        {
         "AnnouncementsView": 44,
         "Discussion": 60,
         "RaisedHands": 62,
         "Class": "H",
         "_deepnote_index_column": 14
        },
        {
         "AnnouncementsView": 22,
         "Discussion": 66,
         "RaisedHands": 30,
         "Class": "M",
         "_deepnote_index_column": 15
        },
        {
         "AnnouncementsView": 20,
         "Discussion": 80,
         "RaisedHands": 36,
         "Class": "M",
         "_deepnote_index_column": 16
        },
        {
         "AnnouncementsView": 35,
         "Discussion": 90,
         "RaisedHands": 55,
         "Class": "M",
         "_deepnote_index_column": 17
        },
        {
         "AnnouncementsView": 36,
         "Discussion": 96,
         "RaisedHands": 69,
         "Class": "M",
         "_deepnote_index_column": 18
        },
        {
         "AnnouncementsView": 40,
         "Discussion": 99,
         "RaisedHands": 70,
         "Class": "H",
         "_deepnote_index_column": 19
        },
        {
         "AnnouncementsView": 33,
         "Discussion": 90,
         "RaisedHands": 60,
         "Class": "M",
         "_deepnote_index_column": 20
        },
        {
         "AnnouncementsView": 4,
         "Discussion": 80,
         "RaisedHands": 10,
         "Class": "M",
         "_deepnote_index_column": 21
        },
        {
         "AnnouncementsView": 2,
         "Discussion": 90,
         "RaisedHands": 15,
         "Class": "M",
         "_deepnote_index_column": 22
        },
        {
         "AnnouncementsView": 2,
         "Discussion": 50,
         "RaisedHands": 2,
         "Class": "L",
         "_deepnote_index_column": 23
        },
        {
         "AnnouncementsView": 3,
         "Discussion": 70,
         "RaisedHands": 0,
         "Class": "L",
         "_deepnote_index_column": 24
        },
        {
         "AnnouncementsView": 30,
         "Discussion": 40,
         "RaisedHands": 8,
         "Class": "L",
         "_deepnote_index_column": 25
        },
        {
         "AnnouncementsView": 25,
         "Discussion": 40,
         "RaisedHands": 19,
         "Class": "M",
         "_deepnote_index_column": 26
        },
        {
         "AnnouncementsView": 12,
         "Discussion": 33,
         "RaisedHands": 25,
         "Class": "L",
         "_deepnote_index_column": 27
        },
        {
         "AnnouncementsView": 52,
         "Discussion": 43,
         "RaisedHands": 75,
         "Class": "M",
         "_deepnote_index_column": 28
        },
        {
         "AnnouncementsView": 33,
         "Discussion": 35,
         "RaisedHands": 30,
         "Class": "M",
         "_deepnote_index_column": 29
        },
        {
         "AnnouncementsView": 50,
         "Discussion": 70,
         "RaisedHands": 35,
         "Class": "H",
         "_deepnote_index_column": 30
        },
        {
         "AnnouncementsView": 40,
         "Discussion": 16,
         "RaisedHands": 4,
         "Class": "L",
         "_deepnote_index_column": 31
        },
        {
         "AnnouncementsView": 10,
         "Discussion": 50,
         "RaisedHands": 2,
         "Class": "L",
         "_deepnote_index_column": 32
        },
        {
         "AnnouncementsView": 9,
         "Discussion": 40,
         "RaisedHands": 8,
         "Class": "L",
         "_deepnote_index_column": 33
        },
        {
         "AnnouncementsView": 8,
         "Discussion": 40,
         "RaisedHands": 12,
         "Class": "L",
         "_deepnote_index_column": 34
        },
        {
         "AnnouncementsView": 17,
         "Discussion": 30,
         "RaisedHands": 10,
         "Class": "L",
         "_deepnote_index_column": 35
        },
        {
         "AnnouncementsView": 4,
         "Discussion": 22,
         "RaisedHands": 8,
         "Class": "L",
         "_deepnote_index_column": 36
        },
        {
         "AnnouncementsView": 26,
         "Discussion": 90,
         "RaisedHands": 45,
         "Class": "M",
         "_deepnote_index_column": 37
        },
        {
         "AnnouncementsView": 0,
         "Discussion": 4,
         "RaisedHands": 0,
         "Class": "L",
         "_deepnote_index_column": 38
        },
        {
         "AnnouncementsView": 37,
         "Discussion": 70,
         "RaisedHands": 50,
         "Class": "M",
         "_deepnote_index_column": 39
        },
        {
         "AnnouncementsView": 3,
         "Discussion": 70,
         "RaisedHands": 14,
         "Class": "L",
         "_deepnote_index_column": 40
        },
        {
         "AnnouncementsView": 16,
         "Discussion": 50,
         "RaisedHands": 19,
         "Class": "M",
         "_deepnote_index_column": 41
        },
        {
         "AnnouncementsView": 7,
         "Discussion": 33,
         "RaisedHands": 10,
         "Class": "L",
         "_deepnote_index_column": 42
        },
        {
         "AnnouncementsView": 28,
         "Discussion": 90,
         "RaisedHands": 30,
         "Class": "M",
         "_deepnote_index_column": 43
        },
        {
         "AnnouncementsView": 30,
         "Discussion": 90,
         "RaisedHands": 33,
         "Class": "M",
         "_deepnote_index_column": 44
        },
        {
         "AnnouncementsView": 15,
         "Discussion": 70,
         "RaisedHands": 20,
         "Class": "L",
         "_deepnote_index_column": 45
        },
        {
         "AnnouncementsView": 1,
         "Discussion": 30,
         "RaisedHands": 7,
         "Class": "L",
         "_deepnote_index_column": 46
        },
        {
         "AnnouncementsView": 39,
         "Discussion": 90,
         "RaisedHands": 70,
         "Class": "H",
         "_deepnote_index_column": 47
        },
        {
         "AnnouncementsView": 40,
         "Discussion": 88,
         "RaisedHands": 13,
         "Class": "H",
         "_deepnote_index_column": 48
        },
        {
         "AnnouncementsView": 50,
         "Discussion": 77,
         "RaisedHands": 29,
         "Class": "M",
         "_deepnote_index_column": 49
        },
        {
         "AnnouncementsView": 12,
         "Discussion": 70,
         "RaisedHands": 20,
         "Class": "L",
         "_deepnote_index_column": 50
        },
        {
         "AnnouncementsView": 16,
         "Discussion": 50,
         "RaisedHands": 39,
         "Class": "L",
         "_deepnote_index_column": 51
        },
        {
         "AnnouncementsView": 16,
         "Discussion": 40,
         "RaisedHands": 55,
         "Class": "M",
         "_deepnote_index_column": 52
        },
        {
         "AnnouncementsView": 19,
         "Discussion": 75,
         "RaisedHands": 49,
         "Class": "H",
         "_deepnote_index_column": 53
        },
        {
         "AnnouncementsView": 8,
         "Discussion": 30,
         "RaisedHands": 12,
         "Class": "L",
         "_deepnote_index_column": 54
        },
        {
         "AnnouncementsView": 6,
         "Discussion": 20,
         "RaisedHands": 16,
         "Class": "L",
         "_deepnote_index_column": 55
        },
        {
         "AnnouncementsView": 4,
         "Discussion": 1,
         "RaisedHands": 19,
         "Class": "L",
         "_deepnote_index_column": 56
        },
        {
         "AnnouncementsView": 6,
         "Discussion": 5,
         "RaisedHands": 5,
         "Class": "L",
         "_deepnote_index_column": 57
        },
        {
         "AnnouncementsView": 19,
         "Discussion": 50,
         "RaisedHands": 28,
         "Class": "M",
         "_deepnote_index_column": 58
        },
        {
         "AnnouncementsView": 22,
         "Discussion": 40,
         "RaisedHands": 27,
         "Class": "M",
         "_deepnote_index_column": 59
        },
        {
         "AnnouncementsView": 28,
         "Discussion": 20,
         "RaisedHands": 21,
         "Class": "L",
         "_deepnote_index_column": 60
        },
        {
         "AnnouncementsView": 32,
         "Discussion": 40,
         "RaisedHands": 50,
         "Class": "M",
         "_deepnote_index_column": 61
        },
        {
         "AnnouncementsView": 70,
         "Discussion": 80,
         "RaisedHands": 80,
         "Class": "H",
         "_deepnote_index_column": 62
        },
        {
         "AnnouncementsView": 16,
         "Discussion": 12,
         "RaisedHands": 17,
         "Class": "M",
         "_deepnote_index_column": 63
        },
        {
         "AnnouncementsView": 7,
         "Discussion": 2,
         "RaisedHands": 0,
         "Class": "L",
         "_deepnote_index_column": 64
        },
        {
         "AnnouncementsView": 18,
         "Discussion": 19,
         "RaisedHands": 13,
         "Class": "L",
         "_deepnote_index_column": 65
        },
        {
         "AnnouncementsView": 19,
         "Discussion": 30,
         "RaisedHands": 25,
         "Class": "M",
         "_deepnote_index_column": 66
        },
        {
         "AnnouncementsView": 23,
         "Discussion": 80,
         "RaisedHands": 65,
         "Class": "H",
         "_deepnote_index_column": 67
        },
        {
         "AnnouncementsView": 35,
         "Discussion": 30,
         "RaisedHands": 70,
         "Class": "H",
         "_deepnote_index_column": 68
        },
        {
         "AnnouncementsView": 11,
         "Discussion": 33,
         "RaisedHands": 39,
         "Class": "M",
         "_deepnote_index_column": 69
        },
        {
         "AnnouncementsView": 10,
         "Discussion": 12,
         "RaisedHands": 22,
         "Class": "L",
         "_deepnote_index_column": 70
        },
        {
         "AnnouncementsView": 9,
         "Discussion": 20,
         "RaisedHands": 29,
         "Class": "M",
         "_deepnote_index_column": 71
        },
        {
         "AnnouncementsView": 2,
         "Discussion": 8,
         "RaisedHands": 11,
         "Class": "L",
         "_deepnote_index_column": 72
        },
        {
         "AnnouncementsView": 26,
         "Discussion": 19,
         "RaisedHands": 19,
         "Class": "M",
         "_deepnote_index_column": 73
        },
        {
         "AnnouncementsView": 6,
         "Discussion": 13,
         "RaisedHands": 12,
         "Class": "L",
         "_deepnote_index_column": 74
        },
        {
         "AnnouncementsView": 29,
         "Discussion": 60,
         "RaisedHands": 50,
         "Class": "M",
         "_deepnote_index_column": 75
        },
        {
         "AnnouncementsView": 37,
         "Discussion": 44,
         "RaisedHands": 15,
         "Class": "M",
         "_deepnote_index_column": 76
        },
        {
         "AnnouncementsView": 33,
         "Discussion": 33,
         "RaisedHands": 20,
         "Class": "M",
         "_deepnote_index_column": 77
        },
        {
         "AnnouncementsView": 11,
         "Discussion": 9,
         "RaisedHands": 13,
         "Class": "L",
         "_deepnote_index_column": 78
        },
        {
         "AnnouncementsView": 49,
         "Discussion": 55,
         "RaisedHands": 80,
         "Class": "H",
         "_deepnote_index_column": 79
        },
        {
         "AnnouncementsView": 10,
         "Discussion": 40,
         "RaisedHands": 8,
         "Class": "L",
         "_deepnote_index_column": 80
        },
        {
         "AnnouncementsView": 1,
         "Discussion": 70,
         "RaisedHands": 8,
         "Class": "L",
         "_deepnote_index_column": 81
        },
        {
         "AnnouncementsView": 2,
         "Discussion": 80,
         "RaisedHands": 7,
         "Class": "L",
         "_deepnote_index_column": 82
        },
        {
         "AnnouncementsView": 10,
         "Discussion": 50,
         "RaisedHands": 7,
         "Class": "M",
         "_deepnote_index_column": 83
        },
        {
         "AnnouncementsView": 50,
         "Discussion": 10,
         "RaisedHands": 50,
         "Class": "H",
         "_deepnote_index_column": 84
        },
        {
         "AnnouncementsView": 1,
         "Discussion": 12,
         "RaisedHands": 1,
         "Class": "L",
         "_deepnote_index_column": 85
        },
        {
         "AnnouncementsView": 40,
         "Discussion": 50,
         "RaisedHands": 70,
         "Class": "H",
         "_deepnote_index_column": 86
        },
        {
         "AnnouncementsView": 3,
         "Discussion": 50,
         "RaisedHands": 19,
         "Class": "L",
         "_deepnote_index_column": 87
        },
        {
         "AnnouncementsView": 4,
         "Discussion": 33,
         "RaisedHands": 3,
         "Class": "L",
         "_deepnote_index_column": 88
        },
        {
         "AnnouncementsView": 1,
         "Discussion": 50,
         "RaisedHands": 5,
         "Class": "L",
         "_deepnote_index_column": 89
        },
        {
         "AnnouncementsView": 10,
         "Discussion": 60,
         "RaisedHands": 4,
         "Class": "L",
         "_deepnote_index_column": 90
        },
        {
         "AnnouncementsView": 55,
         "Discussion": 19,
         "RaisedHands": 80,
         "Class": "H",
         "_deepnote_index_column": 91
        },
        {
         "AnnouncementsView": 19,
         "Discussion": 15,
         "RaisedHands": 50,
         "Class": "H",
         "_deepnote_index_column": 92
        },
        {
         "AnnouncementsView": 40,
         "Discussion": 40,
         "RaisedHands": 55,
         "Class": "H",
         "_deepnote_index_column": 93
        },
        {
         "AnnouncementsView": 35,
         "Discussion": 10,
         "RaisedHands": 80,
         "Class": "L",
         "_deepnote_index_column": 94
        },
        {
         "AnnouncementsView": 2,
         "Discussion": 70,
         "RaisedHands": 100,
         "Class": "H",
         "_deepnote_index_column": 95
        },
        {
         "AnnouncementsView": 11,
         "Discussion": 75,
         "RaisedHands": 14,
         "Class": "H",
         "_deepnote_index_column": 96
        },
        {
         "AnnouncementsView": 38,
         "Discussion": 12,
         "RaisedHands": 6,
         "Class": "M",
         "_deepnote_index_column": 97
        },
        {
         "AnnouncementsView": 0,
         "Discussion": 30,
         "RaisedHands": 10,
         "Class": "M",
         "_deepnote_index_column": 98
        },
        {
         "AnnouncementsView": 9,
         "Discussion": 50,
         "RaisedHands": 50,
         "Class": "M",
         "_deepnote_index_column": 99
        },
        {
         "AnnouncementsView": 40,
         "Discussion": 90,
         "RaisedHands": 50,
         "Class": "M",
         "_deepnote_index_column": 100
        },
        {
         "AnnouncementsView": 50,
         "Discussion": 7,
         "RaisedHands": 70,
         "Class": "H",
         "_deepnote_index_column": 101
        },
        {
         "AnnouncementsView": 2,
         "Discussion": 8,
         "RaisedHands": 2,
         "Class": "L",
         "_deepnote_index_column": 102
        },
        {
         "AnnouncementsView": 6,
         "Discussion": 10,
         "RaisedHands": 1,
         "Class": "L",
         "_deepnote_index_column": 103
        },
        {
         "AnnouncementsView": 3,
         "Discussion": 3,
         "RaisedHands": 0,
         "Class": "M",
         "_deepnote_index_column": 104
        },
        {
         "AnnouncementsView": 5,
         "Discussion": 80,
         "RaisedHands": 0,
         "Class": "L",
         "_deepnote_index_column": 105
        },
        {
         "AnnouncementsView": 7,
         "Discussion": 40,
         "RaisedHands": 12,
         "Class": "M",
         "_deepnote_index_column": 106
        },
        {
         "AnnouncementsView": 41,
         "Discussion": 33,
         "RaisedHands": 70,
         "Class": "H",
         "_deepnote_index_column": 107
        },
        {
         "AnnouncementsView": 5,
         "Discussion": 3,
         "RaisedHands": 7,
         "Class": "M",
         "_deepnote_index_column": 108
        },
        {
         "AnnouncementsView": 30,
         "Discussion": 14,
         "RaisedHands": 90,
         "Class": "M",
         "_deepnote_index_column": 109
        },
        {
         "AnnouncementsView": 55,
         "Discussion": 40,
         "RaisedHands": 70,
         "Class": "H",
         "_deepnote_index_column": 110
        },
        {
         "AnnouncementsView": 51,
         "Discussion": 80,
         "RaisedHands": 77,
         "Class": "M",
         "_deepnote_index_column": 111
        },
        {
         "AnnouncementsView": 3,
         "Discussion": 50,
         "RaisedHands": 2,
         "Class": "L",
         "_deepnote_index_column": 112
        },
        {
         "AnnouncementsView": 0,
         "Discussion": 69,
         "RaisedHands": 25,
         "Class": "L",
         "_deepnote_index_column": 113
        },
        {
         "AnnouncementsView": 0,
         "Discussion": 50,
         "RaisedHands": 11,
         "Class": "L",
         "_deepnote_index_column": 114
        },
        {
         "AnnouncementsView": 11,
         "Discussion": 70,
         "RaisedHands": 0,
         "Class": "L",
         "_deepnote_index_column": 115
        },
        {
         "AnnouncementsView": 12,
         "Discussion": 19,
         "RaisedHands": 77,
         "Class": "M",
         "_deepnote_index_column": 116
        },
        {
         "AnnouncementsView": 40,
         "Discussion": 17,
         "RaisedHands": 25,
         "Class": "H",
         "_deepnote_index_column": 117
        },
        {
         "AnnouncementsView": 23,
         "Discussion": 22,
         "RaisedHands": 24,
         "Class": "M",
         "_deepnote_index_column": 118
        },
        {
         "AnnouncementsView": 3,
         "Discussion": 60,
         "RaisedHands": 60,
         "Class": "M",
         "_deepnote_index_column": 119
        },
        {
         "AnnouncementsView": 0,
         "Discussion": 50,
         "RaisedHands": 21,
         "Class": "M",
         "_deepnote_index_column": 120
        },
        {
         "AnnouncementsView": 8,
         "Discussion": 30,
         "RaisedHands": 0,
         "Class": "L",
         "_deepnote_index_column": 121
        },
        {
         "AnnouncementsView": 55,
         "Discussion": 12,
         "RaisedHands": 66,
         "Class": "M",
         "_deepnote_index_column": 122
        },
        {
         "AnnouncementsView": 7,
         "Discussion": 5,
         "RaisedHands": 70,
         "Class": "M",
         "_deepnote_index_column": 123
        },
        {
         "AnnouncementsView": 4,
         "Discussion": 15,
         "RaisedHands": 0,
         "Class": "L",
         "_deepnote_index_column": 124
        }
       ],
       "rows_bottom": [
        {
         "AnnouncementsView": 41,
         "Discussion": 23,
         "RaisedHands": 35,
         "Class": "H",
         "_deepnote_index_column": 355
        },
        {
         "AnnouncementsView": 32,
         "Discussion": 25,
         "RaisedHands": 32,
         "Class": "M",
         "_deepnote_index_column": 356
        },
        {
         "AnnouncementsView": 21,
         "Discussion": 27,
         "RaisedHands": 25,
         "Class": "M",
         "_deepnote_index_column": 357
        },
        {
         "AnnouncementsView": 52,
         "Discussion": 15,
         "RaisedHands": 72,
         "Class": "H",
         "_deepnote_index_column": 358
        },
        {
         "AnnouncementsView": 51,
         "Discussion": 17,
         "RaisedHands": 75,
         "Class": "H",
         "_deepnote_index_column": 359
        },
        {
         "AnnouncementsView": 31,
         "Discussion": 28,
         "RaisedHands": 20,
         "Class": "M",
         "_deepnote_index_column": 360
        },
        {
         "AnnouncementsView": 41,
         "Discussion": 38,
         "RaisedHands": 10,
         "Class": "M",
         "_deepnote_index_column": 361
        },
        {
         "AnnouncementsView": 41,
         "Discussion": 38,
         "RaisedHands": 90,
         "Class": "H",
         "_deepnote_index_column": 362
        },
        {
         "AnnouncementsView": 51,
         "Discussion": 39,
         "RaisedHands": 80,
         "Class": "H",
         "_deepnote_index_column": 363
        },
        {
         "AnnouncementsView": 21,
         "Discussion": 28,
         "RaisedHands": 80,
         "Class": "H",
         "_deepnote_index_column": 364
        },
        {
         "AnnouncementsView": 31,
         "Discussion": 29,
         "RaisedHands": 78,
         "Class": "H",
         "_deepnote_index_column": 365
        },
        {
         "AnnouncementsView": 71,
         "Discussion": 38,
         "RaisedHands": 10,
         "Class": "M",
         "_deepnote_index_column": 366
        },
        {
         "AnnouncementsView": 51,
         "Discussion": 48,
         "RaisedHands": 10,
         "Class": "M",
         "_deepnote_index_column": 367
        },
        {
         "AnnouncementsView": 60,
         "Discussion": 31,
         "RaisedHands": 98,
         "Class": "H",
         "_deepnote_index_column": 368
        },
        {
         "AnnouncementsView": 51,
         "Discussion": 34,
         "RaisedHands": 75,
         "Class": "H",
         "_deepnote_index_column": 369
        },
        {
         "AnnouncementsView": 50,
         "Discussion": 21,
         "RaisedHands": 10,
         "Class": "M",
         "_deepnote_index_column": 370
        },
        {
         "AnnouncementsView": 29,
         "Discussion": 23,
         "RaisedHands": 35,
         "Class": "M",
         "_deepnote_index_column": 371
        },
        {
         "AnnouncementsView": 22,
         "Discussion": 97,
         "RaisedHands": 10,
         "Class": "L",
         "_deepnote_index_column": 372
        },
        {
         "AnnouncementsView": 19,
         "Discussion": 98,
         "RaisedHands": 5,
         "Class": "L",
         "_deepnote_index_column": 373
        },
        {
         "AnnouncementsView": 40,
         "Discussion": 51,
         "RaisedHands": 10,
         "Class": "L",
         "_deepnote_index_column": 374
        },
        {
         "AnnouncementsView": 29,
         "Discussion": 23,
         "RaisedHands": 35,
         "Class": "L",
         "_deepnote_index_column": 375
        },
        {
         "AnnouncementsView": 50,
         "Discussion": 61,
         "RaisedHands": 20,
         "Class": "M",
         "_deepnote_index_column": 376
        },
        {
         "AnnouncementsView": 59,
         "Discussion": 63,
         "RaisedHands": 32,
         "Class": "M",
         "_deepnote_index_column": 377
        },
        {
         "AnnouncementsView": 50,
         "Discussion": 91,
         "RaisedHands": 10,
         "Class": "L",
         "_deepnote_index_column": 378
        },
        {
         "AnnouncementsView": 59,
         "Discussion": 83,
         "RaisedHands": 12,
         "Class": "L",
         "_deepnote_index_column": 379
        },
        {
         "AnnouncementsView": 20,
         "Discussion": 98,
         "RaisedHands": 11,
         "Class": "L",
         "_deepnote_index_column": 380
        },
        {
         "AnnouncementsView": 29,
         "Discussion": 93,
         "RaisedHands": 10,
         "Class": "L",
         "_deepnote_index_column": 381
        },
        {
         "AnnouncementsView": 20,
         "Discussion": 28,
         "RaisedHands": 69,
         "Class": "H",
         "_deepnote_index_column": 382
        },
        {
         "AnnouncementsView": 29,
         "Discussion": 33,
         "RaisedHands": 70,
         "Class": "H",
         "_deepnote_index_column": 383
        },
        {
         "AnnouncementsView": 40,
         "Discussion": 28,
         "RaisedHands": 89,
         "Class": "H",
         "_deepnote_index_column": 384
        },
        {
         "AnnouncementsView": 49,
         "Discussion": 23,
         "RaisedHands": 79,
         "Class": "H",
         "_deepnote_index_column": 385
        },
        {
         "AnnouncementsView": 21,
         "Discussion": 97,
         "RaisedHands": 15,
         "Class": "M",
         "_deepnote_index_column": 386
        },
        {
         "AnnouncementsView": 31,
         "Discussion": 88,
         "RaisedHands": 20,
         "Class": "M",
         "_deepnote_index_column": 387
        },
        {
         "AnnouncementsView": 11,
         "Discussion": 7,
         "RaisedHands": 4,
         "Class": "L",
         "_deepnote_index_column": 388
        },
        {
         "AnnouncementsView": 1,
         "Discussion": 8,
         "RaisedHands": 5,
         "Class": "L",
         "_deepnote_index_column": 389
        },
        {
         "AnnouncementsView": 50,
         "Discussion": 10,
         "RaisedHands": 88,
         "Class": "M",
         "_deepnote_index_column": 390
        },
        {
         "AnnouncementsView": 54,
         "Discussion": 12,
         "RaisedHands": 90,
         "Class": "M",
         "_deepnote_index_column": 391
        },
        {
         "AnnouncementsView": 50,
         "Discussion": 20,
         "RaisedHands": 86,
         "Class": "H",
         "_deepnote_index_column": 392
        },
        {
         "AnnouncementsView": 57,
         "Discussion": 22,
         "RaisedHands": 90,
         "Class": "H",
         "_deepnote_index_column": 393
        },
        {
         "AnnouncementsView": 50,
         "Discussion": 40,
         "RaisedHands": 78,
         "Class": "H",
         "_deepnote_index_column": 394
        },
        {
         "AnnouncementsView": 54,
         "Discussion": 72,
         "RaisedHands": 70,
         "Class": "H",
         "_deepnote_index_column": 395
        },
        {
         "AnnouncementsView": 46,
         "Discussion": 61,
         "RaisedHands": 80,
         "Class": "M",
         "_deepnote_index_column": 396
        },
        {
         "AnnouncementsView": 59,
         "Discussion": 63,
         "RaisedHands": 85,
         "Class": "M",
         "_deepnote_index_column": 397
        },
        {
         "AnnouncementsView": 86,
         "Discussion": 81,
         "RaisedHands": 88,
         "Class": "H",
         "_deepnote_index_column": 398
        },
        {
         "AnnouncementsView": 89,
         "Discussion": 83,
         "RaisedHands": 89,
         "Class": "H",
         "_deepnote_index_column": 399
        },
        {
         "AnnouncementsView": 40,
         "Discussion": 26,
         "RaisedHands": 39,
         "Class": "M",
         "_deepnote_index_column": 400
        },
        {
         "AnnouncementsView": 34,
         "Discussion": 22,
         "RaisedHands": 35,
         "Class": "M",
         "_deepnote_index_column": 401
        },
        {
         "AnnouncementsView": 80,
         "Discussion": 86,
         "RaisedHands": 76,
         "Class": "H",
         "_deepnote_index_column": 402
        },
        {
         "AnnouncementsView": 64,
         "Discussion": 82,
         "RaisedHands": 65,
         "Class": "H",
         "_deepnote_index_column": 403
        },
        {
         "AnnouncementsView": 70,
         "Discussion": 70,
         "RaisedHands": 96,
         "Class": "H",
         "_deepnote_index_column": 404
        },
        {
         "AnnouncementsView": 87,
         "Discussion": 72,
         "RaisedHands": 80,
         "Class": "H",
         "_deepnote_index_column": 405
        },
        {
         "AnnouncementsView": 10,
         "Discussion": 1,
         "RaisedHands": 2,
         "Class": "L",
         "_deepnote_index_column": 406
        },
        {
         "AnnouncementsView": 19,
         "Discussion": 3,
         "RaisedHands": 3,
         "Class": "L",
         "_deepnote_index_column": 407
        },
        {
         "AnnouncementsView": 10,
         "Discussion": 31,
         "RaisedHands": 50,
         "Class": "M",
         "_deepnote_index_column": 408
        },
        {
         "AnnouncementsView": 9,
         "Discussion": 33,
         "RaisedHands": 53,
         "Class": "M",
         "_deepnote_index_column": 409
        },
        {
         "AnnouncementsView": 12,
         "Discussion": 21,
         "RaisedHands": 70,
         "Class": "H",
         "_deepnote_index_column": 410
        },
        {
         "AnnouncementsView": 19,
         "Discussion": 43,
         "RaisedHands": 59,
         "Class": "H",
         "_deepnote_index_column": 411
        },
        {
         "AnnouncementsView": 66,
         "Discussion": 51,
         "RaisedHands": 78,
         "Class": "M",
         "_deepnote_index_column": 412
        },
        {
         "AnnouncementsView": 79,
         "Discussion": 83,
         "RaisedHands": 79,
         "Class": "M",
         "_deepnote_index_column": 413
        },
        {
         "AnnouncementsView": 2,
         "Discussion": 1,
         "RaisedHands": 10,
         "Class": "L",
         "_deepnote_index_column": 414
        },
        {
         "AnnouncementsView": 9,
         "Discussion": 3,
         "RaisedHands": 9,
         "Class": "L",
         "_deepnote_index_column": 415
        },
        {
         "AnnouncementsView": 86,
         "Discussion": 71,
         "RaisedHands": 98,
         "Class": "H",
         "_deepnote_index_column": 416
        },
        {
         "AnnouncementsView": 89,
         "Discussion": 83,
         "RaisedHands": 89,
         "Class": "H",
         "_deepnote_index_column": 417
        },
        {
         "AnnouncementsView": 76,
         "Discussion": 81,
         "RaisedHands": 88,
         "Class": "H",
         "_deepnote_index_column": 418
        },
        {
         "AnnouncementsView": 89,
         "Discussion": 84,
         "RaisedHands": 99,
         "Class": "H",
         "_deepnote_index_column": 419
        },
        {
         "AnnouncementsView": 22,
         "Discussion": 31,
         "RaisedHands": 82,
         "Class": "H",
         "_deepnote_index_column": 420
        },
        {
         "AnnouncementsView": 29,
         "Discussion": 43,
         "RaisedHands": 84,
         "Class": "H",
         "_deepnote_index_column": 421
        },
        {
         "AnnouncementsView": 46,
         "Discussion": 45,
         "RaisedHands": 70,
         "Class": "M",
         "_deepnote_index_column": 422
        },
        {
         "AnnouncementsView": 49,
         "Discussion": 43,
         "RaisedHands": 74,
         "Class": "M",
         "_deepnote_index_column": 423
        },
        {
         "AnnouncementsView": 76,
         "Discussion": 79,
         "RaisedHands": 90,
         "Class": "H",
         "_deepnote_index_column": 424
        },
        {
         "AnnouncementsView": 79,
         "Discussion": 68,
         "RaisedHands": 84,
         "Class": "H",
         "_deepnote_index_column": 425
        },
        {
         "AnnouncementsView": 62,
         "Discussion": 11,
         "RaisedHands": 80,
         "Class": "M",
         "_deepnote_index_column": 426
        },
        {
         "AnnouncementsView": 69,
         "Discussion": 13,
         "RaisedHands": 81,
         "Class": "M",
         "_deepnote_index_column": 427
        },
        {
         "AnnouncementsView": 2,
         "Discussion": 41,
         "RaisedHands": 10,
         "Class": "L",
         "_deepnote_index_column": 428
        },
        {
         "AnnouncementsView": 9,
         "Discussion": 49,
         "RaisedHands": 11,
         "Class": "L",
         "_deepnote_index_column": 429
        },
        {
         "AnnouncementsView": 22,
         "Discussion": 61,
         "RaisedHands": 85,
         "Class": "H",
         "_deepnote_index_column": 430
        },
        {
         "AnnouncementsView": 23,
         "Discussion": 68,
         "RaisedHands": 80,
         "Class": "H",
         "_deepnote_index_column": 431
        },
        {
         "AnnouncementsView": 62,
         "Discussion": 81,
         "RaisedHands": 95,
         "Class": "M",
         "_deepnote_index_column": 432
        },
        {
         "AnnouncementsView": 73,
         "Discussion": 98,
         "RaisedHands": 87,
         "Class": "M",
         "_deepnote_index_column": 433
        },
        {
         "AnnouncementsView": 72,
         "Discussion": 10,
         "RaisedHands": 85,
         "Class": "M",
         "_deepnote_index_column": 434
        },
        {
         "AnnouncementsView": 79,
         "Discussion": 20,
         "RaisedHands": 79,
         "Class": "M",
         "_deepnote_index_column": 435
        },
        {
         "AnnouncementsView": 71,
         "Discussion": 30,
         "RaisedHands": 80,
         "Class": "M",
         "_deepnote_index_column": 436
        },
        {
         "AnnouncementsView": 70,
         "Discussion": 23,
         "RaisedHands": 70,
         "Class": "M",
         "_deepnote_index_column": 437
        },
        {
         "AnnouncementsView": 76,
         "Discussion": 19,
         "RaisedHands": 80,
         "Class": "M",
         "_deepnote_index_column": 438
        },
        {
         "AnnouncementsView": 75,
         "Discussion": 29,
         "RaisedHands": 70,
         "Class": "M",
         "_deepnote_index_column": 439
        },
        {
         "AnnouncementsView": 86,
         "Discussion": 15,
         "RaisedHands": 89,
         "Class": "M",
         "_deepnote_index_column": 440
        },
        {
         "AnnouncementsView": 85,
         "Discussion": 10,
         "RaisedHands": 90,
         "Class": "M",
         "_deepnote_index_column": 441
        },
        {
         "AnnouncementsView": 76,
         "Discussion": 75,
         "RaisedHands": 69,
         "Class": "M",
         "_deepnote_index_column": 442
        },
        {
         "AnnouncementsView": 65,
         "Discussion": 70,
         "RaisedHands": 70,
         "Class": "M",
         "_deepnote_index_column": 443
        },
        {
         "AnnouncementsView": 64,
         "Discussion": 39,
         "RaisedHands": 75,
         "Class": "L",
         "_deepnote_index_column": 444
        },
        {
         "AnnouncementsView": 66,
         "Discussion": 40,
         "RaisedHands": 72,
         "Class": "L",
         "_deepnote_index_column": 445
        },
        {
         "AnnouncementsView": 74,
         "Discussion": 79,
         "RaisedHands": 77,
         "Class": "M",
         "_deepnote_index_column": 446
        },
        {
         "AnnouncementsView": 67,
         "Discussion": 80,
         "RaisedHands": 71,
         "Class": "M",
         "_deepnote_index_column": 447
        },
        {
         "AnnouncementsView": 74,
         "Discussion": 89,
         "RaisedHands": 87,
         "Class": "H",
         "_deepnote_index_column": 448
        },
        {
         "AnnouncementsView": 77,
         "Discussion": 85,
         "RaisedHands": 81,
         "Class": "H",
         "_deepnote_index_column": 449
        },
        {
         "AnnouncementsView": 22,
         "Discussion": 10,
         "RaisedHands": 15,
         "Class": "H",
         "_deepnote_index_column": 450
        },
        {
         "AnnouncementsView": 20,
         "Discussion": 2,
         "RaisedHands": 19,
         "Class": "H",
         "_deepnote_index_column": 451
        },
        {
         "AnnouncementsView": 52,
         "Discussion": 20,
         "RaisedHands": 25,
         "Class": "M",
         "_deepnote_index_column": 452
        },
        {
         "AnnouncementsView": 40,
         "Discussion": 12,
         "RaisedHands": 29,
         "Class": "M",
         "_deepnote_index_column": 453
        },
        {
         "AnnouncementsView": 57,
         "Discussion": 80,
         "RaisedHands": 45,
         "Class": "M",
         "_deepnote_index_column": 454
        },
        {
         "AnnouncementsView": 43,
         "Discussion": 72,
         "RaisedHands": 39,
         "Class": "M",
         "_deepnote_index_column": 455
        },
        {
         "AnnouncementsView": 52,
         "Discussion": 30,
         "RaisedHands": 85,
         "Class": "H",
         "_deepnote_index_column": 456
        },
        {
         "AnnouncementsView": 49,
         "Discussion": 22,
         "RaisedHands": 79,
         "Class": "H",
         "_deepnote_index_column": 457
        },
        {
         "AnnouncementsView": 80,
         "Discussion": 81,
         "RaisedHands": 90,
         "Class": "H",
         "_deepnote_index_column": 458
        },
        {
         "AnnouncementsView": 80,
         "Discussion": 83,
         "RaisedHands": 80,
         "Class": "H",
         "_deepnote_index_column": 459
        },
        {
         "AnnouncementsView": 82,
         "Discussion": 71,
         "RaisedHands": 80,
         "Class": "M",
         "_deepnote_index_column": 460
        },
        {
         "AnnouncementsView": 83,
         "Discussion": 72,
         "RaisedHands": 71,
         "Class": "M",
         "_deepnote_index_column": 461
        },
        {
         "AnnouncementsView": 72,
         "Discussion": 89,
         "RaisedHands": 72,
         "Class": "M",
         "_deepnote_index_column": 462
        },
        {
         "AnnouncementsView": 83,
         "Discussion": 92,
         "RaisedHands": 69,
         "Class": "M",
         "_deepnote_index_column": 463
        },
        {
         "AnnouncementsView": 42,
         "Discussion": 90,
         "RaisedHands": 85,
         "Class": "H",
         "_deepnote_index_column": 464
        },
        {
         "AnnouncementsView": 45,
         "Discussion": 92,
         "RaisedHands": 89,
         "Class": "H",
         "_deepnote_index_column": 465
        },
        {
         "AnnouncementsView": 64,
         "Discussion": 58,
         "RaisedHands": 80,
         "Class": "H",
         "_deepnote_index_column": 466
        },
        {
         "AnnouncementsView": 63,
         "Discussion": 60,
         "RaisedHands": 87,
         "Class": "H",
         "_deepnote_index_column": 467
        },
        {
         "AnnouncementsView": 14,
         "Discussion": 80,
         "RaisedHands": 15,
         "Class": "L",
         "_deepnote_index_column": 468
        },
        {
         "AnnouncementsView": 15,
         "Discussion": 85,
         "RaisedHands": 9,
         "Class": "L",
         "_deepnote_index_column": 469
        },
        {
         "AnnouncementsView": 86,
         "Discussion": 41,
         "RaisedHands": 81,
         "Class": "M",
         "_deepnote_index_column": 470
        },
        {
         "AnnouncementsView": 78,
         "Discussion": 53,
         "RaisedHands": 78,
         "Class": "M",
         "_deepnote_index_column": 471
        },
        {
         "AnnouncementsView": 74,
         "Discussion": 68,
         "RaisedHands": 80,
         "Class": "M",
         "_deepnote_index_column": 472
        },
        {
         "AnnouncementsView": 79,
         "Discussion": 70,
         "RaisedHands": 85,
         "Class": "M",
         "_deepnote_index_column": 473
        },
        {
         "AnnouncementsView": 4,
         "Discussion": 8,
         "RaisedHands": 2,
         "Class": "L",
         "_deepnote_index_column": 474
        },
        {
         "AnnouncementsView": 5,
         "Discussion": 8,
         "RaisedHands": 5,
         "Class": "L",
         "_deepnote_index_column": 475
        },
        {
         "AnnouncementsView": 14,
         "Discussion": 28,
         "RaisedHands": 50,
         "Class": "M",
         "_deepnote_index_column": 476
        },
        {
         "AnnouncementsView": 25,
         "Discussion": 29,
         "RaisedHands": 55,
         "Class": "M",
         "_deepnote_index_column": 477
        },
        {
         "AnnouncementsView": 14,
         "Discussion": 57,
         "RaisedHands": 30,
         "Class": "L",
         "_deepnote_index_column": 478
        },
        {
         "AnnouncementsView": 23,
         "Discussion": 62,
         "RaisedHands": 35,
         "Class": "L",
         "_deepnote_index_column": 479
        }
       ]
      },
      "text/plain": "     AnnouncementsView  Discussion  RaisedHands Class\n0                    2          20           15     M\n1                    3          25           20     M\n2                    0          30           10     L\n3                    5          35           30     L\n4                   12          50           40     M\n..                 ...         ...          ...   ...\n475                  5           8            5     L\n476                 14          28           50     M\n477                 25          29           55     M\n478                 14          57           30     L\n479                 23          62           35     L\n\n[480 rows x 4 columns]",
      "text/html": "<div>\n<style scoped>\n    .dataframe tbody tr th:only-of-type {\n        vertical-align: middle;\n    }\n\n    .dataframe tbody tr th {\n        vertical-align: top;\n    }\n\n    .dataframe thead th {\n        text-align: right;\n    }\n</style>\n<table border=\"1\" class=\"dataframe\">\n  <thead>\n    <tr style=\"text-align: right;\">\n      <th></th>\n      <th>AnnouncementsView</th>\n      <th>Discussion</th>\n      <th>RaisedHands</th>\n      <th>Class</th>\n    </tr>\n  </thead>\n  <tbody>\n    <tr>\n      <th>0</th>\n      <td>2</td>\n      <td>20</td>\n      <td>15</td>\n      <td>M</td>\n    </tr>\n    <tr>\n      <th>1</th>\n      <td>3</td>\n      <td>25</td>\n      <td>20</td>\n      <td>M</td>\n    </tr>\n    <tr>\n      <th>2</th>\n      <td>0</td>\n      <td>30</td>\n      <td>10</td>\n      <td>L</td>\n    </tr>\n    <tr>\n      <th>3</th>\n      <td>5</td>\n      <td>35</td>\n      <td>30</td>\n      <td>L</td>\n    </tr>\n    <tr>\n      <th>4</th>\n      <td>12</td>\n      <td>50</td>\n      <td>40</td>\n      <td>M</td>\n    </tr>\n    <tr>\n      <th>...</th>\n      <td>...</td>\n      <td>...</td>\n      <td>...</td>\n      <td>...</td>\n    </tr>\n    <tr>\n      <th>475</th>\n      <td>5</td>\n      <td>8</td>\n      <td>5</td>\n      <td>L</td>\n    </tr>\n    <tr>\n      <th>476</th>\n      <td>14</td>\n      <td>28</td>\n      <td>50</td>\n      <td>M</td>\n    </tr>\n    <tr>\n      <th>477</th>\n      <td>25</td>\n      <td>29</td>\n      <td>55</td>\n      <td>M</td>\n    </tr>\n    <tr>\n      <th>478</th>\n      <td>14</td>\n      <td>57</td>\n      <td>30</td>\n      <td>L</td>\n    </tr>\n    <tr>\n      <th>479</th>\n      <td>23</td>\n      <td>62</td>\n      <td>35</td>\n      <td>L</td>\n    </tr>\n  </tbody>\n</table>\n<p>480 rows × 4 columns</p>\n</div>"
     },
     "metadata": {}
    }
   ]
  },
  {
   "cell_type": "markdown",
   "source": "Now, let's try visualizing the relationship between the variables `RaisedHands` and `Class` using a bar plot.",
   "metadata": {
    "id": "Qnknit02WJ_2",
    "cell_id": "00044-56706364-446b-4395-85e4-e23f9601cdec",
    "deepnote_cell_type": "markdown"
   }
  },
  {
   "cell_type": "code",
   "metadata": {
    "colab": {
     "base_uri": "https://localhost:8080/",
     "height": 296
    },
    "id": "5PKMaok6Wgd1",
    "executionInfo": {
     "status": "ok",
     "timestamp": 1620279443166,
     "user_tz": -480,
     "elapsed": 1370,
     "user": {
      "displayName": "Angeline Maris Gubat",
      "photoUrl": "https://lh3.googleusercontent.com/a-/AOh14Gijg6xgX0R_IA4o8GkF1xnv3D8-8kHv8i-V48U6=s64",
      "userId": "00875153666701401808"
     }
    },
    "outputId": "20da4179-73a8-4921-b466-e873ec98064f",
    "cell_id": "00045-9430f916-4822-42cd-8b01-4aacdbbce08f",
    "deepnote_to_be_reexecuted": false,
    "source_hash": "28c93e50",
    "execution_start": 1622445248613,
    "execution_millis": 415,
    "deepnote_cell_type": "code"
   },
   "source": "sns.barplot(x=\"Class\", y=\"RaisedHands\", order=[\"L\", \"M\", \"H\"], data=q1_df)",
   "execution_count": 28,
   "outputs": [
    {
     "output_type": "execute_result",
     "execution_count": 28,
     "data": {
      "text/plain": "<AxesSubplot:xlabel='Class', ylabel='RaisedHands'>"
     },
     "metadata": {}
    },
    {
     "data": {
      "text/plain": "<Figure size 432x288 with 1 Axes>",
      "image/png": "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\n"
     },
     "metadata": {
      "needs_background": "light",
      "image/png": {
       "width": 382,
       "height": 262
      }
     },
     "output_type": "display_data"
    }
   ]
  },
  {
   "cell_type": "markdown",
   "source": "We can see from the figure above that students with higher grades tends to raised their hands in class than those who have lower grades. Let's try to visualize if this will also be the case when it comes to participation in discussion and viewing of announcements.",
   "metadata": {
    "id": "oCzbOB_patg1",
    "cell_id": "00046-88f5a196-baaf-495b-a45a-6b32949a4de9",
    "deepnote_cell_type": "markdown"
   }
  },
  {
   "cell_type": "code",
   "metadata": {
    "colab": {
     "base_uri": "https://localhost:8080/",
     "height": 352
    },
    "id": "ZsVsWjI9d_Kh",
    "executionInfo": {
     "status": "ok",
     "timestamp": 1620279446275,
     "user_tz": -480,
     "elapsed": 1040,
     "user": {
      "displayName": "Angeline Maris Gubat",
      "photoUrl": "https://lh3.googleusercontent.com/a-/AOh14Gijg6xgX0R_IA4o8GkF1xnv3D8-8kHv8i-V48U6=s64",
      "userId": "00875153666701401808"
     }
    },
    "outputId": "6771d217-7c6d-44f5-f1be-53240a2a7ca4",
    "cell_id": "00047-09b6ad14-f482-4569-9ef0-331fe38fce9f",
    "deepnote_to_be_reexecuted": false,
    "source_hash": "a64153f5",
    "execution_start": 1622445249027,
    "execution_millis": 789,
    "deepnote_cell_type": "code"
   },
   "source": "fig, axarr  = plt.subplots(1,2,figsize=(10,5))\nsns.barplot(x='Class', y='Discussion', order=['L','M','H'], data=q1_df,  ax=axarr[0])\nsns.barplot(x='Class', y='AnnouncementsView', order=['L','M','H'], data=q1_df, ax=axarr[1])",
   "execution_count": 29,
   "outputs": [
    {
     "output_type": "execute_result",
     "execution_count": 29,
     "data": {
      "text/plain": "<AxesSubplot:xlabel='Class', ylabel='AnnouncementsView'>"
     },
     "metadata": {}
    },
    {
     "data": {
      "text/plain": "<Figure size 720x360 with 2 Axes>",
      "image/png": "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\n"
     },
     "metadata": {
      "needs_background": "light",
      "image/png": {
       "width": 606,
       "height": 318
      }
     },
     "output_type": "display_data"
    }
   ]
  },
  {
   "cell_type": "markdown",
   "source": "Students who also participates in discussions more often as well as check announcements tend to have a better academic performance. Let's try to see the relationship of every student participation (Discussion, AnnouncementsView, RaisedHands) with each other and student's grade (Class) through scatter plots.",
   "metadata": {
    "id": "5cSFVkCoiPpj",
    "cell_id": "00048-c1279cf5-113f-466a-a8c5-be69e4c1affc",
    "deepnote_cell_type": "markdown"
   }
  },
  {
   "cell_type": "code",
   "metadata": {
    "tags": [],
    "cell_id": "00051-2511100c-77d0-497c-a263-f1f523cf11f6",
    "deepnote_to_be_reexecuted": false,
    "source_hash": "491be976",
    "execution_start": 1622445249865,
    "execution_millis": 1438,
    "deepnote_cell_type": "code"
   },
   "source": "fig, axarr  = plt.subplots(1,3,figsize=(20,5))\nsns.scatterplot(x=q1_df.Discussion, y=q1_df.AnnouncementsView, hue=q1_df[\"Class\"], hue_order=['H','M','L'], ax=axarr[0])\nsns.scatterplot(x=q1_df.Discussion, y=q1_df.RaisedHands, hue=q1_df[\"Class\"], hue_order=['H','M','L'], ax=axarr[1])\nsns.scatterplot(x=q1_df.AnnouncementsView, y=q1_df.RaisedHands, hue=q1_df[\"Class\"], hue_order=['H','M','L'], ax=axarr[2])",
   "execution_count": 30,
   "outputs": [
    {
     "output_type": "execute_result",
     "execution_count": 30,
     "data": {
      "text/plain": "<AxesSubplot:xlabel='AnnouncementsView', ylabel='RaisedHands'>"
     },
     "metadata": {}
    },
    {
     "data": {
      "text/plain": "<Figure size 1440x360 with 3 Axes>",
      "image/png": "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\n"
     },
     "metadata": {
      "needs_background": "light",
      "image/png": {
       "width": 1170,
       "height": 317
      }
     },
     "output_type": "display_data"
    }
   ]
  },
  {
   "cell_type": "markdown",
   "source": "In the last figure, we can see how students who have low grades that don't actively raised hands tends to also not check his/her announcements. This is also showed on the second figure in which students that hardly raised hands tends to also not check his/her announcements and have lower grades. In conclusion, it is expected that students who doesn't actively participate will tend to also not to do any activities that requires student engagement and have lower grades. With this, students who have high participation when it comes to student activities are reflected as well in their academic performance and have higher grades. ",
   "metadata": {
    "tags": [],
    "cell_id": "00052-c33de75b-946a-40af-b7f1-f8e311bb15e6",
    "deepnote_cell_type": "text-cell-p"
   }
  },
  {
   "cell_type": "markdown",
   "source": "#### ***Q2: Does parent participation and satisfaction affect a student’s performance?***",
   "metadata": {
    "id": "1lknMbzt52JO",
    "cell_id": "00050-72449d07-5074-4a9c-8aec-674377056fab",
    "deepnote_cell_type": "markdown"
   }
  },
  {
   "cell_type": "markdown",
   "source": "In this section of the notebook, we take a look at the Parent-related features, specifically the ParentAnsweringSurvey which may represent the parent's engagement in the child's school activities, and ParentSchoolSatisfaction which may represent the parent's view on the child's school learning process.\n\nIt is hypothesized that parent participation and satisfaction are features that may affect a student's class performance or class grade. This may be proven through the percentages of the features and the p-value upon using the chi-square test.\n\n",
   "metadata": {
    "tags": [],
    "cell_id": "00054-452a3ccf-33ac-4c95-9a61-77d80c7ad5ee",
    "deepnote_cell_type": "markdown"
   }
  },
  {
   "cell_type": "markdown",
   "source": "The following is the general view of the target data which we wish to investigate on:",
   "metadata": {
    "tags": [],
    "cell_id": "00054-904c0cc8-adc4-4455-a43e-32b5599d2b96",
    "deepnote_cell_type": "markdown"
   }
  },
  {
   "cell_type": "code",
   "metadata": {
    "colab": {
     "base_uri": "https://localhost:8080/"
    },
    "id": "XHuxibjYJdCJ",
    "executionInfo": {
     "status": "ok",
     "timestamp": 1620279450248,
     "user_tz": -480,
     "elapsed": 1086,
     "user": {
      "displayName": "Angeline Maris Gubat",
      "photoUrl": "https://lh3.googleusercontent.com/a-/AOh14Gijg6xgX0R_IA4o8GkF1xnv3D8-8kHv8i-V48U6=s64",
      "userId": "00875153666701401808"
     }
    },
    "outputId": "3592ecbe-5cee-419e-f049-62a1b0d07d60",
    "cell_id": "00051-897a88a3-50ca-4e07-a705-ce4ee49c45c8",
    "deepnote_to_be_reexecuted": false,
    "source_hash": "e032c80e",
    "execution_start": 1622445251322,
    "execution_millis": 17,
    "deepnote_cell_type": "code"
   },
   "source": "q2 = spd_df.groupby([\"ParentAnsweringSurvey\", \"ParentSchoolSatisfaction\"])[\"Class\"].value_counts()\nq2",
   "execution_count": 31,
   "outputs": [
    {
     "output_type": "execute_result",
     "execution_count": 31,
     "data": {
      "text/plain": "ParentAnsweringSurvey  ParentSchoolSatisfaction  Class\nNo                     Bad                       L         79\n                                                 M         57\n                                                 H          9\n                       Good                      M         26\n                                                 L         20\n                                                 H         19\nYes                    Bad                       M         23\n                                                 H         15\n                                                 L          5\n                       Good                      M        105\n                                                 H         99\n                                                 L         23\nName: Class, dtype: int64"
     },
     "metadata": {}
    }
   ]
  },
  {
   "cell_type": "markdown",
   "source": "Based on the first cell of the section, all grade classes are present in each category and sub-category. ",
   "metadata": {
    "tags": [],
    "cell_id": "00057-4189d067-3384-4cac-b1af-610527ca50df",
    "deepnote_cell_type": "markdown"
   }
  },
  {
   "cell_type": "markdown",
   "source": "##### General",
   "metadata": {
    "tags": [],
    "cell_id": "00058-87ff7e0a-215f-4af6-bd35-20c60a30adc2",
    "deepnote_cell_type": "markdown"
   }
  },
  {
   "cell_type": "markdown",
   "source": "We take a look at the values when both features are looked into at the same time.\n\nA new column is added the the end of the dataframe called `ParticipationAndSatisfaction`\n\nThe possible values are for this column are:\n- **YesGood** : The parent participated in the survey, and they are satisfied with the school's system.\n- **YesBad** : The parent participated in the survey, but they are not satisfied withe the school's system.\n- **NoGood** : The parent did not participate in the survey, but they are satisfied with the school's system.\n- **NoBad** : The parent did not participate in the survey, and they are not satisfied with the school's system. ",
   "metadata": {
    "tags": [],
    "cell_id": "00059-e0143b56-f033-47f5-b9e9-c29863d74bc9",
    "deepnote_cell_type": "markdown"
   }
  },
  {
   "cell_type": "code",
   "metadata": {
    "tags": [],
    "cell_id": "00060-6e41a8ad-39a1-4608-9acf-c9ee4d3b5d97",
    "deepnote_to_be_reexecuted": false,
    "source_hash": "db529d6",
    "execution_start": 1622445251349,
    "execution_millis": 248,
    "deepnote_cell_type": "code"
   },
   "source": "q2 = spd_df\nq2['ParticipationAndSatisfaction'] = q2['ParentAnsweringSurvey'] + q2['ParentSchoolSatisfaction']\nq2",
   "execution_count": 32,
   "outputs": [
    {
     "output_type": "execute_result",
     "execution_count": 32,
     "data": {
      "application/vnd.deepnote.dataframe.v2+json": {
       "row_count": 480,
       "column_count": 18,
       "columns": [
        {
         "name": "Gender",
         "dtype": "object",
         "stats": {
          "unique_count": 2,
          "nan_count": 0,
          "categories": [
           {
            "name": "M",
            "count": 305
           },
           {
            "name": "F",
            "count": 175
           }
          ]
         }
        },
        {
         "name": "Nationality",
         "dtype": "object",
         "stats": {
          "unique_count": 14,
          "nan_count": 0,
          "categories": [
           {
            "name": "Kuwait",
            "count": 179
           },
           {
            "name": "Jordan",
            "count": 172
           },
           {
            "name": "12 others",
            "count": 129
           }
          ]
         }
        },
        {
         "name": "BirthPlace",
         "dtype": "object",
         "stats": {
          "unique_count": 14,
          "nan_count": 0,
          "categories": [
           {
            "name": "Kuwait",
            "count": 180
           },
           {
            "name": "Jordan",
            "count": 176
           },
           {
            "name": "12 others",
            "count": 124
           }
          ]
         }
        },
        {
         "name": "StageID",
         "dtype": "object",
         "stats": {
          "unique_count": 3,
          "nan_count": 0,
          "categories": [
           {
            "name": "MiddleSchool",
            "count": 249
           },
           {
            "name": "lowerlevel",
            "count": 198
           },
           {
            "name": "HighSchool",
            "count": 33
           }
          ]
         }
        },
        {
         "name": "GradeID",
         "dtype": "object",
         "stats": {
          "unique_count": 10,
          "nan_count": 0,
          "categories": [
           {
            "name": "G-02",
            "count": 147
           },
           {
            "name": "G-08",
            "count": 116
           },
           {
            "name": "8 others",
            "count": 217
           }
          ]
         }
        },
        {
         "name": "SectionID",
         "dtype": "object",
         "stats": {
          "unique_count": 3,
          "nan_count": 0,
          "categories": [
           {
            "name": "A",
            "count": 283
           },
           {
            "name": "B",
            "count": 167
           },
           {
            "name": "C",
            "count": 30
           }
          ]
         }
        },
        {
         "name": "Topic",
         "dtype": "object",
         "stats": {
          "unique_count": 12,
          "nan_count": 0,
          "categories": [
           {
            "name": "IT",
            "count": 95
           },
           {
            "name": "French",
            "count": 65
           },
           {
            "name": "10 others",
            "count": 320
           }
          ]
         }
        },
        {
         "name": "Semester",
         "dtype": "object",
         "stats": {
          "unique_count": 2,
          "nan_count": 0,
          "categories": [
           {
            "name": "F",
            "count": 245
           },
           {
            "name": "S",
            "count": 235
           }
          ]
         }
        },
        {
         "name": "Relation",
         "dtype": "object",
         "stats": {
          "unique_count": 2,
          "nan_count": 0,
          "categories": [
           {
            "name": "Father",
            "count": 283
           },
           {
            "name": "Mother",
            "count": 197
           }
          ]
         }
        },
        {
         "name": "RaisedHands",
         "dtype": "int64",
         "stats": {
          "unique_count": 82,
          "nan_count": 0,
          "min": "0",
          "max": "100",
          "histogram": [
           {
            "bin_start": 0,
            "bin_end": 10,
            "count": 50
           },
           {
            "bin_start": 10,
            "bin_end": 20,
            "count": 90
           },
           {
            "bin_start": 20,
            "bin_end": 30,
            "count": 48
           },
           {
            "bin_start": 30,
            "bin_end": 40,
            "count": 31
           },
           {
            "bin_start": 40,
            "bin_end": 50,
            "count": 18
           },
           {
            "bin_start": 50,
            "bin_end": 60,
            "count": 33
           },
           {
            "bin_start": 60,
            "bin_end": 70,
            "count": 31
           },
           {
            "bin_start": 70,
            "bin_end": 80,
            "count": 80
           },
           {
            "bin_start": 80,
            "bin_end": 90,
            "count": 66
           },
           {
            "bin_start": 90,
            "bin_end": 100,
            "count": 33
           }
          ]
         }
        },
        {
         "name": "VisitedResources",
         "dtype": "int64",
         "stats": {
          "unique_count": 89,
          "nan_count": 0,
          "min": "0",
          "max": "99",
          "histogram": [
           {
            "bin_start": 0,
            "bin_end": 9.9,
            "count": 63
           },
           {
            "bin_start": 9.9,
            "bin_end": 19.8,
            "count": 55
           },
           {
            "bin_start": 19.8,
            "bin_end": 29.700000000000003,
            "count": 33
           },
           {
            "bin_start": 29.700000000000003,
            "bin_end": 39.6,
            "count": 22
           },
           {
            "bin_start": 39.6,
            "bin_end": 49.5,
            "count": 15
           },
           {
            "bin_start": 49.5,
            "bin_end": 59.400000000000006,
            "count": 27
           },
           {
            "bin_start": 59.400000000000006,
            "bin_end": 69.3,
            "count": 32
           },
           {
            "bin_start": 69.3,
            "bin_end": 79.2,
            "count": 50
           },
           {
            "bin_start": 79.2,
            "bin_end": 89.10000000000001,
            "count": 107
           },
           {
            "bin_start": 89.10000000000001,
            "bin_end": 99,
            "count": 76
           }
          ]
         }
        },
        {
         "name": "AnnouncementsView",
         "dtype": "int64",
         "stats": {
          "unique_count": 88,
          "nan_count": 0,
          "min": "0",
          "max": "98",
          "histogram": [
           {
            "bin_start": 0,
            "bin_end": 9.8,
            "count": 72
           },
           {
            "bin_start": 9.8,
            "bin_end": 19.6,
            "count": 78
           },
           {
            "bin_start": 19.6,
            "bin_end": 29.400000000000002,
            "count": 63
           },
           {
            "bin_start": 29.400000000000002,
            "bin_end": 39.2,
            "count": 45
           },
           {
            "bin_start": 39.2,
            "bin_end": 49,
            "count": 47
           },
           {
            "bin_start": 49,
            "bin_end": 58.800000000000004,
            "count": 59
           },
           {
            "bin_start": 58.800000000000004,
            "bin_end": 68.60000000000001,
            "count": 27
           },
           {
            "bin_start": 68.60000000000001,
            "bin_end": 78.4,
            "count": 36
           },
           {
            "bin_start": 78.4,
            "bin_end": 88.2,
            "count": 42
           },
           {
            "bin_start": 88.2,
            "bin_end": 98,
            "count": 11
           }
          ]
         }
        },
        {
         "name": "Discussion",
         "dtype": "int64",
         "stats": {
          "unique_count": 90,
          "nan_count": 0,
          "min": "1",
          "max": "99",
          "histogram": [
           {
            "bin_start": 1,
            "bin_end": 10.8,
            "count": 52
           },
           {
            "bin_start": 10.8,
            "bin_end": 20.6,
            "count": 77
           },
           {
            "bin_start": 20.6,
            "bin_end": 30.400000000000002,
            "count": 66
           },
           {
            "bin_start": 30.400000000000002,
            "bin_end": 40.2,
            "count": 69
           },
           {
            "bin_start": 40.2,
            "bin_end": 50,
            "count": 26
           },
           {
            "bin_start": 50,
            "bin_end": 59.800000000000004,
            "count": 38
           },
           {
            "bin_start": 59.800000000000004,
            "bin_end": 69.60000000000001,
            "count": 28
           },
           {
            "bin_start": 69.60000000000001,
            "bin_end": 79.4,
            "count": 42
           },
           {
            "bin_start": 79.4,
            "bin_end": 89.2,
            "count": 53
           },
           {
            "bin_start": 89.2,
            "bin_end": 99,
            "count": 29
           }
          ]
         }
        },
        {
         "name": "ParentAnsweringSurvey",
         "dtype": "object",
         "stats": {
          "unique_count": 2,
          "nan_count": 0,
          "categories": [
           {
            "name": "Yes",
            "count": 270
           },
           {
            "name": "No",
            "count": 210
           }
          ]
         }
        },
        {
         "name": "ParentSchoolSatisfaction",
         "dtype": "object",
         "stats": {
          "unique_count": 2,
          "nan_count": 0,
          "categories": [
           {
            "name": "Good",
            "count": 292
           },
           {
            "name": "Bad",
            "count": 188
           }
          ]
         }
        },
        {
         "name": "StudentAbsenceDays",
         "dtype": "object",
         "stats": {
          "unique_count": 2,
          "nan_count": 0,
          "categories": [
           {
            "name": "Under-7",
            "count": 289
           },
           {
            "name": "Above-7",
            "count": 191
           }
          ]
         }
        },
        {
         "name": "Class",
         "dtype": "object",
         "stats": {
          "unique_count": 3,
          "nan_count": 0,
          "categories": [
           {
            "name": "M",
            "count": 211
           },
           {
            "name": "H",
            "count": 142
           },
           {
            "name": "L",
            "count": 127
           }
          ]
         }
        },
        {
         "name": "ParticipationAndSatisfaction",
         "dtype": "object",
         "stats": {
          "unique_count": 4,
          "nan_count": 0,
          "categories": [
           {
            "name": "YesGood",
            "count": 227
           },
           {
            "name": "NoBad",
            "count": 145
           },
           {
            "name": "2 others",
            "count": 108
           }
          ]
         }
        },
        {
         "name": "_deepnote_index_column",
         "dtype": "int64"
        }
       ],
       "rows_top": [
        {
         "Gender": "M",
         "Nationality": "Kuwait",
         "BirthPlace": "Kuwait",
         "StageID": "lowerlevel",
         "GradeID": "G-04",
         "SectionID": "A",
         "Topic": "IT",
         "Semester": "F",
         "Relation": "Father",
         "RaisedHands": 15,
         "VisitedResources": 16,
         "AnnouncementsView": 2,
         "Discussion": 20,
         "ParentAnsweringSurvey": "Yes",
         "ParentSchoolSatisfaction": "Good",
         "StudentAbsenceDays": "Under-7",
         "Class": "M",
         "ParticipationAndSatisfaction": "YesGood",
         "_deepnote_index_column": 0
        },
        {
         "Gender": "M",
         "Nationality": "Kuwait",
         "BirthPlace": "Kuwait",
         "StageID": "lowerlevel",
         "GradeID": "G-04",
         "SectionID": "A",
         "Topic": "IT",
         "Semester": "F",
         "Relation": "Father",
         "RaisedHands": 20,
         "VisitedResources": 20,
         "AnnouncementsView": 3,
         "Discussion": 25,
         "ParentAnsweringSurvey": "Yes",
         "ParentSchoolSatisfaction": "Good",
         "StudentAbsenceDays": "Under-7",
         "Class": "M",
         "ParticipationAndSatisfaction": "YesGood",
         "_deepnote_index_column": 1
        },
        {
         "Gender": "M",
         "Nationality": "Kuwait",
         "BirthPlace": "Kuwait",
         "StageID": "lowerlevel",
         "GradeID": "G-04",
         "SectionID": "A",
         "Topic": "IT",
         "Semester": "F",
         "Relation": "Father",
         "RaisedHands": 10,
         "VisitedResources": 7,
         "AnnouncementsView": 0,
         "Discussion": 30,
         "ParentAnsweringSurvey": "No",
         "ParentSchoolSatisfaction": "Bad",
         "StudentAbsenceDays": "Above-7",
         "Class": "L",
         "ParticipationAndSatisfaction": "NoBad",
         "_deepnote_index_column": 2
        },
        {
         "Gender": "M",
         "Nationality": "Kuwait",
         "BirthPlace": "Kuwait",
         "StageID": "lowerlevel",
         "GradeID": "G-04",
         "SectionID": "A",
         "Topic": "IT",
         "Semester": "F",
         "Relation": "Father",
         "RaisedHands": 30,
         "VisitedResources": 25,
         "AnnouncementsView": 5,
         "Discussion": 35,
         "ParentAnsweringSurvey": "No",
         "ParentSchoolSatisfaction": "Bad",
         "StudentAbsenceDays": "Above-7",
         "Class": "L",
         "ParticipationAndSatisfaction": "NoBad",
         "_deepnote_index_column": 3
        },
        {
         "Gender": "M",
         "Nationality": "Kuwait",
         "BirthPlace": "Kuwait",
         "StageID": "lowerlevel",
         "GradeID": "G-04",
         "SectionID": "A",
         "Topic": "IT",
         "Semester": "F",
         "Relation": "Father",
         "RaisedHands": 40,
         "VisitedResources": 50,
         "AnnouncementsView": 12,
         "Discussion": 50,
         "ParentAnsweringSurvey": "No",
         "ParentSchoolSatisfaction": "Bad",
         "StudentAbsenceDays": "Above-7",
         "Class": "M",
         "ParticipationAndSatisfaction": "NoBad",
         "_deepnote_index_column": 4
        },
        {
         "Gender": "F",
         "Nationality": "Kuwait",
         "BirthPlace": "Kuwait",
         "StageID": "lowerlevel",
         "GradeID": "G-04",
         "SectionID": "A",
         "Topic": "IT",
         "Semester": "F",
         "Relation": "Father",
         "RaisedHands": 42,
         "VisitedResources": 30,
         "AnnouncementsView": 13,
         "Discussion": 70,
         "ParentAnsweringSurvey": "Yes",
         "ParentSchoolSatisfaction": "Bad",
         "StudentAbsenceDays": "Above-7",
         "Class": "M",
         "ParticipationAndSatisfaction": "YesBad",
         "_deepnote_index_column": 5
        },
        {
         "Gender": "M",
         "Nationality": "Kuwait",
         "BirthPlace": "Kuwait",
         "StageID": "MiddleSchool",
         "GradeID": "G-07",
         "SectionID": "A",
         "Topic": "Math",
         "Semester": "F",
         "Relation": "Father",
         "RaisedHands": 35,
         "VisitedResources": 12,
         "AnnouncementsView": 0,
         "Discussion": 17,
         "ParentAnsweringSurvey": "No",
         "ParentSchoolSatisfaction": "Bad",
         "StudentAbsenceDays": "Above-7",
         "Class": "L",
         "ParticipationAndSatisfaction": "NoBad",
         "_deepnote_index_column": 6
        },
        {
         "Gender": "M",
         "Nationality": "Kuwait",
         "BirthPlace": "Kuwait",
         "StageID": "MiddleSchool",
         "GradeID": "G-07",
         "SectionID": "A",
         "Topic": "Math",
         "Semester": "F",
         "Relation": "Father",
         "RaisedHands": 50,
         "VisitedResources": 10,
         "AnnouncementsView": 15,
         "Discussion": 22,
         "ParentAnsweringSurvey": "Yes",
         "ParentSchoolSatisfaction": "Good",
         "StudentAbsenceDays": "Under-7",
         "Class": "M",
         "ParticipationAndSatisfaction": "YesGood",
         "_deepnote_index_column": 7
        },
        {
         "Gender": "F",
         "Nationality": "Kuwait",
         "BirthPlace": "Kuwait",
         "StageID": "MiddleSchool",
         "GradeID": "G-07",
         "SectionID": "A",
         "Topic": "Math",
         "Semester": "F",
         "Relation": "Father",
         "RaisedHands": 12,
         "VisitedResources": 21,
         "AnnouncementsView": 16,
         "Discussion": 50,
         "ParentAnsweringSurvey": "Yes",
         "ParentSchoolSatisfaction": "Good",
         "StudentAbsenceDays": "Under-7",
         "Class": "M",
         "ParticipationAndSatisfaction": "YesGood",
         "_deepnote_index_column": 8
        },
        {
         "Gender": "F",
         "Nationality": "Kuwait",
         "BirthPlace": "Kuwait",
         "StageID": "MiddleSchool",
         "GradeID": "G-07",
         "SectionID": "B",
         "Topic": "IT",
         "Semester": "F",
         "Relation": "Father",
         "RaisedHands": 70,
         "VisitedResources": 80,
         "AnnouncementsView": 25,
         "Discussion": 70,
         "ParentAnsweringSurvey": "Yes",
         "ParentSchoolSatisfaction": "Good",
         "StudentAbsenceDays": "Under-7",
         "Class": "M",
         "ParticipationAndSatisfaction": "YesGood",
         "_deepnote_index_column": 9
        },
        {
         "Gender": "M",
         "Nationality": "Kuwait",
         "BirthPlace": "Kuwait",
         "StageID": "MiddleSchool",
         "GradeID": "G-07",
         "SectionID": "A",
         "Topic": "Math",
         "Semester": "F",
         "Relation": "Father",
         "RaisedHands": 50,
         "VisitedResources": 88,
         "AnnouncementsView": 30,
         "Discussion": 80,
         "ParentAnsweringSurvey": "Yes",
         "ParentSchoolSatisfaction": "Good",
         "StudentAbsenceDays": "Under-7",
         "Class": "H",
         "ParticipationAndSatisfaction": "YesGood",
         "_deepnote_index_column": 10
        },
        {
         "Gender": "M",
         "Nationality": "Kuwait",
         "BirthPlace": "Kuwait",
         "StageID": "MiddleSchool",
         "GradeID": "G-07",
         "SectionID": "B",
         "Topic": "Math",
         "Semester": "F",
         "Relation": "Father",
         "RaisedHands": 19,
         "VisitedResources": 6,
         "AnnouncementsView": 19,
         "Discussion": 12,
         "ParentAnsweringSurvey": "Yes",
         "ParentSchoolSatisfaction": "Good",
         "StudentAbsenceDays": "Under-7",
         "Class": "M",
         "ParticipationAndSatisfaction": "YesGood",
         "_deepnote_index_column": 11
        },
        {
         "Gender": "M",
         "Nationality": "Kuwait",
         "BirthPlace": "Kuwait",
         "StageID": "lowerlevel",
         "GradeID": "G-04",
         "SectionID": "A",
         "Topic": "IT",
         "Semester": "F",
         "Relation": "Father",
         "RaisedHands": 5,
         "VisitedResources": 1,
         "AnnouncementsView": 0,
         "Discussion": 11,
         "ParentAnsweringSurvey": "No",
         "ParentSchoolSatisfaction": "Bad",
         "StudentAbsenceDays": "Above-7",
         "Class": "L",
         "ParticipationAndSatisfaction": "NoBad",
         "_deepnote_index_column": 12
        },
        {
         "Gender": "M",
         "Nationality": "Lebanon",
         "BirthPlace": "Lebanon",
         "StageID": "MiddleSchool",
         "GradeID": "G-08",
         "SectionID": "A",
         "Topic": "Math",
         "Semester": "F",
         "Relation": "Father",
         "RaisedHands": 20,
         "VisitedResources": 14,
         "AnnouncementsView": 12,
         "Discussion": 19,
         "ParentAnsweringSurvey": "No",
         "ParentSchoolSatisfaction": "Bad",
         "StudentAbsenceDays": "Above-7",
         "Class": "L",
         "ParticipationAndSatisfaction": "NoBad",
         "_deepnote_index_column": 13
        },
        {
         "Gender": "F",
         "Nationality": "Kuwait",
         "BirthPlace": "Kuwait",
         "StageID": "MiddleSchool",
         "GradeID": "G-08",
         "SectionID": "A",
         "Topic": "Math",
         "Semester": "F",
         "Relation": "Mother",
         "RaisedHands": 62,
         "VisitedResources": 70,
         "AnnouncementsView": 44,
         "Discussion": 60,
         "ParentAnsweringSurvey": "No",
         "ParentSchoolSatisfaction": "Bad",
         "StudentAbsenceDays": "Above-7",
         "Class": "H",
         "ParticipationAndSatisfaction": "NoBad",
         "_deepnote_index_column": 14
        },
        {
         "Gender": "F",
         "Nationality": "Kuwait",
         "BirthPlace": "Kuwait",
         "StageID": "MiddleSchool",
         "GradeID": "G-06",
         "SectionID": "A",
         "Topic": "IT",
         "Semester": "F",
         "Relation": "Father",
         "RaisedHands": 30,
         "VisitedResources": 40,
         "AnnouncementsView": 22,
         "Discussion": 66,
         "ParentAnsweringSurvey": "Yes",
         "ParentSchoolSatisfaction": "Good",
         "StudentAbsenceDays": "Under-7",
         "Class": "M",
         "ParticipationAndSatisfaction": "YesGood",
         "_deepnote_index_column": 15
        },
        {
         "Gender": "M",
         "Nationality": "Kuwait",
         "BirthPlace": "Kuwait",
         "StageID": "MiddleSchool",
         "GradeID": "G-07",
         "SectionID": "B",
         "Topic": "IT",
         "Semester": "F",
         "Relation": "Father",
         "RaisedHands": 36,
         "VisitedResources": 30,
         "AnnouncementsView": 20,
         "Discussion": 80,
         "ParentAnsweringSurvey": "No",
         "ParentSchoolSatisfaction": "Bad",
         "StudentAbsenceDays": "Above-7",
         "Class": "M",
         "ParticipationAndSatisfaction": "NoBad",
         "_deepnote_index_column": 16
        },
        {
         "Gender": "M",
         "Nationality": "Kuwait",
         "BirthPlace": "Kuwait",
         "StageID": "MiddleSchool",
         "GradeID": "G-07",
         "SectionID": "A",
         "Topic": "Math",
         "Semester": "F",
         "Relation": "Father",
         "RaisedHands": 55,
         "VisitedResources": 13,
         "AnnouncementsView": 35,
         "Discussion": 90,
         "ParentAnsweringSurvey": "No",
         "ParentSchoolSatisfaction": "Bad",
         "StudentAbsenceDays": "Above-7",
         "Class": "M",
         "ParticipationAndSatisfaction": "NoBad",
         "_deepnote_index_column": 17
        },
        {
         "Gender": "F",
         "Nationality": "Kuwait",
         "BirthPlace": "Kuwait",
         "StageID": "MiddleSchool",
         "GradeID": "G-07",
         "SectionID": "A",
         "Topic": "IT",
         "Semester": "F",
         "Relation": "Mother",
         "RaisedHands": 69,
         "VisitedResources": 15,
         "AnnouncementsView": 36,
         "Discussion": 96,
         "ParentAnsweringSurvey": "Yes",
         "ParentSchoolSatisfaction": "Good",
         "StudentAbsenceDays": "Under-7",
         "Class": "M",
         "ParticipationAndSatisfaction": "YesGood",
         "_deepnote_index_column": 18
        },
        {
         "Gender": "M",
         "Nationality": "Kuwait",
         "BirthPlace": "Kuwait",
         "StageID": "MiddleSchool",
         "GradeID": "G-07",
         "SectionID": "B",
         "Topic": "IT",
         "Semester": "F",
         "Relation": "Mother",
         "RaisedHands": 70,
         "VisitedResources": 50,
         "AnnouncementsView": 40,
         "Discussion": 99,
         "ParentAnsweringSurvey": "Yes",
         "ParentSchoolSatisfaction": "Good",
         "StudentAbsenceDays": "Under-7",
         "Class": "H",
         "ParticipationAndSatisfaction": "YesGood",
         "_deepnote_index_column": 19
        },
        {
         "Gender": "F",
         "Nationality": "Kuwait",
         "BirthPlace": "Kuwait",
         "StageID": "MiddleSchool",
         "GradeID": "G-07",
         "SectionID": "A",
         "Topic": "IT",
         "Semester": "F",
         "Relation": "Father",
         "RaisedHands": 60,
         "VisitedResources": 60,
         "AnnouncementsView": 33,
         "Discussion": 90,
         "ParentAnsweringSurvey": "No",
         "ParentSchoolSatisfaction": "Bad",
         "StudentAbsenceDays": "Above-7",
         "Class": "M",
         "ParticipationAndSatisfaction": "NoBad",
         "_deepnote_index_column": 20
        },
        {
         "Gender": "F",
         "Nationality": "Kuwait",
         "BirthPlace": "Kuwait",
         "StageID": "MiddleSchool",
         "GradeID": "G-07",
         "SectionID": "B",
         "Topic": "IT",
         "Semester": "F",
         "Relation": "Father",
         "RaisedHands": 10,
         "VisitedResources": 12,
         "AnnouncementsView": 4,
         "Discussion": 80,
         "ParentAnsweringSurvey": "No",
         "ParentSchoolSatisfaction": "Bad",
         "StudentAbsenceDays": "Under-7",
         "Class": "M",
         "ParticipationAndSatisfaction": "NoBad",
         "_deepnote_index_column": 21
        },
        {
         "Gender": "M",
         "Nationality": "Kuwait",
         "BirthPlace": "Kuwait",
         "StageID": "MiddleSchool",
         "GradeID": "G-07",
         "SectionID": "A",
         "Topic": "IT",
         "Semester": "F",
         "Relation": "Father",
         "RaisedHands": 15,
         "VisitedResources": 21,
         "AnnouncementsView": 2,
         "Discussion": 90,
         "ParentAnsweringSurvey": "No",
         "ParentSchoolSatisfaction": "Bad",
         "StudentAbsenceDays": "Under-7",
         "Class": "M",
         "ParticipationAndSatisfaction": "NoBad",
         "_deepnote_index_column": 22
        },
        {
         "Gender": "M",
         "Nationality": "Kuwait",
         "BirthPlace": "Kuwait",
         "StageID": "MiddleSchool",
         "GradeID": "G-07",
         "SectionID": "A",
         "Topic": "IT",
         "Semester": "F",
         "Relation": "Father",
         "RaisedHands": 2,
         "VisitedResources": 0,
         "AnnouncementsView": 2,
         "Discussion": 50,
         "ParentAnsweringSurvey": "No",
         "ParentSchoolSatisfaction": "Bad",
         "StudentAbsenceDays": "Above-7",
         "Class": "L",
         "ParticipationAndSatisfaction": "NoBad",
         "_deepnote_index_column": 23
        },
        {
         "Gender": "M",
         "Nationality": "Kuwait",
         "BirthPlace": "Kuwait",
         "StageID": "MiddleSchool",
         "GradeID": "G-07",
         "SectionID": "B",
         "Topic": "IT",
         "Semester": "F",
         "Relation": "Father",
         "RaisedHands": 0,
         "VisitedResources": 2,
         "AnnouncementsView": 3,
         "Discussion": 70,
         "ParentAnsweringSurvey": "Yes",
         "ParentSchoolSatisfaction": "Good",
         "StudentAbsenceDays": "Above-7",
         "Class": "L",
         "ParticipationAndSatisfaction": "YesGood",
         "_deepnote_index_column": 24
        },
        {
         "Gender": "M",
         "Nationality": "Kuwait",
         "BirthPlace": "Kuwait",
         "StageID": "MiddleSchool",
         "GradeID": "G-07",
         "SectionID": "A",
         "Topic": "IT",
         "Semester": "F",
         "Relation": "Father",
         "RaisedHands": 8,
         "VisitedResources": 7,
         "AnnouncementsView": 30,
         "Discussion": 40,
         "ParentAnsweringSurvey": "Yes",
         "ParentSchoolSatisfaction": "Good",
         "StudentAbsenceDays": "Above-7",
         "Class": "L",
         "ParticipationAndSatisfaction": "YesGood",
         "_deepnote_index_column": 25
        },
        {
         "Gender": "M",
         "Nationality": "Kuwait",
         "BirthPlace": "Kuwait",
         "StageID": "MiddleSchool",
         "GradeID": "G-07",
         "SectionID": "B",
         "Topic": "IT",
         "Semester": "F",
         "Relation": "Father",
         "RaisedHands": 19,
         "VisitedResources": 19,
         "AnnouncementsView": 25,
         "Discussion": 40,
         "ParentAnsweringSurvey": "Yes",
         "ParentSchoolSatisfaction": "Bad",
         "StudentAbsenceDays": "Under-7",
         "Class": "M",
         "ParticipationAndSatisfaction": "YesBad",
         "_deepnote_index_column": 26
        }
       ],
       "rows_bottom": [
        {
         "Gender": "F",
         "Nationality": "Jordan",
         "BirthPlace": "Jordan",
         "StageID": "MiddleSchool",
         "GradeID": "G-08",
         "SectionID": "A",
         "Topic": "Geology",
         "Semester": "F",
         "Relation": "Father",
         "RaisedHands": 25,
         "VisitedResources": 82,
         "AnnouncementsView": 52,
         "Discussion": 20,
         "ParentAnsweringSurvey": "Yes",
         "ParentSchoolSatisfaction": "Good",
         "StudentAbsenceDays": "Above-7",
         "Class": "M",
         "ParticipationAndSatisfaction": "YesGood",
         "_deepnote_index_column": 452
        },
        {
         "Gender": "F",
         "Nationality": "Jordan",
         "BirthPlace": "Jordan",
         "StageID": "MiddleSchool",
         "GradeID": "G-08",
         "SectionID": "A",
         "Topic": "Geology",
         "Semester": "S",
         "Relation": "Father",
         "RaisedHands": 29,
         "VisitedResources": 78,
         "AnnouncementsView": 40,
         "Discussion": 12,
         "ParentAnsweringSurvey": "Yes",
         "ParentSchoolSatisfaction": "Good",
         "StudentAbsenceDays": "Above-7",
         "Class": "M",
         "ParticipationAndSatisfaction": "YesGood",
         "_deepnote_index_column": 453
        },
        {
         "Gender": "F",
         "Nationality": "Jordan",
         "BirthPlace": "Jordan",
         "StageID": "MiddleSchool",
         "GradeID": "G-08",
         "SectionID": "A",
         "Topic": "History",
         "Semester": "F",
         "Relation": "Father",
         "RaisedHands": 45,
         "VisitedResources": 87,
         "AnnouncementsView": 57,
         "Discussion": 80,
         "ParentAnsweringSurvey": "Yes",
         "ParentSchoolSatisfaction": "Good",
         "StudentAbsenceDays": "Under-7",
         "Class": "M",
         "ParticipationAndSatisfaction": "YesGood",
         "_deepnote_index_column": 454
        },
        {
         "Gender": "F",
         "Nationality": "Jordan",
         "BirthPlace": "Jordan",
         "StageID": "MiddleSchool",
         "GradeID": "G-08",
         "SectionID": "A",
         "Topic": "History",
         "Semester": "S",
         "Relation": "Father",
         "RaisedHands": 39,
         "VisitedResources": 88,
         "AnnouncementsView": 43,
         "Discussion": 72,
         "ParentAnsweringSurvey": "Yes",
         "ParentSchoolSatisfaction": "Good",
         "StudentAbsenceDays": "Under-7",
         "Class": "M",
         "ParticipationAndSatisfaction": "YesGood",
         "_deepnote_index_column": 455
        },
        {
         "Gender": "F",
         "Nationality": "Jordan",
         "BirthPlace": "Jordan",
         "StageID": "MiddleSchool",
         "GradeID": "G-08",
         "SectionID": "A",
         "Topic": "Chemistry",
         "Semester": "F",
         "Relation": "Father",
         "RaisedHands": 85,
         "VisitedResources": 90,
         "AnnouncementsView": 52,
         "Discussion": 30,
         "ParentAnsweringSurvey": "Yes",
         "ParentSchoolSatisfaction": "Good",
         "StudentAbsenceDays": "Under-7",
         "Class": "H",
         "ParticipationAndSatisfaction": "YesGood",
         "_deepnote_index_column": 456
        },
        {
         "Gender": "F",
         "Nationality": "Jordan",
         "BirthPlace": "Jordan",
         "StageID": "MiddleSchool",
         "GradeID": "G-08",
         "SectionID": "A",
         "Topic": "Chemistry",
         "Semester": "S",
         "Relation": "Father",
         "RaisedHands": 79,
         "VisitedResources": 91,
         "AnnouncementsView": 49,
         "Discussion": 22,
         "ParentAnsweringSurvey": "Yes",
         "ParentSchoolSatisfaction": "Good",
         "StudentAbsenceDays": "Under-7",
         "Class": "H",
         "ParticipationAndSatisfaction": "YesGood",
         "_deepnote_index_column": 457
        },
        {
         "Gender": "M",
         "Nationality": "Iraq",
         "BirthPlace": "Iraq",
         "StageID": "MiddleSchool",
         "GradeID": "G-08",
         "SectionID": "A",
         "Topic": "Chemistry",
         "Semester": "F",
         "Relation": "Father",
         "RaisedHands": 90,
         "VisitedResources": 91,
         "AnnouncementsView": 80,
         "Discussion": 81,
         "ParentAnsweringSurvey": "Yes",
         "ParentSchoolSatisfaction": "Good",
         "StudentAbsenceDays": "Under-7",
         "Class": "H",
         "ParticipationAndSatisfaction": "YesGood",
         "_deepnote_index_column": 458
        },
        {
         "Gender": "M",
         "Nationality": "Iraq",
         "BirthPlace": "Iraq",
         "StageID": "MiddleSchool",
         "GradeID": "G-08",
         "SectionID": "A",
         "Topic": "Chemistry",
         "Semester": "S",
         "Relation": "Father",
         "RaisedHands": 80,
         "VisitedResources": 90,
         "AnnouncementsView": 80,
         "Discussion": 83,
         "ParentAnsweringSurvey": "Yes",
         "ParentSchoolSatisfaction": "Good",
         "StudentAbsenceDays": "Under-7",
         "Class": "H",
         "ParticipationAndSatisfaction": "YesGood",
         "_deepnote_index_column": 459
        },
        {
         "Gender": "M",
         "Nationality": "Iraq",
         "BirthPlace": "Iraq",
         "StageID": "MiddleSchool",
         "GradeID": "G-08",
         "SectionID": "A",
         "Topic": "Geology",
         "Semester": "F",
         "Relation": "Father",
         "RaisedHands": 80,
         "VisitedResources": 83,
         "AnnouncementsView": 82,
         "Discussion": 71,
         "ParentAnsweringSurvey": "Yes",
         "ParentSchoolSatisfaction": "Good",
         "StudentAbsenceDays": "Above-7",
         "Class": "M",
         "ParticipationAndSatisfaction": "YesGood",
         "_deepnote_index_column": 460
        },
        {
         "Gender": "M",
         "Nationality": "Iraq",
         "BirthPlace": "Iraq",
         "StageID": "MiddleSchool",
         "GradeID": "G-08",
         "SectionID": "A",
         "Topic": "Geology",
         "Semester": "S",
         "Relation": "Father",
         "RaisedHands": 71,
         "VisitedResources": 81,
         "AnnouncementsView": 83,
         "Discussion": 72,
         "ParentAnsweringSurvey": "Yes",
         "ParentSchoolSatisfaction": "Good",
         "StudentAbsenceDays": "Above-7",
         "Class": "M",
         "ParticipationAndSatisfaction": "YesGood",
         "_deepnote_index_column": 461
        },
        {
         "Gender": "M",
         "Nationality": "Iraq",
         "BirthPlace": "Iraq",
         "StageID": "MiddleSchool",
         "GradeID": "G-08",
         "SectionID": "A",
         "Topic": "History",
         "Semester": "F",
         "Relation": "Father",
         "RaisedHands": 72,
         "VisitedResources": 87,
         "AnnouncementsView": 72,
         "Discussion": 89,
         "ParentAnsweringSurvey": "Yes",
         "ParentSchoolSatisfaction": "Good",
         "StudentAbsenceDays": "Above-7",
         "Class": "M",
         "ParticipationAndSatisfaction": "YesGood",
         "_deepnote_index_column": 462
        },
        {
         "Gender": "M",
         "Nationality": "Iraq",
         "BirthPlace": "Iraq",
         "StageID": "MiddleSchool",
         "GradeID": "G-08",
         "SectionID": "A",
         "Topic": "History",
         "Semester": "S",
         "Relation": "Father",
         "RaisedHands": 69,
         "VisitedResources": 77,
         "AnnouncementsView": 83,
         "Discussion": 92,
         "ParentAnsweringSurvey": "Yes",
         "ParentSchoolSatisfaction": "Good",
         "StudentAbsenceDays": "Above-7",
         "Class": "M",
         "ParticipationAndSatisfaction": "YesGood",
         "_deepnote_index_column": 463
        },
        {
         "Gender": "F",
         "Nationality": "Jordan",
         "BirthPlace": "Jordan",
         "StageID": "MiddleSchool",
         "GradeID": "G-08",
         "SectionID": "A",
         "Topic": "Chemistry",
         "Semester": "F",
         "Relation": "Mother",
         "RaisedHands": 85,
         "VisitedResources": 99,
         "AnnouncementsView": 42,
         "Discussion": 90,
         "ParentAnsweringSurvey": "Yes",
         "ParentSchoolSatisfaction": "Good",
         "StudentAbsenceDays": "Under-7",
         "Class": "H",
         "ParticipationAndSatisfaction": "YesGood",
         "_deepnote_index_column": 464
        },
        {
         "Gender": "F",
         "Nationality": "Jordan",
         "BirthPlace": "Jordan",
         "StageID": "MiddleSchool",
         "GradeID": "G-08",
         "SectionID": "A",
         "Topic": "Chemistry",
         "Semester": "S",
         "Relation": "Mother",
         "RaisedHands": 89,
         "VisitedResources": 96,
         "AnnouncementsView": 45,
         "Discussion": 92,
         "ParentAnsweringSurvey": "Yes",
         "ParentSchoolSatisfaction": "Good",
         "StudentAbsenceDays": "Under-7",
         "Class": "H",
         "ParticipationAndSatisfaction": "YesGood",
         "_deepnote_index_column": 465
        },
        {
         "Gender": "F",
         "Nationality": "Jordan",
         "BirthPlace": "Jordan",
         "StageID": "MiddleSchool",
         "GradeID": "G-08",
         "SectionID": "A",
         "Topic": "Geology",
         "Semester": "F",
         "Relation": "Mother",
         "RaisedHands": 80,
         "VisitedResources": 82,
         "AnnouncementsView": 64,
         "Discussion": 58,
         "ParentAnsweringSurvey": "Yes",
         "ParentSchoolSatisfaction": "Good",
         "StudentAbsenceDays": "Under-7",
         "Class": "H",
         "ParticipationAndSatisfaction": "YesGood",
         "_deepnote_index_column": 466
        },
        {
         "Gender": "F",
         "Nationality": "Jordan",
         "BirthPlace": "Jordan",
         "StageID": "MiddleSchool",
         "GradeID": "G-08",
         "SectionID": "A",
         "Topic": "Geology",
         "Semester": "S",
         "Relation": "Mother",
         "RaisedHands": 87,
         "VisitedResources": 93,
         "AnnouncementsView": 63,
         "Discussion": 60,
         "ParentAnsweringSurvey": "Yes",
         "ParentSchoolSatisfaction": "Good",
         "StudentAbsenceDays": "Under-7",
         "Class": "H",
         "ParticipationAndSatisfaction": "YesGood",
         "_deepnote_index_column": 467
        },
        {
         "Gender": "F",
         "Nationality": "Jordan",
         "BirthPlace": "Jordan",
         "StageID": "MiddleSchool",
         "GradeID": "G-08",
         "SectionID": "A",
         "Topic": "Chemistry",
         "Semester": "F",
         "Relation": "Father",
         "RaisedHands": 15,
         "VisitedResources": 9,
         "AnnouncementsView": 14,
         "Discussion": 80,
         "ParentAnsweringSurvey": "No",
         "ParentSchoolSatisfaction": "Bad",
         "StudentAbsenceDays": "Above-7",
         "Class": "L",
         "ParticipationAndSatisfaction": "NoBad",
         "_deepnote_index_column": 468
        },
        {
         "Gender": "F",
         "Nationality": "Jordan",
         "BirthPlace": "Jordan",
         "StageID": "MiddleSchool",
         "GradeID": "G-08",
         "SectionID": "A",
         "Topic": "Chemistry",
         "Semester": "S",
         "Relation": "Father",
         "RaisedHands": 9,
         "VisitedResources": 6,
         "AnnouncementsView": 15,
         "Discussion": 85,
         "ParentAnsweringSurvey": "No",
         "ParentSchoolSatisfaction": "Bad",
         "StudentAbsenceDays": "Above-7",
         "Class": "L",
         "ParticipationAndSatisfaction": "NoBad",
         "_deepnote_index_column": 469
        },
        {
         "Gender": "M",
         "Nationality": "Palestine",
         "BirthPlace": "Jordan",
         "StageID": "MiddleSchool",
         "GradeID": "G-08",
         "SectionID": "A",
         "Topic": "History",
         "Semester": "F",
         "Relation": "Father",
         "RaisedHands": 81,
         "VisitedResources": 86,
         "AnnouncementsView": 86,
         "Discussion": 41,
         "ParentAnsweringSurvey": "Yes",
         "ParentSchoolSatisfaction": "Good",
         "StudentAbsenceDays": "Under-7",
         "Class": "M",
         "ParticipationAndSatisfaction": "YesGood",
         "_deepnote_index_column": 470
        },
        {
         "Gender": "M",
         "Nationality": "Palestine",
         "BirthPlace": "Jordan",
         "StageID": "MiddleSchool",
         "GradeID": "G-08",
         "SectionID": "A",
         "Topic": "History",
         "Semester": "S",
         "Relation": "Father",
         "RaisedHands": 78,
         "VisitedResources": 82,
         "AnnouncementsView": 78,
         "Discussion": 53,
         "ParentAnsweringSurvey": "Yes",
         "ParentSchoolSatisfaction": "Good",
         "StudentAbsenceDays": "Under-7",
         "Class": "M",
         "ParticipationAndSatisfaction": "YesGood",
         "_deepnote_index_column": 471
        },
        {
         "Gender": "M",
         "Nationality": "Palestine",
         "BirthPlace": "Palestine",
         "StageID": "MiddleSchool",
         "GradeID": "G-08",
         "SectionID": "A",
         "Topic": "Geology",
         "Semester": "F",
         "Relation": "Father",
         "RaisedHands": 80,
         "VisitedResources": 87,
         "AnnouncementsView": 74,
         "Discussion": 68,
         "ParentAnsweringSurvey": "Yes",
         "ParentSchoolSatisfaction": "Good",
         "StudentAbsenceDays": "Under-7",
         "Class": "M",
         "ParticipationAndSatisfaction": "YesGood",
         "_deepnote_index_column": 472
        },
        {
         "Gender": "M",
         "Nationality": "Palestine",
         "BirthPlace": "Palestine",
         "StageID": "MiddleSchool",
         "GradeID": "G-08",
         "SectionID": "A",
         "Topic": "Geology",
         "Semester": "S",
         "Relation": "Father",
         "RaisedHands": 85,
         "VisitedResources": 88,
         "AnnouncementsView": 79,
         "Discussion": 70,
         "ParentAnsweringSurvey": "Yes",
         "ParentSchoolSatisfaction": "Good",
         "StudentAbsenceDays": "Under-7",
         "Class": "M",
         "ParticipationAndSatisfaction": "YesGood",
         "_deepnote_index_column": 473
        },
        {
         "Gender": "F",
         "Nationality": "Jordan",
         "BirthPlace": "Jordan",
         "StageID": "MiddleSchool",
         "GradeID": "G-08",
         "SectionID": "A",
         "Topic": "Chemistry",
         "Semester": "F",
         "Relation": "Father",
         "RaisedHands": 2,
         "VisitedResources": 7,
         "AnnouncementsView": 4,
         "Discussion": 8,
         "ParentAnsweringSurvey": "No",
         "ParentSchoolSatisfaction": "Bad",
         "StudentAbsenceDays": "Above-7",
         "Class": "L",
         "ParticipationAndSatisfaction": "NoBad",
         "_deepnote_index_column": 474
        },
        {
         "Gender": "F",
         "Nationality": "Jordan",
         "BirthPlace": "Jordan",
         "StageID": "MiddleSchool",
         "GradeID": "G-08",
         "SectionID": "A",
         "Topic": "Chemistry",
         "Semester": "S",
         "Relation": "Father",
         "RaisedHands": 5,
         "VisitedResources": 4,
         "AnnouncementsView": 5,
         "Discussion": 8,
         "ParentAnsweringSurvey": "No",
         "ParentSchoolSatisfaction": "Bad",
         "StudentAbsenceDays": "Above-7",
         "Class": "L",
         "ParticipationAndSatisfaction": "NoBad",
         "_deepnote_index_column": 475
        },
        {
         "Gender": "F",
         "Nationality": "Jordan",
         "BirthPlace": "Jordan",
         "StageID": "MiddleSchool",
         "GradeID": "G-08",
         "SectionID": "A",
         "Topic": "Geology",
         "Semester": "F",
         "Relation": "Father",
         "RaisedHands": 50,
         "VisitedResources": 77,
         "AnnouncementsView": 14,
         "Discussion": 28,
         "ParentAnsweringSurvey": "No",
         "ParentSchoolSatisfaction": "Bad",
         "StudentAbsenceDays": "Under-7",
         "Class": "M",
         "ParticipationAndSatisfaction": "NoBad",
         "_deepnote_index_column": 476
        },
        {
         "Gender": "F",
         "Nationality": "Jordan",
         "BirthPlace": "Jordan",
         "StageID": "MiddleSchool",
         "GradeID": "G-08",
         "SectionID": "A",
         "Topic": "Geology",
         "Semester": "S",
         "Relation": "Father",
         "RaisedHands": 55,
         "VisitedResources": 74,
         "AnnouncementsView": 25,
         "Discussion": 29,
         "ParentAnsweringSurvey": "No",
         "ParentSchoolSatisfaction": "Bad",
         "StudentAbsenceDays": "Under-7",
         "Class": "M",
         "ParticipationAndSatisfaction": "NoBad",
         "_deepnote_index_column": 477
        },
        {
         "Gender": "F",
         "Nationality": "Jordan",
         "BirthPlace": "Jordan",
         "StageID": "MiddleSchool",
         "GradeID": "G-08",
         "SectionID": "A",
         "Topic": "History",
         "Semester": "F",
         "Relation": "Father",
         "RaisedHands": 30,
         "VisitedResources": 17,
         "AnnouncementsView": 14,
         "Discussion": 57,
         "ParentAnsweringSurvey": "No",
         "ParentSchoolSatisfaction": "Bad",
         "StudentAbsenceDays": "Above-7",
         "Class": "L",
         "ParticipationAndSatisfaction": "NoBad",
         "_deepnote_index_column": 478
        },
        {
         "Gender": "F",
         "Nationality": "Jordan",
         "BirthPlace": "Jordan",
         "StageID": "MiddleSchool",
         "GradeID": "G-08",
         "SectionID": "A",
         "Topic": "History",
         "Semester": "S",
         "Relation": "Father",
         "RaisedHands": 35,
         "VisitedResources": 14,
         "AnnouncementsView": 23,
         "Discussion": 62,
         "ParentAnsweringSurvey": "No",
         "ParentSchoolSatisfaction": "Bad",
         "StudentAbsenceDays": "Above-7",
         "Class": "L",
         "ParticipationAndSatisfaction": "NoBad",
         "_deepnote_index_column": 479
        }
       ]
      },
      "text/plain": "    Gender Nationality BirthPlace       StageID GradeID SectionID      Topic  \\\n0        M      Kuwait     Kuwait    lowerlevel    G-04         A         IT   \n1        M      Kuwait     Kuwait    lowerlevel    G-04         A         IT   \n2        M      Kuwait     Kuwait    lowerlevel    G-04         A         IT   \n3        M      Kuwait     Kuwait    lowerlevel    G-04         A         IT   \n4        M      Kuwait     Kuwait    lowerlevel    G-04         A         IT   \n..     ...         ...        ...           ...     ...       ...        ...   \n475      F      Jordan     Jordan  MiddleSchool    G-08         A  Chemistry   \n476      F      Jordan     Jordan  MiddleSchool    G-08         A    Geology   \n477      F      Jordan     Jordan  MiddleSchool    G-08         A    Geology   \n478      F      Jordan     Jordan  MiddleSchool    G-08         A    History   \n479      F      Jordan     Jordan  MiddleSchool    G-08         A    History   \n\n    Semester Relation  RaisedHands  VisitedResources  AnnouncementsView  \\\n0          F   Father           15                16                  2   \n1          F   Father           20                20                  3   \n2          F   Father           10                 7                  0   \n3          F   Father           30                25                  5   \n4          F   Father           40                50                 12   \n..       ...      ...          ...               ...                ...   \n475        S   Father            5                 4                  5   \n476        F   Father           50                77                 14   \n477        S   Father           55                74                 25   \n478        F   Father           30                17                 14   \n479        S   Father           35                14                 23   \n\n     Discussion ParentAnsweringSurvey ParentSchoolSatisfaction  \\\n0            20                   Yes                     Good   \n1            25                   Yes                     Good   \n2            30                    No                      Bad   \n3            35                    No                      Bad   \n4            50                    No                      Bad   \n..          ...                   ...                      ...   \n475           8                    No                      Bad   \n476          28                    No                      Bad   \n477          29                    No                      Bad   \n478          57                    No                      Bad   \n479          62                    No                      Bad   \n\n    StudentAbsenceDays Class ParticipationAndSatisfaction  \n0              Under-7     M                      YesGood  \n1              Under-7     M                      YesGood  \n2              Above-7     L                        NoBad  \n3              Above-7     L                        NoBad  \n4              Above-7     M                        NoBad  \n..                 ...   ...                          ...  \n475            Above-7     L                        NoBad  \n476            Under-7     M                        NoBad  \n477            Under-7     M                        NoBad  \n478            Above-7     L                        NoBad  \n479            Above-7     L                        NoBad  \n\n[480 rows x 18 columns]",
      "text/html": "<div>\n<style scoped>\n    .dataframe tbody tr th:only-of-type {\n        vertical-align: middle;\n    }\n\n    .dataframe tbody tr th {\n        vertical-align: top;\n    }\n\n    .dataframe thead th {\n        text-align: right;\n    }\n</style>\n<table border=\"1\" class=\"dataframe\">\n  <thead>\n    <tr style=\"text-align: right;\">\n      <th></th>\n      <th>Gender</th>\n      <th>Nationality</th>\n      <th>BirthPlace</th>\n      <th>StageID</th>\n      <th>GradeID</th>\n      <th>SectionID</th>\n      <th>Topic</th>\n      <th>Semester</th>\n      <th>Relation</th>\n      <th>RaisedHands</th>\n      <th>VisitedResources</th>\n      <th>AnnouncementsView</th>\n      <th>Discussion</th>\n      <th>ParentAnsweringSurvey</th>\n      <th>ParentSchoolSatisfaction</th>\n      <th>StudentAbsenceDays</th>\n      <th>Class</th>\n      <th>ParticipationAndSatisfaction</th>\n    </tr>\n  </thead>\n  <tbody>\n    <tr>\n      <th>0</th>\n      <td>M</td>\n      <td>Kuwait</td>\n      <td>Kuwait</td>\n      <td>lowerlevel</td>\n      <td>G-04</td>\n      <td>A</td>\n      <td>IT</td>\n      <td>F</td>\n      <td>Father</td>\n      <td>15</td>\n      <td>16</td>\n      <td>2</td>\n      <td>20</td>\n      <td>Yes</td>\n      <td>Good</td>\n      <td>Under-7</td>\n      <td>M</td>\n      <td>YesGood</td>\n    </tr>\n    <tr>\n      <th>1</th>\n      <td>M</td>\n      <td>Kuwait</td>\n      <td>Kuwait</td>\n      <td>lowerlevel</td>\n      <td>G-04</td>\n      <td>A</td>\n      <td>IT</td>\n      <td>F</td>\n      <td>Father</td>\n      <td>20</td>\n      <td>20</td>\n      <td>3</td>\n      <td>25</td>\n      <td>Yes</td>\n      <td>Good</td>\n      <td>Under-7</td>\n      <td>M</td>\n      <td>YesGood</td>\n    </tr>\n    <tr>\n      <th>2</th>\n      <td>M</td>\n      <td>Kuwait</td>\n      <td>Kuwait</td>\n      <td>lowerlevel</td>\n      <td>G-04</td>\n      <td>A</td>\n      <td>IT</td>\n      <td>F</td>\n      <td>Father</td>\n      <td>10</td>\n      <td>7</td>\n      <td>0</td>\n      <td>30</td>\n      <td>No</td>\n      <td>Bad</td>\n      <td>Above-7</td>\n      <td>L</td>\n      <td>NoBad</td>\n    </tr>\n    <tr>\n      <th>3</th>\n      <td>M</td>\n      <td>Kuwait</td>\n      <td>Kuwait</td>\n      <td>lowerlevel</td>\n      <td>G-04</td>\n      <td>A</td>\n      <td>IT</td>\n      <td>F</td>\n      <td>Father</td>\n      <td>30</td>\n      <td>25</td>\n      <td>5</td>\n      <td>35</td>\n      <td>No</td>\n      <td>Bad</td>\n      <td>Above-7</td>\n      <td>L</td>\n      <td>NoBad</td>\n    </tr>\n    <tr>\n      <th>4</th>\n      <td>M</td>\n      <td>Kuwait</td>\n      <td>Kuwait</td>\n      <td>lowerlevel</td>\n      <td>G-04</td>\n      <td>A</td>\n      <td>IT</td>\n      <td>F</td>\n      <td>Father</td>\n      <td>40</td>\n      <td>50</td>\n      <td>12</td>\n      <td>50</td>\n      <td>No</td>\n      <td>Bad</td>\n      <td>Above-7</td>\n      <td>M</td>\n      <td>NoBad</td>\n    </tr>\n    <tr>\n      <th>...</th>\n      <td>...</td>\n      <td>...</td>\n      <td>...</td>\n      <td>...</td>\n      <td>...</td>\n      <td>...</td>\n      <td>...</td>\n      <td>...</td>\n      <td>...</td>\n      <td>...</td>\n      <td>...</td>\n      <td>...</td>\n      <td>...</td>\n      <td>...</td>\n      <td>...</td>\n      <td>...</td>\n      <td>...</td>\n      <td>...</td>\n    </tr>\n    <tr>\n      <th>475</th>\n      <td>F</td>\n      <td>Jordan</td>\n      <td>Jordan</td>\n      <td>MiddleSchool</td>\n      <td>G-08</td>\n      <td>A</td>\n      <td>Chemistry</td>\n      <td>S</td>\n      <td>Father</td>\n      <td>5</td>\n      <td>4</td>\n      <td>5</td>\n      <td>8</td>\n      <td>No</td>\n      <td>Bad</td>\n      <td>Above-7</td>\n      <td>L</td>\n      <td>NoBad</td>\n    </tr>\n    <tr>\n      <th>476</th>\n      <td>F</td>\n      <td>Jordan</td>\n      <td>Jordan</td>\n      <td>MiddleSchool</td>\n      <td>G-08</td>\n      <td>A</td>\n      <td>Geology</td>\n      <td>F</td>\n      <td>Father</td>\n      <td>50</td>\n      <td>77</td>\n      <td>14</td>\n      <td>28</td>\n      <td>No</td>\n      <td>Bad</td>\n      <td>Under-7</td>\n      <td>M</td>\n      <td>NoBad</td>\n    </tr>\n    <tr>\n      <th>477</th>\n      <td>F</td>\n      <td>Jordan</td>\n      <td>Jordan</td>\n      <td>MiddleSchool</td>\n      <td>G-08</td>\n      <td>A</td>\n      <td>Geology</td>\n      <td>S</td>\n      <td>Father</td>\n      <td>55</td>\n      <td>74</td>\n      <td>25</td>\n      <td>29</td>\n      <td>No</td>\n      <td>Bad</td>\n      <td>Under-7</td>\n      <td>M</td>\n      <td>NoBad</td>\n    </tr>\n    <tr>\n      <th>478</th>\n      <td>F</td>\n      <td>Jordan</td>\n      <td>Jordan</td>\n      <td>MiddleSchool</td>\n      <td>G-08</td>\n      <td>A</td>\n      <td>History</td>\n      <td>F</td>\n      <td>Father</td>\n      <td>30</td>\n      <td>17</td>\n      <td>14</td>\n      <td>57</td>\n      <td>No</td>\n      <td>Bad</td>\n      <td>Above-7</td>\n      <td>L</td>\n      <td>NoBad</td>\n    </tr>\n    <tr>\n      <th>479</th>\n      <td>F</td>\n      <td>Jordan</td>\n      <td>Jordan</td>\n      <td>MiddleSchool</td>\n      <td>G-08</td>\n      <td>A</td>\n      <td>History</td>\n      <td>S</td>\n      <td>Father</td>\n      <td>35</td>\n      <td>14</td>\n      <td>23</td>\n      <td>62</td>\n      <td>No</td>\n      <td>Bad</td>\n      <td>Above-7</td>\n      <td>L</td>\n      <td>NoBad</td>\n    </tr>\n  </tbody>\n</table>\n<p>480 rows × 18 columns</p>\n</div>"
     },
     "metadata": {}
    }
   ]
  },
  {
   "cell_type": "markdown",
   "source": "The next cell shows the count of each class grade belonging in each value of ParticipationAndSatisfaction.",
   "metadata": {
    "tags": [],
    "cell_id": "00061-09c9d59a-30cb-47f1-9ef2-b9c744d14991",
    "deepnote_cell_type": "markdown"
   }
  },
  {
   "cell_type": "code",
   "metadata": {
    "tags": [],
    "cell_id": "00062-4df54a44-ef32-45ca-92c8-e703df7cb043",
    "deepnote_to_be_reexecuted": false,
    "source_hash": "5aaa7ff8",
    "execution_start": 1622445251608,
    "execution_millis": 20,
    "deepnote_cell_type": "code"
   },
   "source": "q2PS = spd_df.groupby('ParticipationAndSatisfaction')[\"Class\"].value_counts()\nq2PS",
   "execution_count": 33,
   "outputs": [
    {
     "output_type": "execute_result",
     "execution_count": 33,
     "data": {
      "text/plain": "ParticipationAndSatisfaction  Class\nNoBad                         L         79\n                              M         57\n                              H          9\nNoGood                        M         26\n                              L         20\n                              H         19\nYesBad                        M         23\n                              H         15\n                              L          5\nYesGood                       M        105\n                              H         99\n                              L         23\nName: Class, dtype: int64"
     },
     "metadata": {}
    }
   ]
  },
  {
   "cell_type": "markdown",
   "source": "The data is turned into a dataframe and transposed for visualization",
   "metadata": {
    "tags": [],
    "cell_id": "00063-e682d0f4-ffff-4bcb-8dee-f92ac0d46685",
    "deepnote_cell_type": "markdown"
   }
  },
  {
   "cell_type": "code",
   "metadata": {
    "tags": [],
    "cell_id": "00064-c008afb9-5e59-41d8-8663-b0437aa032b1",
    "deepnote_to_be_reexecuted": false,
    "source_hash": "23285d0f",
    "execution_start": 1622445251648,
    "execution_millis": 37,
    "deepnote_cell_type": "code"
   },
   "source": "q2PS_df = pd.DataFrame([q2PS['NoBad'], q2PS['NoGood'], q2PS['YesBad'], q2PS['YesGood']], index = ['NoBad', 'NoGood', 'YesBad', 'YesGood'])\nq2PS_df = q2PS_df.transpose()\nq2PS_df",
   "execution_count": 34,
   "outputs": [
    {
     "output_type": "execute_result",
     "execution_count": 34,
     "data": {
      "application/vnd.deepnote.dataframe.v2+json": {
       "row_count": 3,
       "column_count": 4,
       "columns": [
        {
         "name": "NoBad",
         "dtype": "int64",
         "stats": {
          "unique_count": 3,
          "nan_count": 0,
          "min": "9",
          "max": "79",
          "histogram": [
           {
            "bin_start": 9,
            "bin_end": 16,
            "count": 1
           },
           {
            "bin_start": 16,
            "bin_end": 23,
            "count": 0
           },
           {
            "bin_start": 23,
            "bin_end": 30,
            "count": 0
           },
           {
            "bin_start": 30,
            "bin_end": 37,
            "count": 0
           },
           {
            "bin_start": 37,
            "bin_end": 44,
            "count": 0
           },
           {
            "bin_start": 44,
            "bin_end": 51,
            "count": 0
           },
           {
            "bin_start": 51,
            "bin_end": 58,
            "count": 1
           },
           {
            "bin_start": 58,
            "bin_end": 65,
            "count": 0
           },
           {
            "bin_start": 65,
            "bin_end": 72,
            "count": 0
           },
           {
            "bin_start": 72,
            "bin_end": 79,
            "count": 1
           }
          ]
         }
        },
        {
         "name": "NoGood",
         "dtype": "int64",
         "stats": {
          "unique_count": 3,
          "nan_count": 0,
          "min": "19",
          "max": "26",
          "histogram": [
           {
            "bin_start": 19,
            "bin_end": 19.7,
            "count": 1
           },
           {
            "bin_start": 19.7,
            "bin_end": 20.4,
            "count": 1
           },
           {
            "bin_start": 20.4,
            "bin_end": 21.1,
            "count": 0
           },
           {
            "bin_start": 21.1,
            "bin_end": 21.8,
            "count": 0
           },
           {
            "bin_start": 21.8,
            "bin_end": 22.5,
            "count": 0
           },
           {
            "bin_start": 22.5,
            "bin_end": 23.2,
            "count": 0
           },
           {
            "bin_start": 23.2,
            "bin_end": 23.9,
            "count": 0
           },
           {
            "bin_start": 23.9,
            "bin_end": 24.6,
            "count": 0
           },
           {
            "bin_start": 24.6,
            "bin_end": 25.3,
            "count": 0
           },
           {
            "bin_start": 25.3,
            "bin_end": 26,
            "count": 1
           }
          ]
         }
        },
        {
         "name": "YesBad",
         "dtype": "int64",
         "stats": {
          "unique_count": 3,
          "nan_count": 0,
          "min": "5",
          "max": "23",
          "histogram": [
           {
            "bin_start": 5,
            "bin_end": 6.8,
            "count": 1
           },
           {
            "bin_start": 6.8,
            "bin_end": 8.6,
            "count": 0
           },
           {
            "bin_start": 8.6,
            "bin_end": 10.4,
            "count": 0
           },
           {
            "bin_start": 10.4,
            "bin_end": 12.2,
            "count": 0
           },
           {
            "bin_start": 12.2,
            "bin_end": 14,
            "count": 0
           },
           {
            "bin_start": 14,
            "bin_end": 15.8,
            "count": 1
           },
           {
            "bin_start": 15.8,
            "bin_end": 17.6,
            "count": 0
           },
           {
            "bin_start": 17.6,
            "bin_end": 19.4,
            "count": 0
           },
           {
            "bin_start": 19.4,
            "bin_end": 21.2,
            "count": 0
           },
           {
            "bin_start": 21.2,
            "bin_end": 23,
            "count": 1
           }
          ]
         }
        },
        {
         "name": "YesGood",
         "dtype": "int64",
         "stats": {
          "unique_count": 3,
          "nan_count": 0,
          "min": "23",
          "max": "105",
          "histogram": [
           {
            "bin_start": 23,
            "bin_end": 31.2,
            "count": 1
           },
           {
            "bin_start": 31.2,
            "bin_end": 39.4,
            "count": 0
           },
           {
            "bin_start": 39.4,
            "bin_end": 47.599999999999994,
            "count": 0
           },
           {
            "bin_start": 47.599999999999994,
            "bin_end": 55.8,
            "count": 0
           },
           {
            "bin_start": 55.8,
            "bin_end": 64,
            "count": 0
           },
           {
            "bin_start": 64,
            "bin_end": 72.19999999999999,
            "count": 0
           },
           {
            "bin_start": 72.19999999999999,
            "bin_end": 80.39999999999999,
            "count": 0
           },
           {
            "bin_start": 80.39999999999999,
            "bin_end": 88.6,
            "count": 0
           },
           {
            "bin_start": 88.6,
            "bin_end": 96.8,
            "count": 0
           },
           {
            "bin_start": 96.8,
            "bin_end": 105,
            "count": 2
           }
          ]
         }
        },
        {
         "name": "_deepnote_index_column",
         "dtype": "object"
        }
       ],
       "rows_top": [
        {
         "NoBad": 79,
         "NoGood": 20,
         "YesBad": 5,
         "YesGood": 23,
         "_deepnote_index_column": "L"
        },
        {
         "NoBad": 57,
         "NoGood": 26,
         "YesBad": 23,
         "YesGood": 105,
         "_deepnote_index_column": "M"
        },
        {
         "NoBad": 9,
         "NoGood": 19,
         "YesBad": 15,
         "YesGood": 99,
         "_deepnote_index_column": "H"
        }
       ],
       "rows_bottom": null
      },
      "text/plain": "       NoBad  NoGood  YesBad  YesGood\nClass                                \nL         79      20       5       23\nM         57      26      23      105\nH          9      19      15       99",
      "text/html": "<div>\n<style scoped>\n    .dataframe tbody tr th:only-of-type {\n        vertical-align: middle;\n    }\n\n    .dataframe tbody tr th {\n        vertical-align: top;\n    }\n\n    .dataframe thead th {\n        text-align: right;\n    }\n</style>\n<table border=\"1\" class=\"dataframe\">\n  <thead>\n    <tr style=\"text-align: right;\">\n      <th></th>\n      <th>NoBad</th>\n      <th>NoGood</th>\n      <th>YesBad</th>\n      <th>YesGood</th>\n    </tr>\n    <tr>\n      <th>Class</th>\n      <th></th>\n      <th></th>\n      <th></th>\n      <th></th>\n    </tr>\n  </thead>\n  <tbody>\n    <tr>\n      <th>L</th>\n      <td>79</td>\n      <td>20</td>\n      <td>5</td>\n      <td>23</td>\n    </tr>\n    <tr>\n      <th>M</th>\n      <td>57</td>\n      <td>26</td>\n      <td>23</td>\n      <td>105</td>\n    </tr>\n    <tr>\n      <th>H</th>\n      <td>9</td>\n      <td>19</td>\n      <td>15</td>\n      <td>99</td>\n    </tr>\n  </tbody>\n</table>\n</div>"
     },
     "metadata": {}
    }
   ]
  },
  {
   "cell_type": "code",
   "metadata": {
    "tags": [],
    "cell_id": "00065-a1820133-d285-4707-a811-3650d8bae405",
    "deepnote_to_be_reexecuted": false,
    "source_hash": "4daa241e",
    "execution_start": 1622445251729,
    "execution_millis": 656,
    "deepnote_cell_type": "code"
   },
   "source": "fig, axes = plt.subplots(nrows=2, ncols=2, figsize = (9,9))\nfor ax, col in zip(axes.flat, q2PS_df.columns):\n    artists = ax.pie(q2PS_df[col], autopct='%.2f%%', colors = ['tab:red', 'tab:blue', 'tab:green'])\n    ax.set(ylabel='', title=col, aspect='equal')\n\nfig.legend(artists[0], q2PS_df.index)\n\nplt.show()",
   "execution_count": 35,
   "outputs": [
    {
     "data": {
      "text/plain": "<Figure size 648x648 with 4 Axes>",
      "image/png": "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\n"
     },
     "metadata": {
      "image/png": {
       "width": 573,
       "height": 576
      }
     },
     "output_type": "display_data"
    }
   ]
  },
  {
   "cell_type": "markdown",
   "source": "The generated data above shows a high percentage of Low class grade when a parent does not participate. The data shows that 54.48% of NoBad are 30.77% of NoGood are students who got a low class grade. YesBad and YesGood got a low percentage of Low class grades with 11.63% and 10.13% respectively. In terms of High class grades, YesGood got the highest percentage of 43.61% followed by YesBad with 34.61%.\n\nBased on the data above, it can be inferred that participation may have a larger impact on the student's grade when compared to satisfaction. However, the absence of both participation and satisfaction greatly affects the chances that a student may have a Low class grade.\n\nFurther investigation is needed by focusing on individual features.",
   "metadata": {
    "tags": [],
    "cell_id": "00066-7f54f5ca-5293-407e-a119-4e4e73a8b91b",
    "deepnote_cell_type": "markdown"
   }
  },
  {
   "cell_type": "markdown",
   "source": "##### Participation",
   "metadata": {
    "tags": [],
    "cell_id": "00055-b8d5a497-aaf3-4ad5-afb2-f53910077b64",
    "deepnote_cell_type": "markdown"
   }
  },
  {
   "cell_type": "markdown",
   "source": "We first check the participation records.\n\nThe next cell shows the target category and the classes found in each:",
   "metadata": {
    "tags": [],
    "cell_id": "00059-bcde4e78-7441-4723-b5ca-c75ff9594425",
    "deepnote_cell_type": "markdown"
   }
  },
  {
   "cell_type": "code",
   "metadata": {
    "tags": [],
    "cell_id": "00055-4a511f9f-b6fe-4144-ae0f-8811596e6d16",
    "deepnote_to_be_reexecuted": false,
    "source_hash": "5f74d4ef",
    "execution_start": 1622445252364,
    "execution_millis": 235081573,
    "deepnote_cell_type": "code"
   },
   "source": "q2_Participation = spd_df.groupby(\"ParentAnsweringSurvey\")[\"Class\"].value_counts()\nq2_Participation",
   "execution_count": 36,
   "outputs": [
    {
     "output_type": "execute_result",
     "execution_count": 36,
     "data": {
      "text/plain": "ParentAnsweringSurvey  Class\nNo                     L         99\n                       M         83\n                       H         28\nYes                    M        128\n                       H        114\n                       L         28\nName: Class, dtype: int64"
     },
     "metadata": {}
    }
   ]
  },
  {
   "cell_type": "markdown",
   "source": "This is turned into a dataframe for proper visualization,",
   "metadata": {
    "tags": [],
    "cell_id": "00061-47e48749-4f36-4087-b618-3cfc9b74467d",
    "deepnote_cell_type": "markdown"
   }
  },
  {
   "cell_type": "code",
   "metadata": {
    "tags": [],
    "cell_id": "00056-ed6379af-6270-4192-8797-667d3c4b5076",
    "deepnote_to_be_reexecuted": false,
    "source_hash": "99d50266",
    "execution_start": 1622445252380,
    "execution_millis": 32,
    "deepnote_cell_type": "code"
   },
   "source": "q2P_df = pd.DataFrame([q2_Participation['No'], q2_Participation['Yes']], index = [\"Not Participate\", \"Participate\"])\nq2P_df",
   "execution_count": 37,
   "outputs": [
    {
     "output_type": "execute_result",
     "execution_count": 37,
     "data": {
      "application/vnd.deepnote.dataframe.v2+json": {
       "row_count": 2,
       "column_count": 3,
       "columns": [
        {
         "name": "L",
         "dtype": "int64",
         "stats": {
          "unique_count": 2,
          "nan_count": 0,
          "min": "28",
          "max": "99",
          "histogram": [
           {
            "bin_start": 28,
            "bin_end": 35.1,
            "count": 1
           },
           {
            "bin_start": 35.1,
            "bin_end": 42.2,
            "count": 0
           },
           {
            "bin_start": 42.2,
            "bin_end": 49.3,
            "count": 0
           },
           {
            "bin_start": 49.3,
            "bin_end": 56.4,
            "count": 0
           },
           {
            "bin_start": 56.4,
            "bin_end": 63.5,
            "count": 0
           },
           {
            "bin_start": 63.5,
            "bin_end": 70.6,
            "count": 0
           },
           {
            "bin_start": 70.6,
            "bin_end": 77.69999999999999,
            "count": 0
           },
           {
            "bin_start": 77.69999999999999,
            "bin_end": 84.8,
            "count": 0
           },
           {
            "bin_start": 84.8,
            "bin_end": 91.9,
            "count": 0
           },
           {
            "bin_start": 91.9,
            "bin_end": 99,
            "count": 1
           }
          ]
         }
        },
        {
         "name": "M",
         "dtype": "int64",
         "stats": {
          "unique_count": 2,
          "nan_count": 0,
          "min": "83",
          "max": "128",
          "histogram": [
           {
            "bin_start": 83,
            "bin_end": 87.5,
            "count": 1
           },
           {
            "bin_start": 87.5,
            "bin_end": 92,
            "count": 0
           },
           {
            "bin_start": 92,
            "bin_end": 96.5,
            "count": 0
           },
           {
            "bin_start": 96.5,
            "bin_end": 101,
            "count": 0
           },
           {
            "bin_start": 101,
            "bin_end": 105.5,
            "count": 0
           },
           {
            "bin_start": 105.5,
            "bin_end": 110,
            "count": 0
           },
           {
            "bin_start": 110,
            "bin_end": 114.5,
            "count": 0
           },
           {
            "bin_start": 114.5,
            "bin_end": 119,
            "count": 0
           },
           {
            "bin_start": 119,
            "bin_end": 123.5,
            "count": 0
           },
           {
            "bin_start": 123.5,
            "bin_end": 128,
            "count": 1
           }
          ]
         }
        },
        {
         "name": "H",
         "dtype": "int64",
         "stats": {
          "unique_count": 2,
          "nan_count": 0,
          "min": "28",
          "max": "114",
          "histogram": [
           {
            "bin_start": 28,
            "bin_end": 36.6,
            "count": 1
           },
           {
            "bin_start": 36.6,
            "bin_end": 45.2,
            "count": 0
           },
           {
            "bin_start": 45.2,
            "bin_end": 53.8,
            "count": 0
           },
           {
            "bin_start": 53.8,
            "bin_end": 62.4,
            "count": 0
           },
           {
            "bin_start": 62.4,
            "bin_end": 71,
            "count": 0
           },
           {
            "bin_start": 71,
            "bin_end": 79.6,
            "count": 0
           },
           {
            "bin_start": 79.6,
            "bin_end": 88.19999999999999,
            "count": 0
           },
           {
            "bin_start": 88.19999999999999,
            "bin_end": 96.8,
            "count": 0
           },
           {
            "bin_start": 96.8,
            "bin_end": 105.39999999999999,
            "count": 0
           },
           {
            "bin_start": 105.39999999999999,
            "bin_end": 114,
            "count": 1
           }
          ]
         }
        },
        {
         "name": "_deepnote_index_column",
         "dtype": "object"
        }
       ],
       "rows_top": [
        {
         "L": 99,
         "M": 83,
         "H": 28,
         "_deepnote_index_column": "Not Participate"
        },
        {
         "L": 28,
         "M": 128,
         "H": 114,
         "_deepnote_index_column": "Participate"
        }
       ],
       "rows_bottom": null
      },
      "text/plain": "Class             L    M    H\nNot Participate  99   83   28\nParticipate      28  128  114",
      "text/html": "<div>\n<style scoped>\n    .dataframe tbody tr th:only-of-type {\n        vertical-align: middle;\n    }\n\n    .dataframe tbody tr th {\n        vertical-align: top;\n    }\n\n    .dataframe thead th {\n        text-align: right;\n    }\n</style>\n<table border=\"1\" class=\"dataframe\">\n  <thead>\n    <tr style=\"text-align: right;\">\n      <th>Class</th>\n      <th>L</th>\n      <th>M</th>\n      <th>H</th>\n    </tr>\n  </thead>\n  <tbody>\n    <tr>\n      <th>Not Participate</th>\n      <td>99</td>\n      <td>83</td>\n      <td>28</td>\n    </tr>\n    <tr>\n      <th>Participate</th>\n      <td>28</td>\n      <td>128</td>\n      <td>114</td>\n    </tr>\n  </tbody>\n</table>\n</div>"
     },
     "metadata": {}
    }
   ]
  },
  {
   "cell_type": "markdown",
   "source": "Based on the data shown above, a pie chart is appropriate to show what is the majority or to see the percentage of each category. We first see based on the Class grade category:",
   "metadata": {
    "tags": [],
    "cell_id": "00063-7347d1a7-70ef-4823-b4eb-f80a2fdbfb19",
    "deepnote_cell_type": "markdown"
   }
  },
  {
   "cell_type": "code",
   "metadata": {
    "tags": [],
    "cell_id": "00060-2cd25ce3-e157-4ede-bda7-35d138ebdb4d",
    "deepnote_to_be_reexecuted": false,
    "source_hash": "3b33d808",
    "execution_start": 1622445252407,
    "execution_millis": 467,
    "deepnote_cell_type": "code"
   },
   "source": "fig, axes = plt.subplots(nrows=1, ncols=3, figsize = (9,9))\nfor ax, col in zip(axes.flat, q2P_df.columns):\n    artists = ax.pie(q2P_df[col], autopct='%.2f%%', colors = ['tab:red', 'tab:blue'])\n    ax.set(ylabel='', title=col, aspect='equal')\n\nfig.legend(artists[0], q2P_df.index)\n\nplt.show()",
   "execution_count": 38,
   "outputs": [
    {
     "data": {
      "text/plain": "<Figure size 648x648 with 3 Axes>",
      "image/png": "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\n"
     },
     "metadata": {
      "image/png": {
       "width": 576,
       "height": 405
      }
     },
     "output_type": "display_data"
    }
   ]
  },
  {
   "cell_type": "markdown",
   "source": "We see that there is a significant value for the Low and High class grades.\n\nLooking at the hypothesis criteria:\n- Majority of those with low class grades have parents who do not participate.\n- Majority of those with high grades have parents who do participate.\n\nWe can approve these criteria as Low class grades have a value of 77.95 for the Not Participate value and the High class grade has an 80.28 for the Participate value.",
   "metadata": {
    "tags": [],
    "cell_id": "00065-13355282-81ef-4fde-94ff-3f110bafa647",
    "deepnote_cell_type": "markdown"
   }
  },
  {
   "cell_type": "markdown",
   "source": "The dataframe is transposed for the Participation category visualization.",
   "metadata": {
    "tags": [],
    "cell_id": "00066-31584647-cb07-4d40-8180-351c510a3db8",
    "deepnote_cell_type": "markdown"
   }
  },
  {
   "cell_type": "code",
   "metadata": {
    "tags": [],
    "cell_id": "00060-ed6d40a7-be68-494d-98b8-d7ea7d8651c3",
    "deepnote_to_be_reexecuted": false,
    "source_hash": "9ad7ff62",
    "execution_start": 1622445252900,
    "execution_millis": 18,
    "deepnote_cell_type": "code"
   },
   "source": "q2P_df_T = q2P_df.transpose()\nq2P_df_T",
   "execution_count": 39,
   "outputs": [
    {
     "output_type": "execute_result",
     "execution_count": 39,
     "data": {
      "application/vnd.deepnote.dataframe.v2+json": {
       "row_count": 3,
       "column_count": 2,
       "columns": [
        {
         "name": "Not Participate",
         "dtype": "int64",
         "stats": {
          "unique_count": 3,
          "nan_count": 0,
          "min": "28",
          "max": "99",
          "histogram": [
           {
            "bin_start": 28,
            "bin_end": 35.1,
            "count": 1
           },
           {
            "bin_start": 35.1,
            "bin_end": 42.2,
            "count": 0
           },
           {
            "bin_start": 42.2,
            "bin_end": 49.3,
            "count": 0
           },
           {
            "bin_start": 49.3,
            "bin_end": 56.4,
            "count": 0
           },
           {
            "bin_start": 56.4,
            "bin_end": 63.5,
            "count": 0
           },
           {
            "bin_start": 63.5,
            "bin_end": 70.6,
            "count": 0
           },
           {
            "bin_start": 70.6,
            "bin_end": 77.69999999999999,
            "count": 0
           },
           {
            "bin_start": 77.69999999999999,
            "bin_end": 84.8,
            "count": 1
           },
           {
            "bin_start": 84.8,
            "bin_end": 91.9,
            "count": 0
           },
           {
            "bin_start": 91.9,
            "bin_end": 99,
            "count": 1
           }
          ]
         }
        },
        {
         "name": "Participate",
         "dtype": "int64",
         "stats": {
          "unique_count": 3,
          "nan_count": 0,
          "min": "28",
          "max": "128",
          "histogram": [
           {
            "bin_start": 28,
            "bin_end": 38,
            "count": 1
           },
           {
            "bin_start": 38,
            "bin_end": 48,
            "count": 0
           },
           {
            "bin_start": 48,
            "bin_end": 58,
            "count": 0
           },
           {
            "bin_start": 58,
            "bin_end": 68,
            "count": 0
           },
           {
            "bin_start": 68,
            "bin_end": 78,
            "count": 0
           },
           {
            "bin_start": 78,
            "bin_end": 88,
            "count": 0
           },
           {
            "bin_start": 88,
            "bin_end": 98,
            "count": 0
           },
           {
            "bin_start": 98,
            "bin_end": 108,
            "count": 0
           },
           {
            "bin_start": 108,
            "bin_end": 118,
            "count": 1
           },
           {
            "bin_start": 118,
            "bin_end": 128,
            "count": 1
           }
          ]
         }
        },
        {
         "name": "_deepnote_index_column",
         "dtype": "object"
        }
       ],
       "rows_top": [
        {
         "Not Participate": 99,
         "Participate": 28,
         "_deepnote_index_column": "L"
        },
        {
         "Not Participate": 83,
         "Participate": 128,
         "_deepnote_index_column": "M"
        },
        {
         "Not Participate": 28,
         "Participate": 114,
         "_deepnote_index_column": "H"
        }
       ],
       "rows_bottom": null
      },
      "text/plain": "       Not Participate  Participate\nClass                              \nL                   99           28\nM                   83          128\nH                   28          114",
      "text/html": "<div>\n<style scoped>\n    .dataframe tbody tr th:only-of-type {\n        vertical-align: middle;\n    }\n\n    .dataframe tbody tr th {\n        vertical-align: top;\n    }\n\n    .dataframe thead th {\n        text-align: right;\n    }\n</style>\n<table border=\"1\" class=\"dataframe\">\n  <thead>\n    <tr style=\"text-align: right;\">\n      <th></th>\n      <th>Not Participate</th>\n      <th>Participate</th>\n    </tr>\n    <tr>\n      <th>Class</th>\n      <th></th>\n      <th></th>\n    </tr>\n  </thead>\n  <tbody>\n    <tr>\n      <th>L</th>\n      <td>99</td>\n      <td>28</td>\n    </tr>\n    <tr>\n      <th>M</th>\n      <td>83</td>\n      <td>128</td>\n    </tr>\n    <tr>\n      <th>H</th>\n      <td>28</td>\n      <td>114</td>\n    </tr>\n  </tbody>\n</table>\n</div>"
     },
     "metadata": {}
    }
   ]
  },
  {
   "cell_type": "markdown",
   "source": "The next visualization will be focused on the Participation category. Pie charts are also used for this visualization for the same reason stated above.",
   "metadata": {
    "tags": [],
    "cell_id": "00068-c80c2800-b2f5-4948-8236-17c8a864a11e",
    "deepnote_cell_type": "markdown"
   }
  },
  {
   "cell_type": "code",
   "metadata": {
    "tags": [],
    "cell_id": "00061-d11d062b-8f3e-495e-89cf-847b0200259d",
    "deepnote_to_be_reexecuted": false,
    "source_hash": "c6b63ba1",
    "execution_start": 1622445253041,
    "execution_millis": 247,
    "deepnote_cell_type": "code"
   },
   "source": "fig, axes = plt.subplots(nrows=1, ncols=2, figsize = (9,9))\nfor ax, col in zip(axes.flat, q2P_df_T.columns):\n    artists = ax.pie(q2P_df_T[col], autopct='%.2f%%', colors = ['tab:red', 'tab:blue', 'tab:green'])\n    ax.set(ylabel='', title=col, aspect='equal')\n\nfig.legend(artists[0], q2P_df_T.index)\n\nplt.show()",
   "execution_count": 40,
   "outputs": [
    {
     "data": {
      "text/plain": "<Figure size 648x648 with 2 Axes>",
      "image/png": "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\n"
     },
     "metadata": {
      "image/png": {
       "width": 576,
       "height": 445
      }
     },
     "output_type": "display_data"
    }
   ]
  },
  {
   "cell_type": "markdown",
   "source": "Though the above data shows that the majority of those with Low grades have parents who do not participate, Low class grades does not represent the majority of the Not Participating value in the Participation category. It still, however, represents the highest percentage in the chart as it gets 47.14 out of 100. \n\nThe same can be almost said for the Participate value. Like above, High class grade is not the majority value. It got a high value of 42.22 but it is not considered the highest in the chart as Middle Class grade recieved a value of 47.41.",
   "metadata": {
    "tags": [],
    "cell_id": "00070-18f19efc-7e0e-46ee-98d0-86a03d4ee648",
    "deepnote_cell_type": "markdown"
   }
  },
  {
   "cell_type": "code",
   "metadata": {
    "tags": [],
    "cell_id": "00057-2ac7dc6c-f62d-4975-8222-02ac31299b3d",
    "deepnote_to_be_reexecuted": false,
    "source_hash": "e29a5157",
    "execution_start": 1622445253305,
    "execution_millis": 20,
    "deepnote_cell_type": "code"
   },
   "source": "q2_Satisfaction = spd_df.groupby(\"ParentSchoolSatisfaction\")[\"Class\"].value_counts()\nq2_Satisfaction",
   "execution_count": 41,
   "outputs": [
    {
     "output_type": "execute_result",
     "execution_count": 41,
     "data": {
      "text/plain": "ParentSchoolSatisfaction  Class\nBad                       L         84\n                          M         80\n                          H         24\nGood                      M        131\n                          H        118\n                          L         43\nName: Class, dtype: int64"
     },
     "metadata": {}
    }
   ]
  },
  {
   "cell_type": "markdown",
   "source": "##### Satisfaction",
   "metadata": {
    "tags": [],
    "cell_id": "00072-fc0a616e-df6e-4b03-8bac-407571b92736",
    "deepnote_cell_type": "markdown"
   }
  },
  {
   "cell_type": "markdown",
   "source": "The Satisfaction category will be represented by the \"ParentSatisfaction\" feature. The values for this feature are 'Good' and 'Bad'. It is uncertain if the value for this feature was given before revealing the class grade or after. It is assumed that it is before.\n\nThe following is a view of the target feature and the count for each Class grade:",
   "metadata": {
    "tags": [],
    "cell_id": "00073-b69b6bea-de05-4c62-a99d-405887dda537",
    "deepnote_cell_type": "markdown"
   }
  },
  {
   "cell_type": "code",
   "metadata": {
    "tags": [],
    "cell_id": "00058-086dce55-6d21-420b-9bd3-74c814c65423",
    "deepnote_to_be_reexecuted": false,
    "source_hash": "a3ef42a5",
    "execution_start": 1622445253336,
    "execution_millis": 26,
    "deepnote_cell_type": "code"
   },
   "source": "q2S_df = pd.DataFrame([q2_Satisfaction['Bad'], q2_Satisfaction['Good']], index = [\"Unsatisfied\", \"Satisfied\"])\nq2S_df",
   "execution_count": 42,
   "outputs": [
    {
     "output_type": "execute_result",
     "execution_count": 42,
     "data": {
      "application/vnd.deepnote.dataframe.v2+json": {
       "row_count": 2,
       "column_count": 3,
       "columns": [
        {
         "name": "L",
         "dtype": "int64",
         "stats": {
          "unique_count": 2,
          "nan_count": 0,
          "min": "43",
          "max": "84",
          "histogram": [
           {
            "bin_start": 43,
            "bin_end": 47.1,
            "count": 1
           },
           {
            "bin_start": 47.1,
            "bin_end": 51.2,
            "count": 0
           },
           {
            "bin_start": 51.2,
            "bin_end": 55.3,
            "count": 0
           },
           {
            "bin_start": 55.3,
            "bin_end": 59.4,
            "count": 0
           },
           {
            "bin_start": 59.4,
            "bin_end": 63.5,
            "count": 0
           },
           {
            "bin_start": 63.5,
            "bin_end": 67.6,
            "count": 0
           },
           {
            "bin_start": 67.6,
            "bin_end": 71.69999999999999,
            "count": 0
           },
           {
            "bin_start": 71.69999999999999,
            "bin_end": 75.8,
            "count": 0
           },
           {
            "bin_start": 75.8,
            "bin_end": 79.9,
            "count": 0
           },
           {
            "bin_start": 79.9,
            "bin_end": 84,
            "count": 1
           }
          ]
         }
        },
        {
         "name": "M",
         "dtype": "int64",
         "stats": {
          "unique_count": 2,
          "nan_count": 0,
          "min": "80",
          "max": "131",
          "histogram": [
           {
            "bin_start": 80,
            "bin_end": 85.1,
            "count": 1
           },
           {
            "bin_start": 85.1,
            "bin_end": 90.2,
            "count": 0
           },
           {
            "bin_start": 90.2,
            "bin_end": 95.3,
            "count": 0
           },
           {
            "bin_start": 95.3,
            "bin_end": 100.4,
            "count": 0
           },
           {
            "bin_start": 100.4,
            "bin_end": 105.5,
            "count": 0
           },
           {
            "bin_start": 105.5,
            "bin_end": 110.6,
            "count": 0
           },
           {
            "bin_start": 110.6,
            "bin_end": 115.69999999999999,
            "count": 0
           },
           {
            "bin_start": 115.69999999999999,
            "bin_end": 120.8,
            "count": 0
           },
           {
            "bin_start": 120.8,
            "bin_end": 125.9,
            "count": 0
           },
           {
            "bin_start": 125.9,
            "bin_end": 131,
            "count": 1
           }
          ]
         }
        },
        {
         "name": "H",
         "dtype": "int64",
         "stats": {
          "unique_count": 2,
          "nan_count": 0,
          "min": "24",
          "max": "118",
          "histogram": [
           {
            "bin_start": 24,
            "bin_end": 33.4,
            "count": 1
           },
           {
            "bin_start": 33.4,
            "bin_end": 42.8,
            "count": 0
           },
           {
            "bin_start": 42.8,
            "bin_end": 52.2,
            "count": 0
           },
           {
            "bin_start": 52.2,
            "bin_end": 61.6,
            "count": 0
           },
           {
            "bin_start": 61.6,
            "bin_end": 71,
            "count": 0
           },
           {
            "bin_start": 71,
            "bin_end": 80.4,
            "count": 0
           },
           {
            "bin_start": 80.4,
            "bin_end": 89.8,
            "count": 0
           },
           {
            "bin_start": 89.8,
            "bin_end": 99.2,
            "count": 0
           },
           {
            "bin_start": 99.2,
            "bin_end": 108.60000000000001,
            "count": 0
           },
           {
            "bin_start": 108.60000000000001,
            "bin_end": 118,
            "count": 1
           }
          ]
         }
        },
        {
         "name": "_deepnote_index_column",
         "dtype": "object"
        }
       ],
       "rows_top": [
        {
         "L": 84,
         "M": 80,
         "H": 24,
         "_deepnote_index_column": "Unsatisfied"
        },
        {
         "L": 43,
         "M": 131,
         "H": 118,
         "_deepnote_index_column": "Satisfied"
        }
       ],
       "rows_bottom": null
      },
      "text/plain": "Class         L    M    H\nUnsatisfied  84   80   24\nSatisfied    43  131  118",
      "text/html": "<div>\n<style scoped>\n    .dataframe tbody tr th:only-of-type {\n        vertical-align: middle;\n    }\n\n    .dataframe tbody tr th {\n        vertical-align: top;\n    }\n\n    .dataframe thead th {\n        text-align: right;\n    }\n</style>\n<table border=\"1\" class=\"dataframe\">\n  <thead>\n    <tr style=\"text-align: right;\">\n      <th>Class</th>\n      <th>L</th>\n      <th>M</th>\n      <th>H</th>\n    </tr>\n  </thead>\n  <tbody>\n    <tr>\n      <th>Unsatisfied</th>\n      <td>84</td>\n      <td>80</td>\n      <td>24</td>\n    </tr>\n    <tr>\n      <th>Satisfied</th>\n      <td>43</td>\n      <td>131</td>\n      <td>118</td>\n    </tr>\n  </tbody>\n</table>\n</div>"
     },
     "metadata": {}
    }
   ]
  },
  {
   "cell_type": "markdown",
   "source": "Like before, pie charts will be used to visualize the data to show the percentage of each value in the category.",
   "metadata": {
    "tags": [],
    "cell_id": "00075-db73f820-079b-4221-807a-f5461d932395",
    "deepnote_cell_type": "markdown"
   }
  },
  {
   "cell_type": "code",
   "metadata": {
    "tags": [],
    "cell_id": "00064-fd3c4e20-da54-4bf7-8335-3f34f6608123",
    "deepnote_to_be_reexecuted": false,
    "source_hash": "571105b3",
    "execution_start": 1622445253358,
    "execution_millis": 484,
    "deepnote_cell_type": "code"
   },
   "source": "fig, axes = plt.subplots(nrows=1, ncols=3, figsize = (9,9))\nfor ax, col in zip(axes.flat, q2S_df.columns):\n    artists = ax.pie(q2S_df[col], autopct='%.2f%%', colors = ['tab:red', 'tab:blue'])\n    ax.set(ylabel='', title=col, aspect='equal')\n\nfig.legend(artists[0], q2S_df.index)\n\nplt.show()",
   "execution_count": 43,
   "outputs": [
    {
     "data": {
      "text/plain": "<Figure size 648x648 with 3 Axes>",
      "image/png": "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\n"
     },
     "metadata": {
      "image/png": {
       "width": 576,
       "height": 405
      }
     },
     "output_type": "display_data"
    }
   ]
  },
  {
   "cell_type": "markdown",
   "source": "As hypothesized, majority of the value in the Low class grade are students who have parents expressing unsatisfaction towards the school's system. The Unsatisfied received a percentage of 66.14. Majority of those with High class grade have parents expressing Satisfaction in the school system as Satisfied receives a score of 83.10.\n\nThis support the hypothesis criteria of:\n- Majority of those with low class grades have parents who express unsatisfaction with the school system.\n- Majority of those with high grades have parents who express satisfaction with the school system.",
   "metadata": {
    "tags": [],
    "cell_id": "00077-200aa9a6-1bf0-4b0d-96d7-c1c9158583c8",
    "deepnote_cell_type": "markdown"
   }
  },
  {
   "cell_type": "markdown",
   "source": "The data is transposed for the next visualization as it focuses now on the Satisfaction category.",
   "metadata": {
    "tags": [],
    "cell_id": "00078-6b9cc15a-35f5-4580-96e1-efa802575b26",
    "deepnote_cell_type": "markdown"
   }
  },
  {
   "cell_type": "code",
   "metadata": {
    "tags": [],
    "cell_id": "00065-6ca2c164-73bf-4680-8244-eb5b7712ff21",
    "deepnote_to_be_reexecuted": false,
    "source_hash": "35a0995a",
    "execution_start": 1622445253825,
    "execution_millis": 25,
    "deepnote_cell_type": "code"
   },
   "source": "q2S_df_T = q2S_df.transpose()\nq2S_df_T",
   "execution_count": 44,
   "outputs": [
    {
     "output_type": "execute_result",
     "execution_count": 44,
     "data": {
      "application/vnd.deepnote.dataframe.v2+json": {
       "row_count": 3,
       "column_count": 2,
       "columns": [
        {
         "name": "Unsatisfied",
         "dtype": "int64",
         "stats": {
          "unique_count": 3,
          "nan_count": 0,
          "min": "24",
          "max": "84",
          "histogram": [
           {
            "bin_start": 24,
            "bin_end": 30,
            "count": 1
           },
           {
            "bin_start": 30,
            "bin_end": 36,
            "count": 0
           },
           {
            "bin_start": 36,
            "bin_end": 42,
            "count": 0
           },
           {
            "bin_start": 42,
            "bin_end": 48,
            "count": 0
           },
           {
            "bin_start": 48,
            "bin_end": 54,
            "count": 0
           },
           {
            "bin_start": 54,
            "bin_end": 60,
            "count": 0
           },
           {
            "bin_start": 60,
            "bin_end": 66,
            "count": 0
           },
           {
            "bin_start": 66,
            "bin_end": 72,
            "count": 0
           },
           {
            "bin_start": 72,
            "bin_end": 78,
            "count": 0
           },
           {
            "bin_start": 78,
            "bin_end": 84,
            "count": 2
           }
          ]
         }
        },
        {
         "name": "Satisfied",
         "dtype": "int64",
         "stats": {
          "unique_count": 3,
          "nan_count": 0,
          "min": "43",
          "max": "131",
          "histogram": [
           {
            "bin_start": 43,
            "bin_end": 51.8,
            "count": 1
           },
           {
            "bin_start": 51.8,
            "bin_end": 60.6,
            "count": 0
           },
           {
            "bin_start": 60.6,
            "bin_end": 69.4,
            "count": 0
           },
           {
            "bin_start": 69.4,
            "bin_end": 78.2,
            "count": 0
           },
           {
            "bin_start": 78.2,
            "bin_end": 87,
            "count": 0
           },
           {
            "bin_start": 87,
            "bin_end": 95.80000000000001,
            "count": 0
           },
           {
            "bin_start": 95.80000000000001,
            "bin_end": 104.60000000000001,
            "count": 0
           },
           {
            "bin_start": 104.60000000000001,
            "bin_end": 113.4,
            "count": 0
           },
           {
            "bin_start": 113.4,
            "bin_end": 122.2,
            "count": 1
           },
           {
            "bin_start": 122.2,
            "bin_end": 131,
            "count": 1
           }
          ]
         }
        },
        {
         "name": "_deepnote_index_column",
         "dtype": "object"
        }
       ],
       "rows_top": [
        {
         "Unsatisfied": 84,
         "Satisfied": 43,
         "_deepnote_index_column": "L"
        },
        {
         "Unsatisfied": 80,
         "Satisfied": 131,
         "_deepnote_index_column": "M"
        },
        {
         "Unsatisfied": 24,
         "Satisfied": 118,
         "_deepnote_index_column": "H"
        }
       ],
       "rows_bottom": null
      },
      "text/plain": "       Unsatisfied  Satisfied\nClass                        \nL               84         43\nM               80        131\nH               24        118",
      "text/html": "<div>\n<style scoped>\n    .dataframe tbody tr th:only-of-type {\n        vertical-align: middle;\n    }\n\n    .dataframe tbody tr th {\n        vertical-align: top;\n    }\n\n    .dataframe thead th {\n        text-align: right;\n    }\n</style>\n<table border=\"1\" class=\"dataframe\">\n  <thead>\n    <tr style=\"text-align: right;\">\n      <th></th>\n      <th>Unsatisfied</th>\n      <th>Satisfied</th>\n    </tr>\n    <tr>\n      <th>Class</th>\n      <th></th>\n      <th></th>\n    </tr>\n  </thead>\n  <tbody>\n    <tr>\n      <th>L</th>\n      <td>84</td>\n      <td>43</td>\n    </tr>\n    <tr>\n      <th>M</th>\n      <td>80</td>\n      <td>131</td>\n    </tr>\n    <tr>\n      <th>H</th>\n      <td>24</td>\n      <td>118</td>\n    </tr>\n  </tbody>\n</table>\n</div>"
     },
     "metadata": {}
    }
   ]
  },
  {
   "cell_type": "code",
   "metadata": {
    "tags": [],
    "cell_id": "00066-5bc77a35-88e0-4d21-8f3a-be77edd22c28",
    "deepnote_to_be_reexecuted": false,
    "source_hash": "6e6f66f9",
    "execution_start": 1622445253858,
    "execution_millis": 365,
    "deepnote_cell_type": "code"
   },
   "source": "fig, axes = plt.subplots(nrows=1, ncols=2, figsize = (9,9))\nfor ax, col in zip(axes.flat, q2S_df_T.columns):\n    artists = ax.pie(q2S_df_T[col], autopct='%.2f%%', colors = ['tab:red', 'tab:blue', 'tab:green'])\n    ax.set(ylabel='', title=col, aspect='equal')\n\nfig.legend(artists[0], q2S_df_T.index)\n\nplt.show()",
   "execution_count": 45,
   "outputs": [
    {
     "data": {
      "text/plain": "<Figure size 648x648 with 2 Axes>",
      "image/png": "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\n"
     },
     "metadata": {
      "image/png": {
       "width": 576,
       "height": 445
      }
     },
     "output_type": "display_data"
    }
   ]
  },
  {
   "cell_type": "markdown",
   "source": "The results did not produce values that supports the hypothesis criteria as a class grade value did not take up the majority of both visualization. The Unsatisfied value of the Satisfaction category have 44.68 percent of students recieveing Low class grades, this represents the highest value. The highest value for the Satisfied category is the Middle class grade value with a percentage of 44.86. This is followed by High class grade with 40.41.",
   "metadata": {
    "tags": [],
    "cell_id": "00081-0f130926-86c7-4b2e-96e0-8f9f2dde43d7",
    "deepnote_cell_type": "markdown"
   }
  },
  {
   "cell_type": "markdown",
   "source": "#### Chi-square Test",
   "metadata": {
    "tags": [],
    "cell_id": "00091-53c61d4e-5b4a-495b-b1a5-2f786f5f3716",
    "deepnote_cell_type": "markdown"
   }
  },
  {
   "cell_type": "markdown",
   "source": "Chi-square is performed to determine whether features are dependent or possibly independent. The test will be done on the separated features, Participation and Satisfaction. The hypothesis are:\n\n- H: The feature affects the student's performance.\n- H0: The feature does not affect the student's performance.",
   "metadata": {
    "tags": [],
    "cell_id": "00092-1da4684f-a8f9-4d83-92f8-7b6b6f809b6e",
    "deepnote_cell_type": "markdown"
   }
  },
  {
   "cell_type": "code",
   "metadata": {
    "tags": [],
    "cell_id": "00093-29341325-42a8-42cd-82a2-a063abe0cc19",
    "deepnote_to_be_reexecuted": false,
    "source_hash": "93cc00aa",
    "execution_start": 1622445254217,
    "execution_millis": 12,
    "deepnote_cell_type": "code"
   },
   "source": "alpha = 0.05",
   "execution_count": 46,
   "outputs": []
  },
  {
   "cell_type": "markdown",
   "source": "Participation:",
   "metadata": {
    "tags": [],
    "cell_id": "00093-a4b9ad96-b333-4a65-a742-c951651d506b",
    "deepnote_cell_type": "markdown"
   }
  },
  {
   "cell_type": "code",
   "metadata": {
    "tags": [],
    "cell_id": "00092-fb2e62e8-a509-46aa-97b6-b502891689f1",
    "deepnote_to_be_reexecuted": false,
    "source_hash": "6d80411b",
    "execution_start": 1622445254244,
    "execution_millis": 14,
    "deepnote_cell_type": "code"
   },
   "source": "c, p, dof, expected = chi2_contingency(q2P_df)\nprint(\"p value for Participation is \" + str(p))\nif p <= alpha:\n    print(\"It is Dependent (reject H0)\")\nelse:\n    print(\"It is Independent (do not reject H0)\")\n",
   "execution_count": 47,
   "outputs": [
    {
     "name": "stdout",
     "text": "p value for Participation is 1.9580757205685668e-21\nIt is Dependent (reject H0)\n",
     "output_type": "stream"
    }
   ]
  },
  {
   "cell_type": "markdown",
   "source": "Participation is shown as a dependent feature which means that it could affect a student's class grades.",
   "metadata": {
    "tags": [],
    "cell_id": "00096-94533bff-2d0c-4446-a116-342b8d9f71d2",
    "deepnote_cell_type": "markdown"
   }
  },
  {
   "cell_type": "markdown",
   "source": "Satisfaction:",
   "metadata": {
    "tags": [],
    "cell_id": "00095-259f1a0f-c3d3-469d-9067-a9bf68a58576",
    "deepnote_cell_type": "markdown"
   }
  },
  {
   "cell_type": "code",
   "metadata": {
    "tags": [],
    "cell_id": "00093-7039e088-2a1b-43d1-9e5e-37162f797517",
    "deepnote_to_be_reexecuted": false,
    "source_hash": "ae398413",
    "execution_start": 1622445254261,
    "execution_millis": 20,
    "deepnote_cell_type": "code"
   },
   "source": "c, p, dof, expected = chi2_contingency(q2S_df)\nprint(\"p value for Satisfaction is \" + str(p)) \nif p <= alpha:\n    print(\"It is Dependent (reject H0)\")\nelse:\n    print(\"It is Independent (do not reject H0)\")",
   "execution_count": 48,
   "outputs": [
    {
     "name": "stdout",
     "text": "p value for Satisfaction is 1.3552933750373137e-15\nIt is Dependent (reject H0)\n",
     "output_type": "stream"
    }
   ]
  },
  {
   "cell_type": "markdown",
   "source": "Satisfaction is shown as a dependent feature which means that it could affect a student's class grades.",
   "metadata": {
    "tags": [],
    "cell_id": "00098-672a0add-fb85-48bd-9e1c-ad87cd6d7c2b",
    "deepnote_cell_type": "markdown"
   }
  },
  {
   "cell_type": "markdown",
   "source": "It is shown through the gathered and interpreted data that a parent's school participation and their satisfaction with the school system may affect a student's class grade or class performance. The visualization shows the high percentage of High class grades on participating and satisfied parents. There is also a high percentage of Low class grades on parents who does the opposite. The chi-square test further proves their relation and rejects the null hypothesis that states that they are independent. Therefore, these features can be considered as some of the factors that affect a student's class performance.",
   "metadata": {
    "tags": [],
    "cell_id": "00100-eaa70311-855a-4cf3-99d6-f6807ffab9cb",
    "deepnote_cell_type": "markdown"
   }
  },
  {
   "cell_type": "markdown",
   "source": "#### ***Q3: Do the number of class absences greatly affect the grades of a student?***",
   "metadata": {
    "id": "-HT7yLU153-L",
    "cell_id": "00052-52981921-5a01-48bb-b514-a4bd1f0082f6",
    "deepnote_cell_type": "markdown"
   }
  },
  {
   "cell_type": "markdown",
   "source": "We'll look at the StudentAbsenceDays in this portion of the notebook, which may indicate a student's grades.\n\nThe number of student absences is thought to be a factor that influences a student's grade in class. The percentages of the feature and the p-value obtained from the chi-square test can be used to demonstrate this.",
   "metadata": {
    "tags": [],
    "cell_id": "00102-70a2bb11-0a2b-4aa0-a5e4-9c1e588bac3f",
    "deepnote_cell_type": "markdown"
   }
  },
  {
   "cell_type": "markdown",
   "source": "The next cell displays the number of students in each class grade for each value of `StudentAbsenceDays`.",
   "metadata": {
    "tags": [],
    "cell_id": "00103-90130ced-cfbc-4a69-95ea-f4f771a8b793",
    "deepnote_cell_type": "markdown"
   }
  },
  {
   "cell_type": "code",
   "metadata": {
    "colab": {
<<<<<<< Updated upstream
      "name": "DATASCI MCO.ipynb",
      "provenance": [],
      "collapsed_sections": [],
      "include_colab_link": true
=======
     "base_uri": "https://localhost:8080/"
>>>>>>> Stashed changes
    },
    "id": "s_LwGXxmHrF-",
    "executionInfo": {
     "status": "ok",
     "timestamp": 1620279451187,
     "user_tz": -480,
     "elapsed": 931,
     "user": {
      "displayName": "Angeline Maris Gubat",
      "photoUrl": "https://lh3.googleusercontent.com/a-/AOh14Gijg6xgX0R_IA4o8GkF1xnv3D8-8kHv8i-V48U6=s64",
      "userId": "00875153666701401808"
     }
    },
    "outputId": "e8c86756-7618-4344-d76e-953b58652a99",
    "cell_id": "00053-96e5200e-09c8-459f-8013-ad272e137ccd",
    "deepnote_to_be_reexecuted": false,
    "source_hash": "93036729",
    "execution_start": 1622445254275,
    "execution_millis": 25,
    "deepnote_cell_type": "code"
   },
   "source": "q3_df = spd_df.groupby(\"StudentAbsenceDays\")[\"Class\"].value_counts()\nq3_df",
   "execution_count": 49,
   "outputs": [
    {
     "output_type": "execute_result",
     "execution_count": 49,
     "data": {
      "text/plain": "StudentAbsenceDays  Class\nAbove-7             L        116\n                    M         71\n                    H          4\nUnder-7             M        140\n                    H        138\n                    L         11\nName: Class, dtype: int64"
     },
     "metadata": {}
    }
   ]
  },
  {
   "cell_type": "markdown",
   "source": "Then we will be assigning the required feature for this research question to a DataFrame variable and transposed for visualization.",
   "metadata": {
    "tags": [],
    "cell_id": "00062-11e9f41d-0158-403c-9790-16454f245ce5",
    "deepnote_cell_type": "markdown"
   }
  },
  {
   "cell_type": "code",
   "metadata": {
    "tags": [],
    "cell_id": "00099-e3e287bf-1285-438f-8928-e395054ff64e",
    "deepnote_to_be_reexecuted": false,
    "source_hash": "fa318cf7",
    "execution_start": 1622445254333,
    "execution_millis": 19,
    "deepnote_cell_type": "code"
   },
   "source": "q3s_df = pd.DataFrame([q3_df['Above-7'], q3_df['Under-7']], index=[\"Above 7 Absences\", \"Below 7 Absences\"])\nq3s_df",
   "execution_count": 50,
   "outputs": [
    {
     "output_type": "execute_result",
     "execution_count": 50,
     "data": {
      "application/vnd.deepnote.dataframe.v2+json": {
       "row_count": 2,
       "column_count": 3,
       "columns": [
        {
         "name": "L",
         "dtype": "int64",
         "stats": {
          "unique_count": 2,
          "nan_count": 0,
          "min": "11",
          "max": "116",
          "histogram": [
           {
            "bin_start": 11,
            "bin_end": 21.5,
            "count": 1
           },
           {
            "bin_start": 21.5,
            "bin_end": 32,
            "count": 0
           },
           {
            "bin_start": 32,
            "bin_end": 42.5,
            "count": 0
           },
           {
            "bin_start": 42.5,
            "bin_end": 53,
            "count": 0
           },
           {
            "bin_start": 53,
            "bin_end": 63.5,
            "count": 0
           },
           {
            "bin_start": 63.5,
            "bin_end": 74,
            "count": 0
           },
           {
            "bin_start": 74,
            "bin_end": 84.5,
            "count": 0
           },
           {
            "bin_start": 84.5,
            "bin_end": 95,
            "count": 0
           },
           {
            "bin_start": 95,
            "bin_end": 105.5,
            "count": 0
           },
           {
            "bin_start": 105.5,
            "bin_end": 116,
            "count": 1
           }
          ]
         }
        },
        {
         "name": "M",
         "dtype": "int64",
         "stats": {
          "unique_count": 2,
          "nan_count": 0,
          "min": "71",
          "max": "140",
          "histogram": [
           {
            "bin_start": 71,
            "bin_end": 77.9,
            "count": 1
           },
           {
            "bin_start": 77.9,
            "bin_end": 84.8,
            "count": 0
           },
           {
            "bin_start": 84.8,
            "bin_end": 91.7,
            "count": 0
           },
           {
            "bin_start": 91.7,
            "bin_end": 98.6,
            "count": 0
           },
           {
            "bin_start": 98.6,
            "bin_end": 105.5,
            "count": 0
           },
           {
            "bin_start": 105.5,
            "bin_end": 112.4,
            "count": 0
           },
           {
            "bin_start": 112.4,
            "bin_end": 119.30000000000001,
            "count": 0
           },
           {
            "bin_start": 119.30000000000001,
            "bin_end": 126.2,
            "count": 0
           },
           {
            "bin_start": 126.2,
            "bin_end": 133.1,
            "count": 0
           },
           {
            "bin_start": 133.1,
            "bin_end": 140,
            "count": 1
           }
          ]
         }
        },
        {
         "name": "H",
         "dtype": "int64",
         "stats": {
          "unique_count": 2,
          "nan_count": 0,
          "min": "4",
          "max": "138",
          "histogram": [
           {
            "bin_start": 4,
            "bin_end": 17.4,
            "count": 1
           },
           {
            "bin_start": 17.4,
            "bin_end": 30.8,
            "count": 0
           },
           {
            "bin_start": 30.8,
            "bin_end": 44.2,
            "count": 0
           },
           {
            "bin_start": 44.2,
            "bin_end": 57.6,
            "count": 0
           },
           {
            "bin_start": 57.6,
            "bin_end": 71,
            "count": 0
           },
           {
            "bin_start": 71,
            "bin_end": 84.4,
            "count": 0
           },
           {
            "bin_start": 84.4,
            "bin_end": 97.8,
            "count": 0
           },
           {
            "bin_start": 97.8,
            "bin_end": 111.2,
            "count": 0
           },
           {
            "bin_start": 111.2,
            "bin_end": 124.60000000000001,
            "count": 0
           },
           {
            "bin_start": 124.60000000000001,
            "bin_end": 138,
            "count": 1
           }
          ]
         }
        },
        {
         "name": "_deepnote_index_column",
         "dtype": "object"
        }
       ],
       "rows_top": [
        {
         "L": 116,
         "M": 71,
         "H": 4,
         "_deepnote_index_column": "Above 7 Absences"
        },
        {
         "L": 11,
         "M": 140,
         "H": 138,
         "_deepnote_index_column": "Below 7 Absences"
        }
       ],
       "rows_bottom": null
      },
      "text/plain": "Class               L    M    H\nAbove 7 Absences  116   71    4\nBelow 7 Absences   11  140  138",
      "text/html": "<div>\n<style scoped>\n    .dataframe tbody tr th:only-of-type {\n        vertical-align: middle;\n    }\n\n    .dataframe tbody tr th {\n        vertical-align: top;\n    }\n\n    .dataframe thead th {\n        text-align: right;\n    }\n</style>\n<table border=\"1\" class=\"dataframe\">\n  <thead>\n    <tr style=\"text-align: right;\">\n      <th>Class</th>\n      <th>L</th>\n      <th>M</th>\n      <th>H</th>\n    </tr>\n  </thead>\n  <tbody>\n    <tr>\n      <th>Above 7 Absences</th>\n      <td>116</td>\n      <td>71</td>\n      <td>4</td>\n    </tr>\n    <tr>\n      <th>Below 7 Absences</th>\n      <td>11</td>\n      <td>140</td>\n      <td>138</td>\n    </tr>\n  </tbody>\n</table>\n</div>"
     },
     "metadata": {}
    }
   ]
  },
  {
   "cell_type": "markdown",
   "source": "A pie chart is ideal to show what is the dominant or to examine the percentage of each class grade based on the data presented above.",
   "metadata": {
    "tags": [],
    "cell_id": "00107-d57c195d-bfe4-4af3-becc-19e7c436b1b5",
    "deepnote_cell_type": "markdown"
   }
  },
  {
   "cell_type": "code",
   "metadata": {
    "tags": [],
    "cell_id": "00104-b2ea7ba1-e9ad-4808-8b46-67fce818ce8f",
    "deepnote_to_be_reexecuted": false,
    "source_hash": "3b355ec9",
    "execution_start": 1622445254381,
    "execution_millis": 921,
    "deepnote_cell_type": "code"
   },
   "source": "df2 = pd.DataFrame(q3s_df)\nplot = df2.plot.pie(subplots=True, figsize=(20, 20), autopct='%1.1f%%')",
   "execution_count": 51,
   "outputs": [
    {
<<<<<<< Updated upstream
      "cell_type": "markdown",
      "metadata": {
        "id": "V6IPcmp9oYsk"
      },
      "source": [
        "###Cleaning"
      ]
=======
     "data": {
      "text/plain": "<Figure size 1440x1440 with 3 Axes>",
      "image/png": "iVBORw0KGgoAAAANSUhEUgAABPQAAAFWCAYAAADuVcMtAAAAOXRFWHRTb2Z0d2FyZQBNYXRwbG90bGliIHZlcnNpb24zLjQuMiwgaHR0cHM6Ly9tYXRwbG90bGliLm9yZy8rg+JYAAAACXBIWXMAAAsTAAALEwEAmpwYAACHLklEQVR4nOzdd5hU1f3H8feZrSy7DCxN+iDSlirYUFHsZaOx9xKNMSYxvxhj4sRYrjHRjZrYWzRRUYMFu2OJMVFQwYKCBQELo0iTOpTtM+f3xx10wd2l7e6Z8nk9zzzu3nvnzmd2Zc/c7z3FWGsRERERERERERGR9BBwHUBERERERERERES2nAp6IiIiIiIiIiIiaUQFPRERERERERERkTSigp6IiIiIiIiIiEgaUUFPREREREREREQkjaigJyIiIiIiIiIikkZU0BMREREREREREUkjKuiJiIiIiIiIiIikERX0RERERERERERE0ogKeiIiIiIiIiIiImlEBT0REREREREREZE0kus6gIiklxkzZnTLzc29BxiObgpkkwTwUX19/Tljx479xnUYEUldaieyltoJEdkiaieyltqJFqaCnohsldzc3Ht22GGHoV27dl0VCASs6zzSNhKJhFm2bFnZkiVL7gGOdJ1HRFKX2onspHZCRLaU2onspHai5akaLiJba3jXrl3XqPHNLoFAwHbt2jWGfydVRKQ5aieykNoJEdkKaieykNqJlqeCnohsrYAa3+yU/L2r3RCRzVE7kaXUTojIFlI7kaXUTrQs/SBFJC098MADHY0xY99///3CDduee+65kv3222+ntsowduzYwUOGDCkbMmRIWbdu3UYeeOCBA5o69uyzz+7TrVu3kfF4/NttF154Yc/LL7+8e5uEFRHJMmonRESkOWonJN1pDj0R2S6hcGRsS54vWlE+Y0uOe/jhh0vHjBmzbuLEiaU777zzopbMsKVmzJgxd8PXhxxyyIAjjjhidWPHxeNxXnzxxY49evSoff7550uOOOKItW0WUkTEMbUTPrUTIiKNUzvhUzshW0s99EQk7cRiscA777xTfO+990affPLJ0ob71q5dmzNhwoSdQqHQ8FNOOaXvhjtYd911V+mgQYPKBg4cOOxnP/tZL4Brr722609/+tPeG5578803dz7jjDP6Atx+++2lI0aMGDpkyJCyU045pV99fX2TeVauXBmYNm1aySmnnLKqsf2RSKRk4MCBVeecc86yf/3rXxvl/eCDD4pGjx49pF+/fsP/+te/dgH48ssv83bZZZfBQ4YMKRs4cOCwF198sRjgiSee6DB69OghZWVlQw877LAdY7FYAKBXr14jfv3rX/csKysbOmjQoLINdxljsVjguOOOCw0aNKhs0KBBZffdd1/H5s7z85//vNeAAQOGDRo0qOzcc8/tjYhImlI7oXZCRKQ5aifUTmQCFfREJO3861//6jhhwoTYyJEjazp16lQ/derUog37Pvzww/a33377V5999tlH0Wi0YOLEiZ2i0Wie53m9Xn311XmzZ8/++P3332//wAMPdDzttNNWvfDCCx03PHfy5Mmlp5566sr33nuvcPLkyaXvvvvunDlz5swOBAL2zjvv7NxMnk577rnnmtLS0kQT+0tPOOGElaeeeuqqV155JVhTU2M27Pvkk0/avf7663OnT58+57rrrusZjUbz/vnPf5YecMABsTlz5sz+5JNPPt59990rFy9enHv11Vf3mDJlyrzZs2d/MmbMmMqrrrrq2+71Xbp0qZ89e/YnZ5999rKKioruAOFwuEeHDh3i8+bNmz1v3rzZ5eXla5s6z5IlS3Kef/75Tp9++unH8+bNm3311Vcv3s5fk4iIM2on1E6IiDRH7YTaiUyggp6IpJ1HH3209OSTT14FcOyxx6584IEHvr1LNWLEiPVlZWW1ubm5nHDCCSunTp1a/Prrr7ffY4891vbs2bM+Ly+PE088ceVrr71W3LNnz/o+ffrUvPLKK+2XLFmS8/nnnxcedNBB61588cWSjz76qGjUqFFDhwwZUvb66693+OKLLwqay3PSSSetbGxfdXW1+e9//xs85ZRTVpeWliZGjx69/oknnuiwYf9hhx22uri42Pbo0aN+3Lhxa6ZOndp+jz32WD9p0qQuF154Yc+33367XadOnRKvvvpq+88//7xwt912GzJkyJCyhx9+uPNXX32Vv+E8G+7m7bbbbpULFiwoAJgyZUqHX//6199sOKZr167xps7TuXPneEFBQeLEE08M3X///R2Li4sb/TAhIpIO1E6onRARaY7aCbUTmUBz6IlIWlm6dGnO9OnTS+bOndvu/PPPJx6PG2OMTSQSXwMYYzY6ftPvN3X88cevnDRpUqchQ4ZUH3bYYasCgQDWWnP88cevuO222xZuLs/ixYtzP/jgg/YnnHDCZ43tf+KJJzqsXbs2Z/jw4cMAqqqqAoWFhYmTTz451lTeww47bN2UKVPmPv7448Gzzz67//nnn7+0tLS0fu+9917z7LPPzm/sdQoLCy1Abm6ura+vb/JNW2tp6jwzZ8785JlnnukwefLkTnfccUe36dOnz9vc+xcRSTVqJ9ROiIg0R+2E2olMoR56IpJWHnjggU5HH330ykWLFn24cOHCD5csWfJB7969a1966aVi8LvIz5kzJz8ejzN58uTS8ePHrx0/fvz6t956q2Tx4sW59fX1PPbYY6UTJkxYB3Dqqaeufumllzo+9thjpaeeeupKgEMPPXTNc88912nhwoW54Df68+bNy28qz/7777+6qKjINrZ/0qRJpTfeeOOXCxcu/HDhwoUfRqPRD19//fUOa9euDQC88MILHSsrK82SJUtypk+fXrL33nuvnzdvXn7v3r3rfvOb3yw/44wzlr333ntFEyZMWP/uu+8Wf/TRRwUAa9asCXzwwQdN3uUD2HfffdfccMMN3TZ8v2zZspymzhOLxQIrV67MOfHEE2N33nnngjlz5hQ1fWYRkdSldkLthIhIc9ROqJ3IFCroiUhaeeyxx0qPOeaYjSaL/eEPf7jqwQcfLAUYPnz4+vPOO6/vgAEDhvft27fm9NNPX92vX7+6K664YuG+++47aOjQocNGjRq1/rTTTlsNfrfxnXbaqXrhwoUF++23XyXA2LFjqy+99NKFBxxwwKBBgwaV7b///oMWLFiQ11ieyZMnl55yyimNdo9fu3ZtYMqUKcHjjz9+9YZtHTp0SOyyyy7rHn744SDA0KFDK/fcc8/Bu++++9CLLrpocSgUqnvppZdKhg4dOmzo0KFljz/+eOnvfve7pT179qy/6667oieddNKOgwYNKttll12GfPjhh4XN/ayuueaaxatXr84ZOHDgsMGDB5c9//zzJU2dZ/Xq1TmHHnrowEGDBpWNGzdu8FVXXbVgy38rIiKpQ+2E2gkRkeaonVA7kSmMtY0WgUVEGjVr1qzoqFGjlrvOIW7MmjWry6hRo0Kuc4hI6lI7kd3UTojI5qidyG5qJ1qOeuiJiIiIiIiIiIikERX0RERERERERERE0ogKeiIiIiIiIiIiImlEBT0REREREREREZE0ooKeiIiIiIiIiIhIGlFBT0REREREREREJI2ooCciaScnJ2fskCFDygYPHlxWVlY29OWXX26/uecUFRXt3FKvv2rVqsCQIUPKNjw6deo06uyzz+7T1PEHHnjggFGjRg1puO3YY48N3XvvvZ1aKpOIiHxH7YSIiDRH7YRkglzXAUQkzXnBsS17vtiMzR1SUFCQmDNnzmyAxx9/vMMll1zS+6CDDprbojma0alTp29fH2DYsGFDjz/++FWNHbt8+fKcjz76qH1RUVF89uzZ+WVlZbVtlVNEJCWonVA7ISLSHLUTaidkm6iHnoiktVgslhMMBus3fH/ZZZd1Hz58+NBBgwaV/frXv+656fGJRIKf/vSnvQcOHDhs0KBBZXfffXcngNNPP73vQw89FAQ46KCDBhx//PEhgBtvvLHzL3/5y15Nvf4HH3xQsGLFirxDDjlkXWP7H3zwwY4HHnjg6qOPPnrlxIkTSxvue/nll0uGDx8+NBQKDZ80aVIQ4N133y0cMWLE0CFDhpQNGjSo7MMPPywAuP3220s3bD/llFP61df7b7moqGjnX/7yl70GDx5cNmrUqCELFizIBViwYEHuQQcdNGDw4MFlgwcPLttw17Gx89TX13PssceGNvxMrrzyym5b/hsQEUltaifUToiINEfthNqJdKWCnoiknZqamsCQIUPK+vfvP+xXv/pVvyuuuGIxwBNPPNHhs88+K/zggw8++eSTT2bPnDmz6IUXXihu+NyJEyd2/PDDD9t98sknH7/yyivzLr/88t5ffvll3vjx49dOmTKlBGDJkiX58+bNKwR4/fXXSyZMmLC2qSwTJ04sPfLII1cGAo3/OX300UdLTzvttJVnnnnmyieeeGKjBnjBggUFs2bN+uTZZ5/99IILLuhXWVlpbrnllq4///nPl86ZM2f2Bx988En//v1r33vvvcLJkyeXvvvuu3PmzJkzOxAI2DvvvLMzQFVVVWDcuHHr5s6dO3vcuHHrbrnllq4A5513Xt/x48evnTt37uyPP/549pgxY6qbOs+0adOKFi9enPfpp59+PG/evNm/+MUvVmzHr0dExDm1E2onRESao3ZC7UQm0JBbEUk7DbvI/+c//2l/1lln9Z83b97HL774YocpU6Z0KCsrKwOorKwMzJkzp/Cwww779m7X1KlTS0444YSVubm59OnTp3733Xdf9/rrrxcddNBB62677bbuM2bMKBw0aFDV6tWrc7788su8GTNmtL/77ru/airLk08+WXrffffNb2zfggULcr/88svCgw8+eF0gECA3N9e+8847hbvuums1wLHHHrsyJyeHESNG1PTp06dm5syZhePGjVt//fXX9/j666/zTzrppFUjRoyoefHFF0s++uijolGjRg0FqK6uDnTr1q0eIC8vz5500kkxgLFjx67/z3/+0wHgzTffLJk8efJ8gNzcXDp37hy/6667Shs7z4knnrh6wYIFBWeeeWafI444Inb00Uev2f7fkoiIO2on1E6IiDRH7YTaiUyggp6IpLUDDzxw/apVq3IXL16ca63lggsuWPzb3/52+daep3///nVr1qzJefbZZ4Pjx49fu3LlytyJEyd2at++faJTp06Jxp4zbdq0dvF43IwfP76ysf0TJ04sXbNmTU6fPn1GAKxbty5n4sSJnXfdddeFAMaYjY43xnDeeeetHD9+/Ponn3wy+IMf/GDgLbfc8qW11hx//PErbrvttoWbvkZubq7dcDcvNzeX+vp6s+kxGzR3no8++mj2k08+2eHOO+/s+sgjj5Q+9thj0SZ/WCIiaUTthNoJEZHmqJ1QO5GuNORWRNLa+++/X5hIJOjevXv9YYcdtuaBBx7oEovFAgDz58/PW7hw4UY3LvbZZ5+1kydPLq2vr2fRokW5b7/9dvH48ePXA4wZM2b9XXfd1e3AAw9cN2HChHW33XbbDrvvvnujc1kAPPDAA6VHH330yqb2T548ufTJJ5/8dOHChR8uXLjww7feemv2U0899e1KVE888USneDzOxx9/XLBgwYKCUaNGVc+ePTt/6NChNZdeeuk3hxxyyOqZM2e2O/TQQ9c899xznTa8l6VLl+bMmzcvv7mfy1577bX2uuuu6wpQX1/PihUrcpo6z+LFi3Pj8Tg/+tGPVl9zzTULP/zww6LN/+RFRNKD2onGqZ0QEfGpnWic2onUpx56IpJ2Nsx5AWCt5Y477ojm5uZyzDHHrPn4448Ld9111yEARUVFiYceemh+r169vp3k9vTTT1/95ptvFg8dOnSYMcZeeeWVX/ft27ceYO+99143derUDsOHD6+pqampjcViOfvss0+T810888wzpc8+++ynje2bO3du/sKFC/P333//9Ru2DRkypLakpCT+3//+tz1Ar169akeNGjV03bp1OTfeeOOXRUVF9sEHHyx99NFHO+fm5tquXbvWXXXVVYu7d+8ev/TSSxcecMABgxKJBHl5efbmm2/+atCgQU2ucHXHHXd89aMf/ajfoEGDugQCAW699dYvDzzwwPWNnaeoqCjx4x//OJRIJAzAH//4x6+37jciIpJa1E6onRARaY7aCbUTmcBYa11nEMlqoXCkGOgNFAPtt/ABsB5YtwWPtcCSaEV5iyxvPmvWrOioUaO2ugu6ZIZZs2Z1GTVqVMh1DpFsEgpHcoDOQNdNHqVAIZAPFCT/mwOY5AOgHr8dWAusafB1w22LoxXly1oqr9qJ7KZ2QsQBL9gV6Il/nVAEtNvMfzd8XQ/EGjzWbPL9d9u82HpaiNqJ7KZ2ouWoh55IKwuFIwboBQwAdkw+Gn7dtQ1i2FA4sgT4ssEjCnwKzAW+jlaUq7ovIuJAKBzJw28XBiUfA5OPHnxXuGtyPpsWylAFLMBvH75q8PgS+CJaUf5la76+iIg0wwt2wG8fBuO3F/2AvslHH/ziXGtnqAdW4l8/zMG/htjw38/xYvFWzyAiG1FBT6SFJAt3A4HdgLH4je4AIITfc8Ilg39h2APYo5H960PhyIbi3mxgGjA9WlHeZPdwERHZOsl2YhD+3+HR+Bdmg/DbiRxnwXzt+K6g+D2hcCQGfADMBGYl//txtKK8uo3ytbgVK1Z0nD9//oCysrKPi4qKqgFWr15dsnTp0u6DBw/+rC0yzJ49e3AikcgBqK+vz23Xrt36wYMHf97YsdFotM/q1as7jRo16oMNk6AvWLCgZyAQiPfq1WtpW+QVkVbmBQPACGAvYGe+K+J1dxkrKRfolnzstcm+Wrzg52xc5JsDzMGLrW7LkCLZRAU9kW0UCkc64jdm4/CLeLsAnZp7Tgprj39xObrBtngoHPkQeBN4A3hDPTRERLZcKBwpxS/e7Z587Eb6thNBYHzysUF9KByZi1/cmwb8N1pR/omDbNtk5cqVpUVFReuWL19e2rdv30UuMpSVlc3d8PW8efMGdOzYcXVjx1lricViHfPy8mpjsVhJx44ddcNNJBN4wSL89mEvYG/8NiPoNNO2yQeGJh8b84KfAlOB14GpeLE2uWEikg1U0BPZQqFwpBuwT4PHCDJ7pegcvivy/RwgFI4svP/onh2XxKoCxYV569rn51RuulS6ZK7kJLcJ1zlEUlXyRs/BwKH4ha+dnAZqfbnAsOTjVIBQOLLk/qN7lnyzppoO7fLWFubl1DhN2IT6+vrA+vXriwcNGjT3s88+G9iwoBePx3Pmzp27U01NTWFxcfGa/v37f2WMYdmyZaVLlizZATAdOnRY3a9fv4VLlizpWl1dXRAKhb4GWLp0aefKysr2/fv3/+qbb74pXbZsWXdrrSkqKlrfv3//L5tqM+vr6wPr1q0r2XHHHec3tj8Wi5UUFBRUderUadXKlStLGxb0qqqqij7++OMh8Xg8t1u3bkt22GGH5TU1NXmff/75jolEIsdaa/r27ftlMBhct2rVqg6LFi3qaa01+fn5NTvuuGM0Nzc3MWvWrBGdOnVasWbNmqC11gwYMOCLoqKi6vr6+sCXX37Zt7KysgigR48ei7p06bK6qfNEo9FeS5cu7WyM+QD4t7X2ohb8tYmkPy/YHb9wt6GANxrIcxmpDWyYRuJsALzg4tzDn+6QWLPEBNoF15DXLiXbCWkdup5oWSroiTQjFI4MAo5NPsY6jpMKes1bUUPxkm/a5xZ1ICcQSBTl56wJtstbFWyXF8vNCWjujAyVSCTMsmXLgsBHrrOIpJJQODIaOBw4DL/Htuuhs67tMG9FDcWLl7bPLepAXk5OXVFBztqSgtxYKrUTK1eu7FhSUhIrKiqqyc3NrV+7dm1RSUlJJUBVVVX7srKyjwoLC2vnzJkzcMWKFZ1KSkrWLVq0qNfQoUM/yc3NrZ87d+6gFStWdCwtLV01Z86cIcDXAKtWrSrt0aPH4vXr1xeuWrWqdOjQoXMCgYD94osv+i5btqxzt27dVjSRp1NxcfGa3NzcRi9yVqxYUVpaWrqytLR09eLFi3slEgkTCAQsQHV1dbuhQ4d+kkgkcj7++OOyTp06xZYvX17aoUOHWO/evZdYa4nH44G6urrcxYsX9xgyZMi8nJycxNdff73D4sWLu/fp02cxQF5eXv3w4cM/Wbx4cdfFixd3HzBgwJcLFy7skZOTEx8xYsRsgLq6upymztOtW7dvVqxY0bl79+4vWmuPNMZ0bPnfnEia8YI5wL7A8cBB+NPxZLseRStns3JJUfvO7XMxOfk1FBSvoaBkDQXBteTkpkQ7IS1P1xMtT6vcimwiFI6M5Lsi3jDHcVJOh4IAv9y9E/065mEazNFuDDYvYKoLck1lQY6pDBjdeckwCeCj+vr6c8aOHfuN6zAiroTCkUL8Al45fk+8nm4TpZ4m2wkgL8dUF+Sa9a7biRUrVnQrLi5eW1BQULVu3boO8Xg8JxgMrqqpqSlcu3Ztxy5duiwBqKysLK6rq8vPz8+vrq6uLurUqdNygPXr1xfX19fnBYPBVStWrOheUlKyOjc3t2758uU9unXrtnD9+vUl69atCwYCgQSAtda0a9dufUlJyeom8nQvKipa265du8pN91lrzTfffNOrW7dui4wxiZUrV3YtKipaV1hYWLV27dqO1lo6dOiwGmDVqlVdCgsLKwOBQCIWi3Vu167d+sLCwsq8vLza6urqdqtXr+6Sk5MTT56X/Pz8mo4dO65YunRpry5duizJycmJ19bWFqxdu7Zj586dly5btqxHp06dlufm5tZtyNPMeZa/9dZbpVdeeWVk0aJFk4HnrLW1LfqLE0kH/jx4+wInAMfgzzknDdTld+TrMRdTHdyRjdd8MiRy8qptTuH6eG67SjC6nsgsup5oYSroSdZLTlK+K34B7xgyf4hUW6gH/gc8DjwZrSjXH2wRSVuhcCQA7Aecht9OdHCbKCPUA68Bk/HbiTZb1MEYU4rfo24ZYPF7VVr8VSP3Ba601u6bPPZs/Ck2XgWOtdaekdz+Y2CYtfbC5DHD8SeAH5Lc9kugp7X291uQpwv+BPK9rLXfW2TEGHME8HAyL0AR8LK19lRjjIf/ef6K5LETgcettU8bY3riF55/AfwNWAWcYq09uZHXiAK7WGuXG2N2Aa631k4wxswATrLWfrpJnqbOUwAcABwHhKy1+2/u/YtkBL+Itw9+T7xjSY1FLNJdFfAs8CDwIl6sbjPHi2QdFfQka4XCkbHAGcDR+Mu9S+uI40+COxl4JFpRvmwzx4uIpIRQODIKv4h3MtDLcZxMlgCmAPcAk6MV5a06n5Ix5lxgrLX2pw22vQZchj837gtAGfBl8uu/4y8QNR1/+o1VwEvALcnCWSfgXeAr4GJr7dvGmDLgaWAva+03ySJiibX2e4tLGWPOA8ZZa89sIu+/gGettZOS37cH5uOvjvw74Cj8ifTbA+8nv84DvrbWxo0x5+PfrPwzMAPY31r7WfI8vay185op6FUAhdbaC5Kv3Ql/yp7vnQdYBBQl328Q+MJa23mLfiki6cgv4u2N3xPvWGAHt4Ey2nLgUeBBvNg012FEUoUKepJVQuFIPv6ds1/iryglbasGv5fBzdGK8vdchxER2VQoHOkKnIVfyBvhOE42WgHcD/w9WlE+d3MHbwtjzP+Av1hrX2yw7f/wV2d8BPgjsBa/CPY/4OfW2oQx5mTgEvzxYRFr7cUNnv8cUGat3bHBthOB3+MXCeuAX1hrpzeS51WgomGeBvuK8HsThqy1axpsfyKZdSiwI/6E812Aa621dxtjzgR+m3zddcAZ1tr5xpj9gb8ABclTXWqtfaaZgl4xcBt+ITOO33vxicbOA7yDX8QsTP6MrrfW3t/4b0EkjXnBnvg9X3+Epl1w4XPgX/jFvXmuw4i4pIKeZIVQONIDOA84F909SxVvAjcDj0cryutdhxGR7JacP/VXwCn4BQlx7zX83nGPt3avPRGRzfKCo4HfACeS+SvTpou3gRuBR/FiWkxDso4KepLRQuHInvi98Y5FDW+qWgjcgd8bQ8NxRaTNJOfG+wFwAf4ceZKalgP3AjdEK8oXuw4jIlnECxr8duJCYILbMNKML4DrgHvxYroBJFlDBT3JOMkVCE/CL+SNcRxHtpyG44pImwiFIyXA2fjtxADHcWTL1QD3AX+JVpTPd5xFRDKZFywCzsS/4TPIbRjZCkuAm4Db8WJrNnewSLpTQU8yRigcaQf8H3AR/jwykr7eAP4crSh/wXUQEckcoXCkA34viwuAoNs0sh3qgUnANdGK8k9chxGRDOIFewDnAz8FtKhL+orhjwC6ES/WZquoi7Q1FfQk7YXCkRz8nhZXoFUIM83rwB+iFeVTXAcRkfQVCkeK8Hvj/Q4odRxHWo4FngCuVs9uEdkuXrAv4AGnAvluw0gLqsafsuE6vJh6dkvGUUFP0looHDkW+DMw2HUWaVX/xi/sves6iIikj1A4UoC/INLvge6O40jreg4IRyvKP3YdRETSiBfsCPwBv1eeFkTKXHH8lcE9vNinrsOItBQV9CQthcKRCUAFsLvjKNK2JuNfsH3uOoiIpK5QOJKL33P7MqC34zjSduL4PTEu1+IZItIsL1iA33P7EqCT4zTSdmqBG4Cr8GLrXYcR2V4q6ElaCYUjo4FrgEMdRxF3aoFbgauiFeWrHWcRkRQTCkcOA25Ek5hns0rgWuDaaEV5leswIpJivOCJwF+Afq6jiDNfA7/Fiz3sOojI9lBBT9JCKBwJ4Q+tPRkwbtNIilgJ/BG4PVpRXuc6jIi4FQpHBuAX8n7gOIqkjq+A30Uryh9xHUREUoAXHAncAuzjOoqkjFeBX+LFPnIdRGRbqKAnKS254MWvgSuBIsdxJDV9DPxI8+uJZCkvWLjeFly0S82dF1ZRoGFT0pipwM80v55IlvKCpcBV+CvX5jhOI6mnHrgduBwvFnMdRmRrqKAnKSsUjowB7gF2dp1FUl4cuB64IlpRXuM6jIi0ES94EP6H8J1ejo959Sd1F01wnEhSVy3wJ+CaaEV5veswItJGvOA5+PNud3YdRVLeN0AYuA8vpiKJpAUV9CTlhMKRIvy7aL9Cd9Fk63wCnB2tKJ/uOoiItCIv2AW4GX8aBgCspfaQ2r8snGf79HcXTNLATPx24n3XQUSkFXnB7vgdAzQNg2yt6cD5eLEZroOIbI4KepJSQuHI3sB9wADHUSR9JfBXr7o0WlFe7TqMiLQwL3g48A9gh013LbPBGbvW3DG27UNJmqkHrgOuVK9ukQzkBX8I3A10dR1F0lYCf3Gly/FimqtbUpYKepISQuFIIf5QmF8DAcdxJDPMw++F8YbrICLSArxgEfBX4LzmDrui7oxp98cPHdc2oSTNqVe3SCbxgsX4iyP92HESyRwzgFPxYnNdBxFpjAp64lwoHNkFmAgMdZ1FMk4CfzWzS6IV5ZWuw4jINvKCuwEPAgM3d2jcBhaPrLm7ZD3tils/mGSADb0wLtPceiJpzAuOAx5Ao3yk5VUCF+HF7nAdRGRTKuiJU6FwJIw/X16u6yyS0T4HTolWlL/tOoiIbAUvmAtcCvyBrWgnXouPfPXMuvCE1oolGWkqcFK0onyR6yAishX8duIK4Pdo7m1pXRHgLLzYMtdBRDZQQU+cCIUjxcD9wDGus0jWqAF+Hq0o/6frICKyBbxgP+BRYLetfaq11JXXXv3VbBtSTw3ZGsuA06IV5f92HUREtoAXHIzfe3sX11EkaywETsKLve46iAiooCcOhMKRQcCTQJnrLJKV7gB+Fa0o1wS3IqnKC+4PPAJ02dZTrLQlM8fU3DW6xTJJtrDA1cAV0YryuOswItIEL3ge/ryqRa6jSNapxx89cC1eTMUUcUoFPWlToXDkCPz5LYKus0hWewM4LlpRvsR1EBHZhBe8EH9Os+0eOnV13Slv/D3+g722P5RkoVeBk9VOiKQYf4jtbcC5rqNI1osAZ+DFVroOItlLBT1pE6FwxODPb3E5YBzHEQFYBByr1Q1FUoQXbAfcA5zSUqeMW/PNqJq7C9dR1KGlzilZZSlwfLSifKrrICICeMEg8BhwkOsoIklfAUfixWa5DiLZKeA6gGS+UDgSBJ7BL+ipmCepoifwWigcOcd1EJGs5wVDwJu0YDEPIMfYbnfn/W1mS55Tskp34D+hcORU10FEsp4X7I/fTqiYJ6mkLzAFL3ig6yCSndRDT1pVKBwZhj9f3kDXWUSacRfwf9GK8lrXQUSyjj9f3qNA59Y4vbXEj6r94+ez7E6DWuP8kjWuiFaU/9F1CJGs5AXHAU8DXV1HEWlCHXA2XuxB10Eku6igJ60mFI78EH/lqWLXWUS2wJv4Q3A1X5JIW/GCpwD3AXmt+TIxW/TBqJq7R4BRL3HZHvcB52pRJZE25AVPAu4FCl1HEdkMC/weL/YX10Eke2jIrbSKUDhyOvA4KuZJ+tgTeD0UjvRzHUQkK3jBX+Hf9GnVYh5A0FSO/GXOk2+29utIxvsR8FIoHOnoOIdIdvCClwP/QsU8SQ8GqMAL3ooXVJ1F2oR66EmLC4Uj5wG3o/nyJD0tAA6IVpR/6jqISMbyglcDv2/Ll0xYs2x0zV35ayjWKuuyvT4BDo9WlEddBxHJSF4wH3+RpNNdRxHZRk8Cp+DFql0Hkcymgp60qFA4chFwnescIttpCXBgtKL8Y9dBRDKKF8zBn7Pyxy5e/t3EoCnH1Xr7uHhtyThL8G/+zHYdRCSjeMFS4ClgvOMkItvrTeAIvNhK10Ekc6krqLSYUDhyJSrmSWbYAX8F3DGug4hkDC9YiD8Vg5NiHsBYM2/vXczcT1y9vmSUHYBXQ+HICNdBRDKGF+wEvIKKeZIZ9gTewAuGXAeRzKWCnrSIUDjyV+By1zlEWlBn4L+hcGSc6yAiac8LFgMvAT90GcMYAvfmX5sADU+QFtEVv50Y5TqISNrzgh3w24nRjpOItKQhwDS8oNoJaRUacivbJRSOBPDny/up6ywirWQdcGS0ovx/roOIpCUv2A54AdjXdZQNbq3/4dTr609UDxBpKSuAg6IV5e+7DiKSlr676bOn6ygirWQZMB4vNtd1EMksKujJNguFIznAfcBpjqOItLZq4JhoRfkLroOIpBUvWAA8AxzsOkpDCWtWjq25g1V0KHWdRTLGKvyi3gzXQUTSin/T53lgguMkIq1tAbAXXmyB6yCSOTTkVrZJKBzJBR5FxTzJDoXAU6Fw5BjXQUTShhfMw28nUqqYBxAwtvS+/Gu16I20pE7Af0LhyG6ug4ikDf+mz9OomCfZoQ/wMl6wq+sgkjlU0JNtdReg4oZkk3zgkVA4cqjrICIpz1/N9kHgSNdRmjLSfLH3noGPVNSTltQR+Lfm1BPZAv5Nn8eBg1xHEWlDg4GXknNGimw3FfRkq4XCkcuBs13nEHEgF5gcCkd2dR1EJGV5QQP8EzjBdZTmGIO5O+9vAUMi4TqLZJQg8EIoHOnrOohIyvKCucDDQLnrKCIO7Aw8mxxuLrJdVNCTrRIKR84ErnSdQ8Sh9kAkFI4MdB1EJEXdAZzhOsSWaG+qh/4+91+vu84hGacH8GIoHOnkOohIyvF7cD+ARvpIdtsHeCzZU1Vkm2lRDNlioXDkICAC6A+PCMwH9oxWlC9xHUQkZXjBMHCN6xhbw1piu9TcUbeCYBfXWSTjvI6/UEa16yAiKcHvwX0vcKbrKCIpYhJwGl5MowVkm6iHnmyRUDgyEpiMinkiG/QHng+FI+1dBxFJCV7wGOBq1zG2ljEEH8i/Zo7rHJKR9gYeCoUj+rwt4rsSFfNEGjoZuMV1CElf+oAhmxUKR3rjLyevyTtFNrYz8C9drEnW84Jj8YdQGddRtsVQ89Ve+wRmfeA6h2SkY4CbXIcQcc4Lnghc5jqGSAr6OV7wT65DSHrSRag0KxSOBIEXgF6us4ikqCOBa12HEHHGC/YCngGKXEfZVsZg7sq7oTBAIu46i2Sk80PhyG9dhxBxxr/pc6/rGCIp7A94wZNdh5D0o4KeNCkUjuQBTwDDXWcRSXG/CYUj57gOIdLmvGB74Fmgp+so26udqR10Re5ELZAhraUiFI4c7DqESJvzgj2ApwGt6CnSvL/jBYe6DiHpRQU9ac7fgf1dhxBJE7eHwhH9e5Hs4QUDwEP4Q88zwhk5/955B1YudZ1DMlIAf4qGvq6DiLQZL1gAPIlG+ohsiWJgcvJmqcgWUUFPGhUKR34C/Mh1DpE0kgdMCoUjO7gOItJGPOCHrkO0JGPo8ED+NZ+7ziEZqzMwORSOFLgOItJGbgZ2dx1CJI2U4XeqEdkiKujJ94TCkVH4DbCIbJ1uwMRQOJKWCwOIbDEveADwB9cxWsPAwMI9Dwq8O9N1DslYu6JFMiQbeMEzgXNdxxBJQ6fgBX/uOoSkBxX0ZCOhcKQEeAwodJ1FJE0dBFzkOoRIq/GC3YAHyeDPELfk3VKSS32d6xySsX4aCkfOdB1CpNV4wZHAHa5jiKSxG/CCu7oOIakvYz+Myza7GxjoOoRImvtzKBzZxXUIkRbnBQ3wAJDRQ8sLTd2AP+Xe+6brHJLR7kiOiBDJLF4wCDyOFsEQ2R75wGN4wVLXQSS1qaAn30rOm3ei6xwiGWDDfHolroOItLCLgaxYqfPEnP+N7cnyxa5zSMZqBzyhdkIy0H3ATq5DiGSAfsADyZupIo1SQU8ACIUjg4AbXecQySA7Abe5DiHSYrzgnsBVrmO0FWMofij/z1HXOSSj7Qj8zXUIkRbjBU8HjnIdQySDHA5c4jqEpC4V9IRQOJIHPAQUuc4ikmFOD4Ujp7kOIbLdvGAnYBKQ6zpKW+ofWDquPDB9huscktHOCYUjh7kOIbLdvGB31DlApDVciRfc33UISU0q6AmAB2i+L5HWcXsoHBngOoTIdroV6Os6hAs35N1emkd9rescktHuCYUjnVyHENlOtwGa70uk5eUA9+IFNUWDfI8KelkuFI6MB8Kuc4hksBL8+fTyXAcR2SZe8HDgFNcxXMk39f3/kvd3LZAhrakncLPrECLbzAseCxzrOoZIBusLXOM6hKQeY611nUEcCYUjBcDHgHoPibS+P0Uryi9zHUJkq/h3gz8G+riO4pK1VO5be8PKr2z33q6zpAJbX8uSf12Mra+DRIKiwXvRcfypLH/+JmqXfApAXqeedC7/NYH87y90WfvNfFa8dCu2pgqMoceZNwCGb564ivja5ZTsXE7JmHIAVrx4C8WjD6Ngh6yYY/+YaEX5k65DiGwVfxXO2UB311FEMpwF9sGLve46iKQO9dDLbhejYp5IW/ldKBwZ6DqEyFa6hiwv5gEYQ9FDeX9e6DpHysjJo/tJV9Pz7FvpcdbNVM2fQc3COZQe8BN6nn0rPc++lZwOXVn73nPfe6pNxFn+3F/pfMgv6HnO7XQ/5RoI5FA1/z0KepfR4+xbWffxfwGo/eYLbCKRLcU8gDtD4UgX1yFEttKNqJgn0hYMcA9esMB1EEkdKuhlqVA4EkJDbUXaUj4aUiXpxF/V9meuY6SKPoHlux8dmPqO6xypwBjzbc87m6iHRByMIVDgr61lrcXW1+Jfe2ysev575HcNkd9tRwBy2nXABHIwgRxsXQ3E434fBGD11AfpOD6r1hXqBtzhOoTIFvOnZDjddQyRLDIYuMJ1CEkdGnKbpULhyNPAka5ziGSho6MV5U+5DiHSLP/u7/vAUNdRUkmdzflqeM0/utWQX+g6i2s2EWfx/RdQv2oxJWPK6TThLACWR26k6ot3yevSh27HXUEgb+Mf1Zp3nqZ26WfE168mUbWGoqHjCe5+XLLn3t+oW7GA4O7HYPLaUbv0MzrufaqLt+fa4dGK8hdchxBplhfsgD8lg6YiEGlb9cBovNjHroOIe+qhl4VC4Ug5KuaJuHJjKBz5/qRSIqnlD6iY9z15Jt73r3l3THedIxWYQA49z7qF3j+/j5rF86hdFgWgS/kF9P7F/eR17kPlJ1O/9zybiFP99Wy6HHER3U/9C5XzplEVnYkJ5ND1yN/S86ybKRq8N2vefZoOux7NylfuZtmTV1P56Vtt/A6dujk5z7FIKrsOFfNEXMjFX1VaRAW9bBMKRwrRsD8Rl/oBv3cdQqRJXnAwmpKhSeWBt/bobxZ95TpHqggUFlPYdyRVX7z37TYTyKH90H2onPf9xYFzSzpT2GcYOUVBAnmFtNtxF2qXfr7RMWvfj1A8fH9qFs0lUNCeLj+8mDXvZNVaETsBv3UdQqRJXnA/4CeuY4hksX3xglk1J4U0TgW97HMxsKPrECJZ7rehcET/DiVV/RXIcx0iVRlD4aT8Py91ncOleGWMRPU6ABJ1NVRH3yevcy/qVi0C/Dn0qj59i7zS73feKdxxLHXLviRRV41NxKlZ8BF5Xfp+d+7qdVR99g7th++Pra8BY8AY/+vsckkoHOm7+cNE2pgXzAFup7FJMkWkLV2HFwy6DiFu5boOIG0nFI70R70uRFJBIXATcITrICIb8YIHA+WuY6S6HcyqXU/K+e9bD8f33911Fhfi61ayPHID2ATYBEVDxtNuwK4sfehiEjWVgCWvW386H/wLACo/fYvaJZ/Scfxp5BQWU7LrUSy5/0Iw0G7HXSgasOu35469MYngnidgTIB2/cew9r0Ii/9xPsU7H+bo3TrTDvgLcLLrICKbOAMY4jqEiLAD8EfgV66DiDtaFCOLhMKRZ1ABQSSVHBGtKH/OdQgRYEOvi1nAMNdR0kG9DXw9vOYfnasp0JyY0pr2jFaUT3MdQgQAL5gPfAqo96hIaogDo7RARvbSkNssEQpHfoCKeSKp5qbkvJYiqeBsVMzbYrkm0fvmvFuzaqUGceLGUDiioY2SKs5DxTyRVJIDXOE6hLijgl4WCIUjAeB61zlE5Ht2BC50HUIEL1gEeK5jpJuDAjP2HGQWzHedQzLabsAJrkOI4AWL8VdAF5HUchxeUDdks5QKetnhBGCw6xAi0qjfhMKRYtchJOtdAPR0HSLdGEP+g/lXr3SdQzLe5cmbsyIuXQB0cx1CRL7HoF56WUsfDjJccpjGJa5ziEiTSvGHsIi44QVLgd+5jpGuupnY2DNyXtIcZ9KayoDjXYeQLOa3Exe5jiEiTVIvvSylgl7m+yEwwnUIEWnWbzSXnjh0ARB0HSKdXZ77QKg9Vetc55CMdpnm0hOHLkbthEgqUy+9LKWCXubTXBciqW8H/AUJRNqWPyfS+a5jpLtck+hxW95NM1znkIw2DPXSExe8YA/gl65jiMhmqZdeFlJBL4OFwpFDgV1c5xCRLfK7UDiS6zqEZJ2fAp1ch8gE+wY+2LPMRD93nUMymnrpiQuXAe1chxCRzTLA5a5DSNtSQS+zXeo6gIhssX7Aaa5DSBbxgvloleUWYwx5D+Zfs9Z1Dslow4HjXIeQLOIFdwTOcR1DRLaYeullGRX0MlQoHJkA7OU6h4hsld9rJUNpQ2eilW1bVKlZO/rcnOfedJ1DMtrl6qUnbeh3QJ7rECKyxQKol15W0YVj5rrMdQAR2WqD0BxJ0ha8YAD4resYmeji3EkDiqlc4zqHZKzhwGGuQ0gW8IId0MgBkXSkXnpZRAW9DBQKR8YB+7vOISLb5BL1vpA2cBww0HWITJRjbPe/5/3tfdc5JKP9wnUAyQqnA+1dhxCRrRZAU29lDRX0MtMlrgOIyDYbCfzAdQjJeBe7DpDJxgVm7z3KfDbPdQ7JWIeGwpEdXYeQjHee6wAiss2OxQt2dR1CWp8KehkmFI70BQ53nUNEtosWKpDW4wV3Bca4jpHJjCHn/vy/VIO1rrNIRgoAP3cdQjKYF9wbf3i3iKSnPPxetpLhVNDLPGei36tIupsQCkc0HFJay09cB8gGHc36kefnPPWG6xySsc4OhSPtXIeQjPUz1wFEZLv92HUAaX0q/GSQ5LxbZ7rOISItQo2wtDwvWAyc7DpGtrgwd/LgDqyLuc4hGakT+rcsrcEfpnec6xgist3K8IJ7uA4hrUsFvcwyHhjgOoSItIgfhcKRXNchJOOcBBS7DpEtAsZ2/Uf+9bNc55CMpcUxpDWcDeS7DiEiLeJs1wGkdamgl1nOch1ARFpMd+AI1yEk42i4bRvbxczbexcz9xPXOSQjjQmFI+p9IS3HCxrgXNcxRKTFnIQX1GrVGUwFvQwRCkeKgeNd5xCRFnWO6wCSQbzgSGA31zGyjTEE7s2/NqEFMqSVqPeFtKRDAK2gLJI5SlCNIKOpoJc5jgdUfRfJLIeEwpFurkNIxlDvPEdKTNWw3+Q+9rrrHJKRjgmFI3muQ0jG0GIYIplHN34ymAp6mUPDbUUyTw7+nGci28cL5gOnuY6RzX6R8/SwTqxZ6TqHZJzOwEGuQ0gG8IK9gXLXMUSkxY3HCw50HUJahwp6GSAUjuyEvyCGiGSeU10HkIxwENDRdYhsFjC29L78az92nUMy0omuA0hGOAH/RqKIZB710stQW1TQM8YcZYyxxpghDbZNMMY813rRvpdhqjFmZvKxyBjzVDPH3miMWWiMCTTY5hljLmqTsG3vR64DiEir2S0UjuiummyvY1wHEBhpvthrj8DHKupJSzsqFI4UuA4haU/thEjmOhMvqIJ9BtrSHnonA68n/+uEtXa8tXa0tXY0MA14orHjkkW8o4EFwL5tl9CNUDhigDNc5xCRVqVeerLt/A9wR7qOIf4CGf/I+2vAkEi4ziIZpQNwuOsQksa8YHdgnOsYItJqegAHug4hLW+zBT1jTDGwN/Bjvj+XUwdjTMQYM9cYc+eGHnHGmJONMR8aYz4yxvwlue08Y8x1Dc77I2PMrcmvTzPGvJ3sfXeXMabJ6rExpgOwP/BUE4dMAD4G7uD7BchRxphpxphPjTE/SZ6vhzFmSvK1PzLGjE9uPzh57HvGmMeSPweMMVFjzJXJ7R9u6LVojCk2xtyb3PaBMebYzZynwhgzO3ns9c38CjZnV6DPdjxfRFLfca4DSFrbB+jiOoT42pvqob/PnaQFMqSladitbI+j0FRMIpnuMNcBpOVtyR/uHwIvWmvnASuMMWMb7NsN+CVQBgwAjjHG9AT+gl90Gw3saow5Cngcv+fcBicCDxtjhia/3ivZ+y5O871RjgJesdauaWL/ycAk4Emg3BjTcOWvkclc44DLk1lPAV5KvvYoYKYxpgtwKXCgtXYM8C5wYYPzLE9uvwPYMIz3MiBmrR1hrR0J/Lep8xhjOid/FsOSx/6pmfe7OZq8ViTzDQuFI71ch5C0pWFUKeacnMjIzsSWu84hGeWIUDjS3nUISVtqJ0Qy36GuA0jL25KC3snAw8mvH2bjXm9vW2u/sNbG8Ytoe+P3GHvVWrvMWlsPPATsY61dBnxhjNkjWdAaArwBHACMBd4xxsxMfr/jZvJMamyHMSYff8jBU8mC31vAIQ0OedpaW2WtXQ78D78g+Q5wljHGA0ZYa9cCe+AXKd9IZjoT6NfgPBuG+84AQsmvDwRu23CAtXZVM+eJAdXAP4wxxwCVzbzfzfnBdjxXRNLHwa4DSBrygoaNb6ZJCggYOj6Qf80c1zkkoxSx8WdekS3jBYPAfq5jiEirG4wX7Lf5wySd5Da30xhTit+jbYQxxuKvfGSNMb9NHmI3ecqm32/qYfwVlOYAT1prrTHGAPdba3+/ubDJHm+70fTFySH4q/h96J+WIqAK2LB4x/fyWmunGGP2we/pdp8x5m/AKuBla21TcwbWJP8bp/mfoWnqPMaY3fCLl8cB5+P/nLdKKBzpAey8tc8TkbR0CHCv6xCSdnYH1LszBQ01X+21T2DWB1MSo0a6ziIZ42CamGNapBkHA3mbPUpEMsGhwF2uQ0jL2VwPveOAB6y1/ay1IWttH2A+MD65fzdjTP/k3Hkn4i+c8TawrzGmS3IuvJOB15LHP4k/hLdhr79XgOOMMd3ALyIaY5qqHB8HPGetrW5i/8nAOcmsIaA/cJAxpii5/4fGmMJkD8EJ+L0C+wFLrbV3A/cAY4DpwF7GmJ2SmdobYwZt5mf1MvCLDd8YYzo1dZ7kPHpBa+3zwK/xh/pui3L8oqGIZL4DQ+GI5reRrXWU6wDSOGMwd+bdUBAgEXedRTLGQa4DSFrSvFoi2UM9uTPM5i4OT8YvwjX0ON8Nu30HuBX4BL/Q96S1djEQxh/SOguYYa19Gr4dhvoJ0M9a+3Zy22z8eeb+bYz5AL8w1qOJPCfR9HDbIvyKc2TDNmvtevwi4xHJTR8kc00HrrLWLsIv7M0yxryPX5S8KTk8+EfApGSmafhDhJvzJ6BTcmGNWcB+zZynBHguue11Np6fb2uoARbJHp3xpycQ2Rq6wE9hRaZ28OW5E99wnUMyxo6hcKS5aWtENuZPy6B5tUSyxwF4wWZHaUp6MdZubpSspKJkT50V+EOMRSQ7XBatKN+eRXQkm/jzIq1EKxemNGtZs0fNrdVLKe3mOotkhJ9FK8rvdB1C0oQXHA287zqGiLSpffBiU12HkJahD/npaywq5olkGy2MIVtjH9TOpzxj6PBA/jWfus4hGUO9cmVraLSPSPZRr9wMog/66esA1wFEpM2NC4UjHVyHkLQxwXUA2TKDAgv3OiAwY6brHJIR9g+FIzmuQ0ja0IW9SPbRv/sMooJe+lJBTyT75LINK2JL1prgOoBsudvybi7OIV7vOoekvY7Arq5DSBrw59HazXUMEWlzO+MFNc1HhlBBLw2FwpFCYG/XOUTECQ27lc3zgh2B0Y5TyFYoNHU7/Sn3n1ogQ1qCbvrKligDCl2HEJE2Z9D1RMZQQS89jUENsEi2OtB1AEkLmj8vDZ2U87+xPVm+2HUOSXu7uw4gaWEX1wFExBnd+MkQ+rCfnka5DiAizuwUCkeKXYeQlLev6wCy9Yyh+MH8q6Ouc0jaG+s6gKQF/X8ikr1U0M8QKuilJxX0RLKXAUa4DiEpT/MipakdA0vGlQemz3CdQ9Jaz1A40sN1CEl5KuiJZK+heMF2rkPI9lNBLz2Ndh1ARJxSUV+a5gUNMNJ1DNl2f8u7vTSP+lrXOSStqVgjTfMXxNBnCZHslYM+K2aEXNcBZOuEwpEAKdw7Z827T7Nu1ktgoXjUIXTY9Yesn/M6sdf/Rd2KBexwxt8o6DHwe8+z9bUs+dfF2Po6SCQoGrwXHcefCsCyZ6+jbtmXtBuwK532PROA1W8+TH6XfhQNGtem708kRagBluaEgA6uQ8i2KzD1/Svy7n71N3U/m+A6i6StXYDnXIeQlDUMzcctku3GAG+5DiHbRz300s9OQJHrEI2pXRZl3ayX2OGMv9Hj7Fuo+vxt6lYtIr9LP7oefQkFfYY1/eScPLqfdDU9z76VHmfdTNX8GdQsnEPtN/MJ5BbQ8+xbqV38KYma9dSvW0ntorkq5kk20111aY7+/8gAxwSm7tbXLP3adQ5JW+qhJ83R/x8iMsZ1ANl+Kuiln9GuAzSlbsXX5PcYTCCvEBPIoaDPcCrnvUlelz7kde7d7HONMQTy/WH8NlEPiTgYgwnkkqivwdqEv90EiE19kODep7bFWxJJVSNC4YhxHUJSlgp6GcAYih7Ku3qh6xyStlSwkeZoQnyRLGUt1ettwZy3EkNSspOQbB0NuU0/KXuhlt+lH6unTCRetQaTm0/VF+9SsMP3h9c2xSbiLL7/AupXLaZkTDkFPQcDkNMuyOL7fkXxsP2oX7UYay0FO+zUWm9DJB2UAP2BL1wHkZSkIdkZok9g2e5HBV5/96nE3rr4lq3VIxSO9IxWlC9yHURSkgq+IlmgzuZ8/Q0dF32UCFVNSwzLn54o22Ge7d03QWAI0I9wJBCtKE+4zinbTgW99JOyBb28Ln3osPtxfPPIZZi8QvK77QhmyzuBmkAOPc+6hUT1Or558s/ULouS3zVE6YHnfnvMN5OvpPSQ84m9+Qi138ynMDSaktGHtsbbEUl1I1FBTxqXsu2EbL3r8u7q+kLNbtU15Gu+K9lawwEV9GRj/oIYuvEjkkGsZc0a2n/5me256t3EYPNGYljH9xID+62jqDfQ1FC5dvjzLut6Io2poJd+UvpCrWTUwZSMOhiAVa/dT25Jl60+R6CwmMK+I6n64j3yu4a+3V756XTyd9gJW1dN3erFdD0qzNJHLqP9sAkE8nSdI1lnJPCU6xCSYrxgCbCj6xjScvJMvN9f8+587fy6/9vXdRZJOwNcB5CUpAUxRNKUtcRryf1yoe2ydJYdUDMtUVb0VmJory/tDr3YtoUzy1BBL62poJdGQuFIZ5qusKeE+PrV5LTvSP2ab6icN40ep1+/Zc+rjGECOQQKi0nU1VAdfZ8Oux/37X4br2fNu0/T7bgrqF+1CEhOH2YTEK+HvFZ4MyKpLaWL++LMEL79AymZojwwffe/muO+mm979nWdRdKKivvSmCGuA4jI5iWsWb6SkgVzE33WvJUYmjMtUdblA7tjqIb8HWm5v+9laEX0tKaCXnrZlqp7m1r21NUkqtZCIIfSg84jUFhM5bw3WfnyXcSrYnwz+Uryu/Wn+4lXUb92BStevJnux19JfN1Klkdu8At0NkHRkPEU7bTbt+dd+16E4uEHEMgrJK9rf2x9DYv+8QvaDdiFQGGxw3cs4oyGy0hj+rkOIC3PGAr/lX/10nE1t6qgJ1tDBT1pTC/XAUTkO9ZSU0VB9Evbbfl7iYH1byaGF7+TGNT3G0q7Als/3G3rlLXy+aWVGWut6wyyhULhyBnA/a5ziEhKSAB5mshWNuIFLwT+6jqGtI6L6855+5H4/rtt/kgRAGZGK8p3dh1CUowX/CtwoesYItmo3gYWLaPjwo8TocppibL8aYmybnNtn35xclx1tJoWrSjf09FrSwtQD730soPrACKSMgL4d+2+cR1EUop6cGWwP+Xe2/Pp+F5V1RS0c51F0oJ66EljeroOIJLprGXtWoqiX9geq99JDLZvJoZ1nJEY2G8NxT1JrX+D29Vj1xhzFPAkMNRaOye5bQJwkbX2B9sbbgszTAVKkt92A9621h7VxLE3AscDfay1ieQ2D1hnrd2yucJSjAp66UUFPRFpqDsq6MnG+rgOIK0nz8R735x366vn1v1mgusskhY6hMKRztGK8hWug0hKSaVigkhas5ZEHblfLrKdl3xgd6ydlihrNz1R1mO+3aE3mJSfLgvoEQpHTLSifFuHbZ4MvJ787xUtF2vLWWvHb/jaGPM48HRjxxljAsDRwAJgX+B/bRKwlamgl15U0BORhroDH7oOISlFPfQy3EGBGXsONF9HP7W9Q66zSFrYEVBBTxpSQU9kGySsWbmK4q/mJXrH3rZDct6MDyudZQf0r6agP9Dfdb5tlAd0ZRs6CBhjioG9gf2AZ9m4oNfBGBMBdsIvnP3cWpswxpwMXIK/gFvEWnuxMeY8YIC19rfJ8/4I2MVae74x5jTg/4B84K3keeJN5OkA7A+c1UTkCcDHwCP4BciGBb1Rxphp+KOfrrXW3m2M6ZE8tgN+3exn1tqpxpiDgSuBAuBz4Cxr7TpjTBR/erQj8H+ux1tr5yR/TrcAuwAWuNJa+3gz56kAjgTqgX9bay9q4v0AKuilm+6uA4hIStHfBNmUCnoZzhjyH8r/84rdau4Iuc4iaaE/8I7rEJJSVNATaYa11FaTH/3Kdlv2fmJg/RuJYe3fTQzus5jO3YFS1/laQU+2bcTPD4EXrbXzjDErjDFjrbUzkvt2w19w40vgReAYY8ybwF+AscAq4N/JIbuPA9OA3yafeyLwZ2PM0OTXe1lr64wxtwOnAhObyHMU8Iq1dk0T+08GJuH34LvaGJNnra1L7hsJ7AG0B95PFiNPBl6y1v7ZGJMDFBljugCXAgdaa9cbYy7Gn5P0j8nzLLfWjjHG/By4CDgHuAyIWWtHABhjOjV1HmPMbfi9CIdYa60xpmMT7+VbKuilF/XQE5GGVNCT73jBAvy7rJLhupnY2DNyXpo2MX7IONdZJOW19gqJkk68YEegyHUMkVRRbwOLlxNcODvRb/30RFnetERZ109s31A9uYOAQa7ztZFewMxteN7JwE3Jrx9Ofr+hoPe2tfYLAGPMJPyefHXAq9baZcntDwH7WGufMsZ8YYzZA/gUGAK8AfwCv/j3jjEGoB3NFx5PBu5pbIcxJh84HLjQWrvWGPMWcAjwXPKQp621VUCVMeZ/+AXJd4B/GmPygKestTONMfviFyrfSGbKxy9GbvBE8r8zgGOSXx8InLThAGvtKmPMD5o4TwyoBv5hjHmuQb4mqaCXXlTQE5GGVNCThnrjD2GQLHB57gOhyfF911dS2N51FklpnVwHkJSi3nmSlaxl/TraRefbHVa+mxhs30gMC76bGNwvRnGP+jXLeiyP/I3E+gjwPMWjD6HDLj/c6PmJmvUsf/Z66tcsg0SCDrsdTfHIg6hb8TXLn70Om4jT+ZBfUNBrKDYR55tHL6frsZcRyCt084a3zlZfTxhjSvGHt44wxlggB7DGmA297Dadk29zc/Q9DJwAzAGeTPZOM8D91trfb0GeLvhFuKObOOQQoCPwYbKAVgRU8V3B7Ht5rbVTjDH7AOXAfcaYv+H3LHzZWntyE69Tk/xvnOZrbaap8xhjdgMOAI4Dzsf/OTdJBb00EQpH8tGHMhHZmAp60lAmDgORJuSaRI/b8m569ay6iye4ziIpTZ8dpSEV9CSj+YtU5CxYYjsv/tD2r3kzMaxwemJoj89tzz5ghjX6pEAOnfb7MQU77ESippLF919AYWhn8rt8N4vJ2vci5HXpS7fjriBeGWPR3T+l/bAJrJ35Ap0OPJfcDt1Z9crf6Xr0UNa+/zzth+2XLsU8gM7b8JzjgAestT/dsMEY8xqwYYGK3Ywx/fGH3J4I/B14G7g5WXxbhd+j7pbk8U8CfwB2Bi5ObnsFeNoYc4O19ptkEbHEWvtlE3mes9ZWN5H3ZOAca+2kZNb2wHxjzIYeyz80xlyDP+R2AhA2xvQDvk7Op1cAjAH+DNxmjNnJWvtZ8jy9rLXzmvlZvYzf2/CC5Gt3AqY3dh5gEVBkrX3eGPMG8EUz5wVU0Esn3VHPCxHZmAp60lCJ6wDStiYEZu1VZqKfz7ahAa6zSMpSQU8a6uU6gEhLSVhWrab4q09t79XvJAYH3kgML52VGBCqpLAf0G9Lz5NbXEpusX9PNFBQRF7nPsTXroAuG09LnKitwlpLoraKQGEJBHIwObnYuhpsfQ0EckhUr6Pqs7fpdsKVLfpeW9m2FPROxp8Pr6HHk9sfwR+ueivfLYrxZHJRjHDy+w2LYjwN3w5D/QQos9a+ndw22xhzKf5cewH8Ibu/wC8SbuokoKKxoMmi3aHAeRu2Jeetex1/AQuAD5K5ugBXWWsXGWPOBH5rjKkD1gFnWGuXJRftmJQs8oE/F15zBb0/4RfvPsLvuXeltfaJJs6zFr+IWZj8GV3YzHkBFfTSiYbbisimVNCThlTQyzLGkPdA/jVrxtbc5TqKpC4V9KQh9dCTtGMtddXkRb+23Za9nxhQOy0xrPjtxJDeC+m6Ay38N64+tpTapV9Q0HPwRttLxvyAb564ioW3nUGitoouP7wYYwKUjCln+XN/w8br6HzI+ax+82GC447Hrz+lja0e4WGt3a+RbTc3+HafJp43CX9hisb2/aCRbY/gFwg3l2dCM/sqaeQ9WmuPaeTwhvvvx1+1dtPt/wV2bWR7qMHX7+L39MNauw44c0vPgz90eIupoJc+dOEuIpvS3wVpSAW9LNTZrN35JzmRN++Ol+/pOoukJBX0pKFurgOINCduzdLlBL/+JNF3XXKRii6zbShUR+5AYGBrvnaitoplT15N6QE/IVCw8doxVfPfI7/bjnQ/6WrqVy9m6SOXUdh7GLkdurHDKX7HsLpVi4ivXUFe5z4sf+6v2Hg9HcefRl5pyneM3ZYeepIiVNBLH/qHJiKb6hYKR0y0onxzE81KdlBBL0uFc/81YFJ8vzXrKOrgOoukHBX0pKF81wFEAKylaj2F86N2h5XvJgYl3kwM7/BOYlDfVXTojoMb1jZez7Inr6Z92QSKBn///tj6D/9Dhz2OwxhDXqee5Aa7U7diwUY9+VZPeYCO409jzYxnKR55MLnB7qyacj9dj/jt986XYlRnSGMq6KWPHNcBRCTl5AJ5QK3rIJISVNDLUjnGdv973t9eO6Xu0n1dZ5GUo4KeNJRW4wAl/VmLrSdnwVI6Lfkw0b9qWmJYwfTE0B0+tb36WgJlrvMBWGtZ8cJN5HXuQ4fdGl8kNadDV6q/nEVhn+HE16+ifuXX5Hb8bkas6q8+JKe4lLzSXti6GjAGjPG/Tn1Fmz9EUpUKeulDC2KISGNyUUFPfCroZbFxgdl7jTSff/qBHdCqQ5Ik7ajXpjSkgp60GmuJxWgf/cz2ir2dGGLeTAzr9H5ip9B62vUF+m72BI7ULJzN+o//R17XEIvu/SUAnfY5g/o1ywAo2flwgnuexIrnb2TRP34BWDpOOIucoiDgFwRjbz5Clx/6i7OWjDqU5c9dj03EKT34507e01ZSTSiN6ZeXPlTQE5HG6O+4bKCCXhYzhtyJ+RVVo2vudh1FUotGeEhDup6Q7WYt9TXkffm17bJ0lt2pdlqirP1biaG9FthuPYFRrvNtrcLew+h38XPNHpNb0pnuJ17V6D5jDN1P+tO33+d16UOPH93UohlbmdqJNKYLQRGR9Ka/47KBhkxkuY5m/chf5Dz1+m3xo/Z2nUVShi7UpCH10JOtErdm2Uo6LPgk0XftW4mhOdMSZV0/sv1DteQNAAa4zictQtcSaUy/vPShO2oi0hj9HReRb/0m97HBD8QPjK2hOOg6i6QEFfSkIRX0pFHWUl1JQTRqd1j+XmJg/I3EsJJ3E4P7LKdjV6Cr63zSqnQtkcb0y2vAGHOBtfZG1zmaoIKeAGBIJI4MTHuvvamKu84i7q2yJQEodx0joxhjnmluv7X2yLbKspW02rEQMLbr4/neG/fGD9VnPMFi4mojWpYx5haa+Xtrrf2/NoyztVTQE+D7w2ZnJXYsqCcngL/YWl6pWVt3cM67XwBfOI4qrayenG/UTqQvfdjb2IXAja5DNEEFPQHAEgh8YPt3m5T356U7mFW7us4jqeCPrgNkmnHAAmAS8Bbp8/c34TqApIaBgUV7XR34p+sYkhpq4W+uM2Sadxt8fSVwhasg2yBd2jNpZcaQW0jdgJ3M4gE7sZhjc6a6jiTufArXu84g20gFvY2pkZO0MN/27LtHzW19T8555e2rcu/tmWsSvV1nEmfUU7Pl7QAcBJwMnAJEgEnW2o+dpto8FfREZFNqI1qYtfb+DV8nR/fc39zxKUY99ERkU/WuA8i2U0FvY6k8XEnFRvmeSfEDdnsqvnflzXm3vHpg4L09jSHfdSZpc7pYa2HW2jjwIvCiMaYAv7D3qjHmSmvtrW7TNUsfyERkU2ojWlcqXzs0JmULejdNr+Hu9+qwwE/G5HHBHgWcOLmSucv9e1Wrqy0dCw0zzyve6HkLYgnOeKqKpessxsC5Y/L41R4FAFz8cjUvfFbP6B1ymHh0OwAe/KCW5ZWWC5LHiIg+P6azrCvoGWPW0njja4B2bRxna6igJ42qoqDoJ3UXTRhsvpr/UP7Vq7qYNWNcZ5I2pYu1VpAs5JXjF/NCwM3Aky4zbYEa1wFEJOWojZCGUrKg99E3ce5+r463f9Ke/Bw49MFKfjAoj0eO+27x9t+8VE2w8PuXQ7kB+OvBhYzpkcPaGsvYv6/noAG59CoJ8N6SOB/8rJhznqniw6VxdioNcO/MOl48VYvCizSggl4aS8k/6q3JWltire3QyKPEWpvKBU4V9KRZc23f/rvU3DnmyrrTp8VtYLHrPNJmql0HyDTGmInANGAMcKW1dldr7VXW2oWOo21OresAIpJyKl0HyDTGmLXGmDXGmDXAyA1fb9juOt9mpOT1xCfLEuzeK4eiPENuwLBvv1ye+KTu2/3WWh6dXcfJw79/qdajJMCYHv5iziUFhqFdAyxcYwkYqIv7z62ss+TlwPVv1vLL3fLJy0nJH4OIKyropbGsK+ilMfW8kC1yb/ywcSNr7i6ZEh/xmrX6A53hqvBi+tvQ8k4DBgK/At5Mo4s1/b8gIpta7TpAptmkc0DuJp0DOrjOtxkpeRNweLcAU7+Ks6IyQWWd5fnP6lkQ+25a2Klfxene3jCwc06z54muTvD+4ji7986hpMBw+MBcdr5rPT2KAwQLDG8tjHPUkLzWfjsi6UbXi2kslXukycZWuQ4g6WM97YrPqPv9vsPM/M8ezL9mfSezbpTrTNIqVroOkImstel6syuVi40i4oY+P0pDKfm5YWjXHC7eK5+DH6ykfZ5hdPcAOYHvetFN+rCOk4c3X4hbV2s59tFKbjy0kA4F/nN/t1cBv9vLnyvvnGeq+ON+BdzzXi3//ryekd1zuHQfzaMnAsRcB5Btl64XLdlohesAkn4+tv132rnm76Mq6k56I27NMtd5pMXpQk0a0r9xEdmU2glpKGWvJ348Jp8Z5xYz5az2dGpnGNTZv0ytT1iemFPPic0U9OrifjHv1BF5HDP0+8e9vziOtTC4c4DHZtfx6PFFfL4qwacrNMWkCKCpmtKYCnrpIyXvqEl6uDN+5F6ja/6e/1ZiyGvWaoLsDKK/C9KQCnoisqnVLl7UGBM3xsw0xswyxrxnjNlzC56zrgVfvyT5+hsey40xNzZz/FPGmOmbbLvPGHNcS2VKESn7ueGb9f4Q269iCZ74pJ5TRviFuf98EWdIlwC9OzR+2Wqt5cfPVDO0Sw4Xjmu8x91l/6vhqv0LqEtAPDmSNwBU1jV6uEi2WeI6gGw7DblNHynbAEt6WEv74Im1l+87xsybc1/+X+o7mKrhrjPJdlPPC2louesAIpJyXLUTVdba0QDGmEOAa4B92+rFrbVrgdEbvjfGzACeaOxYY0xHYCywzhizo7X2i7bI6EjK9tA79tEqVlT6i1fcdnghHZMr2j780feH2y5am+CcZ6p5/tQi3lgQ54EP6hjRLcDoO/2a8NUHFHD4QP85T82pY5eeAXqW+AXB0TvkMOKOdYzsHmDUDs3PySeSJdRDL42poJc+UrYBlvTynh00ZGTNPfbXuZOn/jLnqbKAsZ1dZ5JtpkK/NKQeeiKyqVS48dOBBjmMMb8FTgAKgCettVc0PNgYY4BrgcMAC/zJWvuIMeY24CVr7TPGmCeBVdbas40xZwMDrLV/aOzFjTGDgG7A1CbyHQM8CywFTgKubrDvQGNMOPkeLrTWPmeMGQbcC+Tjd/Q61lr7qTHmNOD/ktvfAn5urY0nex7eBPwAqAJ+aK1daozpDtwJ7Jh8rZ9Za99s7DzJ/f8Adkn+TP5prb2hiffTnJT93DD1rPaNbr/vqHbf29azJMDzpxYBsHffXOwVTa9FctSQvI0Wwrj+4EKu386sIhlGPfTSmIbcpoloRXk1mvBcWowxN9QfP35MzZ2BmYkBU60lsfnnSApKhQs1SR0q6InIply1E+2SQ13nAPcAVwEYYw7GX0V8N/wedGONMfts8txjkvtGAQcC1xljeuAX5MYnj+kFlCW/Hg9MaSbLScAj1lrbxP6TgUnJx8mb7Asls5YDdxpjCoHzgJuSPRB3Ab42xgwFTgT2Sm6PA6cmz9EemG6tHZXM+ZPk9puB15LbxwAfN3Oe0UAva+1wa+0I/ILitlA7ISKbUg+9NKaCXnrRPzZpUasp6XRU7VXjT677wyfrbeEnrvPIVkvZO+3igBerAVpsDioRyQiu2okqa+1oa+0Q4FBgYrLn3cHJx/vAe8AQ/AJfQ3sDk6y1cWvtUuA1YFeSBT1jTBkwG1iaLPSNA95sJstJ+MW670n2khsIvG6tnQfUGWMaTknyqLU2Ya39FPgimXcacIkx5mKgn7W2CjgAf9juO8aYmcnvN/S8qwWeS349A79ICLA/cAdA8r3GmjnPF8COxphbjDGHsu03+Rdu4/NEJHOph14aU0EvvSxyHUAy0/TEsGHDa+4Z/Pf68inWaunyNKIiv2xKvS9EpKEvXQew1k4DugBdAQNckyz2jbbW7mSt/ccWnmch0BG/QDgFv8B3ArAuOWfe9xhjRgG51toZTZz2BKATMN8YE8UvtjXspbdprz5rrf0XcCT+8NnnjTH7J9/X/Q3e12BrrZd8Tl2D3oFxmp/yqNHzWGtX4fdYfBW/h+A9zZyjaV5sOVCzTc8VkUyl64k0poJeelFBT1qNJRC4uv7UfXapuaNudqLv69Z+70OspJ7PXQeQlLPUdQARSSnOF3gwxgwBcvDng34JONsYU5zc18sY022Tp0wFTjTG5BhjugL7AG8n900HLuC7gt5FND03Hnw3nLa5/Ydaa0PW2hB+77iTGuw/3hgTMMYMwO8pN9cYsyPwhbX2ZuBpYCTwCnDchvdijCk1xvRr5nVJPudnyeNzjDHBps5jjOkCBKy1jwOX4g/R3Va6eBeRDdbhxda7DiHbTotipBcV9KTVrSDY5fDair0nBGZ+cEfejYXtTO0g15mkSSroyaY+B/ZwHUJEUkIt8LWj126XHDIKfq+zM621ceDfyXnipvkjcFkHnAZ80+C5T+IPo52F30Pud9baDUPCpgIHW2s/M8Z8CZTSfEHvBODwxnYYY0JAP/wiIQDW2vnGmJgxZvfkpq/wi4kdgPOstdXGmBOA040xdfhD1a621q40xlyafH8BoA74Bc33kPwV8HdjzI/xe+79zFo7rYnzVAH3JrcB/L6Z827OQr4b9isi2U0F/jRnmp4fVlJNKBz5FXCj6xySPXKI11+RO/GN03NeHmMMJa7zNHTDtBrueb8OA4zoHuDeH7ajMNd8u//XL1bzv2g9AJV18M36BKvDHZi7PM4pT1RRF4e7flDIuD651Ccshz5YyTMnF1GUZ5p4xZRTDRThxfRHXL7jBS8HrnQdQ0RSwmd4sU3np5Ns5wUfwS90iohMxYttujCRpBENuU0vn7oOINklTk7u5fVn7Tuu5tbKzxI9m5twuk0tXJPg5rdrefcn7fno58XEE/DwR3UbHXPDoYXMPK+YmecV88vd8jlmaB4Ad82o46ZDC3n+1CKun1YLwB3v1HHayLx0KuYBfKFinjRC7YSIbOB8uK2kpK9cBxCRlKEeemlOBb308oHrAJKdllDa/cDa6/f8ae0F79fYvJQY5lmfgKp6qE9YKuugZ0nTf84mfVTHycP9gl5ewO+xV1lnyQvA6mrLs/PqOGNUXltFbykp8XuQlDPPdQARSRnzXQeQlPSR6wAikjIWuA4g20cFvTQSrSj/GljlOodkr5cSu+08rOYffR+t3+dVa3E2gWqvDgEuGpdP3xvW0uOv6wgWwsEDGp8S9MvVCeavTrB//xwAfrFbPldPreHMp6q5ZHwBV71WwyXjCwiYtOqdByroSePUQ09ENlAPPWnMLNcBRCRl6O9BmlNBL/186DqAZLd6cvN+V3/ehPG1N8W+SnSbvvlntLxVVZan59Yz/1fFLLqwmPW18OAHtY0e+/BHdRw3NJecgF+w6xsM8OqP2jPtx+0pyjN8vTbB0C4BTn+yihMnVzJvRbwt38r2UEFPvs+LrUEr3YqITwU9acxs/MU2RETedx1Ato8KeulHw24lJXxtu/bcp/bGPX5V+4t3a21Oc6u4tbj/fFFP/44BurYPkJdjOGZoLm8uaLwQ9/DHdZw8ovHhtH/4bzV/2q+Am9+q5Zyd87j2wEKufK2mNaO3JBX0pCnqpSci4BduRDbmxWrR/xsi4q+e/YnrELJ9VNBLP+qhJynl6cReuwyv+ecOz8THvWYt1W3xmn2DhukL41TWWay1vDI/ztAuOd87bs7yOKuqLON6f3/fa9F6ehYHGNg5h8o6CBj/UZk+96z1t0Caonn0RGQ9MMd1CElZGmYnIh/ixdJmaJI0TgW99KMeepJyaskr+L+6X+67X+1fly2ypW+39uvt3juX44bmMuau9Yy4Yz0JC+eOzePy/1XzzNzvKnIPf1THScPzMJvMj2et5U9Ta7hs3wLAf+6vXqym/F+VXDQuv7Xjt4QleLGvXYeQlKULNRGZhRdLuA4hKWum6wAi4tx7rgPI9mt8FnlJZR8BFki7Gfwl80Vtjz571tza54Sc/73959x/9swz8d6t9VpX7lfIlfttvO2P+xVu9L03YePvNzDG8PLp7b/9fmjXHN77aXGLZ2xF77gOICntLdcBRMS5Ga4DSErTjR8R0fx5GUA99NJMtKJ8HTDfdQ6R5jwa32+3ETX3dP53fOyr1tL4ahWyPVTQk+bMBP27E8lyKuhJc2a6DiAizqmglwFU0EtPGnYrKa+agnbn1v1mwiG1f1m4zAZ1YdGyVNCTpnmxGtT7QiTbaSiVNM2LrQQWuI4hIs7Uo5pCRlBBLz1pMnxJG/Nsn/671twx9oq6M6bFbWCx6zwZQgU92RwNuxXJXlVoFVPZPN34EclenyRvAEuaU0EvPemuq6Sd++OHjhtZc3fJlPiI16yl3nWeNDYfL7bCdQhJea2+OI2IpKxZWrlQtsBM1wFExBnVEzKECnrp6TVAH9Qk7aynXfEZdb/f9we1f46ussUzXedJU+qdJ1tCPfREspcK+rIlNH+WSPbSv/8MoYJeGopWlK8C3nWdQ2RbfWz777Rzzd9HV9Sd9EbcmmWu86QZXajJlvgUWOU6hIg48YrrAJIWpgIJ1yFExAnNb54hVNBLXy+7DiCyve6MH7nX6Jq/509PDH3NWvU63UL/cx1A0oAXs8CbrmOISJurB151HULSgBdbhjoIiGSjNWgkR8ZQQS99/dt1AJGWsJb2wZNqL9v3mNorP1tji7TgS/NWoC7ysuVech1ARNrcO3ixNa5DSNp4wXUAEWlzL+PF6lyHkJahgl76mgasdR1CpKW8bwcOHllz9/Ab64+ZmrBGiz407r/JnlciW0IXaiLZRyM4ZGs87zqAiLS5iOsA0nJU0EtT0YryejT0TjKOMTfWHzd+TM2dgfcTA6ZYq7ldNrFNF2rGmLgxZqYxZpYx5j1jzJ5b8Jx12/JaTZyrJPn6Gx7LjTE3NnP8U8aY6Ztsu88Yc1xLZcoKXuwz4HPXMUSkTf3HdQBJK+8Cy12HEJE2Y1EhP6OooJfedBdWMtJqSjodXXvVPifVXjpnvS38xHWeFLKtQyirrLWjrbWjgN8D17Rgps2y1q5Nvv5oa+1o4EvgicaONcZ0BMYCQWPMjm2XMmO96DqAiLSZdcD0zR4lsoEXS6DpGUSyybt4saWuQ0jLUUEvvWkePclob9mysuE19wy+q758SsKy2nUexz7Ci33VAufpQIPVT40xvzXGvGOM+cAYc+WmBxvfdcaYj4wxHxpjTkxuv80Yc2Ty6yeNMf9Mfn22MebPTb24MWYQ0A1/db3GHAM8CzwMnLTJvgONMe8aY+YZY36QPN8wY8zbyZ5/HxhjBia3n9Zg+13GmJzk9nXGmD8neytON8Z0T27vnnwfs5KPPZs6T/JxX4Ofya8390N3SMNuRbLHa5oXSbaBeuuIZA8Nt80wKuilsWhF+Tz8ni4iGcsSCFxTf+o+u9bcUT870fd1a8nWOeS25wN3u2RBag5wD3AVgDHmYGAgsBswGhhrjNlnk+cek9w3CjgQuM4Y0wO/IDc+eUwvoCz59XhgSjNZTgIesdY29Xs8GZiUfJy8yb5QMms5cKcxphA4D7gp2fNvF+BrY8xQ4ERgr+T2OHBq8hztgenJ3opTgJ8kt98MvJbcPgb4uJnzjAZ6WWuHW2tHAPc2835d+x9Q4zqEiLQJ3eiVbfESaIoTkSzxnOsA0rJU0Et/GnYrWWEFwS6H11bsfWbdxR9W2fx5rvM4sD131DYMuR0CHApMNMYY4ODk433gPWAIfoGvob2BSdbauLV2KfAasCvJgp4xpgyYDSxNFvrGAW82k+Uk/GLd9yR7yw0EXrfWzgPqjDHDGxzyqLU2Ya39FPgimXcacIkx5mKgn7W2CjgAf9juO8aYmcnvNwzfreW7DzMz8IuEAPsDdwAk32usmfN8AexojLnFGHMokLorSnqxSpruDSkimcMCT7oOIWnIi60A3nYdQ0Ra3RL8z/uSQVTQS3+a90KyypTEqJHDav45YGL9Qa9Zm8KFlJa1nOaLZFvMWjsN6AJ0BQxwTYP57Xay1v5jC8+zEOiIXyCcgl80OgFYZ61tdAVuY8woINdaO6OJ054AdALmG2Oi+MW2hr30Nu3VZ621/wKOBKqA540x+yff1/0N3tdga62XfE5dg96BcSC3mbfZ6Hmstavweyy+it9D8J5mzpEKdDdWJPNNw4stcB1C0pamZxDJfM/jxbJ1pFPGUkEv/b2APwmySNZIEMi5vP6sfcfV3Fr1aaLnG67ztIFH8WL1LXEiY8wQIAdYgX9D4GxjTHFyXy9jTLdNnjIVODE5b1xXYB++u5M/HbiA7wp6F9F8b7ANw2mb23+otTZkrQ3h945rOI/e8caYgDFmAH5PubnJhTO+sNbeDDwNjAReAY7b8F6MMaXGmH7NvC7J5/wseXyOMSbY1HmMMV2AgLX2ceBS/CG6qewxNJxKJNM96jqApDXNoyeS+XSDNwOpoJfmohXl64HJrnOIuLCE0u4H1V6/17m1v36/xuZ97jpPK3poO5+/YQ69mcAjwJnJYaX/Bv4FTDPGfIj/t6Rkk+c+CXwAzAL+C/zOWrskuW8qfo+7z/C78JfSfEHvBJoebhsC+tFghUZr7XwgZozZPbnpK/xi4gvAedba6uQ5P0q+t+HARGvtbPxC27+NMR/gT03Qo5lcAL8C9kv+HGYAZc2cpxfwavI1H8RfOTh1ebFF+HPpiUhmsviFe5FtNQPQypcimasWTdWVkUzT85JLugiFIxPQxZpkuVzq6/6c+483Tsh5bVdjaO86TwuajxfbcfOHiTTDC54F/NN1DBFpFa/jxcZv/jCRZnjBG/FvbolI5nkZL3aw6xDS8tRDLzO8BkRdhxBxqZ7cvIvrfzphfO1NsS8T3aZv/hlpo7khqiJb6nGg2nUIEWkVj7gOIBnhbtcBRKTVPOg6gLQOFfQyQLSi3AIPuM4hkgq+tl177lt74x6/rD3/3VqbG3WdpwVs73BbEfBia9i+lZJFJDUl0NQr0hK82Mc0mPZCRDLGGtROZCwV9DLHRNcBRFLJs4k9dxle848eT8f3fNVaqlzn2Uaz8GKzXYeQjKHisEjmmYIXW7L5w0S2iHrpiWSeR/Bila5DSOtQQS9DRCvKPwOyYbVPkS1WS17Br+rOn7Bf7V+XL7Sd3978M1KOCjDSkp4HVrsOISItSgUYaUmPAGtdhxCRFqU5lDOYCnqZ5X7XAURSUdT26LNXzS27/bbu3LfrbM7XrvNsoQSaP09akherAR51HUNEWsw3aBiVtCQvth599hDJJLPxYhpKn8FU0Mssj6JJz0Wa9Fh8wm4jau7p/FJ8l1etpcZ1ns14Bi+WLsVHSR+3uw4gIi3mn3ixWtchJOOo16dI5lDvvAyngl4GiVaUx4CnXOcQSWXVFLT7ad2FEw6uvXbxNzY4w3WeZtzsOoBkIC82C5jiOoaIbLcEcJfrEJKBvNi7wEzXMURku1UB97oOIa1LBb3Mc5/rACLp4FPbO7RbzR1jL687c1q9DSx2nWcTH+LF/uc6hGQsFYtF0t8LeLGo6xCSse5xHUBEttskvNhK1yGkdamgl3leBua6DiGSLibGDxk3qubuktfiI1+1ljrXeZJuch1AMtpTwFeuQ4jIdrnDdQDJaA/h9+4RkfR1q+sA0vpU0Msw0YryBPBX1zlE0sl62hWfWReeUF579VcrbclMx3GWo9VtpTV5sTiaS08knUWBF1yHkAzmxVYDj7mOISLbbBpe7H3XIaT1qaCXmSYCS12HEEk3s21owJiau0ZfXXfKG3FrvnEU4268mBa3kdZ2N+p9IZKu7sCLJVyHkIx3p+sAIrLNbnMdQNqGCnoZKFpRXgPc4jqHSLr6e/wHe42qubtwWnzoa9YSb8OXrkc9p6Qt+HOqqCeoSPpZhYbbSlvwYtOA11zHEJGtthD1sM0aKuhlrtuBda5DiKSrdRR1OLnusn2Prv3jZzFb9GEbvezjeLGv2+i1RG4ArOsQIrJVbsKLrXUdQrLGVa4DiMhW+xNerNZ1CGkbKuhlqGhF+SrgLtc5RNLdTLvT4FE1dw+/oe7Y1xPWLG/Fl7LAn1vx/CIb82KzgUddxxCRLbYGLZokbcmLvQJMcx1DRLbYfOAfrkNI21FBL7Ndh+ZIEmkBxtwUP3bvnWvuyn0vsdMUa2mNuYsexYu1VU9AkQ08aJX/n0Wk5d2SXKxApC2pl55I+rgSL1bnOoS0HRX0Mli0onwp6qUn0mJiFHc8pvaP+5xUe+mcdbZwdgueOg5c0YLnE9kyXmwOMMl1DBHZrHX4w+RF2pYXewGY4TqGiGzWHOBB1yGkbamgl/muBbRipkgLesuWlY2ouWfInfU/mJKwrG6BUz6IF5vbAucR2RZXQpsu/iIiW+92vNgK1yEka3muA4jIZl2BF9PnuSyjgl6Gi1aULwb+7jqHSKaxBAIV9afss2vNHfUfJ/q9bu02Ly5Qh19QEXHDi32K7uiKpLJK4HrXISSLebHngDddxxCRJs1CK9tmJRX0ssNf8D8MikgLW0GwS3ntNXufURf+qNLmb0svu3/ixea3eDCRrfNHoN51CBFp1K14sWWuQ0jWC7sOICJNuhwvtq2dCySNqaCXBaIV5YuAq13nEMlkUxMjRwyv+edO99Yf8pq1rNnCp1WjyaYlFXixL4D7XccQke9Zjj7DSSrwYlOBF1zHEJHveQsv9ozrEOKGCnrZ43rgc9chRDJZgkDOlfVn7rtHza3V8xK93tiCp9yFF1vY6sFEtswVwHrXIURkI1fixWKuQ4gkXQLbPMWIiLSOy1wHEHdU0MsS0YryGuAC1zlEssFSSrsdXHvdXj+pvXBmtc1rqpC+An+Yo0hq8IvLFa5juLC62nLco5UMuXUdQ29bx7QF/ujjW96qZcit6xh2+zp+93LT60vFE5ad71rHD/713ewWpz5Rycg71nHJK989709TanhqTl3rvRHJNHOAO12HEPmWF5sJPOw6hoh86zW82MuuQ4g7KuhlkWhF+XNAxHUOkWzxcmKX0cNr/tH34foJr1r7vZ5Pl+LFVjoJJtK064Go6xBt7VcvVnPoTrnMOb+YWee1Z2jXHP43v56n59Yx67z2fPzzYi7aM7/J59/0Vi1Du3z3keqDpXHa5Ro++Fkx7yyKE6u2LF6b4K2FcY4aktcWb0kyw2/wYprbUlLNRYB6jYq4Z/F7zUoWU0Ev+/wKqHEdQiRb1JObF64/d8LeNTetiSa6T0tufh+tPi2pyItVA79xHaMtxaotU76s58c7+4W2/BxDx0LDHe/WEt67gIJcA0C39o1/ZPp6TYLIp/WcM+a7gl9eAKrqLQlrqYtDTgAu/18NV04oaP03JJniObzY865DiHyPF1uEFsgQSQV34cW0+nSWU0Evy0Qryj/H74EhIm1oIV17TKi9Ydz5tee/u9q2/wVeLOE6k0ijvNgTwEuuY7SV+asTdC0ynPV0NTvftY5znqlifa1l3ooEU7+sZ/d71rHvfet5Z2G80edf8GI11x5YSMB8t21o1xy6FgUYc9d6jhiUy2crEyQsjOmR00bvStKcpkmRVHcXsCVzBYtI61gIXOw6hLingl52uhpY4DqESDZ6LrHnrI5XLpq2+SNFnDqfLOnNXZ+A9xYn+Nkuebz/02La5xkqXq+hPgErqyzTf9ye6w4q5ITJlVi78Vzwz82ro1t7w9ie3y/U3XhoITPPK+Y3exZw2f9quGr/Av48pYYTHqvk7hm1bfX2JD39DS+mhcwkdXkxC/wE0B8zETd+hhdb4zqEuKeCXhaKVpRXkmVDqkRSxDfAb12HENksL/YZcK3rGG2hdwdD7w6G3XvnAnBcWS7vLUnQu4PhmKF5GGPYrVcOAQPLKzcu6L3xVZxn5tYTunEtJ02u4r/z6zntiaqNjnl6Th1jewRYV2v5fFWCR48vYvIndVTWaaFIadRctGCSpAMv9glZupCSiGOP4MWedR1CUoMKelkqWlH+GPBf1zlEssyF0YryVa5DiGyhq4F5rkO0th2KA/QJBpi73B9S+8r8esq6BDhqSB7/i/rrEcxbEac2Dl2KzEbPvebAQr6+sIToBSU8fFw79u+fy4PHtPt2f13ccuNbtfxurwKq6mDDs+MJqG18BK9ktwRwVnIuS5F0cDX+aswi0jZWAv/nOoSkDhX0stsvUVd5kbbycrSi/CHXIUS2mF9UOAPI+NLTLYcVcuoTVYy8Yx0zlyS4ZHwBZ++cxxerLMNvX8dJk6u4/6h2GGNYtDbB4Q9VbtF5b3unljNH5VGUZxjZPUBlvWXEHesY2yOHjoVm8yeQbHMjXkxTMkj68GI1wLn4q22KSOv7NV7sG9chJHWYTeeDkewSCkcuBP7qOodIhqsERiYXpRFJL17wz8AlrmOIZLh5wGi8WNVmjxRJNV7wLvzCnoi0npfwYoe6DiGpRT305AayaDVDEUf+T8U8SWMeMNNxBpFMtmGorYp5kq5+Byx2HUIkg60Hfuo6hKQeFfSyXLSi3AJn4k/WLyItb1K0ovwfrkOIbDMvVgecTpaseiviwE14sTddhxDZZl4shub1EmlNf8CLfek6hKQeFfSEaEX5UuBHaP4LkZb2OXCe6xAi282LfQRc7jqGSAb6FPiD6xAi282LTQYedh1DJANNB25xHUJSkwp6AkC0ovwF4GbXOUQySC1wUrSifI3rICIt5HrgddchRDJIDXCShtpKBvkJ8InrECIZZDVwGl4s4TqIpCYV9KShi9E8SSIt5ffRivJ3XYcQaTH+h8kzgZjrKCIZ4ld4sfdchxBpMV5sHXAMsNZ1FJEMYIFT8WKah1uapIKefCtaUV4DnIK/IqeIbLsI/oIzIpnFi32BP5+epmgQ2T4P4cXuch1CpMV5sTnA2a5jiGSAK/Fiz7sOIalNBT3ZSLSi/BPg165ziKSxRcCPkgvOiGQeL/Ys8GfXMUTS2Gy0WqFkMn8+vb+5jiGSxp4D/ug6hKQ+FfTke6IV5X8HnnCdQyQNJYBToxXly10HEWllVwAvug4hkobWA8fhxda7DiLSyi4GproOIZKGPgNOx4upc4Bslgp60pQfA3NchxBJM3+KVpS/6jqESKvz59M7BfjCdRSRNHMuXkyLBkjm82L1wAnAYtdRRNLIeuAYvNhq10EkPaigJ42KVpSvBg4HvnEcRSRdqGu8ZBcvtgo4FtAKnSJb5g682L9chxBpM15sCX5Rr951FJE0cQ5e7EPXISR9qKAnTYpWlM8HjkAXayKb8w5wYrSiPO46iEib8mIzgXNdxxBJAy8B/+c6hEib82KvA79zHUMkDdyAF3vYdQhJLyroSbOiFeVvA6fizw0mIt/3OfCDaEW5VoeW7OTFHgSucx1DJIXNAo5PDkEUyT5e7AbgMdcxRFLYq6jwLdtABT3ZrGhF+ZPARa5ziKSg5cBh0YpyDU2XbHcx8KDrECIp6GugHC+21nUQEcfOAqa7DiGSgr4GTtRNH9kWKujJFolWlN8A3OI6h0gKqQKOiFaUf+o6iIhz/kpsZwP/dh1FJIWswS/mLXQdRMQ5f2Xnw4EPXEcRSSErgUPxYuocINtEBT3ZGhcAz7gOIZIC4sDJ0Ypy3WkW2cCL1eEvkjHDdRSRFFCPP8xWxQuRDfzFlA4GdDNUBNYBh+PFPnYdRNKXCnqyxaIV5QngZOBd11lEHPu/aEX5065DiKQcL+Z/OPXnlhTJZj/Fi6nHqsimvNhS4EDgK9dRRByqBY7Gi73lOoikNxX0ZKskJ/4/AvjSdRYRR/4SrSi/3XUIkZTlDxs5FNDwEclWF+PF/uk6hEjK8mJf4Rf1lrqOIuJAAjgVL/Yf10Ek/amgJ1stWlG+BDgIWOQ6i0gbewj4vesQIinPi32G31Mv5jqKSBv7PV7sWtchRFKeF/sUf/jtKtdRRNqQBc7Fi012HUQygwp6sk2SCwFMADTRs2SLScCPohXl1nUQkbTgxWbg3/zRxZpkiz/gxSpchxBJG/4ck4fhzyUmkuks8DO82D9cB5HMoYKebLMGRb2vHUcRaW13A6dFK8q1nLzI1vBi7wAHACtcRxFpZZfhxa52HUIk7fhziP0QqHYdRaSVnY8Xu8t1CMksxlp1NpHtEwpHBgD/A/q4ziLSCv4WrSj/jesQImnNC44AXgG6uo4i0gquwIv90XUIkbTmBY8AngByXUcRaQW/xIvd6jqEZB710JPtFq0o/xzYF/jCdRaRFuapmCfSArzYh/g9upc4TiLS0q5UMU+kBXixZ4ETgRrXUURa2K9VzJPWoh560mJC4UgP4GVgmOssIi3gN9GK8r+5DiGSUbzgIOC/QC/XUUS2k8VfAOMvroOIZBQvOAF4Cgi6DSKy3WqBn+DFJroOIplLBT1pUaFwpBR4AdjNdRaRbZQAzotWlN/tOohIRvKCA4B/Azu6jiKyjWqBs/FiD7kOIpKRvOAo/OuJHq6jiGyj1cDReLFXHeeQDKeCnrS4UDhSDDwN7O86i8hWqgfOiFaUT3IdRCSjecGu+O3EONdRRLZSDDgGL/Zf10FEMpoXDAEvAYMcJxHZWvOBw/Fic1wHkcynOfSkxUUrytcBhwO6cy3ppAY4VsU8kTbgxZbh3/R51HUUka3wNTBexTyRNuDFosBewHTHSUS2xlvAHirmSVtRDz1pVaFw5DfAX4Ac11lEmrEUv5j3husgIlnFCxrgz8DvXUcR2YyPgMPwYl+7DiKSVbxgIXAf/oIZIqnsceB0vFiV6yCSPVTQk1YXCkcOBB4GOrvOItKId4GjoxXlukgTccULng3cCeS5jiLSiP/hz4UUcx1EJCv5N3+uBC5zHUWkCdcDv8OLqbgibUoFPWkToXCkP/6KVSMdRxFp6CHgnGhFebXrICJZzwvuj393u6PjJCIN/Q24GC9W7zqISNbzgqcB9wAFrqOIJMWB8/Fid7oOItlJBT1pM6FwpAj4J+oyL+7Fgd9HK8qvcx1ERBrwggOBx4BRrqNI1luLv5LtZNdBRKQBL7g38AjQ03UUyXprgRPxYi+4DiLZSwU9aXOhcORi4Gq0KIu4sRQ4KVpR/qrrICLSCH++pJuAc11Hkaw1G38l27mug4hII7xgF+AfwJGuo0jWmgmcghf7xHUQyW4q6IkToXDkEGAS0Ml1FskqU/CLeYtdBxGRzfCCJwN3ASWuo0hWmQT8BC+23nUQEdkML/hz/LnL2rmOIlnDAn8F/oAXq3UdRkQFPXEmFI4MACYDox1HkcxngWuBP0QryuOuw4jIFvKCg4BH0RBcaX11wG/wYre4DiIiW8ELDsMvxI9wHUUy3kLgTLzYK66DiGyggp44FQpH8oA/AJeg1Q2ldSwCzo1WlEdcBxGRbaAhuNL6Psa/SJvhOoiIbAO/nbgW+KXrKJKxJgM/xYutdB1EpCEV9CQlhMKR0cB9qBeGtKx/AL+JVpTHXAcRke3kBY8Fbge6uY4iGSMOXAd4eLEa12FEZDt5wXLgXqCr6yiSMdYB/4cXu9d1EJHGqKAnKSPZW+8S/B576q0n22M+fq+8/7gOIiItyAt2Bm4ETnOcRNLfXOBHeLHproOISAvygjsA9wMHu44iae8t4FS82Oeug4g0RQU9STnqrSfbIQHcClwSrSjXhOYimcoLHo6/YEZv11Ek7STwh3D/AS9W5TqMiLQCL2iAXwNXAwWO00j6ieP/v/NHvFi96zAizVFBT1KSeuvJNpgD/DhaUf6m6yAi0ga8YAf84ZI/AYzjNJIePgfOwotNdR1ERNqAF9wR+BvwQ9dRJG28D/wCLzbNdRCRLaGCnqQ09daTLVCPf1F/ZbSiXHMgiWQbL7gfcA+wo+sokrKqgb8AFXixatdhRKSNecGD8HvmDnUdRVLWUvzOJPfhxRKuw4hsKRX0JOUle+v9DLgM6OI4jqSW94FzohXl77kOIiIO+Ssc/gb4PdDecRpJLc8Bv8KLfeE6iIg45AVzgfMBDwi6DSMppBZ/bt4/4cXWOs4istVU0JO0EQpHOgAXAxcARW7TiGOfA5cDk6IV5fojJiI+L9gLvyfWKWgYbrb7BPgNXuwF10FEJIV4wa7486OdDQQcpxG3ngIu0qIXks5U0JO0EwpHegJXAmcBOY7jSNtaAlwF3B2tKK9zHUZEUpQX3A24HhjvOoq0uZX4PXDu0GTmItIkLzgGuAXY03UUaXMfAhfgxf7rOojI9lJBT9JWKBwpA64BjnSdRVpdDLgWuDFaUV7pOoyIpAkveCR+j70hrqNIq1uLf3F+PV5sleswIpImvOCp+J8xe7qOIq1uOXApcA9eLO46jEhLUEFP0l4oHBmP3xDv4TqLtLgq4FagIlpRvtJ1GBFJQ/68Safgz6+nwl7m2VDI+yteTO2EiGw9L9ge+Cnwa6C34zTS8tYDdwB/xoutdpxFpEWpoCcZIxSOHAv8CV2wZYI48E/8lWsXug4jIhnACwaAY4A/AKPdhpEWsBa4GfibCnki0iK8YB7+DaDfAsMcp5HttxL/hs8teLEVrsOItAYV9CSjhMIRA/wAf7XDfR3Hka23HngAuCFaUT7PdRgRyVBesBy/sDfOdRTZairkiUjr8oIGOBz4HbCP4zSy9RYBfwPuwoutcx1GpDWpoCcZKxSOjMUv7B0P5DqOI82bB9wO3BetKI+5DiMiWcIL7gdcAhzoOops1rftBF5M7YSItA0vuAd+Ye+HaFXcVPcBcBPwEF6sxnUYkbaggp5kvFA40hc4D/gx0M1xHPlOAngef468f0cryvXHSETc8IJDgHOBM4FSx2nkOwkggt9OvIwXUzshIm54wcHARcDpQIHjNPKdBPAscCNe7FXHWUTanAp6kjVC4Ug+cBzwc2Avx3Gy2Ur8+fFuj1aUz3cdRqQ1GGPiwIeAwZ8T8nxr7Zubec46a21xC71+CTC1wabewIPW2guaOP4pYAdr7R4Ntt0HPGetndwSmdKCFyzEbyd+CuztOE02WwH8A7gDLxZ1nEVE5DtecAf8jgJnAP0dp8lmK4CJwK14sS9chxFxRQU9yUqhcGQkcDZwLFrNqq28hz9c6l/RivIq12FEWlPD4pwx5hDgEmtts/N6tmRBr5FzzwB+ba2d0si+jvjFx3VAubX2i+T2+8i2gl5DXnAYfmHvdKCj2zBZoR74D/Av4DG8WLXjPCIiTfPn2RuPX9g7HujgNlBWiAFPAQ8D/8GL1buNI+KeCnqS1ZKLaOyB3xAfC/R1myjjfAw8CjwarSif4zqMSFvZpKB3PHCqtfao5Pe/BU7AH7LzpLX2iobPMcYY4FrgMMACf7LWPmKMuQ14yVr7jDHmSWCVtfZsY8zZwABr7R+ayDIIeAXoaxtp9JPP3wVYCtRZa69Obr8PqE7u6wBcaK19zhgzDLgXyMefT+hYa+2nxpjTgP9Lbn8L+Lm1Nm6MWYc/p80PgCrgh9bapcaY7sCdwI7JKD+z1r7Z2HmS+/+RzGKBf1prb9iiX8b28nvtHYLfc+9IdNHWkhL4PUkfBibjxZY7ziMisvW8YDvgKPwVcg/Gb7+kZazHH1L7MPCi5sYT2ZgKeiJJyeLebvgXbccBIaeB0tdHwOP4RbzZrsOIuNBgyG0h0APY31o7wxhzMN8N6TTAM8C11topDQp6x+IP5zkU6AK8A+yOv3L3WGvtb40xbwMJa+0exph7gYettS81keVyoIO19qIm9r8M/BG/oPe4tXZEcvt9wA74K/0NAP4H7ARcB0y31j5kjMkHcvD/Xl4LHGOtrTPG3J48ZqIxxgJHWmufNcZcC6yx1v7JGPMIMM1ae6MxJgcoBno2dh78mwMV1tqDktk6WmtXb8WvpGV4wXz8i7Xj8CdI79jmGTLDO8Ak4FG82ELXYUREWowXDOK3D8ej4t62qgZeAB4BnsWLVTrOI5KytPKnSFJyUYa3ko/fhsKRXfAb4+P4rgeJfF8dMAX/7tkzmhdPBIAqa+1oAGPMOGCiMWY4/of7g4H3k8cVAwPx/w1tsDcwyVobB5YaY14DdsXvyXSBMaYMmA10Msb0AMbh92hrykn4w0a/J9lLbiDwurXWGmPqjDHDrbUfJQ951FqbAD41xnwBDAGmAX8wxvQGnkj2zjsAGAu843cwpB3wTfIctcBzya9nAAclv94ff6gSyfcaM8ac3sR5ngV2NMbcgr9Iwr+beb+tx4tteC/P4QXz8FfHPRa/B5+mb2haDPgv/u/tRc2LJyIZy1+FeyIwsUFxrxz/plx3l9FSXCXwKn4R7ym82Bq3cUTSgwp6Ik2IVpS/C7wLXBwKR4bhz5Oxd/LRz2U2xxL4vfCm4ffYeTFaUR5zG0kkdVlrpxljugBd8Xvl/X979/Ni51XGAfz7BoVCm1w7BYVMxQlNiwvrj5VKFopZKI0rkYqiIOhGXIh0M3F1oQtn4T+gGxFEXBTBxVgUEaRqDLbiwk2hSaaiUlradNrxR5xOj4vnvcxlvJPaaHvnJJ8PPLzvnZu5cyZ38c77vec555uttW/fwOv8ZVzv7hOpAHAl1bq701p7edH3DMPwviRvaa09ccjLPpjkziRXxgDtRJLPJpm17x6cxt9aaz8YhuFi6gblJ8MwzGYbfq+1dn7Bz9ida/Xdy/X/9jj0dcbf5eOp2YsPptZBXZ7p9m5qBsGj9XhybyqkPJvko6n3+1a1l5qF97MkP01yMdPtveUOCeBNNh/uJbMd1T8yVyeXNrblu5rk16m/Zx5L8sR4XQVeBy23cAPW1jdXU8HemfH43lTb2c3oaqrl7cJYF7c2zi0MD4ByYA29dyf5VeqT+bNJHk5ytrW2MwzDairwenau5fZTqZbcB1Kh3eNJPthae2Zsg/3YWHcleSTJI621rx8yjo0k12br9C14/jdJHmqtXRgfn0ry89baPePPentq7btTSX6Zark9meTKOKPvW0n+nApufpzkzPi7rCQ53lp7+sD/xaeTfLK19sVhGH6Yasudb7ldXfQ6qTV0/tVae2mc6fj92QzII6kWS78/++/Vh1Pt0zerl1MbH/0udb34RabbV5c7JIAjbjo5nfoAaBbwvXOp43lj/TUV3D2WCvH+mOm2IAL+RwI9+D9YW988ntpc48xY70mtPdWbV1OtfBfm6smxHRn4L82toZfUrLNvtNY2x+e+luTL43M7ST7fWrv0WptijN/7pSQPt9ZODsPw1iQvJvlCa+1Hh4zjcpIHWmv/sSnNMAxrqU/H757fLGMYht8n+cpYizbFWE+18O4meSbJ51prLwzD8Jkk51MbZewm+Wpr7bfXCfTekeQ7qSUN9lKbYlxY9DqpzTS+O34tSc631h697ptw1Ewnq0k+MFfvTwWlvflnkj+kwrvHx+OTmW6/usxBAXRvOjmVCvY+lOS+sVaXOqYb81KSp1LXigrxptuXljoiuEkJ9OANsra+eXtqNss943G+7k7d5C/DTpIrY10+eL61cc7CswBvhunkbalg7/7UxiLztbKUMZXdJFupG7JLB45PZbr9yvKGBnALmU5uT611e2/2Q777xsd3LXFkL2R2TThY0+3nljguuKUI9GAJ1tY3b0vNSjmdmqGxktot8c654yS1IPxt43FWQ2qGxN/H+tsh57PHz2Y/uLu8tXHORRbgqJtO7sh+uPeuVMvu5ECdmDu/IzWDcZirV8baHWsnyfOpG7HnF5w/l7pW/MmadwBH3HSykgr3TqfuHY6PdWLufNHXZteLvSTXUvcV18b6R2ojoxfH4+z8apKnsx/aWVYBjgCBHnRmbX3z2NbGOa1NAADA61PrvB7zwQ30T6AHAAAAAB059tr/BAAAAAA4KgR6AAAAANARgR4AAAAAdESgBwAAAAAdEegBAAAAQEcEegAAAADQEYEeAAAAAHREoAcAAAAAHRHoAQAAAEBHBHoAAAAA0BGBHgAAAAB0RKAHAAAAAB0R6AEAAABARwR6AAAAANARgR4AAAAAdESgBwAAAAAdEegBAAAAQEcEegAAAADQEYEeAAAAAHREoAcAAAAAHRHoAQAAAEBHBHoAAAAA0BGBHgAAAAB0RKAHAAAAAB0R6AEAAABARwR6AAAAANARgR4AAAAAdESgBwAAAAAdEegBAAAAQEcEegAAAADQEYEeAAAAAHREoAcAAAAAHRHoAQAAAEBHBHoAAAAA0BGBHgAAAAB0RKAHAAAAAB0R6AEAAABARwR6AAAAANCRfwO/yIXPWRFCCgAAAABJRU5ErkJggg==\n"
     },
     "metadata": {
      "image/png": {
       "width": 1268,
       "height": 342
      }
     },
     "output_type": "display_data"
    }
   ]
  },
  {
   "cell_type": "markdown",
   "source": "When the number of student absences exceeds 7 days, the generated data reveals a significant percentage of Low class grade. There are 91.3% of students with Low class grades that are absent for more than 7 days while there are 33.6% of students that have Middle class grades and 2.8% of students with High class grades. \n\nOn the other hand, there are only 8.7% of students that are on Low class grades, 66.4% students on Middle class grades, and 97.2% of students have High class grades with absences that are below 7 days.\n\nAs we can see, the percentage of students being on Low class grades to High class grades with above 7 days of absences are becoming smaller while if we take a look on the precentage of students being on Low class grades to High class grades with absences that are below 7 days, it is also becoming bigger. \n\nGiven the data shown above, it can be concluded that absences greatly affect students on their class grades. ",
   "metadata": {
    "tags": [],
    "cell_id": "00109-bee89ac8-8b8f-4434-a296-8c07c7467b1e",
    "deepnote_cell_type": "markdown"
   }
  },
  {
   "cell_type": "markdown",
   "source": "#### Chi-square Test",
   "metadata": {
    "tags": [],
    "cell_id": "00110-e5db17ee-6695-4865-b243-6a16e4e8db12",
    "deepnote_cell_type": "markdown"
   }
  },
  {
   "cell_type": "markdown",
   "source": "Chi-square is performed to determine whether the feature `StudentAbsenceDays` are dependent or possibly independent. The hypothesis are:\n\n- H: The feature affects the student's class grade.\n- H0: The feature does not affect the student's class grade.",
   "metadata": {
    "tags": [],
    "cell_id": "00111-0c3a5cc5-beb9-4324-b09f-f4ad4b2594e7",
    "deepnote_cell_type": "markdown"
   }
  },
  {
   "cell_type": "code",
   "metadata": {
    "tags": [],
    "cell_id": "00106-7b5b05f8-90bf-47fc-9865-0cb43f866211",
    "deepnote_to_be_reexecuted": false,
    "source_hash": "f8eb5554",
    "execution_start": 1622445255306,
    "execution_millis": 140,
    "deepnote_cell_type": "code"
   },
   "source": "c, p, dof, expected = chi2_contingency(q3s_df)\nprint(\"p value for Absences is \" + str(p))\nif p <= alpha:\n    print(\"It is Dependent (reject H0)\")\nelse:\n    print(\"It is Independent (do not reject H0)\")\n",
   "execution_count": 52,
   "outputs": [
    {
     "name": "stdout",
     "text": "p value for Absences is 1.2513960927832126e-49\nIt is Dependent (reject H0)\n",
     "output_type": "stream"
    }
   ]
  },
  {
   "cell_type": "markdown",
   "source": "The number of days that students have been absent is displayed as a dependent characteristic, implying that it may have an impact on a student's class grades.",
   "metadata": {
    "tags": [],
    "cell_id": "00107-90586758-4121-44c6-8772-3f8c78cce64c",
    "deepnote_cell_type": "markdown"
   }
  },
  {
   "cell_type": "markdown",
   "source": "The collected and evaluated data shows that student absences can influence a student's grade in class. On absences of more than 7 days, the visualization depicts a large percentage of Low class grades. On absences of less than seven days, there is also a significant percentage of High class grades.\n\nThe chi-square test confirms their relationship and disproves the null hypothesis that they are unrelated. As a result, this feature can be considered a factor that influences a student's grade in class.",
   "metadata": {
    "tags": [],
    "cell_id": "00114-5fe25e1b-3365-4b2e-abf2-5ba521b6172e",
    "deepnote_cell_type": "markdown"
   }
  },
  {
   "cell_type": "markdown",
   "source": "#### ***Q4: Does visiting class resources result in higher class grades?***",
   "metadata": {
    "id": "ITtMyZZf55JH",
    "cell_id": "00054-75c8c294-e9b9-465f-89f4-3bf0e467fe32",
    "deepnote_cell_type": "markdown"
   }
  },
  {
   "cell_type": "markdown",
   "source": "For the fourth question, we wanted to know if the total number of times a student visits a course content affects their academic performance. With this, we will be grouping the `VisitedResources` column by `Class`, then getting the mean per class.",
   "metadata": {
    "tags": [],
    "cell_id": "00108-8f486db2-d2a8-4771-bfb4-45abdc581281",
    "deepnote_cell_type": "markdown"
   }
  },
  {
   "cell_type": "code",
   "metadata": {
    "colab": {
     "base_uri": "https://localhost:8080/"
    },
    "id": "7PPlKpJaIoXJ",
    "executionInfo": {
     "status": "ok",
     "timestamp": 1620279452591,
     "user_tz": -480,
     "elapsed": 811,
     "user": {
      "displayName": "Angeline Maris Gubat",
      "photoUrl": "https://lh3.googleusercontent.com/a-/AOh14Gijg6xgX0R_IA4o8GkF1xnv3D8-8kHv8i-V48U6=s64",
      "userId": "00875153666701401808"
     }
>>>>>>> Stashed changes
    },
    "outputId": "92b582f8-7a62-486e-a328-9696068b35a0",
    "cell_id": "00055-f98432cb-1cc3-4215-ad14-523bd528fc40",
    "deepnote_to_be_reexecuted": false,
    "source_hash": "6c8a2bd1",
    "execution_start": 1622445255446,
    "execution_millis": 153,
    "deepnote_cell_type": "code"
   },
   "source": "q4_df = spd_df.groupby(\"Class\")[\"VisitedResources\"].mean().reset_index()\nq4_df\nsns.barplot(x=\"Class\", y=\"VisitedResources\", order=[\"L\", \"M\", \"H\"], data=q4_df)",
   "execution_count": 53,
   "outputs": [
    {
<<<<<<< Updated upstream
      "cell_type": "markdown",
      "metadata": {
        "id": "NlqEPXlAocW1"
      },
      "source": [
        "* clean column names (ira)\n",
        "* clean kuwait (bly)\n",
        "* clean mum to Mother (ira)\n",
        "* clean lebanon (stephen)\n",
        "* clean outlier in grade 7 (Anj)\n",
        "* KW --> Kuwait (stephen)"
      ]
    },
    {
      "cell_type": "markdown",
      "metadata": {
        "id": "qbeyNAv0NQ8m"
      },
      "source": [
        "# **Student's Academic Performance** \n",
        "#### *Members: Beaverly Cuasi, Allexandra Domingo, Angeline Gubat, Stephen Salamante, Ira Villanueva  (S12 - Couch Data Scientists)*\n",
        "This notebook focuses on the Student's Academic Performance Dataset which can be found [here](https://www.kaggle.com/aljarah/xAPI-Edu-Datal). The first section shows the dataset information and dataset cleaning process, followed by data visualization using Exploratory Data Analysis (EDA). Lastly, this notebook aims to answer which factors affect a student’s academic grades. Specifically we wanted to know the following: <br><br>\n",
        "  * Do students who participate more have higher grades than those who participate less?\n",
        "  * Does parent participation and satisfaction affect a student’s performance?\n",
        "  * Do the number of class absences greatly affect the student’s grades?\n",
        "  * Does visiting class resources result in higher class grades?\n"
      ]
    },
    {
      "cell_type": "markdown",
      "metadata": {
        "id": "5BaWZMz2U8xI"
      },
      "source": [
        "### **Dataset Information**  \n",
        "The Student's Performance Dataset is collected from Kalboard 360, a learning management, using a learner activity tracker tool called experience API (xAPI). The dataset contains **480** observations (rows) across 16 features (columns). Below is a brief description of each features:  \n",
        "* **`gender`**: Student's gender <br>\n",
        "* **`NationallTy`**: Student's nationality <br>\n",
        "* **`PlaceofBirth`**: Student's place of birth <br>\n",
        "* **`StageID`**: Educational level that student belongs to <br>\n",
        "* **`GradeID`**: Grade level that student belongs to <br>\n",
        "* **`SectionID`**: Classroom that student belongs to<br>\n",
        "* **`Topic`**: Course topic <br>\n",
        "* **`Semester`**: Current semester in a school year <br>\n",
        "* **`Relation`**: Parent who is responsible for a student<br>\n",
        "* **`raisedhands`**: Total number of times a student raises his/her hand  <br>\n",
        "* **`VisITedResources`**: Total number of times a student visited a course content <br>\n",
        "* **`AnnouncementsView`**: Total number of times a student checks the announcements <br>\n",
        "* **`Discussion`**: Total number of times a student participates on discussion groups <br>\n",
        "* **`ParentAnsweringSurvey`**: If a parent answered surveys provided by the school <br>\n",
        "* **`ParentSchoolSatisfaction`**: If a parent is satisfied or not <br>\n",
        "* **`StudentAbsenceDays`**: Total number of days that a student is absent <br>\n",
        "* **`Class`**: Represents the interval of a student total grade <br>\n",
        "  * _Low_: interval includes values from 0 to 69\n",
        "  * _Middle_: interval includes values from 70 to 89\n",
        "  * _High_: interval includes values from 90-100"
      ]
    },
    {
      "cell_type": "markdown",
      "metadata": {
        "id": "T3cRkz2LkPms"
      },
      "source": [
        "Let's view the observations and features of the dataset. But first, let's import the needed libraries for this notebook."
      ]
    },
    {
      "cell_type": "code",
      "metadata": {
        "id": "S-8FIgu3lomu"
      },
      "source": [
        "import pandas as pd\n",
        "import numpy as np\n",
        "import matplotlib.pyplot as plt\n",
        "import seaborn as sns"
      ],
      "execution_count": 2,
      "outputs": []
    },
    {
      "cell_type": "markdown",
      "metadata": {
        "id": "STzZAlygl_Gz"
      },
      "source": [
        "Using `read_csv`, we will loading the dataset (xAPI-Edu-Data.csv) into a DataFrame."
      ]
    },
    {
      "cell_type": "code",
      "metadata": {
        "colab": {
          "base_uri": "https://localhost:8080/",
          "height": 224
        },
        "id": "wMpXFpxjndrL",
        "outputId": "d4fa7069-f7ef-4237-f3e2-30272940f02b"
      },
      "source": [
        "url = 'https://raw.githubusercontent.com/okaystephen/DATASCI-MCO/main/xAPI-Edu-Data.csv'\n",
        "spd_df = pd.read_csv(url)  \n",
        "\n",
        "# First 5 rows in the dataset:\n",
        "spd_df.head()"
      ],
      "execution_count": 3,
      "outputs": [
        {
          "output_type": "execute_result",
          "data": {
            "text/html": [
              "<div>\n",
              "<style scoped>\n",
              "    .dataframe tbody tr th:only-of-type {\n",
              "        vertical-align: middle;\n",
              "    }\n",
              "\n",
              "    .dataframe tbody tr th {\n",
              "        vertical-align: top;\n",
              "    }\n",
              "\n",
              "    .dataframe thead th {\n",
              "        text-align: right;\n",
              "    }\n",
              "</style>\n",
              "<table border=\"1\" class=\"dataframe\">\n",
              "  <thead>\n",
              "    <tr style=\"text-align: right;\">\n",
              "      <th></th>\n",
              "      <th>gender</th>\n",
              "      <th>NationalITy</th>\n",
              "      <th>PlaceofBirth</th>\n",
              "      <th>StageID</th>\n",
              "      <th>GradeID</th>\n",
              "      <th>SectionID</th>\n",
              "      <th>Topic</th>\n",
              "      <th>Semester</th>\n",
              "      <th>Relation</th>\n",
              "      <th>raisedhands</th>\n",
              "      <th>VisITedResources</th>\n",
              "      <th>AnnouncementsView</th>\n",
              "      <th>Discussion</th>\n",
              "      <th>ParentAnsweringSurvey</th>\n",
              "      <th>ParentschoolSatisfaction</th>\n",
              "      <th>StudentAbsenceDays</th>\n",
              "      <th>Class</th>\n",
              "    </tr>\n",
              "  </thead>\n",
              "  <tbody>\n",
              "    <tr>\n",
              "      <th>0</th>\n",
              "      <td>M</td>\n",
              "      <td>KW</td>\n",
              "      <td>KuwaIT</td>\n",
              "      <td>lowerlevel</td>\n",
              "      <td>G-04</td>\n",
              "      <td>A</td>\n",
              "      <td>IT</td>\n",
              "      <td>F</td>\n",
              "      <td>Father</td>\n",
              "      <td>15</td>\n",
              "      <td>16</td>\n",
              "      <td>2</td>\n",
              "      <td>20</td>\n",
              "      <td>Yes</td>\n",
              "      <td>Good</td>\n",
              "      <td>Under-7</td>\n",
              "      <td>M</td>\n",
              "    </tr>\n",
              "    <tr>\n",
              "      <th>1</th>\n",
              "      <td>M</td>\n",
              "      <td>KW</td>\n",
              "      <td>KuwaIT</td>\n",
              "      <td>lowerlevel</td>\n",
              "      <td>G-04</td>\n",
              "      <td>A</td>\n",
              "      <td>IT</td>\n",
              "      <td>F</td>\n",
              "      <td>Father</td>\n",
              "      <td>20</td>\n",
              "      <td>20</td>\n",
              "      <td>3</td>\n",
              "      <td>25</td>\n",
              "      <td>Yes</td>\n",
              "      <td>Good</td>\n",
              "      <td>Under-7</td>\n",
              "      <td>M</td>\n",
              "    </tr>\n",
              "    <tr>\n",
              "      <th>2</th>\n",
              "      <td>M</td>\n",
              "      <td>KW</td>\n",
              "      <td>KuwaIT</td>\n",
              "      <td>lowerlevel</td>\n",
              "      <td>G-04</td>\n",
              "      <td>A</td>\n",
              "      <td>IT</td>\n",
              "      <td>F</td>\n",
              "      <td>Father</td>\n",
              "      <td>10</td>\n",
              "      <td>7</td>\n",
              "      <td>0</td>\n",
              "      <td>30</td>\n",
              "      <td>No</td>\n",
              "      <td>Bad</td>\n",
              "      <td>Above-7</td>\n",
              "      <td>L</td>\n",
              "    </tr>\n",
              "    <tr>\n",
              "      <th>3</th>\n",
              "      <td>M</td>\n",
              "      <td>KW</td>\n",
              "      <td>KuwaIT</td>\n",
              "      <td>lowerlevel</td>\n",
              "      <td>G-04</td>\n",
              "      <td>A</td>\n",
              "      <td>IT</td>\n",
              "      <td>F</td>\n",
              "      <td>Father</td>\n",
              "      <td>30</td>\n",
              "      <td>25</td>\n",
              "      <td>5</td>\n",
              "      <td>35</td>\n",
              "      <td>No</td>\n",
              "      <td>Bad</td>\n",
              "      <td>Above-7</td>\n",
              "      <td>L</td>\n",
              "    </tr>\n",
              "    <tr>\n",
              "      <th>4</th>\n",
              "      <td>M</td>\n",
              "      <td>KW</td>\n",
              "      <td>KuwaIT</td>\n",
              "      <td>lowerlevel</td>\n",
              "      <td>G-04</td>\n",
              "      <td>A</td>\n",
              "      <td>IT</td>\n",
              "      <td>F</td>\n",
              "      <td>Father</td>\n",
              "      <td>40</td>\n",
              "      <td>50</td>\n",
              "      <td>12</td>\n",
              "      <td>50</td>\n",
              "      <td>No</td>\n",
              "      <td>Bad</td>\n",
              "      <td>Above-7</td>\n",
              "      <td>M</td>\n",
              "    </tr>\n",
              "  </tbody>\n",
              "</table>\n",
              "</div>"
            ],
            "text/plain": [
              "  gender NationalITy  ... StudentAbsenceDays Class\n",
              "0      M          KW  ...            Under-7     M\n",
              "1      M          KW  ...            Under-7     M\n",
              "2      M          KW  ...            Above-7     L\n",
              "3      M          KW  ...            Above-7     L\n",
              "4      M          KW  ...            Above-7     M\n",
              "\n",
              "[5 rows x 17 columns]"
            ]
          },
          "metadata": {
            "tags": []
          },
          "execution_count": 3
        }
      ]
    },
    {
      "cell_type": "markdown",
      "metadata": {
        "id": "U0xIyjOvogV0"
      },
      "source": [
        "Let's see now its general information using info() function."
      ]
    },
    {
      "cell_type": "code",
      "metadata": {
        "colab": {
          "base_uri": "https://localhost:8080/"
        },
        "id": "tFWQHA6couuq",
        "outputId": "b43def7f-28ea-4991-93e2-7951bc808a05"
      },
      "source": [
        "# Dataset's variables type:\n",
        "spd_df.info()"
      ],
      "execution_count": 4,
      "outputs": [
        {
          "output_type": "stream",
          "text": [
            "<class 'pandas.core.frame.DataFrame'>\n",
            "RangeIndex: 480 entries, 0 to 479\n",
            "Data columns (total 17 columns):\n",
            " #   Column                    Non-Null Count  Dtype \n",
            "---  ------                    --------------  ----- \n",
            " 0   gender                    480 non-null    object\n",
            " 1   NationalITy               480 non-null    object\n",
            " 2   PlaceofBirth              480 non-null    object\n",
            " 3   StageID                   480 non-null    object\n",
            " 4   GradeID                   480 non-null    object\n",
            " 5   SectionID                 480 non-null    object\n",
            " 6   Topic                     480 non-null    object\n",
            " 7   Semester                  480 non-null    object\n",
            " 8   Relation                  480 non-null    object\n",
            " 9   raisedhands               480 non-null    int64 \n",
            " 10  VisITedResources          480 non-null    int64 \n",
            " 11  AnnouncementsView         480 non-null    int64 \n",
            " 12  Discussion                480 non-null    int64 \n",
            " 13  ParentAnsweringSurvey     480 non-null    object\n",
            " 14  ParentschoolSatisfaction  480 non-null    object\n",
            " 15  StudentAbsenceDays        480 non-null    object\n",
            " 16  Class                     480 non-null    object\n",
            "dtypes: int64(4), object(13)\n",
            "memory usage: 63.9+ KB\n"
          ],
          "name": "stdout"
        }
      ]
    },
    {
      "cell_type": "code",
      "metadata": {
        "colab": {
          "base_uri": "https://localhost:8080/"
        },
        "id": "EPDbCiXjqmsV",
        "outputId": "43adeae1-32cb-4157-873c-6c882111ded6"
      },
      "source": [
        "spd_df.isnull().sum()"
      ],
      "execution_count": null,
      "outputs": [
        {
          "output_type": "execute_result",
          "data": {
            "text/plain": [
              "gender                      0\n",
              "NationalITy                 0\n",
              "PlaceofBirth                0\n",
              "StageID                     0\n",
              "GradeID                     0\n",
              "SectionID                   0\n",
              "Topic                       0\n",
              "Semester                    0\n",
              "Relation                    0\n",
              "raisedhands                 0\n",
              "VisITedResources            0\n",
              "AnnouncementsView           0\n",
              "Discussion                  0\n",
              "ParentAnsweringSurvey       0\n",
              "ParentschoolSatisfaction    0\n",
              "StudentAbsenceDays          0\n",
              "Class                       0\n",
              "dtype: int64"
            ]
          },
          "metadata": {
            "tags": []
          },
          "execution_count": 22
        }
      ]
    },
    {
      "cell_type": "markdown",
      "metadata": {
        "id": "jC8D9CA-o9mZ"
      },
      "source": [
        "We can see that there are no null values or missing values in any columns so there will be no problem in the dataset in handling null or NaN values. Before analyzing our data, let's further explore the dataset for data cleaning.  \n",
        "### **Data Cleaning**  <br>\n",
        "#### **Renaming feature names**  \n",
        "When we viewed the information of the dataset, we saw that some column names doesn't have the same format. Some columns are all in lowercase while some letters are capitalized like `NationalITy` and `VisITedResources`. It is a good approach to rename columns to ones that can be easily recalled later on. Here are the columns that we will be renaming:  \n",
        "* NationalITy --> Nationality\n",
        "* PlaceofBirth --> BirthPlace\n",
        "* VisITedResources --> VistedResources\n",
        "* ParentschoolSatisfaction --> ParentSchoolSatisfaction\n",
        "* raisedhands --> RaisedHands"
      ]
    },
    {
      "cell_type": "code",
      "metadata": {
        "id": "Nb7pnOnUxk23"
      },
      "source": [
        "spd_df.rename(columns={'NationalITy':'Nationality',\n",
        "'PlaceofBirth': 'BirthPlace',\n",
        "'gender': 'Gender',\n",
        "'VisITedResources':'VisitedResources',\n",
        "'ParentschoolSatisfaction':'ParentSchoolSatisfaction',\n",
        "'raisedhands':'RaisedHands'}, inplace=True) "
      ],
      "execution_count": 5,
      "outputs": []
    },
    {
      "cell_type": "markdown",
      "metadata": {
        "id": "JqUWGuu6zN4X"
      },
      "source": [
        "Let's view the dataset with the renamed columns."
      ]
    },
    {
      "cell_type": "code",
      "metadata": {
        "colab": {
          "base_uri": "https://localhost:8080/",
          "height": 224
        },
        "id": "8RASwgzAzSPl",
        "outputId": "569915db-9cde-4c77-e426-f63f7442ad8e"
      },
      "source": [
        "spd_df.head()"
      ],
      "execution_count": 6,
      "outputs": [
        {
          "output_type": "execute_result",
          "data": {
            "text/html": [
              "<div>\n",
              "<style scoped>\n",
              "    .dataframe tbody tr th:only-of-type {\n",
              "        vertical-align: middle;\n",
              "    }\n",
              "\n",
              "    .dataframe tbody tr th {\n",
              "        vertical-align: top;\n",
              "    }\n",
              "\n",
              "    .dataframe thead th {\n",
              "        text-align: right;\n",
              "    }\n",
              "</style>\n",
              "<table border=\"1\" class=\"dataframe\">\n",
              "  <thead>\n",
              "    <tr style=\"text-align: right;\">\n",
              "      <th></th>\n",
              "      <th>Gender</th>\n",
              "      <th>Nationality</th>\n",
              "      <th>BirthPlace</th>\n",
              "      <th>StageID</th>\n",
              "      <th>GradeID</th>\n",
              "      <th>SectionID</th>\n",
              "      <th>Topic</th>\n",
              "      <th>Semester</th>\n",
              "      <th>Relation</th>\n",
              "      <th>RaisedHands</th>\n",
              "      <th>VisitedResources</th>\n",
              "      <th>AnnouncementsView</th>\n",
              "      <th>Discussion</th>\n",
              "      <th>ParentAnsweringSurvey</th>\n",
              "      <th>ParentSchoolSatisfaction</th>\n",
              "      <th>StudentAbsenceDays</th>\n",
              "      <th>Class</th>\n",
              "    </tr>\n",
              "  </thead>\n",
              "  <tbody>\n",
              "    <tr>\n",
              "      <th>0</th>\n",
              "      <td>M</td>\n",
              "      <td>KW</td>\n",
              "      <td>KuwaIT</td>\n",
              "      <td>lowerlevel</td>\n",
              "      <td>G-04</td>\n",
              "      <td>A</td>\n",
              "      <td>IT</td>\n",
              "      <td>F</td>\n",
              "      <td>Father</td>\n",
              "      <td>15</td>\n",
              "      <td>16</td>\n",
              "      <td>2</td>\n",
              "      <td>20</td>\n",
              "      <td>Yes</td>\n",
              "      <td>Good</td>\n",
              "      <td>Under-7</td>\n",
              "      <td>M</td>\n",
              "    </tr>\n",
              "    <tr>\n",
              "      <th>1</th>\n",
              "      <td>M</td>\n",
              "      <td>KW</td>\n",
              "      <td>KuwaIT</td>\n",
              "      <td>lowerlevel</td>\n",
              "      <td>G-04</td>\n",
              "      <td>A</td>\n",
              "      <td>IT</td>\n",
              "      <td>F</td>\n",
              "      <td>Father</td>\n",
              "      <td>20</td>\n",
              "      <td>20</td>\n",
              "      <td>3</td>\n",
              "      <td>25</td>\n",
              "      <td>Yes</td>\n",
              "      <td>Good</td>\n",
              "      <td>Under-7</td>\n",
              "      <td>M</td>\n",
              "    </tr>\n",
              "    <tr>\n",
              "      <th>2</th>\n",
              "      <td>M</td>\n",
              "      <td>KW</td>\n",
              "      <td>KuwaIT</td>\n",
              "      <td>lowerlevel</td>\n",
              "      <td>G-04</td>\n",
              "      <td>A</td>\n",
              "      <td>IT</td>\n",
              "      <td>F</td>\n",
              "      <td>Father</td>\n",
              "      <td>10</td>\n",
              "      <td>7</td>\n",
              "      <td>0</td>\n",
              "      <td>30</td>\n",
              "      <td>No</td>\n",
              "      <td>Bad</td>\n",
              "      <td>Above-7</td>\n",
              "      <td>L</td>\n",
              "    </tr>\n",
              "    <tr>\n",
              "      <th>3</th>\n",
              "      <td>M</td>\n",
              "      <td>KW</td>\n",
              "      <td>KuwaIT</td>\n",
              "      <td>lowerlevel</td>\n",
              "      <td>G-04</td>\n",
              "      <td>A</td>\n",
              "      <td>IT</td>\n",
              "      <td>F</td>\n",
              "      <td>Father</td>\n",
              "      <td>30</td>\n",
              "      <td>25</td>\n",
              "      <td>5</td>\n",
              "      <td>35</td>\n",
              "      <td>No</td>\n",
              "      <td>Bad</td>\n",
              "      <td>Above-7</td>\n",
              "      <td>L</td>\n",
              "    </tr>\n",
              "    <tr>\n",
              "      <th>4</th>\n",
              "      <td>M</td>\n",
              "      <td>KW</td>\n",
              "      <td>KuwaIT</td>\n",
              "      <td>lowerlevel</td>\n",
              "      <td>G-04</td>\n",
              "      <td>A</td>\n",
              "      <td>IT</td>\n",
              "      <td>F</td>\n",
              "      <td>Father</td>\n",
              "      <td>40</td>\n",
              "      <td>50</td>\n",
              "      <td>12</td>\n",
              "      <td>50</td>\n",
              "      <td>No</td>\n",
              "      <td>Bad</td>\n",
              "      <td>Above-7</td>\n",
              "      <td>M</td>\n",
              "    </tr>\n",
              "  </tbody>\n",
              "</table>\n",
              "</div>"
            ],
            "text/plain": [
              "  Gender Nationality  ... StudentAbsenceDays Class\n",
              "0      M          KW  ...            Under-7     M\n",
              "1      M          KW  ...            Under-7     M\n",
              "2      M          KW  ...            Above-7     L\n",
              "3      M          KW  ...            Above-7     L\n",
              "4      M          KW  ...            Above-7     M\n",
              "\n",
              "[5 rows x 17 columns]"
            ]
          },
          "metadata": {
            "tags": []
          },
          "execution_count": 6
        }
      ]
    },
    {
      "cell_type": "markdown",
      "metadata": {
        "id": "S8ZYf_i501gc"
      },
      "source": [
        "#### **Renaming Mum to Mother in Relation Column**  \n",
        "It's also important to ensure that the data values is consistent and uniformed within the dataset especially inside a feature column. Let's check the `Relation` column in the dataset and view its unique values.  "
      ]
    },
    {
      "cell_type": "code",
      "metadata": {
        "id": "ewFVnaiaptGT",
        "colab": {
          "base_uri": "https://localhost:8080/"
        },
        "outputId": "f1baaf17-d4b8-4247-e945-2e04f2cd39ec"
      },
      "source": [
        "spd_df['Relation'].unique()"
      ],
      "execution_count": 7,
      "outputs": [
        {
          "output_type": "execute_result",
          "data": {
            "text/plain": [
              "array(['Father', 'Mum'], dtype=object)"
            ]
          },
          "metadata": {
            "tags": []
          },
          "execution_count": 7
        }
      ]
    },
    {
      "cell_type": "markdown",
      "metadata": {
        "id": "20sZlbaMqoQS"
      },
      "source": [
        "For uniformity, we will be renaming Mum to Mother."
      ]
    },
    {
      "cell_type": "code",
      "metadata": {
        "colab": {
          "base_uri": "https://localhost:8080/"
        },
        "id": "L0IolrCNrF25",
        "outputId": "2edcf4a2-ceb9-45c2-f400-60657514efda"
      },
      "source": [
        "spd_df['Relation'].replace({'Mum':'Mother'}, inplace=True)\n",
        "spd_df['Relation'].unique()"
      ],
      "execution_count": 8,
      "outputs": [
        {
          "output_type": "execute_result",
          "data": {
            "text/plain": [
              "array(['Father', 'Mother'], dtype=object)"
            ]
          },
          "metadata": {
            "tags": []
          },
          "execution_count": 8
        }
      ]
    },
    {
      "cell_type": "markdown",
      "metadata": {
        "id": "LV-uLQkql9rE"
      },
      "source": [
        "#### **Renaming countries from the `BirthPlace` column**  "
      ]
    },
    {
      "cell_type": "markdown",
      "metadata": {
        "id": "lzMIQzPYmYfI"
      },
      "source": [
        "Let's turn `lebanon` into `Lebanon`."
      ]
    },
    {
      "cell_type": "code",
      "metadata": {
        "id": "6uPLx2bDnD-T"
      },
      "source": [
        "spd_df.replace({'BirthPlace': {'lebanon': 'Lebanon'}}, inplace=True)"
      ],
      "execution_count": 9,
      "outputs": []
    },
    {
      "cell_type": "code",
      "metadata": {
        "colab": {
          "base_uri": "https://localhost:8080/"
        },
        "id": "b0bRfInOmkqB",
        "outputId": "406a6a4b-e45d-4bc9-bbc0-aca6b78d2ef6"
      },
      "source": [
        "spd_df['BirthPlace'].unique()"
      ],
      "execution_count": 10,
      "outputs": [
        {
          "output_type": "execute_result",
          "data": {
            "text/plain": [
              "array(['KuwaIT', 'Lebanon', 'Egypt', 'SaudiArabia', 'USA', 'Jordan',\n",
              "       'venzuela', 'Iran', 'Tunis', 'Morocco', 'Syria', 'Iraq',\n",
              "       'Palestine', 'Lybia'], dtype=object)"
            ]
          },
          "metadata": {
            "tags": []
          },
          "execution_count": 10
        }
      ]
    },
    {
      "cell_type": "markdown",
      "metadata": {
        "id": "HuX6a-Cxn1mO"
      },
      "source": [
        "#### **Renaming countries from the `Nationality` column**  "
      ]
    },
    {
      "cell_type": "markdown",
      "metadata": {
        "id": "4DaTuJWroA58"
      },
      "source": [
        "Let's turn `KW` into `Kuwait`."
      ]
    },
    {
      "cell_type": "code",
      "metadata": {
        "id": "YLwyv7qVoGH8"
      },
      "source": [
        "spd_df[spd_df['Nationality'] == 'KW'] = 'Kuwait' "
      ],
      "execution_count": 26,
      "outputs": []
    },
    {
      "cell_type": "code",
      "metadata": {
        "colab": {
          "base_uri": "https://localhost:8080/"
        },
        "id": "ArJFox0onwXN",
        "outputId": "3b46bd79-ca2a-4b66-b009-98adb4e922ee"
      },
      "source": [
        "spd_df['Nationality'].unique()"
      ],
      "execution_count": 27,
      "outputs": [
        {
          "output_type": "execute_result",
          "data": {
            "text/plain": [
              "array(['Kuwait', 'lebanon', 'Egypt', 'SaudiArabia', 'USA', 'Jordan',\n",
              "       'venzuela', 'Iran', 'Tunis', 'Morocco', 'Syria', 'Palestine',\n",
              "       'Iraq', 'Lybia'], dtype=object)"
            ]
          },
          "metadata": {
            "tags": []
          },
          "execution_count": 27
        }
      ]
    },
    {
      "cell_type": "code",
      "metadata": {
        "colab": {
          "base_uri": "https://localhost:8080/",
          "height": 439
        },
        "id": "eIxLuYwUoLFl",
        "outputId": "c14d8f5e-0d38-4169-9e14-cfcfe36356fc"
      },
      "source": [
        "spd_df"
      ],
      "execution_count": null,
      "outputs": [
        {
          "output_type": "execute_result",
          "data": {
            "text/html": [
              "<div>\n",
              "<style scoped>\n",
              "    .dataframe tbody tr th:only-of-type {\n",
              "        vertical-align: middle;\n",
              "    }\n",
              "\n",
              "    .dataframe tbody tr th {\n",
              "        vertical-align: top;\n",
              "    }\n",
              "\n",
              "    .dataframe thead th {\n",
              "        text-align: right;\n",
              "    }\n",
              "</style>\n",
              "<table border=\"1\" class=\"dataframe\">\n",
              "  <thead>\n",
              "    <tr style=\"text-align: right;\">\n",
              "      <th></th>\n",
              "      <th>Gender</th>\n",
              "      <th>Nationality</th>\n",
              "      <th>BirthPlace</th>\n",
              "      <th>StageID</th>\n",
              "      <th>GradeID</th>\n",
              "      <th>SectionID</th>\n",
              "      <th>Topic</th>\n",
              "      <th>Semester</th>\n",
              "      <th>Relation</th>\n",
              "      <th>RaisedHands</th>\n",
              "      <th>VisitedResources</th>\n",
              "      <th>AnnouncementsView</th>\n",
              "      <th>Discussion</th>\n",
              "      <th>ParentAnsweringSurvey</th>\n",
              "      <th>ParentSchoolSatisfaction</th>\n",
              "      <th>StudentAbsenceDays</th>\n",
              "      <th>Class</th>\n",
              "    </tr>\n",
              "  </thead>\n",
              "  <tbody>\n",
              "    <tr>\n",
              "      <th>0</th>\n",
              "      <td>Kuwait</td>\n",
              "      <td>Kuwait</td>\n",
              "      <td>Kuwait</td>\n",
              "      <td>Kuwait</td>\n",
              "      <td>Kuwait</td>\n",
              "      <td>Kuwait</td>\n",
              "      <td>Kuwait</td>\n",
              "      <td>Kuwait</td>\n",
              "      <td>Kuwait</td>\n",
              "      <td>Kuwait</td>\n",
              "      <td>Kuwait</td>\n",
              "      <td>Kuwait</td>\n",
              "      <td>Kuwait</td>\n",
              "      <td>Kuwait</td>\n",
              "      <td>Kuwait</td>\n",
              "      <td>Kuwait</td>\n",
              "      <td>Kuwait</td>\n",
              "    </tr>\n",
              "    <tr>\n",
              "      <th>1</th>\n",
              "      <td>Kuwait</td>\n",
              "      <td>Kuwait</td>\n",
              "      <td>Kuwait</td>\n",
              "      <td>Kuwait</td>\n",
              "      <td>Kuwait</td>\n",
              "      <td>Kuwait</td>\n",
              "      <td>Kuwait</td>\n",
              "      <td>Kuwait</td>\n",
              "      <td>Kuwait</td>\n",
              "      <td>Kuwait</td>\n",
              "      <td>Kuwait</td>\n",
              "      <td>Kuwait</td>\n",
              "      <td>Kuwait</td>\n",
              "      <td>Kuwait</td>\n",
              "      <td>Kuwait</td>\n",
              "      <td>Kuwait</td>\n",
              "      <td>Kuwait</td>\n",
              "    </tr>\n",
              "    <tr>\n",
              "      <th>2</th>\n",
              "      <td>Kuwait</td>\n",
              "      <td>Kuwait</td>\n",
              "      <td>Kuwait</td>\n",
              "      <td>Kuwait</td>\n",
              "      <td>Kuwait</td>\n",
              "      <td>Kuwait</td>\n",
              "      <td>Kuwait</td>\n",
              "      <td>Kuwait</td>\n",
              "      <td>Kuwait</td>\n",
              "      <td>Kuwait</td>\n",
              "      <td>Kuwait</td>\n",
              "      <td>Kuwait</td>\n",
              "      <td>Kuwait</td>\n",
              "      <td>Kuwait</td>\n",
              "      <td>Kuwait</td>\n",
              "      <td>Kuwait</td>\n",
              "      <td>Kuwait</td>\n",
              "    </tr>\n",
              "    <tr>\n",
              "      <th>3</th>\n",
              "      <td>Kuwait</td>\n",
              "      <td>Kuwait</td>\n",
              "      <td>Kuwait</td>\n",
              "      <td>Kuwait</td>\n",
              "      <td>Kuwait</td>\n",
              "      <td>Kuwait</td>\n",
              "      <td>Kuwait</td>\n",
              "      <td>Kuwait</td>\n",
              "      <td>Kuwait</td>\n",
              "      <td>Kuwait</td>\n",
              "      <td>Kuwait</td>\n",
              "      <td>Kuwait</td>\n",
              "      <td>Kuwait</td>\n",
              "      <td>Kuwait</td>\n",
              "      <td>Kuwait</td>\n",
              "      <td>Kuwait</td>\n",
              "      <td>Kuwait</td>\n",
              "    </tr>\n",
              "    <tr>\n",
              "      <th>4</th>\n",
              "      <td>Kuwait</td>\n",
              "      <td>Kuwait</td>\n",
              "      <td>Kuwait</td>\n",
              "      <td>Kuwait</td>\n",
              "      <td>Kuwait</td>\n",
              "      <td>Kuwait</td>\n",
              "      <td>Kuwait</td>\n",
              "      <td>Kuwait</td>\n",
              "      <td>Kuwait</td>\n",
              "      <td>Kuwait</td>\n",
              "      <td>Kuwait</td>\n",
              "      <td>Kuwait</td>\n",
              "      <td>Kuwait</td>\n",
              "      <td>Kuwait</td>\n",
              "      <td>Kuwait</td>\n",
              "      <td>Kuwait</td>\n",
              "      <td>Kuwait</td>\n",
              "    </tr>\n",
              "    <tr>\n",
              "      <th>...</th>\n",
              "      <td>...</td>\n",
              "      <td>...</td>\n",
              "      <td>...</td>\n",
              "      <td>...</td>\n",
              "      <td>...</td>\n",
              "      <td>...</td>\n",
              "      <td>...</td>\n",
              "      <td>...</td>\n",
              "      <td>...</td>\n",
              "      <td>...</td>\n",
              "      <td>...</td>\n",
              "      <td>...</td>\n",
              "      <td>...</td>\n",
              "      <td>...</td>\n",
              "      <td>...</td>\n",
              "      <td>...</td>\n",
              "      <td>...</td>\n",
              "    </tr>\n",
              "    <tr>\n",
              "      <th>475</th>\n",
              "      <td>F</td>\n",
              "      <td>Jordan</td>\n",
              "      <td>Jordan</td>\n",
              "      <td>MiddleSchool</td>\n",
              "      <td>G-08</td>\n",
              "      <td>A</td>\n",
              "      <td>Chemistry</td>\n",
              "      <td>S</td>\n",
              "      <td>Father</td>\n",
              "      <td>5</td>\n",
              "      <td>4</td>\n",
              "      <td>5</td>\n",
              "      <td>8</td>\n",
              "      <td>No</td>\n",
              "      <td>Bad</td>\n",
              "      <td>Above-7</td>\n",
              "      <td>L</td>\n",
              "    </tr>\n",
              "    <tr>\n",
              "      <th>476</th>\n",
              "      <td>F</td>\n",
              "      <td>Jordan</td>\n",
              "      <td>Jordan</td>\n",
              "      <td>MiddleSchool</td>\n",
              "      <td>G-08</td>\n",
              "      <td>A</td>\n",
              "      <td>Geology</td>\n",
              "      <td>F</td>\n",
              "      <td>Father</td>\n",
              "      <td>50</td>\n",
              "      <td>77</td>\n",
              "      <td>14</td>\n",
              "      <td>28</td>\n",
              "      <td>No</td>\n",
              "      <td>Bad</td>\n",
              "      <td>Under-7</td>\n",
              "      <td>M</td>\n",
              "    </tr>\n",
              "    <tr>\n",
              "      <th>477</th>\n",
              "      <td>F</td>\n",
              "      <td>Jordan</td>\n",
              "      <td>Jordan</td>\n",
              "      <td>MiddleSchool</td>\n",
              "      <td>G-08</td>\n",
              "      <td>A</td>\n",
              "      <td>Geology</td>\n",
              "      <td>S</td>\n",
              "      <td>Father</td>\n",
              "      <td>55</td>\n",
              "      <td>74</td>\n",
              "      <td>25</td>\n",
              "      <td>29</td>\n",
              "      <td>No</td>\n",
              "      <td>Bad</td>\n",
              "      <td>Under-7</td>\n",
              "      <td>M</td>\n",
              "    </tr>\n",
              "    <tr>\n",
              "      <th>478</th>\n",
              "      <td>F</td>\n",
              "      <td>Jordan</td>\n",
              "      <td>Jordan</td>\n",
              "      <td>MiddleSchool</td>\n",
              "      <td>G-08</td>\n",
              "      <td>A</td>\n",
              "      <td>History</td>\n",
              "      <td>F</td>\n",
              "      <td>Father</td>\n",
              "      <td>30</td>\n",
              "      <td>17</td>\n",
              "      <td>14</td>\n",
              "      <td>57</td>\n",
              "      <td>No</td>\n",
              "      <td>Bad</td>\n",
              "      <td>Above-7</td>\n",
              "      <td>L</td>\n",
              "    </tr>\n",
              "    <tr>\n",
              "      <th>479</th>\n",
              "      <td>F</td>\n",
              "      <td>Jordan</td>\n",
              "      <td>Jordan</td>\n",
              "      <td>MiddleSchool</td>\n",
              "      <td>G-08</td>\n",
              "      <td>A</td>\n",
              "      <td>History</td>\n",
              "      <td>S</td>\n",
              "      <td>Father</td>\n",
              "      <td>35</td>\n",
              "      <td>14</td>\n",
              "      <td>23</td>\n",
              "      <td>62</td>\n",
              "      <td>No</td>\n",
              "      <td>Bad</td>\n",
              "      <td>Above-7</td>\n",
              "      <td>L</td>\n",
              "    </tr>\n",
              "  </tbody>\n",
              "</table>\n",
              "<p>480 rows × 17 columns</p>\n",
              "</div>"
            ],
            "text/plain": [
              "     Gender Nationality  ... StudentAbsenceDays   Class\n",
              "0    Kuwait      Kuwait  ...             Kuwait  Kuwait\n",
              "1    Kuwait      Kuwait  ...             Kuwait  Kuwait\n",
              "2    Kuwait      Kuwait  ...             Kuwait  Kuwait\n",
              "3    Kuwait      Kuwait  ...             Kuwait  Kuwait\n",
              "4    Kuwait      Kuwait  ...             Kuwait  Kuwait\n",
              "..      ...         ...  ...                ...     ...\n",
              "475       F      Jordan  ...            Above-7       L\n",
              "476       F      Jordan  ...            Under-7       M\n",
              "477       F      Jordan  ...            Under-7       M\n",
              "478       F      Jordan  ...            Above-7       L\n",
              "479       F      Jordan  ...            Above-7       L\n",
              "\n",
              "[480 rows x 17 columns]"
            ]
          },
          "metadata": {
            "tags": []
          },
          "execution_count": 29
        }
      ]
    },
    {
      "cell_type": "markdown",
      "metadata": {
        "id": "zTzcZkil4g7e"
      },
      "source": [
        "### **Exploratory Analysis**  \n",
        "Now that we have cleaned our dataset, we can now proceed in analyzing our data and conduct exploratory analysis to understand the dataset further. As mentioned, we aim to know which factors affect student's academic grades specifically we want to address the following questions:  \n",
        "* Do students who participate more have higher grades than those who participate less?\n",
        "* Does parent participation and satisfaction affect a student’s performance?\n",
        "* Do the number of class absences greatly affect the student’s grades?\n",
        "* Does visiting class resources result in higher class grades?"
      ]
    },
    {
      "cell_type": "markdown",
      "metadata": {
        "id": "k2EK_qiW5Rpo"
      },
      "source": [
        "#### ***Q1: Do students who participate more have higher grades than those who participate less?***  \n",
        "Student engagement has been defined as “students’ willingness, need, desire, and compulsion to participate in, and be successful in, the learning process”. \n",
        "For the first question, we wanted to know if there is a correlation on the student's participation and academic performance. With this, we will be using the following features:  \n",
        "* `AnnouncementsView`: Total number of times a student checks the announcements<br>\n",
        "* `Discussion`: Total number of times a student participates on discussion groups<br>\n",
        "* `RaisedHands`: Total number of times a student raises his/her hand  <br>\n",
        "* `Class`: Represents the interval of a student total grade <br>\n",
        "  * _Low_: interval includes values from 0 to 69\n",
        "  * _Middle_: interval includes values from 70 to 89\n",
        "  * _High_: interval includes values from 90-100\n",
        "  \n",
        "To start, let us assign to a DataFrame variable the needed features for this research question. "
      ]
    },
    {
      "cell_type": "code",
      "metadata": {
        "colab": {
          "base_uri": "https://localhost:8080/",
          "height": 419
        },
        "id": "1EDiHR7QPiEP",
        "outputId": "f9b6d05f-ebda-4e55-f677-89c27ca5a514"
      },
      "source": [
        "q1_df = spd_df[[\"Gender\", \"AnnouncementsView\", \"Discussion\", \"RaisedHands\", \"Class\"]].copy()\n",
        "q1_df"
      ],
      "execution_count": 25,
      "outputs": [
        {
          "output_type": "execute_result",
          "data": {
            "text/html": [
              "<div>\n",
              "<style scoped>\n",
              "    .dataframe tbody tr th:only-of-type {\n",
              "        vertical-align: middle;\n",
              "    }\n",
              "\n",
              "    .dataframe tbody tr th {\n",
              "        vertical-align: top;\n",
              "    }\n",
              "\n",
              "    .dataframe thead th {\n",
              "        text-align: right;\n",
              "    }\n",
              "</style>\n",
              "<table border=\"1\" class=\"dataframe\">\n",
              "  <thead>\n",
              "    <tr style=\"text-align: right;\">\n",
              "      <th></th>\n",
              "      <th>Gender</th>\n",
              "      <th>AnnouncementsView</th>\n",
              "      <th>Discussion</th>\n",
              "      <th>RaisedHands</th>\n",
              "      <th>Class</th>\n",
              "    </tr>\n",
              "  </thead>\n",
              "  <tbody>\n",
              "    <tr>\n",
              "      <th>0</th>\n",
              "      <td>M</td>\n",
              "      <td>2</td>\n",
              "      <td>20</td>\n",
              "      <td>15</td>\n",
              "      <td>M</td>\n",
              "    </tr>\n",
              "    <tr>\n",
              "      <th>1</th>\n",
              "      <td>M</td>\n",
              "      <td>3</td>\n",
              "      <td>25</td>\n",
              "      <td>20</td>\n",
              "      <td>M</td>\n",
              "    </tr>\n",
              "    <tr>\n",
              "      <th>2</th>\n",
              "      <td>M</td>\n",
              "      <td>0</td>\n",
              "      <td>30</td>\n",
              "      <td>10</td>\n",
              "      <td>L</td>\n",
              "    </tr>\n",
              "    <tr>\n",
              "      <th>3</th>\n",
              "      <td>M</td>\n",
              "      <td>5</td>\n",
              "      <td>35</td>\n",
              "      <td>30</td>\n",
              "      <td>L</td>\n",
              "    </tr>\n",
              "    <tr>\n",
              "      <th>4</th>\n",
              "      <td>M</td>\n",
              "      <td>12</td>\n",
              "      <td>50</td>\n",
              "      <td>40</td>\n",
              "      <td>M</td>\n",
              "    </tr>\n",
              "    <tr>\n",
              "      <th>...</th>\n",
              "      <td>...</td>\n",
              "      <td>...</td>\n",
              "      <td>...</td>\n",
              "      <td>...</td>\n",
              "      <td>...</td>\n",
              "    </tr>\n",
              "    <tr>\n",
              "      <th>475</th>\n",
              "      <td>F</td>\n",
              "      <td>5</td>\n",
              "      <td>8</td>\n",
              "      <td>5</td>\n",
              "      <td>L</td>\n",
              "    </tr>\n",
              "    <tr>\n",
              "      <th>476</th>\n",
              "      <td>F</td>\n",
              "      <td>14</td>\n",
              "      <td>28</td>\n",
              "      <td>50</td>\n",
              "      <td>M</td>\n",
              "    </tr>\n",
              "    <tr>\n",
              "      <th>477</th>\n",
              "      <td>F</td>\n",
              "      <td>25</td>\n",
              "      <td>29</td>\n",
              "      <td>55</td>\n",
              "      <td>M</td>\n",
              "    </tr>\n",
              "    <tr>\n",
              "      <th>478</th>\n",
              "      <td>F</td>\n",
              "      <td>14</td>\n",
              "      <td>57</td>\n",
              "      <td>30</td>\n",
              "      <td>L</td>\n",
              "    </tr>\n",
              "    <tr>\n",
              "      <th>479</th>\n",
              "      <td>F</td>\n",
              "      <td>23</td>\n",
              "      <td>62</td>\n",
              "      <td>35</td>\n",
              "      <td>L</td>\n",
              "    </tr>\n",
              "  </tbody>\n",
              "</table>\n",
              "<p>480 rows × 5 columns</p>\n",
              "</div>"
            ],
            "text/plain": [
              "    Gender  AnnouncementsView  Discussion  RaisedHands Class\n",
              "0        M                  2          20           15     M\n",
              "1        M                  3          25           20     M\n",
              "2        M                  0          30           10     L\n",
              "3        M                  5          35           30     L\n",
              "4        M                 12          50           40     M\n",
              "..     ...                ...         ...          ...   ...\n",
              "475      F                  5           8            5     L\n",
              "476      F                 14          28           50     M\n",
              "477      F                 25          29           55     M\n",
              "478      F                 14          57           30     L\n",
              "479      F                 23          62           35     L\n",
              "\n",
              "[480 rows x 5 columns]"
            ]
          },
          "metadata": {
            "tags": []
          },
          "execution_count": 25
        }
      ]
    },
    {
      "cell_type": "markdown",
      "metadata": {
        "id": "Qnknit02WJ_2"
      },
      "source": [
        "Now, let's try visualizing the relationship between the variables `RaisedHands` and `Class` using a bar plot."
      ]
    },
    {
      "cell_type": "code",
      "metadata": {
        "colab": {
          "base_uri": "https://localhost:8080/",
          "height": 296
        },
        "id": "5PKMaok6Wgd1",
        "outputId": "388f4bb0-fa42-4a76-af6b-f52f84d4b3c2"
      },
      "source": [
        "sns.barplot(x=\"Class\", y=\"RaisedHands\", order=[\"L\", \"M\", \"H\"], data=q1_df)"
      ],
      "execution_count": 26,
      "outputs": [
        {
          "output_type": "execute_result",
          "data": {
            "text/plain": [
              "<matplotlib.axes._subplots.AxesSubplot at 0x7f2967470710>"
            ]
          },
          "metadata": {
            "tags": []
          },
          "execution_count": 26
        },
        {
          "output_type": "display_data",
          "data": {
            "image/png": "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\n",
            "text/plain": [
              "<Figure size 432x288 with 1 Axes>"
            ]
          },
          "metadata": {
            "tags": [],
            "needs_background": "light"
          }
        }
      ]
    },
    {
      "cell_type": "markdown",
      "metadata": {
        "id": "oCzbOB_patg1"
      },
      "source": [
        "We can see from the figure above that students with higher grades tends to raised their hands in class than those who have lower grades. Let's try to visualize if this will also be the case when it comes to participation in discussion and viewing of announcements."
      ]
    },
    {
      "cell_type": "code",
      "metadata": {
        "colab": {
          "base_uri": "https://localhost:8080/",
          "height": 354
        },
        "id": "ZsVsWjI9d_Kh",
        "outputId": "e5ec6de7-01cb-4bd1-ee65-4272da6c6e62"
      },
      "source": [
        "fig, axarr  = plt.subplots(1,2,figsize=(10,5))\n",
        "sns.barplot(x='Class', y='Discussion', order=['L','M','H'], data=q1_df,  ax=axarr[0])\n",
        "sns.barplot(x='Class', y='AnnouncementsView', order=['L','M','H'], data=q1_df, ax=axarr[1])"
      ],
      "execution_count": 28,
      "outputs": [
        {
          "output_type": "execute_result",
          "data": {
            "text/plain": [
              "<matplotlib.axes._subplots.AxesSubplot at 0x7f296769b590>"
            ]
          },
          "metadata": {
            "tags": []
          },
          "execution_count": 28
        },
        {
          "output_type": "display_data",
          "data": {
            "image/png": "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\n",
            "text/plain": [
              "<Figure size 720x360 with 2 Axes>"
            ]
          },
          "metadata": {
            "tags": [],
            "needs_background": "light"
          }
        }
      ]
    },
    {
      "cell_type": "markdown",
      "metadata": {
        "id": "5cSFVkCoiPpj"
      },
      "source": [
        "Students who also participates in discussions more often as well as check announcements tend to have a better academic performance. "
      ]
    },
    {
      "cell_type": "code",
      "metadata": {
        "colab": {
          "base_uri": "https://localhost:8080/",
          "height": 351
        },
        "id": "oXrgrg5EjVja",
        "outputId": "6e1be5a0-b5a5-4e06-efa9-516b5f5f93cf"
      },
      "source": [
        "fig, axarr  = plt.subplots(1,3,figsize=(15,5))\n",
        "sns.barplot(x='Class', y='Discussion', hue=\"Gender\", order=['L','M','H'], data=q1_df,  ax=axarr[0])\n",
        "sns.barplot(x='Class', y='AnnouncementsView', hue=\"Gender\", order=['L','M','H'], data=q1_df, ax=axarr[1])\n",
        "sns.barplot(x=\"Class\", y=\"RaisedHands\", hue=\"Gender\", order=[\"L\", \"M\", \"H\"], data=q1_df, ax=axarr[2])"
      ],
      "execution_count": 30,
      "outputs": [
        {
          "output_type": "execute_result",
          "data": {
            "text/plain": [
              "<matplotlib.axes._subplots.AxesSubplot at 0x7f29634af3d0>"
            ]
          },
          "metadata": {
            "tags": []
          },
          "execution_count": 30
        },
        {
          "output_type": "display_data",
          "data": {
            "image/png": "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\n",
            "text/plain": [
              "<Figure size 1080x360 with 3 Axes>"
            ]
          },
          "metadata": {
            "tags": [],
            "needs_background": "light"
          }
        }
      ]
    },
    {
      "cell_type": "markdown",
      "metadata": {
        "id": "1lknMbzt52JO"
      },
      "source": [
        "#### ***Q2: Does parent participation and satisfaction affect a student’s performance?***"
      ]
    },
    {
      "cell_type": "markdown",
      "metadata": {
        "id": "-HT7yLU153-L"
      },
      "source": [
        "#### ***Q3: Do the number of class absences greatly affect the student’s grades??***"
      ]
    },
    {
      "cell_type": "markdown",
      "metadata": {
        "id": "ITtMyZZf55JH"
      },
      "source": [
        "#### ***Q4: Does visiting class resources result in higher class grades??***"
      ]
=======
     "output_type": "execute_result",
     "execution_count": 53,
     "data": {
      "text/plain": "<AxesSubplot:xlabel='Class', ylabel='VisitedResources'>"
     },
     "metadata": {}
    },
    {
     "data": {
      "text/plain": "<Figure size 432x288 with 1 Axes>",
      "image/png": "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\n"
     },
     "metadata": {
      "needs_background": "light",
      "image/png": {
       "width": 382,
       "height": 262
      }
     },
     "output_type": "display_data"
    }
   ]
  },
  {
   "cell_type": "markdown",
   "source": "As seen from the mean values, the __High (H)__ class has the highest value when it comes to visiting course content, whilst the __Low (L)__ class having the lowest value.",
   "metadata": {
    "tags": [],
    "cell_id": "00110-417b443f-f95c-4307-882f-e2259a1ef11c",
    "deepnote_to_be_reexecuted": false,
    "source_hash": "faf3613b",
    "execution_start": 1621962998924,
    "execution_millis": 6,
    "deepnote_cell_type": "markdown"
   }
  },
  {
   "cell_type": "markdown",
   "source": "Now, let's further explore by (ano pa pwedeng gawin hol awn)",
   "metadata": {
    "tags": [],
    "cell_id": "00111-9174e2b6-8758-4fdf-b825-f9b172d5ecd3",
    "deepnote_cell_type": "markdown"
   }
  },
  {
   "cell_type": "code",
   "source": "spd_df",
   "metadata": {
    "tags": [],
    "cell_id": "00120-9fc19f01-2409-44db-a0a6-85cffd87f4c0",
    "deepnote_to_be_reexecuted": false,
    "source_hash": "511618e5",
    "execution_start": 1622445255595,
    "execution_millis": 184,
    "deepnote_cell_type": "code"
   },
   "outputs": [
    {
     "output_type": "execute_result",
     "execution_count": 54,
     "data": {
      "application/vnd.deepnote.dataframe.v2+json": {
       "row_count": 480,
       "column_count": 18,
       "columns": [
        {
         "name": "Gender",
         "dtype": "object",
         "stats": {
          "unique_count": 2,
          "nan_count": 0,
          "categories": [
           {
            "name": "M",
            "count": 305
           },
           {
            "name": "F",
            "count": 175
           }
          ]
         }
        },
        {
         "name": "Nationality",
         "dtype": "object",
         "stats": {
          "unique_count": 14,
          "nan_count": 0,
          "categories": [
           {
            "name": "Kuwait",
            "count": 179
           },
           {
            "name": "Jordan",
            "count": 172
           },
           {
            "name": "12 others",
            "count": 129
           }
          ]
         }
        },
        {
         "name": "BirthPlace",
         "dtype": "object",
         "stats": {
          "unique_count": 14,
          "nan_count": 0,
          "categories": [
           {
            "name": "Kuwait",
            "count": 180
           },
           {
            "name": "Jordan",
            "count": 176
           },
           {
            "name": "12 others",
            "count": 124
           }
          ]
         }
        },
        {
         "name": "StageID",
         "dtype": "object",
         "stats": {
          "unique_count": 3,
          "nan_count": 0,
          "categories": [
           {
            "name": "MiddleSchool",
            "count": 249
           },
           {
            "name": "lowerlevel",
            "count": 198
           },
           {
            "name": "HighSchool",
            "count": 33
           }
          ]
         }
        },
        {
         "name": "GradeID",
         "dtype": "object",
         "stats": {
          "unique_count": 10,
          "nan_count": 0,
          "categories": [
           {
            "name": "G-02",
            "count": 147
           },
           {
            "name": "G-08",
            "count": 116
           },
           {
            "name": "8 others",
            "count": 217
           }
          ]
         }
        },
        {
         "name": "SectionID",
         "dtype": "object",
         "stats": {
          "unique_count": 3,
          "nan_count": 0,
          "categories": [
           {
            "name": "A",
            "count": 283
           },
           {
            "name": "B",
            "count": 167
           },
           {
            "name": "C",
            "count": 30
           }
          ]
         }
        },
        {
         "name": "Topic",
         "dtype": "object",
         "stats": {
          "unique_count": 12,
          "nan_count": 0,
          "categories": [
           {
            "name": "IT",
            "count": 95
           },
           {
            "name": "French",
            "count": 65
           },
           {
            "name": "10 others",
            "count": 320
           }
          ]
         }
        },
        {
         "name": "Semester",
         "dtype": "object",
         "stats": {
          "unique_count": 2,
          "nan_count": 0,
          "categories": [
           {
            "name": "F",
            "count": 245
           },
           {
            "name": "S",
            "count": 235
           }
          ]
         }
        },
        {
         "name": "Relation",
         "dtype": "object",
         "stats": {
          "unique_count": 2,
          "nan_count": 0,
          "categories": [
           {
            "name": "Father",
            "count": 283
           },
           {
            "name": "Mother",
            "count": 197
           }
          ]
         }
        },
        {
         "name": "RaisedHands",
         "dtype": "int64",
         "stats": {
          "unique_count": 82,
          "nan_count": 0,
          "min": "0",
          "max": "100",
          "histogram": [
           {
            "bin_start": 0,
            "bin_end": 10,
            "count": 50
           },
           {
            "bin_start": 10,
            "bin_end": 20,
            "count": 90
           },
           {
            "bin_start": 20,
            "bin_end": 30,
            "count": 48
           },
           {
            "bin_start": 30,
            "bin_end": 40,
            "count": 31
           },
           {
            "bin_start": 40,
            "bin_end": 50,
            "count": 18
           },
           {
            "bin_start": 50,
            "bin_end": 60,
            "count": 33
           },
           {
            "bin_start": 60,
            "bin_end": 70,
            "count": 31
           },
           {
            "bin_start": 70,
            "bin_end": 80,
            "count": 80
           },
           {
            "bin_start": 80,
            "bin_end": 90,
            "count": 66
           },
           {
            "bin_start": 90,
            "bin_end": 100,
            "count": 33
           }
          ]
         }
        },
        {
         "name": "VisitedResources",
         "dtype": "int64",
         "stats": {
          "unique_count": 89,
          "nan_count": 0,
          "min": "0",
          "max": "99",
          "histogram": [
           {
            "bin_start": 0,
            "bin_end": 9.9,
            "count": 63
           },
           {
            "bin_start": 9.9,
            "bin_end": 19.8,
            "count": 55
           },
           {
            "bin_start": 19.8,
            "bin_end": 29.700000000000003,
            "count": 33
           },
           {
            "bin_start": 29.700000000000003,
            "bin_end": 39.6,
            "count": 22
           },
           {
            "bin_start": 39.6,
            "bin_end": 49.5,
            "count": 15
           },
           {
            "bin_start": 49.5,
            "bin_end": 59.400000000000006,
            "count": 27
           },
           {
            "bin_start": 59.400000000000006,
            "bin_end": 69.3,
            "count": 32
           },
           {
            "bin_start": 69.3,
            "bin_end": 79.2,
            "count": 50
           },
           {
            "bin_start": 79.2,
            "bin_end": 89.10000000000001,
            "count": 107
           },
           {
            "bin_start": 89.10000000000001,
            "bin_end": 99,
            "count": 76
           }
          ]
         }
        },
        {
         "name": "AnnouncementsView",
         "dtype": "int64",
         "stats": {
          "unique_count": 88,
          "nan_count": 0,
          "min": "0",
          "max": "98",
          "histogram": [
           {
            "bin_start": 0,
            "bin_end": 9.8,
            "count": 72
           },
           {
            "bin_start": 9.8,
            "bin_end": 19.6,
            "count": 78
           },
           {
            "bin_start": 19.6,
            "bin_end": 29.400000000000002,
            "count": 63
           },
           {
            "bin_start": 29.400000000000002,
            "bin_end": 39.2,
            "count": 45
           },
           {
            "bin_start": 39.2,
            "bin_end": 49,
            "count": 47
           },
           {
            "bin_start": 49,
            "bin_end": 58.800000000000004,
            "count": 59
           },
           {
            "bin_start": 58.800000000000004,
            "bin_end": 68.60000000000001,
            "count": 27
           },
           {
            "bin_start": 68.60000000000001,
            "bin_end": 78.4,
            "count": 36
           },
           {
            "bin_start": 78.4,
            "bin_end": 88.2,
            "count": 42
           },
           {
            "bin_start": 88.2,
            "bin_end": 98,
            "count": 11
           }
          ]
         }
        },
        {
         "name": "Discussion",
         "dtype": "int64",
         "stats": {
          "unique_count": 90,
          "nan_count": 0,
          "min": "1",
          "max": "99",
          "histogram": [
           {
            "bin_start": 1,
            "bin_end": 10.8,
            "count": 52
           },
           {
            "bin_start": 10.8,
            "bin_end": 20.6,
            "count": 77
           },
           {
            "bin_start": 20.6,
            "bin_end": 30.400000000000002,
            "count": 66
           },
           {
            "bin_start": 30.400000000000002,
            "bin_end": 40.2,
            "count": 69
           },
           {
            "bin_start": 40.2,
            "bin_end": 50,
            "count": 26
           },
           {
            "bin_start": 50,
            "bin_end": 59.800000000000004,
            "count": 38
           },
           {
            "bin_start": 59.800000000000004,
            "bin_end": 69.60000000000001,
            "count": 28
           },
           {
            "bin_start": 69.60000000000001,
            "bin_end": 79.4,
            "count": 42
           },
           {
            "bin_start": 79.4,
            "bin_end": 89.2,
            "count": 53
           },
           {
            "bin_start": 89.2,
            "bin_end": 99,
            "count": 29
           }
          ]
         }
        },
        {
         "name": "ParentAnsweringSurvey",
         "dtype": "object",
         "stats": {
          "unique_count": 2,
          "nan_count": 0,
          "categories": [
           {
            "name": "Yes",
            "count": 270
           },
           {
            "name": "No",
            "count": 210
           }
          ]
         }
        },
        {
         "name": "ParentSchoolSatisfaction",
         "dtype": "object",
         "stats": {
          "unique_count": 2,
          "nan_count": 0,
          "categories": [
           {
            "name": "Good",
            "count": 292
           },
           {
            "name": "Bad",
            "count": 188
           }
          ]
         }
        },
        {
         "name": "StudentAbsenceDays",
         "dtype": "object",
         "stats": {
          "unique_count": 2,
          "nan_count": 0,
          "categories": [
           {
            "name": "Under-7",
            "count": 289
           },
           {
            "name": "Above-7",
            "count": 191
           }
          ]
         }
        },
        {
         "name": "Class",
         "dtype": "object",
         "stats": {
          "unique_count": 3,
          "nan_count": 0,
          "categories": [
           {
            "name": "M",
            "count": 211
           },
           {
            "name": "H",
            "count": 142
           },
           {
            "name": "L",
            "count": 127
           }
          ]
         }
        },
        {
         "name": "ParticipationAndSatisfaction",
         "dtype": "object",
         "stats": {
          "unique_count": 4,
          "nan_count": 0,
          "categories": [
           {
            "name": "YesGood",
            "count": 227
           },
           {
            "name": "NoBad",
            "count": 145
           },
           {
            "name": "2 others",
            "count": 108
           }
          ]
         }
        },
        {
         "name": "_deepnote_index_column",
         "dtype": "int64"
        }
       ],
       "rows_top": [
        {
         "Gender": "M",
         "Nationality": "Kuwait",
         "BirthPlace": "Kuwait",
         "StageID": "lowerlevel",
         "GradeID": "G-04",
         "SectionID": "A",
         "Topic": "IT",
         "Semester": "F",
         "Relation": "Father",
         "RaisedHands": 15,
         "VisitedResources": 16,
         "AnnouncementsView": 2,
         "Discussion": 20,
         "ParentAnsweringSurvey": "Yes",
         "ParentSchoolSatisfaction": "Good",
         "StudentAbsenceDays": "Under-7",
         "Class": "M",
         "ParticipationAndSatisfaction": "YesGood",
         "_deepnote_index_column": 0
        },
        {
         "Gender": "M",
         "Nationality": "Kuwait",
         "BirthPlace": "Kuwait",
         "StageID": "lowerlevel",
         "GradeID": "G-04",
         "SectionID": "A",
         "Topic": "IT",
         "Semester": "F",
         "Relation": "Father",
         "RaisedHands": 20,
         "VisitedResources": 20,
         "AnnouncementsView": 3,
         "Discussion": 25,
         "ParentAnsweringSurvey": "Yes",
         "ParentSchoolSatisfaction": "Good",
         "StudentAbsenceDays": "Under-7",
         "Class": "M",
         "ParticipationAndSatisfaction": "YesGood",
         "_deepnote_index_column": 1
        },
        {
         "Gender": "M",
         "Nationality": "Kuwait",
         "BirthPlace": "Kuwait",
         "StageID": "lowerlevel",
         "GradeID": "G-04",
         "SectionID": "A",
         "Topic": "IT",
         "Semester": "F",
         "Relation": "Father",
         "RaisedHands": 10,
         "VisitedResources": 7,
         "AnnouncementsView": 0,
         "Discussion": 30,
         "ParentAnsweringSurvey": "No",
         "ParentSchoolSatisfaction": "Bad",
         "StudentAbsenceDays": "Above-7",
         "Class": "L",
         "ParticipationAndSatisfaction": "NoBad",
         "_deepnote_index_column": 2
        },
        {
         "Gender": "M",
         "Nationality": "Kuwait",
         "BirthPlace": "Kuwait",
         "StageID": "lowerlevel",
         "GradeID": "G-04",
         "SectionID": "A",
         "Topic": "IT",
         "Semester": "F",
         "Relation": "Father",
         "RaisedHands": 30,
         "VisitedResources": 25,
         "AnnouncementsView": 5,
         "Discussion": 35,
         "ParentAnsweringSurvey": "No",
         "ParentSchoolSatisfaction": "Bad",
         "StudentAbsenceDays": "Above-7",
         "Class": "L",
         "ParticipationAndSatisfaction": "NoBad",
         "_deepnote_index_column": 3
        },
        {
         "Gender": "M",
         "Nationality": "Kuwait",
         "BirthPlace": "Kuwait",
         "StageID": "lowerlevel",
         "GradeID": "G-04",
         "SectionID": "A",
         "Topic": "IT",
         "Semester": "F",
         "Relation": "Father",
         "RaisedHands": 40,
         "VisitedResources": 50,
         "AnnouncementsView": 12,
         "Discussion": 50,
         "ParentAnsweringSurvey": "No",
         "ParentSchoolSatisfaction": "Bad",
         "StudentAbsenceDays": "Above-7",
         "Class": "M",
         "ParticipationAndSatisfaction": "NoBad",
         "_deepnote_index_column": 4
        },
        {
         "Gender": "F",
         "Nationality": "Kuwait",
         "BirthPlace": "Kuwait",
         "StageID": "lowerlevel",
         "GradeID": "G-04",
         "SectionID": "A",
         "Topic": "IT",
         "Semester": "F",
         "Relation": "Father",
         "RaisedHands": 42,
         "VisitedResources": 30,
         "AnnouncementsView": 13,
         "Discussion": 70,
         "ParentAnsweringSurvey": "Yes",
         "ParentSchoolSatisfaction": "Bad",
         "StudentAbsenceDays": "Above-7",
         "Class": "M",
         "ParticipationAndSatisfaction": "YesBad",
         "_deepnote_index_column": 5
        },
        {
         "Gender": "M",
         "Nationality": "Kuwait",
         "BirthPlace": "Kuwait",
         "StageID": "MiddleSchool",
         "GradeID": "G-07",
         "SectionID": "A",
         "Topic": "Math",
         "Semester": "F",
         "Relation": "Father",
         "RaisedHands": 35,
         "VisitedResources": 12,
         "AnnouncementsView": 0,
         "Discussion": 17,
         "ParentAnsweringSurvey": "No",
         "ParentSchoolSatisfaction": "Bad",
         "StudentAbsenceDays": "Above-7",
         "Class": "L",
         "ParticipationAndSatisfaction": "NoBad",
         "_deepnote_index_column": 6
        },
        {
         "Gender": "M",
         "Nationality": "Kuwait",
         "BirthPlace": "Kuwait",
         "StageID": "MiddleSchool",
         "GradeID": "G-07",
         "SectionID": "A",
         "Topic": "Math",
         "Semester": "F",
         "Relation": "Father",
         "RaisedHands": 50,
         "VisitedResources": 10,
         "AnnouncementsView": 15,
         "Discussion": 22,
         "ParentAnsweringSurvey": "Yes",
         "ParentSchoolSatisfaction": "Good",
         "StudentAbsenceDays": "Under-7",
         "Class": "M",
         "ParticipationAndSatisfaction": "YesGood",
         "_deepnote_index_column": 7
        },
        {
         "Gender": "F",
         "Nationality": "Kuwait",
         "BirthPlace": "Kuwait",
         "StageID": "MiddleSchool",
         "GradeID": "G-07",
         "SectionID": "A",
         "Topic": "Math",
         "Semester": "F",
         "Relation": "Father",
         "RaisedHands": 12,
         "VisitedResources": 21,
         "AnnouncementsView": 16,
         "Discussion": 50,
         "ParentAnsweringSurvey": "Yes",
         "ParentSchoolSatisfaction": "Good",
         "StudentAbsenceDays": "Under-7",
         "Class": "M",
         "ParticipationAndSatisfaction": "YesGood",
         "_deepnote_index_column": 8
        },
        {
         "Gender": "F",
         "Nationality": "Kuwait",
         "BirthPlace": "Kuwait",
         "StageID": "MiddleSchool",
         "GradeID": "G-07",
         "SectionID": "B",
         "Topic": "IT",
         "Semester": "F",
         "Relation": "Father",
         "RaisedHands": 70,
         "VisitedResources": 80,
         "AnnouncementsView": 25,
         "Discussion": 70,
         "ParentAnsweringSurvey": "Yes",
         "ParentSchoolSatisfaction": "Good",
         "StudentAbsenceDays": "Under-7",
         "Class": "M",
         "ParticipationAndSatisfaction": "YesGood",
         "_deepnote_index_column": 9
        },
        {
         "Gender": "M",
         "Nationality": "Kuwait",
         "BirthPlace": "Kuwait",
         "StageID": "MiddleSchool",
         "GradeID": "G-07",
         "SectionID": "A",
         "Topic": "Math",
         "Semester": "F",
         "Relation": "Father",
         "RaisedHands": 50,
         "VisitedResources": 88,
         "AnnouncementsView": 30,
         "Discussion": 80,
         "ParentAnsweringSurvey": "Yes",
         "ParentSchoolSatisfaction": "Good",
         "StudentAbsenceDays": "Under-7",
         "Class": "H",
         "ParticipationAndSatisfaction": "YesGood",
         "_deepnote_index_column": 10
        },
        {
         "Gender": "M",
         "Nationality": "Kuwait",
         "BirthPlace": "Kuwait",
         "StageID": "MiddleSchool",
         "GradeID": "G-07",
         "SectionID": "B",
         "Topic": "Math",
         "Semester": "F",
         "Relation": "Father",
         "RaisedHands": 19,
         "VisitedResources": 6,
         "AnnouncementsView": 19,
         "Discussion": 12,
         "ParentAnsweringSurvey": "Yes",
         "ParentSchoolSatisfaction": "Good",
         "StudentAbsenceDays": "Under-7",
         "Class": "M",
         "ParticipationAndSatisfaction": "YesGood",
         "_deepnote_index_column": 11
        },
        {
         "Gender": "M",
         "Nationality": "Kuwait",
         "BirthPlace": "Kuwait",
         "StageID": "lowerlevel",
         "GradeID": "G-04",
         "SectionID": "A",
         "Topic": "IT",
         "Semester": "F",
         "Relation": "Father",
         "RaisedHands": 5,
         "VisitedResources": 1,
         "AnnouncementsView": 0,
         "Discussion": 11,
         "ParentAnsweringSurvey": "No",
         "ParentSchoolSatisfaction": "Bad",
         "StudentAbsenceDays": "Above-7",
         "Class": "L",
         "ParticipationAndSatisfaction": "NoBad",
         "_deepnote_index_column": 12
        },
        {
         "Gender": "M",
         "Nationality": "Lebanon",
         "BirthPlace": "Lebanon",
         "StageID": "MiddleSchool",
         "GradeID": "G-08",
         "SectionID": "A",
         "Topic": "Math",
         "Semester": "F",
         "Relation": "Father",
         "RaisedHands": 20,
         "VisitedResources": 14,
         "AnnouncementsView": 12,
         "Discussion": 19,
         "ParentAnsweringSurvey": "No",
         "ParentSchoolSatisfaction": "Bad",
         "StudentAbsenceDays": "Above-7",
         "Class": "L",
         "ParticipationAndSatisfaction": "NoBad",
         "_deepnote_index_column": 13
        },
        {
         "Gender": "F",
         "Nationality": "Kuwait",
         "BirthPlace": "Kuwait",
         "StageID": "MiddleSchool",
         "GradeID": "G-08",
         "SectionID": "A",
         "Topic": "Math",
         "Semester": "F",
         "Relation": "Mother",
         "RaisedHands": 62,
         "VisitedResources": 70,
         "AnnouncementsView": 44,
         "Discussion": 60,
         "ParentAnsweringSurvey": "No",
         "ParentSchoolSatisfaction": "Bad",
         "StudentAbsenceDays": "Above-7",
         "Class": "H",
         "ParticipationAndSatisfaction": "NoBad",
         "_deepnote_index_column": 14
        },
        {
         "Gender": "F",
         "Nationality": "Kuwait",
         "BirthPlace": "Kuwait",
         "StageID": "MiddleSchool",
         "GradeID": "G-06",
         "SectionID": "A",
         "Topic": "IT",
         "Semester": "F",
         "Relation": "Father",
         "RaisedHands": 30,
         "VisitedResources": 40,
         "AnnouncementsView": 22,
         "Discussion": 66,
         "ParentAnsweringSurvey": "Yes",
         "ParentSchoolSatisfaction": "Good",
         "StudentAbsenceDays": "Under-7",
         "Class": "M",
         "ParticipationAndSatisfaction": "YesGood",
         "_deepnote_index_column": 15
        },
        {
         "Gender": "M",
         "Nationality": "Kuwait",
         "BirthPlace": "Kuwait",
         "StageID": "MiddleSchool",
         "GradeID": "G-07",
         "SectionID": "B",
         "Topic": "IT",
         "Semester": "F",
         "Relation": "Father",
         "RaisedHands": 36,
         "VisitedResources": 30,
         "AnnouncementsView": 20,
         "Discussion": 80,
         "ParentAnsweringSurvey": "No",
         "ParentSchoolSatisfaction": "Bad",
         "StudentAbsenceDays": "Above-7",
         "Class": "M",
         "ParticipationAndSatisfaction": "NoBad",
         "_deepnote_index_column": 16
        },
        {
         "Gender": "M",
         "Nationality": "Kuwait",
         "BirthPlace": "Kuwait",
         "StageID": "MiddleSchool",
         "GradeID": "G-07",
         "SectionID": "A",
         "Topic": "Math",
         "Semester": "F",
         "Relation": "Father",
         "RaisedHands": 55,
         "VisitedResources": 13,
         "AnnouncementsView": 35,
         "Discussion": 90,
         "ParentAnsweringSurvey": "No",
         "ParentSchoolSatisfaction": "Bad",
         "StudentAbsenceDays": "Above-7",
         "Class": "M",
         "ParticipationAndSatisfaction": "NoBad",
         "_deepnote_index_column": 17
        },
        {
         "Gender": "F",
         "Nationality": "Kuwait",
         "BirthPlace": "Kuwait",
         "StageID": "MiddleSchool",
         "GradeID": "G-07",
         "SectionID": "A",
         "Topic": "IT",
         "Semester": "F",
         "Relation": "Mother",
         "RaisedHands": 69,
         "VisitedResources": 15,
         "AnnouncementsView": 36,
         "Discussion": 96,
         "ParentAnsweringSurvey": "Yes",
         "ParentSchoolSatisfaction": "Good",
         "StudentAbsenceDays": "Under-7",
         "Class": "M",
         "ParticipationAndSatisfaction": "YesGood",
         "_deepnote_index_column": 18
        },
        {
         "Gender": "M",
         "Nationality": "Kuwait",
         "BirthPlace": "Kuwait",
         "StageID": "MiddleSchool",
         "GradeID": "G-07",
         "SectionID": "B",
         "Topic": "IT",
         "Semester": "F",
         "Relation": "Mother",
         "RaisedHands": 70,
         "VisitedResources": 50,
         "AnnouncementsView": 40,
         "Discussion": 99,
         "ParentAnsweringSurvey": "Yes",
         "ParentSchoolSatisfaction": "Good",
         "StudentAbsenceDays": "Under-7",
         "Class": "H",
         "ParticipationAndSatisfaction": "YesGood",
         "_deepnote_index_column": 19
        },
        {
         "Gender": "F",
         "Nationality": "Kuwait",
         "BirthPlace": "Kuwait",
         "StageID": "MiddleSchool",
         "GradeID": "G-07",
         "SectionID": "A",
         "Topic": "IT",
         "Semester": "F",
         "Relation": "Father",
         "RaisedHands": 60,
         "VisitedResources": 60,
         "AnnouncementsView": 33,
         "Discussion": 90,
         "ParentAnsweringSurvey": "No",
         "ParentSchoolSatisfaction": "Bad",
         "StudentAbsenceDays": "Above-7",
         "Class": "M",
         "ParticipationAndSatisfaction": "NoBad",
         "_deepnote_index_column": 20
        },
        {
         "Gender": "F",
         "Nationality": "Kuwait",
         "BirthPlace": "Kuwait",
         "StageID": "MiddleSchool",
         "GradeID": "G-07",
         "SectionID": "B",
         "Topic": "IT",
         "Semester": "F",
         "Relation": "Father",
         "RaisedHands": 10,
         "VisitedResources": 12,
         "AnnouncementsView": 4,
         "Discussion": 80,
         "ParentAnsweringSurvey": "No",
         "ParentSchoolSatisfaction": "Bad",
         "StudentAbsenceDays": "Under-7",
         "Class": "M",
         "ParticipationAndSatisfaction": "NoBad",
         "_deepnote_index_column": 21
        },
        {
         "Gender": "M",
         "Nationality": "Kuwait",
         "BirthPlace": "Kuwait",
         "StageID": "MiddleSchool",
         "GradeID": "G-07",
         "SectionID": "A",
         "Topic": "IT",
         "Semester": "F",
         "Relation": "Father",
         "RaisedHands": 15,
         "VisitedResources": 21,
         "AnnouncementsView": 2,
         "Discussion": 90,
         "ParentAnsweringSurvey": "No",
         "ParentSchoolSatisfaction": "Bad",
         "StudentAbsenceDays": "Under-7",
         "Class": "M",
         "ParticipationAndSatisfaction": "NoBad",
         "_deepnote_index_column": 22
        },
        {
         "Gender": "M",
         "Nationality": "Kuwait",
         "BirthPlace": "Kuwait",
         "StageID": "MiddleSchool",
         "GradeID": "G-07",
         "SectionID": "A",
         "Topic": "IT",
         "Semester": "F",
         "Relation": "Father",
         "RaisedHands": 2,
         "VisitedResources": 0,
         "AnnouncementsView": 2,
         "Discussion": 50,
         "ParentAnsweringSurvey": "No",
         "ParentSchoolSatisfaction": "Bad",
         "StudentAbsenceDays": "Above-7",
         "Class": "L",
         "ParticipationAndSatisfaction": "NoBad",
         "_deepnote_index_column": 23
        },
        {
         "Gender": "M",
         "Nationality": "Kuwait",
         "BirthPlace": "Kuwait",
         "StageID": "MiddleSchool",
         "GradeID": "G-07",
         "SectionID": "B",
         "Topic": "IT",
         "Semester": "F",
         "Relation": "Father",
         "RaisedHands": 0,
         "VisitedResources": 2,
         "AnnouncementsView": 3,
         "Discussion": 70,
         "ParentAnsweringSurvey": "Yes",
         "ParentSchoolSatisfaction": "Good",
         "StudentAbsenceDays": "Above-7",
         "Class": "L",
         "ParticipationAndSatisfaction": "YesGood",
         "_deepnote_index_column": 24
        },
        {
         "Gender": "M",
         "Nationality": "Kuwait",
         "BirthPlace": "Kuwait",
         "StageID": "MiddleSchool",
         "GradeID": "G-07",
         "SectionID": "A",
         "Topic": "IT",
         "Semester": "F",
         "Relation": "Father",
         "RaisedHands": 8,
         "VisitedResources": 7,
         "AnnouncementsView": 30,
         "Discussion": 40,
         "ParentAnsweringSurvey": "Yes",
         "ParentSchoolSatisfaction": "Good",
         "StudentAbsenceDays": "Above-7",
         "Class": "L",
         "ParticipationAndSatisfaction": "YesGood",
         "_deepnote_index_column": 25
        },
        {
         "Gender": "M",
         "Nationality": "Kuwait",
         "BirthPlace": "Kuwait",
         "StageID": "MiddleSchool",
         "GradeID": "G-07",
         "SectionID": "B",
         "Topic": "IT",
         "Semester": "F",
         "Relation": "Father",
         "RaisedHands": 19,
         "VisitedResources": 19,
         "AnnouncementsView": 25,
         "Discussion": 40,
         "ParentAnsweringSurvey": "Yes",
         "ParentSchoolSatisfaction": "Bad",
         "StudentAbsenceDays": "Under-7",
         "Class": "M",
         "ParticipationAndSatisfaction": "YesBad",
         "_deepnote_index_column": 26
        }
       ],
       "rows_bottom": [
        {
         "Gender": "F",
         "Nationality": "Jordan",
         "BirthPlace": "Jordan",
         "StageID": "MiddleSchool",
         "GradeID": "G-08",
         "SectionID": "A",
         "Topic": "Geology",
         "Semester": "F",
         "Relation": "Father",
         "RaisedHands": 25,
         "VisitedResources": 82,
         "AnnouncementsView": 52,
         "Discussion": 20,
         "ParentAnsweringSurvey": "Yes",
         "ParentSchoolSatisfaction": "Good",
         "StudentAbsenceDays": "Above-7",
         "Class": "M",
         "ParticipationAndSatisfaction": "YesGood",
         "_deepnote_index_column": 452
        },
        {
         "Gender": "F",
         "Nationality": "Jordan",
         "BirthPlace": "Jordan",
         "StageID": "MiddleSchool",
         "GradeID": "G-08",
         "SectionID": "A",
         "Topic": "Geology",
         "Semester": "S",
         "Relation": "Father",
         "RaisedHands": 29,
         "VisitedResources": 78,
         "AnnouncementsView": 40,
         "Discussion": 12,
         "ParentAnsweringSurvey": "Yes",
         "ParentSchoolSatisfaction": "Good",
         "StudentAbsenceDays": "Above-7",
         "Class": "M",
         "ParticipationAndSatisfaction": "YesGood",
         "_deepnote_index_column": 453
        },
        {
         "Gender": "F",
         "Nationality": "Jordan",
         "BirthPlace": "Jordan",
         "StageID": "MiddleSchool",
         "GradeID": "G-08",
         "SectionID": "A",
         "Topic": "History",
         "Semester": "F",
         "Relation": "Father",
         "RaisedHands": 45,
         "VisitedResources": 87,
         "AnnouncementsView": 57,
         "Discussion": 80,
         "ParentAnsweringSurvey": "Yes",
         "ParentSchoolSatisfaction": "Good",
         "StudentAbsenceDays": "Under-7",
         "Class": "M",
         "ParticipationAndSatisfaction": "YesGood",
         "_deepnote_index_column": 454
        },
        {
         "Gender": "F",
         "Nationality": "Jordan",
         "BirthPlace": "Jordan",
         "StageID": "MiddleSchool",
         "GradeID": "G-08",
         "SectionID": "A",
         "Topic": "History",
         "Semester": "S",
         "Relation": "Father",
         "RaisedHands": 39,
         "VisitedResources": 88,
         "AnnouncementsView": 43,
         "Discussion": 72,
         "ParentAnsweringSurvey": "Yes",
         "ParentSchoolSatisfaction": "Good",
         "StudentAbsenceDays": "Under-7",
         "Class": "M",
         "ParticipationAndSatisfaction": "YesGood",
         "_deepnote_index_column": 455
        },
        {
         "Gender": "F",
         "Nationality": "Jordan",
         "BirthPlace": "Jordan",
         "StageID": "MiddleSchool",
         "GradeID": "G-08",
         "SectionID": "A",
         "Topic": "Chemistry",
         "Semester": "F",
         "Relation": "Father",
         "RaisedHands": 85,
         "VisitedResources": 90,
         "AnnouncementsView": 52,
         "Discussion": 30,
         "ParentAnsweringSurvey": "Yes",
         "ParentSchoolSatisfaction": "Good",
         "StudentAbsenceDays": "Under-7",
         "Class": "H",
         "ParticipationAndSatisfaction": "YesGood",
         "_deepnote_index_column": 456
        },
        {
         "Gender": "F",
         "Nationality": "Jordan",
         "BirthPlace": "Jordan",
         "StageID": "MiddleSchool",
         "GradeID": "G-08",
         "SectionID": "A",
         "Topic": "Chemistry",
         "Semester": "S",
         "Relation": "Father",
         "RaisedHands": 79,
         "VisitedResources": 91,
         "AnnouncementsView": 49,
         "Discussion": 22,
         "ParentAnsweringSurvey": "Yes",
         "ParentSchoolSatisfaction": "Good",
         "StudentAbsenceDays": "Under-7",
         "Class": "H",
         "ParticipationAndSatisfaction": "YesGood",
         "_deepnote_index_column": 457
        },
        {
         "Gender": "M",
         "Nationality": "Iraq",
         "BirthPlace": "Iraq",
         "StageID": "MiddleSchool",
         "GradeID": "G-08",
         "SectionID": "A",
         "Topic": "Chemistry",
         "Semester": "F",
         "Relation": "Father",
         "RaisedHands": 90,
         "VisitedResources": 91,
         "AnnouncementsView": 80,
         "Discussion": 81,
         "ParentAnsweringSurvey": "Yes",
         "ParentSchoolSatisfaction": "Good",
         "StudentAbsenceDays": "Under-7",
         "Class": "H",
         "ParticipationAndSatisfaction": "YesGood",
         "_deepnote_index_column": 458
        },
        {
         "Gender": "M",
         "Nationality": "Iraq",
         "BirthPlace": "Iraq",
         "StageID": "MiddleSchool",
         "GradeID": "G-08",
         "SectionID": "A",
         "Topic": "Chemistry",
         "Semester": "S",
         "Relation": "Father",
         "RaisedHands": 80,
         "VisitedResources": 90,
         "AnnouncementsView": 80,
         "Discussion": 83,
         "ParentAnsweringSurvey": "Yes",
         "ParentSchoolSatisfaction": "Good",
         "StudentAbsenceDays": "Under-7",
         "Class": "H",
         "ParticipationAndSatisfaction": "YesGood",
         "_deepnote_index_column": 459
        },
        {
         "Gender": "M",
         "Nationality": "Iraq",
         "BirthPlace": "Iraq",
         "StageID": "MiddleSchool",
         "GradeID": "G-08",
         "SectionID": "A",
         "Topic": "Geology",
         "Semester": "F",
         "Relation": "Father",
         "RaisedHands": 80,
         "VisitedResources": 83,
         "AnnouncementsView": 82,
         "Discussion": 71,
         "ParentAnsweringSurvey": "Yes",
         "ParentSchoolSatisfaction": "Good",
         "StudentAbsenceDays": "Above-7",
         "Class": "M",
         "ParticipationAndSatisfaction": "YesGood",
         "_deepnote_index_column": 460
        },
        {
         "Gender": "M",
         "Nationality": "Iraq",
         "BirthPlace": "Iraq",
         "StageID": "MiddleSchool",
         "GradeID": "G-08",
         "SectionID": "A",
         "Topic": "Geology",
         "Semester": "S",
         "Relation": "Father",
         "RaisedHands": 71,
         "VisitedResources": 81,
         "AnnouncementsView": 83,
         "Discussion": 72,
         "ParentAnsweringSurvey": "Yes",
         "ParentSchoolSatisfaction": "Good",
         "StudentAbsenceDays": "Above-7",
         "Class": "M",
         "ParticipationAndSatisfaction": "YesGood",
         "_deepnote_index_column": 461
        },
        {
         "Gender": "M",
         "Nationality": "Iraq",
         "BirthPlace": "Iraq",
         "StageID": "MiddleSchool",
         "GradeID": "G-08",
         "SectionID": "A",
         "Topic": "History",
         "Semester": "F",
         "Relation": "Father",
         "RaisedHands": 72,
         "VisitedResources": 87,
         "AnnouncementsView": 72,
         "Discussion": 89,
         "ParentAnsweringSurvey": "Yes",
         "ParentSchoolSatisfaction": "Good",
         "StudentAbsenceDays": "Above-7",
         "Class": "M",
         "ParticipationAndSatisfaction": "YesGood",
         "_deepnote_index_column": 462
        },
        {
         "Gender": "M",
         "Nationality": "Iraq",
         "BirthPlace": "Iraq",
         "StageID": "MiddleSchool",
         "GradeID": "G-08",
         "SectionID": "A",
         "Topic": "History",
         "Semester": "S",
         "Relation": "Father",
         "RaisedHands": 69,
         "VisitedResources": 77,
         "AnnouncementsView": 83,
         "Discussion": 92,
         "ParentAnsweringSurvey": "Yes",
         "ParentSchoolSatisfaction": "Good",
         "StudentAbsenceDays": "Above-7",
         "Class": "M",
         "ParticipationAndSatisfaction": "YesGood",
         "_deepnote_index_column": 463
        },
        {
         "Gender": "F",
         "Nationality": "Jordan",
         "BirthPlace": "Jordan",
         "StageID": "MiddleSchool",
         "GradeID": "G-08",
         "SectionID": "A",
         "Topic": "Chemistry",
         "Semester": "F",
         "Relation": "Mother",
         "RaisedHands": 85,
         "VisitedResources": 99,
         "AnnouncementsView": 42,
         "Discussion": 90,
         "ParentAnsweringSurvey": "Yes",
         "ParentSchoolSatisfaction": "Good",
         "StudentAbsenceDays": "Under-7",
         "Class": "H",
         "ParticipationAndSatisfaction": "YesGood",
         "_deepnote_index_column": 464
        },
        {
         "Gender": "F",
         "Nationality": "Jordan",
         "BirthPlace": "Jordan",
         "StageID": "MiddleSchool",
         "GradeID": "G-08",
         "SectionID": "A",
         "Topic": "Chemistry",
         "Semester": "S",
         "Relation": "Mother",
         "RaisedHands": 89,
         "VisitedResources": 96,
         "AnnouncementsView": 45,
         "Discussion": 92,
         "ParentAnsweringSurvey": "Yes",
         "ParentSchoolSatisfaction": "Good",
         "StudentAbsenceDays": "Under-7",
         "Class": "H",
         "ParticipationAndSatisfaction": "YesGood",
         "_deepnote_index_column": 465
        },
        {
         "Gender": "F",
         "Nationality": "Jordan",
         "BirthPlace": "Jordan",
         "StageID": "MiddleSchool",
         "GradeID": "G-08",
         "SectionID": "A",
         "Topic": "Geology",
         "Semester": "F",
         "Relation": "Mother",
         "RaisedHands": 80,
         "VisitedResources": 82,
         "AnnouncementsView": 64,
         "Discussion": 58,
         "ParentAnsweringSurvey": "Yes",
         "ParentSchoolSatisfaction": "Good",
         "StudentAbsenceDays": "Under-7",
         "Class": "H",
         "ParticipationAndSatisfaction": "YesGood",
         "_deepnote_index_column": 466
        },
        {
         "Gender": "F",
         "Nationality": "Jordan",
         "BirthPlace": "Jordan",
         "StageID": "MiddleSchool",
         "GradeID": "G-08",
         "SectionID": "A",
         "Topic": "Geology",
         "Semester": "S",
         "Relation": "Mother",
         "RaisedHands": 87,
         "VisitedResources": 93,
         "AnnouncementsView": 63,
         "Discussion": 60,
         "ParentAnsweringSurvey": "Yes",
         "ParentSchoolSatisfaction": "Good",
         "StudentAbsenceDays": "Under-7",
         "Class": "H",
         "ParticipationAndSatisfaction": "YesGood",
         "_deepnote_index_column": 467
        },
        {
         "Gender": "F",
         "Nationality": "Jordan",
         "BirthPlace": "Jordan",
         "StageID": "MiddleSchool",
         "GradeID": "G-08",
         "SectionID": "A",
         "Topic": "Chemistry",
         "Semester": "F",
         "Relation": "Father",
         "RaisedHands": 15,
         "VisitedResources": 9,
         "AnnouncementsView": 14,
         "Discussion": 80,
         "ParentAnsweringSurvey": "No",
         "ParentSchoolSatisfaction": "Bad",
         "StudentAbsenceDays": "Above-7",
         "Class": "L",
         "ParticipationAndSatisfaction": "NoBad",
         "_deepnote_index_column": 468
        },
        {
         "Gender": "F",
         "Nationality": "Jordan",
         "BirthPlace": "Jordan",
         "StageID": "MiddleSchool",
         "GradeID": "G-08",
         "SectionID": "A",
         "Topic": "Chemistry",
         "Semester": "S",
         "Relation": "Father",
         "RaisedHands": 9,
         "VisitedResources": 6,
         "AnnouncementsView": 15,
         "Discussion": 85,
         "ParentAnsweringSurvey": "No",
         "ParentSchoolSatisfaction": "Bad",
         "StudentAbsenceDays": "Above-7",
         "Class": "L",
         "ParticipationAndSatisfaction": "NoBad",
         "_deepnote_index_column": 469
        },
        {
         "Gender": "M",
         "Nationality": "Palestine",
         "BirthPlace": "Jordan",
         "StageID": "MiddleSchool",
         "GradeID": "G-08",
         "SectionID": "A",
         "Topic": "History",
         "Semester": "F",
         "Relation": "Father",
         "RaisedHands": 81,
         "VisitedResources": 86,
         "AnnouncementsView": 86,
         "Discussion": 41,
         "ParentAnsweringSurvey": "Yes",
         "ParentSchoolSatisfaction": "Good",
         "StudentAbsenceDays": "Under-7",
         "Class": "M",
         "ParticipationAndSatisfaction": "YesGood",
         "_deepnote_index_column": 470
        },
        {
         "Gender": "M",
         "Nationality": "Palestine",
         "BirthPlace": "Jordan",
         "StageID": "MiddleSchool",
         "GradeID": "G-08",
         "SectionID": "A",
         "Topic": "History",
         "Semester": "S",
         "Relation": "Father",
         "RaisedHands": 78,
         "VisitedResources": 82,
         "AnnouncementsView": 78,
         "Discussion": 53,
         "ParentAnsweringSurvey": "Yes",
         "ParentSchoolSatisfaction": "Good",
         "StudentAbsenceDays": "Under-7",
         "Class": "M",
         "ParticipationAndSatisfaction": "YesGood",
         "_deepnote_index_column": 471
        },
        {
         "Gender": "M",
         "Nationality": "Palestine",
         "BirthPlace": "Palestine",
         "StageID": "MiddleSchool",
         "GradeID": "G-08",
         "SectionID": "A",
         "Topic": "Geology",
         "Semester": "F",
         "Relation": "Father",
         "RaisedHands": 80,
         "VisitedResources": 87,
         "AnnouncementsView": 74,
         "Discussion": 68,
         "ParentAnsweringSurvey": "Yes",
         "ParentSchoolSatisfaction": "Good",
         "StudentAbsenceDays": "Under-7",
         "Class": "M",
         "ParticipationAndSatisfaction": "YesGood",
         "_deepnote_index_column": 472
        },
        {
         "Gender": "M",
         "Nationality": "Palestine",
         "BirthPlace": "Palestine",
         "StageID": "MiddleSchool",
         "GradeID": "G-08",
         "SectionID": "A",
         "Topic": "Geology",
         "Semester": "S",
         "Relation": "Father",
         "RaisedHands": 85,
         "VisitedResources": 88,
         "AnnouncementsView": 79,
         "Discussion": 70,
         "ParentAnsweringSurvey": "Yes",
         "ParentSchoolSatisfaction": "Good",
         "StudentAbsenceDays": "Under-7",
         "Class": "M",
         "ParticipationAndSatisfaction": "YesGood",
         "_deepnote_index_column": 473
        },
        {
         "Gender": "F",
         "Nationality": "Jordan",
         "BirthPlace": "Jordan",
         "StageID": "MiddleSchool",
         "GradeID": "G-08",
         "SectionID": "A",
         "Topic": "Chemistry",
         "Semester": "F",
         "Relation": "Father",
         "RaisedHands": 2,
         "VisitedResources": 7,
         "AnnouncementsView": 4,
         "Discussion": 8,
         "ParentAnsweringSurvey": "No",
         "ParentSchoolSatisfaction": "Bad",
         "StudentAbsenceDays": "Above-7",
         "Class": "L",
         "ParticipationAndSatisfaction": "NoBad",
         "_deepnote_index_column": 474
        },
        {
         "Gender": "F",
         "Nationality": "Jordan",
         "BirthPlace": "Jordan",
         "StageID": "MiddleSchool",
         "GradeID": "G-08",
         "SectionID": "A",
         "Topic": "Chemistry",
         "Semester": "S",
         "Relation": "Father",
         "RaisedHands": 5,
         "VisitedResources": 4,
         "AnnouncementsView": 5,
         "Discussion": 8,
         "ParentAnsweringSurvey": "No",
         "ParentSchoolSatisfaction": "Bad",
         "StudentAbsenceDays": "Above-7",
         "Class": "L",
         "ParticipationAndSatisfaction": "NoBad",
         "_deepnote_index_column": 475
        },
        {
         "Gender": "F",
         "Nationality": "Jordan",
         "BirthPlace": "Jordan",
         "StageID": "MiddleSchool",
         "GradeID": "G-08",
         "SectionID": "A",
         "Topic": "Geology",
         "Semester": "F",
         "Relation": "Father",
         "RaisedHands": 50,
         "VisitedResources": 77,
         "AnnouncementsView": 14,
         "Discussion": 28,
         "ParentAnsweringSurvey": "No",
         "ParentSchoolSatisfaction": "Bad",
         "StudentAbsenceDays": "Under-7",
         "Class": "M",
         "ParticipationAndSatisfaction": "NoBad",
         "_deepnote_index_column": 476
        },
        {
         "Gender": "F",
         "Nationality": "Jordan",
         "BirthPlace": "Jordan",
         "StageID": "MiddleSchool",
         "GradeID": "G-08",
         "SectionID": "A",
         "Topic": "Geology",
         "Semester": "S",
         "Relation": "Father",
         "RaisedHands": 55,
         "VisitedResources": 74,
         "AnnouncementsView": 25,
         "Discussion": 29,
         "ParentAnsweringSurvey": "No",
         "ParentSchoolSatisfaction": "Bad",
         "StudentAbsenceDays": "Under-7",
         "Class": "M",
         "ParticipationAndSatisfaction": "NoBad",
         "_deepnote_index_column": 477
        },
        {
         "Gender": "F",
         "Nationality": "Jordan",
         "BirthPlace": "Jordan",
         "StageID": "MiddleSchool",
         "GradeID": "G-08",
         "SectionID": "A",
         "Topic": "History",
         "Semester": "F",
         "Relation": "Father",
         "RaisedHands": 30,
         "VisitedResources": 17,
         "AnnouncementsView": 14,
         "Discussion": 57,
         "ParentAnsweringSurvey": "No",
         "ParentSchoolSatisfaction": "Bad",
         "StudentAbsenceDays": "Above-7",
         "Class": "L",
         "ParticipationAndSatisfaction": "NoBad",
         "_deepnote_index_column": 478
        },
        {
         "Gender": "F",
         "Nationality": "Jordan",
         "BirthPlace": "Jordan",
         "StageID": "MiddleSchool",
         "GradeID": "G-08",
         "SectionID": "A",
         "Topic": "History",
         "Semester": "S",
         "Relation": "Father",
         "RaisedHands": 35,
         "VisitedResources": 14,
         "AnnouncementsView": 23,
         "Discussion": 62,
         "ParentAnsweringSurvey": "No",
         "ParentSchoolSatisfaction": "Bad",
         "StudentAbsenceDays": "Above-7",
         "Class": "L",
         "ParticipationAndSatisfaction": "NoBad",
         "_deepnote_index_column": 479
        }
       ]
      },
      "text/plain": "    Gender Nationality BirthPlace       StageID GradeID SectionID      Topic  \\\n0        M      Kuwait     Kuwait    lowerlevel    G-04         A         IT   \n1        M      Kuwait     Kuwait    lowerlevel    G-04         A         IT   \n2        M      Kuwait     Kuwait    lowerlevel    G-04         A         IT   \n3        M      Kuwait     Kuwait    lowerlevel    G-04         A         IT   \n4        M      Kuwait     Kuwait    lowerlevel    G-04         A         IT   \n..     ...         ...        ...           ...     ...       ...        ...   \n475      F      Jordan     Jordan  MiddleSchool    G-08         A  Chemistry   \n476      F      Jordan     Jordan  MiddleSchool    G-08         A    Geology   \n477      F      Jordan     Jordan  MiddleSchool    G-08         A    Geology   \n478      F      Jordan     Jordan  MiddleSchool    G-08         A    History   \n479      F      Jordan     Jordan  MiddleSchool    G-08         A    History   \n\n    Semester Relation  RaisedHands  VisitedResources  AnnouncementsView  \\\n0          F   Father           15                16                  2   \n1          F   Father           20                20                  3   \n2          F   Father           10                 7                  0   \n3          F   Father           30                25                  5   \n4          F   Father           40                50                 12   \n..       ...      ...          ...               ...                ...   \n475        S   Father            5                 4                  5   \n476        F   Father           50                77                 14   \n477        S   Father           55                74                 25   \n478        F   Father           30                17                 14   \n479        S   Father           35                14                 23   \n\n     Discussion ParentAnsweringSurvey ParentSchoolSatisfaction  \\\n0            20                   Yes                     Good   \n1            25                   Yes                     Good   \n2            30                    No                      Bad   \n3            35                    No                      Bad   \n4            50                    No                      Bad   \n..          ...                   ...                      ...   \n475           8                    No                      Bad   \n476          28                    No                      Bad   \n477          29                    No                      Bad   \n478          57                    No                      Bad   \n479          62                    No                      Bad   \n\n    StudentAbsenceDays Class ParticipationAndSatisfaction  \n0              Under-7     M                      YesGood  \n1              Under-7     M                      YesGood  \n2              Above-7     L                        NoBad  \n3              Above-7     L                        NoBad  \n4              Above-7     M                        NoBad  \n..                 ...   ...                          ...  \n475            Above-7     L                        NoBad  \n476            Under-7     M                        NoBad  \n477            Under-7     M                        NoBad  \n478            Above-7     L                        NoBad  \n479            Above-7     L                        NoBad  \n\n[480 rows x 18 columns]",
      "text/html": "<div>\n<style scoped>\n    .dataframe tbody tr th:only-of-type {\n        vertical-align: middle;\n    }\n\n    .dataframe tbody tr th {\n        vertical-align: top;\n    }\n\n    .dataframe thead th {\n        text-align: right;\n    }\n</style>\n<table border=\"1\" class=\"dataframe\">\n  <thead>\n    <tr style=\"text-align: right;\">\n      <th></th>\n      <th>Gender</th>\n      <th>Nationality</th>\n      <th>BirthPlace</th>\n      <th>StageID</th>\n      <th>GradeID</th>\n      <th>SectionID</th>\n      <th>Topic</th>\n      <th>Semester</th>\n      <th>Relation</th>\n      <th>RaisedHands</th>\n      <th>VisitedResources</th>\n      <th>AnnouncementsView</th>\n      <th>Discussion</th>\n      <th>ParentAnsweringSurvey</th>\n      <th>ParentSchoolSatisfaction</th>\n      <th>StudentAbsenceDays</th>\n      <th>Class</th>\n      <th>ParticipationAndSatisfaction</th>\n    </tr>\n  </thead>\n  <tbody>\n    <tr>\n      <th>0</th>\n      <td>M</td>\n      <td>Kuwait</td>\n      <td>Kuwait</td>\n      <td>lowerlevel</td>\n      <td>G-04</td>\n      <td>A</td>\n      <td>IT</td>\n      <td>F</td>\n      <td>Father</td>\n      <td>15</td>\n      <td>16</td>\n      <td>2</td>\n      <td>20</td>\n      <td>Yes</td>\n      <td>Good</td>\n      <td>Under-7</td>\n      <td>M</td>\n      <td>YesGood</td>\n    </tr>\n    <tr>\n      <th>1</th>\n      <td>M</td>\n      <td>Kuwait</td>\n      <td>Kuwait</td>\n      <td>lowerlevel</td>\n      <td>G-04</td>\n      <td>A</td>\n      <td>IT</td>\n      <td>F</td>\n      <td>Father</td>\n      <td>20</td>\n      <td>20</td>\n      <td>3</td>\n      <td>25</td>\n      <td>Yes</td>\n      <td>Good</td>\n      <td>Under-7</td>\n      <td>M</td>\n      <td>YesGood</td>\n    </tr>\n    <tr>\n      <th>2</th>\n      <td>M</td>\n      <td>Kuwait</td>\n      <td>Kuwait</td>\n      <td>lowerlevel</td>\n      <td>G-04</td>\n      <td>A</td>\n      <td>IT</td>\n      <td>F</td>\n      <td>Father</td>\n      <td>10</td>\n      <td>7</td>\n      <td>0</td>\n      <td>30</td>\n      <td>No</td>\n      <td>Bad</td>\n      <td>Above-7</td>\n      <td>L</td>\n      <td>NoBad</td>\n    </tr>\n    <tr>\n      <th>3</th>\n      <td>M</td>\n      <td>Kuwait</td>\n      <td>Kuwait</td>\n      <td>lowerlevel</td>\n      <td>G-04</td>\n      <td>A</td>\n      <td>IT</td>\n      <td>F</td>\n      <td>Father</td>\n      <td>30</td>\n      <td>25</td>\n      <td>5</td>\n      <td>35</td>\n      <td>No</td>\n      <td>Bad</td>\n      <td>Above-7</td>\n      <td>L</td>\n      <td>NoBad</td>\n    </tr>\n    <tr>\n      <th>4</th>\n      <td>M</td>\n      <td>Kuwait</td>\n      <td>Kuwait</td>\n      <td>lowerlevel</td>\n      <td>G-04</td>\n      <td>A</td>\n      <td>IT</td>\n      <td>F</td>\n      <td>Father</td>\n      <td>40</td>\n      <td>50</td>\n      <td>12</td>\n      <td>50</td>\n      <td>No</td>\n      <td>Bad</td>\n      <td>Above-7</td>\n      <td>M</td>\n      <td>NoBad</td>\n    </tr>\n    <tr>\n      <th>...</th>\n      <td>...</td>\n      <td>...</td>\n      <td>...</td>\n      <td>...</td>\n      <td>...</td>\n      <td>...</td>\n      <td>...</td>\n      <td>...</td>\n      <td>...</td>\n      <td>...</td>\n      <td>...</td>\n      <td>...</td>\n      <td>...</td>\n      <td>...</td>\n      <td>...</td>\n      <td>...</td>\n      <td>...</td>\n      <td>...</td>\n    </tr>\n    <tr>\n      <th>475</th>\n      <td>F</td>\n      <td>Jordan</td>\n      <td>Jordan</td>\n      <td>MiddleSchool</td>\n      <td>G-08</td>\n      <td>A</td>\n      <td>Chemistry</td>\n      <td>S</td>\n      <td>Father</td>\n      <td>5</td>\n      <td>4</td>\n      <td>5</td>\n      <td>8</td>\n      <td>No</td>\n      <td>Bad</td>\n      <td>Above-7</td>\n      <td>L</td>\n      <td>NoBad</td>\n    </tr>\n    <tr>\n      <th>476</th>\n      <td>F</td>\n      <td>Jordan</td>\n      <td>Jordan</td>\n      <td>MiddleSchool</td>\n      <td>G-08</td>\n      <td>A</td>\n      <td>Geology</td>\n      <td>F</td>\n      <td>Father</td>\n      <td>50</td>\n      <td>77</td>\n      <td>14</td>\n      <td>28</td>\n      <td>No</td>\n      <td>Bad</td>\n      <td>Under-7</td>\n      <td>M</td>\n      <td>NoBad</td>\n    </tr>\n    <tr>\n      <th>477</th>\n      <td>F</td>\n      <td>Jordan</td>\n      <td>Jordan</td>\n      <td>MiddleSchool</td>\n      <td>G-08</td>\n      <td>A</td>\n      <td>Geology</td>\n      <td>S</td>\n      <td>Father</td>\n      <td>55</td>\n      <td>74</td>\n      <td>25</td>\n      <td>29</td>\n      <td>No</td>\n      <td>Bad</td>\n      <td>Under-7</td>\n      <td>M</td>\n      <td>NoBad</td>\n    </tr>\n    <tr>\n      <th>478</th>\n      <td>F</td>\n      <td>Jordan</td>\n      <td>Jordan</td>\n      <td>MiddleSchool</td>\n      <td>G-08</td>\n      <td>A</td>\n      <td>History</td>\n      <td>F</td>\n      <td>Father</td>\n      <td>30</td>\n      <td>17</td>\n      <td>14</td>\n      <td>57</td>\n      <td>No</td>\n      <td>Bad</td>\n      <td>Above-7</td>\n      <td>L</td>\n      <td>NoBad</td>\n    </tr>\n    <tr>\n      <th>479</th>\n      <td>F</td>\n      <td>Jordan</td>\n      <td>Jordan</td>\n      <td>MiddleSchool</td>\n      <td>G-08</td>\n      <td>A</td>\n      <td>History</td>\n      <td>S</td>\n      <td>Father</td>\n      <td>35</td>\n      <td>14</td>\n      <td>23</td>\n      <td>62</td>\n      <td>No</td>\n      <td>Bad</td>\n      <td>Above-7</td>\n      <td>L</td>\n      <td>NoBad</td>\n    </tr>\n  </tbody>\n</table>\n<p>480 rows × 18 columns</p>\n</div>"
     },
     "metadata": {}
>>>>>>> Stashed changes
    }
   ],
   "execution_count": 54
  },
  {
   "cell_type": "markdown",
   "source": "### Conclusion\nAfter performing EDA on the dataset and answering the four research questions, the researchers conclude that:",
   "metadata": {
    "tags": [],
    "cell_id": "00121-382a67fa-de3e-4b9e-b672-68a3b4be8fc3",
    "deepnote_cell_type": "markdown"
   }
  },
  {
   "cell_type": "markdown",
   "source": "<a style='text-decoration:none;line-height:16px;display:flex;color:#5B5B62;padding:10px;justify-content:end;' href='https://deepnote.com?utm_source=created-in-deepnote-cell&projectId=e43fe2a7-e576-49d1-b96a-1dc3b3395062' target=\"_blank\">\n<img alt='Created in deepnote.com' style='display:inline;max-height:16px;margin:0px;margin-right:7.5px;' src='data:image/svg+xml;base64,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' > </img>\nCreated in <span style='font-weight:600;margin-left:4px;'>Deepnote</span></a>",
   "metadata": {
    "tags": [],
    "created_in_deepnote_cell": true,
    "deepnote_cell_type": "markdown"
   }
  }
 ],
 "nbformat": 4,
 "nbformat_minor": 0,
 "metadata": {
  "colab": {
   "name": "DATASCI MCO.ipynb",
   "provenance": [],
   "collapsed_sections": []
  },
  "kernelspec": {
   "name": "python3",
   "display_name": "Python 3"
  },
  "language_info": {
   "name": "python"
  },
  "deepnote_notebook_id": "b7323b58-eda0-4649-87fb-8ef410a43249",
  "deepnote": {
   "is_reactive": true
  },
  "deepnote_execution_queue": []
 }
}