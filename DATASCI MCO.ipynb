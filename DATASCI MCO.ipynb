{
 "cells": [
  {
   "cell_type": "markdown",
   "metadata": {
    "cell_id": "00000-a8cb2282-93bb-49f0-96d0-359065ed1912",
    "deepnote_cell_type": "markdown",
    "id": "qbeyNAv0NQ8m"
   },
   "source": [
    "# **Student's Academic Performance** \n",
    "#### *Members: Beaverly Cuasi, Allexandra Domingo, Angeline Gubat, Stephen Salamante, Ira Villanueva  (S12 - Couch Data Scientists)*\n",
    "This notebook focuses on the Student's Academic Performance Dataset which can be found [here](https://www.kaggle.com/aljarah/xAPI-Edu-Datal). The first section shows the dataset information and dataset cleaning process, followed by data visualization using Exploratory Data Analysis (EDA). Lastly, this notebook aims to answer which factors affect a student’s academic grades. Specifically we wanted to know the following: <br><br>\n",
    "  * Do students who participate more have higher grades than those who participate less?\n",
    "  * Does parent participation and satisfaction affect a student’s performance?\n",
    "  * Do the number of class absences greatly affect the student’s grades?\n",
    "  * Does visiting class resources result in higher class grades?\n"
   ]
  },
  {
   "cell_type": "markdown",
   "metadata": {
    "cell_id": "00001-833e53b3-998f-48bc-89d1-4e5f7e2f1b25",
    "deepnote_cell_type": "markdown",
    "id": "5BaWZMz2U8xI"
   },
   "source": [
    "### **Dataset Information**  \n",
    "The Student's Performance Dataset is collected from Kalboard 360, a learning management, using a learner activity tracker tool called experience API (xAPI). The dataset contains **480** observations (rows) across **16** features (columns). Below is a brief description of each features:  \n",
    "* **`gender`**: Student's gender <br>\n",
    "* **`NationallTy`**: Student's nationality <br>\n",
    "* **`PlaceofBirth`**: Student's place of birth <br>\n",
    "* **`StageID`**: Educational level that student belongs to <br>\n",
    "* **`GradeID`**: Grade level that student belongs to <br>\n",
    "* **`SectionID`**: Classroom that student belongs to<br>\n",
    "* **`Topic`**: Course topic <br>\n",
    "* **`Semester`**: Current semester in a school year <br>\n",
    "* **`Relation`**: Parent who is responsible for a student<br>\n",
    "* **`raisedhands`**: Total number of times a student raises his/her hand  <br>\n",
    "* **`VisITedResources`**: Total number of times a student visited a course content <br>\n",
    "* **`AnnouncementsView`**: Total number of times a student checks the announcements <br>\n",
    "* **`Discussion`**: Total number of times a student participates on discussion groups <br>\n",
    "* **`ParentAnsweringSurvey`**: If a parent answered surveys provided by the school <br>\n",
    "* **`ParentSchoolSatisfaction`**: If a parent is satisfied or not <br>\n",
    "* **`StudentAbsenceDays`**: Total number of days that a student is absent <br>\n",
    "* **`Class`**: Represents the interval of a student total grade <br>\n",
    "  * <i>Low</i>: interval includes values from 0 to 69\n",
    "  * <i>Middle</i>: interval includes values from 70 to 89\n",
    "  * <i>High</i>: interval includes values from 90-100"
   ]
  },
  {
   "cell_type": "markdown",
   "metadata": {
    "cell_id": "00002-1e78de4a-0186-4b4a-bba8-50d019e74456",
    "deepnote_cell_type": "markdown",
    "id": "T3cRkz2LkPms"
   },
   "source": [
    "Let's view the observations and features of the dataset. But first, let's import the needed libraries for this notebook."
   ]
  },
  {
   "cell_type": "code",
   "execution_count": 1,
   "metadata": {
    "cell_id": "00003-1887509b-2c20-4b64-a87b-8fa106b50963",
    "deepnote_cell_type": "code",
    "deepnote_to_be_reexecuted": false,
    "execution_millis": 1605,
    "execution_start": 1622489746295,
    "id": "S-8FIgu3lomu",
    "source_hash": "a87cf2a7"
   },
   "outputs": [],
   "source": [
    "import pandas as pd\n",
    "import numpy as np\n",
    "import matplotlib.pyplot as plt\n",
    "import seaborn as sns\n",
    "from scipy.stats import chi2_contingency"
   ]
  },
  {
   "cell_type": "markdown",
   "metadata": {
    "cell_id": "00004-d60ad066-6652-439d-9b64-e422849b186e",
    "deepnote_cell_type": "markdown",
    "id": "STzZAlygl_Gz"
   },
   "source": [
    "Using `read_csv`, we will be loading the dataset (xAPI-Edu-Data.csv) into a dataframe."
   ]
  },
  {
   "cell_type": "code",
   "execution_count": 2,
   "metadata": {
    "cell_id": "00005-69f55423-2f6d-4a87-9340-44c54a863455",
    "colab": {
     "base_uri": "https://localhost:8080/",
     "height": 224
    },
    "deepnote_cell_type": "code",
    "deepnote_to_be_reexecuted": false,
    "executionInfo": {
     "elapsed": 2967,
     "status": "ok",
     "timestamp": 1620279319403,
     "user": {
      "displayName": "Angeline Maris Gubat",
      "photoUrl": "https://lh3.googleusercontent.com/a-/AOh14Gijg6xgX0R_IA4o8GkF1xnv3D8-8kHv8i-V48U6=s64",
      "userId": "00875153666701401808"
     },
     "user_tz": -480
    },
    "execution_millis": 179,
    "execution_start": 1622489747909,
    "id": "wMpXFpxjndrL",
    "outputId": "7c16bf61-6e85-440b-c80b-f4004081afa1",
    "source_hash": "a91d374c"
   },
   "outputs": [
    {
     "data": {
      "text/html": [
       "<div>\n",
       "<style scoped>\n",
       "    .dataframe tbody tr th:only-of-type {\n",
       "        vertical-align: middle;\n",
       "    }\n",
       "\n",
       "    .dataframe tbody tr th {\n",
       "        vertical-align: top;\n",
       "    }\n",
       "\n",
       "    .dataframe thead th {\n",
       "        text-align: right;\n",
       "    }\n",
       "</style>\n",
       "<table border=\"1\" class=\"dataframe\">\n",
       "  <thead>\n",
       "    <tr style=\"text-align: right;\">\n",
       "      <th></th>\n",
       "      <th>gender</th>\n",
       "      <th>NationalITy</th>\n",
       "      <th>PlaceofBirth</th>\n",
       "      <th>StageID</th>\n",
       "      <th>GradeID</th>\n",
       "      <th>SectionID</th>\n",
       "      <th>Topic</th>\n",
       "      <th>Semester</th>\n",
       "      <th>Relation</th>\n",
       "      <th>raisedhands</th>\n",
       "      <th>VisITedResources</th>\n",
       "      <th>AnnouncementsView</th>\n",
       "      <th>Discussion</th>\n",
       "      <th>ParentAnsweringSurvey</th>\n",
       "      <th>ParentschoolSatisfaction</th>\n",
       "      <th>StudentAbsenceDays</th>\n",
       "      <th>Class</th>\n",
       "    </tr>\n",
       "  </thead>\n",
       "  <tbody>\n",
       "    <tr>\n",
       "      <th>0</th>\n",
       "      <td>M</td>\n",
       "      <td>KW</td>\n",
       "      <td>KuwaIT</td>\n",
       "      <td>lowerlevel</td>\n",
       "      <td>G-04</td>\n",
       "      <td>A</td>\n",
       "      <td>IT</td>\n",
       "      <td>F</td>\n",
       "      <td>Father</td>\n",
       "      <td>15</td>\n",
       "      <td>16</td>\n",
       "      <td>2</td>\n",
       "      <td>20</td>\n",
       "      <td>Yes</td>\n",
       "      <td>Good</td>\n",
       "      <td>Under-7</td>\n",
       "      <td>M</td>\n",
       "    </tr>\n",
       "    <tr>\n",
       "      <th>1</th>\n",
       "      <td>M</td>\n",
       "      <td>KW</td>\n",
       "      <td>KuwaIT</td>\n",
       "      <td>lowerlevel</td>\n",
       "      <td>G-04</td>\n",
       "      <td>A</td>\n",
       "      <td>IT</td>\n",
       "      <td>F</td>\n",
       "      <td>Father</td>\n",
       "      <td>20</td>\n",
       "      <td>20</td>\n",
       "      <td>3</td>\n",
       "      <td>25</td>\n",
       "      <td>Yes</td>\n",
       "      <td>Good</td>\n",
       "      <td>Under-7</td>\n",
       "      <td>M</td>\n",
       "    </tr>\n",
       "    <tr>\n",
       "      <th>2</th>\n",
       "      <td>M</td>\n",
       "      <td>KW</td>\n",
       "      <td>KuwaIT</td>\n",
       "      <td>lowerlevel</td>\n",
       "      <td>G-04</td>\n",
       "      <td>A</td>\n",
       "      <td>IT</td>\n",
       "      <td>F</td>\n",
       "      <td>Father</td>\n",
       "      <td>10</td>\n",
       "      <td>7</td>\n",
       "      <td>0</td>\n",
       "      <td>30</td>\n",
       "      <td>No</td>\n",
       "      <td>Bad</td>\n",
       "      <td>Above-7</td>\n",
       "      <td>L</td>\n",
       "    </tr>\n",
       "    <tr>\n",
       "      <th>3</th>\n",
       "      <td>M</td>\n",
       "      <td>KW</td>\n",
       "      <td>KuwaIT</td>\n",
       "      <td>lowerlevel</td>\n",
       "      <td>G-04</td>\n",
       "      <td>A</td>\n",
       "      <td>IT</td>\n",
       "      <td>F</td>\n",
       "      <td>Father</td>\n",
       "      <td>30</td>\n",
       "      <td>25</td>\n",
       "      <td>5</td>\n",
       "      <td>35</td>\n",
       "      <td>No</td>\n",
       "      <td>Bad</td>\n",
       "      <td>Above-7</td>\n",
       "      <td>L</td>\n",
       "    </tr>\n",
       "    <tr>\n",
       "      <th>4</th>\n",
       "      <td>M</td>\n",
       "      <td>KW</td>\n",
       "      <td>KuwaIT</td>\n",
       "      <td>lowerlevel</td>\n",
       "      <td>G-04</td>\n",
       "      <td>A</td>\n",
       "      <td>IT</td>\n",
       "      <td>F</td>\n",
       "      <td>Father</td>\n",
       "      <td>40</td>\n",
       "      <td>50</td>\n",
       "      <td>12</td>\n",
       "      <td>50</td>\n",
       "      <td>No</td>\n",
       "      <td>Bad</td>\n",
       "      <td>Above-7</td>\n",
       "      <td>M</td>\n",
       "    </tr>\n",
       "  </tbody>\n",
       "</table>\n",
       "</div>"
      ],
      "text/plain": [
       "  gender NationalITy PlaceofBirth     StageID GradeID SectionID Topic  \\\n",
       "0      M          KW       KuwaIT  lowerlevel    G-04         A    IT   \n",
       "1      M          KW       KuwaIT  lowerlevel    G-04         A    IT   \n",
       "2      M          KW       KuwaIT  lowerlevel    G-04         A    IT   \n",
       "3      M          KW       KuwaIT  lowerlevel    G-04         A    IT   \n",
       "4      M          KW       KuwaIT  lowerlevel    G-04         A    IT   \n",
       "\n",
       "  Semester Relation  raisedhands  VisITedResources  AnnouncementsView  \\\n",
       "0        F   Father           15                16                  2   \n",
       "1        F   Father           20                20                  3   \n",
       "2        F   Father           10                 7                  0   \n",
       "3        F   Father           30                25                  5   \n",
       "4        F   Father           40                50                 12   \n",
       "\n",
       "   Discussion ParentAnsweringSurvey ParentschoolSatisfaction  \\\n",
       "0          20                   Yes                     Good   \n",
       "1          25                   Yes                     Good   \n",
       "2          30                    No                      Bad   \n",
       "3          35                    No                      Bad   \n",
       "4          50                    No                      Bad   \n",
       "\n",
       "  StudentAbsenceDays Class  \n",
       "0            Under-7     M  \n",
       "1            Under-7     M  \n",
       "2            Above-7     L  \n",
       "3            Above-7     L  \n",
       "4            Above-7     M  "
      ]
     },
     "execution_count": 2,
     "metadata": {},
     "output_type": "execute_result"
    }
   ],
   "source": [
    "url = 'https://raw.githubusercontent.com/okaystephen/DATASCI-MCO/main/xAPI-Edu-Data.csv'\n",
    "spd_df = pd.read_csv(url)  \n",
    "\n",
    "# First 5 rows in the dataset:\n",
    "spd_df.head()"
   ]
  },
  {
   "cell_type": "markdown",
   "metadata": {
    "cell_id": "00006-8a00d9f2-6c27-4178-a49f-d92f97dda175",
    "deepnote_cell_type": "markdown",
    "id": "U0xIyjOvogV0"
   },
   "source": [
    "Let's see now its general information using `info()` function."
   ]
  },
  {
   "cell_type": "code",
   "execution_count": 3,
   "metadata": {
    "cell_id": "00007-eb58fcdc-b2e6-4166-a27b-9bd6de212743",
    "colab": {
     "base_uri": "https://localhost:8080/"
    },
    "deepnote_cell_type": "code",
    "deepnote_to_be_reexecuted": false,
    "executionInfo": {
     "elapsed": 1227,
     "status": "ok",
     "timestamp": 1620279322192,
     "user": {
      "displayName": "Angeline Maris Gubat",
      "photoUrl": "https://lh3.googleusercontent.com/a-/AOh14Gijg6xgX0R_IA4o8GkF1xnv3D8-8kHv8i-V48U6=s64",
      "userId": "00875153666701401808"
     },
     "user_tz": -480
    },
    "execution_millis": 51,
    "execution_start": 1622489748094,
    "id": "tFWQHA6couuq",
    "outputId": "aacc1e6c-2058-4d67-bb0d-529af783f73e",
    "source_hash": "befba77c"
   },
   "outputs": [
    {
     "name": "stdout",
     "output_type": "stream",
     "text": [
      "<class 'pandas.core.frame.DataFrame'>\n",
      "RangeIndex: 480 entries, 0 to 479\n",
      "Data columns (total 17 columns):\n",
      " #   Column                    Non-Null Count  Dtype \n",
      "---  ------                    --------------  ----- \n",
      " 0   gender                    480 non-null    object\n",
      " 1   NationalITy               480 non-null    object\n",
      " 2   PlaceofBirth              480 non-null    object\n",
      " 3   StageID                   480 non-null    object\n",
      " 4   GradeID                   480 non-null    object\n",
      " 5   SectionID                 480 non-null    object\n",
      " 6   Topic                     480 non-null    object\n",
      " 7   Semester                  480 non-null    object\n",
      " 8   Relation                  480 non-null    object\n",
      " 9   raisedhands               480 non-null    int64 \n",
      " 10  VisITedResources          480 non-null    int64 \n",
      " 11  AnnouncementsView         480 non-null    int64 \n",
      " 12  Discussion                480 non-null    int64 \n",
      " 13  ParentAnsweringSurvey     480 non-null    object\n",
      " 14  ParentschoolSatisfaction  480 non-null    object\n",
      " 15  StudentAbsenceDays        480 non-null    object\n",
      " 16  Class                     480 non-null    object\n",
      "dtypes: int64(4), object(13)\n",
      "memory usage: 63.9+ KB\n"
     ]
    }
   ],
   "source": [
    "# Dataset's variables type:\n",
    "spd_df.info()"
   ]
  },
  {
   "cell_type": "code",
   "execution_count": 4,
   "metadata": {
    "cell_id": "00008-dc7505c9-831c-4181-8f39-4808c488198c",
    "colab": {
     "base_uri": "https://localhost:8080/"
    },
    "deepnote_cell_type": "code",
    "deepnote_to_be_reexecuted": false,
    "executionInfo": {
     "elapsed": 860,
     "status": "ok",
     "timestamp": 1620279325359,
     "user": {
      "displayName": "Angeline Maris Gubat",
      "photoUrl": "https://lh3.googleusercontent.com/a-/AOh14Gijg6xgX0R_IA4o8GkF1xnv3D8-8kHv8i-V48U6=s64",
      "userId": "00875153666701401808"
     },
     "user_tz": -480
    },
    "execution_millis": 38,
    "execution_start": 1622489748107,
    "id": "EPDbCiXjqmsV",
    "outputId": "b22dff31-2bee-4a2a-b512-a818fec3f525",
    "source_hash": "1a9d023d"
   },
   "outputs": [
    {
     "data": {
      "text/plain": [
       "gender                      0\n",
       "NationalITy                 0\n",
       "PlaceofBirth                0\n",
       "StageID                     0\n",
       "GradeID                     0\n",
       "SectionID                   0\n",
       "Topic                       0\n",
       "Semester                    0\n",
       "Relation                    0\n",
       "raisedhands                 0\n",
       "VisITedResources            0\n",
       "AnnouncementsView           0\n",
       "Discussion                  0\n",
       "ParentAnsweringSurvey       0\n",
       "ParentschoolSatisfaction    0\n",
       "StudentAbsenceDays          0\n",
       "Class                       0\n",
       "dtype: int64"
      ]
     },
     "execution_count": 4,
     "metadata": {},
     "output_type": "execute_result"
    }
   ],
   "source": [
    "spd_df.isnull().sum()"
   ]
  },
  {
   "cell_type": "markdown",
   "metadata": {
    "cell_id": "00009-32263025-5503-42af-8007-467790007b1e",
    "deepnote_cell_type": "markdown",
    "id": "jC8D9CA-o9mZ"
   },
   "source": [
    "We can see that there are no null values or missing values in any columns so there will be no problem in the dataset in handling null or NaN values. Before analyzing our data, let's further explore the dataset for data cleaning.  "
   ]
  },
  {
   "cell_type": "markdown",
   "metadata": {
    "cell_id": "00010-f5340a78-c891-4a6a-bd0b-8d6fd475bfcc",
    "deepnote_cell_type": "markdown",
    "id": "jC8D9CA-o9mZ"
   },
   "source": [
    "### **Data Cleaning** "
   ]
  },
  {
   "cell_type": "markdown",
   "metadata": {
    "cell_id": "00011-aeea1542-2323-41dc-ac8e-d8d75df51979",
    "deepnote_cell_type": "markdown",
    "id": "jC8D9CA-o9mZ"
   },
   "source": [
    "#### **Renaming feature names**  \n",
    "When we viewed the information of the dataset, we saw that some column names doesn't have the same format. Some columns are all in lowercase while some letters are capitalized like `NationalITy` and `VisITedResources`. It is a good approach to rename columns to ones that can be easily recalled later on. Here are the columns that we will be renaming:  \n",
    "* `NationalITy` --> `Nationality`\n",
    "* `PlaceofBirth` --> `BirthPlace`\n",
    "* `VisITedResources` --> `VistedResources`\n",
    "* `ParentschoolSatisfaction` --> `ParentSchoolSatisfaction`\n",
    "* `raisedhands` --> `RaisedHands`"
   ]
  },
  {
   "cell_type": "code",
   "execution_count": 5,
   "metadata": {
    "cell_id": "00010-1dccb324-da75-4805-b5be-2815f086a8db",
    "deepnote_cell_type": "code",
    "deepnote_to_be_reexecuted": false,
    "execution_millis": 3,
    "execution_start": 1622489748118,
    "id": "Nb7pnOnUxk23",
    "source_hash": "a8be05ef"
   },
   "outputs": [],
   "source": [
    "spd_df.rename(columns={'NationalITy':'Nationality',\n",
    "'PlaceofBirth': 'BirthPlace',\n",
    "'gender': 'Gender',\n",
    "'VisITedResources':'VisitedResources',\n",
    "'ParentschoolSatisfaction':'ParentSchoolSatisfaction',\n",
    "'raisedhands':'RaisedHands'}, inplace=True) "
   ]
  },
  {
   "cell_type": "markdown",
   "metadata": {
    "cell_id": "00011-fa4ae265-d2e2-4cfe-9afa-67a5e2d3843e",
    "deepnote_cell_type": "markdown",
    "id": "JqUWGuu6zN4X"
   },
   "source": [
    "Let's view the dataset with the renamed columns."
   ]
  },
  {
   "cell_type": "code",
   "execution_count": 6,
   "metadata": {
    "cell_id": "00012-d6ba9672-e5d8-4358-9abf-2563adafd814",
    "colab": {
     "base_uri": "https://localhost:8080/",
     "height": 224
    },
    "deepnote_cell_type": "code",
    "deepnote_to_be_reexecuted": false,
    "executionInfo": {
     "elapsed": 806,
     "status": "ok",
     "timestamp": 1620279332315,
     "user": {
      "displayName": "Angeline Maris Gubat",
      "photoUrl": "https://lh3.googleusercontent.com/a-/AOh14Gijg6xgX0R_IA4o8GkF1xnv3D8-8kHv8i-V48U6=s64",
      "userId": "00875153666701401808"
     },
     "user_tz": -480
    },
    "execution_millis": 46,
    "execution_start": 1622489748195,
    "id": "8RASwgzAzSPl",
    "outputId": "939ee989-b868-480d-afa6-d217fefc72e1",
    "source_hash": "e22e2d41"
   },
   "outputs": [
    {
     "data": {
      "text/html": [
       "<div>\n",
       "<style scoped>\n",
       "    .dataframe tbody tr th:only-of-type {\n",
       "        vertical-align: middle;\n",
       "    }\n",
       "\n",
       "    .dataframe tbody tr th {\n",
       "        vertical-align: top;\n",
       "    }\n",
       "\n",
       "    .dataframe thead th {\n",
       "        text-align: right;\n",
       "    }\n",
       "</style>\n",
       "<table border=\"1\" class=\"dataframe\">\n",
       "  <thead>\n",
       "    <tr style=\"text-align: right;\">\n",
       "      <th></th>\n",
       "      <th>Gender</th>\n",
       "      <th>Nationality</th>\n",
       "      <th>BirthPlace</th>\n",
       "      <th>StageID</th>\n",
       "      <th>GradeID</th>\n",
       "      <th>SectionID</th>\n",
       "      <th>Topic</th>\n",
       "      <th>Semester</th>\n",
       "      <th>Relation</th>\n",
       "      <th>RaisedHands</th>\n",
       "      <th>VisitedResources</th>\n",
       "      <th>AnnouncementsView</th>\n",
       "      <th>Discussion</th>\n",
       "      <th>ParentAnsweringSurvey</th>\n",
       "      <th>ParentSchoolSatisfaction</th>\n",
       "      <th>StudentAbsenceDays</th>\n",
       "      <th>Class</th>\n",
       "    </tr>\n",
       "  </thead>\n",
       "  <tbody>\n",
       "    <tr>\n",
       "      <th>0</th>\n",
       "      <td>M</td>\n",
       "      <td>KW</td>\n",
       "      <td>KuwaIT</td>\n",
       "      <td>lowerlevel</td>\n",
       "      <td>G-04</td>\n",
       "      <td>A</td>\n",
       "      <td>IT</td>\n",
       "      <td>F</td>\n",
       "      <td>Father</td>\n",
       "      <td>15</td>\n",
       "      <td>16</td>\n",
       "      <td>2</td>\n",
       "      <td>20</td>\n",
       "      <td>Yes</td>\n",
       "      <td>Good</td>\n",
       "      <td>Under-7</td>\n",
       "      <td>M</td>\n",
       "    </tr>\n",
       "    <tr>\n",
       "      <th>1</th>\n",
       "      <td>M</td>\n",
       "      <td>KW</td>\n",
       "      <td>KuwaIT</td>\n",
       "      <td>lowerlevel</td>\n",
       "      <td>G-04</td>\n",
       "      <td>A</td>\n",
       "      <td>IT</td>\n",
       "      <td>F</td>\n",
       "      <td>Father</td>\n",
       "      <td>20</td>\n",
       "      <td>20</td>\n",
       "      <td>3</td>\n",
       "      <td>25</td>\n",
       "      <td>Yes</td>\n",
       "      <td>Good</td>\n",
       "      <td>Under-7</td>\n",
       "      <td>M</td>\n",
       "    </tr>\n",
       "    <tr>\n",
       "      <th>2</th>\n",
       "      <td>M</td>\n",
       "      <td>KW</td>\n",
       "      <td>KuwaIT</td>\n",
       "      <td>lowerlevel</td>\n",
       "      <td>G-04</td>\n",
       "      <td>A</td>\n",
       "      <td>IT</td>\n",
       "      <td>F</td>\n",
       "      <td>Father</td>\n",
       "      <td>10</td>\n",
       "      <td>7</td>\n",
       "      <td>0</td>\n",
       "      <td>30</td>\n",
       "      <td>No</td>\n",
       "      <td>Bad</td>\n",
       "      <td>Above-7</td>\n",
       "      <td>L</td>\n",
       "    </tr>\n",
       "    <tr>\n",
       "      <th>3</th>\n",
       "      <td>M</td>\n",
       "      <td>KW</td>\n",
       "      <td>KuwaIT</td>\n",
       "      <td>lowerlevel</td>\n",
       "      <td>G-04</td>\n",
       "      <td>A</td>\n",
       "      <td>IT</td>\n",
       "      <td>F</td>\n",
       "      <td>Father</td>\n",
       "      <td>30</td>\n",
       "      <td>25</td>\n",
       "      <td>5</td>\n",
       "      <td>35</td>\n",
       "      <td>No</td>\n",
       "      <td>Bad</td>\n",
       "      <td>Above-7</td>\n",
       "      <td>L</td>\n",
       "    </tr>\n",
       "    <tr>\n",
       "      <th>4</th>\n",
       "      <td>M</td>\n",
       "      <td>KW</td>\n",
       "      <td>KuwaIT</td>\n",
       "      <td>lowerlevel</td>\n",
       "      <td>G-04</td>\n",
       "      <td>A</td>\n",
       "      <td>IT</td>\n",
       "      <td>F</td>\n",
       "      <td>Father</td>\n",
       "      <td>40</td>\n",
       "      <td>50</td>\n",
       "      <td>12</td>\n",
       "      <td>50</td>\n",
       "      <td>No</td>\n",
       "      <td>Bad</td>\n",
       "      <td>Above-7</td>\n",
       "      <td>M</td>\n",
       "    </tr>\n",
       "  </tbody>\n",
       "</table>\n",
       "</div>"
      ],
      "text/plain": [
       "  Gender Nationality BirthPlace     StageID GradeID SectionID Topic Semester  \\\n",
       "0      M          KW     KuwaIT  lowerlevel    G-04         A    IT        F   \n",
       "1      M          KW     KuwaIT  lowerlevel    G-04         A    IT        F   \n",
       "2      M          KW     KuwaIT  lowerlevel    G-04         A    IT        F   \n",
       "3      M          KW     KuwaIT  lowerlevel    G-04         A    IT        F   \n",
       "4      M          KW     KuwaIT  lowerlevel    G-04         A    IT        F   \n",
       "\n",
       "  Relation  RaisedHands  VisitedResources  AnnouncementsView  Discussion  \\\n",
       "0   Father           15                16                  2          20   \n",
       "1   Father           20                20                  3          25   \n",
       "2   Father           10                 7                  0          30   \n",
       "3   Father           30                25                  5          35   \n",
       "4   Father           40                50                 12          50   \n",
       "\n",
       "  ParentAnsweringSurvey ParentSchoolSatisfaction StudentAbsenceDays Class  \n",
       "0                   Yes                     Good            Under-7     M  \n",
       "1                   Yes                     Good            Under-7     M  \n",
       "2                    No                      Bad            Above-7     L  \n",
       "3                    No                      Bad            Above-7     L  \n",
       "4                    No                      Bad            Above-7     M  "
      ]
     },
     "execution_count": 6,
     "metadata": {},
     "output_type": "execute_result"
    }
   ],
   "source": [
    "spd_df.head()"
   ]
  },
  {
   "cell_type": "markdown",
   "metadata": {
    "cell_id": "00013-bc680081-fb97-4af1-8082-50dda56d38f5",
    "deepnote_cell_type": "markdown",
    "id": "S8ZYf_i501gc"
   },
   "source": [
    "#### **Renaming Mum to Mother in Relation Column**  \n",
    "It's also important to ensure that the data values is consistent and uniformed within the dataset especially inside a feature column. Let's check the `Relation` column in the dataset and view its unique values.  "
   ]
  },
  {
   "cell_type": "code",
   "execution_count": 7,
   "metadata": {
    "cell_id": "00014-eef4a4e4-6fc0-4b0d-9258-c593d83ad836",
    "colab": {
     "base_uri": "https://localhost:8080/"
    },
    "deepnote_cell_type": "code",
    "deepnote_to_be_reexecuted": false,
    "executionInfo": {
     "elapsed": 774,
     "status": "ok",
     "timestamp": 1620279339425,
     "user": {
      "displayName": "Angeline Maris Gubat",
      "photoUrl": "https://lh3.googleusercontent.com/a-/AOh14Gijg6xgX0R_IA4o8GkF1xnv3D8-8kHv8i-V48U6=s64",
      "userId": "00875153666701401808"
     },
     "user_tz": -480
    },
    "execution_millis": 33,
    "execution_start": 1622489748208,
    "id": "ewFVnaiaptGT",
    "outputId": "5f583abc-8347-4427-9cac-07125845a101",
    "source_hash": "4511d889"
   },
   "outputs": [
    {
     "data": {
      "text/plain": [
       "array(['Father', 'Mum'], dtype=object)"
      ]
     },
     "execution_count": 7,
     "metadata": {},
     "output_type": "execute_result"
    }
   ],
   "source": [
    "spd_df['Relation'].unique()"
   ]
  },
  {
   "cell_type": "markdown",
   "metadata": {
    "cell_id": "00015-71da6f74-c902-4773-8959-f7f72a332ecd",
    "deepnote_cell_type": "markdown",
    "id": "20sZlbaMqoQS"
   },
   "source": [
    "For uniformity, we will be renaming Mum to Mother."
   ]
  },
  {
   "cell_type": "code",
   "execution_count": 8,
   "metadata": {
    "cell_id": "00016-efe5e277-532c-4705-9447-40d2f7ab47b9",
    "colab": {
     "base_uri": "https://localhost:8080/"
    },
    "deepnote_cell_type": "code",
    "deepnote_to_be_reexecuted": false,
    "executionInfo": {
     "elapsed": 980,
     "status": "ok",
     "timestamp": 1620279341524,
     "user": {
      "displayName": "Angeline Maris Gubat",
      "photoUrl": "https://lh3.googleusercontent.com/a-/AOh14Gijg6xgX0R_IA4o8GkF1xnv3D8-8kHv8i-V48U6=s64",
      "userId": "00875153666701401808"
     },
     "user_tz": -480
    },
    "execution_millis": 21,
    "execution_start": 1622489748221,
    "id": "L0IolrCNrF25",
    "outputId": "f68cbcf0-3492-405e-d41d-9517b43c1d07",
    "source_hash": "1abd6e04"
   },
   "outputs": [
    {
     "data": {
      "text/plain": [
       "array(['Father', 'Mother'], dtype=object)"
      ]
     },
     "execution_count": 8,
     "metadata": {},
     "output_type": "execute_result"
    }
   ],
   "source": [
    "spd_df['Relation'].replace({'Mum':'Mother'}, inplace=True)\n",
    "spd_df['Relation'].unique()"
   ]
  },
  {
   "cell_type": "markdown",
   "metadata": {
    "cell_id": "00017-f1c9cb82-72a9-4576-a1e9-218634d14b02",
    "deepnote_cell_type": "markdown",
    "id": "LV-uLQkql9rE"
   },
   "source": [
    "#### **Renaming countries from the `BirthPlace` column**  "
   ]
  },
  {
   "cell_type": "markdown",
   "metadata": {
    "cell_id": "00018-01b44e27-3374-4232-b6c4-e048896c80db",
    "deepnote_cell_type": "markdown",
    "id": "B1TMW3M7IufA"
   },
   "source": [
    "Let's check the unique values in the `BirthPlace` feature"
   ]
  },
  {
   "cell_type": "code",
   "execution_count": 9,
   "metadata": {
    "cell_id": "00019-e2545010-32b9-4d38-9e7e-0d2be2cb8366",
    "colab": {
     "base_uri": "https://localhost:8080/"
    },
    "deepnote_cell_type": "code",
    "deepnote_to_be_reexecuted": false,
    "executionInfo": {
     "elapsed": 540,
     "status": "ok",
     "timestamp": 1620279343365,
     "user": {
      "displayName": "Angeline Maris Gubat",
      "photoUrl": "https://lh3.googleusercontent.com/a-/AOh14Gijg6xgX0R_IA4o8GkF1xnv3D8-8kHv8i-V48U6=s64",
      "userId": "00875153666701401808"
     },
     "user_tz": -480
    },
    "execution_millis": 17,
    "execution_start": 1622489748262,
    "id": "XEnYntVXI7re",
    "outputId": "3791f6be-7277-442c-da59-9eeb2f7a6cd0",
    "source_hash": "258b4711"
   },
   "outputs": [
    {
     "data": {
      "text/plain": [
       "array(['KuwaIT', 'lebanon', 'Egypt', 'SaudiArabia', 'USA', 'Jordan',\n",
       "       'venzuela', 'Iran', 'Tunis', 'Morocco', 'Syria', 'Iraq',\n",
       "       'Palestine', 'Lybia'], dtype=object)"
      ]
     },
     "execution_count": 9,
     "metadata": {},
     "output_type": "execute_result"
    }
   ],
   "source": [
    "spd_df['BirthPlace'].unique()"
   ]
  },
  {
   "cell_type": "markdown",
   "metadata": {
    "cell_id": "00020-ec03466e-a387-4b32-8771-695c68556eb6",
    "deepnote_cell_type": "markdown",
    "id": "lzMIQzPYmYfI"
   },
   "source": [
    "We can see there are inconsistencies with how the locations are written, and there is a misspelled location. Let's turn `lebanon` into `Lebanon`, `venzuela` to `Venezuela`, `KuwaIT` to `Kuwait`, and `Lybia` to `Libya`."
   ]
  },
  {
   "cell_type": "code",
   "execution_count": 10,
   "metadata": {
    "cell_id": "00021-4191ac99-0741-42ae-83fa-2af6133bc91b",
    "deepnote_cell_type": "code",
    "deepnote_to_be_reexecuted": false,
    "execution_millis": 0,
    "execution_start": 1622489748263,
    "id": "6uPLx2bDnD-T",
    "source_hash": "6dee0e25"
   },
   "outputs": [],
   "source": [
    "spd_df.replace({'BirthPlace': {'lebanon': 'Lebanon'}}, inplace=True)"
   ]
  },
  {
   "cell_type": "code",
   "execution_count": 11,
   "metadata": {
    "cell_id": "00022-8a3645eb-ddc1-4385-a75e-c419099ce64d",
    "deepnote_cell_type": "code",
    "deepnote_to_be_reexecuted": false,
    "execution_millis": 1,
    "execution_start": 1622489748263,
    "id": "JiEWjRSgNooO",
    "source_hash": "9fa867b2"
   },
   "outputs": [],
   "source": [
    "spd_df.replace({'BirthPlace': {'venzuela': 'Venezuela'}}, inplace=True)"
   ]
  },
  {
   "cell_type": "code",
   "execution_count": 12,
   "metadata": {
    "cell_id": "00023-082da4ad-01aa-4a30-943d-25d8d59a8796",
    "deepnote_cell_type": "code",
    "deepnote_to_be_reexecuted": false,
    "execution_millis": 1,
    "execution_start": 1622489748264,
    "id": "NOxqn1IsJrQI",
    "source_hash": "8f320663"
   },
   "outputs": [],
   "source": [
    "spd_df.replace({'BirthPlace': {'KuwaIT': 'Kuwait'}}, inplace=True)"
   ]
  },
  {
   "cell_type": "code",
   "execution_count": 13,
   "metadata": {
    "cell_id": "00024-741c2160-4874-4206-b7d2-cf09ed1b5bad",
    "deepnote_cell_type": "code",
    "deepnote_to_be_reexecuted": false,
    "execution_millis": 0,
    "execution_start": 1622489748314,
    "source_hash": "47007e17",
    "tags": []
   },
   "outputs": [],
   "source": [
    "spd_df.replace({'BirthPlace': {'Lybia': 'Libya'}}, inplace=True)"
   ]
  },
  {
   "cell_type": "code",
   "execution_count": 14,
   "metadata": {
    "cell_id": "00024-4ef08c9a-7231-44c5-9b46-cff6dc4a8317",
    "colab": {
     "base_uri": "https://localhost:8080/"
    },
    "deepnote_cell_type": "code",
    "deepnote_to_be_reexecuted": false,
    "executionInfo": {
     "elapsed": 495,
     "status": "ok",
     "timestamp": 1620279352555,
     "user": {
      "displayName": "Angeline Maris Gubat",
      "photoUrl": "https://lh3.googleusercontent.com/a-/AOh14Gijg6xgX0R_IA4o8GkF1xnv3D8-8kHv8i-V48U6=s64",
      "userId": "00875153666701401808"
     },
     "user_tz": -480
    },
    "execution_millis": 9,
    "execution_start": 1622489748315,
    "id": "b0bRfInOmkqB",
    "outputId": "ec744a8e-c542-4585-ee82-e3d34068cb2a",
    "source_hash": "258b4711"
   },
   "outputs": [
    {
     "data": {
      "text/plain": [
       "array(['Kuwait', 'Lebanon', 'Egypt', 'SaudiArabia', 'USA', 'Jordan',\n",
       "       'Venezuela', 'Iran', 'Tunis', 'Morocco', 'Syria', 'Iraq',\n",
       "       'Palestine', 'Libya'], dtype=object)"
      ]
     },
     "execution_count": 14,
     "metadata": {},
     "output_type": "execute_result"
    }
   ],
   "source": [
    "spd_df['BirthPlace'].unique()"
   ]
  },
  {
   "cell_type": "code",
   "execution_count": 15,
   "metadata": {
    "cell_id": "00025-d0a31dfa-e192-442e-9f2a-6bb2064c436e",
    "colab": {
     "base_uri": "https://localhost:8080/",
     "height": 439
    },
    "deepnote_cell_type": "code",
    "deepnote_to_be_reexecuted": false,
    "executionInfo": {
     "elapsed": 762,
     "status": "ok",
     "timestamp": 1620279358617,
     "user": {
      "displayName": "Angeline Maris Gubat",
      "photoUrl": "https://lh3.googleusercontent.com/a-/AOh14Gijg6xgX0R_IA4o8GkF1xnv3D8-8kHv8i-V48U6=s64",
      "userId": "00875153666701401808"
     },
     "user_tz": -480
    },
    "execution_millis": 95,
    "execution_start": 1622489748316,
    "id": "KHx3V3VLJ3Z3",
    "outputId": "0213d278-5fb1-431a-c24d-140f26829eac",
    "source_hash": "511618e5"
   },
   "outputs": [
    {
     "data": {
      "text/html": [
       "<div>\n",
       "<style scoped>\n",
       "    .dataframe tbody tr th:only-of-type {\n",
       "        vertical-align: middle;\n",
       "    }\n",
       "\n",
       "    .dataframe tbody tr th {\n",
       "        vertical-align: top;\n",
       "    }\n",
       "\n",
       "    .dataframe thead th {\n",
       "        text-align: right;\n",
       "    }\n",
       "</style>\n",
       "<table border=\"1\" class=\"dataframe\">\n",
       "  <thead>\n",
       "    <tr style=\"text-align: right;\">\n",
       "      <th></th>\n",
       "      <th>Gender</th>\n",
       "      <th>Nationality</th>\n",
       "      <th>BirthPlace</th>\n",
       "      <th>StageID</th>\n",
       "      <th>GradeID</th>\n",
       "      <th>SectionID</th>\n",
       "      <th>Topic</th>\n",
       "      <th>Semester</th>\n",
       "      <th>Relation</th>\n",
       "      <th>RaisedHands</th>\n",
       "      <th>VisitedResources</th>\n",
       "      <th>AnnouncementsView</th>\n",
       "      <th>Discussion</th>\n",
       "      <th>ParentAnsweringSurvey</th>\n",
       "      <th>ParentSchoolSatisfaction</th>\n",
       "      <th>StudentAbsenceDays</th>\n",
       "      <th>Class</th>\n",
       "    </tr>\n",
       "  </thead>\n",
       "  <tbody>\n",
       "    <tr>\n",
       "      <th>0</th>\n",
       "      <td>M</td>\n",
       "      <td>KW</td>\n",
       "      <td>Kuwait</td>\n",
       "      <td>lowerlevel</td>\n",
       "      <td>G-04</td>\n",
       "      <td>A</td>\n",
       "      <td>IT</td>\n",
       "      <td>F</td>\n",
       "      <td>Father</td>\n",
       "      <td>15</td>\n",
       "      <td>16</td>\n",
       "      <td>2</td>\n",
       "      <td>20</td>\n",
       "      <td>Yes</td>\n",
       "      <td>Good</td>\n",
       "      <td>Under-7</td>\n",
       "      <td>M</td>\n",
       "    </tr>\n",
       "    <tr>\n",
       "      <th>1</th>\n",
       "      <td>M</td>\n",
       "      <td>KW</td>\n",
       "      <td>Kuwait</td>\n",
       "      <td>lowerlevel</td>\n",
       "      <td>G-04</td>\n",
       "      <td>A</td>\n",
       "      <td>IT</td>\n",
       "      <td>F</td>\n",
       "      <td>Father</td>\n",
       "      <td>20</td>\n",
       "      <td>20</td>\n",
       "      <td>3</td>\n",
       "      <td>25</td>\n",
       "      <td>Yes</td>\n",
       "      <td>Good</td>\n",
       "      <td>Under-7</td>\n",
       "      <td>M</td>\n",
       "    </tr>\n",
       "    <tr>\n",
       "      <th>2</th>\n",
       "      <td>M</td>\n",
       "      <td>KW</td>\n",
       "      <td>Kuwait</td>\n",
       "      <td>lowerlevel</td>\n",
       "      <td>G-04</td>\n",
       "      <td>A</td>\n",
       "      <td>IT</td>\n",
       "      <td>F</td>\n",
       "      <td>Father</td>\n",
       "      <td>10</td>\n",
       "      <td>7</td>\n",
       "      <td>0</td>\n",
       "      <td>30</td>\n",
       "      <td>No</td>\n",
       "      <td>Bad</td>\n",
       "      <td>Above-7</td>\n",
       "      <td>L</td>\n",
       "    </tr>\n",
       "    <tr>\n",
       "      <th>3</th>\n",
       "      <td>M</td>\n",
       "      <td>KW</td>\n",
       "      <td>Kuwait</td>\n",
       "      <td>lowerlevel</td>\n",
       "      <td>G-04</td>\n",
       "      <td>A</td>\n",
       "      <td>IT</td>\n",
       "      <td>F</td>\n",
       "      <td>Father</td>\n",
       "      <td>30</td>\n",
       "      <td>25</td>\n",
       "      <td>5</td>\n",
       "      <td>35</td>\n",
       "      <td>No</td>\n",
       "      <td>Bad</td>\n",
       "      <td>Above-7</td>\n",
       "      <td>L</td>\n",
       "    </tr>\n",
       "    <tr>\n",
       "      <th>4</th>\n",
       "      <td>M</td>\n",
       "      <td>KW</td>\n",
       "      <td>Kuwait</td>\n",
       "      <td>lowerlevel</td>\n",
       "      <td>G-04</td>\n",
       "      <td>A</td>\n",
       "      <td>IT</td>\n",
       "      <td>F</td>\n",
       "      <td>Father</td>\n",
       "      <td>40</td>\n",
       "      <td>50</td>\n",
       "      <td>12</td>\n",
       "      <td>50</td>\n",
       "      <td>No</td>\n",
       "      <td>Bad</td>\n",
       "      <td>Above-7</td>\n",
       "      <td>M</td>\n",
       "    </tr>\n",
       "    <tr>\n",
       "      <th>...</th>\n",
       "      <td>...</td>\n",
       "      <td>...</td>\n",
       "      <td>...</td>\n",
       "      <td>...</td>\n",
       "      <td>...</td>\n",
       "      <td>...</td>\n",
       "      <td>...</td>\n",
       "      <td>...</td>\n",
       "      <td>...</td>\n",
       "      <td>...</td>\n",
       "      <td>...</td>\n",
       "      <td>...</td>\n",
       "      <td>...</td>\n",
       "      <td>...</td>\n",
       "      <td>...</td>\n",
       "      <td>...</td>\n",
       "      <td>...</td>\n",
       "    </tr>\n",
       "    <tr>\n",
       "      <th>475</th>\n",
       "      <td>F</td>\n",
       "      <td>Jordan</td>\n",
       "      <td>Jordan</td>\n",
       "      <td>MiddleSchool</td>\n",
       "      <td>G-08</td>\n",
       "      <td>A</td>\n",
       "      <td>Chemistry</td>\n",
       "      <td>S</td>\n",
       "      <td>Father</td>\n",
       "      <td>5</td>\n",
       "      <td>4</td>\n",
       "      <td>5</td>\n",
       "      <td>8</td>\n",
       "      <td>No</td>\n",
       "      <td>Bad</td>\n",
       "      <td>Above-7</td>\n",
       "      <td>L</td>\n",
       "    </tr>\n",
       "    <tr>\n",
       "      <th>476</th>\n",
       "      <td>F</td>\n",
       "      <td>Jordan</td>\n",
       "      <td>Jordan</td>\n",
       "      <td>MiddleSchool</td>\n",
       "      <td>G-08</td>\n",
       "      <td>A</td>\n",
       "      <td>Geology</td>\n",
       "      <td>F</td>\n",
       "      <td>Father</td>\n",
       "      <td>50</td>\n",
       "      <td>77</td>\n",
       "      <td>14</td>\n",
       "      <td>28</td>\n",
       "      <td>No</td>\n",
       "      <td>Bad</td>\n",
       "      <td>Under-7</td>\n",
       "      <td>M</td>\n",
       "    </tr>\n",
       "    <tr>\n",
       "      <th>477</th>\n",
       "      <td>F</td>\n",
       "      <td>Jordan</td>\n",
       "      <td>Jordan</td>\n",
       "      <td>MiddleSchool</td>\n",
       "      <td>G-08</td>\n",
       "      <td>A</td>\n",
       "      <td>Geology</td>\n",
       "      <td>S</td>\n",
       "      <td>Father</td>\n",
       "      <td>55</td>\n",
       "      <td>74</td>\n",
       "      <td>25</td>\n",
       "      <td>29</td>\n",
       "      <td>No</td>\n",
       "      <td>Bad</td>\n",
       "      <td>Under-7</td>\n",
       "      <td>M</td>\n",
       "    </tr>\n",
       "    <tr>\n",
       "      <th>478</th>\n",
       "      <td>F</td>\n",
       "      <td>Jordan</td>\n",
       "      <td>Jordan</td>\n",
       "      <td>MiddleSchool</td>\n",
       "      <td>G-08</td>\n",
       "      <td>A</td>\n",
       "      <td>History</td>\n",
       "      <td>F</td>\n",
       "      <td>Father</td>\n",
       "      <td>30</td>\n",
       "      <td>17</td>\n",
       "      <td>14</td>\n",
       "      <td>57</td>\n",
       "      <td>No</td>\n",
       "      <td>Bad</td>\n",
       "      <td>Above-7</td>\n",
       "      <td>L</td>\n",
       "    </tr>\n",
       "    <tr>\n",
       "      <th>479</th>\n",
       "      <td>F</td>\n",
       "      <td>Jordan</td>\n",
       "      <td>Jordan</td>\n",
       "      <td>MiddleSchool</td>\n",
       "      <td>G-08</td>\n",
       "      <td>A</td>\n",
       "      <td>History</td>\n",
       "      <td>S</td>\n",
       "      <td>Father</td>\n",
       "      <td>35</td>\n",
       "      <td>14</td>\n",
       "      <td>23</td>\n",
       "      <td>62</td>\n",
       "      <td>No</td>\n",
       "      <td>Bad</td>\n",
       "      <td>Above-7</td>\n",
       "      <td>L</td>\n",
       "    </tr>\n",
       "  </tbody>\n",
       "</table>\n",
       "<p>480 rows × 17 columns</p>\n",
       "</div>"
      ],
      "text/plain": [
       "    Gender Nationality BirthPlace       StageID GradeID SectionID      Topic  \\\n",
       "0        M          KW     Kuwait    lowerlevel    G-04         A         IT   \n",
       "1        M          KW     Kuwait    lowerlevel    G-04         A         IT   \n",
       "2        M          KW     Kuwait    lowerlevel    G-04         A         IT   \n",
       "3        M          KW     Kuwait    lowerlevel    G-04         A         IT   \n",
       "4        M          KW     Kuwait    lowerlevel    G-04         A         IT   \n",
       "..     ...         ...        ...           ...     ...       ...        ...   \n",
       "475      F      Jordan     Jordan  MiddleSchool    G-08         A  Chemistry   \n",
       "476      F      Jordan     Jordan  MiddleSchool    G-08         A    Geology   \n",
       "477      F      Jordan     Jordan  MiddleSchool    G-08         A    Geology   \n",
       "478      F      Jordan     Jordan  MiddleSchool    G-08         A    History   \n",
       "479      F      Jordan     Jordan  MiddleSchool    G-08         A    History   \n",
       "\n",
       "    Semester Relation  RaisedHands  VisitedResources  AnnouncementsView  \\\n",
       "0          F   Father           15                16                  2   \n",
       "1          F   Father           20                20                  3   \n",
       "2          F   Father           10                 7                  0   \n",
       "3          F   Father           30                25                  5   \n",
       "4          F   Father           40                50                 12   \n",
       "..       ...      ...          ...               ...                ...   \n",
       "475        S   Father            5                 4                  5   \n",
       "476        F   Father           50                77                 14   \n",
       "477        S   Father           55                74                 25   \n",
       "478        F   Father           30                17                 14   \n",
       "479        S   Father           35                14                 23   \n",
       "\n",
       "     Discussion ParentAnsweringSurvey ParentSchoolSatisfaction  \\\n",
       "0            20                   Yes                     Good   \n",
       "1            25                   Yes                     Good   \n",
       "2            30                    No                      Bad   \n",
       "3            35                    No                      Bad   \n",
       "4            50                    No                      Bad   \n",
       "..          ...                   ...                      ...   \n",
       "475           8                    No                      Bad   \n",
       "476          28                    No                      Bad   \n",
       "477          29                    No                      Bad   \n",
       "478          57                    No                      Bad   \n",
       "479          62                    No                      Bad   \n",
       "\n",
       "    StudentAbsenceDays Class  \n",
       "0              Under-7     M  \n",
       "1              Under-7     M  \n",
       "2              Above-7     L  \n",
       "3              Above-7     L  \n",
       "4              Above-7     M  \n",
       "..                 ...   ...  \n",
       "475            Above-7     L  \n",
       "476            Under-7     M  \n",
       "477            Under-7     M  \n",
       "478            Above-7     L  \n",
       "479            Above-7     L  \n",
       "\n",
       "[480 rows x 17 columns]"
      ]
     },
     "execution_count": 15,
     "metadata": {},
     "output_type": "execute_result"
    }
   ],
   "source": [
    "spd_df"
   ]
  },
  {
   "cell_type": "markdown",
   "metadata": {
    "cell_id": "00026-7b0529ab-0751-49d4-852f-1ae206772ac0",
    "deepnote_cell_type": "markdown",
    "id": "HuX6a-Cxn1mO"
   },
   "source": [
    "#### **Renaming countries from the `Nationality` column**  "
   ]
  },
  {
   "cell_type": "code",
   "execution_count": 16,
   "metadata": {
    "cell_id": "00027-964e53b6-5563-441e-aea3-dc098e66e74a",
    "colab": {
     "base_uri": "https://localhost:8080/"
    },
    "deepnote_cell_type": "code",
    "deepnote_to_be_reexecuted": false,
    "executionInfo": {
     "elapsed": 765,
     "status": "ok",
     "timestamp": 1620279364601,
     "user": {
      "displayName": "Angeline Maris Gubat",
      "photoUrl": "https://lh3.googleusercontent.com/a-/AOh14Gijg6xgX0R_IA4o8GkF1xnv3D8-8kHv8i-V48U6=s64",
      "userId": "00875153666701401808"
     },
     "user_tz": -480
    },
    "execution_millis": 24,
    "execution_start": 1622489748388,
    "id": "fEpJZ-OTKuQ1",
    "outputId": "5a5733e5-42ef-45af-a24e-4e13cc7e756f",
    "source_hash": "fc0821c6"
   },
   "outputs": [
    {
     "data": {
      "text/plain": [
       "array(['KW', 'lebanon', 'Egypt', 'SaudiArabia', 'USA', 'Jordan',\n",
       "       'venzuela', 'Iran', 'Tunis', 'Morocco', 'Syria', 'Palestine',\n",
       "       'Iraq', 'Lybia'], dtype=object)"
      ]
     },
     "execution_count": 16,
     "metadata": {},
     "output_type": "execute_result"
    }
   ],
   "source": [
    "spd_df['Nationality'].unique()"
   ]
  },
  {
   "cell_type": "markdown",
   "metadata": {
    "cell_id": "00028-ceb46483-185a-4b81-89be-8cd2ecf19397",
    "deepnote_cell_type": "markdown",
    "id": "4DaTuJWroA58"
   },
   "source": [
    "Just like in the `BirthPlace` column, there are some inconsistencies and misspelled locations. Let's turn `KW` into `Kuwait`, `lebanon` to `Lebanon`, `venzuela` to `Venezuela`, and `Lybia` to `Libya`."
   ]
  },
  {
   "cell_type": "code",
   "execution_count": 17,
   "metadata": {
    "cell_id": "00029-6bf361d8-98f5-49ea-95ec-63336662dada",
    "deepnote_cell_type": "code",
    "deepnote_to_be_reexecuted": false,
    "execution_millis": 4,
    "execution_start": 1622489748397,
    "id": "YLwyv7qVoGH8",
    "source_hash": "a04bdd8"
   },
   "outputs": [],
   "source": [
    "spd_df.loc[spd_df['Nationality'] == 'KW', 'Nationality'] = 'Kuwait' "
   ]
  },
  {
   "cell_type": "code",
   "execution_count": 18,
   "metadata": {
    "cell_id": "00030-77f110a7-6c00-4ef9-a3a0-0be908c1955a",
    "deepnote_cell_type": "code",
    "deepnote_to_be_reexecuted": false,
    "execution_millis": 1,
    "execution_start": 1622489748436,
    "id": "bnCF_p1CKw5s",
    "source_hash": "28e0b9cc"
   },
   "outputs": [],
   "source": [
    "spd_df.loc[spd_df['Nationality'] == 'lebanon', 'Nationality'] = 'Lebanon' "
   ]
  },
  {
   "cell_type": "code",
   "execution_count": 19,
   "metadata": {
    "cell_id": "00031-bec95cb3-9824-4308-ad74-f860ffd99ff2",
    "deepnote_cell_type": "code",
    "deepnote_to_be_reexecuted": false,
    "execution_millis": 0,
    "execution_start": 1622489748437,
    "id": "4HGTXXSMK2uv",
    "source_hash": "f984b6f1"
   },
   "outputs": [],
   "source": [
    "spd_df.loc[spd_df['Nationality'] == 'venzuela', 'Nationality'] = 'Venezuela' "
   ]
  },
  {
   "cell_type": "code",
   "execution_count": 20,
   "metadata": {
    "cell_id": "00033-e83b75e3-9847-450b-8f77-c72a19df7f81",
    "deepnote_cell_type": "code",
    "deepnote_to_be_reexecuted": false,
    "execution_millis": 0,
    "execution_start": 1622489748438,
    "source_hash": "73b6e39",
    "tags": []
   },
   "outputs": [],
   "source": [
    "spd_df.loc[spd_df['Nationality'] == 'Lybia', 'Nationality'] = 'Libya' "
   ]
  },
  {
   "cell_type": "code",
   "execution_count": 21,
   "metadata": {
    "cell_id": "00032-2219e282-cb8e-4b2c-892c-6de507043d4c",
    "colab": {
     "base_uri": "https://localhost:8080/"
    },
    "deepnote_cell_type": "code",
    "deepnote_to_be_reexecuted": false,
    "executionInfo": {
     "elapsed": 500,
     "status": "ok",
     "timestamp": 1620279371322,
     "user": {
      "displayName": "Angeline Maris Gubat",
      "photoUrl": "https://lh3.googleusercontent.com/a-/AOh14Gijg6xgX0R_IA4o8GkF1xnv3D8-8kHv8i-V48U6=s64",
      "userId": "00875153666701401808"
     },
     "user_tz": -480
    },
    "execution_millis": 13,
    "execution_start": 1622489748438,
    "id": "ArJFox0onwXN",
    "outputId": "d31f1a79-383c-4fb7-ace8-622f563bdc44",
    "source_hash": "fc0821c6"
   },
   "outputs": [
    {
     "data": {
      "text/plain": [
       "array(['Kuwait', 'Lebanon', 'Egypt', 'SaudiArabia', 'USA', 'Jordan',\n",
       "       'Venezuela', 'Iran', 'Tunis', 'Morocco', 'Syria', 'Palestine',\n",
       "       'Iraq', 'Libya'], dtype=object)"
      ]
     },
     "execution_count": 21,
     "metadata": {},
     "output_type": "execute_result"
    }
   ],
   "source": [
    "spd_df['Nationality'].unique()"
   ]
  },
  {
   "cell_type": "code",
   "execution_count": 22,
   "metadata": {
    "cell_id": "00033-fccbbb17-ee83-40f8-b754-5132db6cf963",
    "colab": {
     "base_uri": "https://localhost:8080/",
     "height": 439
    },
    "deepnote_cell_type": "code",
    "deepnote_to_be_reexecuted": false,
    "executionInfo": {
     "elapsed": 870,
     "status": "ok",
     "timestamp": 1620279375611,
     "user": {
      "displayName": "Angeline Maris Gubat",
      "photoUrl": "https://lh3.googleusercontent.com/a-/AOh14Gijg6xgX0R_IA4o8GkF1xnv3D8-8kHv8i-V48U6=s64",
      "userId": "00875153666701401808"
     },
     "user_tz": -480
    },
    "execution_millis": 106,
    "execution_start": 1622489748443,
    "id": "eIxLuYwUoLFl",
    "outputId": "09d674e3-bfbf-4251-d3ca-023038b4437c",
    "source_hash": "511618e5"
   },
   "outputs": [
    {
     "data": {
      "text/html": [
       "<div>\n",
       "<style scoped>\n",
       "    .dataframe tbody tr th:only-of-type {\n",
       "        vertical-align: middle;\n",
       "    }\n",
       "\n",
       "    .dataframe tbody tr th {\n",
       "        vertical-align: top;\n",
       "    }\n",
       "\n",
       "    .dataframe thead th {\n",
       "        text-align: right;\n",
       "    }\n",
       "</style>\n",
       "<table border=\"1\" class=\"dataframe\">\n",
       "  <thead>\n",
       "    <tr style=\"text-align: right;\">\n",
       "      <th></th>\n",
       "      <th>Gender</th>\n",
       "      <th>Nationality</th>\n",
       "      <th>BirthPlace</th>\n",
       "      <th>StageID</th>\n",
       "      <th>GradeID</th>\n",
       "      <th>SectionID</th>\n",
       "      <th>Topic</th>\n",
       "      <th>Semester</th>\n",
       "      <th>Relation</th>\n",
       "      <th>RaisedHands</th>\n",
       "      <th>VisitedResources</th>\n",
       "      <th>AnnouncementsView</th>\n",
       "      <th>Discussion</th>\n",
       "      <th>ParentAnsweringSurvey</th>\n",
       "      <th>ParentSchoolSatisfaction</th>\n",
       "      <th>StudentAbsenceDays</th>\n",
       "      <th>Class</th>\n",
       "    </tr>\n",
       "  </thead>\n",
       "  <tbody>\n",
       "    <tr>\n",
       "      <th>0</th>\n",
       "      <td>M</td>\n",
       "      <td>Kuwait</td>\n",
       "      <td>Kuwait</td>\n",
       "      <td>lowerlevel</td>\n",
       "      <td>G-04</td>\n",
       "      <td>A</td>\n",
       "      <td>IT</td>\n",
       "      <td>F</td>\n",
       "      <td>Father</td>\n",
       "      <td>15</td>\n",
       "      <td>16</td>\n",
       "      <td>2</td>\n",
       "      <td>20</td>\n",
       "      <td>Yes</td>\n",
       "      <td>Good</td>\n",
       "      <td>Under-7</td>\n",
       "      <td>M</td>\n",
       "    </tr>\n",
       "    <tr>\n",
       "      <th>1</th>\n",
       "      <td>M</td>\n",
       "      <td>Kuwait</td>\n",
       "      <td>Kuwait</td>\n",
       "      <td>lowerlevel</td>\n",
       "      <td>G-04</td>\n",
       "      <td>A</td>\n",
       "      <td>IT</td>\n",
       "      <td>F</td>\n",
       "      <td>Father</td>\n",
       "      <td>20</td>\n",
       "      <td>20</td>\n",
       "      <td>3</td>\n",
       "      <td>25</td>\n",
       "      <td>Yes</td>\n",
       "      <td>Good</td>\n",
       "      <td>Under-7</td>\n",
       "      <td>M</td>\n",
       "    </tr>\n",
       "    <tr>\n",
       "      <th>2</th>\n",
       "      <td>M</td>\n",
       "      <td>Kuwait</td>\n",
       "      <td>Kuwait</td>\n",
       "      <td>lowerlevel</td>\n",
       "      <td>G-04</td>\n",
       "      <td>A</td>\n",
       "      <td>IT</td>\n",
       "      <td>F</td>\n",
       "      <td>Father</td>\n",
       "      <td>10</td>\n",
       "      <td>7</td>\n",
       "      <td>0</td>\n",
       "      <td>30</td>\n",
       "      <td>No</td>\n",
       "      <td>Bad</td>\n",
       "      <td>Above-7</td>\n",
       "      <td>L</td>\n",
       "    </tr>\n",
       "    <tr>\n",
       "      <th>3</th>\n",
       "      <td>M</td>\n",
       "      <td>Kuwait</td>\n",
       "      <td>Kuwait</td>\n",
       "      <td>lowerlevel</td>\n",
       "      <td>G-04</td>\n",
       "      <td>A</td>\n",
       "      <td>IT</td>\n",
       "      <td>F</td>\n",
       "      <td>Father</td>\n",
       "      <td>30</td>\n",
       "      <td>25</td>\n",
       "      <td>5</td>\n",
       "      <td>35</td>\n",
       "      <td>No</td>\n",
       "      <td>Bad</td>\n",
       "      <td>Above-7</td>\n",
       "      <td>L</td>\n",
       "    </tr>\n",
       "    <tr>\n",
       "      <th>4</th>\n",
       "      <td>M</td>\n",
       "      <td>Kuwait</td>\n",
       "      <td>Kuwait</td>\n",
       "      <td>lowerlevel</td>\n",
       "      <td>G-04</td>\n",
       "      <td>A</td>\n",
       "      <td>IT</td>\n",
       "      <td>F</td>\n",
       "      <td>Father</td>\n",
       "      <td>40</td>\n",
       "      <td>50</td>\n",
       "      <td>12</td>\n",
       "      <td>50</td>\n",
       "      <td>No</td>\n",
       "      <td>Bad</td>\n",
       "      <td>Above-7</td>\n",
       "      <td>M</td>\n",
       "    </tr>\n",
       "    <tr>\n",
       "      <th>...</th>\n",
       "      <td>...</td>\n",
       "      <td>...</td>\n",
       "      <td>...</td>\n",
       "      <td>...</td>\n",
       "      <td>...</td>\n",
       "      <td>...</td>\n",
       "      <td>...</td>\n",
       "      <td>...</td>\n",
       "      <td>...</td>\n",
       "      <td>...</td>\n",
       "      <td>...</td>\n",
       "      <td>...</td>\n",
       "      <td>...</td>\n",
       "      <td>...</td>\n",
       "      <td>...</td>\n",
       "      <td>...</td>\n",
       "      <td>...</td>\n",
       "    </tr>\n",
       "    <tr>\n",
       "      <th>475</th>\n",
       "      <td>F</td>\n",
       "      <td>Jordan</td>\n",
       "      <td>Jordan</td>\n",
       "      <td>MiddleSchool</td>\n",
       "      <td>G-08</td>\n",
       "      <td>A</td>\n",
       "      <td>Chemistry</td>\n",
       "      <td>S</td>\n",
       "      <td>Father</td>\n",
       "      <td>5</td>\n",
       "      <td>4</td>\n",
       "      <td>5</td>\n",
       "      <td>8</td>\n",
       "      <td>No</td>\n",
       "      <td>Bad</td>\n",
       "      <td>Above-7</td>\n",
       "      <td>L</td>\n",
       "    </tr>\n",
       "    <tr>\n",
       "      <th>476</th>\n",
       "      <td>F</td>\n",
       "      <td>Jordan</td>\n",
       "      <td>Jordan</td>\n",
       "      <td>MiddleSchool</td>\n",
       "      <td>G-08</td>\n",
       "      <td>A</td>\n",
       "      <td>Geology</td>\n",
       "      <td>F</td>\n",
       "      <td>Father</td>\n",
       "      <td>50</td>\n",
       "      <td>77</td>\n",
       "      <td>14</td>\n",
       "      <td>28</td>\n",
       "      <td>No</td>\n",
       "      <td>Bad</td>\n",
       "      <td>Under-7</td>\n",
       "      <td>M</td>\n",
       "    </tr>\n",
       "    <tr>\n",
       "      <th>477</th>\n",
       "      <td>F</td>\n",
       "      <td>Jordan</td>\n",
       "      <td>Jordan</td>\n",
       "      <td>MiddleSchool</td>\n",
       "      <td>G-08</td>\n",
       "      <td>A</td>\n",
       "      <td>Geology</td>\n",
       "      <td>S</td>\n",
       "      <td>Father</td>\n",
       "      <td>55</td>\n",
       "      <td>74</td>\n",
       "      <td>25</td>\n",
       "      <td>29</td>\n",
       "      <td>No</td>\n",
       "      <td>Bad</td>\n",
       "      <td>Under-7</td>\n",
       "      <td>M</td>\n",
       "    </tr>\n",
       "    <tr>\n",
       "      <th>478</th>\n",
       "      <td>F</td>\n",
       "      <td>Jordan</td>\n",
       "      <td>Jordan</td>\n",
       "      <td>MiddleSchool</td>\n",
       "      <td>G-08</td>\n",
       "      <td>A</td>\n",
       "      <td>History</td>\n",
       "      <td>F</td>\n",
       "      <td>Father</td>\n",
       "      <td>30</td>\n",
       "      <td>17</td>\n",
       "      <td>14</td>\n",
       "      <td>57</td>\n",
       "      <td>No</td>\n",
       "      <td>Bad</td>\n",
       "      <td>Above-7</td>\n",
       "      <td>L</td>\n",
       "    </tr>\n",
       "    <tr>\n",
       "      <th>479</th>\n",
       "      <td>F</td>\n",
       "      <td>Jordan</td>\n",
       "      <td>Jordan</td>\n",
       "      <td>MiddleSchool</td>\n",
       "      <td>G-08</td>\n",
       "      <td>A</td>\n",
       "      <td>History</td>\n",
       "      <td>S</td>\n",
       "      <td>Father</td>\n",
       "      <td>35</td>\n",
       "      <td>14</td>\n",
       "      <td>23</td>\n",
       "      <td>62</td>\n",
       "      <td>No</td>\n",
       "      <td>Bad</td>\n",
       "      <td>Above-7</td>\n",
       "      <td>L</td>\n",
       "    </tr>\n",
       "  </tbody>\n",
       "</table>\n",
       "<p>480 rows × 17 columns</p>\n",
       "</div>"
      ],
      "text/plain": [
       "    Gender Nationality BirthPlace       StageID GradeID SectionID      Topic  \\\n",
       "0        M      Kuwait     Kuwait    lowerlevel    G-04         A         IT   \n",
       "1        M      Kuwait     Kuwait    lowerlevel    G-04         A         IT   \n",
       "2        M      Kuwait     Kuwait    lowerlevel    G-04         A         IT   \n",
       "3        M      Kuwait     Kuwait    lowerlevel    G-04         A         IT   \n",
       "4        M      Kuwait     Kuwait    lowerlevel    G-04         A         IT   \n",
       "..     ...         ...        ...           ...     ...       ...        ...   \n",
       "475      F      Jordan     Jordan  MiddleSchool    G-08         A  Chemistry   \n",
       "476      F      Jordan     Jordan  MiddleSchool    G-08         A    Geology   \n",
       "477      F      Jordan     Jordan  MiddleSchool    G-08         A    Geology   \n",
       "478      F      Jordan     Jordan  MiddleSchool    G-08         A    History   \n",
       "479      F      Jordan     Jordan  MiddleSchool    G-08         A    History   \n",
       "\n",
       "    Semester Relation  RaisedHands  VisitedResources  AnnouncementsView  \\\n",
       "0          F   Father           15                16                  2   \n",
       "1          F   Father           20                20                  3   \n",
       "2          F   Father           10                 7                  0   \n",
       "3          F   Father           30                25                  5   \n",
       "4          F   Father           40                50                 12   \n",
       "..       ...      ...          ...               ...                ...   \n",
       "475        S   Father            5                 4                  5   \n",
       "476        F   Father           50                77                 14   \n",
       "477        S   Father           55                74                 25   \n",
       "478        F   Father           30                17                 14   \n",
       "479        S   Father           35                14                 23   \n",
       "\n",
       "     Discussion ParentAnsweringSurvey ParentSchoolSatisfaction  \\\n",
       "0            20                   Yes                     Good   \n",
       "1            25                   Yes                     Good   \n",
       "2            30                    No                      Bad   \n",
       "3            35                    No                      Bad   \n",
       "4            50                    No                      Bad   \n",
       "..          ...                   ...                      ...   \n",
       "475           8                    No                      Bad   \n",
       "476          28                    No                      Bad   \n",
       "477          29                    No                      Bad   \n",
       "478          57                    No                      Bad   \n",
       "479          62                    No                      Bad   \n",
       "\n",
       "    StudentAbsenceDays Class  \n",
       "0              Under-7     M  \n",
       "1              Under-7     M  \n",
       "2              Above-7     L  \n",
       "3              Above-7     L  \n",
       "4              Above-7     M  \n",
       "..                 ...   ...  \n",
       "475            Above-7     L  \n",
       "476            Under-7     M  \n",
       "477            Under-7     M  \n",
       "478            Above-7     L  \n",
       "479            Above-7     L  \n",
       "\n",
       "[480 rows x 17 columns]"
      ]
     },
     "execution_count": 22,
     "metadata": {},
     "output_type": "execute_result"
    }
   ],
   "source": [
    "spd_df"
   ]
  },
  {
   "cell_type": "markdown",
   "metadata": {
    "cell_id": "00034-b32f642b-e794-4d38-9448-28e933906618",
    "deepnote_cell_type": "markdown",
    "id": "QzVsrhNT5OSP"
   },
   "source": [
    "### **Cleaning Inconsistent Data from `StageID`**"
   ]
  },
  {
   "cell_type": "markdown",
   "metadata": {
    "cell_id": "00035-ad784729-2ce3-42f3-878e-df7b1d7e745d",
    "deepnote_cell_type": "markdown",
    "id": "omCiB-LQ5h6l"
   },
   "source": [
    "Let's locate the inconsistent data"
   ]
  },
  {
   "cell_type": "code",
   "execution_count": 23,
   "metadata": {
    "cell_id": "00036-16b99db8-7c0a-4ea3-9e01-b7664c36fc29",
    "colab": {
     "base_uri": "https://localhost:8080/",
     "height": 421
    },
    "deepnote_cell_type": "code",
    "deepnote_to_be_reexecuted": false,
    "executionInfo": {
     "elapsed": 757,
     "status": "ok",
     "timestamp": 1620279386522,
     "user": {
      "displayName": "Angeline Maris Gubat",
      "photoUrl": "https://lh3.googleusercontent.com/a-/AOh14Gijg6xgX0R_IA4o8GkF1xnv3D8-8kHv8i-V48U6=s64",
      "userId": "00875153666701401808"
     },
     "user_tz": -480
    },
    "execution_millis": 34,
    "execution_start": 1622489748542,
    "id": "mB6s_cpm6BSa",
    "outputId": "80e17b2f-2af6-44b2-9434-cb6b87ccebb4",
    "source_hash": "a5c62b9c"
   },
   "outputs": [
    {
     "data": {
      "text/html": [
       "<div>\n",
       "<style scoped>\n",
       "    .dataframe tbody tr th:only-of-type {\n",
       "        vertical-align: middle;\n",
       "    }\n",
       "\n",
       "    .dataframe tbody tr th {\n",
       "        vertical-align: top;\n",
       "    }\n",
       "\n",
       "    .dataframe thead th {\n",
       "        text-align: right;\n",
       "    }\n",
       "</style>\n",
       "<table border=\"1\" class=\"dataframe\">\n",
       "  <thead>\n",
       "    <tr style=\"text-align: right;\">\n",
       "      <th></th>\n",
       "      <th></th>\n",
       "      <th>Class</th>\n",
       "    </tr>\n",
       "    <tr>\n",
       "      <th>GradeID</th>\n",
       "      <th>StageID</th>\n",
       "      <th></th>\n",
       "    </tr>\n",
       "  </thead>\n",
       "  <tbody>\n",
       "    <tr>\n",
       "      <th>G-02</th>\n",
       "      <th>lowerlevel</th>\n",
       "      <td>147</td>\n",
       "    </tr>\n",
       "    <tr>\n",
       "      <th>G-04</th>\n",
       "      <th>lowerlevel</th>\n",
       "      <td>48</td>\n",
       "    </tr>\n",
       "    <tr>\n",
       "      <th>G-05</th>\n",
       "      <th>lowerlevel</th>\n",
       "      <td>3</td>\n",
       "    </tr>\n",
       "    <tr>\n",
       "      <th>G-06</th>\n",
       "      <th>MiddleSchool</th>\n",
       "      <td>32</td>\n",
       "    </tr>\n",
       "    <tr>\n",
       "      <th rowspan=\"2\" valign=\"top\">G-07</th>\n",
       "      <th>MiddleSchool</th>\n",
       "      <td>100</td>\n",
       "    </tr>\n",
       "    <tr>\n",
       "      <th>lowerlevel</th>\n",
       "      <td>1</td>\n",
       "    </tr>\n",
       "    <tr>\n",
       "      <th>G-08</th>\n",
       "      <th>MiddleSchool</th>\n",
       "      <td>116</td>\n",
       "    </tr>\n",
       "    <tr>\n",
       "      <th>G-09</th>\n",
       "      <th>HighSchool</th>\n",
       "      <td>5</td>\n",
       "    </tr>\n",
       "    <tr>\n",
       "      <th>G-10</th>\n",
       "      <th>HighSchool</th>\n",
       "      <td>4</td>\n",
       "    </tr>\n",
       "    <tr>\n",
       "      <th>G-11</th>\n",
       "      <th>HighSchool</th>\n",
       "      <td>13</td>\n",
       "    </tr>\n",
       "    <tr>\n",
       "      <th>G-12</th>\n",
       "      <th>HighSchool</th>\n",
       "      <td>11</td>\n",
       "    </tr>\n",
       "  </tbody>\n",
       "</table>\n",
       "</div>"
      ],
      "text/plain": [
       "                      Class\n",
       "GradeID StageID            \n",
       "G-02    lowerlevel      147\n",
       "G-04    lowerlevel       48\n",
       "G-05    lowerlevel        3\n",
       "G-06    MiddleSchool     32\n",
       "G-07    MiddleSchool    100\n",
       "        lowerlevel        1\n",
       "G-08    MiddleSchool    116\n",
       "G-09    HighSchool        5\n",
       "G-10    HighSchool        4\n",
       "G-11    HighSchool       13\n",
       "G-12    HighSchool       11"
      ]
     },
     "execution_count": 23,
     "metadata": {},
     "output_type": "execute_result"
    }
   ],
   "source": [
    "cleaning = spd_df[['GradeID', 'StageID', 'Class']].groupby(['GradeID', 'StageID'])\n",
    "cleaning.count()"
   ]
  },
  {
   "cell_type": "markdown",
   "metadata": {
    "cell_id": "00037-04f0ab21-0a97-4203-9dbb-8e539d8f6bb9",
    "deepnote_cell_type": "markdown",
    "id": "Gphrntmz6lva"
   },
   "source": [
    "We see that there is an outlier G-07 data labeled as a `lowerlevel` instead of `MiddleSchool`. Let's fix that by changing the value of that cell."
   ]
  },
  {
   "cell_type": "code",
   "execution_count": 24,
   "metadata": {
    "cell_id": "00038-ed36f862-097f-45af-a632-eb027d07d9da",
    "colab": {
     "base_uri": "https://localhost:8080/",
     "height": 100
    },
    "deepnote_cell_type": "code",
    "deepnote_to_be_reexecuted": false,
    "executionInfo": {
     "elapsed": 949,
     "status": "ok",
     "timestamp": 1620279390206,
     "user": {
      "displayName": "Angeline Maris Gubat",
      "photoUrl": "https://lh3.googleusercontent.com/a-/AOh14Gijg6xgX0R_IA4o8GkF1xnv3D8-8kHv8i-V48U6=s64",
      "userId": "00875153666701401808"
     },
     "user_tz": -480
    },
    "execution_millis": 35,
    "execution_start": 1622489748638,
    "id": "B0hCboto6jp2",
    "outputId": "2c7be870-2249-44ac-f82a-ca8186d7441c",
    "source_hash": "7db577eb"
   },
   "outputs": [
    {
     "data": {
      "text/html": [
       "<div>\n",
       "<style scoped>\n",
       "    .dataframe tbody tr th:only-of-type {\n",
       "        vertical-align: middle;\n",
       "    }\n",
       "\n",
       "    .dataframe tbody tr th {\n",
       "        vertical-align: top;\n",
       "    }\n",
       "\n",
       "    .dataframe thead th {\n",
       "        text-align: right;\n",
       "    }\n",
       "</style>\n",
       "<table border=\"1\" class=\"dataframe\">\n",
       "  <thead>\n",
       "    <tr style=\"text-align: right;\">\n",
       "      <th></th>\n",
       "      <th>Gender</th>\n",
       "      <th>Nationality</th>\n",
       "      <th>BirthPlace</th>\n",
       "      <th>StageID</th>\n",
       "      <th>GradeID</th>\n",
       "      <th>SectionID</th>\n",
       "      <th>Topic</th>\n",
       "      <th>Semester</th>\n",
       "      <th>Relation</th>\n",
       "      <th>RaisedHands</th>\n",
       "      <th>VisitedResources</th>\n",
       "      <th>AnnouncementsView</th>\n",
       "      <th>Discussion</th>\n",
       "      <th>ParentAnsweringSurvey</th>\n",
       "      <th>ParentSchoolSatisfaction</th>\n",
       "      <th>StudentAbsenceDays</th>\n",
       "      <th>Class</th>\n",
       "    </tr>\n",
       "  </thead>\n",
       "  <tbody>\n",
       "    <tr>\n",
       "      <th>32</th>\n",
       "      <td>F</td>\n",
       "      <td>Kuwait</td>\n",
       "      <td>Kuwait</td>\n",
       "      <td>lowerlevel</td>\n",
       "      <td>G-07</td>\n",
       "      <td>A</td>\n",
       "      <td>IT</td>\n",
       "      <td>F</td>\n",
       "      <td>Father</td>\n",
       "      <td>2</td>\n",
       "      <td>19</td>\n",
       "      <td>10</td>\n",
       "      <td>50</td>\n",
       "      <td>Yes</td>\n",
       "      <td>Good</td>\n",
       "      <td>Above-7</td>\n",
       "      <td>L</td>\n",
       "    </tr>\n",
       "  </tbody>\n",
       "</table>\n",
       "</div>"
      ],
      "text/plain": [
       "   Gender Nationality BirthPlace     StageID GradeID SectionID Topic Semester  \\\n",
       "32      F      Kuwait     Kuwait  lowerlevel    G-07         A    IT        F   \n",
       "\n",
       "   Relation  RaisedHands  VisitedResources  AnnouncementsView  Discussion  \\\n",
       "32   Father            2                19                 10          50   \n",
       "\n",
       "   ParentAnsweringSurvey ParentSchoolSatisfaction StudentAbsenceDays Class  \n",
       "32                   Yes                     Good            Above-7     L  "
      ]
     },
     "execution_count": 24,
     "metadata": {},
     "output_type": "execute_result"
    }
   ],
   "source": [
    "index = spd_df[(spd_df['StageID'] == \"lowerlevel\") & (spd_df['GradeID'] == \"G-07\")].index\n",
    "spd_df.loc[index]"
   ]
  },
  {
   "cell_type": "code",
   "execution_count": 25,
   "metadata": {
    "cell_id": "00039-cb64389d-89f7-4118-a571-6c11f9904e01",
    "colab": {
     "base_uri": "https://localhost:8080/",
     "height": 100
    },
    "deepnote_cell_type": "code",
    "deepnote_to_be_reexecuted": false,
    "executionInfo": {
     "elapsed": 637,
     "status": "ok",
     "timestamp": 1620279392959,
     "user": {
      "displayName": "Angeline Maris Gubat",
      "photoUrl": "https://lh3.googleusercontent.com/a-/AOh14Gijg6xgX0R_IA4o8GkF1xnv3D8-8kHv8i-V48U6=s64",
      "userId": "00875153666701401808"
     },
     "user_tz": -480
    },
    "execution_millis": 12,
    "execution_start": 1622489748726,
    "id": "XfXORKq77kyi",
    "outputId": "69c35b72-29b5-48c2-b6d4-da17e295594e",
    "source_hash": "4c5a6a5d"
   },
   "outputs": [
    {
     "data": {
      "text/html": [
       "<div>\n",
       "<style scoped>\n",
       "    .dataframe tbody tr th:only-of-type {\n",
       "        vertical-align: middle;\n",
       "    }\n",
       "\n",
       "    .dataframe tbody tr th {\n",
       "        vertical-align: top;\n",
       "    }\n",
       "\n",
       "    .dataframe thead th {\n",
       "        text-align: right;\n",
       "    }\n",
       "</style>\n",
       "<table border=\"1\" class=\"dataframe\">\n",
       "  <thead>\n",
       "    <tr style=\"text-align: right;\">\n",
       "      <th></th>\n",
       "      <th>Gender</th>\n",
       "      <th>Nationality</th>\n",
       "      <th>BirthPlace</th>\n",
       "      <th>StageID</th>\n",
       "      <th>GradeID</th>\n",
       "      <th>SectionID</th>\n",
       "      <th>Topic</th>\n",
       "      <th>Semester</th>\n",
       "      <th>Relation</th>\n",
       "      <th>RaisedHands</th>\n",
       "      <th>VisitedResources</th>\n",
       "      <th>AnnouncementsView</th>\n",
       "      <th>Discussion</th>\n",
       "      <th>ParentAnsweringSurvey</th>\n",
       "      <th>ParentSchoolSatisfaction</th>\n",
       "      <th>StudentAbsenceDays</th>\n",
       "      <th>Class</th>\n",
       "    </tr>\n",
       "  </thead>\n",
       "  <tbody>\n",
       "    <tr>\n",
       "      <th>32</th>\n",
       "      <td>F</td>\n",
       "      <td>Kuwait</td>\n",
       "      <td>Kuwait</td>\n",
       "      <td>MiddleSchool</td>\n",
       "      <td>G-07</td>\n",
       "      <td>A</td>\n",
       "      <td>IT</td>\n",
       "      <td>F</td>\n",
       "      <td>Father</td>\n",
       "      <td>2</td>\n",
       "      <td>19</td>\n",
       "      <td>10</td>\n",
       "      <td>50</td>\n",
       "      <td>Yes</td>\n",
       "      <td>Good</td>\n",
       "      <td>Above-7</td>\n",
       "      <td>L</td>\n",
       "    </tr>\n",
       "  </tbody>\n",
       "</table>\n",
       "</div>"
      ],
      "text/plain": [
       "   Gender Nationality BirthPlace       StageID GradeID SectionID Topic  \\\n",
       "32      F      Kuwait     Kuwait  MiddleSchool    G-07         A    IT   \n",
       "\n",
       "   Semester Relation  RaisedHands  VisitedResources  AnnouncementsView  \\\n",
       "32        F   Father            2                19                 10   \n",
       "\n",
       "    Discussion ParentAnsweringSurvey ParentSchoolSatisfaction  \\\n",
       "32          50                   Yes                     Good   \n",
       "\n",
       "   StudentAbsenceDays Class  \n",
       "32            Above-7     L  "
      ]
     },
     "execution_count": 25,
     "metadata": {},
     "output_type": "execute_result"
    }
   ],
   "source": [
    "spd_df.loc[index, 'StageID'] = \"MiddleSchool\"\n",
    "spd_df.loc[index]"
   ]
  },
  {
   "cell_type": "code",
   "execution_count": 26,
   "metadata": {
    "cell_id": "00040-eac9e2d3-6920-4bfc-bcb4-8527e80d1da0",
    "colab": {
     "base_uri": "https://localhost:8080/",
     "height": 390
    },
    "deepnote_cell_type": "code",
    "deepnote_to_be_reexecuted": false,
    "executionInfo": {
     "elapsed": 909,
     "status": "ok",
     "timestamp": 1620279430994,
     "user": {
      "displayName": "Angeline Maris Gubat",
      "photoUrl": "https://lh3.googleusercontent.com/a-/AOh14Gijg6xgX0R_IA4o8GkF1xnv3D8-8kHv8i-V48U6=s64",
      "userId": "00875153666701401808"
     },
     "user_tz": -480
    },
    "execution_millis": 48,
    "execution_start": 1622489748741,
    "id": "fJWG8fA3LZzX",
    "outputId": "16830109-1006-43f3-e3fc-b8fe4d3f23f1",
    "source_hash": "4d15b54"
   },
   "outputs": [
    {
     "data": {
      "text/html": [
       "<div>\n",
       "<style scoped>\n",
       "    .dataframe tbody tr th:only-of-type {\n",
       "        vertical-align: middle;\n",
       "    }\n",
       "\n",
       "    .dataframe tbody tr th {\n",
       "        vertical-align: top;\n",
       "    }\n",
       "\n",
       "    .dataframe thead th {\n",
       "        text-align: right;\n",
       "    }\n",
       "</style>\n",
       "<table border=\"1\" class=\"dataframe\">\n",
       "  <thead>\n",
       "    <tr style=\"text-align: right;\">\n",
       "      <th></th>\n",
       "      <th></th>\n",
       "      <th>Class</th>\n",
       "    </tr>\n",
       "    <tr>\n",
       "      <th>GradeID</th>\n",
       "      <th>StageID</th>\n",
       "      <th></th>\n",
       "    </tr>\n",
       "  </thead>\n",
       "  <tbody>\n",
       "    <tr>\n",
       "      <th>G-02</th>\n",
       "      <th>lowerlevel</th>\n",
       "      <td>147</td>\n",
       "    </tr>\n",
       "    <tr>\n",
       "      <th>G-04</th>\n",
       "      <th>lowerlevel</th>\n",
       "      <td>48</td>\n",
       "    </tr>\n",
       "    <tr>\n",
       "      <th>G-05</th>\n",
       "      <th>lowerlevel</th>\n",
       "      <td>3</td>\n",
       "    </tr>\n",
       "    <tr>\n",
       "      <th>G-06</th>\n",
       "      <th>MiddleSchool</th>\n",
       "      <td>32</td>\n",
       "    </tr>\n",
       "    <tr>\n",
       "      <th>G-07</th>\n",
       "      <th>MiddleSchool</th>\n",
       "      <td>101</td>\n",
       "    </tr>\n",
       "    <tr>\n",
       "      <th>G-08</th>\n",
       "      <th>MiddleSchool</th>\n",
       "      <td>116</td>\n",
       "    </tr>\n",
       "    <tr>\n",
       "      <th>G-09</th>\n",
       "      <th>HighSchool</th>\n",
       "      <td>5</td>\n",
       "    </tr>\n",
       "    <tr>\n",
       "      <th>G-10</th>\n",
       "      <th>HighSchool</th>\n",
       "      <td>4</td>\n",
       "    </tr>\n",
       "    <tr>\n",
       "      <th>G-11</th>\n",
       "      <th>HighSchool</th>\n",
       "      <td>13</td>\n",
       "    </tr>\n",
       "    <tr>\n",
       "      <th>G-12</th>\n",
       "      <th>HighSchool</th>\n",
       "      <td>11</td>\n",
       "    </tr>\n",
       "  </tbody>\n",
       "</table>\n",
       "</div>"
      ],
      "text/plain": [
       "                      Class\n",
       "GradeID StageID            \n",
       "G-02    lowerlevel      147\n",
       "G-04    lowerlevel       48\n",
       "G-05    lowerlevel        3\n",
       "G-06    MiddleSchool     32\n",
       "G-07    MiddleSchool    101\n",
       "G-08    MiddleSchool    116\n",
       "G-09    HighSchool        5\n",
       "G-10    HighSchool        4\n",
       "G-11    HighSchool       13\n",
       "G-12    HighSchool       11"
      ]
     },
     "execution_count": 26,
     "metadata": {},
     "output_type": "execute_result"
    }
   ],
   "source": [
    "cleaning2 = spd_df[['GradeID', 'StageID', 'Class']].groupby(['GradeID', 'StageID'])\n",
    "cleaning2.count()"
   ]
  },
  {
   "cell_type": "markdown",
   "metadata": {
    "cell_id": "00041-68dd33b1-33c2-4a6e-8c81-b198100c15e5",
    "deepnote_cell_type": "markdown",
    "id": "zTzcZkil4g7e"
   },
   "source": [
    "### **Exploratory Analysis**  \n",
    "Now that we have cleaned our dataset, we can now proceed in analyzing our data and conduct exploratory analysis to understand the dataset further. As mentioned, we aim to know which factors affect student's academic grades specifically we want to address the following questions:  \n",
    "* Do students who participate more have higher grades than those who participate less?\n",
    "* Does parent participation and satisfaction affect a student’s performance?\n",
    "* Do the number of class absences greatly affect the student’s grades?\n",
    "* Does visiting class resources result in higher class grades?"
   ]
  },
  {
   "cell_type": "markdown",
   "metadata": {
    "cell_id": "00042-53cafaea-8745-46ce-9478-aa31425587fb",
    "deepnote_cell_type": "markdown",
    "id": "k2EK_qiW5Rpo"
   },
   "source": [
    "#### ***Q1: Do students who participate more have higher grades than those who participate less?***  \n",
    "Student participation has been defined as “students’ willingness, need, desire, and compulsion to participate in, and be successful in, the learning process”. \n",
    "For the first question, we wanted to know if there is a correlation on the student's participation and academic performance. With this, we will be using the following features:  \n",
    "* `AnnouncementsView`: Total number of times a student checks the announcements<br>\n",
    "* `Discussion`: Total number of times a student participates on discussion groups<br>\n",
    "* `RaisedHands`: Total number of times a student raises his/her hand  <br>\n",
    "* `Class`: Represents the interval of a student total grade <br>\n",
    "  * <i>Low</i>: interval includes values from 0 to 69\n",
    "  * <i>Middle</i>: interval includes values from 70 to 89\n",
    "  * <i>High</i>: interval includes values from 90-100"
   ]
  },
  {
   "cell_type": "markdown",
   "metadata": {
    "cell_id": "00046-78f1e612-2bb6-47e0-b13f-6f1280ae07b5",
    "deepnote_cell_type": "markdown",
    "id": "k2EK_qiW5Rpo"
   },
   "source": [
    "To start, let us assign to a dataframe variable the needed features for this research question. "
   ]
  },
  {
   "cell_type": "code",
   "execution_count": 27,
   "metadata": {
    "cell_id": "00043-c0b7f74c-49f0-4407-ae4c-ad1c7dab84f0",
    "colab": {
     "base_uri": "https://localhost:8080/",
     "height": 419
    },
    "deepnote_cell_type": "code",
    "deepnote_to_be_reexecuted": false,
    "executionInfo": {
     "elapsed": 784,
     "status": "ok",
     "timestamp": 1620279440102,
     "user": {
      "displayName": "Angeline Maris Gubat",
      "photoUrl": "https://lh3.googleusercontent.com/a-/AOh14Gijg6xgX0R_IA4o8GkF1xnv3D8-8kHv8i-V48U6=s64",
      "userId": "00875153666701401808"
     },
     "user_tz": -480
    },
    "execution_millis": 15,
    "execution_start": 1622489748842,
    "id": "1EDiHR7QPiEP",
    "outputId": "81ffbd92-cc7c-4c4d-e02f-c82aead0e757",
    "source_hash": "248c1fe0"
   },
   "outputs": [
    {
     "data": {
      "text/html": [
       "<div>\n",
       "<style scoped>\n",
       "    .dataframe tbody tr th:only-of-type {\n",
       "        vertical-align: middle;\n",
       "    }\n",
       "\n",
       "    .dataframe tbody tr th {\n",
       "        vertical-align: top;\n",
       "    }\n",
       "\n",
       "    .dataframe thead th {\n",
       "        text-align: right;\n",
       "    }\n",
       "</style>\n",
       "<table border=\"1\" class=\"dataframe\">\n",
       "  <thead>\n",
       "    <tr style=\"text-align: right;\">\n",
       "      <th></th>\n",
       "      <th>AnnouncementsView</th>\n",
       "      <th>Discussion</th>\n",
       "      <th>RaisedHands</th>\n",
       "      <th>Class</th>\n",
       "    </tr>\n",
       "  </thead>\n",
       "  <tbody>\n",
       "    <tr>\n",
       "      <th>0</th>\n",
       "      <td>2</td>\n",
       "      <td>20</td>\n",
       "      <td>15</td>\n",
       "      <td>M</td>\n",
       "    </tr>\n",
       "    <tr>\n",
       "      <th>1</th>\n",
       "      <td>3</td>\n",
       "      <td>25</td>\n",
       "      <td>20</td>\n",
       "      <td>M</td>\n",
       "    </tr>\n",
       "    <tr>\n",
       "      <th>2</th>\n",
       "      <td>0</td>\n",
       "      <td>30</td>\n",
       "      <td>10</td>\n",
       "      <td>L</td>\n",
       "    </tr>\n",
       "    <tr>\n",
       "      <th>3</th>\n",
       "      <td>5</td>\n",
       "      <td>35</td>\n",
       "      <td>30</td>\n",
       "      <td>L</td>\n",
       "    </tr>\n",
       "    <tr>\n",
       "      <th>4</th>\n",
       "      <td>12</td>\n",
       "      <td>50</td>\n",
       "      <td>40</td>\n",
       "      <td>M</td>\n",
       "    </tr>\n",
       "    <tr>\n",
       "      <th>...</th>\n",
       "      <td>...</td>\n",
       "      <td>...</td>\n",
       "      <td>...</td>\n",
       "      <td>...</td>\n",
       "    </tr>\n",
       "    <tr>\n",
       "      <th>475</th>\n",
       "      <td>5</td>\n",
       "      <td>8</td>\n",
       "      <td>5</td>\n",
       "      <td>L</td>\n",
       "    </tr>\n",
       "    <tr>\n",
       "      <th>476</th>\n",
       "      <td>14</td>\n",
       "      <td>28</td>\n",
       "      <td>50</td>\n",
       "      <td>M</td>\n",
       "    </tr>\n",
       "    <tr>\n",
       "      <th>477</th>\n",
       "      <td>25</td>\n",
       "      <td>29</td>\n",
       "      <td>55</td>\n",
       "      <td>M</td>\n",
       "    </tr>\n",
       "    <tr>\n",
       "      <th>478</th>\n",
       "      <td>14</td>\n",
       "      <td>57</td>\n",
       "      <td>30</td>\n",
       "      <td>L</td>\n",
       "    </tr>\n",
       "    <tr>\n",
       "      <th>479</th>\n",
       "      <td>23</td>\n",
       "      <td>62</td>\n",
       "      <td>35</td>\n",
       "      <td>L</td>\n",
       "    </tr>\n",
       "  </tbody>\n",
       "</table>\n",
       "<p>480 rows × 4 columns</p>\n",
       "</div>"
      ],
      "text/plain": [
       "     AnnouncementsView  Discussion  RaisedHands Class\n",
       "0                    2          20           15     M\n",
       "1                    3          25           20     M\n",
       "2                    0          30           10     L\n",
       "3                    5          35           30     L\n",
       "4                   12          50           40     M\n",
       "..                 ...         ...          ...   ...\n",
       "475                  5           8            5     L\n",
       "476                 14          28           50     M\n",
       "477                 25          29           55     M\n",
       "478                 14          57           30     L\n",
       "479                 23          62           35     L\n",
       "\n",
       "[480 rows x 4 columns]"
      ]
     },
     "execution_count": 27,
     "metadata": {},
     "output_type": "execute_result"
    }
   ],
   "source": [
    "q1_df = spd_df[[\"AnnouncementsView\", \"Discussion\", \"RaisedHands\", \"Class\"]].copy()\n",
    "q1_df"
   ]
  },
  {
   "cell_type": "markdown",
   "metadata": {
    "cell_id": "00044-56706364-446b-4395-85e4-e23f9601cdec",
    "deepnote_cell_type": "markdown",
    "id": "Qnknit02WJ_2"
   },
   "source": [
    "Now, let's try visualizing the relationship between the variables `RaisedHands` and `Class` using a bar plot."
   ]
  },
  {
   "cell_type": "code",
   "execution_count": 28,
   "metadata": {
    "cell_id": "00045-9430f916-4822-42cd-8b01-4aacdbbce08f",
    "colab": {
     "base_uri": "https://localhost:8080/",
     "height": 296
    },
    "deepnote_cell_type": "code",
    "deepnote_to_be_reexecuted": false,
    "executionInfo": {
     "elapsed": 1370,
     "status": "ok",
     "timestamp": 1620279443166,
     "user": {
      "displayName": "Angeline Maris Gubat",
      "photoUrl": "https://lh3.googleusercontent.com/a-/AOh14Gijg6xgX0R_IA4o8GkF1xnv3D8-8kHv8i-V48U6=s64",
      "userId": "00875153666701401808"
     },
     "user_tz": -480
    },
    "execution_millis": 329,
    "execution_start": 1622489748901,
    "id": "5PKMaok6Wgd1",
    "outputId": "20da4179-73a8-4921-b466-e873ec98064f",
    "source_hash": "28c93e50"
   },
   "outputs": [
    {
     "data": {
      "text/plain": [
       "<matplotlib.axes._subplots.AxesSubplot at 0x2dfab27b988>"
      ]
     },
     "execution_count": 28,
     "metadata": {},
     "output_type": "execute_result"
    },
    {
     "data": {
      "image/png": "[encoded data removed]",
      "text/plain": [
       "<Figure size 432x288 with 1 Axes>"
      ]
     },
     "metadata": {
      "needs_background": "light"
     },
     "output_type": "display_data"
    }
   ],
   "source": [
    "sns.barplot(x=\"Class\", y=\"RaisedHands\", order=[\"L\", \"M\", \"H\"], data=q1_df)"
   ]
  },
  {
   "cell_type": "markdown",
   "metadata": {
    "cell_id": "00046-88f5a196-baaf-495b-a45a-6b32949a4de9",
    "deepnote_cell_type": "markdown",
    "id": "oCzbOB_patg1"
   },
   "source": [
    "We can see from the figure above that students with higher grades tends to raised their hands in class than those who have lower grades. Let's try to visualize if this will also be the case when it comes to participation in discussion and viewing of announcements."
   ]
  },
  {
   "cell_type": "code",
   "execution_count": 29,
   "metadata": {
    "cell_id": "00047-09b6ad14-f482-4569-9ef0-331fe38fce9f",
    "colab": {
     "base_uri": "https://localhost:8080/",
     "height": 352
    },
    "deepnote_cell_type": "code",
    "deepnote_to_be_reexecuted": false,
    "executionInfo": {
     "elapsed": 1040,
     "status": "ok",
     "timestamp": 1620279446275,
     "user": {
      "displayName": "Angeline Maris Gubat",
      "photoUrl": "https://lh3.googleusercontent.com/a-/AOh14Gijg6xgX0R_IA4o8GkF1xnv3D8-8kHv8i-V48U6=s64",
      "userId": "00875153666701401808"
     },
     "user_tz": -480
    },
    "execution_millis": 589,
    "execution_start": 1622489749223,
    "id": "ZsVsWjI9d_Kh",
    "outputId": "6771d217-7c6d-44f5-f1be-53240a2a7ca4",
    "source_hash": "a64153f5"
   },
   "outputs": [
    {
     "data": {
      "text/plain": [
       "<matplotlib.axes._subplots.AxesSubplot at 0x2dfac624b08>"
      ]
     },
     "execution_count": 29,
     "metadata": {},
     "output_type": "execute_result"
    },
    {
     "data": {
      "image/png": "[encoded data removed]",
      "text/plain": [
       "<Figure size 720x360 with 2 Axes>"
      ]
     },
     "metadata": {
      "needs_background": "light"
     },
     "output_type": "display_data"
    }
   ],
   "source": [
    "fig, axarr  = plt.subplots(1,2,figsize=(10,5))\n",
    "sns.barplot(x='Class', y='Discussion', order=['L','M','H'], data=q1_df,  ax=axarr[0])\n",
    "sns.barplot(x='Class', y='AnnouncementsView', order=['L','M','H'], data=q1_df, ax=axarr[1])"
   ]
  },
  {
   "cell_type": "markdown",
   "metadata": {
    "cell_id": "00048-c1279cf5-113f-466a-a8c5-be69e4c1affc",
    "deepnote_cell_type": "markdown",
    "id": "5cSFVkCoiPpj"
   },
   "source": [
    "Students who also participates in discussions more often as well as check announcements tend to have a better academic performance. Let's try to see the relationship of every student participation (`Discussion`, `AnnouncementsView`, `RaisedHands`) with each other and student's grade (`Class`) through scatter plots."
   ]
  },
  {
   "cell_type": "code",
   "execution_count": 30,
   "metadata": {
    "cell_id": "00051-2511100c-77d0-497c-a263-f1f523cf11f6",
    "deepnote_cell_type": "code",
    "deepnote_to_be_reexecuted": false,
    "execution_millis": 980,
    "execution_start": 1622489749851,
    "source_hash": "491be976",
    "tags": []
   },
   "outputs": [
    {
     "data": {
      "text/plain": [
       "<matplotlib.axes._subplots.AxesSubplot at 0x2dfac731ec8>"
      ]
     },
     "execution_count": 30,
     "metadata": {},
     "output_type": "execute_result"
    },
    {
     "data": {
      "image/png": "[encoded data removed]",
      "text/plain": [
       "<Figure size 1440x360 with 3 Axes>"
      ]
     },
     "metadata": {
      "needs_background": "light"
     },
     "output_type": "display_data"
    }
   ],
   "source": [
    "fig, axarr  = plt.subplots(1,3,figsize=(20,5))\n",
    "sns.scatterplot(x=q1_df.Discussion, y=q1_df.AnnouncementsView, hue=q1_df[\"Class\"], hue_order=['H','M','L'], ax=axarr[0])\n",
    "sns.scatterplot(x=q1_df.Discussion, y=q1_df.RaisedHands, hue=q1_df[\"Class\"], hue_order=['H','M','L'], ax=axarr[1])\n",
    "sns.scatterplot(x=q1_df.AnnouncementsView, y=q1_df.RaisedHands, hue=q1_df[\"Class\"], hue_order=['H','M','L'], ax=axarr[2])"
   ]
  },
  {
   "cell_type": "markdown",
   "metadata": {
    "cell_id": "00052-c33de75b-946a-40af-b7f1-f8e311bb15e6",
    "deepnote_cell_type": "text-cell-p",
    "tags": []
   },
   "source": [
    "In the last figure, we can see how students who have low grades that don't actively raised hands tends to also not check his/her announcements. This is also showed on the second figure in which students that hardly raised hands tends to also not check his/her announcements and have lower grades. In conclusion, it is expected that students who doesn't actively participate will tend to also not to do any activities that requires student engagement and have lower grades. With this, students who have high participation when it comes to student activities are reflected as well in their academic performance and have higher grades. "
   ]
  },
  {
   "cell_type": "markdown",
   "metadata": {
    "cell_id": "00054-452a3ccf-33ac-4c95-9a61-77d80c7ad5ee",
    "deepnote_cell_type": "markdown",
    "tags": []
   },
   "source": [
    "#### ***Q2: Does parent participation and satisfaction affect a student’s performance?***\n",
    "In this section of the notebook, we take a look at the Parent-related features, specifically the `ParentAnsweringSurvey` which may represent the parent's engagement in the child's school activities, and `ParentSchoolSatisfaction` which may represent the parent's view on the child's school learning process.\n",
    "\n",
    "It is hypothesized that parent participation and satisfaction are features that may affect a student's class performance or class grade. This may be proven through the percentages of the features and the p-value upon using the **chi-square test**."
   ]
  },
  {
   "cell_type": "markdown",
   "metadata": {
    "cell_id": "00054-904c0cc8-adc4-4455-a43e-32b5599d2b96",
    "deepnote_cell_type": "markdown",
    "tags": []
   },
   "source": [
    "The following is the general view of the target data which we wish to investigate on:"
   ]
  },
  {
   "cell_type": "code",
   "execution_count": 31,
   "metadata": {
    "cell_id": "00051-897a88a3-50ca-4e07-a705-ce4ee49c45c8",
    "colab": {
     "base_uri": "https://localhost:8080/"
    },
    "deepnote_cell_type": "code",
    "deepnote_to_be_reexecuted": false,
    "executionInfo": {
     "elapsed": 1086,
     "status": "ok",
     "timestamp": 1620279450248,
     "user": {
      "displayName": "Angeline Maris Gubat",
      "photoUrl": "https://lh3.googleusercontent.com/a-/AOh14Gijg6xgX0R_IA4o8GkF1xnv3D8-8kHv8i-V48U6=s64",
      "userId": "00875153666701401808"
     },
     "user_tz": -480
    },
    "execution_millis": 54,
    "execution_start": 1622489750837,
    "id": "XHuxibjYJdCJ",
    "outputId": "3592ecbe-5cee-419e-f049-62a1b0d07d60",
    "source_hash": "e032c80e"
   },
   "outputs": [
    {
     "data": {
      "text/plain": [
       "ParentAnsweringSurvey  ParentSchoolSatisfaction  Class\n",
       "No                     Bad                       L         79\n",
       "                                                 M         57\n",
       "                                                 H          9\n",
       "                       Good                      M         26\n",
       "                                                 L         20\n",
       "                                                 H         19\n",
       "Yes                    Bad                       M         23\n",
       "                                                 H         15\n",
       "                                                 L          5\n",
       "                       Good                      M        105\n",
       "                                                 H         99\n",
       "                                                 L         23\n",
       "Name: Class, dtype: int64"
      ]
     },
     "execution_count": 31,
     "metadata": {},
     "output_type": "execute_result"
    }
   ],
   "source": [
    "q2 = spd_df.groupby([\"ParentAnsweringSurvey\", \"ParentSchoolSatisfaction\"])[\"Class\"].value_counts()\n",
    "q2"
   ]
  },
  {
   "cell_type": "markdown",
   "metadata": {
    "cell_id": "00057-4189d067-3384-4cac-b1af-610527ca50df",
    "deepnote_cell_type": "markdown",
    "tags": []
   },
   "source": [
    "Based on the first cell of the section, all grade classes are present in each category and sub-category. "
   ]
  },
  {
   "cell_type": "markdown",
   "metadata": {
    "cell_id": "00058-87ff7e0a-215f-4af6-bd35-20c60a30adc2",
    "deepnote_cell_type": "markdown",
    "tags": []
   },
   "source": [
    "##### General"
   ]
  },
  {
   "cell_type": "markdown",
   "metadata": {
    "cell_id": "00059-e0143b56-f033-47f5-b9e9-c29863d74bc9",
    "deepnote_cell_type": "markdown",
    "tags": []
   },
   "source": [
    "We take a look at the values when both features are looked into at the same time.\n",
    "\n",
    "A new column is added the the end of the dataframe called `ParticipationAndSatisfaction`\n",
    "\n",
    "The possible values are for this column are:\n",
    "- `YesGood` : The parent participated in the survey, and they are satisfied with the school's system.\n",
    "- `YesBad` : The parent participated in the survey, but they are not satisfied withe the school's system.\n",
    "- `NoGood` : The parent did not participate in the survey, but they are satisfied with the school's system.\n",
    "- `NoBad` : The parent did not participate in the survey, and they are not satisfied with the school's system. "
   ]
  },
  {
   "cell_type": "code",
   "execution_count": 32,
   "metadata": {
    "cell_id": "00060-6e41a8ad-39a1-4608-9acf-c9ee4d3b5d97",
    "deepnote_cell_type": "code",
    "deepnote_to_be_reexecuted": false,
    "execution_millis": 294,
    "execution_start": 1622489750877,
    "source_hash": "db529d6",
    "tags": []
   },
   "outputs": [
    {
     "data": {
      "text/html": [
       "<div>\n",
       "<style scoped>\n",
       "    .dataframe tbody tr th:only-of-type {\n",
       "        vertical-align: middle;\n",
       "    }\n",
       "\n",
       "    .dataframe tbody tr th {\n",
       "        vertical-align: top;\n",
       "    }\n",
       "\n",
       "    .dataframe thead th {\n",
       "        text-align: right;\n",
       "    }\n",
       "</style>\n",
       "<table border=\"1\" class=\"dataframe\">\n",
       "  <thead>\n",
       "    <tr style=\"text-align: right;\">\n",
       "      <th></th>\n",
       "      <th>Gender</th>\n",
       "      <th>Nationality</th>\n",
       "      <th>BirthPlace</th>\n",
       "      <th>StageID</th>\n",
       "      <th>GradeID</th>\n",
       "      <th>SectionID</th>\n",
       "      <th>Topic</th>\n",
       "      <th>Semester</th>\n",
       "      <th>Relation</th>\n",
       "      <th>RaisedHands</th>\n",
       "      <th>VisitedResources</th>\n",
       "      <th>AnnouncementsView</th>\n",
       "      <th>Discussion</th>\n",
       "      <th>ParentAnsweringSurvey</th>\n",
       "      <th>ParentSchoolSatisfaction</th>\n",
       "      <th>StudentAbsenceDays</th>\n",
       "      <th>Class</th>\n",
       "      <th>ParticipationAndSatisfaction</th>\n",
       "    </tr>\n",
       "  </thead>\n",
       "  <tbody>\n",
       "    <tr>\n",
       "      <th>0</th>\n",
       "      <td>M</td>\n",
       "      <td>Kuwait</td>\n",
       "      <td>Kuwait</td>\n",
       "      <td>lowerlevel</td>\n",
       "      <td>G-04</td>\n",
       "      <td>A</td>\n",
       "      <td>IT</td>\n",
       "      <td>F</td>\n",
       "      <td>Father</td>\n",
       "      <td>15</td>\n",
       "      <td>16</td>\n",
       "      <td>2</td>\n",
       "      <td>20</td>\n",
       "      <td>Yes</td>\n",
       "      <td>Good</td>\n",
       "      <td>Under-7</td>\n",
       "      <td>M</td>\n",
       "      <td>YesGood</td>\n",
       "    </tr>\n",
       "    <tr>\n",
       "      <th>1</th>\n",
       "      <td>M</td>\n",
       "      <td>Kuwait</td>\n",
       "      <td>Kuwait</td>\n",
       "      <td>lowerlevel</td>\n",
       "      <td>G-04</td>\n",
       "      <td>A</td>\n",
       "      <td>IT</td>\n",
       "      <td>F</td>\n",
       "      <td>Father</td>\n",
       "      <td>20</td>\n",
       "      <td>20</td>\n",
       "      <td>3</td>\n",
       "      <td>25</td>\n",
       "      <td>Yes</td>\n",
       "      <td>Good</td>\n",
       "      <td>Under-7</td>\n",
       "      <td>M</td>\n",
       "      <td>YesGood</td>\n",
       "    </tr>\n",
       "    <tr>\n",
       "      <th>2</th>\n",
       "      <td>M</td>\n",
       "      <td>Kuwait</td>\n",
       "      <td>Kuwait</td>\n",
       "      <td>lowerlevel</td>\n",
       "      <td>G-04</td>\n",
       "      <td>A</td>\n",
       "      <td>IT</td>\n",
       "      <td>F</td>\n",
       "      <td>Father</td>\n",
       "      <td>10</td>\n",
       "      <td>7</td>\n",
       "      <td>0</td>\n",
       "      <td>30</td>\n",
       "      <td>No</td>\n",
       "      <td>Bad</td>\n",
       "      <td>Above-7</td>\n",
       "      <td>L</td>\n",
       "      <td>NoBad</td>\n",
       "    </tr>\n",
       "    <tr>\n",
       "      <th>3</th>\n",
       "      <td>M</td>\n",
       "      <td>Kuwait</td>\n",
       "      <td>Kuwait</td>\n",
       "      <td>lowerlevel</td>\n",
       "      <td>G-04</td>\n",
       "      <td>A</td>\n",
       "      <td>IT</td>\n",
       "      <td>F</td>\n",
       "      <td>Father</td>\n",
       "      <td>30</td>\n",
       "      <td>25</td>\n",
       "      <td>5</td>\n",
       "      <td>35</td>\n",
       "      <td>No</td>\n",
       "      <td>Bad</td>\n",
       "      <td>Above-7</td>\n",
       "      <td>L</td>\n",
       "      <td>NoBad</td>\n",
       "    </tr>\n",
       "    <tr>\n",
       "      <th>4</th>\n",
       "      <td>M</td>\n",
       "      <td>Kuwait</td>\n",
       "      <td>Kuwait</td>\n",
       "      <td>lowerlevel</td>\n",
       "      <td>G-04</td>\n",
       "      <td>A</td>\n",
       "      <td>IT</td>\n",
       "      <td>F</td>\n",
       "      <td>Father</td>\n",
       "      <td>40</td>\n",
       "      <td>50</td>\n",
       "      <td>12</td>\n",
       "      <td>50</td>\n",
       "      <td>No</td>\n",
       "      <td>Bad</td>\n",
       "      <td>Above-7</td>\n",
       "      <td>M</td>\n",
       "      <td>NoBad</td>\n",
       "    </tr>\n",
       "    <tr>\n",
       "      <th>...</th>\n",
       "      <td>...</td>\n",
       "      <td>...</td>\n",
       "      <td>...</td>\n",
       "      <td>...</td>\n",
       "      <td>...</td>\n",
       "      <td>...</td>\n",
       "      <td>...</td>\n",
       "      <td>...</td>\n",
       "      <td>...</td>\n",
       "      <td>...</td>\n",
       "      <td>...</td>\n",
       "      <td>...</td>\n",
       "      <td>...</td>\n",
       "      <td>...</td>\n",
       "      <td>...</td>\n",
       "      <td>...</td>\n",
       "      <td>...</td>\n",
       "      <td>...</td>\n",
       "    </tr>\n",
       "    <tr>\n",
       "      <th>475</th>\n",
       "      <td>F</td>\n",
       "      <td>Jordan</td>\n",
       "      <td>Jordan</td>\n",
       "      <td>MiddleSchool</td>\n",
       "      <td>G-08</td>\n",
       "      <td>A</td>\n",
       "      <td>Chemistry</td>\n",
       "      <td>S</td>\n",
       "      <td>Father</td>\n",
       "      <td>5</td>\n",
       "      <td>4</td>\n",
       "      <td>5</td>\n",
       "      <td>8</td>\n",
       "      <td>No</td>\n",
       "      <td>Bad</td>\n",
       "      <td>Above-7</td>\n",
       "      <td>L</td>\n",
       "      <td>NoBad</td>\n",
       "    </tr>\n",
       "    <tr>\n",
       "      <th>476</th>\n",
       "      <td>F</td>\n",
       "      <td>Jordan</td>\n",
       "      <td>Jordan</td>\n",
       "      <td>MiddleSchool</td>\n",
       "      <td>G-08</td>\n",
       "      <td>A</td>\n",
       "      <td>Geology</td>\n",
       "      <td>F</td>\n",
       "      <td>Father</td>\n",
       "      <td>50</td>\n",
       "      <td>77</td>\n",
       "      <td>14</td>\n",
       "      <td>28</td>\n",
       "      <td>No</td>\n",
       "      <td>Bad</td>\n",
       "      <td>Under-7</td>\n",
       "      <td>M</td>\n",
       "      <td>NoBad</td>\n",
       "    </tr>\n",
       "    <tr>\n",
       "      <th>477</th>\n",
       "      <td>F</td>\n",
       "      <td>Jordan</td>\n",
       "      <td>Jordan</td>\n",
       "      <td>MiddleSchool</td>\n",
       "      <td>G-08</td>\n",
       "      <td>A</td>\n",
       "      <td>Geology</td>\n",
       "      <td>S</td>\n",
       "      <td>Father</td>\n",
       "      <td>55</td>\n",
       "      <td>74</td>\n",
       "      <td>25</td>\n",
       "      <td>29</td>\n",
       "      <td>No</td>\n",
       "      <td>Bad</td>\n",
       "      <td>Under-7</td>\n",
       "      <td>M</td>\n",
       "      <td>NoBad</td>\n",
       "    </tr>\n",
       "    <tr>\n",
       "      <th>478</th>\n",
       "      <td>F</td>\n",
       "      <td>Jordan</td>\n",
       "      <td>Jordan</td>\n",
       "      <td>MiddleSchool</td>\n",
       "      <td>G-08</td>\n",
       "      <td>A</td>\n",
       "      <td>History</td>\n",
       "      <td>F</td>\n",
       "      <td>Father</td>\n",
       "      <td>30</td>\n",
       "      <td>17</td>\n",
       "      <td>14</td>\n",
       "      <td>57</td>\n",
       "      <td>No</td>\n",
       "      <td>Bad</td>\n",
       "      <td>Above-7</td>\n",
       "      <td>L</td>\n",
       "      <td>NoBad</td>\n",
       "    </tr>\n",
       "    <tr>\n",
       "      <th>479</th>\n",
       "      <td>F</td>\n",
       "      <td>Jordan</td>\n",
       "      <td>Jordan</td>\n",
       "      <td>MiddleSchool</td>\n",
       "      <td>G-08</td>\n",
       "      <td>A</td>\n",
       "      <td>History</td>\n",
       "      <td>S</td>\n",
       "      <td>Father</td>\n",
       "      <td>35</td>\n",
       "      <td>14</td>\n",
       "      <td>23</td>\n",
       "      <td>62</td>\n",
       "      <td>No</td>\n",
       "      <td>Bad</td>\n",
       "      <td>Above-7</td>\n",
       "      <td>L</td>\n",
       "      <td>NoBad</td>\n",
       "    </tr>\n",
       "  </tbody>\n",
       "</table>\n",
       "<p>480 rows × 18 columns</p>\n",
       "</div>"
      ],
      "text/plain": [
       "    Gender Nationality BirthPlace       StageID GradeID SectionID      Topic  \\\n",
       "0        M      Kuwait     Kuwait    lowerlevel    G-04         A         IT   \n",
       "1        M      Kuwait     Kuwait    lowerlevel    G-04         A         IT   \n",
       "2        M      Kuwait     Kuwait    lowerlevel    G-04         A         IT   \n",
       "3        M      Kuwait     Kuwait    lowerlevel    G-04         A         IT   \n",
       "4        M      Kuwait     Kuwait    lowerlevel    G-04         A         IT   \n",
       "..     ...         ...        ...           ...     ...       ...        ...   \n",
       "475      F      Jordan     Jordan  MiddleSchool    G-08         A  Chemistry   \n",
       "476      F      Jordan     Jordan  MiddleSchool    G-08         A    Geology   \n",
       "477      F      Jordan     Jordan  MiddleSchool    G-08         A    Geology   \n",
       "478      F      Jordan     Jordan  MiddleSchool    G-08         A    History   \n",
       "479      F      Jordan     Jordan  MiddleSchool    G-08         A    History   \n",
       "\n",
       "    Semester Relation  RaisedHands  VisitedResources  AnnouncementsView  \\\n",
       "0          F   Father           15                16                  2   \n",
       "1          F   Father           20                20                  3   \n",
       "2          F   Father           10                 7                  0   \n",
       "3          F   Father           30                25                  5   \n",
       "4          F   Father           40                50                 12   \n",
       "..       ...      ...          ...               ...                ...   \n",
       "475        S   Father            5                 4                  5   \n",
       "476        F   Father           50                77                 14   \n",
       "477        S   Father           55                74                 25   \n",
       "478        F   Father           30                17                 14   \n",
       "479        S   Father           35                14                 23   \n",
       "\n",
       "     Discussion ParentAnsweringSurvey ParentSchoolSatisfaction  \\\n",
       "0            20                   Yes                     Good   \n",
       "1            25                   Yes                     Good   \n",
       "2            30                    No                      Bad   \n",
       "3            35                    No                      Bad   \n",
       "4            50                    No                      Bad   \n",
       "..          ...                   ...                      ...   \n",
       "475           8                    No                      Bad   \n",
       "476          28                    No                      Bad   \n",
       "477          29                    No                      Bad   \n",
       "478          57                    No                      Bad   \n",
       "479          62                    No                      Bad   \n",
       "\n",
       "    StudentAbsenceDays Class ParticipationAndSatisfaction  \n",
       "0              Under-7     M                      YesGood  \n",
       "1              Under-7     M                      YesGood  \n",
       "2              Above-7     L                        NoBad  \n",
       "3              Above-7     L                        NoBad  \n",
       "4              Above-7     M                        NoBad  \n",
       "..                 ...   ...                          ...  \n",
       "475            Above-7     L                        NoBad  \n",
       "476            Under-7     M                        NoBad  \n",
       "477            Under-7     M                        NoBad  \n",
       "478            Above-7     L                        NoBad  \n",
       "479            Above-7     L                        NoBad  \n",
       "\n",
       "[480 rows x 18 columns]"
      ]
     },
     "execution_count": 32,
     "metadata": {},
     "output_type": "execute_result"
    }
   ],
   "source": [
    "q2 = spd_df\n",
    "q2['ParticipationAndSatisfaction'] = q2['ParentAnsweringSurvey'] + q2['ParentSchoolSatisfaction']\n",
    "q2"
   ]
  },
  {
   "cell_type": "markdown",
   "metadata": {
    "cell_id": "00061-09c9d59a-30cb-47f1-9ef2-b9c744d14991",
    "deepnote_cell_type": "markdown",
    "tags": []
   },
   "source": [
    "The next cell shows the count of each class grade belonging in each value of `ParticipationAndSatisfaction`."
   ]
  },
  {
   "cell_type": "code",
   "execution_count": 33,
   "metadata": {
    "cell_id": "00062-4df54a44-ef32-45ca-92c8-e703df7cb043",
    "deepnote_cell_type": "code",
    "deepnote_to_be_reexecuted": false,
    "execution_millis": 124,
    "execution_start": 1622489751047,
    "source_hash": "5aaa7ff8",
    "tags": []
   },
   "outputs": [
    {
     "data": {
      "text/plain": [
       "ParticipationAndSatisfaction  Class\n",
       "NoBad                         L         79\n",
       "                              M         57\n",
       "                              H          9\n",
       "NoGood                        M         26\n",
       "                              L         20\n",
       "                              H         19\n",
       "YesBad                        M         23\n",
       "                              H         15\n",
       "                              L          5\n",
       "YesGood                       M        105\n",
       "                              H         99\n",
       "                              L         23\n",
       "Name: Class, dtype: int64"
      ]
     },
     "execution_count": 33,
     "metadata": {},
     "output_type": "execute_result"
    }
   ],
   "source": [
    "q2PS = spd_df.groupby('ParticipationAndSatisfaction')[\"Class\"].value_counts()\n",
    "q2PS"
   ]
  },
  {
   "cell_type": "markdown",
   "metadata": {
    "cell_id": "00063-e682d0f4-ffff-4bcb-8dee-f92ac0d46685",
    "deepnote_cell_type": "markdown",
    "tags": []
   },
   "source": [
    "The data is turned into a dataframe and transposed for visualization"
   ]
  },
  {
   "cell_type": "code",
   "execution_count": 34,
   "metadata": {
    "cell_id": "00064-c008afb9-5e59-41d8-8663-b0437aa032b1",
    "deepnote_cell_type": "code",
    "deepnote_to_be_reexecuted": false,
    "execution_millis": 88,
    "execution_start": 1622489751087,
    "source_hash": "23285d0f",
    "tags": []
   },
   "outputs": [
    {
     "data": {
      "text/html": [
       "<div>\n",
       "<style scoped>\n",
       "    .dataframe tbody tr th:only-of-type {\n",
       "        vertical-align: middle;\n",
       "    }\n",
       "\n",
       "    .dataframe tbody tr th {\n",
       "        vertical-align: top;\n",
       "    }\n",
       "\n",
       "    .dataframe thead th {\n",
       "        text-align: right;\n",
       "    }\n",
       "</style>\n",
       "<table border=\"1\" class=\"dataframe\">\n",
       "  <thead>\n",
       "    <tr style=\"text-align: right;\">\n",
       "      <th></th>\n",
       "      <th>NoBad</th>\n",
       "      <th>NoGood</th>\n",
       "      <th>YesBad</th>\n",
       "      <th>YesGood</th>\n",
       "    </tr>\n",
       "  </thead>\n",
       "  <tbody>\n",
       "    <tr>\n",
       "      <th>L</th>\n",
       "      <td>79</td>\n",
       "      <td>20</td>\n",
       "      <td>5</td>\n",
       "      <td>23</td>\n",
       "    </tr>\n",
       "    <tr>\n",
       "      <th>M</th>\n",
       "      <td>57</td>\n",
       "      <td>26</td>\n",
       "      <td>23</td>\n",
       "      <td>105</td>\n",
       "    </tr>\n",
       "    <tr>\n",
       "      <th>H</th>\n",
       "      <td>9</td>\n",
       "      <td>19</td>\n",
       "      <td>15</td>\n",
       "      <td>99</td>\n",
       "    </tr>\n",
       "  </tbody>\n",
       "</table>\n",
       "</div>"
      ],
      "text/plain": [
       "   NoBad  NoGood  YesBad  YesGood\n",
       "L     79      20       5       23\n",
       "M     57      26      23      105\n",
       "H      9      19      15       99"
      ]
     },
     "execution_count": 34,
     "metadata": {},
     "output_type": "execute_result"
    }
   ],
   "source": [
    "q2PS_df = pd.DataFrame([q2PS['NoBad'], q2PS['NoGood'], q2PS['YesBad'], q2PS['YesGood']], index = ['NoBad', 'NoGood', 'YesBad', 'YesGood'])\n",
    "q2PS_df = q2PS_df.transpose()\n",
    "q2PS_df"
   ]
  },
  {
   "cell_type": "code",
   "execution_count": 35,
   "metadata": {
    "cell_id": "00065-a1820133-d285-4707-a811-3650d8bae405",
    "deepnote_cell_type": "code",
    "deepnote_to_be_reexecuted": false,
    "execution_millis": 349,
    "execution_start": 1622489751164,
    "source_hash": "4daa241e",
    "tags": []
   },
   "outputs": [
    {
     "data": {
      "image/png": "[encoded data removed]",
      "text/plain": [
       "<Figure size 648x648 with 4 Axes>"
      ]
     },
     "metadata": {},
     "output_type": "display_data"
    }
   ],
   "source": [
    "fig, axes = plt.subplots(nrows=2, ncols=2, figsize = (9,9))\n",
    "for ax, col in zip(axes.flat, q2PS_df.columns):\n",
    "    artists = ax.pie(q2PS_df[col], autopct='%.2f%%', colors = ['tab:red', 'tab:blue', 'tab:green'])\n",
    "    ax.set(ylabel='', title=col, aspect='equal')\n",
    "\n",
    "fig.legend(artists[0], q2PS_df.index)\n",
    "\n",
    "plt.show()"
   ]
  },
  {
   "cell_type": "markdown",
   "metadata": {
    "cell_id": "00066-7f54f5ca-5293-407e-a119-4e4e73a8b91b",
    "deepnote_cell_type": "markdown",
    "tags": []
   },
   "source": [
    "The generated data above shows a high percentage of Low class grade when a parent does not participate. The data shows that 54.48% of `NoBad` are 30.77% of `NoGood` are students who got a low class grade. `YesBad` and `YesGood` got a low percentage of Low class grades with 11.63% and 10.13% respectively. In terms of High class grades, `YesGood` got the highest percentage of 43.61% followed by `YesBad` with 34.61%.\n",
    "\n",
    "Based on the data above, it can be inferred that participation may have a larger impact on the student's grade when compared to satisfaction. However, the absence of both participation and satisfaction greatly affects the chances that a student may have a Low class grade.\n",
    "\n",
    "Further investigation is needed by focusing on individual features."
   ]
  },
  {
   "cell_type": "markdown",
   "metadata": {
    "cell_id": "00055-b8d5a497-aaf3-4ad5-afb2-f53910077b64",
    "deepnote_cell_type": "markdown",
    "tags": []
   },
   "source": [
    "##### Participation"
   ]
  },
  {
   "cell_type": "markdown",
   "metadata": {
    "cell_id": "00059-bcde4e78-7441-4723-b5ca-c75ff9594425",
    "deepnote_cell_type": "markdown",
    "tags": []
   },
   "source": [
    "We first check the participation records.\n",
    "\n",
    "The next cell shows the target category and the classes found in each:"
   ]
  },
  {
   "cell_type": "code",
   "execution_count": 36,
   "metadata": {
    "cell_id": "00055-4a511f9f-b6fe-4144-ae0f-8811596e6d16",
    "deepnote_cell_type": "code",
    "deepnote_to_be_reexecuted": false,
    "execution_millis": 19,
    "execution_start": 1622489751515,
    "source_hash": "5f74d4ef",
    "tags": []
   },
   "outputs": [
    {
     "data": {
      "text/plain": [
       "ParentAnsweringSurvey  Class\n",
       "No                     L         99\n",
       "                       M         83\n",
       "                       H         28\n",
       "Yes                    M        128\n",
       "                       H        114\n",
       "                       L         28\n",
       "Name: Class, dtype: int64"
      ]
     },
     "execution_count": 36,
     "metadata": {},
     "output_type": "execute_result"
    }
   ],
   "source": [
    "q2_Participation = spd_df.groupby(\"ParentAnsweringSurvey\")[\"Class\"].value_counts()\n",
    "q2_Participation"
   ]
  },
  {
   "cell_type": "markdown",
   "metadata": {
    "cell_id": "00061-47e48749-4f36-4087-b618-3cfc9b74467d",
    "deepnote_cell_type": "markdown",
    "tags": []
   },
   "source": [
    "This is turned into a dataframe for proper visualization,"
   ]
  },
  {
   "cell_type": "code",
   "execution_count": 37,
   "metadata": {
    "cell_id": "00056-ed6379af-6270-4192-8797-667d3c4b5076",
    "deepnote_cell_type": "code",
    "deepnote_to_be_reexecuted": false,
    "execution_millis": 23,
    "execution_start": 1622489751534,
    "source_hash": "99d50266",
    "tags": []
   },
   "outputs": [
    {
     "data": {
      "text/html": [
       "<div>\n",
       "<style scoped>\n",
       "    .dataframe tbody tr th:only-of-type {\n",
       "        vertical-align: middle;\n",
       "    }\n",
       "\n",
       "    .dataframe tbody tr th {\n",
       "        vertical-align: top;\n",
       "    }\n",
       "\n",
       "    .dataframe thead th {\n",
       "        text-align: right;\n",
       "    }\n",
       "</style>\n",
       "<table border=\"1\" class=\"dataframe\">\n",
       "  <thead>\n",
       "    <tr style=\"text-align: right;\">\n",
       "      <th></th>\n",
       "      <th>L</th>\n",
       "      <th>M</th>\n",
       "      <th>H</th>\n",
       "    </tr>\n",
       "  </thead>\n",
       "  <tbody>\n",
       "    <tr>\n",
       "      <th>Not Participate</th>\n",
       "      <td>99</td>\n",
       "      <td>83</td>\n",
       "      <td>28</td>\n",
       "    </tr>\n",
       "    <tr>\n",
       "      <th>Participate</th>\n",
       "      <td>28</td>\n",
       "      <td>128</td>\n",
       "      <td>114</td>\n",
       "    </tr>\n",
       "  </tbody>\n",
       "</table>\n",
       "</div>"
      ],
      "text/plain": [
       "                  L    M    H\n",
       "Not Participate  99   83   28\n",
       "Participate      28  128  114"
      ]
     },
     "execution_count": 37,
     "metadata": {},
     "output_type": "execute_result"
    }
   ],
   "source": [
    "q2P_df = pd.DataFrame([q2_Participation['No'], q2_Participation['Yes']], index = [\"Not Participate\", \"Participate\"])\n",
    "q2P_df"
   ]
  },
  {
   "cell_type": "markdown",
   "metadata": {
    "cell_id": "00063-7347d1a7-70ef-4823-b4eb-f80a2fdbfb19",
    "deepnote_cell_type": "markdown",
    "tags": []
   },
   "source": [
    "Based on the data shown above, a pie chart is appropriate to show what is the majority or to see the percentage of each category. We first see based on the `Class` grade category:"
   ]
  },
  {
   "cell_type": "code",
   "execution_count": 38,
   "metadata": {
    "cell_id": "00060-2cd25ce3-e157-4ede-bda7-35d138ebdb4d",
    "deepnote_cell_type": "code",
    "deepnote_to_be_reexecuted": false,
    "execution_millis": 247,
    "execution_start": 1622489751658,
    "source_hash": "3b33d808",
    "tags": []
   },
   "outputs": [
    {
     "data": {
      "image/png": "[encoded data removed]",
      "text/plain": [
       "<Figure size 648x648 with 3 Axes>"
      ]
     },
     "metadata": {},
     "output_type": "display_data"
    }
   ],
   "source": [
    "fig, axes = plt.subplots(nrows=1, ncols=3, figsize = (9,9))\n",
    "for ax, col in zip(axes.flat, q2P_df.columns):\n",
    "    artists = ax.pie(q2P_df[col], autopct='%.2f%%', colors = ['tab:red', 'tab:blue'])\n",
    "    ax.set(ylabel='', title=col, aspect='equal')\n",
    "\n",
    "fig.legend(artists[0], q2P_df.index)\n",
    "\n",
    "plt.show()"
   ]
  },
  {
   "cell_type": "markdown",
   "metadata": {
    "cell_id": "00065-13355282-81ef-4fde-94ff-3f110bafa647",
    "deepnote_cell_type": "markdown",
    "tags": []
   },
   "source": [
    "We see that there is a significant value for the Low and High class grades.\n",
    "\n",
    "Looking at the data above, we can see that:\n",
    "- Majority of those with low class grades have parents who do not participate.\n",
    "- Majority of those with high grades have parents who do participate.\n",
    "\n",
    "Low class grades have a value of 77.95% for the Not Participate value and the High class grade has an 80.28% for the Participate value."
   ]
  },
  {
   "cell_type": "markdown",
   "metadata": {
    "cell_id": "00066-31584647-cb07-4d40-8180-351c510a3db8",
    "deepnote_cell_type": "markdown",
    "tags": []
   },
   "source": [
    "The dataframe is transposed for the `Participation` category visualization."
   ]
  },
  {
   "cell_type": "code",
   "execution_count": 39,
   "metadata": {
    "cell_id": "00060-ed6d40a7-be68-494d-98b8-d7ea7d8651c3",
    "deepnote_cell_type": "code",
    "deepnote_to_be_reexecuted": false,
    "execution_millis": 12,
    "execution_start": 1622489751917,
    "source_hash": "9ad7ff62",
    "tags": []
   },
   "outputs": [
    {
     "data": {
      "text/html": [
       "<div>\n",
       "<style scoped>\n",
       "    .dataframe tbody tr th:only-of-type {\n",
       "        vertical-align: middle;\n",
       "    }\n",
       "\n",
       "    .dataframe tbody tr th {\n",
       "        vertical-align: top;\n",
       "    }\n",
       "\n",
       "    .dataframe thead th {\n",
       "        text-align: right;\n",
       "    }\n",
       "</style>\n",
       "<table border=\"1\" class=\"dataframe\">\n",
       "  <thead>\n",
       "    <tr style=\"text-align: right;\">\n",
       "      <th></th>\n",
       "      <th>Not Participate</th>\n",
       "      <th>Participate</th>\n",
       "    </tr>\n",
       "  </thead>\n",
       "  <tbody>\n",
       "    <tr>\n",
       "      <th>L</th>\n",
       "      <td>99</td>\n",
       "      <td>28</td>\n",
       "    </tr>\n",
       "    <tr>\n",
       "      <th>M</th>\n",
       "      <td>83</td>\n",
       "      <td>128</td>\n",
       "    </tr>\n",
       "    <tr>\n",
       "      <th>H</th>\n",
       "      <td>28</td>\n",
       "      <td>114</td>\n",
       "    </tr>\n",
       "  </tbody>\n",
       "</table>\n",
       "</div>"
      ],
      "text/plain": [
       "   Not Participate  Participate\n",
       "L               99           28\n",
       "M               83          128\n",
       "H               28          114"
      ]
     },
     "execution_count": 39,
     "metadata": {},
     "output_type": "execute_result"
    }
   ],
   "source": [
    "q2P_df_T = q2P_df.transpose()\n",
    "q2P_df_T"
   ]
  },
  {
   "cell_type": "markdown",
   "metadata": {
    "cell_id": "00068-c80c2800-b2f5-4948-8236-17c8a864a11e",
    "deepnote_cell_type": "markdown",
    "tags": []
   },
   "source": [
    "The next visualization will be focused on the `Participation` category. Pie charts are also used for this visualization for the same reason stated above."
   ]
  },
  {
   "cell_type": "code",
   "execution_count": 40,
   "metadata": {
    "cell_id": "00061-d11d062b-8f3e-495e-89cf-847b0200259d",
    "deepnote_cell_type": "code",
    "deepnote_to_be_reexecuted": false,
    "execution_millis": 178,
    "execution_start": 1622489751998,
    "source_hash": "c6b63ba1",
    "tags": []
   },
   "outputs": [
    {
     "data": {
      "image/png": "[encoded data removed]",
      "text/plain": [
       "<Figure size 648x648 with 2 Axes>"
      ]
     },
     "metadata": {},
     "output_type": "display_data"
    }
   ],
   "source": [
    "fig, axes = plt.subplots(nrows=1, ncols=2, figsize = (9,9))\n",
    "for ax, col in zip(axes.flat, q2P_df_T.columns):\n",
    "    artists = ax.pie(q2P_df_T[col], autopct='%.2f%%', colors = ['tab:red', 'tab:blue', 'tab:green'])\n",
    "    ax.set(ylabel='', title=col, aspect='equal')\n",
    "\n",
    "fig.legend(artists[0], q2P_df_T.index)\n",
    "\n",
    "plt.show()"
   ]
  },
  {
   "cell_type": "markdown",
   "metadata": {
    "cell_id": "00070-18f19efc-7e0e-46ee-98d0-86a03d4ee648",
    "deepnote_cell_type": "markdown",
    "tags": []
   },
   "source": [
    "Though the above data shows that the majority of those with Low grades have parents who do not participate, Low class grades does not represent the majority of the Not Participating value in the Participation category. It still, however, represents the highest percentage in the chart as it gets 47.14%. \n",
    "\n",
    "The same can be almost said for the Participate value. Like above, High class grade is not the majority value. It got a high value of 42.22% but it is not considered the highest in the chart as Middle Class grade recieved a value of 47.41%."
   ]
  },
  {
   "cell_type": "code",
   "execution_count": 41,
   "metadata": {
    "cell_id": "00057-2ac7dc6c-f62d-4975-8222-02ac31299b3d",
    "deepnote_cell_type": "code",
    "deepnote_to_be_reexecuted": false,
    "execution_millis": 38,
    "execution_start": 1622489752170,
    "source_hash": "e29a5157",
    "tags": []
   },
   "outputs": [
    {
     "data": {
      "text/plain": [
       "ParentSchoolSatisfaction  Class\n",
       "Bad                       L         84\n",
       "                          M         80\n",
       "                          H         24\n",
       "Good                      M        131\n",
       "                          H        118\n",
       "                          L         43\n",
       "Name: Class, dtype: int64"
      ]
     },
     "execution_count": 41,
     "metadata": {},
     "output_type": "execute_result"
    }
   ],
   "source": [
    "q2_Satisfaction = spd_df.groupby(\"ParentSchoolSatisfaction\")[\"Class\"].value_counts()\n",
    "q2_Satisfaction"
   ]
  },
  {
   "cell_type": "markdown",
   "metadata": {
    "cell_id": "00072-fc0a616e-df6e-4b03-8bac-407571b92736",
    "deepnote_cell_type": "markdown",
    "tags": []
   },
   "source": [
    "##### Satisfaction"
   ]
  },
  {
   "cell_type": "markdown",
   "metadata": {
    "cell_id": "00073-b69b6bea-de05-4c62-a99d-405887dda537",
    "deepnote_cell_type": "markdown",
    "tags": []
   },
   "source": [
    "The Satisfaction category will be represented by the `ParentSatisfaction` feature. The values for this feature are `Good` and `Bad`. It is uncertain if the value for this feature was given before revealing the class grade or after. It is assumed that it is before.\n",
    "\n",
    "The following is a view of the target feature and the count for each `Class` grade:"
   ]
  },
  {
   "cell_type": "code",
   "execution_count": 42,
   "metadata": {
    "cell_id": "00058-086dce55-6d21-420b-9bd3-74c814c65423",
    "deepnote_cell_type": "code",
    "deepnote_to_be_reexecuted": false,
    "execution_millis": 40,
    "execution_start": 1622489752211,
    "source_hash": "a3ef42a5",
    "tags": []
   },
   "outputs": [
    {
     "data": {
      "text/html": [
       "<div>\n",
       "<style scoped>\n",
       "    .dataframe tbody tr th:only-of-type {\n",
       "        vertical-align: middle;\n",
       "    }\n",
       "\n",
       "    .dataframe tbody tr th {\n",
       "        vertical-align: top;\n",
       "    }\n",
       "\n",
       "    .dataframe thead th {\n",
       "        text-align: right;\n",
       "    }\n",
       "</style>\n",
       "<table border=\"1\" class=\"dataframe\">\n",
       "  <thead>\n",
       "    <tr style=\"text-align: right;\">\n",
       "      <th></th>\n",
       "      <th>L</th>\n",
       "      <th>M</th>\n",
       "      <th>H</th>\n",
       "    </tr>\n",
       "  </thead>\n",
       "  <tbody>\n",
       "    <tr>\n",
       "      <th>Unsatisfied</th>\n",
       "      <td>84</td>\n",
       "      <td>80</td>\n",
       "      <td>24</td>\n",
       "    </tr>\n",
       "    <tr>\n",
       "      <th>Satisfied</th>\n",
       "      <td>43</td>\n",
       "      <td>131</td>\n",
       "      <td>118</td>\n",
       "    </tr>\n",
       "  </tbody>\n",
       "</table>\n",
       "</div>"
      ],
      "text/plain": [
       "              L    M    H\n",
       "Unsatisfied  84   80   24\n",
       "Satisfied    43  131  118"
      ]
     },
     "execution_count": 42,
     "metadata": {},
     "output_type": "execute_result"
    }
   ],
   "source": [
    "q2S_df = pd.DataFrame([q2_Satisfaction['Bad'], q2_Satisfaction['Good']], index = [\"Unsatisfied\", \"Satisfied\"])\n",
    "q2S_df"
   ]
  },
  {
   "cell_type": "markdown",
   "metadata": {
    "cell_id": "00075-db73f820-079b-4221-807a-f5461d932395",
    "deepnote_cell_type": "markdown",
    "tags": []
   },
   "source": [
    "Like before, pie charts will be used to visualize the data to show the percentage of each value in the category."
   ]
  },
  {
   "cell_type": "code",
   "execution_count": 43,
   "metadata": {
    "cell_id": "00064-fd3c4e20-da54-4bf7-8335-3f34f6608123",
    "deepnote_cell_type": "code",
    "deepnote_to_be_reexecuted": false,
    "execution_millis": 175,
    "execution_start": 1622489752346,
    "source_hash": "571105b3",
    "tags": []
   },
   "outputs": [
    {
     "data": {
      "image/png": "[encoded data removed]",
      "text/plain": [
       "<Figure size 648x648 with 3 Axes>"
      ]
     },
     "metadata": {},
     "output_type": "display_data"
    }
   ],
   "source": [
    "fig, axes = plt.subplots(nrows=1, ncols=3, figsize = (9,9))\n",
    "for ax, col in zip(axes.flat, q2S_df.columns):\n",
    "    artists = ax.pie(q2S_df[col], autopct='%.2f%%', colors = ['tab:red', 'tab:blue'])\n",
    "    ax.set(ylabel='', title=col, aspect='equal')\n",
    "\n",
    "fig.legend(artists[0], q2S_df.index)\n",
    "\n",
    "plt.show()"
   ]
  },
  {
   "cell_type": "markdown",
   "metadata": {
    "cell_id": "00077-200aa9a6-1bf0-4b0d-96d7-c1c9158583c8",
    "deepnote_cell_type": "markdown",
    "tags": []
   },
   "source": [
    "As hypothesized, majority of the value in the Low class grade are students who have parents expressing unsatisfaction towards the school's system. The Unsatisfied received a percentage of 66.14%. Majority of those with High class grade have parents expressing Satisfaction in the school system as Satisfied receives a score of 83.10%.\n",
    "\n",
    "It is observed that:\n",
    "- Majority of those with low class grades have parents who express unsatisfaction with the school system.\n",
    "- Majority of those with high grades have parents who express satisfaction with the school system."
   ]
  },
  {
   "cell_type": "markdown",
   "metadata": {
    "cell_id": "00078-6b9cc15a-35f5-4580-96e1-efa802575b26",
    "deepnote_cell_type": "markdown",
    "tags": []
   },
   "source": [
    "The data is transposed for the next visualization as it focuses now on the `Satisfaction` category."
   ]
  },
  {
   "cell_type": "code",
   "execution_count": 44,
   "metadata": {
    "cell_id": "00065-6ca2c164-73bf-4680-8244-eb5b7712ff21",
    "deepnote_cell_type": "code",
    "deepnote_to_be_reexecuted": false,
    "execution_millis": 8,
    "execution_start": 1622489752578,
    "source_hash": "35a0995a",
    "tags": []
   },
   "outputs": [
    {
     "data": {
      "text/html": [
       "<div>\n",
       "<style scoped>\n",
       "    .dataframe tbody tr th:only-of-type {\n",
       "        vertical-align: middle;\n",
       "    }\n",
       "\n",
       "    .dataframe tbody tr th {\n",
       "        vertical-align: top;\n",
       "    }\n",
       "\n",
       "    .dataframe thead th {\n",
       "        text-align: right;\n",
       "    }\n",
       "</style>\n",
       "<table border=\"1\" class=\"dataframe\">\n",
       "  <thead>\n",
       "    <tr style=\"text-align: right;\">\n",
       "      <th></th>\n",
       "      <th>Unsatisfied</th>\n",
       "      <th>Satisfied</th>\n",
       "    </tr>\n",
       "  </thead>\n",
       "  <tbody>\n",
       "    <tr>\n",
       "      <th>L</th>\n",
       "      <td>84</td>\n",
       "      <td>43</td>\n",
       "    </tr>\n",
       "    <tr>\n",
       "      <th>M</th>\n",
       "      <td>80</td>\n",
       "      <td>131</td>\n",
       "    </tr>\n",
       "    <tr>\n",
       "      <th>H</th>\n",
       "      <td>24</td>\n",
       "      <td>118</td>\n",
       "    </tr>\n",
       "  </tbody>\n",
       "</table>\n",
       "</div>"
      ],
      "text/plain": [
       "   Unsatisfied  Satisfied\n",
       "L           84         43\n",
       "M           80        131\n",
       "H           24        118"
      ]
     },
     "execution_count": 44,
     "metadata": {},
     "output_type": "execute_result"
    }
   ],
   "source": [
    "q2S_df_T = q2S_df.transpose()\n",
    "q2S_df_T"
   ]
  },
  {
   "cell_type": "code",
   "execution_count": 45,
   "metadata": {
    "cell_id": "00066-5bc77a35-88e0-4d21-8f3a-be77edd22c28",
    "deepnote_cell_type": "code",
    "deepnote_to_be_reexecuted": false,
    "execution_millis": 168,
    "execution_start": 1622489752649,
    "source_hash": "6e6f66f9",
    "tags": []
   },
   "outputs": [
    {
     "data": {
      "image/png": "[encoded data removed]",
      "text/plain": [
       "<Figure size 648x648 with 2 Axes>"
      ]
     },
     "metadata": {},
     "output_type": "display_data"
    }
   ],
   "source": [
    "fig, axes = plt.subplots(nrows=1, ncols=2, figsize = (9,9))\n",
    "for ax, col in zip(axes.flat, q2S_df_T.columns):\n",
    "    artists = ax.pie(q2S_df_T[col], autopct='%.2f%%', colors = ['tab:red', 'tab:blue', 'tab:green'])\n",
    "    ax.set(ylabel='', title=col, aspect='equal')\n",
    "\n",
    "fig.legend(artists[0], q2S_df_T.index)\n",
    "\n",
    "plt.show()"
   ]
  },
  {
   "cell_type": "markdown",
   "metadata": {
    "cell_id": "00081-0f130926-86c7-4b2e-96e0-8f9f2dde43d7",
    "deepnote_cell_type": "markdown",
    "tags": []
   },
   "source": [
    "The results did not produce values that supports that immediately supports the hypothesis as a class grade value did not take up the majority of both visualization. The Unsatisfied value of the `Satisfaction` category have 44.68% of students recieveing Low class grades, this represents the highest value. The highest value for the Satisfied category is the Middle class grade value with a percentage of 44.86%. This is followed by High class grade with 40.41%."
   ]
  },
  {
   "cell_type": "markdown",
   "metadata": {
    "cell_id": "00091-53c61d4e-5b4a-495b-b1a5-2f786f5f3716",
    "deepnote_cell_type": "markdown",
    "tags": []
   },
   "source": [
    "#### Chi-square Test"
   ]
  },
  {
   "cell_type": "markdown",
   "metadata": {
    "cell_id": "00092-1da4684f-a8f9-4d83-92f8-7b6b6f809b6e",
    "deepnote_cell_type": "markdown",
    "tags": []
   },
   "source": [
    "Chi-square is performed to determine whether features are dependent or possibly independent. The test will be done on the separated features, `Participation` and `Satisfaction`. The hypothesis are:\n",
    "\n",
    "- H: The feature affects the student's performance.\n",
    "- H0: The feature does not affect the student's performance."
   ]
  },
  {
   "cell_type": "code",
   "execution_count": 46,
   "metadata": {
    "cell_id": "00093-29341325-42a8-42cd-82a2-a063abe0cc19",
    "deepnote_cell_type": "code",
    "deepnote_to_be_reexecuted": false,
    "execution_millis": 3,
    "execution_start": 1622489752802,
    "source_hash": "93cc00aa",
    "tags": []
   },
   "outputs": [],
   "source": [
    "alpha = 0.05"
   ]
  },
  {
   "cell_type": "markdown",
   "metadata": {
    "cell_id": "00093-a4b9ad96-b333-4a65-a742-c951651d506b",
    "deepnote_cell_type": "markdown",
    "tags": []
   },
   "source": [
    "##### Participation"
   ]
  },
  {
   "cell_type": "code",
   "execution_count": 47,
   "metadata": {
    "cell_id": "00092-fb2e62e8-a509-46aa-97b6-b502891689f1",
    "deepnote_cell_type": "code",
    "deepnote_to_be_reexecuted": false,
    "execution_millis": 18,
    "execution_start": 1622489752812,
    "source_hash": "6d80411b",
    "tags": []
   },
   "outputs": [
    {
     "name": "stdout",
     "output_type": "stream",
     "text": [
      "p value for Participation is 1.9580757205685668e-21\n",
      "It is Dependent (reject H0)\n"
     ]
    }
   ],
   "source": [
    "c, p, dof, expected = chi2_contingency(q2P_df)\n",
    "print(\"p value for Participation is \" + str(p))\n",
    "if p <= alpha:\n",
    "    print(\"It is Dependent (reject H0)\")\n",
    "else:\n",
    "    print(\"It is Independent (do not reject H0)\")\n"
   ]
  },
  {
   "cell_type": "markdown",
   "metadata": {
    "cell_id": "00096-94533bff-2d0c-4446-a116-342b8d9f71d2",
    "deepnote_cell_type": "markdown",
    "tags": []
   },
   "source": [
    "`Participation` is shown as a dependent feature which means that it could affect a student's class grades."
   ]
  },
  {
   "cell_type": "markdown",
   "metadata": {
    "cell_id": "00095-259f1a0f-c3d3-469d-9067-a9bf68a58576",
    "deepnote_cell_type": "markdown",
    "tags": []
   },
   "source": [
    "##### Satisfaction"
   ]
  },
  {
   "cell_type": "code",
   "execution_count": 48,
   "metadata": {
    "cell_id": "00093-7039e088-2a1b-43d1-9e5e-37162f797517",
    "deepnote_cell_type": "code",
    "deepnote_to_be_reexecuted": false,
    "execution_millis": 20,
    "execution_start": 1622489752874,
    "source_hash": "ae398413",
    "tags": []
   },
   "outputs": [
    {
     "name": "stdout",
     "output_type": "stream",
     "text": [
      "p value for Satisfaction is 1.3552933750373137e-15\n",
      "It is Dependent (reject H0)\n"
     ]
    }
   ],
   "source": [
    "c, p, dof, expected = chi2_contingency(q2S_df)\n",
    "print(\"p value for Satisfaction is \" + str(p)) \n",
    "if p <= alpha:\n",
    "    print(\"It is Dependent (reject H0)\")\n",
    "else:\n",
    "    print(\"It is Independent (do not reject H0)\")"
   ]
  },
  {
   "cell_type": "markdown",
   "metadata": {
    "cell_id": "00098-672a0add-fb85-48bd-9e1c-ad87cd6d7c2b",
    "deepnote_cell_type": "markdown",
    "tags": []
   },
   "source": [
    "`Satisfaction` is shown as a dependent feature which means that it could affect a student's class grades."
   ]
  },
  {
   "cell_type": "markdown",
   "metadata": {
    "cell_id": "00100-eaa70311-855a-4cf3-99d6-f6807ffab9cb",
    "deepnote_cell_type": "markdown",
    "tags": []
   },
   "source": [
    "It is shown through the gathered and interpreted data that a parent's school participation and their satisfaction with the school system may affect a student's class grade or class performance. The visualization shows the high percentage of High class grades on participating and satisfied parents. There is also a high percentage of Low class grades on parents who does the opposite. The chi-square test further proves their relation and rejects the null hypothesis that states that they are independent. Therefore, these features can be considered as some of the factors that affect a student's class performance."
   ]
  },
  {
   "cell_type": "markdown",
   "metadata": {
    "cell_id": "00052-52981921-5a01-48bb-b514-a4bd1f0082f6",
    "deepnote_cell_type": "markdown",
    "id": "-HT7yLU153-L"
   },
   "source": [
    "#### ***Q3: Do the number of class absences greatly affect the grades of a student?***"
   ]
  },
  {
   "cell_type": "markdown",
   "metadata": {
    "cell_id": "00102-70a2bb11-0a2b-4aa0-a5e4-9c1e588bac3f",
    "deepnote_cell_type": "markdown",
    "tags": []
   },
   "source": [
    "We'll look at the `StudentAbsenceDays` in this portion of the notebook, which may indicate a student's grades.\n",
    "\n",
    "The number of student absences is thought to be a factor that influences a student's grade in class. The percentages of the feature and the p-value obtained from the chi-square test can be used to demonstrate this."
   ]
  },
  {
   "cell_type": "markdown",
   "metadata": {
    "cell_id": "00103-90130ced-cfbc-4a69-95ea-f4f771a8b793",
    "deepnote_cell_type": "markdown",
    "tags": []
   },
   "source": [
    "The next cell displays the number of students in each class grade for each value of `StudentAbsenceDays`."
   ]
  },
  {
   "cell_type": "code",
   "execution_count": 49,
   "metadata": {
    "cell_id": "00053-96e5200e-09c8-459f-8013-ad272e137ccd",
    "colab": {
     "base_uri": "https://localhost:8080/"
    },
    "deepnote_cell_type": "code",
    "deepnote_to_be_reexecuted": false,
    "executionInfo": {
     "elapsed": 931,
     "status": "ok",
     "timestamp": 1620279451187,
     "user": {
      "displayName": "Angeline Maris Gubat",
      "photoUrl": "https://lh3.googleusercontent.com/a-/AOh14Gijg6xgX0R_IA4o8GkF1xnv3D8-8kHv8i-V48U6=s64",
      "userId": "00875153666701401808"
     },
     "user_tz": -480
    },
    "execution_millis": 19,
    "execution_start": 1622489752875,
    "id": "s_LwGXxmHrF-",
    "outputId": "e8c86756-7618-4344-d76e-953b58652a99",
    "source_hash": "93036729"
   },
   "outputs": [
    {
     "data": {
      "text/plain": [
       "StudentAbsenceDays  Class\n",
       "Above-7             L        116\n",
       "                    M         71\n",
       "                    H          4\n",
       "Under-7             M        140\n",
       "                    H        138\n",
       "                    L         11\n",
       "Name: Class, dtype: int64"
      ]
     },
     "execution_count": 49,
     "metadata": {},
     "output_type": "execute_result"
    }
   ],
   "source": [
    "q3_df = spd_df.groupby(\"StudentAbsenceDays\")[\"Class\"].value_counts()\n",
    "q3_df"
   ]
  },
  {
   "cell_type": "markdown",
   "metadata": {
    "cell_id": "00062-11e9f41d-0158-403c-9790-16454f245ce5",
    "deepnote_cell_type": "markdown",
    "tags": []
   },
   "source": [
    "Then we will be assigning the required feature for this research question to a dataframe variable and transposed for visualization."
   ]
  },
  {
   "cell_type": "code",
   "execution_count": 50,
   "metadata": {
    "cell_id": "00099-e3e287bf-1285-438f-8928-e395054ff64e",
    "deepnote_cell_type": "code",
    "deepnote_to_be_reexecuted": false,
    "execution_millis": 24,
    "execution_start": 1622489752881,
    "source_hash": "fa318cf7",
    "tags": []
   },
   "outputs": [
    {
     "data": {
      "text/html": [
       "<div>\n",
       "<style scoped>\n",
       "    .dataframe tbody tr th:only-of-type {\n",
       "        vertical-align: middle;\n",
       "    }\n",
       "\n",
       "    .dataframe tbody tr th {\n",
       "        vertical-align: top;\n",
       "    }\n",
       "\n",
       "    .dataframe thead th {\n",
       "        text-align: right;\n",
       "    }\n",
       "</style>\n",
       "<table border=\"1\" class=\"dataframe\">\n",
       "  <thead>\n",
       "    <tr style=\"text-align: right;\">\n",
       "      <th></th>\n",
       "      <th>L</th>\n",
       "      <th>M</th>\n",
       "      <th>H</th>\n",
       "    </tr>\n",
       "  </thead>\n",
       "  <tbody>\n",
       "    <tr>\n",
       "      <th>Above 7 Absences</th>\n",
       "      <td>116</td>\n",
       "      <td>71</td>\n",
       "      <td>4</td>\n",
       "    </tr>\n",
       "    <tr>\n",
       "      <th>Below 7 Absences</th>\n",
       "      <td>11</td>\n",
       "      <td>140</td>\n",
       "      <td>138</td>\n",
       "    </tr>\n",
       "  </tbody>\n",
       "</table>\n",
       "</div>"
      ],
      "text/plain": [
       "                    L    M    H\n",
       "Above 7 Absences  116   71    4\n",
       "Below 7 Absences   11  140  138"
      ]
     },
     "execution_count": 50,
     "metadata": {},
     "output_type": "execute_result"
    }
   ],
   "source": [
    "q3s_df = pd.DataFrame([q3_df['Above-7'], q3_df['Under-7']], index=[\"Above 7 Absences\", \"Below 7 Absences\"])\n",
    "q3s_df"
   ]
  },
  {
   "cell_type": "markdown",
   "metadata": {
    "cell_id": "00107-d57c195d-bfe4-4af3-becc-19e7c436b1b5",
    "deepnote_cell_type": "markdown",
    "tags": []
   },
   "source": [
    "A pie chart is ideal to show what is the dominant or to examine the percentage of each class grade based on the data presented above."
   ]
  },
  {
   "cell_type": "code",
   "execution_count": 51,
   "metadata": {
    "cell_id": "00104-b2ea7ba1-e9ad-4808-8b46-67fce818ce8f",
    "deepnote_cell_type": "code",
    "deepnote_to_be_reexecuted": false,
    "execution_millis": 649,
    "execution_start": 1622489752938,
    "source_hash": "3b355ec9",
    "tags": []
   },
   "outputs": [
    {
     "data": {
      "image/png": "[encoded data removed]",
      "text/plain": [
       "<Figure size 1440x1440 with 3 Axes>"
      ]
     },
     "metadata": {},
     "output_type": "display_data"
    }
   ],
   "source": [
    "df2 = pd.DataFrame(q3s_df)\n",
    "plot = df2.plot.pie(subplots=True, figsize=(20, 20), autopct='%1.1f%%')"
   ]
  },
  {
   "cell_type": "markdown",
   "metadata": {
    "cell_id": "00109-bee89ac8-8b8f-4434-a296-8c07c7467b1e",
    "deepnote_cell_type": "markdown",
    "tags": []
   },
   "source": [
    "When the number of student absences exceeds 7 days, the generated data reveals a significant percentage of Low class grade. There are 91.3% of students with Low class grades that are absent for more than 7 days while there are 33.6% of students that have Middle class grades and 2.8% of students with High class grades. \n",
    "\n",
    "On the other hand, there are only 8.7% of students that are on Low class grades, 66.4% students on Middle class grades, and 97.2% of students have High class grades with absences that are below 7 days.\n",
    "\n",
    "As we can see, the percentage of students being on Low class grades to High class grades with above 7 days of absences are becoming smaller while if we take a look on the precentage of students being on Low class grades to High class grades with absences that are below 7 days, it is also becoming bigger. \n",
    "\n",
    "Given the data shown above, it can be concluded that absences greatly affect students on their class grades. "
   ]
  },
  {
   "cell_type": "markdown",
   "metadata": {
    "cell_id": "00110-e5db17ee-6695-4865-b243-6a16e4e8db12",
    "deepnote_cell_type": "markdown",
    "tags": []
   },
   "source": [
    "#### Chi-square Test"
   ]
  },
  {
   "cell_type": "markdown",
   "metadata": {
    "cell_id": "00111-0c3a5cc5-beb9-4324-b09f-f4ad4b2594e7",
    "deepnote_cell_type": "markdown",
    "tags": []
   },
   "source": [
    "Chi-square is performed to determine whether the feature `StudentAbsenceDays` are dependent or possibly independent. The hypothesis are:\n",
    "\n",
    "- H: The feature affects the student's class grade.\n",
    "- H0: The feature does not affect the student's class grade."
   ]
  },
  {
   "cell_type": "code",
   "execution_count": 52,
   "metadata": {
    "cell_id": "00106-7b5b05f8-90bf-47fc-9865-0cb43f866211",
    "deepnote_cell_type": "code",
    "deepnote_to_be_reexecuted": false,
    "execution_millis": 0,
    "execution_start": 1622489753567,
    "source_hash": "f8eb5554",
    "tags": []
   },
   "outputs": [
    {
     "name": "stdout",
     "output_type": "stream",
     "text": [
      "p value for Absences is 1.2513960927832126e-49\n",
      "It is Dependent (reject H0)\n"
     ]
    }
   ],
   "source": [
    "c, p, dof, expected = chi2_contingency(q3s_df)\n",
    "print(\"p value for Absences is \" + str(p))\n",
    "if p <= alpha:\n",
    "    print(\"It is Dependent (reject H0)\")\n",
    "else:\n",
    "    print(\"It is Independent (do not reject H0)\")\n"
   ]
  },
  {
   "cell_type": "markdown",
   "metadata": {
    "cell_id": "00107-90586758-4121-44c6-8772-3f8c78cce64c",
    "deepnote_cell_type": "markdown",
    "tags": []
   },
   "source": [
    "The number of days that students have been absent is displayed as a dependent characteristic, implying that it may have an impact on a student's class grades."
   ]
  },
  {
   "cell_type": "markdown",
   "metadata": {
    "cell_id": "00114-5fe25e1b-3365-4b2e-abf2-5ba521b6172e",
    "deepnote_cell_type": "markdown",
    "tags": []
   },
   "source": [
    "The collected and evaluated data shows that student absences can influence a student's grade in class. On absences of more than 7 days, the visualization depicts a large percentage of Low class grades. On absences of less than seven days, there is also a significant percentage of High class grades.\n",
    "\n",
    "The chi-square test confirms their relationship and disproves the null hypothesis that they are unrelated. As a result, this feature can be considered a factor that influences a student's grade in class."
   ]
  },
  {
   "cell_type": "markdown",
   "metadata": {
    "cell_id": "00054-75c8c294-e9b9-465f-89f4-3bf0e467fe32",
    "deepnote_cell_type": "markdown",
    "id": "ITtMyZZf55JH"
   },
   "source": [
    "#### ***Q4: Does visiting class resources result in higher class grades?***"
   ]
  },
  {
   "cell_type": "markdown",
   "metadata": {
    "cell_id": "00108-8f486db2-d2a8-4771-bfb4-45abdc581281",
    "deepnote_cell_type": "markdown",
    "tags": []
   },
   "source": [
    "We wanted to know if the total number of times a student visits a course content affects their academic performance. With this, we will be creatring a new dataframe by grouping the `VisitedResources` column by `Class`, then getting the mean per class."
   ]
  },
  {
   "cell_type": "code",
   "execution_count": 53,
   "metadata": {
    "cell_id": "00119-1cb34efd-fdd3-46da-b0c1-41a44552d278",
    "deepnote_cell_type": "code",
    "deepnote_to_be_reexecuted": false,
    "execution_millis": 83,
    "execution_start": 1622489753578,
    "source_hash": "6438fa14",
    "tags": []
   },
   "outputs": [
    {
     "data": {
      "text/html": [
       "<div>\n",
       "<style scoped>\n",
       "    .dataframe tbody tr th:only-of-type {\n",
       "        vertical-align: middle;\n",
       "    }\n",
       "\n",
       "    .dataframe tbody tr th {\n",
       "        vertical-align: top;\n",
       "    }\n",
       "\n",
       "    .dataframe thead th {\n",
       "        text-align: right;\n",
       "    }\n",
       "</style>\n",
       "<table border=\"1\" class=\"dataframe\">\n",
       "  <thead>\n",
       "    <tr style=\"text-align: right;\">\n",
       "      <th></th>\n",
       "      <th>VisitedResources</th>\n",
       "      <th>AnnouncementsView</th>\n",
       "      <th>Class</th>\n",
       "    </tr>\n",
       "  </thead>\n",
       "  <tbody>\n",
       "    <tr>\n",
       "      <th>0</th>\n",
       "      <td>16</td>\n",
       "      <td>2</td>\n",
       "      <td>M</td>\n",
       "    </tr>\n",
       "    <tr>\n",
       "      <th>1</th>\n",
       "      <td>20</td>\n",
       "      <td>3</td>\n",
       "      <td>M</td>\n",
       "    </tr>\n",
       "    <tr>\n",
       "      <th>2</th>\n",
       "      <td>7</td>\n",
       "      <td>0</td>\n",
       "      <td>L</td>\n",
       "    </tr>\n",
       "    <tr>\n",
       "      <th>3</th>\n",
       "      <td>25</td>\n",
       "      <td>5</td>\n",
       "      <td>L</td>\n",
       "    </tr>\n",
       "    <tr>\n",
       "      <th>4</th>\n",
       "      <td>50</td>\n",
       "      <td>12</td>\n",
       "      <td>M</td>\n",
       "    </tr>\n",
       "    <tr>\n",
       "      <th>...</th>\n",
       "      <td>...</td>\n",
       "      <td>...</td>\n",
       "      <td>...</td>\n",
       "    </tr>\n",
       "    <tr>\n",
       "      <th>475</th>\n",
       "      <td>4</td>\n",
       "      <td>5</td>\n",
       "      <td>L</td>\n",
       "    </tr>\n",
       "    <tr>\n",
       "      <th>476</th>\n",
       "      <td>77</td>\n",
       "      <td>14</td>\n",
       "      <td>M</td>\n",
       "    </tr>\n",
       "    <tr>\n",
       "      <th>477</th>\n",
       "      <td>74</td>\n",
       "      <td>25</td>\n",
       "      <td>M</td>\n",
       "    </tr>\n",
       "    <tr>\n",
       "      <th>478</th>\n",
       "      <td>17</td>\n",
       "      <td>14</td>\n",
       "      <td>L</td>\n",
       "    </tr>\n",
       "    <tr>\n",
       "      <th>479</th>\n",
       "      <td>14</td>\n",
       "      <td>23</td>\n",
       "      <td>L</td>\n",
       "    </tr>\n",
       "  </tbody>\n",
       "</table>\n",
       "<p>480 rows × 3 columns</p>\n",
       "</div>"
      ],
      "text/plain": [
       "     VisitedResources  AnnouncementsView Class\n",
       "0                  16                  2     M\n",
       "1                  20                  3     M\n",
       "2                   7                  0     L\n",
       "3                  25                  5     L\n",
       "4                  50                 12     M\n",
       "..                ...                ...   ...\n",
       "475                 4                  5     L\n",
       "476                77                 14     M\n",
       "477                74                 25     M\n",
       "478                17                 14     L\n",
       "479                14                 23     L\n",
       "\n",
       "[480 rows x 3 columns]"
      ]
     },
     "execution_count": 53,
     "metadata": {},
     "output_type": "execute_result"
    }
   ],
   "source": [
    "q4_df = spd_df[[\"VisitedResources\", \"AnnouncementsView\", \"Class\"]].copy()\n",
    "q4_df"
   ]
  },
  {
   "cell_type": "code",
   "execution_count": 54,
   "metadata": {
    "cell_id": "00055-f98432cb-1cc3-4215-ad14-523bd528fc40",
    "colab": {
     "base_uri": "https://localhost:8080/"
    },
    "deepnote_cell_type": "code",
    "deepnote_to_be_reexecuted": false,
    "executionInfo": {
     "elapsed": 811,
     "status": "ok",
     "timestamp": 1620279452591,
     "user": {
      "displayName": "Angeline Maris Gubat",
      "photoUrl": "https://lh3.googleusercontent.com/a-/AOh14Gijg6xgX0R_IA4o8GkF1xnv3D8-8kHv8i-V48U6=s64",
      "userId": "00875153666701401808"
     },
     "user_tz": -480
    },
    "execution_millis": 46,
    "execution_start": 1622489753629,
    "id": "7PPlKpJaIoXJ",
    "outputId": "92b582f8-7a62-486e-a328-9696068b35a0",
    "source_hash": "e79fcd34"
   },
   "outputs": [
    {
     "data": {
      "text/html": [
       "<div>\n",
       "<style scoped>\n",
       "    .dataframe tbody tr th:only-of-type {\n",
       "        vertical-align: middle;\n",
       "    }\n",
       "\n",
       "    .dataframe tbody tr th {\n",
       "        vertical-align: top;\n",
       "    }\n",
       "\n",
       "    .dataframe thead th {\n",
       "        text-align: right;\n",
       "    }\n",
       "</style>\n",
       "<table border=\"1\" class=\"dataframe\">\n",
       "  <thead>\n",
       "    <tr style=\"text-align: right;\">\n",
       "      <th></th>\n",
       "      <th>Class</th>\n",
       "      <th>VisitedResources</th>\n",
       "    </tr>\n",
       "  </thead>\n",
       "  <tbody>\n",
       "    <tr>\n",
       "      <th>0</th>\n",
       "      <td>H</td>\n",
       "      <td>78.746479</td>\n",
       "    </tr>\n",
       "    <tr>\n",
       "      <th>1</th>\n",
       "      <td>L</td>\n",
       "      <td>18.322835</td>\n",
       "    </tr>\n",
       "    <tr>\n",
       "      <th>2</th>\n",
       "      <td>M</td>\n",
       "      <td>60.635071</td>\n",
       "    </tr>\n",
       "  </tbody>\n",
       "</table>\n",
       "</div>"
      ],
      "text/plain": [
       "  Class  VisitedResources\n",
       "0     H         78.746479\n",
       "1     L         18.322835\n",
       "2     M         60.635071"
      ]
     },
     "execution_count": 54,
     "metadata": {},
     "output_type": "execute_result"
    }
   ],
   "source": [
    "q4_mean = q4_df.groupby(\"Class\")[\"VisitedResources\"].mean().reset_index()\n",
    "q4_mean"
   ]
  },
  {
   "cell_type": "markdown",
   "metadata": {
    "cell_id": "00120-9a0cdad2-8fd9-4e79-8a93-1b1fad54a817",
    "deepnote_cell_type": "markdown",
    "tags": []
   },
   "source": [
    "The dataframe will be then used to visualize the mean values of `VisitedResources` per `Class`."
   ]
  },
  {
   "cell_type": "code",
   "execution_count": 55,
   "metadata": {
    "allow_embed": false,
    "cell_id": "00120-70367755-146f-4823-95f9-87ea2c89965b",
    "colab": {
     "base_uri": "https://localhost:8080/"
    },
    "deepnote_cell_type": "code",
    "deepnote_to_be_reexecuted": false,
    "executionInfo": {
     "elapsed": 811,
     "status": "ok",
     "timestamp": 1620279452591,
     "user": {
      "displayName": "Angeline Maris Gubat",
      "photoUrl": "https://lh3.googleusercontent.com/a-/AOh14Gijg6xgX0R_IA4o8GkF1xnv3D8-8kHv8i-V48U6=s64",
      "userId": "00875153666701401808"
     },
     "user_tz": -480
    },
    "execution_millis": 104,
    "execution_start": 1622489753729,
    "id": "7PPlKpJaIoXJ",
    "outputId": "92b582f8-7a62-486e-a328-9696068b35a0",
    "source_hash": "b771b72a"
   },
   "outputs": [
    {
     "data": {
      "text/plain": [
       "<matplotlib.axes._subplots.AxesSubplot at 0x2dfac4f4748>"
      ]
     },
     "execution_count": 55,
     "metadata": {},
     "output_type": "execute_result"
    },
    {
     "data": {
      "image/png": "[encoded data removed]",
      "text/plain": [
       "<Figure size 432x288 with 1 Axes>"
      ]
     },
     "metadata": {
      "needs_background": "light"
     },
     "output_type": "display_data"
    }
   ],
   "source": [
    "sns.barplot(x=\"Class\", y=\"VisitedResources\", order=[\"L\", \"M\", \"H\"], data=q4_mean)"
   ]
  },
  {
   "cell_type": "markdown",
   "metadata": {
    "cell_id": "00110-417b443f-f95c-4307-882f-e2259a1ef11c",
    "deepnote_cell_type": "markdown",
    "deepnote_to_be_reexecuted": false,
    "execution_millis": 6,
    "execution_start": 1621962998924,
    "source_hash": "faf3613b",
    "tags": []
   },
   "source": [
    "As seen from the mean values, the __High (H)__ class has the highest value when it comes to visiting course content, while the __Low (L)__ class having the lowest value. This shows that students who have high grades does visit class resources more often than students who get lower grades."
   ]
  },
  {
   "cell_type": "markdown",
   "metadata": {
    "cell_id": "00111-9174e2b6-8758-4fdf-b825-f9b172d5ecd3",
    "deepnote_cell_type": "markdown",
    "tags": []
   },
   "source": [
    "Now, let's further explore the answer for the question. Since `VisitedResources` is related to `AnnouncementsView`—in a way where an announcement can lead a student to visit a class resource. With this, let's visualize the relationship of `VisitedResources` and `AnnouncementsView` with respect to `Class` through a scatter plot."
   ]
  },
  {
   "cell_type": "code",
   "execution_count": 56,
   "metadata": {
    "cell_id": "00124-0ca3c4fc-939f-408a-b450-2351816dddc9",
    "deepnote_cell_type": "code",
    "deepnote_to_be_reexecuted": false,
    "execution_millis": 283,
    "execution_start": 1622489753985,
    "source_hash": "2168ec0e",
    "tags": []
   },
   "outputs": [
    {
     "data": {
      "text/plain": [
       "<matplotlib.axes._subplots.AxesSubplot at 0x2dfaccc16c8>"
      ]
     },
     "execution_count": 56,
     "metadata": {},
     "output_type": "execute_result"
    },
    {
     "data": {
      "image/png": "[encoded data removed]",
      "text/plain": [
       "<Figure size 720x720 with 1 Axes>"
      ]
     },
     "metadata": {
      "needs_background": "light"
     },
     "output_type": "display_data"
    }
   ],
   "source": [
    "fig  = plt.subplots(figsize=(10,10))\n",
    "sns.scatterplot(x=q4_df.VisitedResources, y=q4_df.AnnouncementsView, hue=q4_df[\"Class\"], hue_order=['H','M','L'])\n"
   ]
  },
  {
   "cell_type": "markdown",
   "metadata": {
    "cell_id": "00126-d4930664-e0ba-4b87-a0d6-6acf39b7059c",
    "deepnote_cell_type": "markdown",
    "tags": []
   },
   "source": [
    "As seen on the scatter plot, students under the Low class tends to view announcements and visit class resources less often than those under the Medium and High class."
   ]
  },
  {
   "cell_type": "markdown",
   "metadata": {
    "cell_id": "00127-3ee9f680-710f-4da3-872b-d1134c0fbb8c",
    "deepnote_cell_type": "markdown",
    "tags": []
   },
   "source": [
    "The figures above have shown that majority of students with low grades visits class resources less frequently, whereas students with high grades visit class resources more often. With these, there's a high chance for a student to have a high grade when they diligently visit their class resources in contrast to those who do less frequently."
   ]
  },
  {
   "cell_type": "markdown",
   "metadata": {
    "cell_id": "00121-382a67fa-de3e-4b9e-b672-68a3b4be8fc3",
    "deepnote_cell_type": "markdown",
    "tags": []
   },
   "source": [
    "### Conclusion\n",
    "After performing data cleaning on the dataset and answering the four research questions through exploratory data analysis, the researchers conclude that:\n",
    "- Students who have high participation in relation to student activities reflect well in their academic performance and get higher grades in contrast to students who do not actively participate.\n",
    "- A parent's school participation and their satisfaction towards the school's system may influence their child's class grade of performance—which was furthered proved by using a chi-square test.\n",
    "- Absences of students greatly affter their class grades—which was furthered proved by using a chi-square test.\n",
    "- Students who visit class resources frequently tend to have higher grades than those students who visit the resources less often."
   ]
  },
  {
   "cell_type": "markdown",
   "metadata": {
    "created_in_deepnote_cell": true,
    "deepnote_cell_type": "markdown",
    "tags": []
   },
   "source": [
    "<a style='text-decoration:none;line-height:16px;display:flex;color:#5B5B62;padding:10px;justify-content:end;' href='https://deepnote.com?utm_source=created-in-deepnote-cell&projectId=e43fe2a7-e576-49d1-b96a-1dc3b3395062' target=\"_blank\">\n",
    "<img alt='Created in deepnote.com' style='display:inline;max-height:16px;margin:0px;margin-right:7.5px;' src='data:image/svg+xml;base64,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' > </img>\n",
    "Created in <span style='font-weight:600;margin-left:4px;'>Deepnote</span></a>"
   ]
  }
 ],
 "metadata": {
  "colab": {
   "collapsed_sections": [],
   "name": "DATASCI MCO.ipynb",
   "provenance": []
  },
  "deepnote": {
   "is_reactive": false
  },
  "deepnote_execution_queue": [],
  "deepnote_notebook_id": "b7323b58-eda0-4649-87fb-8ef410a43249",
  "kernelspec": {
   "display_name": "Python 3",
   "language": "python",
   "name": "python3"
  },
  "language_info": {
   "codemirror_mode": {
    "name": "ipython",
    "version": 3
   },
   "file_extension": ".py",
   "mimetype": "text/x-python",
   "name": "python",
   "nbconvert_exporter": "python",
   "pygments_lexer": "ipython3",
   "version": "3.7.6"
  }
 },
 "nbformat": 4,
 "nbformat_minor": 1
}
