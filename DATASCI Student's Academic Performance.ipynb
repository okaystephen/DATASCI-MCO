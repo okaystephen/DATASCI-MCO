{
 "cells": [
  {
   "cell_type": "markdown",
   "metadata": {
    "cell_id": "00000-a8cb2282-93bb-49f0-96d0-359065ed1912",
    "deepnote_cell_type": "markdown",
    "id": "qbeyNAv0NQ8m"
   },
   "source": [
    "# **Student's Academic Performance** \n",
    "#### *Members: Beaverly Cuasi, Allexandra Domingo, Angeline Gubat, Stephen Salamante, Ira Villanueva  (S12 - Couch Data Scientists)*\n",
    "This notebook focuses on the Student's Academic Performance Dataset which can be found [here](https://www.kaggle.com/aljarah/xAPI-Edu-Data). The first section shows the dataset information and dataset cleaning process, followed by data visualization using Exploratory Data Analysis (EDA). Lastly, this notebook aims to answer which factors affect a student’s academic grades. Specifically we wanted to know the following: <br><br>\n",
    "  * Do students who participate more have higher grades than those who participate less?\n",
    "  * Does parent participation and satisfaction affect a student’s performance?\n",
    "  * Do the number of class absences greatly affect the student’s grades?\n",
    "  * Does visiting class resources result in higher class grades?\n"
   ]
  },
  {
   "cell_type": "markdown",
   "metadata": {
    "cell_id": "00001-833e53b3-998f-48bc-89d1-4e5f7e2f1b25",
    "deepnote_cell_type": "markdown",
    "id": "5BaWZMz2U8xI"
   },
   "source": [
    "### **Dataset Information**  \n",
    "The Student's Performance Dataset is collected from Kalboard 360, a learning management, using a learner activity tracker tool called experience API (xAPI). The dataset contains **480** observations (rows) across **17** features (columns). Below is a brief description of each features:  \n",
    "* **`gender`**: Student's gender <br>\n",
    "* **`NationallTy`**: Student's nationality <br>\n",
    "* **`PlaceofBirth`**: Student's place of birth <br>\n",
    "* **`StageID`**: Educational level that student belongs to <br>\n",
    "* **`GradeID`**: Grade level that student belongs to <br>\n",
    "* **`SectionID`**: Classroom that student belongs to<br>\n",
    "* **`Topic`**: Course topic <br>\n",
    "* **`Semester`**: Current semester in a school year <br>\n",
    "* **`Relation`**: Parent who is responsible for a student<br>\n",
    "* **`raisedhands`**: Total number of times a student raises his/her hand  <br>\n",
    "* **`VisITedResources`**: Total number of times a student visited a course content <br>\n",
    "* **`AnnouncementsView`**: Total number of times a student checks the announcements <br>\n",
    "* **`Discussion`**: Total number of times a student participates on discussion groups <br>\n",
    "* **`ParentAnsweringSurvey`**: If a parent answered surveys provided by the school <br>\n",
    "* **`ParentSchoolSatisfaction`**: If a parent is satisfied or not <br>\n",
    "* **`StudentAbsenceDays`**: Total number of days that a student is absent <br>\n",
    "* **`Class`**: Represents the interval of a student total grade <br>\n",
    "  * <i>Low</i>: interval includes values from 0 to 69\n",
    "  * <i>Middle</i>: interval includes values from 70 to 89\n",
    "  * <i>High</i>: interval includes values from 90-100"
   ]
  },
  {
   "cell_type": "markdown",
   "metadata": {
    "cell_id": "00002-1e78de4a-0186-4b4a-bba8-50d019e74456",
    "deepnote_cell_type": "markdown",
    "id": "T3cRkz2LkPms"
   },
   "source": [
    "Let's view the observations and features of the dataset. But first, let's import the needed libraries for this notebook."
   ]
  },
  {
   "cell_type": "code",
   "execution_count": 1,
   "metadata": {
    "cell_id": "00003-1887509b-2c20-4b64-a87b-8fa106b50963",
    "deepnote_cell_type": "code",
    "deepnote_to_be_reexecuted": false,
    "execution_millis": 568,
    "execution_start": 1622605912112,
    "id": "S-8FIgu3lomu",
    "source_hash": "a87cf2a7"
   },
   "outputs": [],
   "source": [
    "import pandas as pd\n",
    "import numpy as np\n",
    "import matplotlib.pyplot as plt\n",
    "import seaborn as sns\n",
    "from scipy.stats import chi2_contingency"
   ]
  },
  {
   "cell_type": "markdown",
   "metadata": {
    "cell_id": "00004-d60ad066-6652-439d-9b64-e422849b186e",
    "deepnote_cell_type": "markdown",
    "id": "STzZAlygl_Gz"
   },
   "source": [
    "Using `read_csv`, we will be loading the dataset (xAPI-Edu-Data.csv) into a dataframe."
   ]
  },
  {
   "cell_type": "code",
   "execution_count": 2,
   "metadata": {
    "cell_id": "00005-69f55423-2f6d-4a87-9340-44c54a863455",
    "colab": {
     "base_uri": "https://localhost:8080/",
     "height": 224
    },
    "deepnote_cell_type": "code",
    "deepnote_to_be_reexecuted": false,
    "executionInfo": {
     "elapsed": 2967,
     "status": "ok",
     "timestamp": 1620279319403,
     "user": {
      "displayName": "Angeline Maris Gubat",
      "photoUrl": "https://lh3.googleusercontent.com/a-/AOh14Gijg6xgX0R_IA4o8GkF1xnv3D8-8kHv8i-V48U6=s64",
      "userId": "00875153666701401808"
     },
     "user_tz": -480
    },
    "execution_millis": 124,
    "execution_start": 1622605912688,
    "id": "wMpXFpxjndrL",
    "outputId": "7c16bf61-6e85-440b-c80b-f4004081afa1",
    "source_hash": "2e91823b"
   },
   "outputs": [
    {
     "data": {
      "application/vnd.deepnote.dataframe.v2+json": {
       "column_count": 17,
       "columns": [
        {
         "dtype": "object",
         "name": "gender",
         "stats": {
          "categories": [
           {
            "count": 5,
            "name": "F"
           }
          ],
          "nan_count": 0,
          "unique_count": 1
         }
        },
        {
         "dtype": "object",
         "name": "NationalITy",
         "stats": {
          "categories": [
           {
            "count": 5,
            "name": "Jordan"
           }
          ],
          "nan_count": 0,
          "unique_count": 1
         }
        },
        {
         "dtype": "object",
         "name": "PlaceofBirth",
         "stats": {
          "categories": [
           {
            "count": 5,
            "name": "Jordan"
           }
          ],
          "nan_count": 0,
          "unique_count": 1
         }
        },
        {
         "dtype": "object",
         "name": "StageID",
         "stats": {
          "categories": [
           {
            "count": 5,
            "name": "MiddleSchool"
           }
          ],
          "nan_count": 0,
          "unique_count": 1
         }
        },
        {
         "dtype": "object",
         "name": "GradeID",
         "stats": {
          "categories": [
           {
            "count": 5,
            "name": "G-08"
           }
          ],
          "nan_count": 0,
          "unique_count": 1
         }
        },
        {
         "dtype": "object",
         "name": "SectionID",
         "stats": {
          "categories": [
           {
            "count": 5,
            "name": "A"
           }
          ],
          "nan_count": 0,
          "unique_count": 1
         }
        },
        {
         "dtype": "object",
         "name": "Topic",
         "stats": {
          "categories": [
           {
            "count": 2,
            "name": "Geology"
           },
           {
            "count": 2,
            "name": "History"
           },
           {
            "count": 1,
            "name": "Chemistry"
           }
          ],
          "nan_count": 0,
          "unique_count": 3
         }
        },
        {
         "dtype": "object",
         "name": "Semester",
         "stats": {
          "categories": [
           {
            "count": 3,
            "name": "S"
           },
           {
            "count": 2,
            "name": "F"
           }
          ],
          "nan_count": 0,
          "unique_count": 2
         }
        },
        {
         "dtype": "object",
         "name": "Relation",
         "stats": {
          "categories": [
           {
            "count": 5,
            "name": "Father"
           }
          ],
          "nan_count": 0,
          "unique_count": 1
         }
        },
        {
         "dtype": "int64",
         "name": "raisedhands",
         "stats": {
          "histogram": [
           {
            "bin_end": 10,
            "bin_start": 5,
            "count": 1
           },
           {
            "bin_end": 15,
            "bin_start": 10,
            "count": 0
           },
           {
            "bin_end": 20,
            "bin_start": 15,
            "count": 0
           },
           {
            "bin_end": 25,
            "bin_start": 20,
            "count": 0
           },
           {
            "bin_end": 30,
            "bin_start": 25,
            "count": 0
           },
           {
            "bin_end": 35,
            "bin_start": 30,
            "count": 1
           },
           {
            "bin_end": 40,
            "bin_start": 35,
            "count": 1
           },
           {
            "bin_end": 45,
            "bin_start": 40,
            "count": 0
           },
           {
            "bin_end": 50,
            "bin_start": 45,
            "count": 0
           },
           {
            "bin_end": 55,
            "bin_start": 50,
            "count": 2
           }
          ],
          "max": "55",
          "min": "5",
          "nan_count": 0,
          "unique_count": 5
         }
        },
        {
         "dtype": "int64",
         "name": "VisITedResources",
         "stats": {
          "histogram": [
           {
            "bin_end": 11.3,
            "bin_start": 4,
            "count": 1
           },
           {
            "bin_end": 18.6,
            "bin_start": 11.3,
            "count": 2
           },
           {
            "bin_end": 25.9,
            "bin_start": 18.6,
            "count": 0
           },
           {
            "bin_end": 33.2,
            "bin_start": 25.9,
            "count": 0
           },
           {
            "bin_end": 40.5,
            "bin_start": 33.2,
            "count": 0
           },
           {
            "bin_end": 47.8,
            "bin_start": 40.5,
            "count": 0
           },
           {
            "bin_end": 55.1,
            "bin_start": 47.8,
            "count": 0
           },
           {
            "bin_end": 62.4,
            "bin_start": 55.1,
            "count": 0
           },
           {
            "bin_end": 69.7,
            "bin_start": 62.4,
            "count": 0
           },
           {
            "bin_end": 77,
            "bin_start": 69.7,
            "count": 2
           }
          ],
          "max": "77",
          "min": "4",
          "nan_count": 0,
          "unique_count": 5
         }
        },
        {
         "dtype": "int64",
         "name": "AnnouncementsView",
         "stats": {
          "histogram": [
           {
            "bin_end": 7,
            "bin_start": 5,
            "count": 1
           },
           {
            "bin_end": 9,
            "bin_start": 7,
            "count": 0
           },
           {
            "bin_end": 11,
            "bin_start": 9,
            "count": 0
           },
           {
            "bin_end": 13,
            "bin_start": 11,
            "count": 0
           },
           {
            "bin_end": 15,
            "bin_start": 13,
            "count": 2
           },
           {
            "bin_end": 17,
            "bin_start": 15,
            "count": 0
           },
           {
            "bin_end": 19,
            "bin_start": 17,
            "count": 0
           },
           {
            "bin_end": 21,
            "bin_start": 19,
            "count": 0
           },
           {
            "bin_end": 23,
            "bin_start": 21,
            "count": 0
           },
           {
            "bin_end": 25,
            "bin_start": 23,
            "count": 2
           }
          ],
          "max": "25",
          "min": "5",
          "nan_count": 0,
          "unique_count": 4
         }
        },
        {
         "dtype": "int64",
         "name": "Discussion",
         "stats": {
          "histogram": [
           {
            "bin_end": 13.4,
            "bin_start": 8,
            "count": 1
           },
           {
            "bin_end": 18.8,
            "bin_start": 13.4,
            "count": 0
           },
           {
            "bin_end": 24.200000000000003,
            "bin_start": 18.8,
            "count": 0
           },
           {
            "bin_end": 29.6,
            "bin_start": 24.200000000000003,
            "count": 2
           },
           {
            "bin_end": 35,
            "bin_start": 29.6,
            "count": 0
           },
           {
            "bin_end": 40.400000000000006,
            "bin_start": 35,
            "count": 0
           },
           {
            "bin_end": 45.800000000000004,
            "bin_start": 40.400000000000006,
            "count": 0
           },
           {
            "bin_end": 51.2,
            "bin_start": 45.800000000000004,
            "count": 0
           },
           {
            "bin_end": 56.6,
            "bin_start": 51.2,
            "count": 0
           },
           {
            "bin_end": 62,
            "bin_start": 56.6,
            "count": 2
           }
          ],
          "max": "62",
          "min": "8",
          "nan_count": 0,
          "unique_count": 5
         }
        },
        {
         "dtype": "object",
         "name": "ParentAnsweringSurvey",
         "stats": {
          "categories": [
           {
            "count": 5,
            "name": "No"
           }
          ],
          "nan_count": 0,
          "unique_count": 1
         }
        },
        {
         "dtype": "object",
         "name": "ParentschoolSatisfaction",
         "stats": {
          "categories": [
           {
            "count": 5,
            "name": "Bad"
           }
          ],
          "nan_count": 0,
          "unique_count": 1
         }
        },
        {
         "dtype": "object",
         "name": "StudentAbsenceDays",
         "stats": {
          "categories": [
           {
            "count": 3,
            "name": "Above-7"
           },
           {
            "count": 2,
            "name": "Under-7"
           }
          ],
          "nan_count": 0,
          "unique_count": 2
         }
        },
        {
         "dtype": "object",
         "name": "Class",
         "stats": {
          "categories": [
           {
            "count": 3,
            "name": "L"
           },
           {
            "count": 2,
            "name": "M"
           }
          ],
          "nan_count": 0,
          "unique_count": 2
         }
        },
        {
         "dtype": "int64",
         "name": "_deepnote_index_column"
        }
       ],
       "row_count": 5,
       "rows_bottom": null,
       "rows_top": [
        {
         "AnnouncementsView": 5,
         "Class": "L",
         "Discussion": 8,
         "GradeID": "G-08",
         "NationalITy": "Jordan",
         "ParentAnsweringSurvey": "No",
         "ParentschoolSatisfaction": "Bad",
         "PlaceofBirth": "Jordan",
         "Relation": "Father",
         "SectionID": "A",
         "Semester": "S",
         "StageID": "MiddleSchool",
         "StudentAbsenceDays": "Above-7",
         "Topic": "Chemistry",
         "VisITedResources": 4,
         "_deepnote_index_column": 475,
         "gender": "F",
         "raisedhands": 5
        },
        {
         "AnnouncementsView": 14,
         "Class": "M",
         "Discussion": 28,
         "GradeID": "G-08",
         "NationalITy": "Jordan",
         "ParentAnsweringSurvey": "No",
         "ParentschoolSatisfaction": "Bad",
         "PlaceofBirth": "Jordan",
         "Relation": "Father",
         "SectionID": "A",
         "Semester": "F",
         "StageID": "MiddleSchool",
         "StudentAbsenceDays": "Under-7",
         "Topic": "Geology",
         "VisITedResources": 77,
         "_deepnote_index_column": 476,
         "gender": "F",
         "raisedhands": 50
        },
        {
         "AnnouncementsView": 25,
         "Class": "M",
         "Discussion": 29,
         "GradeID": "G-08",
         "NationalITy": "Jordan",
         "ParentAnsweringSurvey": "No",
         "ParentschoolSatisfaction": "Bad",
         "PlaceofBirth": "Jordan",
         "Relation": "Father",
         "SectionID": "A",
         "Semester": "S",
         "StageID": "MiddleSchool",
         "StudentAbsenceDays": "Under-7",
         "Topic": "Geology",
         "VisITedResources": 74,
         "_deepnote_index_column": 477,
         "gender": "F",
         "raisedhands": 55
        },
        {
         "AnnouncementsView": 14,
         "Class": "L",
         "Discussion": 57,
         "GradeID": "G-08",
         "NationalITy": "Jordan",
         "ParentAnsweringSurvey": "No",
         "ParentschoolSatisfaction": "Bad",
         "PlaceofBirth": "Jordan",
         "Relation": "Father",
         "SectionID": "A",
         "Semester": "F",
         "StageID": "MiddleSchool",
         "StudentAbsenceDays": "Above-7",
         "Topic": "History",
         "VisITedResources": 17,
         "_deepnote_index_column": 478,
         "gender": "F",
         "raisedhands": 30
        },
        {
         "AnnouncementsView": 23,
         "Class": "L",
         "Discussion": 62,
         "GradeID": "G-08",
         "NationalITy": "Jordan",
         "ParentAnsweringSurvey": "No",
         "ParentschoolSatisfaction": "Bad",
         "PlaceofBirth": "Jordan",
         "Relation": "Father",
         "SectionID": "A",
         "Semester": "S",
         "StageID": "MiddleSchool",
         "StudentAbsenceDays": "Above-7",
         "Topic": "History",
         "VisITedResources": 14,
         "_deepnote_index_column": 479,
         "gender": "F",
         "raisedhands": 35
        }
       ]
      },
      "text/html": [
       "<div>\n",
       "<style scoped>\n",
       "    .dataframe tbody tr th:only-of-type {\n",
       "        vertical-align: middle;\n",
       "    }\n",
       "\n",
       "    .dataframe tbody tr th {\n",
       "        vertical-align: top;\n",
       "    }\n",
       "\n",
       "    .dataframe thead th {\n",
       "        text-align: right;\n",
       "    }\n",
       "</style>\n",
       "<table border=\"1\" class=\"dataframe\">\n",
       "  <thead>\n",
       "    <tr style=\"text-align: right;\">\n",
       "      <th></th>\n",
       "      <th>gender</th>\n",
       "      <th>NationalITy</th>\n",
       "      <th>PlaceofBirth</th>\n",
       "      <th>StageID</th>\n",
       "      <th>GradeID</th>\n",
       "      <th>SectionID</th>\n",
       "      <th>Topic</th>\n",
       "      <th>Semester</th>\n",
       "      <th>Relation</th>\n",
       "      <th>raisedhands</th>\n",
       "      <th>VisITedResources</th>\n",
       "      <th>AnnouncementsView</th>\n",
       "      <th>Discussion</th>\n",
       "      <th>ParentAnsweringSurvey</th>\n",
       "      <th>ParentschoolSatisfaction</th>\n",
       "      <th>StudentAbsenceDays</th>\n",
       "      <th>Class</th>\n",
       "    </tr>\n",
       "  </thead>\n",
       "  <tbody>\n",
       "    <tr>\n",
       "      <th>475</th>\n",
       "      <td>F</td>\n",
       "      <td>Jordan</td>\n",
       "      <td>Jordan</td>\n",
       "      <td>MiddleSchool</td>\n",
       "      <td>G-08</td>\n",
       "      <td>A</td>\n",
       "      <td>Chemistry</td>\n",
       "      <td>S</td>\n",
       "      <td>Father</td>\n",
       "      <td>5</td>\n",
       "      <td>4</td>\n",
       "      <td>5</td>\n",
       "      <td>8</td>\n",
       "      <td>No</td>\n",
       "      <td>Bad</td>\n",
       "      <td>Above-7</td>\n",
       "      <td>L</td>\n",
       "    </tr>\n",
       "    <tr>\n",
       "      <th>476</th>\n",
       "      <td>F</td>\n",
       "      <td>Jordan</td>\n",
       "      <td>Jordan</td>\n",
       "      <td>MiddleSchool</td>\n",
       "      <td>G-08</td>\n",
       "      <td>A</td>\n",
       "      <td>Geology</td>\n",
       "      <td>F</td>\n",
       "      <td>Father</td>\n",
       "      <td>50</td>\n",
       "      <td>77</td>\n",
       "      <td>14</td>\n",
       "      <td>28</td>\n",
       "      <td>No</td>\n",
       "      <td>Bad</td>\n",
       "      <td>Under-7</td>\n",
       "      <td>M</td>\n",
       "    </tr>\n",
       "    <tr>\n",
       "      <th>477</th>\n",
       "      <td>F</td>\n",
       "      <td>Jordan</td>\n",
       "      <td>Jordan</td>\n",
       "      <td>MiddleSchool</td>\n",
       "      <td>G-08</td>\n",
       "      <td>A</td>\n",
       "      <td>Geology</td>\n",
       "      <td>S</td>\n",
       "      <td>Father</td>\n",
       "      <td>55</td>\n",
       "      <td>74</td>\n",
       "      <td>25</td>\n",
       "      <td>29</td>\n",
       "      <td>No</td>\n",
       "      <td>Bad</td>\n",
       "      <td>Under-7</td>\n",
       "      <td>M</td>\n",
       "    </tr>\n",
       "    <tr>\n",
       "      <th>478</th>\n",
       "      <td>F</td>\n",
       "      <td>Jordan</td>\n",
       "      <td>Jordan</td>\n",
       "      <td>MiddleSchool</td>\n",
       "      <td>G-08</td>\n",
       "      <td>A</td>\n",
       "      <td>History</td>\n",
       "      <td>F</td>\n",
       "      <td>Father</td>\n",
       "      <td>30</td>\n",
       "      <td>17</td>\n",
       "      <td>14</td>\n",
       "      <td>57</td>\n",
       "      <td>No</td>\n",
       "      <td>Bad</td>\n",
       "      <td>Above-7</td>\n",
       "      <td>L</td>\n",
       "    </tr>\n",
       "    <tr>\n",
       "      <th>479</th>\n",
       "      <td>F</td>\n",
       "      <td>Jordan</td>\n",
       "      <td>Jordan</td>\n",
       "      <td>MiddleSchool</td>\n",
       "      <td>G-08</td>\n",
       "      <td>A</td>\n",
       "      <td>History</td>\n",
       "      <td>S</td>\n",
       "      <td>Father</td>\n",
       "      <td>35</td>\n",
       "      <td>14</td>\n",
       "      <td>23</td>\n",
       "      <td>62</td>\n",
       "      <td>No</td>\n",
       "      <td>Bad</td>\n",
       "      <td>Above-7</td>\n",
       "      <td>L</td>\n",
       "    </tr>\n",
       "  </tbody>\n",
       "</table>\n",
       "</div>"
      ],
      "text/plain": [
       "    gender NationalITy PlaceofBirth       StageID GradeID SectionID  \\\n",
       "475      F      Jordan       Jordan  MiddleSchool    G-08         A   \n",
       "476      F      Jordan       Jordan  MiddleSchool    G-08         A   \n",
       "477      F      Jordan       Jordan  MiddleSchool    G-08         A   \n",
       "478      F      Jordan       Jordan  MiddleSchool    G-08         A   \n",
       "479      F      Jordan       Jordan  MiddleSchool    G-08         A   \n",
       "\n",
       "         Topic Semester Relation  raisedhands  VisITedResources  \\\n",
       "475  Chemistry        S   Father            5                 4   \n",
       "476    Geology        F   Father           50                77   \n",
       "477    Geology        S   Father           55                74   \n",
       "478    History        F   Father           30                17   \n",
       "479    History        S   Father           35                14   \n",
       "\n",
       "     AnnouncementsView  Discussion ParentAnsweringSurvey  \\\n",
       "475                  5           8                    No   \n",
       "476                 14          28                    No   \n",
       "477                 25          29                    No   \n",
       "478                 14          57                    No   \n",
       "479                 23          62                    No   \n",
       "\n",
       "    ParentschoolSatisfaction StudentAbsenceDays Class  \n",
       "475                      Bad            Above-7     L  \n",
       "476                      Bad            Under-7     M  \n",
       "477                      Bad            Under-7     M  \n",
       "478                      Bad            Above-7     L  \n",
       "479                      Bad            Above-7     L  "
      ]
     },
     "execution_count": 2,
     "metadata": {},
     "output_type": "execute_result"
    }
   ],
   "source": [
    "url = 'https://raw.githubusercontent.com/okaystephen/DATASCI-MCO/main/xAPI-Edu-Data.csv'\n",
    "spd_df = pd.read_csv(url)  \n",
    "\n",
    "# Last 5 rows in the dataset:\n",
    "spd_df.tail()"
   ]
  },
  {
   "cell_type": "markdown",
   "metadata": {
    "cell_id": "00006-8a00d9f2-6c27-4178-a49f-d92f97dda175",
    "deepnote_cell_type": "markdown",
    "id": "U0xIyjOvogV0"
   },
   "source": [
    "Let's see now its general information using `info()` function and check if there are null values in each columns using `isnull()` and `sum`."
   ]
  },
  {
   "cell_type": "code",
   "execution_count": 3,
   "metadata": {
    "cell_id": "00007-eb58fcdc-b2e6-4166-a27b-9bd6de212743",
    "colab": {
     "base_uri": "https://localhost:8080/"
    },
    "deepnote_cell_type": "code",
    "deepnote_to_be_reexecuted": false,
    "executionInfo": {
     "elapsed": 1227,
     "status": "ok",
     "timestamp": 1620279322192,
     "user": {
      "displayName": "Angeline Maris Gubat",
      "photoUrl": "https://lh3.googleusercontent.com/a-/AOh14Gijg6xgX0R_IA4o8GkF1xnv3D8-8kHv8i-V48U6=s64",
      "userId": "00875153666701401808"
     },
     "user_tz": -480
    },
    "execution_millis": 16,
    "execution_start": 1622605912803,
    "id": "tFWQHA6couuq",
    "outputId": "aacc1e6c-2058-4d67-bb0d-529af783f73e",
    "source_hash": "befba77c"
   },
   "outputs": [
    {
     "name": "stdout",
     "output_type": "stream",
     "text": [
      "<class 'pandas.core.frame.DataFrame'>\n",
      "RangeIndex: 480 entries, 0 to 479\n",
      "Data columns (total 17 columns):\n",
      " #   Column                    Non-Null Count  Dtype \n",
      "---  ------                    --------------  ----- \n",
      " 0   gender                    480 non-null    object\n",
      " 1   NationalITy               480 non-null    object\n",
      " 2   PlaceofBirth              480 non-null    object\n",
      " 3   StageID                   480 non-null    object\n",
      " 4   GradeID                   480 non-null    object\n",
      " 5   SectionID                 480 non-null    object\n",
      " 6   Topic                     480 non-null    object\n",
      " 7   Semester                  480 non-null    object\n",
      " 8   Relation                  480 non-null    object\n",
      " 9   raisedhands               480 non-null    int64 \n",
      " 10  VisITedResources          480 non-null    int64 \n",
      " 11  AnnouncementsView         480 non-null    int64 \n",
      " 12  Discussion                480 non-null    int64 \n",
      " 13  ParentAnsweringSurvey     480 non-null    object\n",
      " 14  ParentschoolSatisfaction  480 non-null    object\n",
      " 15  StudentAbsenceDays        480 non-null    object\n",
      " 16  Class                     480 non-null    object\n",
      "dtypes: int64(4), object(13)\n",
      "memory usage: 63.9+ KB\n"
     ]
    }
   ],
   "source": [
    "# Dataset's variables type:\n",
    "spd_df.info()"
   ]
  },
  {
   "cell_type": "code",
   "execution_count": 4,
   "metadata": {
    "cell_id": "00008-dc7505c9-831c-4181-8f39-4808c488198c",
    "colab": {
     "base_uri": "https://localhost:8080/"
    },
    "deepnote_cell_type": "code",
    "deepnote_to_be_reexecuted": false,
    "executionInfo": {
     "elapsed": 860,
     "status": "ok",
     "timestamp": 1620279325359,
     "user": {
      "displayName": "Angeline Maris Gubat",
      "photoUrl": "https://lh3.googleusercontent.com/a-/AOh14Gijg6xgX0R_IA4o8GkF1xnv3D8-8kHv8i-V48U6=s64",
      "userId": "00875153666701401808"
     },
     "user_tz": -480
    },
    "execution_millis": 26,
    "execution_start": 1622605912815,
    "id": "EPDbCiXjqmsV",
    "outputId": "b22dff31-2bee-4a2a-b512-a818fec3f525",
    "source_hash": "1a9d023d"
   },
   "outputs": [
    {
     "data": {
      "text/plain": [
       "gender                      0\n",
       "NationalITy                 0\n",
       "PlaceofBirth                0\n",
       "StageID                     0\n",
       "GradeID                     0\n",
       "SectionID                   0\n",
       "Topic                       0\n",
       "Semester                    0\n",
       "Relation                    0\n",
       "raisedhands                 0\n",
       "VisITedResources            0\n",
       "AnnouncementsView           0\n",
       "Discussion                  0\n",
       "ParentAnsweringSurvey       0\n",
       "ParentschoolSatisfaction    0\n",
       "StudentAbsenceDays          0\n",
       "Class                       0\n",
       "dtype: int64"
      ]
     },
     "execution_count": 4,
     "metadata": {},
     "output_type": "execute_result"
    }
   ],
   "source": [
    "spd_df.isnull().sum()"
   ]
  },
  {
   "cell_type": "markdown",
   "metadata": {
    "cell_id": "00009-32263025-5503-42af-8007-467790007b1e",
    "deepnote_cell_type": "markdown",
    "id": "jC8D9CA-o9mZ"
   },
   "source": [
    "We can see that there are no null values or missing values in any columns so there will be no problem in the dataset in handling null or NaN values. Before analyzing our data, let's further explore the dataset for data cleaning.  "
   ]
  },
  {
   "cell_type": "markdown",
   "metadata": {
    "cell_id": "00010-f5340a78-c891-4a6a-bd0b-8d6fd475bfcc",
    "deepnote_cell_type": "markdown",
    "id": "jC8D9CA-o9mZ"
   },
   "source": [
    "### **Data Cleaning** "
   ]
  },
  {
   "cell_type": "markdown",
   "metadata": {
    "cell_id": "00011-aeea1542-2323-41dc-ac8e-d8d75df51979",
    "deepnote_cell_type": "markdown",
    "id": "jC8D9CA-o9mZ"
   },
   "source": [
    "#### **Renaming feature names**  \n",
    "When we viewed the information of the dataset, we saw that some column names doesn't have the same format. Some columns are all in lowercase while some letters are capitalized like `NationalITy` and `VisITedResources`. It is a good approach to rename columns to ones that can be easily recalled later on. Here are the columns that we will be renaming:  \n",
    "* `NationalITy` --> `Nationality`\n",
    "* `PlaceofBirth` --> `BirthPlace`\n",
    "* `VisITedResources` --> `VistedResources`\n",
    "* `ParentschoolSatisfaction` --> `ParentSchoolSatisfaction`\n",
    "* `raisedhands` --> `RaisedHands`"
   ]
  },
  {
   "cell_type": "code",
   "execution_count": 5,
   "metadata": {
    "cell_id": "00010-1dccb324-da75-4805-b5be-2815f086a8db",
    "deepnote_cell_type": "code",
    "deepnote_to_be_reexecuted": false,
    "execution_millis": 4,
    "execution_start": 1622605912826,
    "id": "Nb7pnOnUxk23",
    "source_hash": "a8be05ef"
   },
   "outputs": [],
   "source": [
    "spd_df.rename(columns={'NationalITy':'Nationality',\n",
    "'PlaceofBirth': 'BirthPlace',\n",
    "'gender': 'Gender',\n",
    "'VisITedResources':'VisitedResources',\n",
    "'ParentschoolSatisfaction':'ParentSchoolSatisfaction',\n",
    "'raisedhands':'RaisedHands'}, inplace=True) "
   ]
  },
  {
   "cell_type": "markdown",
   "metadata": {
    "cell_id": "00011-fa4ae265-d2e2-4cfe-9afa-67a5e2d3843e",
    "deepnote_cell_type": "markdown",
    "id": "JqUWGuu6zN4X"
   },
   "source": [
    "Let's view the dataset with the renamed columns."
   ]
  },
  {
   "cell_type": "code",
   "execution_count": 6,
   "metadata": {
    "cell_id": "00012-d6ba9672-e5d8-4358-9abf-2563adafd814",
    "colab": {
     "base_uri": "https://localhost:8080/",
     "height": 224
    },
    "deepnote_cell_type": "code",
    "deepnote_to_be_reexecuted": false,
    "executionInfo": {
     "elapsed": 806,
     "status": "ok",
     "timestamp": 1620279332315,
     "user": {
      "displayName": "Angeline Maris Gubat",
      "photoUrl": "https://lh3.googleusercontent.com/a-/AOh14Gijg6xgX0R_IA4o8GkF1xnv3D8-8kHv8i-V48U6=s64",
      "userId": "00875153666701401808"
     },
     "user_tz": -480
    },
    "execution_millis": 122,
    "execution_start": 1622605912837,
    "id": "8RASwgzAzSPl",
    "outputId": "939ee989-b868-480d-afa6-d217fefc72e1",
    "source_hash": "e22e2d41"
   },
   "outputs": [
    {
     "data": {
      "application/vnd.deepnote.dataframe.v2+json": {
       "column_count": 17,
       "columns": [
        {
         "dtype": "object",
         "name": "Gender",
         "stats": {
          "categories": [
           {
            "count": 5,
            "name": "M"
           }
          ],
          "nan_count": 0,
          "unique_count": 1
         }
        },
        {
         "dtype": "object",
         "name": "Nationality",
         "stats": {
          "categories": [
           {
            "count": 5,
            "name": "KW"
           }
          ],
          "nan_count": 0,
          "unique_count": 1
         }
        },
        {
         "dtype": "object",
         "name": "BirthPlace",
         "stats": {
          "categories": [
           {
            "count": 5,
            "name": "KuwaIT"
           }
          ],
          "nan_count": 0,
          "unique_count": 1
         }
        },
        {
         "dtype": "object",
         "name": "StageID",
         "stats": {
          "categories": [
           {
            "count": 5,
            "name": "lowerlevel"
           }
          ],
          "nan_count": 0,
          "unique_count": 1
         }
        },
        {
         "dtype": "object",
         "name": "GradeID",
         "stats": {
          "categories": [
           {
            "count": 5,
            "name": "G-04"
           }
          ],
          "nan_count": 0,
          "unique_count": 1
         }
        },
        {
         "dtype": "object",
         "name": "SectionID",
         "stats": {
          "categories": [
           {
            "count": 5,
            "name": "A"
           }
          ],
          "nan_count": 0,
          "unique_count": 1
         }
        },
        {
         "dtype": "object",
         "name": "Topic",
         "stats": {
          "categories": [
           {
            "count": 5,
            "name": "IT"
           }
          ],
          "nan_count": 0,
          "unique_count": 1
         }
        },
        {
         "dtype": "object",
         "name": "Semester",
         "stats": {
          "categories": [
           {
            "count": 5,
            "name": "F"
           }
          ],
          "nan_count": 0,
          "unique_count": 1
         }
        },
        {
         "dtype": "object",
         "name": "Relation",
         "stats": {
          "categories": [
           {
            "count": 5,
            "name": "Father"
           }
          ],
          "nan_count": 0,
          "unique_count": 1
         }
        },
        {
         "dtype": "int64",
         "name": "RaisedHands",
         "stats": {
          "histogram": [
           {
            "bin_end": 13,
            "bin_start": 10,
            "count": 1
           },
           {
            "bin_end": 16,
            "bin_start": 13,
            "count": 1
           },
           {
            "bin_end": 19,
            "bin_start": 16,
            "count": 0
           },
           {
            "bin_end": 22,
            "bin_start": 19,
            "count": 1
           },
           {
            "bin_end": 25,
            "bin_start": 22,
            "count": 0
           },
           {
            "bin_end": 28,
            "bin_start": 25,
            "count": 0
           },
           {
            "bin_end": 31,
            "bin_start": 28,
            "count": 1
           },
           {
            "bin_end": 34,
            "bin_start": 31,
            "count": 0
           },
           {
            "bin_end": 37,
            "bin_start": 34,
            "count": 0
           },
           {
            "bin_end": 40,
            "bin_start": 37,
            "count": 1
           }
          ],
          "max": "40",
          "min": "10",
          "nan_count": 0,
          "unique_count": 5
         }
        },
        {
         "dtype": "int64",
         "name": "VisitedResources",
         "stats": {
          "histogram": [
           {
            "bin_end": 11.3,
            "bin_start": 7,
            "count": 1
           },
           {
            "bin_end": 15.6,
            "bin_start": 11.3,
            "count": 0
           },
           {
            "bin_end": 19.9,
            "bin_start": 15.6,
            "count": 1
           },
           {
            "bin_end": 24.2,
            "bin_start": 19.9,
            "count": 1
           },
           {
            "bin_end": 28.5,
            "bin_start": 24.2,
            "count": 1
           },
           {
            "bin_end": 32.8,
            "bin_start": 28.5,
            "count": 0
           },
           {
            "bin_end": 37.099999999999994,
            "bin_start": 32.8,
            "count": 0
           },
           {
            "bin_end": 41.4,
            "bin_start": 37.099999999999994,
            "count": 0
           },
           {
            "bin_end": 45.699999999999996,
            "bin_start": 41.4,
            "count": 0
           },
           {
            "bin_end": 50,
            "bin_start": 45.699999999999996,
            "count": 1
           }
          ],
          "max": "50",
          "min": "7",
          "nan_count": 0,
          "unique_count": 5
         }
        },
        {
         "dtype": "int64",
         "name": "AnnouncementsView",
         "stats": {
          "histogram": [
           {
            "bin_end": 1.2,
            "bin_start": 0,
            "count": 1
           },
           {
            "bin_end": 2.4,
            "bin_start": 1.2,
            "count": 1
           },
           {
            "bin_end": 3.5999999999999996,
            "bin_start": 2.4,
            "count": 1
           },
           {
            "bin_end": 4.8,
            "bin_start": 3.5999999999999996,
            "count": 0
           },
           {
            "bin_end": 6,
            "bin_start": 4.8,
            "count": 1
           },
           {
            "bin_end": 7.199999999999999,
            "bin_start": 6,
            "count": 0
           },
           {
            "bin_end": 8.4,
            "bin_start": 7.199999999999999,
            "count": 0
           },
           {
            "bin_end": 9.6,
            "bin_start": 8.4,
            "count": 0
           },
           {
            "bin_end": 10.799999999999999,
            "bin_start": 9.6,
            "count": 0
           },
           {
            "bin_end": 12,
            "bin_start": 10.799999999999999,
            "count": 1
           }
          ],
          "max": "12",
          "min": "0",
          "nan_count": 0,
          "unique_count": 5
         }
        },
        {
         "dtype": "int64",
         "name": "Discussion",
         "stats": {
          "histogram": [
           {
            "bin_end": 23,
            "bin_start": 20,
            "count": 1
           },
           {
            "bin_end": 26,
            "bin_start": 23,
            "count": 1
           },
           {
            "bin_end": 29,
            "bin_start": 26,
            "count": 0
           },
           {
            "bin_end": 32,
            "bin_start": 29,
            "count": 1
           },
           {
            "bin_end": 35,
            "bin_start": 32,
            "count": 0
           },
           {
            "bin_end": 38,
            "bin_start": 35,
            "count": 1
           },
           {
            "bin_end": 41,
            "bin_start": 38,
            "count": 0
           },
           {
            "bin_end": 44,
            "bin_start": 41,
            "count": 0
           },
           {
            "bin_end": 47,
            "bin_start": 44,
            "count": 0
           },
           {
            "bin_end": 50,
            "bin_start": 47,
            "count": 1
           }
          ],
          "max": "50",
          "min": "20",
          "nan_count": 0,
          "unique_count": 5
         }
        },
        {
         "dtype": "object",
         "name": "ParentAnsweringSurvey",
         "stats": {
          "categories": [
           {
            "count": 3,
            "name": "No"
           },
           {
            "count": 2,
            "name": "Yes"
           }
          ],
          "nan_count": 0,
          "unique_count": 2
         }
        },
        {
         "dtype": "object",
         "name": "ParentSchoolSatisfaction",
         "stats": {
          "categories": [
           {
            "count": 3,
            "name": "Bad"
           },
           {
            "count": 2,
            "name": "Good"
           }
          ],
          "nan_count": 0,
          "unique_count": 2
         }
        },
        {
         "dtype": "object",
         "name": "StudentAbsenceDays",
         "stats": {
          "categories": [
           {
            "count": 3,
            "name": "Above-7"
           },
           {
            "count": 2,
            "name": "Under-7"
           }
          ],
          "nan_count": 0,
          "unique_count": 2
         }
        },
        {
         "dtype": "object",
         "name": "Class",
         "stats": {
          "categories": [
           {
            "count": 3,
            "name": "M"
           },
           {
            "count": 2,
            "name": "L"
           }
          ],
          "nan_count": 0,
          "unique_count": 2
         }
        },
        {
         "dtype": "int64",
         "name": "_deepnote_index_column"
        }
       ],
       "row_count": 5,
       "rows_bottom": null,
       "rows_top": [
        {
         "AnnouncementsView": 2,
         "BirthPlace": "KuwaIT",
         "Class": "M",
         "Discussion": 20,
         "Gender": "M",
         "GradeID": "G-04",
         "Nationality": "KW",
         "ParentAnsweringSurvey": "Yes",
         "ParentSchoolSatisfaction": "Good",
         "RaisedHands": 15,
         "Relation": "Father",
         "SectionID": "A",
         "Semester": "F",
         "StageID": "lowerlevel",
         "StudentAbsenceDays": "Under-7",
         "Topic": "IT",
         "VisitedResources": 16,
         "_deepnote_index_column": 0
        },
        {
         "AnnouncementsView": 3,
         "BirthPlace": "KuwaIT",
         "Class": "M",
         "Discussion": 25,
         "Gender": "M",
         "GradeID": "G-04",
         "Nationality": "KW",
         "ParentAnsweringSurvey": "Yes",
         "ParentSchoolSatisfaction": "Good",
         "RaisedHands": 20,
         "Relation": "Father",
         "SectionID": "A",
         "Semester": "F",
         "StageID": "lowerlevel",
         "StudentAbsenceDays": "Under-7",
         "Topic": "IT",
         "VisitedResources": 20,
         "_deepnote_index_column": 1
        },
        {
         "AnnouncementsView": 0,
         "BirthPlace": "KuwaIT",
         "Class": "L",
         "Discussion": 30,
         "Gender": "M",
         "GradeID": "G-04",
         "Nationality": "KW",
         "ParentAnsweringSurvey": "No",
         "ParentSchoolSatisfaction": "Bad",
         "RaisedHands": 10,
         "Relation": "Father",
         "SectionID": "A",
         "Semester": "F",
         "StageID": "lowerlevel",
         "StudentAbsenceDays": "Above-7",
         "Topic": "IT",
         "VisitedResources": 7,
         "_deepnote_index_column": 2
        },
        {
         "AnnouncementsView": 5,
         "BirthPlace": "KuwaIT",
         "Class": "L",
         "Discussion": 35,
         "Gender": "M",
         "GradeID": "G-04",
         "Nationality": "KW",
         "ParentAnsweringSurvey": "No",
         "ParentSchoolSatisfaction": "Bad",
         "RaisedHands": 30,
         "Relation": "Father",
         "SectionID": "A",
         "Semester": "F",
         "StageID": "lowerlevel",
         "StudentAbsenceDays": "Above-7",
         "Topic": "IT",
         "VisitedResources": 25,
         "_deepnote_index_column": 3
        },
        {
         "AnnouncementsView": 12,
         "BirthPlace": "KuwaIT",
         "Class": "M",
         "Discussion": 50,
         "Gender": "M",
         "GradeID": "G-04",
         "Nationality": "KW",
         "ParentAnsweringSurvey": "No",
         "ParentSchoolSatisfaction": "Bad",
         "RaisedHands": 40,
         "Relation": "Father",
         "SectionID": "A",
         "Semester": "F",
         "StageID": "lowerlevel",
         "StudentAbsenceDays": "Above-7",
         "Topic": "IT",
         "VisitedResources": 50,
         "_deepnote_index_column": 4
        }
       ]
      },
      "text/html": [
       "<div>\n",
       "<style scoped>\n",
       "    .dataframe tbody tr th:only-of-type {\n",
       "        vertical-align: middle;\n",
       "    }\n",
       "\n",
       "    .dataframe tbody tr th {\n",
       "        vertical-align: top;\n",
       "    }\n",
       "\n",
       "    .dataframe thead th {\n",
       "        text-align: right;\n",
       "    }\n",
       "</style>\n",
       "<table border=\"1\" class=\"dataframe\">\n",
       "  <thead>\n",
       "    <tr style=\"text-align: right;\">\n",
       "      <th></th>\n",
       "      <th>Gender</th>\n",
       "      <th>Nationality</th>\n",
       "      <th>BirthPlace</th>\n",
       "      <th>StageID</th>\n",
       "      <th>GradeID</th>\n",
       "      <th>SectionID</th>\n",
       "      <th>Topic</th>\n",
       "      <th>Semester</th>\n",
       "      <th>Relation</th>\n",
       "      <th>RaisedHands</th>\n",
       "      <th>VisitedResources</th>\n",
       "      <th>AnnouncementsView</th>\n",
       "      <th>Discussion</th>\n",
       "      <th>ParentAnsweringSurvey</th>\n",
       "      <th>ParentSchoolSatisfaction</th>\n",
       "      <th>StudentAbsenceDays</th>\n",
       "      <th>Class</th>\n",
       "    </tr>\n",
       "  </thead>\n",
       "  <tbody>\n",
       "    <tr>\n",
       "      <th>0</th>\n",
       "      <td>M</td>\n",
       "      <td>KW</td>\n",
       "      <td>KuwaIT</td>\n",
       "      <td>lowerlevel</td>\n",
       "      <td>G-04</td>\n",
       "      <td>A</td>\n",
       "      <td>IT</td>\n",
       "      <td>F</td>\n",
       "      <td>Father</td>\n",
       "      <td>15</td>\n",
       "      <td>16</td>\n",
       "      <td>2</td>\n",
       "      <td>20</td>\n",
       "      <td>Yes</td>\n",
       "      <td>Good</td>\n",
       "      <td>Under-7</td>\n",
       "      <td>M</td>\n",
       "    </tr>\n",
       "    <tr>\n",
       "      <th>1</th>\n",
       "      <td>M</td>\n",
       "      <td>KW</td>\n",
       "      <td>KuwaIT</td>\n",
       "      <td>lowerlevel</td>\n",
       "      <td>G-04</td>\n",
       "      <td>A</td>\n",
       "      <td>IT</td>\n",
       "      <td>F</td>\n",
       "      <td>Father</td>\n",
       "      <td>20</td>\n",
       "      <td>20</td>\n",
       "      <td>3</td>\n",
       "      <td>25</td>\n",
       "      <td>Yes</td>\n",
       "      <td>Good</td>\n",
       "      <td>Under-7</td>\n",
       "      <td>M</td>\n",
       "    </tr>\n",
       "    <tr>\n",
       "      <th>2</th>\n",
       "      <td>M</td>\n",
       "      <td>KW</td>\n",
       "      <td>KuwaIT</td>\n",
       "      <td>lowerlevel</td>\n",
       "      <td>G-04</td>\n",
       "      <td>A</td>\n",
       "      <td>IT</td>\n",
       "      <td>F</td>\n",
       "      <td>Father</td>\n",
       "      <td>10</td>\n",
       "      <td>7</td>\n",
       "      <td>0</td>\n",
       "      <td>30</td>\n",
       "      <td>No</td>\n",
       "      <td>Bad</td>\n",
       "      <td>Above-7</td>\n",
       "      <td>L</td>\n",
       "    </tr>\n",
       "    <tr>\n",
       "      <th>3</th>\n",
       "      <td>M</td>\n",
       "      <td>KW</td>\n",
       "      <td>KuwaIT</td>\n",
       "      <td>lowerlevel</td>\n",
       "      <td>G-04</td>\n",
       "      <td>A</td>\n",
       "      <td>IT</td>\n",
       "      <td>F</td>\n",
       "      <td>Father</td>\n",
       "      <td>30</td>\n",
       "      <td>25</td>\n",
       "      <td>5</td>\n",
       "      <td>35</td>\n",
       "      <td>No</td>\n",
       "      <td>Bad</td>\n",
       "      <td>Above-7</td>\n",
       "      <td>L</td>\n",
       "    </tr>\n",
       "    <tr>\n",
       "      <th>4</th>\n",
       "      <td>M</td>\n",
       "      <td>KW</td>\n",
       "      <td>KuwaIT</td>\n",
       "      <td>lowerlevel</td>\n",
       "      <td>G-04</td>\n",
       "      <td>A</td>\n",
       "      <td>IT</td>\n",
       "      <td>F</td>\n",
       "      <td>Father</td>\n",
       "      <td>40</td>\n",
       "      <td>50</td>\n",
       "      <td>12</td>\n",
       "      <td>50</td>\n",
       "      <td>No</td>\n",
       "      <td>Bad</td>\n",
       "      <td>Above-7</td>\n",
       "      <td>M</td>\n",
       "    </tr>\n",
       "  </tbody>\n",
       "</table>\n",
       "</div>"
      ],
      "text/plain": [
       "  Gender Nationality BirthPlace     StageID GradeID SectionID Topic Semester  \\\n",
       "0      M          KW     KuwaIT  lowerlevel    G-04         A    IT        F   \n",
       "1      M          KW     KuwaIT  lowerlevel    G-04         A    IT        F   \n",
       "2      M          KW     KuwaIT  lowerlevel    G-04         A    IT        F   \n",
       "3      M          KW     KuwaIT  lowerlevel    G-04         A    IT        F   \n",
       "4      M          KW     KuwaIT  lowerlevel    G-04         A    IT        F   \n",
       "\n",
       "  Relation  RaisedHands  VisitedResources  AnnouncementsView  Discussion  \\\n",
       "0   Father           15                16                  2          20   \n",
       "1   Father           20                20                  3          25   \n",
       "2   Father           10                 7                  0          30   \n",
       "3   Father           30                25                  5          35   \n",
       "4   Father           40                50                 12          50   \n",
       "\n",
       "  ParentAnsweringSurvey ParentSchoolSatisfaction StudentAbsenceDays Class  \n",
       "0                   Yes                     Good            Under-7     M  \n",
       "1                   Yes                     Good            Under-7     M  \n",
       "2                    No                      Bad            Above-7     L  \n",
       "3                    No                      Bad            Above-7     L  \n",
       "4                    No                      Bad            Above-7     M  "
      ]
     },
     "execution_count": 6,
     "metadata": {},
     "output_type": "execute_result"
    }
   ],
   "source": [
    "spd_df.head()"
   ]
  },
  {
   "cell_type": "markdown",
   "metadata": {
    "cell_id": "00013-bc680081-fb97-4af1-8082-50dda56d38f5",
    "deepnote_cell_type": "markdown",
    "id": "S8ZYf_i501gc"
   },
   "source": [
    "#### **Renaming Mum to Mother in Relation Column**  \n",
    "It's also important to ensure that the data values is consistent and uniformed within the dataset especially inside a feature column. Let's check the `Relation` column in the dataset and view its unique values.  "
   ]
  },
  {
   "cell_type": "code",
   "execution_count": 7,
   "metadata": {
    "cell_id": "00014-eef4a4e4-6fc0-4b0d-9258-c593d83ad836",
    "colab": {
     "base_uri": "https://localhost:8080/"
    },
    "deepnote_cell_type": "code",
    "deepnote_to_be_reexecuted": false,
    "executionInfo": {
     "elapsed": 774,
     "status": "ok",
     "timestamp": 1620279339425,
     "user": {
      "displayName": "Angeline Maris Gubat",
      "photoUrl": "https://lh3.googleusercontent.com/a-/AOh14Gijg6xgX0R_IA4o8GkF1xnv3D8-8kHv8i-V48U6=s64",
      "userId": "00875153666701401808"
     },
     "user_tz": -480
    },
    "execution_millis": 61,
    "execution_start": 1622605912898,
    "id": "ewFVnaiaptGT",
    "outputId": "5f583abc-8347-4427-9cac-07125845a101",
    "source_hash": "4511d889"
   },
   "outputs": [
    {
     "data": {
      "text/plain": [
       "array(['Father', 'Mum'], dtype=object)"
      ]
     },
     "execution_count": 7,
     "metadata": {},
     "output_type": "execute_result"
    }
   ],
   "source": [
    "spd_df['Relation'].unique()"
   ]
  },
  {
   "cell_type": "markdown",
   "metadata": {
    "cell_id": "00015-71da6f74-c902-4773-8959-f7f72a332ecd",
    "deepnote_cell_type": "markdown",
    "id": "20sZlbaMqoQS"
   },
   "source": [
    "For uniformity, we will be renaming Mum to Mother."
   ]
  },
  {
   "cell_type": "code",
   "execution_count": 8,
   "metadata": {
    "cell_id": "00016-efe5e277-532c-4705-9447-40d2f7ab47b9",
    "colab": {
     "base_uri": "https://localhost:8080/"
    },
    "deepnote_cell_type": "code",
    "deepnote_to_be_reexecuted": false,
    "executionInfo": {
     "elapsed": 980,
     "status": "ok",
     "timestamp": 1620279341524,
     "user": {
      "displayName": "Angeline Maris Gubat",
      "photoUrl": "https://lh3.googleusercontent.com/a-/AOh14Gijg6xgX0R_IA4o8GkF1xnv3D8-8kHv8i-V48U6=s64",
      "userId": "00875153666701401808"
     },
     "user_tz": -480
    },
    "execution_millis": 48,
    "execution_start": 1622605912911,
    "id": "L0IolrCNrF25",
    "outputId": "f68cbcf0-3492-405e-d41d-9517b43c1d07",
    "source_hash": "1abd6e04"
   },
   "outputs": [
    {
     "data": {
      "text/plain": [
       "array(['Father', 'Mother'], dtype=object)"
      ]
     },
     "execution_count": 8,
     "metadata": {},
     "output_type": "execute_result"
    }
   ],
   "source": [
    "spd_df['Relation'].replace({'Mum':'Mother'}, inplace=True)\n",
    "spd_df['Relation'].unique()"
   ]
  },
  {
   "cell_type": "markdown",
   "metadata": {
    "cell_id": "00017-f1c9cb82-72a9-4576-a1e9-218634d14b02",
    "deepnote_cell_type": "markdown",
    "id": "LV-uLQkql9rE"
   },
   "source": [
    "#### **Renaming countries from the `BirthPlace` column**  "
   ]
  },
  {
   "cell_type": "markdown",
   "metadata": {
    "cell_id": "00018-01b44e27-3374-4232-b6c4-e048896c80db",
    "deepnote_cell_type": "markdown",
    "id": "B1TMW3M7IufA"
   },
   "source": [
    "Let's check the unique values in the `BirthPlace` feature"
   ]
  },
  {
   "cell_type": "code",
   "execution_count": 9,
   "metadata": {
    "cell_id": "00019-e2545010-32b9-4d38-9e7e-0d2be2cb8366",
    "colab": {
     "base_uri": "https://localhost:8080/"
    },
    "deepnote_cell_type": "code",
    "deepnote_to_be_reexecuted": false,
    "executionInfo": {
     "elapsed": 540,
     "status": "ok",
     "timestamp": 1620279343365,
     "user": {
      "displayName": "Angeline Maris Gubat",
      "photoUrl": "https://lh3.googleusercontent.com/a-/AOh14Gijg6xgX0R_IA4o8GkF1xnv3D8-8kHv8i-V48U6=s64",
      "userId": "00875153666701401808"
     },
     "user_tz": -480
    },
    "execution_millis": 41,
    "execution_start": 1622605912918,
    "id": "XEnYntVXI7re",
    "outputId": "3791f6be-7277-442c-da59-9eeb2f7a6cd0",
    "source_hash": "258b4711"
   },
   "outputs": [
    {
     "data": {
      "text/plain": [
       "array(['KuwaIT', 'lebanon', 'Egypt', 'SaudiArabia', 'USA', 'Jordan',\n",
       "       'venzuela', 'Iran', 'Tunis', 'Morocco', 'Syria', 'Iraq',\n",
       "       'Palestine', 'Lybia'], dtype=object)"
      ]
     },
     "execution_count": 9,
     "metadata": {},
     "output_type": "execute_result"
    }
   ],
   "source": [
    "spd_df['BirthPlace'].unique()"
   ]
  },
  {
   "cell_type": "markdown",
   "metadata": {
    "cell_id": "00020-ec03466e-a387-4b32-8771-695c68556eb6",
    "deepnote_cell_type": "markdown",
    "id": "lzMIQzPYmYfI"
   },
   "source": [
    "We can see there are inconsistencies with how the locations are written, and there is a misspelled location. Let's turn `lebanon` into `Lebanon`, `venzuela` to `Venezuela`, `KuwaIT` to `Kuwait`, and `Lybia` to `Libya`."
   ]
  },
  {
   "cell_type": "code",
   "execution_count": 10,
   "metadata": {
    "cell_id": "00021-4191ac99-0741-42ae-83fa-2af6133bc91b",
    "deepnote_cell_type": "code",
    "deepnote_to_be_reexecuted": false,
    "execution_millis": 8,
    "execution_start": 1622605912925,
    "id": "6uPLx2bDnD-T",
    "source_hash": "6dee0e25"
   },
   "outputs": [],
   "source": [
    "spd_df.replace({'BirthPlace': {'lebanon': 'Lebanon'}}, inplace=True)"
   ]
  },
  {
   "cell_type": "code",
   "execution_count": 11,
   "metadata": {
    "cell_id": "00022-8a3645eb-ddc1-4385-a75e-c419099ce64d",
    "deepnote_cell_type": "code",
    "deepnote_to_be_reexecuted": false,
    "execution_millis": 1,
    "execution_start": 1622605912936,
    "id": "JiEWjRSgNooO",
    "source_hash": "9fa867b2"
   },
   "outputs": [],
   "source": [
    "spd_df.replace({'BirthPlace': {'venzuela': 'Venezuela'}}, inplace=True)"
   ]
  },
  {
   "cell_type": "code",
   "execution_count": 12,
   "metadata": {
    "cell_id": "00023-082da4ad-01aa-4a30-943d-25d8d59a8796",
    "deepnote_cell_type": "code",
    "deepnote_to_be_reexecuted": false,
    "execution_millis": 1,
    "execution_start": 1622605912950,
    "id": "NOxqn1IsJrQI",
    "source_hash": "8f320663"
   },
   "outputs": [],
   "source": [
    "spd_df.replace({'BirthPlace': {'KuwaIT': 'Kuwait'}}, inplace=True)"
   ]
  },
  {
   "cell_type": "code",
   "execution_count": 13,
   "metadata": {
    "cell_id": "00024-741c2160-4874-4206-b7d2-cf09ed1b5bad",
    "deepnote_cell_type": "code",
    "deepnote_to_be_reexecuted": false,
    "execution_millis": 19786,
    "execution_start": 1622605912960,
    "source_hash": "47007e17",
    "tags": []
   },
   "outputs": [],
   "source": [
    "spd_df.replace({'BirthPlace': {'Lybia': 'Libya'}}, inplace=True)"
   ]
  },
  {
   "cell_type": "code",
   "execution_count": 14,
   "metadata": {
    "cell_id": "00024-4ef08c9a-7231-44c5-9b46-cff6dc4a8317",
    "colab": {
     "base_uri": "https://localhost:8080/"
    },
    "deepnote_cell_type": "code",
    "deepnote_to_be_reexecuted": false,
    "executionInfo": {
     "elapsed": 495,
     "status": "ok",
     "timestamp": 1620279352555,
     "user": {
      "displayName": "Angeline Maris Gubat",
      "photoUrl": "https://lh3.googleusercontent.com/a-/AOh14Gijg6xgX0R_IA4o8GkF1xnv3D8-8kHv8i-V48U6=s64",
      "userId": "00875153666701401808"
     },
     "user_tz": -480
    },
    "execution_millis": 19783,
    "execution_start": 1622605913014,
    "id": "b0bRfInOmkqB",
    "outputId": "ec744a8e-c542-4585-ee82-e3d34068cb2a",
    "source_hash": "258b4711"
   },
   "outputs": [
    {
     "data": {
      "text/plain": [
       "array(['Kuwait', 'Lebanon', 'Egypt', 'SaudiArabia', 'USA', 'Jordan',\n",
       "       'Venezuela', 'Iran', 'Tunis', 'Morocco', 'Syria', 'Iraq',\n",
       "       'Palestine', 'Libya'], dtype=object)"
      ]
     },
     "execution_count": 14,
     "metadata": {},
     "output_type": "execute_result"
    }
   ],
   "source": [
    "spd_df['BirthPlace'].unique()"
   ]
  },
  {
   "cell_type": "code",
   "execution_count": 15,
   "metadata": {
    "cell_id": "00025-d0a31dfa-e192-442e-9f2a-6bb2064c436e",
    "colab": {
     "base_uri": "https://localhost:8080/",
     "height": 439
    },
    "deepnote_cell_type": "code",
    "deepnote_to_be_reexecuted": false,
    "executionInfo": {
     "elapsed": 762,
     "status": "ok",
     "timestamp": 1620279358617,
     "user": {
      "displayName": "Angeline Maris Gubat",
      "photoUrl": "https://lh3.googleusercontent.com/a-/AOh14Gijg6xgX0R_IA4o8GkF1xnv3D8-8kHv8i-V48U6=s64",
      "userId": "00875153666701401808"
     },
     "user_tz": -480
    },
    "execution_millis": 70,
    "execution_start": 1622605913015,
    "id": "KHx3V3VLJ3Z3",
    "outputId": "0213d278-5fb1-431a-c24d-140f26829eac",
    "source_hash": "e22e2d41"
   },
   "outputs": [
    {
     "data": {
      "application/vnd.deepnote.dataframe.v2+json": {
       "column_count": 17,
       "columns": [
        {
         "dtype": "object",
         "name": "Gender",
         "stats": {
          "categories": [
           {
            "count": 5,
            "name": "M"
           }
          ],
          "nan_count": 0,
          "unique_count": 1
         }
        },
        {
         "dtype": "object",
         "name": "Nationality",
         "stats": {
          "categories": [
           {
            "count": 5,
            "name": "KW"
           }
          ],
          "nan_count": 0,
          "unique_count": 1
         }
        },
        {
         "dtype": "object",
         "name": "BirthPlace",
         "stats": {
          "categories": [
           {
            "count": 5,
            "name": "Kuwait"
           }
          ],
          "nan_count": 0,
          "unique_count": 1
         }
        },
        {
         "dtype": "object",
         "name": "StageID",
         "stats": {
          "categories": [
           {
            "count": 5,
            "name": "lowerlevel"
           }
          ],
          "nan_count": 0,
          "unique_count": 1
         }
        },
        {
         "dtype": "object",
         "name": "GradeID",
         "stats": {
          "categories": [
           {
            "count": 5,
            "name": "G-04"
           }
          ],
          "nan_count": 0,
          "unique_count": 1
         }
        },
        {
         "dtype": "object",
         "name": "SectionID",
         "stats": {
          "categories": [
           {
            "count": 5,
            "name": "A"
           }
          ],
          "nan_count": 0,
          "unique_count": 1
         }
        },
        {
         "dtype": "object",
         "name": "Topic",
         "stats": {
          "categories": [
           {
            "count": 5,
            "name": "IT"
           }
          ],
          "nan_count": 0,
          "unique_count": 1
         }
        },
        {
         "dtype": "object",
         "name": "Semester",
         "stats": {
          "categories": [
           {
            "count": 5,
            "name": "F"
           }
          ],
          "nan_count": 0,
          "unique_count": 1
         }
        },
        {
         "dtype": "object",
         "name": "Relation",
         "stats": {
          "categories": [
           {
            "count": 5,
            "name": "Father"
           }
          ],
          "nan_count": 0,
          "unique_count": 1
         }
        },
        {
         "dtype": "int64",
         "name": "RaisedHands",
         "stats": {
          "histogram": [
           {
            "bin_end": 13,
            "bin_start": 10,
            "count": 1
           },
           {
            "bin_end": 16,
            "bin_start": 13,
            "count": 1
           },
           {
            "bin_end": 19,
            "bin_start": 16,
            "count": 0
           },
           {
            "bin_end": 22,
            "bin_start": 19,
            "count": 1
           },
           {
            "bin_end": 25,
            "bin_start": 22,
            "count": 0
           },
           {
            "bin_end": 28,
            "bin_start": 25,
            "count": 0
           },
           {
            "bin_end": 31,
            "bin_start": 28,
            "count": 1
           },
           {
            "bin_end": 34,
            "bin_start": 31,
            "count": 0
           },
           {
            "bin_end": 37,
            "bin_start": 34,
            "count": 0
           },
           {
            "bin_end": 40,
            "bin_start": 37,
            "count": 1
           }
          ],
          "max": "40",
          "min": "10",
          "nan_count": 0,
          "unique_count": 5
         }
        },
        {
         "dtype": "int64",
         "name": "VisitedResources",
         "stats": {
          "histogram": [
           {
            "bin_end": 11.3,
            "bin_start": 7,
            "count": 1
           },
           {
            "bin_end": 15.6,
            "bin_start": 11.3,
            "count": 0
           },
           {
            "bin_end": 19.9,
            "bin_start": 15.6,
            "count": 1
           },
           {
            "bin_end": 24.2,
            "bin_start": 19.9,
            "count": 1
           },
           {
            "bin_end": 28.5,
            "bin_start": 24.2,
            "count": 1
           },
           {
            "bin_end": 32.8,
            "bin_start": 28.5,
            "count": 0
           },
           {
            "bin_end": 37.099999999999994,
            "bin_start": 32.8,
            "count": 0
           },
           {
            "bin_end": 41.4,
            "bin_start": 37.099999999999994,
            "count": 0
           },
           {
            "bin_end": 45.699999999999996,
            "bin_start": 41.4,
            "count": 0
           },
           {
            "bin_end": 50,
            "bin_start": 45.699999999999996,
            "count": 1
           }
          ],
          "max": "50",
          "min": "7",
          "nan_count": 0,
          "unique_count": 5
         }
        },
        {
         "dtype": "int64",
         "name": "AnnouncementsView",
         "stats": {
          "histogram": [
           {
            "bin_end": 1.2,
            "bin_start": 0,
            "count": 1
           },
           {
            "bin_end": 2.4,
            "bin_start": 1.2,
            "count": 1
           },
           {
            "bin_end": 3.5999999999999996,
            "bin_start": 2.4,
            "count": 1
           },
           {
            "bin_end": 4.8,
            "bin_start": 3.5999999999999996,
            "count": 0
           },
           {
            "bin_end": 6,
            "bin_start": 4.8,
            "count": 1
           },
           {
            "bin_end": 7.199999999999999,
            "bin_start": 6,
            "count": 0
           },
           {
            "bin_end": 8.4,
            "bin_start": 7.199999999999999,
            "count": 0
           },
           {
            "bin_end": 9.6,
            "bin_start": 8.4,
            "count": 0
           },
           {
            "bin_end": 10.799999999999999,
            "bin_start": 9.6,
            "count": 0
           },
           {
            "bin_end": 12,
            "bin_start": 10.799999999999999,
            "count": 1
           }
          ],
          "max": "12",
          "min": "0",
          "nan_count": 0,
          "unique_count": 5
         }
        },
        {
         "dtype": "int64",
         "name": "Discussion",
         "stats": {
          "histogram": [
           {
            "bin_end": 23,
            "bin_start": 20,
            "count": 1
           },
           {
            "bin_end": 26,
            "bin_start": 23,
            "count": 1
           },
           {
            "bin_end": 29,
            "bin_start": 26,
            "count": 0
           },
           {
            "bin_end": 32,
            "bin_start": 29,
            "count": 1
           },
           {
            "bin_end": 35,
            "bin_start": 32,
            "count": 0
           },
           {
            "bin_end": 38,
            "bin_start": 35,
            "count": 1
           },
           {
            "bin_end": 41,
            "bin_start": 38,
            "count": 0
           },
           {
            "bin_end": 44,
            "bin_start": 41,
            "count": 0
           },
           {
            "bin_end": 47,
            "bin_start": 44,
            "count": 0
           },
           {
            "bin_end": 50,
            "bin_start": 47,
            "count": 1
           }
          ],
          "max": "50",
          "min": "20",
          "nan_count": 0,
          "unique_count": 5
         }
        },
        {
         "dtype": "object",
         "name": "ParentAnsweringSurvey",
         "stats": {
          "categories": [
           {
            "count": 3,
            "name": "No"
           },
           {
            "count": 2,
            "name": "Yes"
           }
          ],
          "nan_count": 0,
          "unique_count": 2
         }
        },
        {
         "dtype": "object",
         "name": "ParentSchoolSatisfaction",
         "stats": {
          "categories": [
           {
            "count": 3,
            "name": "Bad"
           },
           {
            "count": 2,
            "name": "Good"
           }
          ],
          "nan_count": 0,
          "unique_count": 2
         }
        },
        {
         "dtype": "object",
         "name": "StudentAbsenceDays",
         "stats": {
          "categories": [
           {
            "count": 3,
            "name": "Above-7"
           },
           {
            "count": 2,
            "name": "Under-7"
           }
          ],
          "nan_count": 0,
          "unique_count": 2
         }
        },
        {
         "dtype": "object",
         "name": "Class",
         "stats": {
          "categories": [
           {
            "count": 3,
            "name": "M"
           },
           {
            "count": 2,
            "name": "L"
           }
          ],
          "nan_count": 0,
          "unique_count": 2
         }
        },
        {
         "dtype": "int64",
         "name": "_deepnote_index_column"
        }
       ],
       "row_count": 5,
       "rows_bottom": null,
       "rows_top": [
        {
         "AnnouncementsView": 2,
         "BirthPlace": "Kuwait",
         "Class": "M",
         "Discussion": 20,
         "Gender": "M",
         "GradeID": "G-04",
         "Nationality": "KW",
         "ParentAnsweringSurvey": "Yes",
         "ParentSchoolSatisfaction": "Good",
         "RaisedHands": 15,
         "Relation": "Father",
         "SectionID": "A",
         "Semester": "F",
         "StageID": "lowerlevel",
         "StudentAbsenceDays": "Under-7",
         "Topic": "IT",
         "VisitedResources": 16,
         "_deepnote_index_column": 0
        },
        {
         "AnnouncementsView": 3,
         "BirthPlace": "Kuwait",
         "Class": "M",
         "Discussion": 25,
         "Gender": "M",
         "GradeID": "G-04",
         "Nationality": "KW",
         "ParentAnsweringSurvey": "Yes",
         "ParentSchoolSatisfaction": "Good",
         "RaisedHands": 20,
         "Relation": "Father",
         "SectionID": "A",
         "Semester": "F",
         "StageID": "lowerlevel",
         "StudentAbsenceDays": "Under-7",
         "Topic": "IT",
         "VisitedResources": 20,
         "_deepnote_index_column": 1
        },
        {
         "AnnouncementsView": 0,
         "BirthPlace": "Kuwait",
         "Class": "L",
         "Discussion": 30,
         "Gender": "M",
         "GradeID": "G-04",
         "Nationality": "KW",
         "ParentAnsweringSurvey": "No",
         "ParentSchoolSatisfaction": "Bad",
         "RaisedHands": 10,
         "Relation": "Father",
         "SectionID": "A",
         "Semester": "F",
         "StageID": "lowerlevel",
         "StudentAbsenceDays": "Above-7",
         "Topic": "IT",
         "VisitedResources": 7,
         "_deepnote_index_column": 2
        },
        {
         "AnnouncementsView": 5,
         "BirthPlace": "Kuwait",
         "Class": "L",
         "Discussion": 35,
         "Gender": "M",
         "GradeID": "G-04",
         "Nationality": "KW",
         "ParentAnsweringSurvey": "No",
         "ParentSchoolSatisfaction": "Bad",
         "RaisedHands": 30,
         "Relation": "Father",
         "SectionID": "A",
         "Semester": "F",
         "StageID": "lowerlevel",
         "StudentAbsenceDays": "Above-7",
         "Topic": "IT",
         "VisitedResources": 25,
         "_deepnote_index_column": 3
        },
        {
         "AnnouncementsView": 12,
         "BirthPlace": "Kuwait",
         "Class": "M",
         "Discussion": 50,
         "Gender": "M",
         "GradeID": "G-04",
         "Nationality": "KW",
         "ParentAnsweringSurvey": "No",
         "ParentSchoolSatisfaction": "Bad",
         "RaisedHands": 40,
         "Relation": "Father",
         "SectionID": "A",
         "Semester": "F",
         "StageID": "lowerlevel",
         "StudentAbsenceDays": "Above-7",
         "Topic": "IT",
         "VisitedResources": 50,
         "_deepnote_index_column": 4
        }
       ]
      },
      "text/html": [
       "<div>\n",
       "<style scoped>\n",
       "    .dataframe tbody tr th:only-of-type {\n",
       "        vertical-align: middle;\n",
       "    }\n",
       "\n",
       "    .dataframe tbody tr th {\n",
       "        vertical-align: top;\n",
       "    }\n",
       "\n",
       "    .dataframe thead th {\n",
       "        text-align: right;\n",
       "    }\n",
       "</style>\n",
       "<table border=\"1\" class=\"dataframe\">\n",
       "  <thead>\n",
       "    <tr style=\"text-align: right;\">\n",
       "      <th></th>\n",
       "      <th>Gender</th>\n",
       "      <th>Nationality</th>\n",
       "      <th>BirthPlace</th>\n",
       "      <th>StageID</th>\n",
       "      <th>GradeID</th>\n",
       "      <th>SectionID</th>\n",
       "      <th>Topic</th>\n",
       "      <th>Semester</th>\n",
       "      <th>Relation</th>\n",
       "      <th>RaisedHands</th>\n",
       "      <th>VisitedResources</th>\n",
       "      <th>AnnouncementsView</th>\n",
       "      <th>Discussion</th>\n",
       "      <th>ParentAnsweringSurvey</th>\n",
       "      <th>ParentSchoolSatisfaction</th>\n",
       "      <th>StudentAbsenceDays</th>\n",
       "      <th>Class</th>\n",
       "    </tr>\n",
       "  </thead>\n",
       "  <tbody>\n",
       "    <tr>\n",
       "      <th>0</th>\n",
       "      <td>M</td>\n",
       "      <td>KW</td>\n",
       "      <td>Kuwait</td>\n",
       "      <td>lowerlevel</td>\n",
       "      <td>G-04</td>\n",
       "      <td>A</td>\n",
       "      <td>IT</td>\n",
       "      <td>F</td>\n",
       "      <td>Father</td>\n",
       "      <td>15</td>\n",
       "      <td>16</td>\n",
       "      <td>2</td>\n",
       "      <td>20</td>\n",
       "      <td>Yes</td>\n",
       "      <td>Good</td>\n",
       "      <td>Under-7</td>\n",
       "      <td>M</td>\n",
       "    </tr>\n",
       "    <tr>\n",
       "      <th>1</th>\n",
       "      <td>M</td>\n",
       "      <td>KW</td>\n",
       "      <td>Kuwait</td>\n",
       "      <td>lowerlevel</td>\n",
       "      <td>G-04</td>\n",
       "      <td>A</td>\n",
       "      <td>IT</td>\n",
       "      <td>F</td>\n",
       "      <td>Father</td>\n",
       "      <td>20</td>\n",
       "      <td>20</td>\n",
       "      <td>3</td>\n",
       "      <td>25</td>\n",
       "      <td>Yes</td>\n",
       "      <td>Good</td>\n",
       "      <td>Under-7</td>\n",
       "      <td>M</td>\n",
       "    </tr>\n",
       "    <tr>\n",
       "      <th>2</th>\n",
       "      <td>M</td>\n",
       "      <td>KW</td>\n",
       "      <td>Kuwait</td>\n",
       "      <td>lowerlevel</td>\n",
       "      <td>G-04</td>\n",
       "      <td>A</td>\n",
       "      <td>IT</td>\n",
       "      <td>F</td>\n",
       "      <td>Father</td>\n",
       "      <td>10</td>\n",
       "      <td>7</td>\n",
       "      <td>0</td>\n",
       "      <td>30</td>\n",
       "      <td>No</td>\n",
       "      <td>Bad</td>\n",
       "      <td>Above-7</td>\n",
       "      <td>L</td>\n",
       "    </tr>\n",
       "    <tr>\n",
       "      <th>3</th>\n",
       "      <td>M</td>\n",
       "      <td>KW</td>\n",
       "      <td>Kuwait</td>\n",
       "      <td>lowerlevel</td>\n",
       "      <td>G-04</td>\n",
       "      <td>A</td>\n",
       "      <td>IT</td>\n",
       "      <td>F</td>\n",
       "      <td>Father</td>\n",
       "      <td>30</td>\n",
       "      <td>25</td>\n",
       "      <td>5</td>\n",
       "      <td>35</td>\n",
       "      <td>No</td>\n",
       "      <td>Bad</td>\n",
       "      <td>Above-7</td>\n",
       "      <td>L</td>\n",
       "    </tr>\n",
       "    <tr>\n",
       "      <th>4</th>\n",
       "      <td>M</td>\n",
       "      <td>KW</td>\n",
       "      <td>Kuwait</td>\n",
       "      <td>lowerlevel</td>\n",
       "      <td>G-04</td>\n",
       "      <td>A</td>\n",
       "      <td>IT</td>\n",
       "      <td>F</td>\n",
       "      <td>Father</td>\n",
       "      <td>40</td>\n",
       "      <td>50</td>\n",
       "      <td>12</td>\n",
       "      <td>50</td>\n",
       "      <td>No</td>\n",
       "      <td>Bad</td>\n",
       "      <td>Above-7</td>\n",
       "      <td>M</td>\n",
       "    </tr>\n",
       "  </tbody>\n",
       "</table>\n",
       "</div>"
      ],
      "text/plain": [
       "  Gender Nationality BirthPlace     StageID GradeID SectionID Topic Semester  \\\n",
       "0      M          KW     Kuwait  lowerlevel    G-04         A    IT        F   \n",
       "1      M          KW     Kuwait  lowerlevel    G-04         A    IT        F   \n",
       "2      M          KW     Kuwait  lowerlevel    G-04         A    IT        F   \n",
       "3      M          KW     Kuwait  lowerlevel    G-04         A    IT        F   \n",
       "4      M          KW     Kuwait  lowerlevel    G-04         A    IT        F   \n",
       "\n",
       "  Relation  RaisedHands  VisitedResources  AnnouncementsView  Discussion  \\\n",
       "0   Father           15                16                  2          20   \n",
       "1   Father           20                20                  3          25   \n",
       "2   Father           10                 7                  0          30   \n",
       "3   Father           30                25                  5          35   \n",
       "4   Father           40                50                 12          50   \n",
       "\n",
       "  ParentAnsweringSurvey ParentSchoolSatisfaction StudentAbsenceDays Class  \n",
       "0                   Yes                     Good            Under-7     M  \n",
       "1                   Yes                     Good            Under-7     M  \n",
       "2                    No                      Bad            Above-7     L  \n",
       "3                    No                      Bad            Above-7     L  \n",
       "4                    No                      Bad            Above-7     M  "
      ]
     },
     "execution_count": 15,
     "metadata": {},
     "output_type": "execute_result"
    }
   ],
   "source": [
    "spd_df.head()"
   ]
  },
  {
   "cell_type": "markdown",
   "metadata": {
    "cell_id": "00026-7b0529ab-0751-49d4-852f-1ae206772ac0",
    "deepnote_cell_type": "markdown",
    "id": "HuX6a-Cxn1mO"
   },
   "source": [
    "#### **Renaming countries from the `Nationality` column**  "
   ]
  },
  {
   "cell_type": "code",
   "execution_count": 16,
   "metadata": {
    "cell_id": "00027-964e53b6-5563-441e-aea3-dc098e66e74a",
    "colab": {
     "base_uri": "https://localhost:8080/"
    },
    "deepnote_cell_type": "code",
    "deepnote_to_be_reexecuted": false,
    "executionInfo": {
     "elapsed": 765,
     "status": "ok",
     "timestamp": 1620279364601,
     "user": {
      "displayName": "Angeline Maris Gubat",
      "photoUrl": "https://lh3.googleusercontent.com/a-/AOh14Gijg6xgX0R_IA4o8GkF1xnv3D8-8kHv8i-V48U6=s64",
      "userId": "00875153666701401808"
     },
     "user_tz": -480
    },
    "execution_millis": 54,
    "execution_start": 1622605913031,
    "id": "fEpJZ-OTKuQ1",
    "outputId": "5a5733e5-42ef-45af-a24e-4e13cc7e756f",
    "source_hash": "fc0821c6"
   },
   "outputs": [
    {
     "data": {
      "text/plain": [
       "array(['KW', 'lebanon', 'Egypt', 'SaudiArabia', 'USA', 'Jordan',\n",
       "       'venzuela', 'Iran', 'Tunis', 'Morocco', 'Syria', 'Palestine',\n",
       "       'Iraq', 'Lybia'], dtype=object)"
      ]
     },
     "execution_count": 16,
     "metadata": {},
     "output_type": "execute_result"
    }
   ],
   "source": [
    "spd_df['Nationality'].unique()"
   ]
  },
  {
   "cell_type": "markdown",
   "metadata": {
    "cell_id": "00028-ceb46483-185a-4b81-89be-8cd2ecf19397",
    "deepnote_cell_type": "markdown",
    "id": "4DaTuJWroA58"
   },
   "source": [
    "Just like in the `BirthPlace` column, there are some inconsistencies and misspelled locations. Let's turn `KW` into `Kuwait`, `lebanon` to `Lebanon`, `venzuela` to `Venezuela`, and `Lybia` to `Libya`."
   ]
  },
  {
   "cell_type": "code",
   "execution_count": 17,
   "metadata": {
    "cell_id": "00029-6bf361d8-98f5-49ea-95ec-63336662dada",
    "deepnote_cell_type": "code",
    "deepnote_to_be_reexecuted": false,
    "execution_millis": 3,
    "execution_start": 1622605913043,
    "id": "YLwyv7qVoGH8",
    "source_hash": "a04bdd8"
   },
   "outputs": [],
   "source": [
    "spd_df.loc[spd_df['Nationality'] == 'KW', 'Nationality'] = 'Kuwait' "
   ]
  },
  {
   "cell_type": "code",
   "execution_count": 18,
   "metadata": {
    "cell_id": "00030-77f110a7-6c00-4ef9-a3a0-0be908c1955a",
    "deepnote_cell_type": "code",
    "deepnote_to_be_reexecuted": false,
    "execution_millis": 6,
    "execution_start": 1622605913050,
    "id": "bnCF_p1CKw5s",
    "source_hash": "28e0b9cc"
   },
   "outputs": [],
   "source": [
    "spd_df.loc[spd_df['Nationality'] == 'lebanon', 'Nationality'] = 'Lebanon' "
   ]
  },
  {
   "cell_type": "code",
   "execution_count": 19,
   "metadata": {
    "cell_id": "00031-bec95cb3-9824-4308-ad74-f860ffd99ff2",
    "deepnote_cell_type": "code",
    "deepnote_to_be_reexecuted": false,
    "execution_millis": 6,
    "execution_start": 1622605913058,
    "id": "4HGTXXSMK2uv",
    "source_hash": "f984b6f1"
   },
   "outputs": [],
   "source": [
    "spd_df.loc[spd_df['Nationality'] == 'venzuela', 'Nationality'] = 'Venezuela' "
   ]
  },
  {
   "cell_type": "code",
   "execution_count": 20,
   "metadata": {
    "cell_id": "00033-e83b75e3-9847-450b-8f77-c72a19df7f81",
    "deepnote_cell_type": "code",
    "deepnote_to_be_reexecuted": false,
    "execution_millis": 4,
    "execution_start": 1622605913066,
    "source_hash": "73b6e39",
    "tags": []
   },
   "outputs": [],
   "source": [
    "spd_df.loc[spd_df['Nationality'] == 'Lybia', 'Nationality'] = 'Libya' "
   ]
  },
  {
   "cell_type": "code",
   "execution_count": 21,
   "metadata": {
    "cell_id": "00032-2219e282-cb8e-4b2c-892c-6de507043d4c",
    "colab": {
     "base_uri": "https://localhost:8080/"
    },
    "deepnote_cell_type": "code",
    "deepnote_to_be_reexecuted": false,
    "executionInfo": {
     "elapsed": 500,
     "status": "ok",
     "timestamp": 1620279371322,
     "user": {
      "displayName": "Angeline Maris Gubat",
      "photoUrl": "https://lh3.googleusercontent.com/a-/AOh14Gijg6xgX0R_IA4o8GkF1xnv3D8-8kHv8i-V48U6=s64",
      "userId": "00875153666701401808"
     },
     "user_tz": -480
    },
    "execution_millis": 15,
    "execution_start": 1622605913073,
    "id": "ArJFox0onwXN",
    "outputId": "d31f1a79-383c-4fb7-ace8-622f563bdc44",
    "source_hash": "fc0821c6"
   },
   "outputs": [
    {
     "data": {
      "text/plain": [
       "array(['Kuwait', 'Lebanon', 'Egypt', 'SaudiArabia', 'USA', 'Jordan',\n",
       "       'Venezuela', 'Iran', 'Tunis', 'Morocco', 'Syria', 'Palestine',\n",
       "       'Iraq', 'Libya'], dtype=object)"
      ]
     },
     "execution_count": 21,
     "metadata": {},
     "output_type": "execute_result"
    }
   ],
   "source": [
    "spd_df['Nationality'].unique()"
   ]
  },
  {
   "cell_type": "code",
   "execution_count": 22,
   "metadata": {
    "cell_id": "00033-fccbbb17-ee83-40f8-b754-5132db6cf963",
    "colab": {
     "base_uri": "https://localhost:8080/",
     "height": 439
    },
    "deepnote_cell_type": "code",
    "deepnote_to_be_reexecuted": false,
    "executionInfo": {
     "elapsed": 870,
     "status": "ok",
     "timestamp": 1620279375611,
     "user": {
      "displayName": "Angeline Maris Gubat",
      "photoUrl": "https://lh3.googleusercontent.com/a-/AOh14Gijg6xgX0R_IA4o8GkF1xnv3D8-8kHv8i-V48U6=s64",
      "userId": "00875153666701401808"
     },
     "user_tz": -480
    },
    "execution_millis": 49,
    "execution_start": 1622605913080,
    "id": "eIxLuYwUoLFl",
    "outputId": "09d674e3-bfbf-4251-d3ca-023038b4437c",
    "source_hash": "e22e2d41"
   },
   "outputs": [],
   "source": [
    "spd_df.head()"
   ]
  },
  {
   "cell_type": "markdown",
   "metadata": {
    "cell_id": "00034-b32f642b-e794-4d38-9448-28e933906618",
    "deepnote_cell_type": "markdown",
    "id": "QzVsrhNT5OSP"
   },
   "source": [
    "### **Cleaning Inconsistent Data from `StageID`**"
   ]
  },
  {
   "cell_type": "markdown",
   "metadata": {
    "cell_id": "00035-ad784729-2ce3-42f3-878e-df7b1d7e745d",
    "deepnote_cell_type": "markdown",
    "id": "omCiB-LQ5h6l"
   },
   "source": [
    "Let's locate the inconsistent data"
   ]
  },
  {
   "cell_type": "code",
   "execution_count": 23,
   "metadata": {
    "cell_id": "00036-16b99db8-7c0a-4ea3-9e01-b7664c36fc29",
    "colab": {
     "base_uri": "https://localhost:8080/",
     "height": 421
    },
    "deepnote_cell_type": "code",
    "deepnote_to_be_reexecuted": false,
    "executionInfo": {
     "elapsed": 757,
     "status": "ok",
     "timestamp": 1620279386522,
     "user": {
      "displayName": "Angeline Maris Gubat",
      "photoUrl": "https://lh3.googleusercontent.com/a-/AOh14Gijg6xgX0R_IA4o8GkF1xnv3D8-8kHv8i-V48U6=s64",
      "userId": "00875153666701401808"
     },
     "user_tz": -480
    },
    "execution_millis": 22,
    "execution_start": 1622605913133,
    "id": "mB6s_cpm6BSa",
    "outputId": "80e17b2f-2af6-44b2-9434-cb6b87ccebb4",
    "source_hash": "a5c62b9c"
   },
   "outputs": [
    {
     "data": {
      "application/vnd.deepnote.dataframe.v2+json": {
       "column_count": 1,
       "columns": [
        {
         "dtype": "int64",
         "name": "Class",
         "stats": {
          "histogram": [
           {
            "bin_end": 15.6,
            "bin_start": 1,
            "count": 6
           },
           {
            "bin_end": 30.2,
            "bin_start": 15.6,
            "count": 0
           },
           {
            "bin_end": 44.8,
            "bin_start": 30.2,
            "count": 1
           },
           {
            "bin_end": 59.4,
            "bin_start": 44.8,
            "count": 1
           },
           {
            "bin_end": 74,
            "bin_start": 59.4,
            "count": 0
           },
           {
            "bin_end": 88.6,
            "bin_start": 74,
            "count": 0
           },
           {
            "bin_end": 103.2,
            "bin_start": 88.6,
            "count": 1
           },
           {
            "bin_end": 117.8,
            "bin_start": 103.2,
            "count": 1
           },
           {
            "bin_end": 132.4,
            "bin_start": 117.8,
            "count": 0
           },
           {
            "bin_end": 147,
            "bin_start": 132.4,
            "count": 1
           }
          ],
          "max": "147",
          "min": "1",
          "nan_count": 0,
          "unique_count": 11
         }
        },
        {
         "dtype": "object",
         "name": "_deepnote_index_column"
        }
       ],
       "row_count": 11,
       "rows_bottom": null,
       "rows_top": [
        {
         "Class": 147,
         "_deepnote_index_column": "('G-02', 'lowerlevel')"
        },
        {
         "Class": 48,
         "_deepnote_index_column": "('G-04', 'lowerlevel')"
        },
        {
         "Class": 3,
         "_deepnote_index_column": "('G-05', 'lowerlevel')"
        },
        {
         "Class": 32,
         "_deepnote_index_column": "('G-06', 'MiddleSchool')"
        },
        {
         "Class": 100,
         "_deepnote_index_column": "('G-07', 'MiddleSchool')"
        },
        {
         "Class": 1,
         "_deepnote_index_column": "('G-07', 'lowerlevel')"
        },
        {
         "Class": 116,
         "_deepnote_index_column": "('G-08', 'MiddleSchool')"
        },
        {
         "Class": 5,
         "_deepnote_index_column": "('G-09', 'HighSchool')"
        },
        {
         "Class": 4,
         "_deepnote_index_column": "('G-10', 'HighSchool')"
        },
        {
         "Class": 13,
         "_deepnote_index_column": "('G-11', 'HighSchool')"
        },
        {
         "Class": 11,
         "_deepnote_index_column": "('G-12', 'HighSchool')"
        }
       ]
      },
      "text/html": [
       "<div>\n",
       "<style scoped>\n",
       "    .dataframe tbody tr th:only-of-type {\n",
       "        vertical-align: middle;\n",
       "    }\n",
       "\n",
       "    .dataframe tbody tr th {\n",
       "        vertical-align: top;\n",
       "    }\n",
       "\n",
       "    .dataframe thead th {\n",
       "        text-align: right;\n",
       "    }\n",
       "</style>\n",
       "<table border=\"1\" class=\"dataframe\">\n",
       "  <thead>\n",
       "    <tr style=\"text-align: right;\">\n",
       "      <th></th>\n",
       "      <th></th>\n",
       "      <th>Class</th>\n",
       "    </tr>\n",
       "    <tr>\n",
       "      <th>GradeID</th>\n",
       "      <th>StageID</th>\n",
       "      <th></th>\n",
       "    </tr>\n",
       "  </thead>\n",
       "  <tbody>\n",
       "    <tr>\n",
       "      <th>G-02</th>\n",
       "      <th>lowerlevel</th>\n",
       "      <td>147</td>\n",
       "    </tr>\n",
       "    <tr>\n",
       "      <th>G-04</th>\n",
       "      <th>lowerlevel</th>\n",
       "      <td>48</td>\n",
       "    </tr>\n",
       "    <tr>\n",
       "      <th>G-05</th>\n",
       "      <th>lowerlevel</th>\n",
       "      <td>3</td>\n",
       "    </tr>\n",
       "    <tr>\n",
       "      <th>G-06</th>\n",
       "      <th>MiddleSchool</th>\n",
       "      <td>32</td>\n",
       "    </tr>\n",
       "    <tr>\n",
       "      <th rowspan=\"2\" valign=\"top\">G-07</th>\n",
       "      <th>MiddleSchool</th>\n",
       "      <td>100</td>\n",
       "    </tr>\n",
       "    <tr>\n",
       "      <th>lowerlevel</th>\n",
       "      <td>1</td>\n",
       "    </tr>\n",
       "    <tr>\n",
       "      <th>G-08</th>\n",
       "      <th>MiddleSchool</th>\n",
       "      <td>116</td>\n",
       "    </tr>\n",
       "    <tr>\n",
       "      <th>G-09</th>\n",
       "      <th>HighSchool</th>\n",
       "      <td>5</td>\n",
       "    </tr>\n",
       "    <tr>\n",
       "      <th>G-10</th>\n",
       "      <th>HighSchool</th>\n",
       "      <td>4</td>\n",
       "    </tr>\n",
       "    <tr>\n",
       "      <th>G-11</th>\n",
       "      <th>HighSchool</th>\n",
       "      <td>13</td>\n",
       "    </tr>\n",
       "    <tr>\n",
       "      <th>G-12</th>\n",
       "      <th>HighSchool</th>\n",
       "      <td>11</td>\n",
       "    </tr>\n",
       "  </tbody>\n",
       "</table>\n",
       "</div>"
      ],
      "text/plain": [
       "                      Class\n",
       "GradeID StageID            \n",
       "G-02    lowerlevel      147\n",
       "G-04    lowerlevel       48\n",
       "G-05    lowerlevel        3\n",
       "G-06    MiddleSchool     32\n",
       "G-07    MiddleSchool    100\n",
       "        lowerlevel        1\n",
       "G-08    MiddleSchool    116\n",
       "G-09    HighSchool        5\n",
       "G-10    HighSchool        4\n",
       "G-11    HighSchool       13\n",
       "G-12    HighSchool       11"
      ]
     },
     "execution_count": 23,
     "metadata": {},
     "output_type": "execute_result"
    }
   ],
   "source": [
    "cleaning = spd_df[['GradeID', 'StageID', 'Class']].groupby(['GradeID', 'StageID'])\n",
    "cleaning.count()"
   ]
  },
  {
   "cell_type": "markdown",
   "metadata": {
    "cell_id": "00037-04f0ab21-0a97-4203-9dbb-8e539d8f6bb9",
    "deepnote_cell_type": "markdown",
    "id": "Gphrntmz6lva"
   },
   "source": [
    "We see that there is an outlier G-07 data labeled as a `lowerlevel` instead of `MiddleSchool`. Let's fix that by changing the value of that cell."
   ]
  },
  {
   "cell_type": "code",
   "execution_count": 24,
   "metadata": {
    "cell_id": "00038-ed36f862-097f-45af-a632-eb027d07d9da",
    "colab": {
     "base_uri": "https://localhost:8080/",
     "height": 100
    },
    "deepnote_cell_type": "code",
    "deepnote_to_be_reexecuted": false,
    "executionInfo": {
     "elapsed": 949,
     "status": "ok",
     "timestamp": 1620279390206,
     "user": {
      "displayName": "Angeline Maris Gubat",
      "photoUrl": "https://lh3.googleusercontent.com/a-/AOh14Gijg6xgX0R_IA4o8GkF1xnv3D8-8kHv8i-V48U6=s64",
      "userId": "00875153666701401808"
     },
     "user_tz": -480
    },
    "execution_millis": 19,
    "execution_start": 1622605913195,
    "id": "B0hCboto6jp2",
    "outputId": "2c7be870-2249-44ac-f82a-ca8186d7441c",
    "source_hash": "7db577eb"
   },
   "outputs": [
    {
     "data": {
      "application/vnd.deepnote.dataframe.v2+json": {
       "column_count": 17,
       "columns": [
        {
         "dtype": "object",
         "name": "Gender",
         "stats": {
          "categories": [
           {
            "count": 1,
            "name": "F"
           }
          ],
          "nan_count": 0,
          "unique_count": 1
         }
        },
        {
         "dtype": "object",
         "name": "Nationality",
         "stats": {
          "categories": [
           {
            "count": 1,
            "name": "Kuwait"
           }
          ],
          "nan_count": 0,
          "unique_count": 1
         }
        },
        {
         "dtype": "object",
         "name": "BirthPlace",
         "stats": {
          "categories": [
           {
            "count": 1,
            "name": "Kuwait"
           }
          ],
          "nan_count": 0,
          "unique_count": 1
         }
        },
        {
         "dtype": "object",
         "name": "StageID",
         "stats": {
          "categories": [
           {
            "count": 1,
            "name": "lowerlevel"
           }
          ],
          "nan_count": 0,
          "unique_count": 1
         }
        },
        {
         "dtype": "object",
         "name": "GradeID",
         "stats": {
          "categories": [
           {
            "count": 1,
            "name": "G-07"
           }
          ],
          "nan_count": 0,
          "unique_count": 1
         }
        },
        {
         "dtype": "object",
         "name": "SectionID",
         "stats": {
          "categories": [
           {
            "count": 1,
            "name": "A"
           }
          ],
          "nan_count": 0,
          "unique_count": 1
         }
        },
        {
         "dtype": "object",
         "name": "Topic",
         "stats": {
          "categories": [
           {
            "count": 1,
            "name": "IT"
           }
          ],
          "nan_count": 0,
          "unique_count": 1
         }
        },
        {
         "dtype": "object",
         "name": "Semester",
         "stats": {
          "categories": [
           {
            "count": 1,
            "name": "F"
           }
          ],
          "nan_count": 0,
          "unique_count": 1
         }
        },
        {
         "dtype": "object",
         "name": "Relation",
         "stats": {
          "categories": [
           {
            "count": 1,
            "name": "Father"
           }
          ],
          "nan_count": 0,
          "unique_count": 1
         }
        },
        {
         "dtype": "int64",
         "name": "RaisedHands",
         "stats": {
          "histogram": [
           {
            "bin_end": 1.6,
            "bin_start": 1.5,
            "count": 0
           },
           {
            "bin_end": 1.7,
            "bin_start": 1.6,
            "count": 0
           },
           {
            "bin_end": 1.8,
            "bin_start": 1.7,
            "count": 0
           },
           {
            "bin_end": 1.9,
            "bin_start": 1.8,
            "count": 0
           },
           {
            "bin_end": 2,
            "bin_start": 1.9,
            "count": 0
           },
           {
            "bin_end": 2.1,
            "bin_start": 2,
            "count": 1
           },
           {
            "bin_end": 2.2,
            "bin_start": 2.1,
            "count": 0
           },
           {
            "bin_end": 2.3,
            "bin_start": 2.2,
            "count": 0
           },
           {
            "bin_end": 2.4,
            "bin_start": 2.3,
            "count": 0
           },
           {
            "bin_end": 2.5,
            "bin_start": 2.4,
            "count": 0
           }
          ],
          "max": "2",
          "min": "2",
          "nan_count": 0,
          "unique_count": 1
         }
        },
        {
         "dtype": "int64",
         "name": "VisitedResources",
         "stats": {
          "histogram": [
           {
            "bin_end": 18.6,
            "bin_start": 18.5,
            "count": 0
           },
           {
            "bin_end": 18.7,
            "bin_start": 18.6,
            "count": 0
           },
           {
            "bin_end": 18.8,
            "bin_start": 18.7,
            "count": 0
           },
           {
            "bin_end": 18.9,
            "bin_start": 18.8,
            "count": 0
           },
           {
            "bin_end": 19,
            "bin_start": 18.9,
            "count": 0
           },
           {
            "bin_end": 19.1,
            "bin_start": 19,
            "count": 1
           },
           {
            "bin_end": 19.2,
            "bin_start": 19.1,
            "count": 0
           },
           {
            "bin_end": 19.3,
            "bin_start": 19.2,
            "count": 0
           },
           {
            "bin_end": 19.4,
            "bin_start": 19.3,
            "count": 0
           },
           {
            "bin_end": 19.5,
            "bin_start": 19.4,
            "count": 0
           }
          ],
          "max": "19",
          "min": "19",
          "nan_count": 0,
          "unique_count": 1
         }
        },
        {
         "dtype": "int64",
         "name": "AnnouncementsView",
         "stats": {
          "histogram": [
           {
            "bin_end": 9.6,
            "bin_start": 9.5,
            "count": 0
           },
           {
            "bin_end": 9.7,
            "bin_start": 9.6,
            "count": 0
           },
           {
            "bin_end": 9.8,
            "bin_start": 9.7,
            "count": 0
           },
           {
            "bin_end": 9.9,
            "bin_start": 9.8,
            "count": 0
           },
           {
            "bin_end": 10,
            "bin_start": 9.9,
            "count": 0
           },
           {
            "bin_end": 10.1,
            "bin_start": 10,
            "count": 1
           },
           {
            "bin_end": 10.2,
            "bin_start": 10.1,
            "count": 0
           },
           {
            "bin_end": 10.3,
            "bin_start": 10.2,
            "count": 0
           },
           {
            "bin_end": 10.4,
            "bin_start": 10.3,
            "count": 0
           },
           {
            "bin_end": 10.5,
            "bin_start": 10.4,
            "count": 0
           }
          ],
          "max": "10",
          "min": "10",
          "nan_count": 0,
          "unique_count": 1
         }
        },
        {
         "dtype": "int64",
         "name": "Discussion",
         "stats": {
          "histogram": [
           {
            "bin_end": 49.6,
            "bin_start": 49.5,
            "count": 0
           },
           {
            "bin_end": 49.7,
            "bin_start": 49.6,
            "count": 0
           },
           {
            "bin_end": 49.8,
            "bin_start": 49.7,
            "count": 0
           },
           {
            "bin_end": 49.9,
            "bin_start": 49.8,
            "count": 0
           },
           {
            "bin_end": 50,
            "bin_start": 49.9,
            "count": 0
           },
           {
            "bin_end": 50.1,
            "bin_start": 50,
            "count": 1
           },
           {
            "bin_end": 50.2,
            "bin_start": 50.1,
            "count": 0
           },
           {
            "bin_end": 50.3,
            "bin_start": 50.2,
            "count": 0
           },
           {
            "bin_end": 50.4,
            "bin_start": 50.3,
            "count": 0
           },
           {
            "bin_end": 50.5,
            "bin_start": 50.4,
            "count": 0
           }
          ],
          "max": "50",
          "min": "50",
          "nan_count": 0,
          "unique_count": 1
         }
        },
        {
         "dtype": "object",
         "name": "ParentAnsweringSurvey",
         "stats": {
          "categories": [
           {
            "count": 1,
            "name": "Yes"
           }
          ],
          "nan_count": 0,
          "unique_count": 1
         }
        },
        {
         "dtype": "object",
         "name": "ParentSchoolSatisfaction",
         "stats": {
          "categories": [
           {
            "count": 1,
            "name": "Good"
           }
          ],
          "nan_count": 0,
          "unique_count": 1
         }
        },
        {
         "dtype": "object",
         "name": "StudentAbsenceDays",
         "stats": {
          "categories": [
           {
            "count": 1,
            "name": "Above-7"
           }
          ],
          "nan_count": 0,
          "unique_count": 1
         }
        },
        {
         "dtype": "object",
         "name": "Class",
         "stats": {
          "categories": [
           {
            "count": 1,
            "name": "L"
           }
          ],
          "nan_count": 0,
          "unique_count": 1
         }
        },
        {
         "dtype": "int64",
         "name": "_deepnote_index_column"
        }
       ],
       "row_count": 1,
       "rows_bottom": null,
       "rows_top": [
        {
         "AnnouncementsView": 10,
         "BirthPlace": "Kuwait",
         "Class": "L",
         "Discussion": 50,
         "Gender": "F",
         "GradeID": "G-07",
         "Nationality": "Kuwait",
         "ParentAnsweringSurvey": "Yes",
         "ParentSchoolSatisfaction": "Good",
         "RaisedHands": 2,
         "Relation": "Father",
         "SectionID": "A",
         "Semester": "F",
         "StageID": "lowerlevel",
         "StudentAbsenceDays": "Above-7",
         "Topic": "IT",
         "VisitedResources": 19,
         "_deepnote_index_column": 32
        }
       ]
      },
      "text/html": [
       "<div>\n",
       "<style scoped>\n",
       "    .dataframe tbody tr th:only-of-type {\n",
       "        vertical-align: middle;\n",
       "    }\n",
       "\n",
       "    .dataframe tbody tr th {\n",
       "        vertical-align: top;\n",
       "    }\n",
       "\n",
       "    .dataframe thead th {\n",
       "        text-align: right;\n",
       "    }\n",
       "</style>\n",
       "<table border=\"1\" class=\"dataframe\">\n",
       "  <thead>\n",
       "    <tr style=\"text-align: right;\">\n",
       "      <th></th>\n",
       "      <th>Gender</th>\n",
       "      <th>Nationality</th>\n",
       "      <th>BirthPlace</th>\n",
       "      <th>StageID</th>\n",
       "      <th>GradeID</th>\n",
       "      <th>SectionID</th>\n",
       "      <th>Topic</th>\n",
       "      <th>Semester</th>\n",
       "      <th>Relation</th>\n",
       "      <th>RaisedHands</th>\n",
       "      <th>VisitedResources</th>\n",
       "      <th>AnnouncementsView</th>\n",
       "      <th>Discussion</th>\n",
       "      <th>ParentAnsweringSurvey</th>\n",
       "      <th>ParentSchoolSatisfaction</th>\n",
       "      <th>StudentAbsenceDays</th>\n",
       "      <th>Class</th>\n",
       "    </tr>\n",
       "  </thead>\n",
       "  <tbody>\n",
       "    <tr>\n",
       "      <th>32</th>\n",
       "      <td>F</td>\n",
       "      <td>Kuwait</td>\n",
       "      <td>Kuwait</td>\n",
       "      <td>lowerlevel</td>\n",
       "      <td>G-07</td>\n",
       "      <td>A</td>\n",
       "      <td>IT</td>\n",
       "      <td>F</td>\n",
       "      <td>Father</td>\n",
       "      <td>2</td>\n",
       "      <td>19</td>\n",
       "      <td>10</td>\n",
       "      <td>50</td>\n",
       "      <td>Yes</td>\n",
       "      <td>Good</td>\n",
       "      <td>Above-7</td>\n",
       "      <td>L</td>\n",
       "    </tr>\n",
       "  </tbody>\n",
       "</table>\n",
       "</div>"
      ],
      "text/plain": [
       "   Gender Nationality BirthPlace     StageID GradeID SectionID Topic Semester  \\\n",
       "32      F      Kuwait     Kuwait  lowerlevel    G-07         A    IT        F   \n",
       "\n",
       "   Relation  RaisedHands  VisitedResources  AnnouncementsView  Discussion  \\\n",
       "32   Father            2                19                 10          50   \n",
       "\n",
       "   ParentAnsweringSurvey ParentSchoolSatisfaction StudentAbsenceDays Class  \n",
       "32                   Yes                     Good            Above-7     L  "
      ]
     },
     "execution_count": 24,
     "metadata": {},
     "output_type": "execute_result"
    }
   ],
   "source": [
    "index = spd_df[(spd_df['StageID'] == \"lowerlevel\") & (spd_df['GradeID'] == \"G-07\")].index\n",
    "spd_df.loc[index]"
   ]
  },
  {
   "cell_type": "code",
   "execution_count": 25,
   "metadata": {
    "cell_id": "00039-cb64389d-89f7-4118-a571-6c11f9904e01",
    "colab": {
     "base_uri": "https://localhost:8080/",
     "height": 100
    },
    "deepnote_cell_type": "code",
    "deepnote_to_be_reexecuted": false,
    "executionInfo": {
     "elapsed": 637,
     "status": "ok",
     "timestamp": 1620279392959,
     "user": {
      "displayName": "Angeline Maris Gubat",
      "photoUrl": "https://lh3.googleusercontent.com/a-/AOh14Gijg6xgX0R_IA4o8GkF1xnv3D8-8kHv8i-V48U6=s64",
      "userId": "00875153666701401808"
     },
     "user_tz": -480
    },
    "execution_millis": 18,
    "execution_start": 1622605913258,
    "id": "XfXORKq77kyi",
    "outputId": "69c35b72-29b5-48c2-b6d4-da17e295594e",
    "source_hash": "4c5a6a5d"
   },
   "outputs": [
    {
     "data": {
      "application/vnd.deepnote.dataframe.v2+json": {
       "column_count": 17,
       "columns": [
        {
         "dtype": "object",
         "name": "Gender",
         "stats": {
          "categories": [
           {
            "count": 1,
            "name": "F"
           }
          ],
          "nan_count": 0,
          "unique_count": 1
         }
        },
        {
         "dtype": "object",
         "name": "Nationality",
         "stats": {
          "categories": [
           {
            "count": 1,
            "name": "Kuwait"
           }
          ],
          "nan_count": 0,
          "unique_count": 1
         }
        },
        {
         "dtype": "object",
         "name": "BirthPlace",
         "stats": {
          "categories": [
           {
            "count": 1,
            "name": "Kuwait"
           }
          ],
          "nan_count": 0,
          "unique_count": 1
         }
        },
        {
         "dtype": "object",
         "name": "StageID",
         "stats": {
          "categories": [
           {
            "count": 1,
            "name": "MiddleSchool"
           }
          ],
          "nan_count": 0,
          "unique_count": 1
         }
        },
        {
         "dtype": "object",
         "name": "GradeID",
         "stats": {
          "categories": [
           {
            "count": 1,
            "name": "G-07"
           }
          ],
          "nan_count": 0,
          "unique_count": 1
         }
        },
        {
         "dtype": "object",
         "name": "SectionID",
         "stats": {
          "categories": [
           {
            "count": 1,
            "name": "A"
           }
          ],
          "nan_count": 0,
          "unique_count": 1
         }
        },
        {
         "dtype": "object",
         "name": "Topic",
         "stats": {
          "categories": [
           {
            "count": 1,
            "name": "IT"
           }
          ],
          "nan_count": 0,
          "unique_count": 1
         }
        },
        {
         "dtype": "object",
         "name": "Semester",
         "stats": {
          "categories": [
           {
            "count": 1,
            "name": "F"
           }
          ],
          "nan_count": 0,
          "unique_count": 1
         }
        },
        {
         "dtype": "object",
         "name": "Relation",
         "stats": {
          "categories": [
           {
            "count": 1,
            "name": "Father"
           }
          ],
          "nan_count": 0,
          "unique_count": 1
         }
        },
        {
         "dtype": "int64",
         "name": "RaisedHands",
         "stats": {
          "histogram": [
           {
            "bin_end": 1.6,
            "bin_start": 1.5,
            "count": 0
           },
           {
            "bin_end": 1.7,
            "bin_start": 1.6,
            "count": 0
           },
           {
            "bin_end": 1.8,
            "bin_start": 1.7,
            "count": 0
           },
           {
            "bin_end": 1.9,
            "bin_start": 1.8,
            "count": 0
           },
           {
            "bin_end": 2,
            "bin_start": 1.9,
            "count": 0
           },
           {
            "bin_end": 2.1,
            "bin_start": 2,
            "count": 1
           },
           {
            "bin_end": 2.2,
            "bin_start": 2.1,
            "count": 0
           },
           {
            "bin_end": 2.3,
            "bin_start": 2.2,
            "count": 0
           },
           {
            "bin_end": 2.4,
            "bin_start": 2.3,
            "count": 0
           },
           {
            "bin_end": 2.5,
            "bin_start": 2.4,
            "count": 0
           }
          ],
          "max": "2",
          "min": "2",
          "nan_count": 0,
          "unique_count": 1
         }
        },
        {
         "dtype": "int64",
         "name": "VisitedResources",
         "stats": {
          "histogram": [
           {
            "bin_end": 18.6,
            "bin_start": 18.5,
            "count": 0
           },
           {
            "bin_end": 18.7,
            "bin_start": 18.6,
            "count": 0
           },
           {
            "bin_end": 18.8,
            "bin_start": 18.7,
            "count": 0
           },
           {
            "bin_end": 18.9,
            "bin_start": 18.8,
            "count": 0
           },
           {
            "bin_end": 19,
            "bin_start": 18.9,
            "count": 0
           },
           {
            "bin_end": 19.1,
            "bin_start": 19,
            "count": 1
           },
           {
            "bin_end": 19.2,
            "bin_start": 19.1,
            "count": 0
           },
           {
            "bin_end": 19.3,
            "bin_start": 19.2,
            "count": 0
           },
           {
            "bin_end": 19.4,
            "bin_start": 19.3,
            "count": 0
           },
           {
            "bin_end": 19.5,
            "bin_start": 19.4,
            "count": 0
           }
          ],
          "max": "19",
          "min": "19",
          "nan_count": 0,
          "unique_count": 1
         }
        },
        {
         "dtype": "int64",
         "name": "AnnouncementsView",
         "stats": {
          "histogram": [
           {
            "bin_end": 9.6,
            "bin_start": 9.5,
            "count": 0
           },
           {
            "bin_end": 9.7,
            "bin_start": 9.6,
            "count": 0
           },
           {
            "bin_end": 9.8,
            "bin_start": 9.7,
            "count": 0
           },
           {
            "bin_end": 9.9,
            "bin_start": 9.8,
            "count": 0
           },
           {
            "bin_end": 10,
            "bin_start": 9.9,
            "count": 0
           },
           {
            "bin_end": 10.1,
            "bin_start": 10,
            "count": 1
           },
           {
            "bin_end": 10.2,
            "bin_start": 10.1,
            "count": 0
           },
           {
            "bin_end": 10.3,
            "bin_start": 10.2,
            "count": 0
           },
           {
            "bin_end": 10.4,
            "bin_start": 10.3,
            "count": 0
           },
           {
            "bin_end": 10.5,
            "bin_start": 10.4,
            "count": 0
           }
          ],
          "max": "10",
          "min": "10",
          "nan_count": 0,
          "unique_count": 1
         }
        },
        {
         "dtype": "int64",
         "name": "Discussion",
         "stats": {
          "histogram": [
           {
            "bin_end": 49.6,
            "bin_start": 49.5,
            "count": 0
           },
           {
            "bin_end": 49.7,
            "bin_start": 49.6,
            "count": 0
           },
           {
            "bin_end": 49.8,
            "bin_start": 49.7,
            "count": 0
           },
           {
            "bin_end": 49.9,
            "bin_start": 49.8,
            "count": 0
           },
           {
            "bin_end": 50,
            "bin_start": 49.9,
            "count": 0
           },
           {
            "bin_end": 50.1,
            "bin_start": 50,
            "count": 1
           },
           {
            "bin_end": 50.2,
            "bin_start": 50.1,
            "count": 0
           },
           {
            "bin_end": 50.3,
            "bin_start": 50.2,
            "count": 0
           },
           {
            "bin_end": 50.4,
            "bin_start": 50.3,
            "count": 0
           },
           {
            "bin_end": 50.5,
            "bin_start": 50.4,
            "count": 0
           }
          ],
          "max": "50",
          "min": "50",
          "nan_count": 0,
          "unique_count": 1
         }
        },
        {
         "dtype": "object",
         "name": "ParentAnsweringSurvey",
         "stats": {
          "categories": [
           {
            "count": 1,
            "name": "Yes"
           }
          ],
          "nan_count": 0,
          "unique_count": 1
         }
        },
        {
         "dtype": "object",
         "name": "ParentSchoolSatisfaction",
         "stats": {
          "categories": [
           {
            "count": 1,
            "name": "Good"
           }
          ],
          "nan_count": 0,
          "unique_count": 1
         }
        },
        {
         "dtype": "object",
         "name": "StudentAbsenceDays",
         "stats": {
          "categories": [
           {
            "count": 1,
            "name": "Above-7"
           }
          ],
          "nan_count": 0,
          "unique_count": 1
         }
        },
        {
         "dtype": "object",
         "name": "Class",
         "stats": {
          "categories": [
           {
            "count": 1,
            "name": "L"
           }
          ],
          "nan_count": 0,
          "unique_count": 1
         }
        },
        {
         "dtype": "int64",
         "name": "_deepnote_index_column"
        }
       ],
       "row_count": 1,
       "rows_bottom": null,
       "rows_top": [
        {
         "AnnouncementsView": 10,
         "BirthPlace": "Kuwait",
         "Class": "L",
         "Discussion": 50,
         "Gender": "F",
         "GradeID": "G-07",
         "Nationality": "Kuwait",
         "ParentAnsweringSurvey": "Yes",
         "ParentSchoolSatisfaction": "Good",
         "RaisedHands": 2,
         "Relation": "Father",
         "SectionID": "A",
         "Semester": "F",
         "StageID": "MiddleSchool",
         "StudentAbsenceDays": "Above-7",
         "Topic": "IT",
         "VisitedResources": 19,
         "_deepnote_index_column": 32
        }
       ]
      },
      "text/html": [
       "<div>\n",
       "<style scoped>\n",
       "    .dataframe tbody tr th:only-of-type {\n",
       "        vertical-align: middle;\n",
       "    }\n",
       "\n",
       "    .dataframe tbody tr th {\n",
       "        vertical-align: top;\n",
       "    }\n",
       "\n",
       "    .dataframe thead th {\n",
       "        text-align: right;\n",
       "    }\n",
       "</style>\n",
       "<table border=\"1\" class=\"dataframe\">\n",
       "  <thead>\n",
       "    <tr style=\"text-align: right;\">\n",
       "      <th></th>\n",
       "      <th>Gender</th>\n",
       "      <th>Nationality</th>\n",
       "      <th>BirthPlace</th>\n",
       "      <th>StageID</th>\n",
       "      <th>GradeID</th>\n",
       "      <th>SectionID</th>\n",
       "      <th>Topic</th>\n",
       "      <th>Semester</th>\n",
       "      <th>Relation</th>\n",
       "      <th>RaisedHands</th>\n",
       "      <th>VisitedResources</th>\n",
       "      <th>AnnouncementsView</th>\n",
       "      <th>Discussion</th>\n",
       "      <th>ParentAnsweringSurvey</th>\n",
       "      <th>ParentSchoolSatisfaction</th>\n",
       "      <th>StudentAbsenceDays</th>\n",
       "      <th>Class</th>\n",
       "    </tr>\n",
       "  </thead>\n",
       "  <tbody>\n",
       "    <tr>\n",
       "      <th>32</th>\n",
       "      <td>F</td>\n",
       "      <td>Kuwait</td>\n",
       "      <td>Kuwait</td>\n",
       "      <td>MiddleSchool</td>\n",
       "      <td>G-07</td>\n",
       "      <td>A</td>\n",
       "      <td>IT</td>\n",
       "      <td>F</td>\n",
       "      <td>Father</td>\n",
       "      <td>2</td>\n",
       "      <td>19</td>\n",
       "      <td>10</td>\n",
       "      <td>50</td>\n",
       "      <td>Yes</td>\n",
       "      <td>Good</td>\n",
       "      <td>Above-7</td>\n",
       "      <td>L</td>\n",
       "    </tr>\n",
       "  </tbody>\n",
       "</table>\n",
       "</div>"
      ],
      "text/plain": [
       "   Gender Nationality BirthPlace       StageID GradeID SectionID Topic  \\\n",
       "32      F      Kuwait     Kuwait  MiddleSchool    G-07         A    IT   \n",
       "\n",
       "   Semester Relation  RaisedHands  VisitedResources  AnnouncementsView  \\\n",
       "32        F   Father            2                19                 10   \n",
       "\n",
       "    Discussion ParentAnsweringSurvey ParentSchoolSatisfaction  \\\n",
       "32          50                   Yes                     Good   \n",
       "\n",
       "   StudentAbsenceDays Class  \n",
       "32            Above-7     L  "
      ]
     },
     "execution_count": 25,
     "metadata": {},
     "output_type": "execute_result"
    }
   ],
   "source": [
    "spd_df.loc[index, 'StageID'] = \"MiddleSchool\"\n",
    "spd_df.loc[index]"
   ]
  },
  {
   "cell_type": "code",
   "execution_count": 26,
   "metadata": {
    "cell_id": "00040-eac9e2d3-6920-4bfc-bcb4-8527e80d1da0",
    "colab": {
     "base_uri": "https://localhost:8080/",
     "height": 390
    },
    "deepnote_cell_type": "code",
    "deepnote_to_be_reexecuted": false,
    "executionInfo": {
     "elapsed": 909,
     "status": "ok",
     "timestamp": 1620279430994,
     "user": {
      "displayName": "Angeline Maris Gubat",
      "photoUrl": "https://lh3.googleusercontent.com/a-/AOh14Gijg6xgX0R_IA4o8GkF1xnv3D8-8kHv8i-V48U6=s64",
      "userId": "00875153666701401808"
     },
     "user_tz": -480
    },
    "execution_millis": 27,
    "execution_start": 1622605913270,
    "id": "fJWG8fA3LZzX",
    "outputId": "16830109-1006-43f3-e3fc-b8fe4d3f23f1",
    "source_hash": "4d15b54"
   },
   "outputs": [
    {
     "data": {
      "application/vnd.deepnote.dataframe.v2+json": {
       "column_count": 1,
       "columns": [
        {
         "dtype": "int64",
         "name": "Class",
         "stats": {
          "histogram": [
           {
            "bin_end": 17.4,
            "bin_start": 3,
            "count": 5
           },
           {
            "bin_end": 31.8,
            "bin_start": 17.4,
            "count": 0
           },
           {
            "bin_end": 46.2,
            "bin_start": 31.8,
            "count": 1
           },
           {
            "bin_end": 60.6,
            "bin_start": 46.2,
            "count": 1
           },
           {
            "bin_end": 75,
            "bin_start": 60.6,
            "count": 0
           },
           {
            "bin_end": 89.4,
            "bin_start": 75,
            "count": 0
           },
           {
            "bin_end": 103.8,
            "bin_start": 89.4,
            "count": 1
           },
           {
            "bin_end": 118.2,
            "bin_start": 103.8,
            "count": 1
           },
           {
            "bin_end": 132.6,
            "bin_start": 118.2,
            "count": 0
           },
           {
            "bin_end": 147,
            "bin_start": 132.6,
            "count": 1
           }
          ],
          "max": "147",
          "min": "3",
          "nan_count": 0,
          "unique_count": 10
         }
        },
        {
         "dtype": "object",
         "name": "_deepnote_index_column"
        }
       ],
       "row_count": 10,
       "rows_bottom": null,
       "rows_top": [
        {
         "Class": 147,
         "_deepnote_index_column": "('G-02', 'lowerlevel')"
        },
        {
         "Class": 48,
         "_deepnote_index_column": "('G-04', 'lowerlevel')"
        },
        {
         "Class": 3,
         "_deepnote_index_column": "('G-05', 'lowerlevel')"
        },
        {
         "Class": 32,
         "_deepnote_index_column": "('G-06', 'MiddleSchool')"
        },
        {
         "Class": 101,
         "_deepnote_index_column": "('G-07', 'MiddleSchool')"
        },
        {
         "Class": 116,
         "_deepnote_index_column": "('G-08', 'MiddleSchool')"
        },
        {
         "Class": 5,
         "_deepnote_index_column": "('G-09', 'HighSchool')"
        },
        {
         "Class": 4,
         "_deepnote_index_column": "('G-10', 'HighSchool')"
        },
        {
         "Class": 13,
         "_deepnote_index_column": "('G-11', 'HighSchool')"
        },
        {
         "Class": 11,
         "_deepnote_index_column": "('G-12', 'HighSchool')"
        }
       ]
      },
      "text/html": [
       "<div>\n",
       "<style scoped>\n",
       "    .dataframe tbody tr th:only-of-type {\n",
       "        vertical-align: middle;\n",
       "    }\n",
       "\n",
       "    .dataframe tbody tr th {\n",
       "        vertical-align: top;\n",
       "    }\n",
       "\n",
       "    .dataframe thead th {\n",
       "        text-align: right;\n",
       "    }\n",
       "</style>\n",
       "<table border=\"1\" class=\"dataframe\">\n",
       "  <thead>\n",
       "    <tr style=\"text-align: right;\">\n",
       "      <th></th>\n",
       "      <th></th>\n",
       "      <th>Class</th>\n",
       "    </tr>\n",
       "    <tr>\n",
       "      <th>GradeID</th>\n",
       "      <th>StageID</th>\n",
       "      <th></th>\n",
       "    </tr>\n",
       "  </thead>\n",
       "  <tbody>\n",
       "    <tr>\n",
       "      <th>G-02</th>\n",
       "      <th>lowerlevel</th>\n",
       "      <td>147</td>\n",
       "    </tr>\n",
       "    <tr>\n",
       "      <th>G-04</th>\n",
       "      <th>lowerlevel</th>\n",
       "      <td>48</td>\n",
       "    </tr>\n",
       "    <tr>\n",
       "      <th>G-05</th>\n",
       "      <th>lowerlevel</th>\n",
       "      <td>3</td>\n",
       "    </tr>\n",
       "    <tr>\n",
       "      <th>G-06</th>\n",
       "      <th>MiddleSchool</th>\n",
       "      <td>32</td>\n",
       "    </tr>\n",
       "    <tr>\n",
       "      <th>G-07</th>\n",
       "      <th>MiddleSchool</th>\n",
       "      <td>101</td>\n",
       "    </tr>\n",
       "    <tr>\n",
       "      <th>G-08</th>\n",
       "      <th>MiddleSchool</th>\n",
       "      <td>116</td>\n",
       "    </tr>\n",
       "    <tr>\n",
       "      <th>G-09</th>\n",
       "      <th>HighSchool</th>\n",
       "      <td>5</td>\n",
       "    </tr>\n",
       "    <tr>\n",
       "      <th>G-10</th>\n",
       "      <th>HighSchool</th>\n",
       "      <td>4</td>\n",
       "    </tr>\n",
       "    <tr>\n",
       "      <th>G-11</th>\n",
       "      <th>HighSchool</th>\n",
       "      <td>13</td>\n",
       "    </tr>\n",
       "    <tr>\n",
       "      <th>G-12</th>\n",
       "      <th>HighSchool</th>\n",
       "      <td>11</td>\n",
       "    </tr>\n",
       "  </tbody>\n",
       "</table>\n",
       "</div>"
      ],
      "text/plain": [
       "                      Class\n",
       "GradeID StageID            \n",
       "G-02    lowerlevel      147\n",
       "G-04    lowerlevel       48\n",
       "G-05    lowerlevel        3\n",
       "G-06    MiddleSchool     32\n",
       "G-07    MiddleSchool    101\n",
       "G-08    MiddleSchool    116\n",
       "G-09    HighSchool        5\n",
       "G-10    HighSchool        4\n",
       "G-11    HighSchool       13\n",
       "G-12    HighSchool       11"
      ]
     },
     "execution_count": 26,
     "metadata": {},
     "output_type": "execute_result"
    }
   ],
   "source": [
    "cleaning2 = spd_df[['GradeID', 'StageID', 'Class']].groupby(['GradeID', 'StageID'])\n",
    "cleaning2.count()"
   ]
  },
  {
   "cell_type": "markdown",
   "metadata": {
    "cell_id": "00041-68dd33b1-33c2-4a6e-8c81-b198100c15e5",
    "deepnote_cell_type": "markdown",
    "id": "zTzcZkil4g7e"
   },
   "source": [
    "### **Exploratory Analysis**  \n",
    "Now that we have cleaned our dataset, we can now proceed in analyzing our data and conduct exploratory analysis to understand the dataset further. As mentioned, we aim to know which factors affect student's academic grades specifically we want to address the following questions:  \n",
    "* Do students who participate more have higher grades than those who participate less?\n",
    "* Does parent participation and satisfaction affect a student’s performance?\n",
    "* Do the number of class absences greatly affect the student’s grades?\n",
    "* Does visiting class resources result in higher class grades?"
   ]
  },
  {
   "cell_type": "markdown",
   "metadata": {
    "cell_id": "00042-53cafaea-8745-46ce-9478-aa31425587fb",
    "deepnote_cell_type": "markdown",
    "id": "k2EK_qiW5Rpo"
   },
   "source": [
    "#### ***Q1: Do students who participate more have higher grades than those who participate less?***  \n",
    "Student participation has been defined as “students’ willingness, need, desire, and compulsion to participate in, and be successful in, the learning process”. \n",
    "For the first question, we wanted to know if the student actively participates then it will also result to a higher grade. With this, we will be using the following features:  \n",
    "* `AnnouncementsView`: Total number of times a student checks the announcements<br>\n",
    "* `Discussion`: Total number of times a student participates on discussion groups<br>\n",
    "* `RaisedHands`: Total number of times a student raises his/her hand  <br>\n",
    "* `Class`: Represents the interval of a student total grade <br>\n",
    "  * <i>Low</i>: interval includes values from 0 to 69\n",
    "  * <i>Middle</i>: interval includes values from 70 to 89\n",
    "  * <i>High</i>: interval includes values from 90-100"
   ]
  },
  {
   "cell_type": "markdown",
   "metadata": {
    "cell_id": "00046-78f1e612-2bb6-47e0-b13f-6f1280ae07b5",
    "deepnote_cell_type": "markdown",
    "id": "k2EK_qiW5Rpo"
   },
   "source": [
    "To start, let us assign to a dataframe variable the needed features for this research question. "
   ]
  },
  {
   "cell_type": "code",
   "execution_count": 27,
   "metadata": {
    "cell_id": "00043-c0b7f74c-49f0-4407-ae4c-ad1c7dab84f0",
    "colab": {
     "base_uri": "https://localhost:8080/",
     "height": 419
    },
    "deepnote_cell_type": "code",
    "deepnote_to_be_reexecuted": false,
    "executionInfo": {
     "elapsed": 784,
     "status": "ok",
     "timestamp": 1620279440102,
     "user": {
      "displayName": "Angeline Maris Gubat",
      "photoUrl": "https://lh3.googleusercontent.com/a-/AOh14Gijg6xgX0R_IA4o8GkF1xnv3D8-8kHv8i-V48U6=s64",
      "userId": "00875153666701401808"
     },
     "user_tz": -480
    },
    "execution_millis": 27,
    "execution_start": 1622605913293,
    "id": "1EDiHR7QPiEP",
    "outputId": "81ffbd92-cc7c-4c4d-e02f-c82aead0e757",
    "source_hash": "1e5cb2e"
   },
   "outputs": [
    {
     "data": {
      "application/vnd.deepnote.dataframe.v2+json": {
       "column_count": 4,
       "columns": [
        {
         "dtype": "int64",
         "name": "AnnouncementsView",
         "stats": {
          "histogram": [
           {
            "bin_end": 1.2,
            "bin_start": 0,
            "count": 1
           },
           {
            "bin_end": 2.4,
            "bin_start": 1.2,
            "count": 1
           },
           {
            "bin_end": 3.5999999999999996,
            "bin_start": 2.4,
            "count": 1
           },
           {
            "bin_end": 4.8,
            "bin_start": 3.5999999999999996,
            "count": 0
           },
           {
            "bin_end": 6,
            "bin_start": 4.8,
            "count": 1
           },
           {
            "bin_end": 7.199999999999999,
            "bin_start": 6,
            "count": 0
           },
           {
            "bin_end": 8.4,
            "bin_start": 7.199999999999999,
            "count": 0
           },
           {
            "bin_end": 9.6,
            "bin_start": 8.4,
            "count": 0
           },
           {
            "bin_end": 10.799999999999999,
            "bin_start": 9.6,
            "count": 0
           },
           {
            "bin_end": 12,
            "bin_start": 10.799999999999999,
            "count": 1
           }
          ],
          "max": "12",
          "min": "0",
          "nan_count": 0,
          "unique_count": 5
         }
        },
        {
         "dtype": "int64",
         "name": "Discussion",
         "stats": {
          "histogram": [
           {
            "bin_end": 23,
            "bin_start": 20,
            "count": 1
           },
           {
            "bin_end": 26,
            "bin_start": 23,
            "count": 1
           },
           {
            "bin_end": 29,
            "bin_start": 26,
            "count": 0
           },
           {
            "bin_end": 32,
            "bin_start": 29,
            "count": 1
           },
           {
            "bin_end": 35,
            "bin_start": 32,
            "count": 0
           },
           {
            "bin_end": 38,
            "bin_start": 35,
            "count": 1
           },
           {
            "bin_end": 41,
            "bin_start": 38,
            "count": 0
           },
           {
            "bin_end": 44,
            "bin_start": 41,
            "count": 0
           },
           {
            "bin_end": 47,
            "bin_start": 44,
            "count": 0
           },
           {
            "bin_end": 50,
            "bin_start": 47,
            "count": 1
           }
          ],
          "max": "50",
          "min": "20",
          "nan_count": 0,
          "unique_count": 5
         }
        },
        {
         "dtype": "int64",
         "name": "RaisedHands",
         "stats": {
          "histogram": [
           {
            "bin_end": 13,
            "bin_start": 10,
            "count": 1
           },
           {
            "bin_end": 16,
            "bin_start": 13,
            "count": 1
           },
           {
            "bin_end": 19,
            "bin_start": 16,
            "count": 0
           },
           {
            "bin_end": 22,
            "bin_start": 19,
            "count": 1
           },
           {
            "bin_end": 25,
            "bin_start": 22,
            "count": 0
           },
           {
            "bin_end": 28,
            "bin_start": 25,
            "count": 0
           },
           {
            "bin_end": 31,
            "bin_start": 28,
            "count": 1
           },
           {
            "bin_end": 34,
            "bin_start": 31,
            "count": 0
           },
           {
            "bin_end": 37,
            "bin_start": 34,
            "count": 0
           },
           {
            "bin_end": 40,
            "bin_start": 37,
            "count": 1
           }
          ],
          "max": "40",
          "min": "10",
          "nan_count": 0,
          "unique_count": 5
         }
        },
        {
         "dtype": "object",
         "name": "Class",
         "stats": {
          "categories": [
           {
            "count": 3,
            "name": "M"
           },
           {
            "count": 2,
            "name": "L"
           }
          ],
          "nan_count": 0,
          "unique_count": 2
         }
        },
        {
         "dtype": "int64",
         "name": "_deepnote_index_column"
        }
       ],
       "row_count": 5,
       "rows_bottom": null,
       "rows_top": [
        {
         "AnnouncementsView": 2,
         "Class": "M",
         "Discussion": 20,
         "RaisedHands": 15,
         "_deepnote_index_column": 0
        },
        {
         "AnnouncementsView": 3,
         "Class": "M",
         "Discussion": 25,
         "RaisedHands": 20,
         "_deepnote_index_column": 1
        },
        {
         "AnnouncementsView": 0,
         "Class": "L",
         "Discussion": 30,
         "RaisedHands": 10,
         "_deepnote_index_column": 2
        },
        {
         "AnnouncementsView": 5,
         "Class": "L",
         "Discussion": 35,
         "RaisedHands": 30,
         "_deepnote_index_column": 3
        },
        {
         "AnnouncementsView": 12,
         "Class": "M",
         "Discussion": 50,
         "RaisedHands": 40,
         "_deepnote_index_column": 4
        }
       ]
      },
      "text/html": [
       "<div>\n",
       "<style scoped>\n",
       "    .dataframe tbody tr th:only-of-type {\n",
       "        vertical-align: middle;\n",
       "    }\n",
       "\n",
       "    .dataframe tbody tr th {\n",
       "        vertical-align: top;\n",
       "    }\n",
       "\n",
       "    .dataframe thead th {\n",
       "        text-align: right;\n",
       "    }\n",
       "</style>\n",
       "<table border=\"1\" class=\"dataframe\">\n",
       "  <thead>\n",
       "    <tr style=\"text-align: right;\">\n",
       "      <th></th>\n",
       "      <th>AnnouncementsView</th>\n",
       "      <th>Discussion</th>\n",
       "      <th>RaisedHands</th>\n",
       "      <th>Class</th>\n",
       "    </tr>\n",
       "  </thead>\n",
       "  <tbody>\n",
       "    <tr>\n",
       "      <th>0</th>\n",
       "      <td>2</td>\n",
       "      <td>20</td>\n",
       "      <td>15</td>\n",
       "      <td>M</td>\n",
       "    </tr>\n",
       "    <tr>\n",
       "      <th>1</th>\n",
       "      <td>3</td>\n",
       "      <td>25</td>\n",
       "      <td>20</td>\n",
       "      <td>M</td>\n",
       "    </tr>\n",
       "    <tr>\n",
       "      <th>2</th>\n",
       "      <td>0</td>\n",
       "      <td>30</td>\n",
       "      <td>10</td>\n",
       "      <td>L</td>\n",
       "    </tr>\n",
       "    <tr>\n",
       "      <th>3</th>\n",
       "      <td>5</td>\n",
       "      <td>35</td>\n",
       "      <td>30</td>\n",
       "      <td>L</td>\n",
       "    </tr>\n",
       "    <tr>\n",
       "      <th>4</th>\n",
       "      <td>12</td>\n",
       "      <td>50</td>\n",
       "      <td>40</td>\n",
       "      <td>M</td>\n",
       "    </tr>\n",
       "  </tbody>\n",
       "</table>\n",
       "</div>"
      ],
      "text/plain": [
       "   AnnouncementsView  Discussion  RaisedHands Class\n",
       "0                  2          20           15     M\n",
       "1                  3          25           20     M\n",
       "2                  0          30           10     L\n",
       "3                  5          35           30     L\n",
       "4                 12          50           40     M"
      ]
     },
     "execution_count": 27,
     "metadata": {},
     "output_type": "execute_result"
    }
   ],
   "source": [
    "q1_df = spd_df[[\"AnnouncementsView\", \"Discussion\", \"RaisedHands\", \"Class\"]].copy()\n",
    "q1_df.head()"
   ]
  },
  {
   "cell_type": "markdown",
   "metadata": {
    "cell_id": "00044-56706364-446b-4395-85e4-e23f9601cdec",
    "deepnote_cell_type": "markdown",
    "id": "Qnknit02WJ_2"
   },
   "source": [
    "Now, let's try visualizing the relationship between the variables `RaisedHands` and `Class` using a bar plot."
   ]
  },
  {
   "cell_type": "code",
   "execution_count": 28,
   "metadata": {
    "cell_id": "00045-9430f916-4822-42cd-8b01-4aacdbbce08f",
    "colab": {
     "base_uri": "https://localhost:8080/",
     "height": 296
    },
    "deepnote_cell_type": "code",
    "deepnote_to_be_reexecuted": false,
    "executionInfo": {
     "elapsed": 1370,
     "status": "ok",
     "timestamp": 1620279443166,
     "user": {
      "displayName": "Angeline Maris Gubat",
      "photoUrl": "https://lh3.googleusercontent.com/a-/AOh14Gijg6xgX0R_IA4o8GkF1xnv3D8-8kHv8i-V48U6=s64",
      "userId": "00875153666701401808"
     },
     "user_tz": -480
    },
    "execution_millis": 238,
    "execution_start": 1622605913313,
    "id": "5PKMaok6Wgd1",
    "outputId": "20da4179-73a8-4921-b466-e873ec98064f",
    "source_hash": "28c93e50"
   },
   "outputs": [
    {
     "data": {
      "text/plain": [
       "<AxesSubplot:xlabel='Class', ylabel='RaisedHands'>"
      ]
     },
     "execution_count": 28,
     "metadata": {},
     "output_type": "execute_result"
    },
    {
     "data": {
      "image/png": "[encoded data removed]",
      "text/plain": [
       "<Figure size 432x288 with 1 Axes>"
      ]
     },
     "metadata": {
      "image/png": {
       "height": 262,
       "width": 382
      },
      "needs_background": "light"
     },
     "output_type": "display_data"
    }
   ],
   "source": [
    "sns.barplot(x=\"Class\", y=\"RaisedHands\", order=[\"L\", \"M\", \"H\"], data=q1_df)"
   ]
  },
  {
   "cell_type": "markdown",
   "metadata": {
    "cell_id": "00046-88f5a196-baaf-495b-a45a-6b32949a4de9",
    "deepnote_cell_type": "markdown",
    "id": "oCzbOB_patg1"
   },
   "source": [
    "We can see from the figure above that students with higher grades tends to raised their hands in class than those who have lower grades. Let's try to visualize if this will also be the case when it comes to participation in discussion and viewing of announcements."
   ]
  },
  {
   "cell_type": "code",
   "execution_count": 29,
   "metadata": {
    "cell_id": "00047-09b6ad14-f482-4569-9ef0-331fe38fce9f",
    "colab": {
     "base_uri": "https://localhost:8080/",
     "height": 352
    },
    "deepnote_cell_type": "code",
    "deepnote_to_be_reexecuted": false,
    "executionInfo": {
     "elapsed": 1040,
     "status": "ok",
     "timestamp": 1620279446275,
     "user": {
      "displayName": "Angeline Maris Gubat",
      "photoUrl": "https://lh3.googleusercontent.com/a-/AOh14Gijg6xgX0R_IA4o8GkF1xnv3D8-8kHv8i-V48U6=s64",
      "userId": "00875153666701401808"
     },
     "user_tz": -480
    },
    "execution_millis": 342,
    "execution_start": 1622605913551,
    "id": "ZsVsWjI9d_Kh",
    "outputId": "6771d217-7c6d-44f5-f1be-53240a2a7ca4",
    "source_hash": "a64153f5"
   },
   "outputs": [
    {
     "data": {
      "text/plain": [
       "<AxesSubplot:xlabel='Class', ylabel='AnnouncementsView'>"
      ]
     },
     "execution_count": 29,
     "metadata": {},
     "output_type": "execute_result"
    },
    {
     "data": {
      "image/png": "[encoded data removed]",
      "text/plain": [
       "<Figure size 720x360 with 2 Axes>"
      ]
     },
     "metadata": {
      "image/png": {
       "height": 320,
       "width": 606
      },
      "needs_background": "light"
     },
     "output_type": "display_data"
    }
   ],
   "source": [
    "fig, axarr  = plt.subplots(1,2,figsize=(10,5))\n",
    "sns.barplot(x='Class', y='Discussion', order=['L','M','H'], data=q1_df,  ax=axarr[0])\n",
    "sns.barplot(x='Class', y='AnnouncementsView', order=['L','M','H'], data=q1_df, ax=axarr[1])"
   ]
  },
  {
   "cell_type": "markdown",
   "metadata": {
    "cell_id": "00048-c1279cf5-113f-466a-a8c5-be69e4c1affc",
    "deepnote_cell_type": "markdown",
    "id": "5cSFVkCoiPpj"
   },
   "source": [
    "Students who also participates in discussions more often as well as check announcements tend to have a better academic performance. Let's try to see the relationship of every student participation (`Discussion`, `AnnouncementsView`, `RaisedHands`) with each other and student's grade (`Class`) through scatter plots."
   ]
  },
  {
   "cell_type": "code",
   "execution_count": 58,
   "metadata": {
    "cell_id": "00051-2511100c-77d0-497c-a263-f1f523cf11f6",
    "deepnote_cell_type": "code",
    "deepnote_to_be_reexecuted": false,
    "execution_millis": 677,
    "execution_start": 1622606111614,
    "source_hash": "348ccc29",
    "tags": []
   },
   "outputs": [
    {
     "data": {
      "text/plain": [
       "<AxesSubplot:xlabel='AnnouncementsView', ylabel='RaisedHands'>"
      ]
     },
     "execution_count": 58,
     "metadata": {},
     "output_type": "execute_result"
    },
    {
     "data": {
      "image/png": "[encoded data removed]",
      "text/plain": [
       "<Figure size 1440x360 with 3 Axes>"
      ]
     },
     "metadata": {
      "image/png": {
       "height": 317,
       "width": 1170
      },
      "needs_background": "light"
     },
     "output_type": "display_data"
    }
   ],
   "source": [
    "fig, axarr  = plt.subplots(1,3,figsize=(20,5))\n",
    "color = {'L': 'steelblue', 'M': 'coral', 'H': 'green'}\n",
    "sns.scatterplot(x=q1_df.Discussion, y=q1_df.AnnouncementsView, hue=q1_df[\"Class\"], hue_order=['H','M','L'], palette=color, ax=axarr[0])\n",
    "sns.scatterplot(x=q1_df.Discussion, y=q1_df.RaisedHands, hue=q1_df[\"Class\"], hue_order=['H','M','L'], palette=color, ax=axarr[1])\n",
    "sns.scatterplot(x=q1_df.AnnouncementsView, y=q1_df.RaisedHands, hue=q1_df[\"Class\"], hue_order=['H','M','L'], palette=color, ax=axarr[2])"
   ]
  },
  {
   "cell_type": "markdown",
   "metadata": {
    "cell_id": "00055-6ed9221b-c39d-4b03-812a-013a396a7121",
    "deepnote_cell_type": "markdown",
    "tags": []
   },
   "source": [
    "First, we checked the AnnouncementsView and Discussion because we wanted to know if students who tend to check their announcements also tend to participate in discussions. We also wanted to know if students who tend to raise hands also tend to participate in discussions which can be seen in the second figure. Lastly, we also wanted to know if students who tend to raise their hands also tend to check their announcements regularly. With this, we will also want to check the distribution of the grade standing of these students in terms of these participation factors so there are 3 colors in the scatter plot which are blue for Low Class grade, orange for Middle Class grade, and green for High Class grade.\n",
    "\n",
    "Here, we can see that the green points, indicating Low Class grade, are mostly clustered around the lower left for all figures. This means that if a student doesn’t tend to check his/her announcements, he/she also has the tendency not to participate in discussions or even raise hands and vice versa. And with this, he/she also has lower grades. The points of blue that indicate High Class grade are spread along the top and right parts of the scatterplot, indicating that they have a tendency to participate in either variable much more than they do than those with the low Class points. In conclusion, it is expected that students who don’t actively participate will tend to also not to do any activities that require student participation and have lower grades. With this, students who have high participation when it comes to student activities are reflected as well in their academic performance and have higher grades, which answers our first question."
   ]
  },
  {
   "cell_type": "markdown",
   "metadata": {
    "cell_id": "00054-452a3ccf-33ac-4c95-9a61-77d80c7ad5ee",
    "deepnote_cell_type": "markdown",
    "tags": []
   },
   "source": [
    "#### ***Q2: Does parent participation and satisfaction affect a student’s performance?***\n",
    "In this section of the notebook, we take a look at the Parent-related features, specifically the `ParentAnsweringSurvey` which may represent the parent's engagement in the child's school activities, and `ParentSchoolSatisfaction` which may represent the parent's view on the child's school learning process.\n",
    "\n",
    "It is hypothesized that parent participation and satisfaction are features that may affect a student's class performance or class grade. This may be proven through the percentages of the features and the p-value upon using the **chi-square test**."
   ]
  },
  {
   "cell_type": "markdown",
   "metadata": {
    "cell_id": "00054-904c0cc8-adc4-4455-a43e-32b5599d2b96",
    "deepnote_cell_type": "markdown",
    "tags": []
   },
   "source": [
    "The following is the general view of the target data which we wish to investigate on:"
   ]
  },
  {
   "cell_type": "code",
   "execution_count": 31,
   "metadata": {
    "cell_id": "00051-897a88a3-50ca-4e07-a705-ce4ee49c45c8",
    "colab": {
     "base_uri": "https://localhost:8080/"
    },
    "deepnote_cell_type": "code",
    "deepnote_to_be_reexecuted": false,
    "executionInfo": {
     "elapsed": 1086,
     "status": "ok",
     "timestamp": 1620279450248,
     "user": {
      "displayName": "Angeline Maris Gubat",
      "photoUrl": "https://lh3.googleusercontent.com/a-/AOh14Gijg6xgX0R_IA4o8GkF1xnv3D8-8kHv8i-V48U6=s64",
      "userId": "00875153666701401808"
     },
     "user_tz": -480
    },
    "execution_millis": 20,
    "execution_start": 1622605914590,
    "id": "XHuxibjYJdCJ",
    "outputId": "3592ecbe-5cee-419e-f049-62a1b0d07d60",
    "source_hash": "e032c80e"
   },
   "outputs": [
    {
     "data": {
      "text/plain": [
       "ParentAnsweringSurvey  ParentSchoolSatisfaction  Class\n",
       "No                     Bad                       L         79\n",
       "                                                 M         57\n",
       "                                                 H          9\n",
       "                       Good                      M         26\n",
       "                                                 L         20\n",
       "                                                 H         19\n",
       "Yes                    Bad                       M         23\n",
       "                                                 H         15\n",
       "                                                 L          5\n",
       "                       Good                      M        105\n",
       "                                                 H         99\n",
       "                                                 L         23\n",
       "Name: Class, dtype: int64"
      ]
     },
     "execution_count": 31,
     "metadata": {},
     "output_type": "execute_result"
    }
   ],
   "source": [
    "q2 = spd_df.groupby([\"ParentAnsweringSurvey\", \"ParentSchoolSatisfaction\"])[\"Class\"].value_counts()\n",
    "q2"
   ]
  },
  {
   "cell_type": "markdown",
   "metadata": {
    "cell_id": "00057-4189d067-3384-4cac-b1af-610527ca50df",
    "deepnote_cell_type": "markdown",
    "tags": []
   },
   "source": [
    "Based on the first cell of the section, all grade classes are present in each category and sub-category. "
   ]
  },
  {
   "cell_type": "markdown",
   "metadata": {
    "cell_id": "00058-87ff7e0a-215f-4af6-bd35-20c60a30adc2",
    "deepnote_cell_type": "markdown",
    "tags": []
   },
   "source": [
    "##### General"
   ]
  },
  {
   "cell_type": "markdown",
   "metadata": {
    "cell_id": "00059-e0143b56-f033-47f5-b9e9-c29863d74bc9",
    "deepnote_cell_type": "markdown",
    "tags": []
   },
   "source": [
    "We take a look at the values when both features are looked into at the same time.\n",
    "\n",
    "A new column is added the the end of the dataframe called `ParticipationAndSatisfaction`\n",
    "\n",
    "The possible values are for this column are:\n",
    "- `YesGood` : The parent participated in the survey, and they are satisfied with the school's system.\n",
    "- `YesBad` : The parent participated in the survey, but they are not satisfied withe the school's system.\n",
    "- `NoGood` : The parent did not participate in the survey, but they are satisfied with the school's system.\n",
    "- `NoBad` : The parent did not participate in the survey, and they are not satisfied with the school's system. "
   ]
  },
  {
   "cell_type": "code",
   "execution_count": 69,
   "metadata": {
    "cell_id": "00060-6e41a8ad-39a1-4608-9acf-c9ee4d3b5d97",
    "deepnote_cell_type": "code",
    "deepnote_to_be_reexecuted": false,
    "execution_millis": 16,
    "execution_start": 1622607223623,
    "source_hash": "52bb709c",
    "tags": []
   },
   "outputs": [
    {
     "data": {
      "application/vnd.deepnote.dataframe.v2+json": {
       "column_count": 18,
       "columns": [
        {
         "dtype": "object",
         "name": "Gender",
         "stats": {
          "categories": [
           {
            "count": 5,
            "name": "M"
           }
          ],
          "nan_count": 0,
          "unique_count": 1
         }
        },
        {
         "dtype": "object",
         "name": "Nationality",
         "stats": {
          "categories": [
           {
            "count": 5,
            "name": "Kuwait"
           }
          ],
          "nan_count": 0,
          "unique_count": 1
         }
        },
        {
         "dtype": "object",
         "name": "BirthPlace",
         "stats": {
          "categories": [
           {
            "count": 5,
            "name": "Kuwait"
           }
          ],
          "nan_count": 0,
          "unique_count": 1
         }
        },
        {
         "dtype": "object",
         "name": "StageID",
         "stats": {
          "categories": [
           {
            "count": 5,
            "name": "lowerlevel"
           }
          ],
          "nan_count": 0,
          "unique_count": 1
         }
        },
        {
         "dtype": "object",
         "name": "GradeID",
         "stats": {
          "categories": [
           {
            "count": 5,
            "name": "G-04"
           }
          ],
          "nan_count": 0,
          "unique_count": 1
         }
        },
        {
         "dtype": "object",
         "name": "SectionID",
         "stats": {
          "categories": [
           {
            "count": 5,
            "name": "A"
           }
          ],
          "nan_count": 0,
          "unique_count": 1
         }
        },
        {
         "dtype": "object",
         "name": "Topic",
         "stats": {
          "categories": [
           {
            "count": 5,
            "name": "IT"
           }
          ],
          "nan_count": 0,
          "unique_count": 1
         }
        },
        {
         "dtype": "object",
         "name": "Semester",
         "stats": {
          "categories": [
           {
            "count": 5,
            "name": "F"
           }
          ],
          "nan_count": 0,
          "unique_count": 1
         }
        },
        {
         "dtype": "object",
         "name": "Relation",
         "stats": {
          "categories": [
           {
            "count": 5,
            "name": "Father"
           }
          ],
          "nan_count": 0,
          "unique_count": 1
         }
        },
        {
         "dtype": "int64",
         "name": "RaisedHands",
         "stats": {
          "histogram": [
           {
            "bin_end": 13,
            "bin_start": 10,
            "count": 1
           },
           {
            "bin_end": 16,
            "bin_start": 13,
            "count": 1
           },
           {
            "bin_end": 19,
            "bin_start": 16,
            "count": 0
           },
           {
            "bin_end": 22,
            "bin_start": 19,
            "count": 1
           },
           {
            "bin_end": 25,
            "bin_start": 22,
            "count": 0
           },
           {
            "bin_end": 28,
            "bin_start": 25,
            "count": 0
           },
           {
            "bin_end": 31,
            "bin_start": 28,
            "count": 1
           },
           {
            "bin_end": 34,
            "bin_start": 31,
            "count": 0
           },
           {
            "bin_end": 37,
            "bin_start": 34,
            "count": 0
           },
           {
            "bin_end": 40,
            "bin_start": 37,
            "count": 1
           }
          ],
          "max": "40",
          "min": "10",
          "nan_count": 0,
          "unique_count": 5
         }
        },
        {
         "dtype": "int64",
         "name": "VisitedResources",
         "stats": {
          "histogram": [
           {
            "bin_end": 11.3,
            "bin_start": 7,
            "count": 1
           },
           {
            "bin_end": 15.6,
            "bin_start": 11.3,
            "count": 0
           },
           {
            "bin_end": 19.9,
            "bin_start": 15.6,
            "count": 1
           },
           {
            "bin_end": 24.2,
            "bin_start": 19.9,
            "count": 1
           },
           {
            "bin_end": 28.5,
            "bin_start": 24.2,
            "count": 1
           },
           {
            "bin_end": 32.8,
            "bin_start": 28.5,
            "count": 0
           },
           {
            "bin_end": 37.099999999999994,
            "bin_start": 32.8,
            "count": 0
           },
           {
            "bin_end": 41.4,
            "bin_start": 37.099999999999994,
            "count": 0
           },
           {
            "bin_end": 45.699999999999996,
            "bin_start": 41.4,
            "count": 0
           },
           {
            "bin_end": 50,
            "bin_start": 45.699999999999996,
            "count": 1
           }
          ],
          "max": "50",
          "min": "7",
          "nan_count": 0,
          "unique_count": 5
         }
        },
        {
         "dtype": "int64",
         "name": "AnnouncementsView",
         "stats": {
          "histogram": [
           {
            "bin_end": 1.2,
            "bin_start": 0,
            "count": 1
           },
           {
            "bin_end": 2.4,
            "bin_start": 1.2,
            "count": 1
           },
           {
            "bin_end": 3.5999999999999996,
            "bin_start": 2.4,
            "count": 1
           },
           {
            "bin_end": 4.8,
            "bin_start": 3.5999999999999996,
            "count": 0
           },
           {
            "bin_end": 6,
            "bin_start": 4.8,
            "count": 1
           },
           {
            "bin_end": 7.199999999999999,
            "bin_start": 6,
            "count": 0
           },
           {
            "bin_end": 8.4,
            "bin_start": 7.199999999999999,
            "count": 0
           },
           {
            "bin_end": 9.6,
            "bin_start": 8.4,
            "count": 0
           },
           {
            "bin_end": 10.799999999999999,
            "bin_start": 9.6,
            "count": 0
           },
           {
            "bin_end": 12,
            "bin_start": 10.799999999999999,
            "count": 1
           }
          ],
          "max": "12",
          "min": "0",
          "nan_count": 0,
          "unique_count": 5
         }
        },
        {
         "dtype": "int64",
         "name": "Discussion",
         "stats": {
          "histogram": [
           {
            "bin_end": 23,
            "bin_start": 20,
            "count": 1
           },
           {
            "bin_end": 26,
            "bin_start": 23,
            "count": 1
           },
           {
            "bin_end": 29,
            "bin_start": 26,
            "count": 0
           },
           {
            "bin_end": 32,
            "bin_start": 29,
            "count": 1
           },
           {
            "bin_end": 35,
            "bin_start": 32,
            "count": 0
           },
           {
            "bin_end": 38,
            "bin_start": 35,
            "count": 1
           },
           {
            "bin_end": 41,
            "bin_start": 38,
            "count": 0
           },
           {
            "bin_end": 44,
            "bin_start": 41,
            "count": 0
           },
           {
            "bin_end": 47,
            "bin_start": 44,
            "count": 0
           },
           {
            "bin_end": 50,
            "bin_start": 47,
            "count": 1
           }
          ],
          "max": "50",
          "min": "20",
          "nan_count": 0,
          "unique_count": 5
         }
        },
        {
         "dtype": "object",
         "name": "ParentAnsweringSurvey",
         "stats": {
          "categories": [
           {
            "count": 3,
            "name": "No"
           },
           {
            "count": 2,
            "name": "Yes"
           }
          ],
          "nan_count": 0,
          "unique_count": 2
         }
        },
        {
         "dtype": "object",
         "name": "ParentSchoolSatisfaction",
         "stats": {
          "categories": [
           {
            "count": 3,
            "name": "Bad"
           },
           {
            "count": 2,
            "name": "Good"
           }
          ],
          "nan_count": 0,
          "unique_count": 2
         }
        },
        {
         "dtype": "object",
         "name": "StudentAbsenceDays",
         "stats": {
          "categories": [
           {
            "count": 3,
            "name": "Above-7"
           },
           {
            "count": 2,
            "name": "Under-7"
           }
          ],
          "nan_count": 0,
          "unique_count": 2
         }
        },
        {
         "dtype": "object",
         "name": "Class",
         "stats": {
          "categories": [
           {
            "count": 3,
            "name": "M"
           },
           {
            "count": 2,
            "name": "L"
           }
          ],
          "nan_count": 0,
          "unique_count": 2
         }
        },
        {
         "dtype": "object",
         "name": "ParticipationAndSatisfaction",
         "stats": {
          "categories": [
           {
            "count": 3,
            "name": "NoBad"
           },
           {
            "count": 2,
            "name": "YesGood"
           }
          ],
          "nan_count": 0,
          "unique_count": 2
         }
        },
        {
         "dtype": "int64",
         "name": "_deepnote_index_column"
        }
       ],
       "row_count": 5,
       "rows_bottom": null,
       "rows_top": [
        {
         "AnnouncementsView": 2,
         "BirthPlace": "Kuwait",
         "Class": "M",
         "Discussion": 20,
         "Gender": "M",
         "GradeID": "G-04",
         "Nationality": "Kuwait",
         "ParentAnsweringSurvey": "Yes",
         "ParentSchoolSatisfaction": "Good",
         "ParticipationAndSatisfaction": "YesGood",
         "RaisedHands": 15,
         "Relation": "Father",
         "SectionID": "A",
         "Semester": "F",
         "StageID": "lowerlevel",
         "StudentAbsenceDays": "Under-7",
         "Topic": "IT",
         "VisitedResources": 16,
         "_deepnote_index_column": 0
        },
        {
         "AnnouncementsView": 3,
         "BirthPlace": "Kuwait",
         "Class": "M",
         "Discussion": 25,
         "Gender": "M",
         "GradeID": "G-04",
         "Nationality": "Kuwait",
         "ParentAnsweringSurvey": "Yes",
         "ParentSchoolSatisfaction": "Good",
         "ParticipationAndSatisfaction": "YesGood",
         "RaisedHands": 20,
         "Relation": "Father",
         "SectionID": "A",
         "Semester": "F",
         "StageID": "lowerlevel",
         "StudentAbsenceDays": "Under-7",
         "Topic": "IT",
         "VisitedResources": 20,
         "_deepnote_index_column": 1
        },
        {
         "AnnouncementsView": 0,
         "BirthPlace": "Kuwait",
         "Class": "L",
         "Discussion": 30,
         "Gender": "M",
         "GradeID": "G-04",
         "Nationality": "Kuwait",
         "ParentAnsweringSurvey": "No",
         "ParentSchoolSatisfaction": "Bad",
         "ParticipationAndSatisfaction": "NoBad",
         "RaisedHands": 10,
         "Relation": "Father",
         "SectionID": "A",
         "Semester": "F",
         "StageID": "lowerlevel",
         "StudentAbsenceDays": "Above-7",
         "Topic": "IT",
         "VisitedResources": 7,
         "_deepnote_index_column": 2
        },
        {
         "AnnouncementsView": 5,
         "BirthPlace": "Kuwait",
         "Class": "L",
         "Discussion": 35,
         "Gender": "M",
         "GradeID": "G-04",
         "Nationality": "Kuwait",
         "ParentAnsweringSurvey": "No",
         "ParentSchoolSatisfaction": "Bad",
         "ParticipationAndSatisfaction": "NoBad",
         "RaisedHands": 30,
         "Relation": "Father",
         "SectionID": "A",
         "Semester": "F",
         "StageID": "lowerlevel",
         "StudentAbsenceDays": "Above-7",
         "Topic": "IT",
         "VisitedResources": 25,
         "_deepnote_index_column": 3
        },
        {
         "AnnouncementsView": 12,
         "BirthPlace": "Kuwait",
         "Class": "M",
         "Discussion": 50,
         "Gender": "M",
         "GradeID": "G-04",
         "Nationality": "Kuwait",
         "ParentAnsweringSurvey": "No",
         "ParentSchoolSatisfaction": "Bad",
         "ParticipationAndSatisfaction": "NoBad",
         "RaisedHands": 40,
         "Relation": "Father",
         "SectionID": "A",
         "Semester": "F",
         "StageID": "lowerlevel",
         "StudentAbsenceDays": "Above-7",
         "Topic": "IT",
         "VisitedResources": 50,
         "_deepnote_index_column": 4
        }
       ]
      },
      "text/html": [
       "<div>\n",
       "<style scoped>\n",
       "    .dataframe tbody tr th:only-of-type {\n",
       "        vertical-align: middle;\n",
       "    }\n",
       "\n",
       "    .dataframe tbody tr th {\n",
       "        vertical-align: top;\n",
       "    }\n",
       "\n",
       "    .dataframe thead th {\n",
       "        text-align: right;\n",
       "    }\n",
       "</style>\n",
       "<table border=\"1\" class=\"dataframe\">\n",
       "  <thead>\n",
       "    <tr style=\"text-align: right;\">\n",
       "      <th></th>\n",
       "      <th>Gender</th>\n",
       "      <th>Nationality</th>\n",
       "      <th>BirthPlace</th>\n",
       "      <th>StageID</th>\n",
       "      <th>GradeID</th>\n",
       "      <th>SectionID</th>\n",
       "      <th>Topic</th>\n",
       "      <th>Semester</th>\n",
       "      <th>Relation</th>\n",
       "      <th>RaisedHands</th>\n",
       "      <th>VisitedResources</th>\n",
       "      <th>AnnouncementsView</th>\n",
       "      <th>Discussion</th>\n",
       "      <th>ParentAnsweringSurvey</th>\n",
       "      <th>ParentSchoolSatisfaction</th>\n",
       "      <th>StudentAbsenceDays</th>\n",
       "      <th>Class</th>\n",
       "      <th>ParticipationAndSatisfaction</th>\n",
       "    </tr>\n",
       "  </thead>\n",
       "  <tbody>\n",
       "    <tr>\n",
       "      <th>0</th>\n",
       "      <td>M</td>\n",
       "      <td>Kuwait</td>\n",
       "      <td>Kuwait</td>\n",
       "      <td>lowerlevel</td>\n",
       "      <td>G-04</td>\n",
       "      <td>A</td>\n",
       "      <td>IT</td>\n",
       "      <td>F</td>\n",
       "      <td>Father</td>\n",
       "      <td>15</td>\n",
       "      <td>16</td>\n",
       "      <td>2</td>\n",
       "      <td>20</td>\n",
       "      <td>Yes</td>\n",
       "      <td>Good</td>\n",
       "      <td>Under-7</td>\n",
       "      <td>M</td>\n",
       "      <td>YesGood</td>\n",
       "    </tr>\n",
       "    <tr>\n",
       "      <th>1</th>\n",
       "      <td>M</td>\n",
       "      <td>Kuwait</td>\n",
       "      <td>Kuwait</td>\n",
       "      <td>lowerlevel</td>\n",
       "      <td>G-04</td>\n",
       "      <td>A</td>\n",
       "      <td>IT</td>\n",
       "      <td>F</td>\n",
       "      <td>Father</td>\n",
       "      <td>20</td>\n",
       "      <td>20</td>\n",
       "      <td>3</td>\n",
       "      <td>25</td>\n",
       "      <td>Yes</td>\n",
       "      <td>Good</td>\n",
       "      <td>Under-7</td>\n",
       "      <td>M</td>\n",
       "      <td>YesGood</td>\n",
       "    </tr>\n",
       "    <tr>\n",
       "      <th>2</th>\n",
       "      <td>M</td>\n",
       "      <td>Kuwait</td>\n",
       "      <td>Kuwait</td>\n",
       "      <td>lowerlevel</td>\n",
       "      <td>G-04</td>\n",
       "      <td>A</td>\n",
       "      <td>IT</td>\n",
       "      <td>F</td>\n",
       "      <td>Father</td>\n",
       "      <td>10</td>\n",
       "      <td>7</td>\n",
       "      <td>0</td>\n",
       "      <td>30</td>\n",
       "      <td>No</td>\n",
       "      <td>Bad</td>\n",
       "      <td>Above-7</td>\n",
       "      <td>L</td>\n",
       "      <td>NoBad</td>\n",
       "    </tr>\n",
       "    <tr>\n",
       "      <th>3</th>\n",
       "      <td>M</td>\n",
       "      <td>Kuwait</td>\n",
       "      <td>Kuwait</td>\n",
       "      <td>lowerlevel</td>\n",
       "      <td>G-04</td>\n",
       "      <td>A</td>\n",
       "      <td>IT</td>\n",
       "      <td>F</td>\n",
       "      <td>Father</td>\n",
       "      <td>30</td>\n",
       "      <td>25</td>\n",
       "      <td>5</td>\n",
       "      <td>35</td>\n",
       "      <td>No</td>\n",
       "      <td>Bad</td>\n",
       "      <td>Above-7</td>\n",
       "      <td>L</td>\n",
       "      <td>NoBad</td>\n",
       "    </tr>\n",
       "    <tr>\n",
       "      <th>4</th>\n",
       "      <td>M</td>\n",
       "      <td>Kuwait</td>\n",
       "      <td>Kuwait</td>\n",
       "      <td>lowerlevel</td>\n",
       "      <td>G-04</td>\n",
       "      <td>A</td>\n",
       "      <td>IT</td>\n",
       "      <td>F</td>\n",
       "      <td>Father</td>\n",
       "      <td>40</td>\n",
       "      <td>50</td>\n",
       "      <td>12</td>\n",
       "      <td>50</td>\n",
       "      <td>No</td>\n",
       "      <td>Bad</td>\n",
       "      <td>Above-7</td>\n",
       "      <td>M</td>\n",
       "      <td>NoBad</td>\n",
       "    </tr>\n",
       "  </tbody>\n",
       "</table>\n",
       "</div>"
      ],
      "text/plain": [
       "  Gender Nationality BirthPlace     StageID GradeID SectionID Topic Semester  \\\n",
       "0      M      Kuwait     Kuwait  lowerlevel    G-04         A    IT        F   \n",
       "1      M      Kuwait     Kuwait  lowerlevel    G-04         A    IT        F   \n",
       "2      M      Kuwait     Kuwait  lowerlevel    G-04         A    IT        F   \n",
       "3      M      Kuwait     Kuwait  lowerlevel    G-04         A    IT        F   \n",
       "4      M      Kuwait     Kuwait  lowerlevel    G-04         A    IT        F   \n",
       "\n",
       "  Relation  RaisedHands  VisitedResources  AnnouncementsView  Discussion  \\\n",
       "0   Father           15                16                  2          20   \n",
       "1   Father           20                20                  3          25   \n",
       "2   Father           10                 7                  0          30   \n",
       "3   Father           30                25                  5          35   \n",
       "4   Father           40                50                 12          50   \n",
       "\n",
       "  ParentAnsweringSurvey ParentSchoolSatisfaction StudentAbsenceDays Class  \\\n",
       "0                   Yes                     Good            Under-7     M   \n",
       "1                   Yes                     Good            Under-7     M   \n",
       "2                    No                      Bad            Above-7     L   \n",
       "3                    No                      Bad            Above-7     L   \n",
       "4                    No                      Bad            Above-7     M   \n",
       "\n",
       "  ParticipationAndSatisfaction  \n",
       "0                      YesGood  \n",
       "1                      YesGood  \n",
       "2                        NoBad  \n",
       "3                        NoBad  \n",
       "4                        NoBad  "
      ]
     },
     "execution_count": 69,
     "metadata": {},
     "output_type": "execute_result"
    }
   ],
   "source": [
    "q2 = spd_df\n",
    "q2['ParticipationAndSatisfaction'] = q2['ParentAnsweringSurvey'] + q2['ParentSchoolSatisfaction']\n",
    "q2.head()"
   ]
  },
  {
   "cell_type": "markdown",
   "metadata": {
    "cell_id": "00061-09c9d59a-30cb-47f1-9ef2-b9c744d14991",
    "deepnote_cell_type": "markdown",
    "tags": []
   },
   "source": [
    "The next cell shows the count of each class grade belonging in each value of `ParticipationAndSatisfaction`."
   ]
  },
  {
   "cell_type": "code",
   "execution_count": 33,
   "metadata": {
    "cell_id": "00062-4df54a44-ef32-45ca-92c8-e703df7cb043",
    "deepnote_cell_type": "code",
    "deepnote_to_be_reexecuted": false,
    "execution_millis": 25,
    "execution_start": 1622605914703,
    "source_hash": "5aaa7ff8",
    "tags": []
   },
   "outputs": [
    {
     "data": {
      "text/plain": [
       "ParticipationAndSatisfaction  Class\n",
       "NoBad                         L         79\n",
       "                              M         57\n",
       "                              H          9\n",
       "NoGood                        M         26\n",
       "                              L         20\n",
       "                              H         19\n",
       "YesBad                        M         23\n",
       "                              H         15\n",
       "                              L          5\n",
       "YesGood                       M        105\n",
       "                              H         99\n",
       "                              L         23\n",
       "Name: Class, dtype: int64"
      ]
     },
     "execution_count": 33,
     "metadata": {},
     "output_type": "execute_result"
    }
   ],
   "source": [
    "q2PS = spd_df.groupby('ParticipationAndSatisfaction')[\"Class\"].value_counts()\n",
    "q2PS"
   ]
  },
  {
   "cell_type": "markdown",
   "metadata": {
    "cell_id": "00063-e682d0f4-ffff-4bcb-8dee-f92ac0d46685",
    "deepnote_cell_type": "markdown",
    "tags": []
   },
   "source": [
    "The data is turned into a dataframe and transposed for visualization"
   ]
  },
  {
   "cell_type": "code",
   "execution_count": 34,
   "metadata": {
    "cell_id": "00064-c008afb9-5e59-41d8-8663-b0437aa032b1",
    "deepnote_cell_type": "code",
    "deepnote_to_be_reexecuted": false,
    "execution_millis": 24,
    "execution_start": 1622605914704,
    "source_hash": "23285d0f",
    "tags": []
   },
   "outputs": [
    {
     "data": {
      "application/vnd.deepnote.dataframe.v2+json": {
       "column_count": 4,
       "columns": [
        {
         "dtype": "int64",
         "name": "NoBad",
         "stats": {
          "histogram": [
           {
            "bin_end": 16,
            "bin_start": 9,
            "count": 1
           },
           {
            "bin_end": 23,
            "bin_start": 16,
            "count": 0
           },
           {
            "bin_end": 30,
            "bin_start": 23,
            "count": 0
           },
           {
            "bin_end": 37,
            "bin_start": 30,
            "count": 0
           },
           {
            "bin_end": 44,
            "bin_start": 37,
            "count": 0
           },
           {
            "bin_end": 51,
            "bin_start": 44,
            "count": 0
           },
           {
            "bin_end": 58,
            "bin_start": 51,
            "count": 1
           },
           {
            "bin_end": 65,
            "bin_start": 58,
            "count": 0
           },
           {
            "bin_end": 72,
            "bin_start": 65,
            "count": 0
           },
           {
            "bin_end": 79,
            "bin_start": 72,
            "count": 1
           }
          ],
          "max": "79",
          "min": "9",
          "nan_count": 0,
          "unique_count": 3
         }
        },
        {
         "dtype": "int64",
         "name": "NoGood",
         "stats": {
          "histogram": [
           {
            "bin_end": 19.7,
            "bin_start": 19,
            "count": 1
           },
           {
            "bin_end": 20.4,
            "bin_start": 19.7,
            "count": 1
           },
           {
            "bin_end": 21.1,
            "bin_start": 20.4,
            "count": 0
           },
           {
            "bin_end": 21.8,
            "bin_start": 21.1,
            "count": 0
           },
           {
            "bin_end": 22.5,
            "bin_start": 21.8,
            "count": 0
           },
           {
            "bin_end": 23.2,
            "bin_start": 22.5,
            "count": 0
           },
           {
            "bin_end": 23.9,
            "bin_start": 23.2,
            "count": 0
           },
           {
            "bin_end": 24.6,
            "bin_start": 23.9,
            "count": 0
           },
           {
            "bin_end": 25.3,
            "bin_start": 24.6,
            "count": 0
           },
           {
            "bin_end": 26,
            "bin_start": 25.3,
            "count": 1
           }
          ],
          "max": "26",
          "min": "19",
          "nan_count": 0,
          "unique_count": 3
         }
        },
        {
         "dtype": "int64",
         "name": "YesBad",
         "stats": {
          "histogram": [
           {
            "bin_end": 6.8,
            "bin_start": 5,
            "count": 1
           },
           {
            "bin_end": 8.6,
            "bin_start": 6.8,
            "count": 0
           },
           {
            "bin_end": 10.4,
            "bin_start": 8.6,
            "count": 0
           },
           {
            "bin_end": 12.2,
            "bin_start": 10.4,
            "count": 0
           },
           {
            "bin_end": 14,
            "bin_start": 12.2,
            "count": 0
           },
           {
            "bin_end": 15.8,
            "bin_start": 14,
            "count": 1
           },
           {
            "bin_end": 17.6,
            "bin_start": 15.8,
            "count": 0
           },
           {
            "bin_end": 19.4,
            "bin_start": 17.6,
            "count": 0
           },
           {
            "bin_end": 21.2,
            "bin_start": 19.4,
            "count": 0
           },
           {
            "bin_end": 23,
            "bin_start": 21.2,
            "count": 1
           }
          ],
          "max": "23",
          "min": "5",
          "nan_count": 0,
          "unique_count": 3
         }
        },
        {
         "dtype": "int64",
         "name": "YesGood",
         "stats": {
          "histogram": [
           {
            "bin_end": 31.2,
            "bin_start": 23,
            "count": 1
           },
           {
            "bin_end": 39.4,
            "bin_start": 31.2,
            "count": 0
           },
           {
            "bin_end": 47.599999999999994,
            "bin_start": 39.4,
            "count": 0
           },
           {
            "bin_end": 55.8,
            "bin_start": 47.599999999999994,
            "count": 0
           },
           {
            "bin_end": 64,
            "bin_start": 55.8,
            "count": 0
           },
           {
            "bin_end": 72.19999999999999,
            "bin_start": 64,
            "count": 0
           },
           {
            "bin_end": 80.39999999999999,
            "bin_start": 72.19999999999999,
            "count": 0
           },
           {
            "bin_end": 88.6,
            "bin_start": 80.39999999999999,
            "count": 0
           },
           {
            "bin_end": 96.8,
            "bin_start": 88.6,
            "count": 0
           },
           {
            "bin_end": 105,
            "bin_start": 96.8,
            "count": 2
           }
          ],
          "max": "105",
          "min": "23",
          "nan_count": 0,
          "unique_count": 3
         }
        },
        {
         "dtype": "object",
         "name": "_deepnote_index_column"
        }
       ],
       "row_count": 3,
       "rows_bottom": null,
       "rows_top": [
        {
         "NoBad": 79,
         "NoGood": 20,
         "YesBad": 5,
         "YesGood": 23,
         "_deepnote_index_column": "L"
        },
        {
         "NoBad": 57,
         "NoGood": 26,
         "YesBad": 23,
         "YesGood": 105,
         "_deepnote_index_column": "M"
        },
        {
         "NoBad": 9,
         "NoGood": 19,
         "YesBad": 15,
         "YesGood": 99,
         "_deepnote_index_column": "H"
        }
       ]
      },
      "text/html": [
       "<div>\n",
       "<style scoped>\n",
       "    .dataframe tbody tr th:only-of-type {\n",
       "        vertical-align: middle;\n",
       "    }\n",
       "\n",
       "    .dataframe tbody tr th {\n",
       "        vertical-align: top;\n",
       "    }\n",
       "\n",
       "    .dataframe thead th {\n",
       "        text-align: right;\n",
       "    }\n",
       "</style>\n",
       "<table border=\"1\" class=\"dataframe\">\n",
       "  <thead>\n",
       "    <tr style=\"text-align: right;\">\n",
       "      <th></th>\n",
       "      <th>NoBad</th>\n",
       "      <th>NoGood</th>\n",
       "      <th>YesBad</th>\n",
       "      <th>YesGood</th>\n",
       "    </tr>\n",
       "    <tr>\n",
       "      <th>Class</th>\n",
       "      <th></th>\n",
       "      <th></th>\n",
       "      <th></th>\n",
       "      <th></th>\n",
       "    </tr>\n",
       "  </thead>\n",
       "  <tbody>\n",
       "    <tr>\n",
       "      <th>L</th>\n",
       "      <td>79</td>\n",
       "      <td>20</td>\n",
       "      <td>5</td>\n",
       "      <td>23</td>\n",
       "    </tr>\n",
       "    <tr>\n",
       "      <th>M</th>\n",
       "      <td>57</td>\n",
       "      <td>26</td>\n",
       "      <td>23</td>\n",
       "      <td>105</td>\n",
       "    </tr>\n",
       "    <tr>\n",
       "      <th>H</th>\n",
       "      <td>9</td>\n",
       "      <td>19</td>\n",
       "      <td>15</td>\n",
       "      <td>99</td>\n",
       "    </tr>\n",
       "  </tbody>\n",
       "</table>\n",
       "</div>"
      ],
      "text/plain": [
       "       NoBad  NoGood  YesBad  YesGood\n",
       "Class                                \n",
       "L         79      20       5       23\n",
       "M         57      26      23      105\n",
       "H          9      19      15       99"
      ]
     },
     "execution_count": 34,
     "metadata": {},
     "output_type": "execute_result"
    }
   ],
   "source": [
    "q2PS_df = pd.DataFrame([q2PS['NoBad'], q2PS['NoGood'], q2PS['YesBad'], q2PS['YesGood']], index = ['NoBad', 'NoGood', 'YesBad', 'YesGood'])\n",
    "q2PS_df = q2PS_df.transpose()\n",
    "q2PS_df"
   ]
  },
  {
   "cell_type": "code",
   "execution_count": 66,
   "metadata": {
    "cell_id": "00065-a1820133-d285-4707-a811-3650d8bae405",
    "deepnote_cell_type": "code",
    "deepnote_to_be_reexecuted": false,
    "execution_millis": 295,
    "execution_start": 1622607135698,
    "source_hash": "acaa6e2",
    "tags": []
   },
   "outputs": [
    {
     "data": {
      "image/png": "[encoded data removed]",
      "text/plain": [
       "<Figure size 648x648 with 4 Axes>"
      ]
     },
     "metadata": {
      "image/png": {
       "height": 576,
       "width": 573
      }
     },
     "output_type": "display_data"
    }
   ],
   "source": [
    "fig, axes = plt.subplots(nrows=2, ncols=2, figsize = (9,9))\n",
    "for ax, col in zip(axes.flat, q2PS_df.columns):\n",
    "    artists = ax.pie(q2PS_df[col], autopct='%.2f%%', colors = ['tab:blue', 'tab:orange', 'tab:green'])\n",
    "    ax.set(ylabel='', title=col, aspect='equal')\n",
    "\n",
    "fig.legend(artists[0], q2PS_df.index)\n",
    "\n",
    "plt.show()"
   ]
  },
  {
   "cell_type": "markdown",
   "metadata": {
    "cell_id": "00066-7f54f5ca-5293-407e-a119-4e4e73a8b91b",
    "deepnote_cell_type": "markdown",
    "tags": []
   },
   "source": [
    "The generated data above shows a high percentage of Low class grade when a parent does not participate. The data shows that 54.48% of `NoBad` are 30.77% of `NoGood` are students who got a low class grade. `YesBad` and `YesGood` got a low percentage of Low class grades with 11.63% and 10.13% respectively. In terms of High class grades, `YesGood` got the highest percentage of 43.61% followed by `YesBad` with 34.61%.\n",
    "\n",
    "Based on the data above, it can be inferred that participation may have a larger impact on the student's grade when compared to satisfaction. However, the absence of both participation and satisfaction greatly affects the chances that a student may have a Low class grade.\n",
    "\n",
    "Further investigation is needed by focusing on individual features."
   ]
  },
  {
   "cell_type": "markdown",
   "metadata": {
    "cell_id": "00055-b8d5a497-aaf3-4ad5-afb2-f53910077b64",
    "deepnote_cell_type": "markdown",
    "tags": []
   },
   "source": [
    "##### Participation"
   ]
  },
  {
   "cell_type": "markdown",
   "metadata": {
    "cell_id": "00059-bcde4e78-7441-4723-b5ca-c75ff9594425",
    "deepnote_cell_type": "markdown",
    "tags": []
   },
   "source": [
    "We first check the participation records.\n",
    "\n",
    "The next cell shows the target category and the classes found in each:"
   ]
  },
  {
   "cell_type": "code",
   "execution_count": 36,
   "metadata": {
    "cell_id": "00055-4a511f9f-b6fe-4144-ae0f-8811596e6d16",
    "deepnote_cell_type": "code",
    "deepnote_to_be_reexecuted": false,
    "execution_millis": 37,
    "execution_start": 1622605915084,
    "source_hash": "5f74d4ef",
    "tags": []
   },
   "outputs": [
    {
     "data": {
      "text/plain": [
       "ParentAnsweringSurvey  Class\n",
       "No                     L         99\n",
       "                       M         83\n",
       "                       H         28\n",
       "Yes                    M        128\n",
       "                       H        114\n",
       "                       L         28\n",
       "Name: Class, dtype: int64"
      ]
     },
     "execution_count": 36,
     "metadata": {},
     "output_type": "execute_result"
    }
   ],
   "source": [
    "q2_Participation = spd_df.groupby(\"ParentAnsweringSurvey\")[\"Class\"].value_counts()\n",
    "q2_Participation"
   ]
  },
  {
   "cell_type": "markdown",
   "metadata": {
    "cell_id": "00061-47e48749-4f36-4087-b618-3cfc9b74467d",
    "deepnote_cell_type": "markdown",
    "tags": []
   },
   "source": [
    "This is turned into a dataframe for proper visualization,"
   ]
  },
  {
   "cell_type": "code",
   "execution_count": 37,
   "metadata": {
    "cell_id": "00056-ed6379af-6270-4192-8797-667d3c4b5076",
    "deepnote_cell_type": "code",
    "deepnote_to_be_reexecuted": false,
    "execution_millis": 26,
    "execution_start": 1622605915104,
    "source_hash": "99d50266",
    "tags": []
   },
   "outputs": [
    {
     "data": {
      "application/vnd.deepnote.dataframe.v2+json": {
       "column_count": 3,
       "columns": [
        {
         "dtype": "int64",
         "name": "L",
         "stats": {
          "histogram": [
           {
            "bin_end": 35.1,
            "bin_start": 28,
            "count": 1
           },
           {
            "bin_end": 42.2,
            "bin_start": 35.1,
            "count": 0
           },
           {
            "bin_end": 49.3,
            "bin_start": 42.2,
            "count": 0
           },
           {
            "bin_end": 56.4,
            "bin_start": 49.3,
            "count": 0
           },
           {
            "bin_end": 63.5,
            "bin_start": 56.4,
            "count": 0
           },
           {
            "bin_end": 70.6,
            "bin_start": 63.5,
            "count": 0
           },
           {
            "bin_end": 77.69999999999999,
            "bin_start": 70.6,
            "count": 0
           },
           {
            "bin_end": 84.8,
            "bin_start": 77.69999999999999,
            "count": 0
           },
           {
            "bin_end": 91.9,
            "bin_start": 84.8,
            "count": 0
           },
           {
            "bin_end": 99,
            "bin_start": 91.9,
            "count": 1
           }
          ],
          "max": "99",
          "min": "28",
          "nan_count": 0,
          "unique_count": 2
         }
        },
        {
         "dtype": "int64",
         "name": "M",
         "stats": {
          "histogram": [
           {
            "bin_end": 87.5,
            "bin_start": 83,
            "count": 1
           },
           {
            "bin_end": 92,
            "bin_start": 87.5,
            "count": 0
           },
           {
            "bin_end": 96.5,
            "bin_start": 92,
            "count": 0
           },
           {
            "bin_end": 101,
            "bin_start": 96.5,
            "count": 0
           },
           {
            "bin_end": 105.5,
            "bin_start": 101,
            "count": 0
           },
           {
            "bin_end": 110,
            "bin_start": 105.5,
            "count": 0
           },
           {
            "bin_end": 114.5,
            "bin_start": 110,
            "count": 0
           },
           {
            "bin_end": 119,
            "bin_start": 114.5,
            "count": 0
           },
           {
            "bin_end": 123.5,
            "bin_start": 119,
            "count": 0
           },
           {
            "bin_end": 128,
            "bin_start": 123.5,
            "count": 1
           }
          ],
          "max": "128",
          "min": "83",
          "nan_count": 0,
          "unique_count": 2
         }
        },
        {
         "dtype": "int64",
         "name": "H",
         "stats": {
          "histogram": [
           {
            "bin_end": 36.6,
            "bin_start": 28,
            "count": 1
           },
           {
            "bin_end": 45.2,
            "bin_start": 36.6,
            "count": 0
           },
           {
            "bin_end": 53.8,
            "bin_start": 45.2,
            "count": 0
           },
           {
            "bin_end": 62.4,
            "bin_start": 53.8,
            "count": 0
           },
           {
            "bin_end": 71,
            "bin_start": 62.4,
            "count": 0
           },
           {
            "bin_end": 79.6,
            "bin_start": 71,
            "count": 0
           },
           {
            "bin_end": 88.19999999999999,
            "bin_start": 79.6,
            "count": 0
           },
           {
            "bin_end": 96.8,
            "bin_start": 88.19999999999999,
            "count": 0
           },
           {
            "bin_end": 105.39999999999999,
            "bin_start": 96.8,
            "count": 0
           },
           {
            "bin_end": 114,
            "bin_start": 105.39999999999999,
            "count": 1
           }
          ],
          "max": "114",
          "min": "28",
          "nan_count": 0,
          "unique_count": 2
         }
        },
        {
         "dtype": "object",
         "name": "_deepnote_index_column"
        }
       ],
       "row_count": 2,
       "rows_bottom": null,
       "rows_top": [
        {
         "H": 28,
         "L": 99,
         "M": 83,
         "_deepnote_index_column": "Not Participate"
        },
        {
         "H": 114,
         "L": 28,
         "M": 128,
         "_deepnote_index_column": "Participate"
        }
       ]
      },
      "text/html": [
       "<div>\n",
       "<style scoped>\n",
       "    .dataframe tbody tr th:only-of-type {\n",
       "        vertical-align: middle;\n",
       "    }\n",
       "\n",
       "    .dataframe tbody tr th {\n",
       "        vertical-align: top;\n",
       "    }\n",
       "\n",
       "    .dataframe thead th {\n",
       "        text-align: right;\n",
       "    }\n",
       "</style>\n",
       "<table border=\"1\" class=\"dataframe\">\n",
       "  <thead>\n",
       "    <tr style=\"text-align: right;\">\n",
       "      <th>Class</th>\n",
       "      <th>L</th>\n",
       "      <th>M</th>\n",
       "      <th>H</th>\n",
       "    </tr>\n",
       "  </thead>\n",
       "  <tbody>\n",
       "    <tr>\n",
       "      <th>Not Participate</th>\n",
       "      <td>99</td>\n",
       "      <td>83</td>\n",
       "      <td>28</td>\n",
       "    </tr>\n",
       "    <tr>\n",
       "      <th>Participate</th>\n",
       "      <td>28</td>\n",
       "      <td>128</td>\n",
       "      <td>114</td>\n",
       "    </tr>\n",
       "  </tbody>\n",
       "</table>\n",
       "</div>"
      ],
      "text/plain": [
       "Class             L    M    H\n",
       "Not Participate  99   83   28\n",
       "Participate      28  128  114"
      ]
     },
     "execution_count": 37,
     "metadata": {},
     "output_type": "execute_result"
    }
   ],
   "source": [
    "q2P_df = pd.DataFrame([q2_Participation['No'], q2_Participation['Yes']], index = [\"Not Participate\", \"Participate\"])\n",
    "q2P_df"
   ]
  },
  {
   "cell_type": "markdown",
   "metadata": {
    "cell_id": "00063-7347d1a7-70ef-4823-b4eb-f80a2fdbfb19",
    "deepnote_cell_type": "markdown",
    "tags": []
   },
   "source": [
    "Based on the data shown above, a pie chart is appropriate to show what is the majority or to see the percentage of each category. We first see based on the `Class` grade category:"
   ]
  },
  {
   "cell_type": "code",
   "execution_count": 38,
   "metadata": {
    "cell_id": "00060-2cd25ce3-e157-4ede-bda7-35d138ebdb4d",
    "deepnote_cell_type": "code",
    "deepnote_to_be_reexecuted": false,
    "execution_millis": 239,
    "execution_start": 1622605915110,
    "source_hash": "3b33d808",
    "tags": []
   },
   "outputs": [
    {
     "data": {
      "image/png": "[encoded data removed]",
      "text/plain": [
       "<Figure size 648x648 with 3 Axes>"
      ]
     },
     "metadata": {
      "image/png": {
       "height": 405,
       "width": 576
      }
     },
     "output_type": "display_data"
    }
   ],
   "source": [
    "fig, axes = plt.subplots(nrows=1, ncols=3, figsize = (9,9))\n",
    "for ax, col in zip(axes.flat, q2P_df.columns):\n",
    "    artists = ax.pie(q2P_df[col], autopct='%.2f%%', colors = ['tab:red', 'tab:blue'])\n",
    "    ax.set(ylabel='', title=col, aspect='equal')\n",
    "\n",
    "fig.legend(artists[0], q2P_df.index)\n",
    "\n",
    "plt.show()"
   ]
  },
  {
   "cell_type": "markdown",
   "metadata": {
    "cell_id": "00065-13355282-81ef-4fde-94ff-3f110bafa647",
    "deepnote_cell_type": "markdown",
    "tags": []
   },
   "source": [
    "We see that there is a significant value for the Low and High class grades.\n",
    "\n",
    "Looking at the data above, we can see that:\n",
    "- Majority of those with low class grades have parents who do not participate.\n",
    "- Majority of those with high grades have parents who do participate.\n",
    "\n",
    "Low class grades have a value of 77.95% for the Not Participate value and the High class grade has an 80.28% for the Participate value."
   ]
  },
  {
   "cell_type": "markdown",
   "metadata": {
    "cell_id": "00066-31584647-cb07-4d40-8180-351c510a3db8",
    "deepnote_cell_type": "markdown",
    "tags": []
   },
   "source": [
    "The dataframe is transposed for the `Participation` category visualization."
   ]
  },
  {
   "cell_type": "code",
   "execution_count": 39,
   "metadata": {
    "cell_id": "00060-ed6d40a7-be68-494d-98b8-d7ea7d8651c3",
    "deepnote_cell_type": "code",
    "deepnote_to_be_reexecuted": false,
    "execution_millis": 20,
    "execution_start": 1622605915333,
    "source_hash": "9ad7ff62",
    "tags": []
   },
   "outputs": [
    {
     "data": {
      "application/vnd.deepnote.dataframe.v2+json": {
       "column_count": 2,
       "columns": [
        {
         "dtype": "int64",
         "name": "Not Participate",
         "stats": {
          "histogram": [
           {
            "bin_end": 35.1,
            "bin_start": 28,
            "count": 1
           },
           {
            "bin_end": 42.2,
            "bin_start": 35.1,
            "count": 0
           },
           {
            "bin_end": 49.3,
            "bin_start": 42.2,
            "count": 0
           },
           {
            "bin_end": 56.4,
            "bin_start": 49.3,
            "count": 0
           },
           {
            "bin_end": 63.5,
            "bin_start": 56.4,
            "count": 0
           },
           {
            "bin_end": 70.6,
            "bin_start": 63.5,
            "count": 0
           },
           {
            "bin_end": 77.69999999999999,
            "bin_start": 70.6,
            "count": 0
           },
           {
            "bin_end": 84.8,
            "bin_start": 77.69999999999999,
            "count": 1
           },
           {
            "bin_end": 91.9,
            "bin_start": 84.8,
            "count": 0
           },
           {
            "bin_end": 99,
            "bin_start": 91.9,
            "count": 1
           }
          ],
          "max": "99",
          "min": "28",
          "nan_count": 0,
          "unique_count": 3
         }
        },
        {
         "dtype": "int64",
         "name": "Participate",
         "stats": {
          "histogram": [
           {
            "bin_end": 38,
            "bin_start": 28,
            "count": 1
           },
           {
            "bin_end": 48,
            "bin_start": 38,
            "count": 0
           },
           {
            "bin_end": 58,
            "bin_start": 48,
            "count": 0
           },
           {
            "bin_end": 68,
            "bin_start": 58,
            "count": 0
           },
           {
            "bin_end": 78,
            "bin_start": 68,
            "count": 0
           },
           {
            "bin_end": 88,
            "bin_start": 78,
            "count": 0
           },
           {
            "bin_end": 98,
            "bin_start": 88,
            "count": 0
           },
           {
            "bin_end": 108,
            "bin_start": 98,
            "count": 0
           },
           {
            "bin_end": 118,
            "bin_start": 108,
            "count": 1
           },
           {
            "bin_end": 128,
            "bin_start": 118,
            "count": 1
           }
          ],
          "max": "128",
          "min": "28",
          "nan_count": 0,
          "unique_count": 3
         }
        },
        {
         "dtype": "object",
         "name": "_deepnote_index_column"
        }
       ],
       "row_count": 3,
       "rows_bottom": null,
       "rows_top": [
        {
         "Not Participate": 99,
         "Participate": 28,
         "_deepnote_index_column": "L"
        },
        {
         "Not Participate": 83,
         "Participate": 128,
         "_deepnote_index_column": "M"
        },
        {
         "Not Participate": 28,
         "Participate": 114,
         "_deepnote_index_column": "H"
        }
       ]
      },
      "text/html": [
       "<div>\n",
       "<style scoped>\n",
       "    .dataframe tbody tr th:only-of-type {\n",
       "        vertical-align: middle;\n",
       "    }\n",
       "\n",
       "    .dataframe tbody tr th {\n",
       "        vertical-align: top;\n",
       "    }\n",
       "\n",
       "    .dataframe thead th {\n",
       "        text-align: right;\n",
       "    }\n",
       "</style>\n",
       "<table border=\"1\" class=\"dataframe\">\n",
       "  <thead>\n",
       "    <tr style=\"text-align: right;\">\n",
       "      <th></th>\n",
       "      <th>Not Participate</th>\n",
       "      <th>Participate</th>\n",
       "    </tr>\n",
       "    <tr>\n",
       "      <th>Class</th>\n",
       "      <th></th>\n",
       "      <th></th>\n",
       "    </tr>\n",
       "  </thead>\n",
       "  <tbody>\n",
       "    <tr>\n",
       "      <th>L</th>\n",
       "      <td>99</td>\n",
       "      <td>28</td>\n",
       "    </tr>\n",
       "    <tr>\n",
       "      <th>M</th>\n",
       "      <td>83</td>\n",
       "      <td>128</td>\n",
       "    </tr>\n",
       "    <tr>\n",
       "      <th>H</th>\n",
       "      <td>28</td>\n",
       "      <td>114</td>\n",
       "    </tr>\n",
       "  </tbody>\n",
       "</table>\n",
       "</div>"
      ],
      "text/plain": [
       "       Not Participate  Participate\n",
       "Class                              \n",
       "L                   99           28\n",
       "M                   83          128\n",
       "H                   28          114"
      ]
     },
     "execution_count": 39,
     "metadata": {},
     "output_type": "execute_result"
    }
   ],
   "source": [
    "q2P_df_T = q2P_df.transpose()\n",
    "q2P_df_T"
   ]
  },
  {
   "cell_type": "markdown",
   "metadata": {
    "cell_id": "00068-c80c2800-b2f5-4948-8236-17c8a864a11e",
    "deepnote_cell_type": "markdown",
    "tags": []
   },
   "source": [
    "The next visualization will be focused on the `Participation` category. Pie charts are also used for this visualization for the same reason stated above."
   ]
  },
  {
   "cell_type": "code",
   "execution_count": 67,
   "metadata": {
    "cell_id": "00061-d11d062b-8f3e-495e-89cf-847b0200259d",
    "deepnote_cell_type": "code",
    "deepnote_to_be_reexecuted": false,
    "execution_millis": 176,
    "execution_start": 1622607150033,
    "source_hash": "fdab7a0",
    "tags": []
   },
   "outputs": [
    {
     "data": {
      "image/png": "[encoded data removed]",
      "text/plain": [
       "<Figure size 648x648 with 2 Axes>"
      ]
     },
     "metadata": {
      "image/png": {
       "height": 445,
       "width": 576
      }
     },
     "output_type": "display_data"
    }
   ],
   "source": [
    "fig, axes = plt.subplots(nrows=1, ncols=2, figsize = (9,9))\n",
    "for ax, col in zip(axes.flat, q2P_df_T.columns):\n",
    "    artists = ax.pie(q2P_df_T[col], autopct='%.2f%%', colors = ['tab:blue', 'tab:orange', 'tab:green'])\n",
    "    ax.set(ylabel='', title=col, aspect='equal')\n",
    "\n",
    "fig.legend(artists[0], q2P_df_T.index)\n",
    "\n",
    "plt.show()"
   ]
  },
  {
   "cell_type": "markdown",
   "metadata": {
    "cell_id": "00070-18f19efc-7e0e-46ee-98d0-86a03d4ee648",
    "deepnote_cell_type": "markdown",
    "tags": []
   },
   "source": [
    "Though the above data shows that the majority of those with Low grades have parents who do not participate, Low class grades does not represent the majority of the Not Participating value in the Participation category. It still, however, represents the highest percentage in the chart as it gets 47.14%. \n",
    "\n",
    "The same can be almost said for the Participate value. Like above, High class grade is not the majority value. It got a high value of 42.22% but it is not considered the highest in the chart as Middle Class grade recieved a value of 47.41%."
   ]
  },
  {
   "cell_type": "code",
   "execution_count": 41,
   "metadata": {
    "cell_id": "00057-2ac7dc6c-f62d-4975-8222-02ac31299b3d",
    "deepnote_cell_type": "code",
    "deepnote_to_be_reexecuted": false,
    "execution_millis": 15,
    "execution_start": 1622605915506,
    "source_hash": "e29a5157",
    "tags": []
   },
   "outputs": [
    {
     "data": {
      "text/plain": [
       "ParentSchoolSatisfaction  Class\n",
       "Bad                       L         84\n",
       "                          M         80\n",
       "                          H         24\n",
       "Good                      M        131\n",
       "                          H        118\n",
       "                          L         43\n",
       "Name: Class, dtype: int64"
      ]
     },
     "execution_count": 41,
     "metadata": {},
     "output_type": "execute_result"
    }
   ],
   "source": [
    "q2_Satisfaction = spd_df.groupby(\"ParentSchoolSatisfaction\")[\"Class\"].value_counts()\n",
    "q2_Satisfaction"
   ]
  },
  {
   "cell_type": "markdown",
   "metadata": {
    "cell_id": "00072-fc0a616e-df6e-4b03-8bac-407571b92736",
    "deepnote_cell_type": "markdown",
    "tags": []
   },
   "source": [
    "##### Satisfaction"
   ]
  },
  {
   "cell_type": "markdown",
   "metadata": {
    "cell_id": "00073-b69b6bea-de05-4c62-a99d-405887dda537",
    "deepnote_cell_type": "markdown",
    "tags": []
   },
   "source": [
    "The Satisfaction category will be represented by the `ParentSatisfaction` feature. The values for this feature are `Good` and `Bad`. It is uncertain if the value for this feature was given before revealing the class grade or after. It is assumed that it is before.\n",
    "\n",
    "The following is a view of the target feature and the count for each `Class` grade:"
   ]
  },
  {
   "cell_type": "code",
   "execution_count": 42,
   "metadata": {
    "cell_id": "00058-086dce55-6d21-420b-9bd3-74c814c65423",
    "deepnote_cell_type": "code",
    "deepnote_to_be_reexecuted": false,
    "execution_millis": 6,
    "execution_start": 1622605915524,
    "source_hash": "a3ef42a5",
    "tags": []
   },
   "outputs": [],
   "source": [
    "q2S_df = pd.DataFrame([q2_Satisfaction['Bad'], q2_Satisfaction['Good']], index = [\"Unsatisfied\", \"Satisfied\"])\n",
    "q2S_df"
   ]
  },
  {
   "cell_type": "markdown",
   "metadata": {
    "cell_id": "00075-db73f820-079b-4221-807a-f5461d932395",
    "deepnote_cell_type": "markdown",
    "tags": []
   },
   "source": [
    "Like before, pie charts will be used to visualize the data to show the percentage of each value in the category."
   ]
  },
  {
   "cell_type": "code",
   "execution_count": 43,
   "metadata": {
    "cell_id": "00064-fd3c4e20-da54-4bf7-8335-3f34f6608123",
    "deepnote_cell_type": "code",
    "deepnote_to_be_reexecuted": false,
    "execution_millis": 234,
    "execution_start": 1622605915532,
    "source_hash": "571105b3",
    "tags": []
   },
   "outputs": [
    {
     "data": {
      "image/png": "[encoded data removed]",
      "text/plain": [
       "<Figure size 648x648 with 3 Axes>"
      ]
     },
     "metadata": {
      "image/png": {
       "height": 405,
       "width": 576
      }
     },
     "output_type": "display_data"
    }
   ],
   "source": [
    "fig, axes = plt.subplots(nrows=1, ncols=3, figsize = (9,9))\n",
    "for ax, col in zip(axes.flat, q2S_df.columns):\n",
    "    artists = ax.pie(q2S_df[col], autopct='%.2f%%', colors = ['tab:red', 'tab:blue'])\n",
    "    ax.set(ylabel='', title=col, aspect='equal')\n",
    "\n",
    "fig.legend(artists[0], q2S_df.index)\n",
    "\n",
    "plt.show()"
   ]
  },
  {
   "cell_type": "markdown",
   "metadata": {
    "cell_id": "00077-200aa9a6-1bf0-4b0d-96d7-c1c9158583c8",
    "deepnote_cell_type": "markdown",
    "tags": []
   },
   "source": [
    "As hypothesized, majority of the value in the Low class grade are students who have parents expressing unsatisfaction towards the school's system. The Unsatisfied received a percentage of 66.14%. Majority of those with High class grade have parents expressing Satisfaction in the school system as Satisfied receives a score of 83.10%.\n",
    "\n",
    "It is observed that:\n",
    "- Majority of those with low class grades have parents who express unsatisfaction with the school system.\n",
    "- Majority of those with high grades have parents who express satisfaction with the school system."
   ]
  },
  {
   "cell_type": "markdown",
   "metadata": {
    "cell_id": "00078-6b9cc15a-35f5-4580-96e1-efa802575b26",
    "deepnote_cell_type": "markdown",
    "tags": []
   },
   "source": [
    "The data is transposed for the next visualization as it focuses now on the `Satisfaction` category."
   ]
  },
  {
   "cell_type": "code",
   "execution_count": 44,
   "metadata": {
    "cell_id": "00065-6ca2c164-73bf-4680-8244-eb5b7712ff21",
    "deepnote_cell_type": "code",
    "deepnote_to_be_reexecuted": false,
    "execution_millis": 15,
    "execution_start": 1622605915754,
    "source_hash": "35a0995a",
    "tags": []
   },
   "outputs": [
    {
     "data": {
      "application/vnd.deepnote.dataframe.v2+json": {
       "column_count": 2,
       "columns": [
        {
         "dtype": "int64",
         "name": "Unsatisfied",
         "stats": {
          "histogram": [
           {
            "bin_end": 30,
            "bin_start": 24,
            "count": 1
           },
           {
            "bin_end": 36,
            "bin_start": 30,
            "count": 0
           },
           {
            "bin_end": 42,
            "bin_start": 36,
            "count": 0
           },
           {
            "bin_end": 48,
            "bin_start": 42,
            "count": 0
           },
           {
            "bin_end": 54,
            "bin_start": 48,
            "count": 0
           },
           {
            "bin_end": 60,
            "bin_start": 54,
            "count": 0
           },
           {
            "bin_end": 66,
            "bin_start": 60,
            "count": 0
           },
           {
            "bin_end": 72,
            "bin_start": 66,
            "count": 0
           },
           {
            "bin_end": 78,
            "bin_start": 72,
            "count": 0
           },
           {
            "bin_end": 84,
            "bin_start": 78,
            "count": 2
           }
          ],
          "max": "84",
          "min": "24",
          "nan_count": 0,
          "unique_count": 3
         }
        },
        {
         "dtype": "int64",
         "name": "Satisfied",
         "stats": {
          "histogram": [
           {
            "bin_end": 51.8,
            "bin_start": 43,
            "count": 1
           },
           {
            "bin_end": 60.6,
            "bin_start": 51.8,
            "count": 0
           },
           {
            "bin_end": 69.4,
            "bin_start": 60.6,
            "count": 0
           },
           {
            "bin_end": 78.2,
            "bin_start": 69.4,
            "count": 0
           },
           {
            "bin_end": 87,
            "bin_start": 78.2,
            "count": 0
           },
           {
            "bin_end": 95.80000000000001,
            "bin_start": 87,
            "count": 0
           },
           {
            "bin_end": 104.60000000000001,
            "bin_start": 95.80000000000001,
            "count": 0
           },
           {
            "bin_end": 113.4,
            "bin_start": 104.60000000000001,
            "count": 0
           },
           {
            "bin_end": 122.2,
            "bin_start": 113.4,
            "count": 1
           },
           {
            "bin_end": 131,
            "bin_start": 122.2,
            "count": 1
           }
          ],
          "max": "131",
          "min": "43",
          "nan_count": 0,
          "unique_count": 3
         }
        },
        {
         "dtype": "object",
         "name": "_deepnote_index_column"
        }
       ],
       "row_count": 3,
       "rows_bottom": null,
       "rows_top": [
        {
         "Satisfied": 43,
         "Unsatisfied": 84,
         "_deepnote_index_column": "L"
        },
        {
         "Satisfied": 131,
         "Unsatisfied": 80,
         "_deepnote_index_column": "M"
        },
        {
         "Satisfied": 118,
         "Unsatisfied": 24,
         "_deepnote_index_column": "H"
        }
       ]
      },
      "text/html": [
       "<div>\n",
       "<style scoped>\n",
       "    .dataframe tbody tr th:only-of-type {\n",
       "        vertical-align: middle;\n",
       "    }\n",
       "\n",
       "    .dataframe tbody tr th {\n",
       "        vertical-align: top;\n",
       "    }\n",
       "\n",
       "    .dataframe thead th {\n",
       "        text-align: right;\n",
       "    }\n",
       "</style>\n",
       "<table border=\"1\" class=\"dataframe\">\n",
       "  <thead>\n",
       "    <tr style=\"text-align: right;\">\n",
       "      <th></th>\n",
       "      <th>Unsatisfied</th>\n",
       "      <th>Satisfied</th>\n",
       "    </tr>\n",
       "    <tr>\n",
       "      <th>Class</th>\n",
       "      <th></th>\n",
       "      <th></th>\n",
       "    </tr>\n",
       "  </thead>\n",
       "  <tbody>\n",
       "    <tr>\n",
       "      <th>L</th>\n",
       "      <td>84</td>\n",
       "      <td>43</td>\n",
       "    </tr>\n",
       "    <tr>\n",
       "      <th>M</th>\n",
       "      <td>80</td>\n",
       "      <td>131</td>\n",
       "    </tr>\n",
       "    <tr>\n",
       "      <th>H</th>\n",
       "      <td>24</td>\n",
       "      <td>118</td>\n",
       "    </tr>\n",
       "  </tbody>\n",
       "</table>\n",
       "</div>"
      ],
      "text/plain": [
       "       Unsatisfied  Satisfied\n",
       "Class                        \n",
       "L               84         43\n",
       "M               80        131\n",
       "H               24        118"
      ]
     },
     "execution_count": 44,
     "metadata": {},
     "output_type": "execute_result"
    }
   ],
   "source": [
    "q2S_df_T = q2S_df.transpose()\n",
    "q2S_df_T"
   ]
  },
  {
   "cell_type": "code",
   "execution_count": 68,
   "metadata": {
    "cell_id": "00066-5bc77a35-88e0-4d21-8f3a-be77edd22c28",
    "deepnote_cell_type": "code",
    "deepnote_to_be_reexecuted": false,
    "execution_millis": 133,
    "execution_start": 1622607170440,
    "source_hash": "2228ffe",
    "tags": []
   },
   "outputs": [
    {
     "data": {
      "image/png": "[encoded data removed]",
      "text/plain": [
       "<Figure size 648x648 with 2 Axes>"
      ]
     },
     "metadata": {
      "image/png": {
       "height": 445,
       "width": 576
      }
     },
     "output_type": "display_data"
    }
   ],
   "source": [
    "fig, axes = plt.subplots(nrows=1, ncols=2, figsize = (9,9))\n",
    "for ax, col in zip(axes.flat, q2S_df_T.columns):\n",
    "    artists = ax.pie(q2S_df_T[col], autopct='%.2f%%', colors = ['tab:blue', 'tab:orange', 'tab:green'])\n",
    "    ax.set(ylabel='', title=col, aspect='equal')\n",
    "\n",
    "fig.legend(artists[0], q2S_df_T.index)\n",
    "\n",
    "plt.show()"
   ]
  },
  {
   "cell_type": "markdown",
   "metadata": {
    "cell_id": "00081-0f130926-86c7-4b2e-96e0-8f9f2dde43d7",
    "deepnote_cell_type": "markdown",
    "tags": []
   },
   "source": [
    "The results did not produce values that supports that immediately supports the hypothesis as a class grade value did not take up the majority of both visualization. The Unsatisfied value of the `Satisfaction` category have 44.68% of students recieveing Low class grades, this represents the highest value. The highest value for the Satisfied category is the Middle class grade value with a percentage of 44.86%. This is followed by High class grade with 40.41%."
   ]
  },
  {
   "cell_type": "markdown",
   "metadata": {
    "cell_id": "00091-53c61d4e-5b4a-495b-b1a5-2f786f5f3716",
    "deepnote_cell_type": "markdown",
    "tags": []
   },
   "source": [
    "#### Chi-square Test"
   ]
  },
  {
   "cell_type": "markdown",
   "metadata": {
    "cell_id": "00092-1da4684f-a8f9-4d83-92f8-7b6b6f809b6e",
    "deepnote_cell_type": "markdown",
    "tags": []
   },
   "source": [
    "Chi-square is performed to determine whether features are dependent or possibly independent. The test will be done on the separated features, `Participation` and `Satisfaction`. The hypothesis are:\n",
    "\n",
    "- H: The feature affects the student's performance.\n",
    "- H0: The feature does not affect the student's performance."
   ]
  },
  {
   "cell_type": "code",
   "execution_count": 46,
   "metadata": {
    "cell_id": "00093-29341325-42a8-42cd-82a2-a063abe0cc19",
    "deepnote_cell_type": "code",
    "deepnote_to_be_reexecuted": false,
    "execution_millis": 0,
    "execution_start": 1622605915931,
    "source_hash": "93cc00aa",
    "tags": []
   },
   "outputs": [],
   "source": [
    "alpha = 0.05"
   ]
  },
  {
   "cell_type": "markdown",
   "metadata": {
    "cell_id": "00093-a4b9ad96-b333-4a65-a742-c951651d506b",
    "deepnote_cell_type": "markdown",
    "tags": []
   },
   "source": [
    "##### Participation"
   ]
  },
  {
   "cell_type": "code",
   "execution_count": 47,
   "metadata": {
    "cell_id": "00092-fb2e62e8-a509-46aa-97b6-b502891689f1",
    "deepnote_cell_type": "code",
    "deepnote_to_be_reexecuted": false,
    "execution_millis": 19,
    "execution_start": 1622605915959,
    "source_hash": "41cda8fb",
    "tags": []
   },
   "outputs": [
    {
     "name": "stdout",
     "output_type": "stream",
     "text": [
      "Test Statistic is 95.36464947421923\n",
      "p value for Participation is 1.9580757205685668e-21\n",
      "Degree of freedom is 2\n",
      "Expected frequencies: \n",
      "[[ 55.5625  92.3125  62.125 ]\n",
      " [ 71.4375 118.6875  79.875 ]]\n",
      "It is Dependent (reject H0)\n"
     ]
    }
   ],
   "source": [
    "c, p, dof, expected = chi2_contingency(q2P_df)\n",
    "print(\"Test Statistic is \" + str(c))\n",
    "print(\"p value for Participation is \" + str(p))\n",
    "print(\"Degree of freedom is \" + str(dof))\n",
    "print(\"Expected frequencies: \")\n",
    "print(expected)\n",
    "if p <= alpha:\n",
    "    print(\"It is Dependent (reject H0)\")\n",
    "else:\n",
    "    print(\"It is Independent (do not reject H0)\")\n"
   ]
  },
  {
   "cell_type": "markdown",
   "metadata": {
    "cell_id": "00096-94533bff-2d0c-4446-a116-342b8d9f71d2",
    "deepnote_cell_type": "markdown",
    "tags": []
   },
   "source": [
    "`Participation` is shown as a dependent feature which means that it could affect a student's class grades."
   ]
  },
  {
   "cell_type": "markdown",
   "metadata": {
    "cell_id": "00095-259f1a0f-c3d3-469d-9067-a9bf68a58576",
    "deepnote_cell_type": "markdown",
    "tags": []
   },
   "source": [
    "##### Satisfaction"
   ]
  },
  {
   "cell_type": "code",
   "execution_count": 48,
   "metadata": {
    "cell_id": "00093-7039e088-2a1b-43d1-9e5e-37162f797517",
    "deepnote_cell_type": "code",
    "deepnote_to_be_reexecuted": false,
    "execution_millis": 18,
    "execution_start": 1622605915960,
    "source_hash": "d7565ced",
    "tags": []
   },
   "outputs": [
    {
     "name": "stdout",
     "output_type": "stream",
     "text": [
      "Test Statistic is 68.4695169021438\n",
      "p value for Satisfaction is 1.3552933750373137e-15\n",
      "Degree of freedom is 2\n",
      "Expected frequencies: \n",
      "[[ 49.74166667  82.64166667  55.61666667]\n",
      " [ 77.25833333 128.35833333  86.38333333]]\n",
      "It is Dependent (reject H0)\n"
     ]
    }
   ],
   "source": [
    "c, p, dof, expected = chi2_contingency(q2S_df)\n",
    "print(\"Test Statistic is \" + str(c))\n",
    "print(\"p value for Satisfaction is \" + str(p)) \n",
    "print(\"Degree of freedom is \" + str(dof))\n",
    "print(\"Expected frequencies: \")\n",
    "print(expected)\n",
    "#print(\"Expected frequencies are \" str(expected)) \n",
    "if p <= alpha:\n",
    "    print(\"It is Dependent (reject H0)\")\n",
    "else:\n",
    "    print(\"It is Independent (do not reject H0)\")"
   ]
  },
  {
   "cell_type": "markdown",
   "metadata": {
    "cell_id": "00098-672a0add-fb85-48bd-9e1c-ad87cd6d7c2b",
    "deepnote_cell_type": "markdown",
    "tags": []
   },
   "source": [
    "`Satisfaction` is shown as a dependent feature which means that it could affect a student's class grades."
   ]
  },
  {
   "cell_type": "markdown",
   "metadata": {
    "cell_id": "00100-eaa70311-855a-4cf3-99d6-f6807ffab9cb",
    "deepnote_cell_type": "markdown",
    "tags": []
   },
   "source": [
    "It is shown through the gathered and interpreted data that a parent's school participation and their satisfaction with the school system may affect a student's class grade or class performance. The visualization shows the high percentage of High class grades on participating and satisfied parents. There is also a high percentage of Low class grades on parents who does the opposite. The chi-square test further proves their relation and rejects the null hypothesis that states that they are independent. Therefore, these features can be considered as some of the factors that affect a student's class performance."
   ]
  },
  {
   "cell_type": "markdown",
   "metadata": {
    "cell_id": "00052-52981921-5a01-48bb-b514-a4bd1f0082f6",
    "deepnote_cell_type": "markdown",
    "id": "-HT7yLU153-L"
   },
   "source": [
    "#### ***Q3: Do the number of class absences greatly affect the grades of a student?***"
   ]
  },
  {
   "cell_type": "markdown",
   "metadata": {
    "cell_id": "00102-70a2bb11-0a2b-4aa0-a5e4-9c1e588bac3f",
    "deepnote_cell_type": "markdown",
    "tags": []
   },
   "source": [
    "We'll look at the `StudentAbsenceDays` in this portion of the notebook, which may indicate a student's grades.\n",
    "\n",
    "The number of student absences is thought to be a factor that influences a student's grade in class. The percentages of the feature and the p-value obtained from the chi-square test can be used to demonstrate this."
   ]
  },
  {
   "cell_type": "markdown",
   "metadata": {
    "cell_id": "00103-90130ced-cfbc-4a69-95ea-f4f771a8b793",
    "deepnote_cell_type": "markdown",
    "tags": []
   },
   "source": [
    "The next cell displays the number of students in each class grade for each value of `StudentAbsenceDays`."
   ]
  },
  {
   "cell_type": "code",
   "execution_count": 49,
   "metadata": {
    "cell_id": "00053-96e5200e-09c8-459f-8013-ad272e137ccd",
    "colab": {
     "base_uri": "https://localhost:8080/"
    },
    "deepnote_cell_type": "code",
    "deepnote_to_be_reexecuted": false,
    "executionInfo": {
     "elapsed": 931,
     "status": "ok",
     "timestamp": 1620279451187,
     "user": {
      "displayName": "Angeline Maris Gubat",
      "photoUrl": "https://lh3.googleusercontent.com/a-/AOh14Gijg6xgX0R_IA4o8GkF1xnv3D8-8kHv8i-V48U6=s64",
      "userId": "00875153666701401808"
     },
     "user_tz": -480
    },
    "execution_millis": 30,
    "execution_start": 1622605915961,
    "id": "s_LwGXxmHrF-",
    "outputId": "e8c86756-7618-4344-d76e-953b58652a99",
    "source_hash": "93036729"
   },
   "outputs": [
    {
     "data": {
      "text/plain": [
       "StudentAbsenceDays  Class\n",
       "Above-7             L        116\n",
       "                    M         71\n",
       "                    H          4\n",
       "Under-7             M        140\n",
       "                    H        138\n",
       "                    L         11\n",
       "Name: Class, dtype: int64"
      ]
     },
     "execution_count": 49,
     "metadata": {},
     "output_type": "execute_result"
    }
   ],
   "source": [
    "q3_df = spd_df.groupby(\"StudentAbsenceDays\")[\"Class\"].value_counts()\n",
    "q3_df"
   ]
  },
  {
   "cell_type": "markdown",
   "metadata": {
    "cell_id": "00062-11e9f41d-0158-403c-9790-16454f245ce5",
    "deepnote_cell_type": "markdown",
    "tags": []
   },
   "source": [
    "Then we will be assigning the required feature for this research question to a dataframe variable and transposed for visualization."
   ]
  },
  {
   "cell_type": "code",
   "execution_count": 50,
   "metadata": {
    "cell_id": "00099-e3e287bf-1285-438f-8928-e395054ff64e",
    "deepnote_cell_type": "code",
    "deepnote_to_be_reexecuted": false,
    "execution_millis": 26,
    "execution_start": 1622605915982,
    "source_hash": "fa318cf7",
    "tags": []
   },
   "outputs": [
    {
     "data": {
      "application/vnd.deepnote.dataframe.v2+json": {
       "column_count": 3,
       "columns": [
        {
         "dtype": "int64",
         "name": "L",
         "stats": {
          "histogram": [
           {
            "bin_end": 21.5,
            "bin_start": 11,
            "count": 1
           },
           {
            "bin_end": 32,
            "bin_start": 21.5,
            "count": 0
           },
           {
            "bin_end": 42.5,
            "bin_start": 32,
            "count": 0
           },
           {
            "bin_end": 53,
            "bin_start": 42.5,
            "count": 0
           },
           {
            "bin_end": 63.5,
            "bin_start": 53,
            "count": 0
           },
           {
            "bin_end": 74,
            "bin_start": 63.5,
            "count": 0
           },
           {
            "bin_end": 84.5,
            "bin_start": 74,
            "count": 0
           },
           {
            "bin_end": 95,
            "bin_start": 84.5,
            "count": 0
           },
           {
            "bin_end": 105.5,
            "bin_start": 95,
            "count": 0
           },
           {
            "bin_end": 116,
            "bin_start": 105.5,
            "count": 1
           }
          ],
          "max": "116",
          "min": "11",
          "nan_count": 0,
          "unique_count": 2
         }
        },
        {
         "dtype": "int64",
         "name": "M",
         "stats": {
          "histogram": [
           {
            "bin_end": 77.9,
            "bin_start": 71,
            "count": 1
           },
           {
            "bin_end": 84.8,
            "bin_start": 77.9,
            "count": 0
           },
           {
            "bin_end": 91.7,
            "bin_start": 84.8,
            "count": 0
           },
           {
            "bin_end": 98.6,
            "bin_start": 91.7,
            "count": 0
           },
           {
            "bin_end": 105.5,
            "bin_start": 98.6,
            "count": 0
           },
           {
            "bin_end": 112.4,
            "bin_start": 105.5,
            "count": 0
           },
           {
            "bin_end": 119.30000000000001,
            "bin_start": 112.4,
            "count": 0
           },
           {
            "bin_end": 126.2,
            "bin_start": 119.30000000000001,
            "count": 0
           },
           {
            "bin_end": 133.1,
            "bin_start": 126.2,
            "count": 0
           },
           {
            "bin_end": 140,
            "bin_start": 133.1,
            "count": 1
           }
          ],
          "max": "140",
          "min": "71",
          "nan_count": 0,
          "unique_count": 2
         }
        },
        {
         "dtype": "int64",
         "name": "H",
         "stats": {
          "histogram": [
           {
            "bin_end": 17.4,
            "bin_start": 4,
            "count": 1
           },
           {
            "bin_end": 30.8,
            "bin_start": 17.4,
            "count": 0
           },
           {
            "bin_end": 44.2,
            "bin_start": 30.8,
            "count": 0
           },
           {
            "bin_end": 57.6,
            "bin_start": 44.2,
            "count": 0
           },
           {
            "bin_end": 71,
            "bin_start": 57.6,
            "count": 0
           },
           {
            "bin_end": 84.4,
            "bin_start": 71,
            "count": 0
           },
           {
            "bin_end": 97.8,
            "bin_start": 84.4,
            "count": 0
           },
           {
            "bin_end": 111.2,
            "bin_start": 97.8,
            "count": 0
           },
           {
            "bin_end": 124.60000000000001,
            "bin_start": 111.2,
            "count": 0
           },
           {
            "bin_end": 138,
            "bin_start": 124.60000000000001,
            "count": 1
           }
          ],
          "max": "138",
          "min": "4",
          "nan_count": 0,
          "unique_count": 2
         }
        },
        {
         "dtype": "object",
         "name": "_deepnote_index_column"
        }
       ],
       "row_count": 2,
       "rows_bottom": null,
       "rows_top": [
        {
         "H": 4,
         "L": 116,
         "M": 71,
         "_deepnote_index_column": "Above 7 Absences"
        },
        {
         "H": 138,
         "L": 11,
         "M": 140,
         "_deepnote_index_column": "Below 7 Absences"
        }
       ]
      },
      "text/html": [
       "<div>\n",
       "<style scoped>\n",
       "    .dataframe tbody tr th:only-of-type {\n",
       "        vertical-align: middle;\n",
       "    }\n",
       "\n",
       "    .dataframe tbody tr th {\n",
       "        vertical-align: top;\n",
       "    }\n",
       "\n",
       "    .dataframe thead th {\n",
       "        text-align: right;\n",
       "    }\n",
       "</style>\n",
       "<table border=\"1\" class=\"dataframe\">\n",
       "  <thead>\n",
       "    <tr style=\"text-align: right;\">\n",
       "      <th>Class</th>\n",
       "      <th>L</th>\n",
       "      <th>M</th>\n",
       "      <th>H</th>\n",
       "    </tr>\n",
       "  </thead>\n",
       "  <tbody>\n",
       "    <tr>\n",
       "      <th>Above 7 Absences</th>\n",
       "      <td>116</td>\n",
       "      <td>71</td>\n",
       "      <td>4</td>\n",
       "    </tr>\n",
       "    <tr>\n",
       "      <th>Below 7 Absences</th>\n",
       "      <td>11</td>\n",
       "      <td>140</td>\n",
       "      <td>138</td>\n",
       "    </tr>\n",
       "  </tbody>\n",
       "</table>\n",
       "</div>"
      ],
      "text/plain": [
       "Class               L    M    H\n",
       "Above 7 Absences  116   71    4\n",
       "Below 7 Absences   11  140  138"
      ]
     },
     "execution_count": 50,
     "metadata": {},
     "output_type": "execute_result"
    }
   ],
   "source": [
    "q3s_df = pd.DataFrame([q3_df['Above-7'], q3_df['Under-7']], index=[\"Above 7 Absences\", \"Below 7 Absences\"])\n",
    "q3s_df"
   ]
  },
  {
   "cell_type": "markdown",
   "metadata": {
    "cell_id": "00107-d57c195d-bfe4-4af3-becc-19e7c436b1b5",
    "deepnote_cell_type": "markdown",
    "tags": []
   },
   "source": [
    "A pie chart is ideal to show what is the dominant or to examine the percentage of each class grade based on the data presented above."
   ]
  },
  {
   "cell_type": "code",
   "execution_count": 51,
   "metadata": {
    "cell_id": "00104-b2ea7ba1-e9ad-4808-8b46-67fce818ce8f",
    "deepnote_cell_type": "code",
    "deepnote_to_be_reexecuted": false,
    "execution_millis": 446,
    "execution_start": 1622605916042,
    "source_hash": "3b355ec9",
    "tags": []
   },
   "outputs": [
    {
     "data": {
      "image/png": "[encoded data removed]",
      "text/plain": [
       "<Figure size 1440x1440 with 3 Axes>"
      ]
     },
     "metadata": {
      "image/png": {
       "height": 342,
       "width": 1268
      }
     },
     "output_type": "display_data"
    }
   ],
   "source": [
    "df2 = pd.DataFrame(q3s_df)\n",
    "plot = df2.plot.pie(subplots=True, figsize=(20, 20), autopct='%1.1f%%')"
   ]
  },
  {
   "cell_type": "markdown",
   "metadata": {
    "cell_id": "00109-bee89ac8-8b8f-4434-a296-8c07c7467b1e",
    "deepnote_cell_type": "markdown",
    "tags": []
   },
   "source": [
    "When the number of student absences exceeds 7 days, the generated data reveals a significant percentage of Low class grade. There are 91.3% of students with Low class grades that are absent for more than 7 days while there are 33.6% of students that have Middle class grades and 2.8% of students with High class grades. \n",
    "\n",
    "On the other hand, there are only 8.7% of students that are on Low class grades, 66.4% students on Middle class grades, and 97.2% of students have High class grades with absences that are below 7 days.\n",
    "\n",
    "As we can see, the percentage of students being on Low class grades to High class grades with above 7 days of absences are becoming smaller while if we take a look on the precentage of students being on Low class grades to High class grades with absences that are below 7 days, it is also becoming bigger. \n",
    "\n",
    "Given the data shown above, it can be concluded that absences greatly affect students on their class grades. "
   ]
  },
  {
   "cell_type": "markdown",
   "metadata": {
    "cell_id": "00110-e5db17ee-6695-4865-b243-6a16e4e8db12",
    "deepnote_cell_type": "markdown",
    "tags": []
   },
   "source": [
    "#### Chi-square Test"
   ]
  },
  {
   "cell_type": "markdown",
   "metadata": {
    "cell_id": "00111-0c3a5cc5-beb9-4324-b09f-f4ad4b2594e7",
    "deepnote_cell_type": "markdown",
    "tags": []
   },
   "source": [
    "Chi-square is performed to determine whether the feature `StudentAbsenceDays` are dependent or possibly independent. The hypothesis are:\n",
    "\n",
    "- H: The feature affects the student's class grade.\n",
    "- H0: The feature does not affect the student's class grade."
   ]
  },
  {
   "cell_type": "code",
   "execution_count": 57,
   "metadata": {
    "cell_id": "00106-7b5b05f8-90bf-47fc-9865-0cb43f866211",
    "deepnote_cell_type": "code",
    "deepnote_to_be_reexecuted": false,
    "execution_millis": 0,
    "execution_start": 1622605962723,
    "source_hash": "e4a183c6",
    "tags": []
   },
   "outputs": [
    {
     "name": "stdout",
     "output_type": "stream",
     "text": [
      "Test Statistic is 225.20481950881492\n",
      "p value for Absences is 1.2513960927832126e-49\n",
      "Degree of freedom is 2\n",
      "Expected frequencies: \n",
      "[[ 50.53541667  83.96041667  56.50416667]\n",
      " [ 76.46458333 127.03958333  85.49583333]]\n",
      "It is Dependent (reject H0)\n"
     ]
    }
   ],
   "source": [
    "c, p, dof, expected = chi2_contingency(q3s_df)\n",
    "print(\"Test Statistic is \" + str(c))\n",
    "print(\"p value for Absences is \" + str(p))\n",
    "print(\"Degree of freedom is \" + str(dof))\n",
    "print(\"Expected frequencies: \")\n",
    "print(expected)\n",
    "if p <= alpha:\n",
    "    print(\"It is Dependent (reject H0)\")\n",
    "else:\n",
    "    print(\"It is Independent (do not reject H0)\")\n"
   ]
  },
  {
   "cell_type": "markdown",
   "metadata": {
    "cell_id": "00107-90586758-4121-44c6-8772-3f8c78cce64c",
    "deepnote_cell_type": "markdown",
    "tags": []
   },
   "source": [
    "The number of days that students have been absent is displayed as a dependent characteristic, implying that it may have an impact on a student's class grades."
   ]
  },
  {
   "cell_type": "markdown",
   "metadata": {
    "cell_id": "00114-5fe25e1b-3365-4b2e-abf2-5ba521b6172e",
    "deepnote_cell_type": "markdown",
    "tags": []
   },
   "source": [
    "The collected and evaluated data shows that student absences can influence a student's grade in class. On absences of more than 7 days, the visualization depicts a large percentage of Low class grades. On absences of less than seven days, there is also a significant percentage of High class grades.\n",
    "\n",
    "The chi-square test confirms their relationship and disproves the null hypothesis that they are unrelated. As a result, this feature can be considered a factor that influences a student's grade in class."
   ]
  },
  {
   "cell_type": "markdown",
   "metadata": {
    "cell_id": "00054-75c8c294-e9b9-465f-89f4-3bf0e467fe32",
    "deepnote_cell_type": "markdown",
    "id": "ITtMyZZf55JH"
   },
   "source": [
    "#### ***Q4: Does visiting class resources result in higher class grades?***"
   ]
  },
  {
   "cell_type": "markdown",
   "metadata": {
    "cell_id": "00108-8f486db2-d2a8-4771-bfb4-45abdc581281",
    "deepnote_cell_type": "markdown",
    "tags": []
   },
   "source": [
    "We wanted to know if the total number of times a student visits a course content affects their academic performance. With this, we will be creating a new dataframe by grouping the `VisitedResources` column by `Class`, then getting the mean per class."
   ]
  },
  {
   "cell_type": "code",
   "execution_count": 53,
   "metadata": {
    "cell_id": "00119-1cb34efd-fdd3-46da-b0c1-41a44552d278",
    "deepnote_cell_type": "code",
    "deepnote_to_be_reexecuted": false,
    "execution_millis": 66,
    "execution_start": 1622605916488,
    "source_hash": "6438fa14",
    "tags": []
   },
   "outputs": [
    {
     "data": {
      "application/vnd.deepnote.dataframe.v2+json": {
       "column_count": 3,
       "columns": [
        {
         "dtype": "int64",
         "name": "VisitedResources",
         "stats": {
          "histogram": [
           {
            "bin_end": 9.9,
            "bin_start": 0,
            "count": 63
           },
           {
            "bin_end": 19.8,
            "bin_start": 9.9,
            "count": 55
           },
           {
            "bin_end": 29.700000000000003,
            "bin_start": 19.8,
            "count": 33
           },
           {
            "bin_end": 39.6,
            "bin_start": 29.700000000000003,
            "count": 22
           },
           {
            "bin_end": 49.5,
            "bin_start": 39.6,
            "count": 15
           },
           {
            "bin_end": 59.400000000000006,
            "bin_start": 49.5,
            "count": 27
           },
           {
            "bin_end": 69.3,
            "bin_start": 59.400000000000006,
            "count": 32
           },
           {
            "bin_end": 79.2,
            "bin_start": 69.3,
            "count": 50
           },
           {
            "bin_end": 89.10000000000001,
            "bin_start": 79.2,
            "count": 107
           },
           {
            "bin_end": 99,
            "bin_start": 89.10000000000001,
            "count": 76
           }
          ],
          "max": "99",
          "min": "0",
          "nan_count": 0,
          "unique_count": 89
         }
        },
        {
         "dtype": "int64",
         "name": "AnnouncementsView",
         "stats": {
          "histogram": [
           {
            "bin_end": 9.8,
            "bin_start": 0,
            "count": 72
           },
           {
            "bin_end": 19.6,
            "bin_start": 9.8,
            "count": 78
           },
           {
            "bin_end": 29.400000000000002,
            "bin_start": 19.6,
            "count": 63
           },
           {
            "bin_end": 39.2,
            "bin_start": 29.400000000000002,
            "count": 45
           },
           {
            "bin_end": 49,
            "bin_start": 39.2,
            "count": 47
           },
           {
            "bin_end": 58.800000000000004,
            "bin_start": 49,
            "count": 59
           },
           {
            "bin_end": 68.60000000000001,
            "bin_start": 58.800000000000004,
            "count": 27
           },
           {
            "bin_end": 78.4,
            "bin_start": 68.60000000000001,
            "count": 36
           },
           {
            "bin_end": 88.2,
            "bin_start": 78.4,
            "count": 42
           },
           {
            "bin_end": 98,
            "bin_start": 88.2,
            "count": 11
           }
          ],
          "max": "98",
          "min": "0",
          "nan_count": 0,
          "unique_count": 88
         }
        },
        {
         "dtype": "object",
         "name": "Class",
         "stats": {
          "categories": [
           {
            "count": 211,
            "name": "M"
           },
           {
            "count": 142,
            "name": "H"
           },
           {
            "count": 127,
            "name": "L"
           }
          ],
          "nan_count": 0,
          "unique_count": 3
         }
        },
        {
         "dtype": "int64",
         "name": "_deepnote_index_column"
        }
       ],
       "row_count": 480,
       "rows_bottom": [
        {
         "AnnouncementsView": 69,
         "Class": "H",
         "VisitedResources": 64,
         "_deepnote_index_column": 313
        },
        {
         "AnnouncementsView": 74,
         "Class": "H",
         "VisitedResources": 88,
         "_deepnote_index_column": 314
        },
        {
         "AnnouncementsView": 89,
         "Class": "H",
         "VisitedResources": 84,
         "_deepnote_index_column": 315
        },
        {
         "AnnouncementsView": 83,
         "Class": "H",
         "VisitedResources": 92,
         "_deepnote_index_column": 316
        },
        {
         "AnnouncementsView": 83,
         "Class": "H",
         "VisitedResources": 90,
         "_deepnote_index_column": 317
        },
        {
         "AnnouncementsView": 13,
         "Class": "H",
         "VisitedResources": 97,
         "_deepnote_index_column": 318
        },
        {
         "AnnouncementsView": 23,
         "Class": "H",
         "VisitedResources": 95,
         "_deepnote_index_column": 319
        },
        {
         "AnnouncementsView": 23,
         "Class": "M",
         "VisitedResources": 87,
         "_deepnote_index_column": 320
        },
        {
         "AnnouncementsView": 20,
         "Class": "M",
         "VisitedResources": 80,
         "_deepnote_index_column": 321
        },
        {
         "AnnouncementsView": 10,
         "Class": "L",
         "VisitedResources": 15,
         "_deepnote_index_column": 322
        },
        {
         "AnnouncementsView": 20,
         "Class": "L",
         "VisitedResources": 10,
         "_deepnote_index_column": 323
        },
        {
         "AnnouncementsView": 18,
         "Class": "M",
         "VisitedResources": 35,
         "_deepnote_index_column": 324
        },
        {
         "AnnouncementsView": 33,
         "Class": "M",
         "VisitedResources": 20,
         "_deepnote_index_column": 325
        },
        {
         "AnnouncementsView": 10,
         "Class": "L",
         "VisitedResources": 15,
         "_deepnote_index_column": 326
        },
        {
         "AnnouncementsView": 20,
         "Class": "L",
         "VisitedResources": 10,
         "_deepnote_index_column": 327
        },
        {
         "AnnouncementsView": 63,
         "Class": "M",
         "VisitedResources": 77,
         "_deepnote_index_column": 328
        },
        {
         "AnnouncementsView": 73,
         "Class": "M",
         "VisitedResources": 85,
         "_deepnote_index_column": 329
        },
        {
         "AnnouncementsView": 50,
         "Class": "L",
         "VisitedResources": 7,
         "_deepnote_index_column": 330
        },
        {
         "AnnouncementsView": 29,
         "Class": "L",
         "VisitedResources": 2,
         "_deepnote_index_column": 331
        },
        {
         "AnnouncementsView": 30,
         "Class": "M",
         "VisitedResources": 90,
         "_deepnote_index_column": 332
        },
        {
         "AnnouncementsView": 29,
         "Class": "M",
         "VisitedResources": 80,
         "_deepnote_index_column": 333
        },
        {
         "AnnouncementsView": 9,
         "Class": "L",
         "VisitedResources": 8,
         "_deepnote_index_column": 334
        },
        {
         "AnnouncementsView": 12,
         "Class": "L",
         "VisitedResources": 7,
         "_deepnote_index_column": 335
        },
        {
         "AnnouncementsView": 20,
         "Class": "M",
         "VisitedResources": 90,
         "_deepnote_index_column": 336
        },
        {
         "AnnouncementsView": 15,
         "Class": "M",
         "VisitedResources": 80,
         "_deepnote_index_column": 337
        },
        {
         "AnnouncementsView": 10,
         "Class": "M",
         "VisitedResources": 98,
         "_deepnote_index_column": 338
        },
        {
         "AnnouncementsView": 11,
         "Class": "M",
         "VisitedResources": 89,
         "_deepnote_index_column": 339
        },
        {
         "AnnouncementsView": 15,
         "Class": "M",
         "VisitedResources": 90,
         "_deepnote_index_column": 340
        },
        {
         "AnnouncementsView": 13,
         "Class": "M",
         "VisitedResources": 80,
         "_deepnote_index_column": 341
        },
        {
         "AnnouncementsView": 50,
         "Class": "M",
         "VisitedResources": 87,
         "_deepnote_index_column": 342
        },
        {
         "AnnouncementsView": 29,
         "Class": "M",
         "VisitedResources": 92,
         "_deepnote_index_column": 343
        },
        {
         "AnnouncementsView": 15,
         "Class": "H",
         "VisitedResources": 97,
         "_deepnote_index_column": 344
        },
        {
         "AnnouncementsView": 20,
         "Class": "H",
         "VisitedResources": 82,
         "_deepnote_index_column": 345
        },
        {
         "AnnouncementsView": 15,
         "Class": "H",
         "VisitedResources": 97,
         "_deepnote_index_column": 346
        },
        {
         "AnnouncementsView": 20,
         "Class": "H",
         "VisitedResources": 82,
         "_deepnote_index_column": 347
        },
        {
         "AnnouncementsView": 9,
         "Class": "L",
         "VisitedResources": 3,
         "_deepnote_index_column": 348
        },
        {
         "AnnouncementsView": 12,
         "Class": "L",
         "VisitedResources": 4,
         "_deepnote_index_column": 349
        },
        {
         "AnnouncementsView": 6,
         "Class": "L",
         "VisitedResources": 13,
         "_deepnote_index_column": 350
        },
        {
         "AnnouncementsView": 11,
         "Class": "L",
         "VisitedResources": 9,
         "_deepnote_index_column": 351
        },
        {
         "AnnouncementsView": 40,
         "Class": "M",
         "VisitedResources": 94,
         "_deepnote_index_column": 352
        },
        {
         "AnnouncementsView": 21,
         "Class": "M",
         "VisitedResources": 89,
         "_deepnote_index_column": 353
        },
        {
         "AnnouncementsView": 42,
         "Class": "H",
         "VisitedResources": 98,
         "_deepnote_index_column": 354
        },
        {
         "AnnouncementsView": 41,
         "Class": "H",
         "VisitedResources": 97,
         "_deepnote_index_column": 355
        },
        {
         "AnnouncementsView": 32,
         "Class": "M",
         "VisitedResources": 88,
         "_deepnote_index_column": 356
        },
        {
         "AnnouncementsView": 21,
         "Class": "M",
         "VisitedResources": 87,
         "_deepnote_index_column": 357
        },
        {
         "AnnouncementsView": 52,
         "Class": "H",
         "VisitedResources": 98,
         "_deepnote_index_column": 358
        },
        {
         "AnnouncementsView": 51,
         "Class": "H",
         "VisitedResources": 90,
         "_deepnote_index_column": 359
        },
        {
         "AnnouncementsView": 31,
         "Class": "M",
         "VisitedResources": 88,
         "_deepnote_index_column": 360
        },
        {
         "AnnouncementsView": 41,
         "Class": "M",
         "VisitedResources": 98,
         "_deepnote_index_column": 361
        },
        {
         "AnnouncementsView": 41,
         "Class": "H",
         "VisitedResources": 98,
         "_deepnote_index_column": 362
        },
        {
         "AnnouncementsView": 51,
         "Class": "H",
         "VisitedResources": 88,
         "_deepnote_index_column": 363
        },
        {
         "AnnouncementsView": 21,
         "Class": "H",
         "VisitedResources": 95,
         "_deepnote_index_column": 364
        },
        {
         "AnnouncementsView": 31,
         "Class": "H",
         "VisitedResources": 70,
         "_deepnote_index_column": 365
        },
        {
         "AnnouncementsView": 71,
         "Class": "M",
         "VisitedResources": 18,
         "_deepnote_index_column": 366
        },
        {
         "AnnouncementsView": 51,
         "Class": "M",
         "VisitedResources": 58,
         "_deepnote_index_column": 367
        },
        {
         "AnnouncementsView": 60,
         "Class": "H",
         "VisitedResources": 88,
         "_deepnote_index_column": 368
        },
        {
         "AnnouncementsView": 51,
         "Class": "H",
         "VisitedResources": 81,
         "_deepnote_index_column": 369
        },
        {
         "AnnouncementsView": 50,
         "Class": "M",
         "VisitedResources": 17,
         "_deepnote_index_column": 370
        },
        {
         "AnnouncementsView": 29,
         "Class": "M",
         "VisitedResources": 2,
         "_deepnote_index_column": 371
        },
        {
         "AnnouncementsView": 22,
         "Class": "L",
         "VisitedResources": 20,
         "_deepnote_index_column": 372
        },
        {
         "AnnouncementsView": 19,
         "Class": "L",
         "VisitedResources": 9,
         "_deepnote_index_column": 373
        },
        {
         "AnnouncementsView": 40,
         "Class": "L",
         "VisitedResources": 10,
         "_deepnote_index_column": 374
        },
        {
         "AnnouncementsView": 29,
         "Class": "L",
         "VisitedResources": 2,
         "_deepnote_index_column": 375
        },
        {
         "AnnouncementsView": 50,
         "Class": "M",
         "VisitedResources": 90,
         "_deepnote_index_column": 376
        },
        {
         "AnnouncementsView": 59,
         "Class": "M",
         "VisitedResources": 82,
         "_deepnote_index_column": 377
        },
        {
         "AnnouncementsView": 50,
         "Class": "L",
         "VisitedResources": 30,
         "_deepnote_index_column": 378
        },
        {
         "AnnouncementsView": 59,
         "Class": "L",
         "VisitedResources": 22,
         "_deepnote_index_column": 379
        },
        {
         "AnnouncementsView": 20,
         "Class": "L",
         "VisitedResources": 20,
         "_deepnote_index_column": 380
        },
        {
         "AnnouncementsView": 29,
         "Class": "L",
         "VisitedResources": 12,
         "_deepnote_index_column": 381
        },
        {
         "AnnouncementsView": 20,
         "Class": "H",
         "VisitedResources": 82,
         "_deepnote_index_column": 382
        },
        {
         "AnnouncementsView": 29,
         "Class": "H",
         "VisitedResources": 83,
         "_deepnote_index_column": 383
        },
        {
         "AnnouncementsView": 40,
         "Class": "H",
         "VisitedResources": 92,
         "_deepnote_index_column": 384
        },
        {
         "AnnouncementsView": 49,
         "Class": "H",
         "VisitedResources": 93,
         "_deepnote_index_column": 385
        },
        {
         "AnnouncementsView": 21,
         "Class": "M",
         "VisitedResources": 90,
         "_deepnote_index_column": 386
        },
        {
         "AnnouncementsView": 31,
         "Class": "M",
         "VisitedResources": 77,
         "_deepnote_index_column": 387
        },
        {
         "AnnouncementsView": 11,
         "Class": "L",
         "VisitedResources": 10,
         "_deepnote_index_column": 388
        },
        {
         "AnnouncementsView": 1,
         "Class": "L",
         "VisitedResources": 0,
         "_deepnote_index_column": 389
        },
        {
         "AnnouncementsView": 50,
         "Class": "M",
         "VisitedResources": 81,
         "_deepnote_index_column": 390
        },
        {
         "AnnouncementsView": 54,
         "Class": "M",
         "VisitedResources": 88,
         "_deepnote_index_column": 391
        },
        {
         "AnnouncementsView": 50,
         "Class": "H",
         "VisitedResources": 98,
         "_deepnote_index_column": 392
        },
        {
         "AnnouncementsView": 57,
         "Class": "H",
         "VisitedResources": 90,
         "_deepnote_index_column": 393
        },
        {
         "AnnouncementsView": 50,
         "Class": "H",
         "VisitedResources": 91,
         "_deepnote_index_column": 394
        },
        {
         "AnnouncementsView": 54,
         "Class": "H",
         "VisitedResources": 98,
         "_deepnote_index_column": 395
        },
        {
         "AnnouncementsView": 46,
         "Class": "M",
         "VisitedResources": 80,
         "_deepnote_index_column": 396
        },
        {
         "AnnouncementsView": 59,
         "Class": "M",
         "VisitedResources": 82,
         "_deepnote_index_column": 397
        },
        {
         "AnnouncementsView": 86,
         "Class": "H",
         "VisitedResources": 90,
         "_deepnote_index_column": 398
        },
        {
         "AnnouncementsView": 89,
         "Class": "H",
         "VisitedResources": 92,
         "_deepnote_index_column": 399
        },
        {
         "AnnouncementsView": 40,
         "Class": "M",
         "VisitedResources": 71,
         "_deepnote_index_column": 400
        },
        {
         "AnnouncementsView": 34,
         "Class": "M",
         "VisitedResources": 80,
         "_deepnote_index_column": 401
        },
        {
         "AnnouncementsView": 80,
         "Class": "H",
         "VisitedResources": 81,
         "_deepnote_index_column": 402
        },
        {
         "AnnouncementsView": 64,
         "Class": "H",
         "VisitedResources": 89,
         "_deepnote_index_column": 403
        },
        {
         "AnnouncementsView": 70,
         "Class": "H",
         "VisitedResources": 95,
         "_deepnote_index_column": 404
        },
        {
         "AnnouncementsView": 87,
         "Class": "H",
         "VisitedResources": 91,
         "_deepnote_index_column": 405
        },
        {
         "AnnouncementsView": 10,
         "Class": "L",
         "VisitedResources": 9,
         "_deepnote_index_column": 406
        },
        {
         "AnnouncementsView": 19,
         "Class": "L",
         "VisitedResources": 8,
         "_deepnote_index_column": 407
        },
        {
         "AnnouncementsView": 10,
         "Class": "M",
         "VisitedResources": 79,
         "_deepnote_index_column": 408
        },
        {
         "AnnouncementsView": 9,
         "Class": "M",
         "VisitedResources": 88,
         "_deepnote_index_column": 409
        },
        {
         "AnnouncementsView": 12,
         "Class": "H",
         "VisitedResources": 89,
         "_deepnote_index_column": 410
        },
        {
         "AnnouncementsView": 19,
         "Class": "H",
         "VisitedResources": 90,
         "_deepnote_index_column": 411
        },
        {
         "AnnouncementsView": 66,
         "Class": "M",
         "VisitedResources": 80,
         "_deepnote_index_column": 412
        },
        {
         "AnnouncementsView": 79,
         "Class": "M",
         "VisitedResources": 72,
         "_deepnote_index_column": 413
        },
        {
         "AnnouncementsView": 2,
         "Class": "L",
         "VisitedResources": 9,
         "_deepnote_index_column": 414
        },
        {
         "AnnouncementsView": 9,
         "Class": "L",
         "VisitedResources": 7,
         "_deepnote_index_column": 415
        },
        {
         "AnnouncementsView": 86,
         "Class": "H",
         "VisitedResources": 90,
         "_deepnote_index_column": 416
        },
        {
         "AnnouncementsView": 89,
         "Class": "H",
         "VisitedResources": 92,
         "_deepnote_index_column": 417
        },
        {
         "AnnouncementsView": 76,
         "Class": "H",
         "VisitedResources": 90,
         "_deepnote_index_column": 418
        },
        {
         "AnnouncementsView": 89,
         "Class": "H",
         "VisitedResources": 96,
         "_deepnote_index_column": 419
        },
        {
         "AnnouncementsView": 22,
         "Class": "H",
         "VisitedResources": 89,
         "_deepnote_index_column": 420
        },
        {
         "AnnouncementsView": 29,
         "Class": "H",
         "VisitedResources": 92,
         "_deepnote_index_column": 421
        },
        {
         "AnnouncementsView": 46,
         "Class": "M",
         "VisitedResources": 69,
         "_deepnote_index_column": 422
        },
        {
         "AnnouncementsView": 49,
         "Class": "M",
         "VisitedResources": 62,
         "_deepnote_index_column": 423
        },
        {
         "AnnouncementsView": 76,
         "Class": "H",
         "VisitedResources": 79,
         "_deepnote_index_column": 424
        },
        {
         "AnnouncementsView": 79,
         "Class": "H",
         "VisitedResources": 77,
         "_deepnote_index_column": 425
        },
        {
         "AnnouncementsView": 62,
         "Class": "M",
         "VisitedResources": 80,
         "_deepnote_index_column": 426
        },
        {
         "AnnouncementsView": 69,
         "Class": "M",
         "VisitedResources": 82,
         "_deepnote_index_column": 427
        },
        {
         "AnnouncementsView": 2,
         "Class": "L",
         "VisitedResources": 0,
         "_deepnote_index_column": 428
        },
        {
         "AnnouncementsView": 9,
         "Class": "L",
         "VisitedResources": 2,
         "_deepnote_index_column": 429
        },
        {
         "AnnouncementsView": 22,
         "Class": "H",
         "VisitedResources": 89,
         "_deepnote_index_column": 430
        },
        {
         "AnnouncementsView": 23,
         "Class": "H",
         "VisitedResources": 89,
         "_deepnote_index_column": 431
        },
        {
         "AnnouncementsView": 62,
         "Class": "M",
         "VisitedResources": 87,
         "_deepnote_index_column": 432
        },
        {
         "AnnouncementsView": 73,
         "Class": "M",
         "VisitedResources": 79,
         "_deepnote_index_column": 433
        },
        {
         "AnnouncementsView": 72,
         "Class": "M",
         "VisitedResources": 87,
         "_deepnote_index_column": 434
        },
        {
         "AnnouncementsView": 79,
         "Class": "M",
         "VisitedResources": 88,
         "_deepnote_index_column": 435
        },
        {
         "AnnouncementsView": 71,
         "Class": "M",
         "VisitedResources": 81,
         "_deepnote_index_column": 436
        },
        {
         "AnnouncementsView": 70,
         "Class": "M",
         "VisitedResources": 83,
         "_deepnote_index_column": 437
        },
        {
         "AnnouncementsView": 76,
         "Class": "M",
         "VisitedResources": 82,
         "_deepnote_index_column": 438
        },
        {
         "AnnouncementsView": 75,
         "Class": "M",
         "VisitedResources": 82,
         "_deepnote_index_column": 439
        },
        {
         "AnnouncementsView": 86,
         "Class": "M",
         "VisitedResources": 87,
         "_deepnote_index_column": 440
        },
        {
         "AnnouncementsView": 85,
         "Class": "M",
         "VisitedResources": 86,
         "_deepnote_index_column": 441
        },
        {
         "AnnouncementsView": 76,
         "Class": "M",
         "VisitedResources": 77,
         "_deepnote_index_column": 442
        },
        {
         "AnnouncementsView": 65,
         "Class": "M",
         "VisitedResources": 76,
         "_deepnote_index_column": 443
        },
        {
         "AnnouncementsView": 64,
         "Class": "L",
         "VisitedResources": 72,
         "_deepnote_index_column": 444
        },
        {
         "AnnouncementsView": 66,
         "Class": "L",
         "VisitedResources": 76,
         "_deepnote_index_column": 445
        },
        {
         "AnnouncementsView": 74,
         "Class": "M",
         "VisitedResources": 82,
         "_deepnote_index_column": 446
        },
        {
         "AnnouncementsView": 67,
         "Class": "M",
         "VisitedResources": 84,
         "_deepnote_index_column": 447
        },
        {
         "AnnouncementsView": 74,
         "Class": "H",
         "VisitedResources": 92,
         "_deepnote_index_column": 448
        },
        {
         "AnnouncementsView": 77,
         "Class": "H",
         "VisitedResources": 84,
         "_deepnote_index_column": 449
        },
        {
         "AnnouncementsView": 22,
         "Class": "H",
         "VisitedResources": 97,
         "_deepnote_index_column": 450
        },
        {
         "AnnouncementsView": 20,
         "Class": "H",
         "VisitedResources": 98,
         "_deepnote_index_column": 451
        },
        {
         "AnnouncementsView": 52,
         "Class": "M",
         "VisitedResources": 82,
         "_deepnote_index_column": 452
        },
        {
         "AnnouncementsView": 40,
         "Class": "M",
         "VisitedResources": 78,
         "_deepnote_index_column": 453
        },
        {
         "AnnouncementsView": 57,
         "Class": "M",
         "VisitedResources": 87,
         "_deepnote_index_column": 454
        },
        {
         "AnnouncementsView": 43,
         "Class": "M",
         "VisitedResources": 88,
         "_deepnote_index_column": 455
        },
        {
         "AnnouncementsView": 52,
         "Class": "H",
         "VisitedResources": 90,
         "_deepnote_index_column": 456
        },
        {
         "AnnouncementsView": 49,
         "Class": "H",
         "VisitedResources": 91,
         "_deepnote_index_column": 457
        },
        {
         "AnnouncementsView": 80,
         "Class": "H",
         "VisitedResources": 91,
         "_deepnote_index_column": 458
        },
        {
         "AnnouncementsView": 80,
         "Class": "H",
         "VisitedResources": 90,
         "_deepnote_index_column": 459
        },
        {
         "AnnouncementsView": 82,
         "Class": "M",
         "VisitedResources": 83,
         "_deepnote_index_column": 460
        },
        {
         "AnnouncementsView": 83,
         "Class": "M",
         "VisitedResources": 81,
         "_deepnote_index_column": 461
        },
        {
         "AnnouncementsView": 72,
         "Class": "M",
         "VisitedResources": 87,
         "_deepnote_index_column": 462
        },
        {
         "AnnouncementsView": 83,
         "Class": "M",
         "VisitedResources": 77,
         "_deepnote_index_column": 463
        },
        {
         "AnnouncementsView": 42,
         "Class": "H",
         "VisitedResources": 99,
         "_deepnote_index_column": 464
        },
        {
         "AnnouncementsView": 45,
         "Class": "H",
         "VisitedResources": 96,
         "_deepnote_index_column": 465
        },
        {
         "AnnouncementsView": 64,
         "Class": "H",
         "VisitedResources": 82,
         "_deepnote_index_column": 466
        },
        {
         "AnnouncementsView": 63,
         "Class": "H",
         "VisitedResources": 93,
         "_deepnote_index_column": 467
        },
        {
         "AnnouncementsView": 14,
         "Class": "L",
         "VisitedResources": 9,
         "_deepnote_index_column": 468
        },
        {
         "AnnouncementsView": 15,
         "Class": "L",
         "VisitedResources": 6,
         "_deepnote_index_column": 469
        },
        {
         "AnnouncementsView": 86,
         "Class": "M",
         "VisitedResources": 86,
         "_deepnote_index_column": 470
        },
        {
         "AnnouncementsView": 78,
         "Class": "M",
         "VisitedResources": 82,
         "_deepnote_index_column": 471
        },
        {
         "AnnouncementsView": 74,
         "Class": "M",
         "VisitedResources": 87,
         "_deepnote_index_column": 472
        },
        {
         "AnnouncementsView": 79,
         "Class": "M",
         "VisitedResources": 88,
         "_deepnote_index_column": 473
        },
        {
         "AnnouncementsView": 4,
         "Class": "L",
         "VisitedResources": 7,
         "_deepnote_index_column": 474
        },
        {
         "AnnouncementsView": 5,
         "Class": "L",
         "VisitedResources": 4,
         "_deepnote_index_column": 475
        },
        {
         "AnnouncementsView": 14,
         "Class": "M",
         "VisitedResources": 77,
         "_deepnote_index_column": 476
        },
        {
         "AnnouncementsView": 25,
         "Class": "M",
         "VisitedResources": 74,
         "_deepnote_index_column": 477
        },
        {
         "AnnouncementsView": 14,
         "Class": "L",
         "VisitedResources": 17,
         "_deepnote_index_column": 478
        },
        {
         "AnnouncementsView": 23,
         "Class": "L",
         "VisitedResources": 14,
         "_deepnote_index_column": 479
        }
       ],
       "rows_top": [
        {
         "AnnouncementsView": 2,
         "Class": "M",
         "VisitedResources": 16,
         "_deepnote_index_column": 0
        },
        {
         "AnnouncementsView": 3,
         "Class": "M",
         "VisitedResources": 20,
         "_deepnote_index_column": 1
        },
        {
         "AnnouncementsView": 0,
         "Class": "L",
         "VisitedResources": 7,
         "_deepnote_index_column": 2
        },
        {
         "AnnouncementsView": 5,
         "Class": "L",
         "VisitedResources": 25,
         "_deepnote_index_column": 3
        },
        {
         "AnnouncementsView": 12,
         "Class": "M",
         "VisitedResources": 50,
         "_deepnote_index_column": 4
        },
        {
         "AnnouncementsView": 13,
         "Class": "M",
         "VisitedResources": 30,
         "_deepnote_index_column": 5
        },
        {
         "AnnouncementsView": 0,
         "Class": "L",
         "VisitedResources": 12,
         "_deepnote_index_column": 6
        },
        {
         "AnnouncementsView": 15,
         "Class": "M",
         "VisitedResources": 10,
         "_deepnote_index_column": 7
        },
        {
         "AnnouncementsView": 16,
         "Class": "M",
         "VisitedResources": 21,
         "_deepnote_index_column": 8
        },
        {
         "AnnouncementsView": 25,
         "Class": "M",
         "VisitedResources": 80,
         "_deepnote_index_column": 9
        },
        {
         "AnnouncementsView": 30,
         "Class": "H",
         "VisitedResources": 88,
         "_deepnote_index_column": 10
        },
        {
         "AnnouncementsView": 19,
         "Class": "M",
         "VisitedResources": 6,
         "_deepnote_index_column": 11
        },
        {
         "AnnouncementsView": 0,
         "Class": "L",
         "VisitedResources": 1,
         "_deepnote_index_column": 12
        },
        {
         "AnnouncementsView": 12,
         "Class": "L",
         "VisitedResources": 14,
         "_deepnote_index_column": 13
        },
        {
         "AnnouncementsView": 44,
         "Class": "H",
         "VisitedResources": 70,
         "_deepnote_index_column": 14
        },
        {
         "AnnouncementsView": 22,
         "Class": "M",
         "VisitedResources": 40,
         "_deepnote_index_column": 15
        },
        {
         "AnnouncementsView": 20,
         "Class": "M",
         "VisitedResources": 30,
         "_deepnote_index_column": 16
        },
        {
         "AnnouncementsView": 35,
         "Class": "M",
         "VisitedResources": 13,
         "_deepnote_index_column": 17
        },
        {
         "AnnouncementsView": 36,
         "Class": "M",
         "VisitedResources": 15,
         "_deepnote_index_column": 18
        },
        {
         "AnnouncementsView": 40,
         "Class": "H",
         "VisitedResources": 50,
         "_deepnote_index_column": 19
        },
        {
         "AnnouncementsView": 33,
         "Class": "M",
         "VisitedResources": 60,
         "_deepnote_index_column": 20
        },
        {
         "AnnouncementsView": 4,
         "Class": "M",
         "VisitedResources": 12,
         "_deepnote_index_column": 21
        },
        {
         "AnnouncementsView": 2,
         "Class": "M",
         "VisitedResources": 21,
         "_deepnote_index_column": 22
        },
        {
         "AnnouncementsView": 2,
         "Class": "L",
         "VisitedResources": 0,
         "_deepnote_index_column": 23
        },
        {
         "AnnouncementsView": 3,
         "Class": "L",
         "VisitedResources": 2,
         "_deepnote_index_column": 24
        },
        {
         "AnnouncementsView": 30,
         "Class": "L",
         "VisitedResources": 7,
         "_deepnote_index_column": 25
        },
        {
         "AnnouncementsView": 25,
         "Class": "M",
         "VisitedResources": 19,
         "_deepnote_index_column": 26
        },
        {
         "AnnouncementsView": 12,
         "Class": "L",
         "VisitedResources": 15,
         "_deepnote_index_column": 27
        },
        {
         "AnnouncementsView": 52,
         "Class": "M",
         "VisitedResources": 85,
         "_deepnote_index_column": 28
        },
        {
         "AnnouncementsView": 33,
         "Class": "M",
         "VisitedResources": 90,
         "_deepnote_index_column": 29
        },
        {
         "AnnouncementsView": 50,
         "Class": "H",
         "VisitedResources": 80,
         "_deepnote_index_column": 30
        },
        {
         "AnnouncementsView": 40,
         "Class": "L",
         "VisitedResources": 5,
         "_deepnote_index_column": 31
        },
        {
         "AnnouncementsView": 10,
         "Class": "L",
         "VisitedResources": 19,
         "_deepnote_index_column": 32
        },
        {
         "AnnouncementsView": 9,
         "Class": "L",
         "VisitedResources": 22,
         "_deepnote_index_column": 33
        },
        {
         "AnnouncementsView": 8,
         "Class": "L",
         "VisitedResources": 11,
         "_deepnote_index_column": 34
        },
        {
         "AnnouncementsView": 17,
         "Class": "L",
         "VisitedResources": 12,
         "_deepnote_index_column": 35
        },
        {
         "AnnouncementsView": 4,
         "Class": "L",
         "VisitedResources": 6,
         "_deepnote_index_column": 36
        },
        {
         "AnnouncementsView": 26,
         "Class": "M",
         "VisitedResources": 54,
         "_deepnote_index_column": 37
        },
        {
         "AnnouncementsView": 0,
         "Class": "L",
         "VisitedResources": 0,
         "_deepnote_index_column": 38
        },
        {
         "AnnouncementsView": 37,
         "Class": "M",
         "VisitedResources": 90,
         "_deepnote_index_column": 39
        },
        {
         "AnnouncementsView": 3,
         "Class": "L",
         "VisitedResources": 13,
         "_deepnote_index_column": 40
        },
        {
         "AnnouncementsView": 16,
         "Class": "M",
         "VisitedResources": 20,
         "_deepnote_index_column": 41
        },
        {
         "AnnouncementsView": 7,
         "Class": "L",
         "VisitedResources": 12,
         "_deepnote_index_column": 42
        },
        {
         "AnnouncementsView": 28,
         "Class": "M",
         "VisitedResources": 35,
         "_deepnote_index_column": 43
        },
        {
         "AnnouncementsView": 30,
         "Class": "M",
         "VisitedResources": 33,
         "_deepnote_index_column": 44
        },
        {
         "AnnouncementsView": 15,
         "Class": "L",
         "VisitedResources": 12,
         "_deepnote_index_column": 45
        },
        {
         "AnnouncementsView": 1,
         "Class": "L",
         "VisitedResources": 10,
         "_deepnote_index_column": 46
        },
        {
         "AnnouncementsView": 39,
         "Class": "H",
         "VisitedResources": 4,
         "_deepnote_index_column": 47
        },
        {
         "AnnouncementsView": 40,
         "Class": "H",
         "VisitedResources": 80,
         "_deepnote_index_column": 48
        },
        {
         "AnnouncementsView": 50,
         "Class": "M",
         "VisitedResources": 39,
         "_deepnote_index_column": 49
        },
        {
         "AnnouncementsView": 12,
         "Class": "L",
         "VisitedResources": 14,
         "_deepnote_index_column": 50
        },
        {
         "AnnouncementsView": 16,
         "Class": "L",
         "VisitedResources": 15,
         "_deepnote_index_column": 51
        },
        {
         "AnnouncementsView": 16,
         "Class": "M",
         "VisitedResources": 90,
         "_deepnote_index_column": 52
        },
        {
         "AnnouncementsView": 19,
         "Class": "H",
         "VisitedResources": 70,
         "_deepnote_index_column": 53
        },
        {
         "AnnouncementsView": 8,
         "Class": "L",
         "VisitedResources": 50,
         "_deepnote_index_column": 54
        },
        {
         "AnnouncementsView": 6,
         "Class": "L",
         "VisitedResources": 14,
         "_deepnote_index_column": 55
        },
        {
         "AnnouncementsView": 4,
         "Class": "L",
         "VisitedResources": 5,
         "_deepnote_index_column": 56
        },
        {
         "AnnouncementsView": 6,
         "Class": "L",
         "VisitedResources": 2,
         "_deepnote_index_column": 57
        },
        {
         "AnnouncementsView": 19,
         "Class": "M",
         "VisitedResources": 60,
         "_deepnote_index_column": 58
        },
        {
         "AnnouncementsView": 22,
         "Class": "M",
         "VisitedResources": 22,
         "_deepnote_index_column": 59
        },
        {
         "AnnouncementsView": 28,
         "Class": "L",
         "VisitedResources": 10,
         "_deepnote_index_column": 60
        },
        {
         "AnnouncementsView": 32,
         "Class": "M",
         "VisitedResources": 70,
         "_deepnote_index_column": 61
        },
        {
         "AnnouncementsView": 70,
         "Class": "H",
         "VisitedResources": 90,
         "_deepnote_index_column": 62
        },
        {
         "AnnouncementsView": 16,
         "Class": "M",
         "VisitedResources": 13,
         "_deepnote_index_column": 63
        },
        {
         "AnnouncementsView": 7,
         "Class": "L",
         "VisitedResources": 5,
         "_deepnote_index_column": 64
        },
        {
         "AnnouncementsView": 18,
         "Class": "L",
         "VisitedResources": 5,
         "_deepnote_index_column": 65
        },
        {
         "AnnouncementsView": 19,
         "Class": "M",
         "VisitedResources": 10,
         "_deepnote_index_column": 66
        },
        {
         "AnnouncementsView": 23,
         "Class": "H",
         "VisitedResources": 75,
         "_deepnote_index_column": 67
        },
        {
         "AnnouncementsView": 35,
         "Class": "H",
         "VisitedResources": 69,
         "_deepnote_index_column": 68
        },
        {
         "AnnouncementsView": 11,
         "Class": "M",
         "VisitedResources": 40,
         "_deepnote_index_column": 69
        },
        {
         "AnnouncementsView": 10,
         "Class": "L",
         "VisitedResources": 30,
         "_deepnote_index_column": 70
        },
        {
         "AnnouncementsView": 9,
         "Class": "M",
         "VisitedResources": 22,
         "_deepnote_index_column": 71
        },
        {
         "AnnouncementsView": 2,
         "Class": "L",
         "VisitedResources": 2,
         "_deepnote_index_column": 72
        },
        {
         "AnnouncementsView": 26,
         "Class": "M",
         "VisitedResources": 30,
         "_deepnote_index_column": 73
        },
        {
         "AnnouncementsView": 6,
         "Class": "L",
         "VisitedResources": 0,
         "_deepnote_index_column": 74
        },
        {
         "AnnouncementsView": 29,
         "Class": "M",
         "VisitedResources": 90,
         "_deepnote_index_column": 75
        },
        {
         "AnnouncementsView": 37,
         "Class": "M",
         "VisitedResources": 70,
         "_deepnote_index_column": 76
        },
        {
         "AnnouncementsView": 33,
         "Class": "M",
         "VisitedResources": 80,
         "_deepnote_index_column": 77
        },
        {
         "AnnouncementsView": 11,
         "Class": "L",
         "VisitedResources": 3,
         "_deepnote_index_column": 78
        },
        {
         "AnnouncementsView": 49,
         "Class": "H",
         "VisitedResources": 90,
         "_deepnote_index_column": 79
        },
        {
         "AnnouncementsView": 10,
         "Class": "L",
         "VisitedResources": 15,
         "_deepnote_index_column": 80
        },
        {
         "AnnouncementsView": 1,
         "Class": "L",
         "VisitedResources": 25,
         "_deepnote_index_column": 81
        },
        {
         "AnnouncementsView": 2,
         "Class": "L",
         "VisitedResources": 5,
         "_deepnote_index_column": 82
        },
        {
         "AnnouncementsView": 10,
         "Class": "M",
         "VisitedResources": 4,
         "_deepnote_index_column": 83
        },
        {
         "AnnouncementsView": 50,
         "Class": "H",
         "VisitedResources": 70,
         "_deepnote_index_column": 84
        },
        {
         "AnnouncementsView": 1,
         "Class": "L",
         "VisitedResources": 0,
         "_deepnote_index_column": 85
        },
        {
         "AnnouncementsView": 40,
         "Class": "H",
         "VisitedResources": 12,
         "_deepnote_index_column": 86
        },
        {
         "AnnouncementsView": 3,
         "Class": "L",
         "VisitedResources": 70,
         "_deepnote_index_column": 87
        },
        {
         "AnnouncementsView": 4,
         "Class": "L",
         "VisitedResources": 12,
         "_deepnote_index_column": 88
        },
        {
         "AnnouncementsView": 1,
         "Class": "L",
         "VisitedResources": 20,
         "_deepnote_index_column": 89
        },
        {
         "AnnouncementsView": 10,
         "Class": "L",
         "VisitedResources": 8,
         "_deepnote_index_column": 90
        },
        {
         "AnnouncementsView": 55,
         "Class": "H",
         "VisitedResources": 90,
         "_deepnote_index_column": 91
        },
        {
         "AnnouncementsView": 19,
         "Class": "H",
         "VisitedResources": 70,
         "_deepnote_index_column": 92
        },
        {
         "AnnouncementsView": 40,
         "Class": "H",
         "VisitedResources": 89,
         "_deepnote_index_column": 93
        },
        {
         "AnnouncementsView": 35,
         "Class": "L",
         "VisitedResources": 44,
         "_deepnote_index_column": 94
        },
        {
         "AnnouncementsView": 2,
         "Class": "H",
         "VisitedResources": 80,
         "_deepnote_index_column": 95
        },
        {
         "AnnouncementsView": 11,
         "Class": "H",
         "VisitedResources": 60,
         "_deepnote_index_column": 96
        },
        {
         "AnnouncementsView": 38,
         "Class": "M",
         "VisitedResources": 2,
         "_deepnote_index_column": 97
        },
        {
         "AnnouncementsView": 0,
         "Class": "M",
         "VisitedResources": 3,
         "_deepnote_index_column": 98
        },
        {
         "AnnouncementsView": 9,
         "Class": "M",
         "VisitedResources": 7,
         "_deepnote_index_column": 99
        },
        {
         "AnnouncementsView": 40,
         "Class": "M",
         "VisitedResources": 90,
         "_deepnote_index_column": 100
        },
        {
         "AnnouncementsView": 50,
         "Class": "H",
         "VisitedResources": 92,
         "_deepnote_index_column": 101
        },
        {
         "AnnouncementsView": 2,
         "Class": "L",
         "VisitedResources": 6,
         "_deepnote_index_column": 102
        },
        {
         "AnnouncementsView": 6,
         "Class": "L",
         "VisitedResources": 7,
         "_deepnote_index_column": 103
        },
        {
         "AnnouncementsView": 3,
         "Class": "M",
         "VisitedResources": 12,
         "_deepnote_index_column": 104
        },
        {
         "AnnouncementsView": 5,
         "Class": "L",
         "VisitedResources": 0,
         "_deepnote_index_column": 105
        },
        {
         "AnnouncementsView": 7,
         "Class": "M",
         "VisitedResources": 26,
         "_deepnote_index_column": 106
        },
        {
         "AnnouncementsView": 41,
         "Class": "H",
         "VisitedResources": 90,
         "_deepnote_index_column": 107
        },
        {
         "AnnouncementsView": 5,
         "Class": "M",
         "VisitedResources": 12,
         "_deepnote_index_column": 108
        },
        {
         "AnnouncementsView": 30,
         "Class": "M",
         "VisitedResources": 70,
         "_deepnote_index_column": 109
        },
        {
         "AnnouncementsView": 55,
         "Class": "H",
         "VisitedResources": 88,
         "_deepnote_index_column": 110
        },
        {
         "AnnouncementsView": 51,
         "Class": "M",
         "VisitedResources": 80,
         "_deepnote_index_column": 111
        },
        {
         "AnnouncementsView": 3,
         "Class": "L",
         "VisitedResources": 5,
         "_deepnote_index_column": 112
        },
        {
         "AnnouncementsView": 0,
         "Class": "L",
         "VisitedResources": 27,
         "_deepnote_index_column": 113
        },
        {
         "AnnouncementsView": 0,
         "Class": "L",
         "VisitedResources": 2,
         "_deepnote_index_column": 114
        },
        {
         "AnnouncementsView": 11,
         "Class": "L",
         "VisitedResources": 8,
         "_deepnote_index_column": 115
        },
        {
         "AnnouncementsView": 12,
         "Class": "M",
         "VisitedResources": 80,
         "_deepnote_index_column": 116
        },
        {
         "AnnouncementsView": 40,
         "Class": "H",
         "VisitedResources": 29,
         "_deepnote_index_column": 117
        },
        {
         "AnnouncementsView": 23,
         "Class": "M",
         "VisitedResources": 35,
         "_deepnote_index_column": 118
        },
        {
         "AnnouncementsView": 3,
         "Class": "M",
         "VisitedResources": 60,
         "_deepnote_index_column": 119
        },
        {
         "AnnouncementsView": 0,
         "Class": "M",
         "VisitedResources": 12,
         "_deepnote_index_column": 120
        },
        {
         "AnnouncementsView": 8,
         "Class": "L",
         "VisitedResources": 4,
         "_deepnote_index_column": 121
        },
        {
         "AnnouncementsView": 55,
         "Class": "M",
         "VisitedResources": 90,
         "_deepnote_index_column": 122
        },
        {
         "AnnouncementsView": 7,
         "Class": "M",
         "VisitedResources": 98,
         "_deepnote_index_column": 123
        },
        {
         "AnnouncementsView": 4,
         "Class": "L",
         "VisitedResources": 6,
         "_deepnote_index_column": 124
        },
        {
         "AnnouncementsView": 0,
         "Class": "L",
         "VisitedResources": 30,
         "_deepnote_index_column": 125
        },
        {
         "AnnouncementsView": 7,
         "Class": "M",
         "VisitedResources": 9,
         "_deepnote_index_column": 126
        },
        {
         "AnnouncementsView": 6,
         "Class": "L",
         "VisitedResources": 33,
         "_deepnote_index_column": 127
        },
        {
         "AnnouncementsView": 20,
         "Class": "L",
         "VisitedResources": 10,
         "_deepnote_index_column": 128
        },
        {
         "AnnouncementsView": 2,
         "Class": "L",
         "VisitedResources": 90,
         "_deepnote_index_column": 129
        },
        {
         "AnnouncementsView": 5,
         "Class": "L",
         "VisitedResources": 9,
         "_deepnote_index_column": 130
        },
        {
         "AnnouncementsView": 20,
         "Class": "M",
         "VisitedResources": 42,
         "_deepnote_index_column": 131
        },
        {
         "AnnouncementsView": 10,
         "Class": "L",
         "VisitedResources": 3,
         "_deepnote_index_column": 132
        },
        {
         "AnnouncementsView": 0,
         "Class": "L",
         "VisitedResources": 60,
         "_deepnote_index_column": 133
        },
        {
         "AnnouncementsView": 15,
         "Class": "H",
         "VisitedResources": 80,
         "_deepnote_index_column": 134
        },
        {
         "AnnouncementsView": 95,
         "Class": "H",
         "VisitedResources": 80,
         "_deepnote_index_column": 135
        },
        {
         "AnnouncementsView": 95,
         "Class": "H",
         "VisitedResources": 80,
         "_deepnote_index_column": 136
        },
        {
         "AnnouncementsView": 50,
         "Class": "M",
         "VisitedResources": 80,
         "_deepnote_index_column": 137
        },
        {
         "AnnouncementsView": 95,
         "Class": "H",
         "VisitedResources": 80,
         "_deepnote_index_column": 138
        },
        {
         "AnnouncementsView": 85,
         "Class": "M",
         "VisitedResources": 85,
         "_deepnote_index_column": 139
        },
        {
         "AnnouncementsView": 5,
         "Class": "L",
         "VisitedResources": 60,
         "_deepnote_index_column": 140
        },
        {
         "AnnouncementsView": 50,
         "Class": "L",
         "VisitedResources": 65,
         "_deepnote_index_column": 141
        },
        {
         "AnnouncementsView": 55,
         "Class": "M",
         "VisitedResources": 75,
         "_deepnote_index_column": 142
        },
        {
         "AnnouncementsView": 55,
         "Class": "H",
         "VisitedResources": 90,
         "_deepnote_index_column": 143
        },
        {
         "AnnouncementsView": 15,
         "Class": "L",
         "VisitedResources": 10,
         "_deepnote_index_column": 144
        },
        {
         "AnnouncementsView": 55,
         "Class": "M",
         "VisitedResources": 75,
         "_deepnote_index_column": 145
        },
        {
         "AnnouncementsView": 50,
         "Class": "H",
         "VisitedResources": 75,
         "_deepnote_index_column": 146
        },
        {
         "AnnouncementsView": 30,
         "Class": "M",
         "VisitedResources": 79,
         "_deepnote_index_column": 147
        },
        {
         "AnnouncementsView": 30,
         "Class": "M",
         "VisitedResources": 55,
         "_deepnote_index_column": 148
        },
        {
         "AnnouncementsView": 50,
         "Class": "H",
         "VisitedResources": 75,
         "_deepnote_index_column": 149
        },
        {
         "AnnouncementsView": 51,
         "Class": "H",
         "VisitedResources": 80,
         "_deepnote_index_column": 150
        },
        {
         "AnnouncementsView": 71,
         "Class": "M",
         "VisitedResources": 63,
         "_deepnote_index_column": 151
        },
        {
         "AnnouncementsView": 98,
         "Class": "H",
         "VisitedResources": 91,
         "_deepnote_index_column": 152
        },
        {
         "AnnouncementsView": 40,
         "Class": "L",
         "VisitedResources": 51,
         "_deepnote_index_column": 153
        },
        {
         "AnnouncementsView": 33,
         "Class": "M",
         "VisitedResources": 50,
         "_deepnote_index_column": 154
        },
        {
         "AnnouncementsView": 73,
         "Class": "H",
         "VisitedResources": 58,
         "_deepnote_index_column": 155
        },
        {
         "AnnouncementsView": 30,
         "Class": "M",
         "VisitedResources": 50,
         "_deepnote_index_column": 156
        },
        {
         "AnnouncementsView": 33,
         "Class": "M",
         "VisitedResources": 50,
         "_deepnote_index_column": 157
        },
        {
         "AnnouncementsView": 48,
         "Class": "L",
         "VisitedResources": 51,
         "_deepnote_index_column": 158
        },
        {
         "AnnouncementsView": 48,
         "Class": "M",
         "VisitedResources": 68,
         "_deepnote_index_column": 159
        },
        {
         "AnnouncementsView": 58,
         "Class": "H",
         "VisitedResources": 89,
         "_deepnote_index_column": 160
        },
        {
         "AnnouncementsView": 58,
         "Class": "M",
         "VisitedResources": 80,
         "_deepnote_index_column": 161
        },
        {
         "AnnouncementsView": 3,
         "Class": "H",
         "VisitedResources": 82,
         "_deepnote_index_column": 162
        },
        {
         "AnnouncementsView": 93,
         "Class": "M",
         "VisitedResources": 82,
         "_deepnote_index_column": 163
        },
        {
         "AnnouncementsView": 83,
         "Class": "M",
         "VisitedResources": 72,
         "_deepnote_index_column": 164
        },
        {
         "AnnouncementsView": 73,
         "Class": "H",
         "VisitedResources": 65,
         "_deepnote_index_column": 165
        }
       ]
      },
      "text/html": [
       "<div>\n",
       "<style scoped>\n",
       "    .dataframe tbody tr th:only-of-type {\n",
       "        vertical-align: middle;\n",
       "    }\n",
       "\n",
       "    .dataframe tbody tr th {\n",
       "        vertical-align: top;\n",
       "    }\n",
       "\n",
       "    .dataframe thead th {\n",
       "        text-align: right;\n",
       "    }\n",
       "</style>\n",
       "<table border=\"1\" class=\"dataframe\">\n",
       "  <thead>\n",
       "    <tr style=\"text-align: right;\">\n",
       "      <th></th>\n",
       "      <th>VisitedResources</th>\n",
       "      <th>AnnouncementsView</th>\n",
       "      <th>Class</th>\n",
       "    </tr>\n",
       "  </thead>\n",
       "  <tbody>\n",
       "    <tr>\n",
       "      <th>0</th>\n",
       "      <td>16</td>\n",
       "      <td>2</td>\n",
       "      <td>M</td>\n",
       "    </tr>\n",
       "    <tr>\n",
       "      <th>1</th>\n",
       "      <td>20</td>\n",
       "      <td>3</td>\n",
       "      <td>M</td>\n",
       "    </tr>\n",
       "    <tr>\n",
       "      <th>2</th>\n",
       "      <td>7</td>\n",
       "      <td>0</td>\n",
       "      <td>L</td>\n",
       "    </tr>\n",
       "    <tr>\n",
       "      <th>3</th>\n",
       "      <td>25</td>\n",
       "      <td>5</td>\n",
       "      <td>L</td>\n",
       "    </tr>\n",
       "    <tr>\n",
       "      <th>4</th>\n",
       "      <td>50</td>\n",
       "      <td>12</td>\n",
       "      <td>M</td>\n",
       "    </tr>\n",
       "    <tr>\n",
       "      <th>...</th>\n",
       "      <td>...</td>\n",
       "      <td>...</td>\n",
       "      <td>...</td>\n",
       "    </tr>\n",
       "    <tr>\n",
       "      <th>475</th>\n",
       "      <td>4</td>\n",
       "      <td>5</td>\n",
       "      <td>L</td>\n",
       "    </tr>\n",
       "    <tr>\n",
       "      <th>476</th>\n",
       "      <td>77</td>\n",
       "      <td>14</td>\n",
       "      <td>M</td>\n",
       "    </tr>\n",
       "    <tr>\n",
       "      <th>477</th>\n",
       "      <td>74</td>\n",
       "      <td>25</td>\n",
       "      <td>M</td>\n",
       "    </tr>\n",
       "    <tr>\n",
       "      <th>478</th>\n",
       "      <td>17</td>\n",
       "      <td>14</td>\n",
       "      <td>L</td>\n",
       "    </tr>\n",
       "    <tr>\n",
       "      <th>479</th>\n",
       "      <td>14</td>\n",
       "      <td>23</td>\n",
       "      <td>L</td>\n",
       "    </tr>\n",
       "  </tbody>\n",
       "</table>\n",
       "<p>480 rows × 3 columns</p>\n",
       "</div>"
      ],
      "text/plain": [
       "     VisitedResources  AnnouncementsView Class\n",
       "0                  16                  2     M\n",
       "1                  20                  3     M\n",
       "2                   7                  0     L\n",
       "3                  25                  5     L\n",
       "4                  50                 12     M\n",
       "..                ...                ...   ...\n",
       "475                 4                  5     L\n",
       "476                77                 14     M\n",
       "477                74                 25     M\n",
       "478                17                 14     L\n",
       "479                14                 23     L\n",
       "\n",
       "[480 rows x 3 columns]"
      ]
     },
     "execution_count": 53,
     "metadata": {},
     "output_type": "execute_result"
    }
   ],
   "source": [
    "q4_df = spd_df[[\"VisitedResources\", \"AnnouncementsView\", \"Class\"]].copy()\n",
    "q4_df"
   ]
  },
  {
   "cell_type": "code",
   "execution_count": 54,
   "metadata": {
    "cell_id": "00055-f98432cb-1cc3-4215-ad14-523bd528fc40",
    "colab": {
     "base_uri": "https://localhost:8080/"
    },
    "deepnote_cell_type": "code",
    "deepnote_to_be_reexecuted": false,
    "executionInfo": {
     "elapsed": 811,
     "status": "ok",
     "timestamp": 1620279452591,
     "user": {
      "displayName": "Angeline Maris Gubat",
      "photoUrl": "https://lh3.googleusercontent.com/a-/AOh14Gijg6xgX0R_IA4o8GkF1xnv3D8-8kHv8i-V48U6=s64",
      "userId": "00875153666701401808"
     },
     "user_tz": -480
    },
    "execution_millis": 39,
    "execution_start": 1622605916528,
    "id": "7PPlKpJaIoXJ",
    "outputId": "92b582f8-7a62-486e-a328-9696068b35a0",
    "source_hash": "e79fcd34"
   },
   "outputs": [
    {
     "data": {
      "application/vnd.deepnote.dataframe.v2+json": {
       "column_count": 2,
       "columns": [
        {
         "dtype": "object",
         "name": "Class",
         "stats": {
          "categories": [
           {
            "count": 1,
            "name": "H"
           },
           {
            "count": 1,
            "name": "L"
           },
           {
            "count": 1,
            "name": "M"
           }
          ],
          "nan_count": 0,
          "unique_count": 3
         }
        },
        {
         "dtype": "float64",
         "name": "VisitedResources",
         "stats": {
          "histogram": [
           {
            "bin_end": 24.365199068426307,
            "bin_start": 18.322834645669293,
            "count": 1
           },
           {
            "bin_end": 30.407563491183325,
            "bin_start": 24.365199068426307,
            "count": 0
           },
           {
            "bin_end": 36.44992791394034,
            "bin_start": 30.407563491183325,
            "count": 0
           },
           {
            "bin_end": 42.49229233669735,
            "bin_start": 36.44992791394034,
            "count": 0
           },
           {
            "bin_end": 48.534656759454364,
            "bin_start": 42.49229233669735,
            "count": 0
           },
           {
            "bin_end": 54.57702118221138,
            "bin_start": 48.534656759454364,
            "count": 0
           },
           {
            "bin_end": 60.6193856049684,
            "bin_start": 54.57702118221138,
            "count": 0
           },
           {
            "bin_end": 66.66175002772542,
            "bin_start": 60.6193856049684,
            "count": 1
           },
           {
            "bin_end": 72.70411445048244,
            "bin_start": 66.66175002772542,
            "count": 0
           },
           {
            "bin_end": 78.74647887323944,
            "bin_start": 72.70411445048244,
            "count": 1
           }
          ],
          "max": "78.74647887323944",
          "min": "18.322834645669293",
          "nan_count": 0,
          "unique_count": 3
         }
        },
        {
         "dtype": "int64",
         "name": "_deepnote_index_column"
        }
       ],
       "row_count": 3,
       "rows_bottom": null,
       "rows_top": [
        {
         "Class": "H",
         "VisitedResources": 78.74647887323944,
         "_deepnote_index_column": 0
        },
        {
         "Class": "L",
         "VisitedResources": 18.322834645669293,
         "_deepnote_index_column": 1
        },
        {
         "Class": "M",
         "VisitedResources": 60.63507109004739,
         "_deepnote_index_column": 2
        }
       ]
      },
      "text/html": [
       "<div>\n",
       "<style scoped>\n",
       "    .dataframe tbody tr th:only-of-type {\n",
       "        vertical-align: middle;\n",
       "    }\n",
       "\n",
       "    .dataframe tbody tr th {\n",
       "        vertical-align: top;\n",
       "    }\n",
       "\n",
       "    .dataframe thead th {\n",
       "        text-align: right;\n",
       "    }\n",
       "</style>\n",
       "<table border=\"1\" class=\"dataframe\">\n",
       "  <thead>\n",
       "    <tr style=\"text-align: right;\">\n",
       "      <th></th>\n",
       "      <th>Class</th>\n",
       "      <th>VisitedResources</th>\n",
       "    </tr>\n",
       "  </thead>\n",
       "  <tbody>\n",
       "    <tr>\n",
       "      <th>0</th>\n",
       "      <td>H</td>\n",
       "      <td>78.746479</td>\n",
       "    </tr>\n",
       "    <tr>\n",
       "      <th>1</th>\n",
       "      <td>L</td>\n",
       "      <td>18.322835</td>\n",
       "    </tr>\n",
       "    <tr>\n",
       "      <th>2</th>\n",
       "      <td>M</td>\n",
       "      <td>60.635071</td>\n",
       "    </tr>\n",
       "  </tbody>\n",
       "</table>\n",
       "</div>"
      ],
      "text/plain": [
       "  Class  VisitedResources\n",
       "0     H         78.746479\n",
       "1     L         18.322835\n",
       "2     M         60.635071"
      ]
     },
     "execution_count": 54,
     "metadata": {},
     "output_type": "execute_result"
    }
   ],
   "source": [
    "q4_mean = q4_df.groupby(\"Class\")[\"VisitedResources\"].mean().reset_index()\n",
    "q4_mean"
   ]
  },
  {
   "cell_type": "markdown",
   "metadata": {
    "cell_id": "00120-9a0cdad2-8fd9-4e79-8a93-1b1fad54a817",
    "deepnote_cell_type": "markdown",
    "tags": []
   },
   "source": [
    "The dataframe will be then used to visualize the mean values of `VisitedResources` per `Class`."
   ]
  },
  {
   "cell_type": "code",
   "execution_count": 55,
   "metadata": {
    "allow_embed": false,
    "cell_id": "00120-70367755-146f-4823-95f9-87ea2c89965b",
    "colab": {
     "base_uri": "https://localhost:8080/"
    },
    "deepnote_cell_type": "code",
    "deepnote_to_be_reexecuted": false,
    "executionInfo": {
     "elapsed": 811,
     "status": "ok",
     "timestamp": 1620279452591,
     "user": {
      "displayName": "Angeline Maris Gubat",
      "photoUrl": "https://lh3.googleusercontent.com/a-/AOh14Gijg6xgX0R_IA4o8GkF1xnv3D8-8kHv8i-V48U6=s64",
      "userId": "00875153666701401808"
     },
     "user_tz": -480
    },
    "execution_millis": 125,
    "execution_start": 1622605916568,
    "id": "7PPlKpJaIoXJ",
    "outputId": "92b582f8-7a62-486e-a328-9696068b35a0",
    "source_hash": "b771b72a"
   },
   "outputs": [
    {
     "data": {
      "text/plain": [
       "<AxesSubplot:xlabel='Class', ylabel='VisitedResources'>"
      ]
     },
     "execution_count": 55,
     "metadata": {},
     "output_type": "execute_result"
    },
    {
     "data": {
      "image/png": "[encoded data removed]",
      "text/plain": [
       "<Figure size 432x288 with 1 Axes>"
      ]
     },
     "metadata": {
      "image/png": {
       "height": 262,
       "width": 382
      },
      "needs_background": "light"
     },
     "output_type": "display_data"
    }
   ],
   "source": [
    "sns.barplot(x=\"Class\", y=\"VisitedResources\", order=[\"L\", \"M\", \"H\"], data=q4_mean)"
   ]
  },
  {
   "cell_type": "markdown",
   "metadata": {
    "cell_id": "00110-417b443f-f95c-4307-882f-e2259a1ef11c",
    "deepnote_cell_type": "markdown",
    "deepnote_to_be_reexecuted": false,
    "execution_millis": 6,
    "execution_start": 1621962998924,
    "source_hash": "faf3613b",
    "tags": []
   },
   "source": [
    "As seen from the mean values, the __High (H)__ class has the highest value when it comes to visiting course content, while the __Low (L)__ class having the lowest value. This shows that students who have high grades does visit class resources more often than students who get lower grades."
   ]
  },
  {
   "cell_type": "markdown",
   "metadata": {
    "cell_id": "00111-9174e2b6-8758-4fdf-b825-f9b172d5ecd3",
    "deepnote_cell_type": "markdown",
    "tags": []
   },
   "source": [
    "Now, let's further explore the answer for the question. Since `VisitedResources` is related to `AnnouncementsView`—in a way where an announcement can lead a student to visit a class resource. With this, let's visualize the relationship of `VisitedResources` and `AnnouncementsView` with respect to `Class` through a scatter plot."
   ]
  },
  {
   "cell_type": "code",
   "execution_count": 56,
   "metadata": {
    "cell_id": "00124-0ca3c4fc-939f-408a-b450-2351816dddc9",
    "deepnote_cell_type": "code",
    "deepnote_to_be_reexecuted": false,
    "execution_millis": 256,
    "execution_start": 1622605916701,
    "source_hash": "724ac179",
    "tags": []
   },
   "outputs": [
    {
     "data": {
      "text/plain": [
       "<AxesSubplot:xlabel='VisitedResources', ylabel='AnnouncementsView'>"
      ]
     },
     "execution_count": 56,
     "metadata": {},
     "output_type": "execute_result"
    },
    {
     "data": {
      "image/png": "[encoded data removed]",
      "text/plain": [
       "<Figure size 720x720 with 1 Axes>"
      ]
     },
     "metadata": {
      "image/png": {
       "height": 589,
       "width": 612
      },
      "needs_background": "light"
     },
     "output_type": "display_data"
    }
   ],
   "source": [
    "fig  = plt.subplots(figsize=(10,10))\n",
    "sns.scatterplot(x=q4_df.VisitedResources, y=q4_df.AnnouncementsView, hue=q4_df[\"Class\"], hue_order=['L','M','H'])"
   ]
  },
  {
   "cell_type": "markdown",
   "metadata": {
    "cell_id": "00126-d4930664-e0ba-4b87-a0d6-6acf39b7059c",
    "deepnote_cell_type": "markdown",
    "tags": []
   },
   "source": [
    "As seen on the scatter plot, students under the Low class tends to view announcements and visit class resources less often than those under the Medium and High class."
   ]
  },
  {
   "cell_type": "markdown",
   "metadata": {
    "cell_id": "00127-3ee9f680-710f-4da3-872b-d1134c0fbb8c",
    "deepnote_cell_type": "markdown",
    "tags": []
   },
   "source": [
    "The figures above have shown that majority of students with low grades visits class resources less frequently, whereas students with high grades visit class resources more often. With these, there's a high chance for a student to have a high grade when they diligently visit their class resources in contrast to those who do less frequently."
   ]
  },
  {
   "cell_type": "markdown",
   "metadata": {
    "cell_id": "00121-382a67fa-de3e-4b9e-b672-68a3b4be8fc3",
    "deepnote_cell_type": "markdown",
    "tags": []
   },
   "source": [
    "### Conclusion\n",
    "After performing data cleaning on the dataset and answering the four research questions through exploratory data analysis, the researchers conclude that:\n",
    "- Students who have high participation in relation to student activities reflect well in their academic performance and get higher grades in contrast to students who do not actively participate.\n",
    "- A parent's school participation and their satisfaction towards the school's system may influence their child's class grade of performance—which was furthered proved by using a chi-square test.\n",
    "- Absences of students greatly affect their class grades—which was furthered proved by using a chi-square test.\n",
    "- Students who visit class resources frequently tend to have higher grades than those students who visit the resources less often."
   ]
  },
  {
   "cell_type": "markdown",
   "metadata": {
    "created_in_deepnote_cell": true,
    "deepnote_cell_type": "markdown",
    "tags": []
   },
   "source": [
    "<a style='text-decoration:none;line-height:16px;display:flex;color:#5B5B62;padding:10px;justify-content:end;' href='https://deepnote.com?utm_source=created-in-deepnote-cell&projectId=e43fe2a7-e576-49d1-b96a-1dc3b3395062' target=\"_blank\">\n",
    "<img alt='Created in deepnote.com' style='display:inline;max-height:16px;margin:0px;margin-right:7.5px;' src='data:image/svg+xml;base64,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' > </img>\n",
    "Created in <span style='font-weight:600;margin-left:4px;'>Deepnote</span></a>"
   ]
  }
 ],
 "metadata": {
  "colab": {
   "collapsed_sections": [],
   "name": "DATASCI MCO.ipynb",
   "provenance": []
  },
  "deepnote": {
   "is_reactive": false
  },
  "deepnote_execution_queue": [],
  "deepnote_notebook_id": "b7323b58-eda0-4649-87fb-8ef410a43249",
  "kernelspec": {
   "display_name": "Python 3",
   "language": "python",
   "name": "python3"
  },
  "language_info": {
   "codemirror_mode": {
    "name": "ipython",
    "version": 3
   },
   "file_extension": ".py",
   "mimetype": "text/x-python",
   "name": "python",
   "nbconvert_exporter": "python",
   "pygments_lexer": "ipython3",
   "version": "3.7.6"
  }
 },
 "nbformat": 4,
 "nbformat_minor": 1
}
